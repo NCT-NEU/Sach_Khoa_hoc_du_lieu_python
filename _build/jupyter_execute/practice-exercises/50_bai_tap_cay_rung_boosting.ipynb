{
 "cells": [
  {
   "cell_type": "markdown",
   "id": "adea3cfe-c17e-4f68-bded-d9e07bc2a687",
   "metadata": {},
   "source": [
    "# Cây quyết định và tập hợp cây quyết định"
   ]
  },
  {
   "cell_type": "markdown",
   "id": "9d61a097",
   "metadata": {},
   "source": [
    "### Câu 1 - Decision Tree"
   ]
  },
  {
   "cell_type": "markdown",
   "id": "a54aaf96",
   "metadata": {},
   "source": [
    "Huấn luyện mô hình cây quyết định phân loại trên dữ liệu Iris."
   ]
  },
  {
   "cell_type": "code",
   "execution_count": null,
   "id": "5cf0bfe5",
   "metadata": {},
   "outputs": [],
   "source": [
    "# Câu trả lời ở đây"
   ]
  },
  {
   "cell_type": "markdown",
   "id": "daa20302",
   "metadata": {},
   "source": [
    "### Câu 2 - Decision Tree"
   ]
  },
  {
   "cell_type": "markdown",
   "id": "e52c79e2",
   "metadata": {},
   "source": [
    "Vẽ cây quyết định cho bài toán phân loại Iris."
   ]
  },
  {
   "cell_type": "code",
   "execution_count": null,
   "id": "7fc548fd",
   "metadata": {},
   "outputs": [],
   "source": [
    "# Câu trả lời ở đây"
   ]
  },
  {
   "cell_type": "markdown",
   "id": "4e413e6d",
   "metadata": {},
   "source": [
    "### Câu 3 - Decision Tree"
   ]
  },
  {
   "cell_type": "markdown",
   "id": "8aa756ef",
   "metadata": {},
   "source": [
    "Tính độ chính xác của mô hình cây trên tập kiểm tra."
   ]
  },
  {
   "cell_type": "code",
   "execution_count": null,
   "id": "408e3c47",
   "metadata": {},
   "outputs": [],
   "source": [
    "# Câu trả lời ở đây"
   ]
  },
  {
   "cell_type": "markdown",
   "id": "9cdd5f1e",
   "metadata": {},
   "source": [
    "### Câu 4 - Decision Tree"
   ]
  },
  {
   "cell_type": "markdown",
   "id": "a694158e",
   "metadata": {},
   "source": [
    "Hiển thị ma trận nhầm lẫn và classification report trên tập kiểm tra."
   ]
  },
  {
   "cell_type": "code",
   "execution_count": null,
   "id": "eec503e6",
   "metadata": {},
   "outputs": [],
   "source": [
    "# Câu trả lời ở đây"
   ]
  },
  {
   "cell_type": "markdown",
   "id": "ae383f08",
   "metadata": {},
   "source": [
    "### Câu 5 - Decision Tree"
   ]
  },
  {
   "cell_type": "markdown",
   "id": "b71684de",
   "metadata": {},
   "source": [
    "Tính feature importance của mô hình cây và biểu diễn bằng barplot."
   ]
  },
  {
   "cell_type": "code",
   "execution_count": null,
   "id": "870b698c",
   "metadata": {},
   "outputs": [],
   "source": [
    "# Câu trả lời ở đây"
   ]
  },
  {
   "cell_type": "markdown",
   "id": "2f84218e",
   "metadata": {},
   "source": [
    "### Câu 6 - Decision Tree"
   ]
  },
  {
   "cell_type": "markdown",
   "id": "6b23693f",
   "metadata": {},
   "source": [
    "Tạo mô hình cây phân loại với độ sâu tối đa = 3 và so sánh kết quả."
   ]
  },
  {
   "cell_type": "code",
   "execution_count": null,
   "id": "cb529bf4",
   "metadata": {},
   "outputs": [],
   "source": [
    "# Câu trả lời ở đây"
   ]
  },
  {
   "cell_type": "markdown",
   "id": "4f6267d8",
   "metadata": {},
   "source": [
    "### Câu 7 - Decision Tree"
   ]
  },
  {
   "cell_type": "markdown",
   "id": "ec3d14b2",
   "metadata": {},
   "source": [
    "So sánh hiệu suất mô hình với và không giới hạn độ sâu."
   ]
  },
  {
   "cell_type": "code",
   "execution_count": null,
   "id": "081ec1e3",
   "metadata": {},
   "outputs": [],
   "source": [
    "# Câu trả lời ở đây"
   ]
  },
  {
   "cell_type": "markdown",
   "id": "bcb60fbd",
   "metadata": {},
   "source": [
    "### Câu 8 - Decision Tree"
   ]
  },
  {
   "cell_type": "markdown",
   "id": "db56b6d4",
   "metadata": {},
   "source": [
    "Huấn luyện cây hồi quy để dự đoán giá nhà (Boston Housing)."
   ]
  },
  {
   "cell_type": "code",
   "execution_count": null,
   "id": "a42b27f5",
   "metadata": {},
   "outputs": [],
   "source": [
    "# Câu trả lời ở đây"
   ]
  },
  {
   "cell_type": "markdown",
   "id": "8b608d87",
   "metadata": {},
   "source": [
    "### Câu 9 - Decision Tree"
   ]
  },
  {
   "cell_type": "markdown",
   "id": "6f493ab0",
   "metadata": {},
   "source": [
    "Tính RMSE và R-squared của mô hình cây hồi quy."
   ]
  },
  {
   "cell_type": "code",
   "execution_count": null,
   "id": "747cabaa",
   "metadata": {},
   "outputs": [],
   "source": [
    "# Câu trả lời ở đây"
   ]
  },
  {
   "cell_type": "markdown",
   "id": "e16cd93d",
   "metadata": {},
   "source": [
    "### Câu 10 - Decision Tree"
   ]
  },
  {
   "cell_type": "markdown",
   "id": "c27ab72a",
   "metadata": {},
   "source": [
    "Vẽ đồ thị residual giữa giá nhà thực và giá dự đoán từ mô hình cây."
   ]
  },
  {
   "cell_type": "code",
   "execution_count": null,
   "id": "18b78742",
   "metadata": {},
   "outputs": [],
   "source": [
    "# Câu trả lời ở đây"
   ]
  },
  {
   "cell_type": "markdown",
   "id": "50d26690",
   "metadata": {},
   "source": [
    "### Câu 11 - Random Forest"
   ]
  },
  {
   "cell_type": "markdown",
   "id": "36ef88eb",
   "metadata": {},
   "source": [
    "Huấn luyện mô hình Random Forest để phân loại dữ liệu Iris."
   ]
  },
  {
   "cell_type": "code",
   "execution_count": null,
   "id": "c8882439",
   "metadata": {},
   "outputs": [],
   "source": [
    "# Câu trả lời ở đây"
   ]
  },
  {
   "cell_type": "markdown",
   "id": "d7cfdebf",
   "metadata": {},
   "source": [
    "### Câu 12 - Random Forest"
   ]
  },
  {
   "cell_type": "markdown",
   "id": "d5de99da",
   "metadata": {},
   "source": [
    "Tính độ chính xác và biểu diễn feature importance của Random Forest."
   ]
  },
  {
   "cell_type": "code",
   "execution_count": null,
   "id": "ff9ec9f3",
   "metadata": {},
   "outputs": [],
   "source": [
    "# Câu trả lời ở đây"
   ]
  },
  {
   "cell_type": "markdown",
   "id": "eec41878",
   "metadata": {},
   "source": [
    "### Câu 13 - Random Forest"
   ]
  },
  {
   "cell_type": "markdown",
   "id": "d321ab70",
   "metadata": {},
   "source": [
    "So sánh hiệu suất giữa cây quyết định và Random Forest trên dữ liệu Iris."
   ]
  },
  {
   "cell_type": "code",
   "execution_count": null,
   "id": "133603a0",
   "metadata": {},
   "outputs": [],
   "source": [
    "# Câu trả lời ở đây"
   ]
  },
  {
   "cell_type": "markdown",
   "id": "74668846",
   "metadata": {},
   "source": [
    "### Câu 14 - Random Forest"
   ]
  },
  {
   "cell_type": "markdown",
   "id": "76918dd9",
   "metadata": {},
   "source": [
    "Huấn luyện mô hình Random Forest hồi quy trên dữ liệu Boston Housing."
   ]
  },
  {
   "cell_type": "code",
   "execution_count": null,
   "id": "3e6ea8c1",
   "metadata": {},
   "outputs": [],
   "source": [
    "# Câu trả lời ở đây"
   ]
  },
  {
   "cell_type": "markdown",
   "id": "5d2626bf",
   "metadata": {},
   "source": [
    "### Câu 15 - Random Forest"
   ]
  },
  {
   "cell_type": "markdown",
   "id": "bb256d6d",
   "metadata": {},
   "source": [
    "Tính MAE, RMSE và R-squared của mô hình hồi quy rừng ngẫu nhiên."
   ]
  },
  {
   "cell_type": "code",
   "execution_count": null,
   "id": "3ac760a5",
   "metadata": {},
   "outputs": [],
   "source": [
    "# Câu trả lời ở đây"
   ]
  },
  {
   "cell_type": "markdown",
   "id": "ed495e0b",
   "metadata": {},
   "source": [
    "### Câu 16 - Random Forest"
   ]
  },
  {
   "cell_type": "markdown",
   "id": "1d7b4653",
   "metadata": {},
   "source": [
    "Sử dụng RandomizedSearchCV để chọn tham số tối ưu cho Random Forest."
   ]
  },
  {
   "cell_type": "code",
   "execution_count": null,
   "id": "110274dc",
   "metadata": {},
   "outputs": [],
   "source": [
    "# Câu trả lời ở đây"
   ]
  },
  {
   "cell_type": "markdown",
   "id": "570019a2",
   "metadata": {},
   "source": [
    "### Câu 17 - Random Forest"
   ]
  },
  {
   "cell_type": "markdown",
   "id": "bd703208",
   "metadata": {},
   "source": [
    "Huấn luyện Random Forest phân loại trên dữ liệu ung thư Wisconsin."
   ]
  },
  {
   "cell_type": "code",
   "execution_count": null,
   "id": "71c15a4e",
   "metadata": {},
   "outputs": [],
   "source": [
    "# Câu trả lời ở đây"
   ]
  },
  {
   "cell_type": "markdown",
   "id": "9dc7ebbe",
   "metadata": {},
   "source": [
    "### Câu 18 - Random Forest"
   ]
  },
  {
   "cell_type": "markdown",
   "id": "d0592806",
   "metadata": {},
   "source": [
    "Hiển thị classification report cho mô hình Random Forest trên tập kiểm tra."
   ]
  },
  {
   "cell_type": "code",
   "execution_count": null,
   "id": "c23a2194",
   "metadata": {},
   "outputs": [],
   "source": [
    "# Câu trả lời ở đây"
   ]
  },
  {
   "cell_type": "markdown",
   "id": "264157d1",
   "metadata": {},
   "source": [
    "### Câu 19 - Random Forest"
   ]
  },
  {
   "cell_type": "markdown",
   "id": "69d45057",
   "metadata": {},
   "source": [
    "So sánh feature importance giữa mô hình cây và rừng."
   ]
  },
  {
   "cell_type": "code",
   "execution_count": null,
   "id": "a828c44a",
   "metadata": {},
   "outputs": [],
   "source": [
    "# Câu trả lời ở đây"
   ]
  },
  {
   "cell_type": "markdown",
   "id": "b2772410",
   "metadata": {},
   "source": [
    "### Câu 20 - Random Forest"
   ]
  },
  {
   "cell_type": "markdown",
   "id": "c755b254",
   "metadata": {},
   "source": [
    "Tạo biểu đồ line giữa số lượng cây (n_estimators) và độ chính xác mô hình."
   ]
  },
  {
   "cell_type": "code",
   "execution_count": null,
   "id": "ded1604b",
   "metadata": {},
   "outputs": [],
   "source": [
    "# Câu trả lời ở đây"
   ]
  },
  {
   "cell_type": "markdown",
   "id": "679ba646",
   "metadata": {},
   "source": [
    "### Câu 21 - Gradient Boosting"
   ]
  },
  {
   "cell_type": "markdown",
   "id": "f23a0989",
   "metadata": {},
   "source": [
    "Huấn luyện mô hình Gradient Boosting phân loại trên dữ liệu Iris."
   ]
  },
  {
   "cell_type": "code",
   "execution_count": null,
   "id": "5e89dc91",
   "metadata": {},
   "outputs": [],
   "source": [
    "# Câu trả lời ở đây"
   ]
  },
  {
   "cell_type": "markdown",
   "id": "f72c793f",
   "metadata": {},
   "source": [
    "### Câu 22 - Gradient Boosting"
   ]
  },
  {
   "cell_type": "markdown",
   "id": "8607bac2",
   "metadata": {},
   "source": [
    "Huấn luyện mô hình Gradient Boosting hồi quy trên Boston Housing."
   ]
  },
  {
   "cell_type": "code",
   "execution_count": null,
   "id": "0b01cd4a",
   "metadata": {},
   "outputs": [],
   "source": [
    "# Câu trả lời ở đây"
   ]
  },
  {
   "cell_type": "markdown",
   "id": "30a11273",
   "metadata": {},
   "source": [
    "### Câu 23 - Gradient Boosting"
   ]
  },
  {
   "cell_type": "markdown",
   "id": "deb6eaa8",
   "metadata": {},
   "source": [
    "Tính độ chính xác và so sánh với Random Forest trên Iris."
   ]
  },
  {
   "cell_type": "code",
   "execution_count": null,
   "id": "8a87109d",
   "metadata": {},
   "outputs": [],
   "source": [
    "# Câu trả lời ở đây"
   ]
  },
  {
   "cell_type": "markdown",
   "id": "e9462f6f",
   "metadata": {},
   "source": [
    "### Câu 24 - Gradient Boosting"
   ]
  },
  {
   "cell_type": "markdown",
   "id": "4b96bf2d",
   "metadata": {},
   "source": [
    "Tính R-squared và RMSE của mô hình Gradient Boosting trên Boston."
   ]
  },
  {
   "cell_type": "code",
   "execution_count": null,
   "id": "da723a01",
   "metadata": {},
   "outputs": [],
   "source": [
    "# Câu trả lời ở đây"
   ]
  },
  {
   "cell_type": "markdown",
   "id": "a4469f84",
   "metadata": {},
   "source": [
    "### Câu 25 - Gradient Boosting"
   ]
  },
  {
   "cell_type": "markdown",
   "id": "677d7729",
   "metadata": {},
   "source": [
    "Sử dụng GridSearchCV để tối ưu tham số GradientBoostingClassifier."
   ]
  },
  {
   "cell_type": "code",
   "execution_count": null,
   "id": "cbf8a71f",
   "metadata": {},
   "outputs": [],
   "source": [
    "# Câu trả lời ở đây"
   ]
  },
  {
   "cell_type": "markdown",
   "id": "0c55ec4e",
   "metadata": {},
   "source": [
    "### Câu 26 - Gradient Boosting"
   ]
  },
  {
   "cell_type": "markdown",
   "id": "fd22aa19",
   "metadata": {},
   "source": [
    "So sánh hiệu suất Gradient Boosting và Random Forest trên dữ liệu ung thư."
   ]
  },
  {
   "cell_type": "code",
   "execution_count": null,
   "id": "f002a2d9",
   "metadata": {},
   "outputs": [],
   "source": [
    "# Câu trả lời ở đây"
   ]
  },
  {
   "cell_type": "markdown",
   "id": "f44d2b0f",
   "metadata": {},
   "source": [
    "### Câu 27 - Gradient Boosting"
   ]
  },
  {
   "cell_type": "markdown",
   "id": "9d6a5e06",
   "metadata": {},
   "source": [
    "Tạo biểu đồ bar thể hiện feature importance của Gradient Boosting trên Boston."
   ]
  },
  {
   "cell_type": "code",
   "execution_count": null,
   "id": "80c46647",
   "metadata": {},
   "outputs": [],
   "source": [
    "# Câu trả lời ở đây"
   ]
  },
  {
   "cell_type": "markdown",
   "id": "5d4df528",
   "metadata": {},
   "source": [
    "### Câu 28 - Gradient Boosting"
   ]
  },
  {
   "cell_type": "markdown",
   "id": "3cfad4a4",
   "metadata": {},
   "source": [
    "Tạo pipeline gồm chuẩn hóa + Gradient Boosting và đánh giá cross-validation."
   ]
  },
  {
   "cell_type": "code",
   "execution_count": null,
   "id": "cee13cbd",
   "metadata": {},
   "outputs": [],
   "source": [
    "# Câu trả lời ở đây"
   ]
  },
  {
   "cell_type": "markdown",
   "id": "0b66a40e",
   "metadata": {},
   "source": [
    "### Câu 29 - Gradient Boosting"
   ]
  },
  {
   "cell_type": "markdown",
   "id": "6a78024d",
   "metadata": {},
   "source": [
    "So sánh thời gian huấn luyện giữa Random Forest và Gradient Boosting trên cùng tập dữ liệu."
   ]
  },
  {
   "cell_type": "code",
   "execution_count": null,
   "id": "293a442e",
   "metadata": {},
   "outputs": [],
   "source": [
    "# Câu trả lời ở đây"
   ]
  },
  {
   "cell_type": "markdown",
   "id": "368326dd",
   "metadata": {},
   "source": [
    "### Câu 30 - Gradient Boosting"
   ]
  },
  {
   "cell_type": "markdown",
   "id": "338d8194",
   "metadata": {},
   "source": [
    "Huấn luyện mô hình XGBoost và so sánh với GradientBoostingClassifier."
   ]
  },
  {
   "cell_type": "code",
   "execution_count": null,
   "id": "1cb888c8",
   "metadata": {},
   "outputs": [],
   "source": [
    "# Câu trả lời ở đây"
   ]
  }
 ],
 "metadata": {
  "kernelspec": {
   "display_name": "Python 3 (ipykernel)",
   "language": "python",
   "name": "python3"
  },
  "language_info": {
   "codemirror_mode": {
    "name": "ipython",
    "version": 3
   },
   "file_extension": ".py",
   "mimetype": "text/x-python",
   "name": "python",
   "nbconvert_exporter": "python",
   "pygments_lexer": "ipython3",
   "version": "3.13.2"
  }
 },
 "nbformat": 4,
 "nbformat_minor": 5
}