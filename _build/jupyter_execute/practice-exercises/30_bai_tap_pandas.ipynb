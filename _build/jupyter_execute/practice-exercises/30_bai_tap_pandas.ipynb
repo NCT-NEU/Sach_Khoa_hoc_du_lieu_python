{
 "cells": [
  {
   "cell_type": "markdown",
   "id": "7e474ac0-e3b0-46b4-9782-4ed7f0a7d9b7",
   "metadata": {},
   "source": [
    "# Bài tập trực quan hóa dữ liệu"
   ]
  },
  {
   "cell_type": "markdown",
   "id": "dee9e3ec",
   "metadata": {},
   "source": [
    "### Câu 1 - Dữ liệu Iris"
   ]
  },
  {
   "cell_type": "markdown",
   "id": "76c256f3",
   "metadata": {},
   "source": [
    "Tải dữ liệu iris từ sklearn và hiển thị 5 dòng đầu tiên."
   ]
  },
  {
   "cell_type": "code",
   "execution_count": null,
   "id": "dfb0a8f6",
   "metadata": {},
   "outputs": [],
   "source": [
    "# Câu trả lời ở đây"
   ]
  },
  {
   "cell_type": "markdown",
   "id": "f62bfbab",
   "metadata": {},
   "source": [
    "### Câu 2 - Dữ liệu Iris"
   ]
  },
  {
   "cell_type": "markdown",
   "id": "d543171d",
   "metadata": {},
   "source": [
    "Hiển thị thông tin tổng quan (info) và thống kê mô tả (describe) của dữ liệu iris."
   ]
  },
  {
   "cell_type": "code",
   "execution_count": null,
   "id": "6bbbac7d",
   "metadata": {},
   "outputs": [],
   "source": [
    "# Câu trả lời ở đây"
   ]
  },
  {
   "cell_type": "markdown",
   "id": "baf306a4",
   "metadata": {},
   "source": [
    "### Câu 3 - Dữ liệu Iris"
   ]
  },
  {
   "cell_type": "markdown",
   "id": "c29b1029",
   "metadata": {},
   "source": [
    "Đếm số lượng mẫu theo từng loại hoa."
   ]
  },
  {
   "cell_type": "code",
   "execution_count": null,
   "id": "662ad1bb",
   "metadata": {},
   "outputs": [],
   "source": [
    "# Câu trả lời ở đây"
   ]
  },
  {
   "cell_type": "markdown",
   "id": "9d4eb725",
   "metadata": {},
   "source": [
    "### Câu 4 - Dữ liệu Iris"
   ]
  },
  {
   "cell_type": "markdown",
   "id": "5ace8f88",
   "metadata": {},
   "source": [
    "Tính giá trị trung bình của từng đặc trưng theo từng loài hoa."
   ]
  },
  {
   "cell_type": "code",
   "execution_count": null,
   "id": "5062f3cd",
   "metadata": {},
   "outputs": [],
   "source": [
    "# Câu trả lời ở đây"
   ]
  },
  {
   "cell_type": "markdown",
   "id": "c3e5a91c",
   "metadata": {},
   "source": [
    "### Câu 5 - Dữ liệu Iris"
   ]
  },
  {
   "cell_type": "markdown",
   "id": "ae959590",
   "metadata": {},
   "source": [
    "Vẽ biểu đồ boxplot cho chiều dài và chiều rộng cánh hoa."
   ]
  },
  {
   "cell_type": "code",
   "execution_count": null,
   "id": "2a005459",
   "metadata": {},
   "outputs": [],
   "source": [
    "# Câu trả lời ở đây"
   ]
  },
  {
   "cell_type": "markdown",
   "id": "f4d3911f",
   "metadata": {},
   "source": [
    "### Câu 6 - Dữ liệu Iris"
   ]
  },
  {
   "cell_type": "markdown",
   "id": "37eff84b",
   "metadata": {},
   "source": [
    "Tính tương quan giữa các đặc trưng trong bộ dữ liệu iris."
   ]
  },
  {
   "cell_type": "code",
   "execution_count": null,
   "id": "a6a324f9",
   "metadata": {},
   "outputs": [],
   "source": [
    "# Câu trả lời ở đây"
   ]
  },
  {
   "cell_type": "markdown",
   "id": "c9eb06f0",
   "metadata": {},
   "source": [
    "### Câu 7 - Dữ liệu Iris"
   ]
  },
  {
   "cell_type": "markdown",
   "id": "dee374b7",
   "metadata": {},
   "source": [
    "Lọc ra các mẫu có chiều dài cánh hoa lớn hơn 5.0."
   ]
  },
  {
   "cell_type": "code",
   "execution_count": null,
   "id": "210001e3",
   "metadata": {},
   "outputs": [],
   "source": [
    "# Câu trả lời ở đây"
   ]
  },
  {
   "cell_type": "markdown",
   "id": "4bc4806f",
   "metadata": {},
   "source": [
    "### Câu 8 - Dữ liệu Iris"
   ]
  },
  {
   "cell_type": "markdown",
   "id": "71178dcd",
   "metadata": {},
   "source": [
    "Tạo một cột mới tên là 'petal_ratio' = petal length / petal width."
   ]
  },
  {
   "cell_type": "code",
   "execution_count": null,
   "id": "501c1a85",
   "metadata": {},
   "outputs": [],
   "source": [
    "# Câu trả lời ở đây"
   ]
  },
  {
   "cell_type": "markdown",
   "id": "ae16173c",
   "metadata": {},
   "source": [
    "### Câu 9 - Dữ liệu Iris"
   ]
  },
  {
   "cell_type": "markdown",
   "id": "77e125d8",
   "metadata": {},
   "source": [
    "Sắp xếp các mẫu theo chiều dài đài hoa giảm dần."
   ]
  },
  {
   "cell_type": "code",
   "execution_count": null,
   "id": "f5e5aac0",
   "metadata": {},
   "outputs": [],
   "source": [
    "# Câu trả lời ở đây"
   ]
  },
  {
   "cell_type": "markdown",
   "id": "996df2cb",
   "metadata": {},
   "source": [
    "### Câu 10 - Dữ liệu Iris"
   ]
  },
  {
   "cell_type": "markdown",
   "id": "44f38f45",
   "metadata": {},
   "source": [
    "Tìm mẫu có chiều rộng cánh hoa lớn nhất trong từng loài."
   ]
  },
  {
   "cell_type": "code",
   "execution_count": null,
   "id": "ecbb6388",
   "metadata": {},
   "outputs": [],
   "source": [
    "# Câu trả lời ở đây"
   ]
  },
  {
   "cell_type": "markdown",
   "id": "6f11d0f6",
   "metadata": {},
   "source": [
    "### Câu 11 - Dữ liệu Boston Housing"
   ]
  },
  {
   "cell_type": "markdown",
   "id": "00b3e1d8",
   "metadata": {},
   "source": [
    "Tải dữ liệu giá nhà Boston từ sklearn và chuyển thành DataFrame."
   ]
  },
  {
   "cell_type": "code",
   "execution_count": null,
   "id": "4950b660",
   "metadata": {},
   "outputs": [],
   "source": [
    "# Câu trả lời ở đây"
   ]
  },
  {
   "cell_type": "markdown",
   "id": "474be741",
   "metadata": {},
   "source": [
    "### Câu 12 - Dữ liệu Boston Housing"
   ]
  },
  {
   "cell_type": "markdown",
   "id": "19ca88fc",
   "metadata": {},
   "source": [
    "Hiển thị 5 dòng đầu tiên và các cột của dữ liệu Boston."
   ]
  },
  {
   "cell_type": "code",
   "execution_count": null,
   "id": "4da063c0",
   "metadata": {},
   "outputs": [],
   "source": [
    "# Câu trả lời ở đây"
   ]
  },
  {
   "cell_type": "markdown",
   "id": "4f3df938",
   "metadata": {},
   "source": [
    "### Câu 13 - Dữ liệu Boston Housing"
   ]
  },
  {
   "cell_type": "markdown",
   "id": "56f3946f",
   "metadata": {},
   "source": [
    "Tính trung bình giá nhà (MEDV)."
   ]
  },
  {
   "cell_type": "code",
   "execution_count": null,
   "id": "dd6d6db9",
   "metadata": {},
   "outputs": [],
   "source": [
    "# Câu trả lời ở đây"
   ]
  },
  {
   "cell_type": "markdown",
   "id": "e1cd763c",
   "metadata": {},
   "source": [
    "### Câu 14 - Dữ liệu Boston Housing"
   ]
  },
  {
   "cell_type": "markdown",
   "id": "81716de6",
   "metadata": {},
   "source": [
    "Vẽ histogram cho biến giá nhà (MEDV)."
   ]
  },
  {
   "cell_type": "code",
   "execution_count": null,
   "id": "11349c2b",
   "metadata": {},
   "outputs": [],
   "source": [
    "# Câu trả lời ở đây"
   ]
  },
  {
   "cell_type": "markdown",
   "id": "6960b1ca",
   "metadata": {},
   "source": [
    "### Câu 15 - Dữ liệu Boston Housing"
   ]
  },
  {
   "cell_type": "markdown",
   "id": "e46c914a",
   "metadata": {},
   "source": [
    "Tính hệ số tương quan giữa các biến, vẽ heatmap."
   ]
  },
  {
   "cell_type": "code",
   "execution_count": null,
   "id": "4a061fc8",
   "metadata": {},
   "outputs": [],
   "source": [
    "# Câu trả lời ở đây"
   ]
  },
  {
   "cell_type": "markdown",
   "id": "249efe70",
   "metadata": {},
   "source": [
    "### Câu 16 - Dữ liệu Boston Housing"
   ]
  },
  {
   "cell_type": "markdown",
   "id": "2adf5964",
   "metadata": {},
   "source": [
    "Tìm 5 khu vực có giá nhà cao nhất."
   ]
  },
  {
   "cell_type": "code",
   "execution_count": null,
   "id": "a23a6bb7",
   "metadata": {},
   "outputs": [],
   "source": [
    "# Câu trả lời ở đây"
   ]
  },
  {
   "cell_type": "markdown",
   "id": "d543e86a",
   "metadata": {},
   "source": [
    "### Câu 17 - Dữ liệu Boston Housing"
   ]
  },
  {
   "cell_type": "markdown",
   "id": "57470335",
   "metadata": {},
   "source": [
    "Tính trung bình giá nhà theo mức độ tỷ lệ nghèo (LOW, MEDIUM, HIGH)."
   ]
  },
  {
   "cell_type": "code",
   "execution_count": null,
   "id": "84118df5",
   "metadata": {},
   "outputs": [],
   "source": [
    "# Câu trả lời ở đây"
   ]
  },
  {
   "cell_type": "markdown",
   "id": "84781076",
   "metadata": {},
   "source": [
    "### Câu 18 - Dữ liệu Boston Housing"
   ]
  },
  {
   "cell_type": "markdown",
   "id": "7c0c0c86",
   "metadata": {},
   "source": [
    "Chuẩn hóa các biến đầu vào (trừ cột MEDV)."
   ]
  },
  {
   "cell_type": "code",
   "execution_count": null,
   "id": "e593faff",
   "metadata": {},
   "outputs": [],
   "source": [
    "# Câu trả lời ở đây"
   ]
  },
  {
   "cell_type": "markdown",
   "id": "3928be56",
   "metadata": {},
   "source": [
    "### Câu 19 - Dữ liệu Boston Housing"
   ]
  },
  {
   "cell_type": "markdown",
   "id": "1864f20e",
   "metadata": {},
   "source": [
    "Tính trung bình số phòng (RM) của các khu có giá nhà > 40."
   ]
  },
  {
   "cell_type": "code",
   "execution_count": null,
   "id": "1d37c9aa",
   "metadata": {},
   "outputs": [],
   "source": [
    "# Câu trả lời ở đây"
   ]
  },
  {
   "cell_type": "markdown",
   "id": "897b6382",
   "metadata": {},
   "source": [
    "### Câu 20 - Dữ liệu Boston Housing"
   ]
  },
  {
   "cell_type": "markdown",
   "id": "968637a8",
   "metadata": {},
   "source": [
    "Vẽ biểu đồ scatter giữa số phòng (RM) và giá nhà (MEDV)."
   ]
  },
  {
   "cell_type": "code",
   "execution_count": null,
   "id": "6b594552",
   "metadata": {},
   "outputs": [],
   "source": [
    "# Câu trả lời ở đây"
   ]
  },
  {
   "cell_type": "markdown",
   "id": "8155a883",
   "metadata": {},
   "source": [
    "### Câu 21 - Dữ liệu Ung thư Wisconsin"
   ]
  },
  {
   "cell_type": "markdown",
   "id": "009f59d8",
   "metadata": {},
   "source": [
    "Tải dữ liệu ung thư từ sklearn và chuyển thành DataFrame."
   ]
  },
  {
   "cell_type": "code",
   "execution_count": null,
   "id": "61e5c959",
   "metadata": {},
   "outputs": [],
   "source": [
    "# Câu trả lời ở đây"
   ]
  },
  {
   "cell_type": "markdown",
   "id": "bc482c8c",
   "metadata": {},
   "source": [
    "### Câu 22 - Dữ liệu Ung thư Wisconsin"
   ]
  },
  {
   "cell_type": "markdown",
   "id": "25e828c3",
   "metadata": {},
   "source": [
    "Hiển thị số mẫu thuộc mỗi loại chẩn đoán (benign/malignant)."
   ]
  },
  {
   "cell_type": "code",
   "execution_count": null,
   "id": "a9d5f442",
   "metadata": {},
   "outputs": [],
   "source": [
    "# Câu trả lời ở đây"
   ]
  },
  {
   "cell_type": "markdown",
   "id": "5ad781aa",
   "metadata": {},
   "source": [
    "### Câu 23 - Dữ liệu Ung thư Wisconsin"
   ]
  },
  {
   "cell_type": "markdown",
   "id": "d8f6adb4",
   "metadata": {},
   "source": [
    "Tính giá trị trung bình của các đặc trưng chia theo loại chẩn đoán."
   ]
  },
  {
   "cell_type": "code",
   "execution_count": null,
   "id": "1d43fd31",
   "metadata": {},
   "outputs": [],
   "source": [
    "# Câu trả lời ở đây"
   ]
  },
  {
   "cell_type": "markdown",
   "id": "cf831b49",
   "metadata": {},
   "source": [
    "### Câu 24 - Dữ liệu Ung thư Wisconsin"
   ]
  },
  {
   "cell_type": "markdown",
   "id": "21987440",
   "metadata": {},
   "source": [
    "Vẽ biểu đồ boxplot của 'mean radius' theo loại chẩn đoán."
   ]
  },
  {
   "cell_type": "code",
   "execution_count": null,
   "id": "ce05a0a1",
   "metadata": {},
   "outputs": [],
   "source": [
    "# Câu trả lời ở đây"
   ]
  },
  {
   "cell_type": "markdown",
   "id": "ea12c268",
   "metadata": {},
   "source": [
    "### Câu 25 - Dữ liệu Ung thư Wisconsin"
   ]
  },
  {
   "cell_type": "markdown",
   "id": "1433c0c5",
   "metadata": {},
   "source": [
    "Tìm 5 mẫu có giá trị 'mean area' cao nhất."
   ]
  },
  {
   "cell_type": "code",
   "execution_count": null,
   "id": "a12b2bbb",
   "metadata": {},
   "outputs": [],
   "source": [
    "# Câu trả lời ở đây"
   ]
  },
  {
   "cell_type": "markdown",
   "id": "0dae7175",
   "metadata": {},
   "source": [
    "### Câu 26 - Dữ liệu Ung thư Wisconsin"
   ]
  },
  {
   "cell_type": "markdown",
   "id": "3e835def",
   "metadata": {},
   "source": [
    "Tính tương quan giữa các đặc trưng và 'mean radius'."
   ]
  },
  {
   "cell_type": "code",
   "execution_count": null,
   "id": "31261d51",
   "metadata": {},
   "outputs": [],
   "source": [
    "# Câu trả lời ở đây"
   ]
  },
  {
   "cell_type": "markdown",
   "id": "a2124bf5",
   "metadata": {},
   "source": [
    "### Câu 27 - Dữ liệu Ung thư Wisconsin"
   ]
  },
  {
   "cell_type": "markdown",
   "id": "48f21d06",
   "metadata": {},
   "source": [
    "Tạo cột mới 'area_ratio' = mean area / mean smoothness."
   ]
  },
  {
   "cell_type": "code",
   "execution_count": null,
   "id": "3945f7bb",
   "metadata": {},
   "outputs": [],
   "source": [
    "# Câu trả lời ở đây"
   ]
  },
  {
   "cell_type": "markdown",
   "id": "9a7db7a5",
   "metadata": {},
   "source": [
    "### Câu 28 - Dữ liệu Ung thư Wisconsin"
   ]
  },
  {
   "cell_type": "markdown",
   "id": "430d0c66",
   "metadata": {},
   "source": [
    "Lọc ra các mẫu có 'mean texture' > 20 và 'mean compactness' < 0.1."
   ]
  },
  {
   "cell_type": "code",
   "execution_count": null,
   "id": "ee7e53dc",
   "metadata": {},
   "outputs": [],
   "source": [
    "# Câu trả lời ở đây"
   ]
  },
  {
   "cell_type": "markdown",
   "id": "bb22d8e8",
   "metadata": {},
   "source": [
    "### Câu 29 - Dữ liệu Ung thư Wisconsin"
   ]
  },
  {
   "cell_type": "markdown",
   "id": "8bf65848",
   "metadata": {},
   "source": [
    "Chuẩn hóa tất cả các biến (trừ cột chẩn đoán)."
   ]
  },
  {
   "cell_type": "code",
   "execution_count": null,
   "id": "e1ec1c69",
   "metadata": {},
   "outputs": [],
   "source": [
    "# Câu trả lời ở đây"
   ]
  },
  {
   "cell_type": "markdown",
   "id": "919f957d",
   "metadata": {},
   "source": [
    "### Câu 30 - Dữ liệu Ung thư Wisconsin"
   ]
  },
  {
   "cell_type": "markdown",
   "id": "25678167",
   "metadata": {},
   "source": [
    "Vẽ biểu đồ phân bố của 'mean perimeter' với seaborn kdeplot."
   ]
  },
  {
   "cell_type": "code",
   "execution_count": null,
   "id": "17fec3d4",
   "metadata": {},
   "outputs": [],
   "source": [
    "# Câu trả lời ở đây"
   ]
  }
 ],
 "metadata": {
  "kernelspec": {
   "display_name": "Python 3 (ipykernel)",
   "language": "python",
   "name": "python3"
  },
  "language_info": {
   "codemirror_mode": {
    "name": "ipython",
    "version": 3
   },
   "file_extension": ".py",
   "mimetype": "text/x-python",
   "name": "python",
   "nbconvert_exporter": "python",
   "pygments_lexer": "ipython3",
   "version": "3.13.2"
  }
 },
 "nbformat": 4,
 "nbformat_minor": 5
}