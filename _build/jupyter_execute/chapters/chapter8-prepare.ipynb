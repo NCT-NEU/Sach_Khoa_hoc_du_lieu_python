{
 "cells": [
  {
   "cell_type": "markdown",
   "id": "cc1b057a-cedd-4445-a737-6b7675c157ea",
   "metadata": {},
   "source": [
    "![](../docs/banner.png)"
   ]
  },
  {
   "cell_type": "markdown",
   "id": "7ecd15ef",
   "metadata": {},
   "source": [
    "# Làm sạch và chuẩn bị dữ liệu\n",
    "<hr>"
   ]
  },
  {
   "cell_type": "markdown",
   "id": "e534d720",
   "metadata": {},
   "source": [
    "Trong quá trình phân tích và xây dựng mô hình dữ liệu, một phần đáng kể thời gian thường được dành cho công việc chuẩn bị dữ liệu, bao gồm: thu thập, làm sạch, chuyển đổi và cấu trúc lại dữ liệu. Nhiều nghiên cứu thực nghiệm đã ghi nhận rằng các tác vụ này có thể chiếm tới 80% hoặc hơn tổng thời gian làm việc của một nhà phân tích dữ liệu.\n",
    "\n",
    "Một trong những thách thức phổ biến là dữ liệu được lưu trữ dưới các định dạng không phù hợp với yêu cầu của bài toán phân tích cụ thể. Do đó, các nhà phân tích thường phải thực hiện các thao tác chuyển đổi linh hoạt giữa các cấu trúc dữ liệu, sử dụng những ngôn ngữ lập trình như Python, R, hoặc Java, cũng như các công cụ dòng lệnh truyền thống trong môi trường Unix.\n",
    "\n",
    "Tuy nhiên, sự kết hợp giữa thư viện `pandas` và các khả năng tích hợp sẵn của ngôn ngữ Python đã cung cấp một bộ công cụ thao tác dữ liệu có hiệu quả cao, có thể mở rộng, giúp giải quyết nhanh chóng hầu hết các nhu cầu xử lý dữ liệu phổ biến trong thực tiễn nghiên cứu và ứng dụng.\n",
    "\n",
    "Trong trường hợp người dùng phát hiện một thao tác xử lý dữ liệu chưa được đề cập trong tài liệu này hoặc chưa được hỗ trợ trong pandas, việc chia sẻ trường hợp sử dụng cụ thể lên cộng đồng phát triển pandas trên GitHub hoặc các danh sách thư tín Python là rất được khuyến khích. Trên thực tế, nhiều cải tiến trong thiết kế và triển khai pandas đã trực tiếp xuất phát từ các yêu cầu thực tế như vậy.\n",
    "\n",
    "Chương này sẽ tập trung trình bày các công cụ hỗ trợ xử lý dữ liệu thiếu, dữ liệu trùng lặp, thao tác trên chuỗi ký tự, cùng với một số phép biến đổi dữ liệu phục vụ mục tiêu phân tích. Trong chương kế tiếp, chúng ta sẽ tiếp tục tìm hiểu về các kỹ thuật kết hợp và tái tổ chức tập dữ liệu, qua đó hỗ trợ cho quá trình phân tích và trực quan hóa dữ liệu một cách hiệu quả hơn."
   ]
  },
  {
   "cell_type": "code",
   "execution_count": 1,
   "id": "42eb9103",
   "metadata": {},
   "outputs": [],
   "source": [
    "import numpy as np\n",
    "import pandas as pd\n",
    "PREVIOUS_MAX_ROWS = pd.options.display.max_rows\n",
    "pd.options.display.max_rows = 20\n",
    "np.random.seed(12345) # để ví dụ có thể lặp lại\n",
    "import matplotlib.pyplot as plt\n",
    "plt.rc(\"figure\", figsize=(10, 6))\n",
    "np.set_printoptions(precision=4, suppress=True)"
   ]
  },
  {
   "cell_type": "markdown",
   "id": "561bb3f7",
   "metadata": {},
   "source": [
    "## Xử lý dữ liệu không quan sát được"
   ]
  },
  {
   "cell_type": "markdown",
   "id": "f428cf6d",
   "metadata": {},
   "source": [
    "Dữ liệu không quan sát được (missing data) thường xuyên xuất hiện trong nhiều ứng dụng phân tích dữ liệu. Một trong những mục tiêu của `pandas` là làm cho việc xử lý dữ liệu không quan sát được trở nên dễ dàng nhất có thể. Ví dụ, tất cả các thống kê mô tả trên các đối tượng của `pandas` đều loại trừ dữ liệu này theo mặc định.\n",
    "\n",
    "Cách biểu diễn dữ liệu không quan sát được trong các đối tượng `pandas` còn nhiều vấn đề, nhưng cũng đủ cho hầu hết các mục đích sử dụng trong thực tế. Đối với dữ liệu có kiểu `float64`, pandas sử dụng giá trị dấu phẩy động `NaN` (Not a Number) để biểu diễn dữ liệu bị thiếu.\n",
    "\n",
    "Chúng ta gọi đây là một *giá trị sentinel*: khi có mặt, nó chỉ ra một giá trị bị không quan sát được (hoặc null):"
   ]
  },
  {
   "cell_type": "code",
   "execution_count": 2,
   "id": "87313521",
   "metadata": {},
   "outputs": [
    {
     "data": {
      "text/plain": [
       "0    1.2\n",
       "1   -3.5\n",
       "2    NaN\n",
       "3    0.0\n",
       "dtype: float64"
      ]
     },
     "execution_count": 2,
     "metadata": {},
     "output_type": "execute_result"
    }
   ],
   "source": [
    "float_data = pd.Series([1.2, -3.5, np.nan, 0])\n",
    "float_data\n",
    "# Out[15]: \n",
    "# 0    1.2\n",
    "# 1   -3.5\n",
    "# 2    NaN\n",
    "# 3    0.0\n",
    "# dtype: float64"
   ]
  },
  {
   "cell_type": "markdown",
   "id": "a1234706",
   "metadata": {},
   "source": [
    "Phương thức `isna` trả về một mảng kiểu logical với giá trị `True` ở những nơi giá trị là không quan sát được:"
   ]
  },
  {
   "cell_type": "code",
   "execution_count": 3,
   "id": "831c58a4",
   "metadata": {},
   "outputs": [
    {
     "data": {
      "text/plain": [
       "0    False\n",
       "1    False\n",
       "2     True\n",
       "3    False\n",
       "dtype: bool"
      ]
     },
     "execution_count": 3,
     "metadata": {},
     "output_type": "execute_result"
    }
   ],
   "source": [
    "float_data.isna()\n",
    "# Out[16]: \n",
    "# 0    False\n",
    "# 1    False\n",
    "# 2     True\n",
    "# 3    False\n",
    "# dtype: bool"
   ]
  },
  {
   "cell_type": "markdown",
   "id": "fb347340",
   "metadata": {},
   "source": [
    "Trong pandas cũng áp dụng một quy ước được sử dụng trong ngôn ngữ lập trình R bằng cách gọi dữ liệu không quan sát được là `NA`, viết tắt của *not available*. Trong các ứng dụng thống kê, dữ liệu `NA` có thể là dữ liệu không tồn tại hoặc tồn tại nhưng không được quan sát (ví dụ, do các vấn đề trong quá trình thu thập dữ liệu). Khi dọn dẹp dữ liệu để phân tích, việc phân tích chính dữ liệu `NA` thường rất quan trọng để xác định các vấn đề thu thập dữ liệu hoặc các sai lệch tiềm ẩn trong dữ liệu do dữ liệu bị thiếu gây ra.\n",
    "\n",
    "Giá trị `None` tích hợp sẵn của Python cũng được coi là `NA`:"
   ]
  },
  {
   "cell_type": "code",
   "execution_count": 4,
   "id": "19dc7bdf",
   "metadata": {},
   "outputs": [
    {
     "data": {
      "text/plain": [
       "0    False\n",
       "1     True\n",
       "2     True\n",
       "3    False\n",
       "dtype: bool"
      ]
     },
     "execution_count": 4,
     "metadata": {},
     "output_type": "execute_result"
    }
   ],
   "source": [
    "string_data = pd.Series([\"aardvark\", np.nan, None, \"avocado\"])\n",
    "string_data\n",
    "# Out[18]:\n",
    "# 0    aardvark\n",
    "# 1         NaN\n",
    "# 2        None\n",
    "# 3     avocado\n",
    "# dtype: object\n",
    "\n",
    "string_data.isna()\n",
    "# Out[19]:\n",
    "# 0    False\n",
    "# 1     True\n",
    "# 2     True\n",
    "# 3    False\n",
    "# dtype: bool"
   ]
  },
  {
   "cell_type": "code",
   "execution_count": 5,
   "id": "9b8c0a2f",
   "metadata": {},
   "outputs": [
    {
     "data": {
      "text/plain": [
       "0    False\n",
       "1    False\n",
       "2     True\n",
       "dtype: bool"
      ]
     },
     "execution_count": 5,
     "metadata": {},
     "output_type": "execute_result"
    }
   ],
   "source": [
    "float_data = pd.Series([1, 2, None], dtype='float64')\n",
    "float_data\n",
    "# Out[21]:\n",
    "# 0    1.0\n",
    "# 1    2.0\n",
    "# 2    NaN\n",
    "# dtype: float64\n",
    "\n",
    "float_data.isna()\n",
    "# Out[22]:\n",
    "# 0    False\n",
    "# 1    False\n",
    "# 2     True\n",
    "# dtype: bool"
   ]
  },
  {
   "cell_type": "markdown",
   "id": "6383a680",
   "metadata": {},
   "source": [
    "Thư viện `pandas` đã cố gắng làm cho việc xử lý dữ liệu không quan sát được nhất quán giữa các kiểu dữ liệu. Xem Bảng ... để biết danh sách một số hàm liên quan đến xử lý dữ liệu không quan sát được."
   ]
  },
  {
   "cell_type": "markdown",
   "id": "eadf27d7",
   "metadata": {},
   "source": [
    "**Bảng ...: Các phương thức xử lý NA**\n",
    "\n",
    "| Phương thức | Mô tả |\n",
    "|---|---|\n",
    "| `dropna` | Lọc các chỉ số dựa trên việc các giá trị cho chỉ số có dữ liệu bị thiếu hay không|\n",
    "| `fillna` | Điền vào dữ liệu `NA` bằng một giá trị nào đó hoặc sử dụng một phương pháp nội suy như `\"ffill\"` hoặc `\"bfill\"`. |\n",
    "| `isna` | Trả về các giá trị boolean cho biết giá trị nào là `NA`. |\n",
    "| `notna` | Phủ định của `isna`, trả về `True` cho các giá trị không phải NA và `False` cho các giá trị NA. |"
   ]
  },
  {
   "cell_type": "markdown",
   "id": "40c0d9d5",
   "metadata": {},
   "source": [
    "### Lọc bỏ dữ liệu bị thiếu"
   ]
  },
  {
   "cell_type": "markdown",
   "id": "127d8a44",
   "metadata": {},
   "source": [
    "Có nhiều cách để lọc bỏ dữ liệu bị thiếu. Mặc dù bạn luôn có thể tự làm điều đó bằng cách sử dụng `pandas.notna` và lọc dữ liệu bằng chỉ số kiểu logical. Ngoài ra bạn có thể dùng phương thức `dropna` như đã mô tả ở trên:"
   ]
  },
  {
   "cell_type": "code",
   "execution_count": 6,
   "id": "129ace97",
   "metadata": {},
   "outputs": [
    {
     "data": {
      "text/plain": [
       "0    1.0\n",
       "2    3.5\n",
       "4    7.0\n",
       "dtype: float64"
      ]
     },
     "execution_count": 6,
     "metadata": {},
     "output_type": "execute_result"
    }
   ],
   "source": [
    "data = pd.Series([1, np.nan, 3.5, np.nan, 7])\n",
    "data.dropna()\n",
    "# Out[24]:\n",
    "# 0    1.0\n",
    "# 2    3.5\n",
    "# 4    7.0\n",
    "# dtype: float64"
   ]
  },
  {
   "cell_type": "markdown",
   "id": "31fcbd3a",
   "metadata": {},
   "source": [
    "Điều này tương đương với:"
   ]
  },
  {
   "cell_type": "code",
   "execution_count": 7,
   "id": "f8df10f4",
   "metadata": {},
   "outputs": [
    {
     "data": {
      "text/plain": [
       "0    1.0\n",
       "2    3.5\n",
       "4    7.0\n",
       "dtype: float64"
      ]
     },
     "execution_count": 7,
     "metadata": {},
     "output_type": "execute_result"
    }
   ],
   "source": [
    "data[data.notna()]\n",
    "# Out[25]:\n",
    "# 0    1.0\n",
    "# 2    3.5\n",
    "# 4    7.0\n",
    "# dtype: float64"
   ]
  },
  {
   "cell_type": "markdown",
   "id": "e9100bea",
   "metadata": {},
   "source": [
    "Với các đối tượng DataFrame, có nhiều cách khác nhau để loại bỏ dữ liệu không quan sát được. Bạn có thể muốn loại bỏ các hàng hoặc cột hoàn toàn là `NA`, hoặc chỉ những hàng hoặc cột chứa bất kỳ `NA` nào. `dropna` theo mặc định sẽ loại bỏ bất kỳ hàng nào chứa một giá trị không quan sát được:"
   ]
  },
  {
   "cell_type": "code",
   "execution_count": 8,
   "id": "7b02cb29",
   "metadata": {},
   "outputs": [
    {
     "data": {
      "text/html": [
       "<div>\n",
       "<style scoped>\n",
       "    .dataframe tbody tr th:only-of-type {\n",
       "        vertical-align: middle;\n",
       "    }\n",
       "\n",
       "    .dataframe tbody tr th {\n",
       "        vertical-align: top;\n",
       "    }\n",
       "\n",
       "    .dataframe thead th {\n",
       "        text-align: right;\n",
       "    }\n",
       "</style>\n",
       "<table border=\"1\" class=\"dataframe\">\n",
       "  <thead>\n",
       "    <tr style=\"text-align: right;\">\n",
       "      <th></th>\n",
       "      <th>0</th>\n",
       "      <th>1</th>\n",
       "      <th>2</th>\n",
       "    </tr>\n",
       "  </thead>\n",
       "  <tbody>\n",
       "    <tr>\n",
       "      <th>0</th>\n",
       "      <td>1.0</td>\n",
       "      <td>6.5</td>\n",
       "      <td>3.0</td>\n",
       "    </tr>\n",
       "  </tbody>\n",
       "</table>\n",
       "</div>"
      ],
      "text/plain": [
       "     0    1    2\n",
       "0  1.0  6.5  3.0"
      ]
     },
     "execution_count": 8,
     "metadata": {},
     "output_type": "execute_result"
    }
   ],
   "source": [
    "data = pd.DataFrame([[1., 6.5, 3.], [1., np.nan, np.nan],\n",
    "                     [np.nan, np.nan, np.nan], [np.nan, 6.5, 3.]])\n",
    "data\n",
    "# Out[27]:\n",
    "#      0    1    2\n",
    "# 0  1.0  6.5  3.0\n",
    "# 1  1.0  NaN  NaN\n",
    "# 2  NaN  NaN  NaN\n",
    "# 3  NaN  6.5  3.0\n",
    "\n",
    "data.dropna()\n",
    "# Out[28]:\n",
    "#      0    1    2\n",
    "# 0  1.0  6.5  3.0"
   ]
  },
  {
   "cell_type": "markdown",
   "id": "128b20f8",
   "metadata": {},
   "source": [
    "Sử dụng tham số `how=\"all\"` sẽ chỉ loại bỏ các hàng mà tất cả các giá trị đều là `NA`:"
   ]
  },
  {
   "cell_type": "code",
   "execution_count": 9,
   "id": "e6126bf2",
   "metadata": {},
   "outputs": [
    {
     "data": {
      "text/html": [
       "<div>\n",
       "<style scoped>\n",
       "    .dataframe tbody tr th:only-of-type {\n",
       "        vertical-align: middle;\n",
       "    }\n",
       "\n",
       "    .dataframe tbody tr th {\n",
       "        vertical-align: top;\n",
       "    }\n",
       "\n",
       "    .dataframe thead th {\n",
       "        text-align: right;\n",
       "    }\n",
       "</style>\n",
       "<table border=\"1\" class=\"dataframe\">\n",
       "  <thead>\n",
       "    <tr style=\"text-align: right;\">\n",
       "      <th></th>\n",
       "      <th>0</th>\n",
       "      <th>1</th>\n",
       "      <th>2</th>\n",
       "    </tr>\n",
       "  </thead>\n",
       "  <tbody>\n",
       "    <tr>\n",
       "      <th>0</th>\n",
       "      <td>1.0</td>\n",
       "      <td>6.5</td>\n",
       "      <td>3.0</td>\n",
       "    </tr>\n",
       "    <tr>\n",
       "      <th>1</th>\n",
       "      <td>1.0</td>\n",
       "      <td>NaN</td>\n",
       "      <td>NaN</td>\n",
       "    </tr>\n",
       "    <tr>\n",
       "      <th>3</th>\n",
       "      <td>NaN</td>\n",
       "      <td>6.5</td>\n",
       "      <td>3.0</td>\n",
       "    </tr>\n",
       "  </tbody>\n",
       "</table>\n",
       "</div>"
      ],
      "text/plain": [
       "     0    1    2\n",
       "0  1.0  6.5  3.0\n",
       "1  1.0  NaN  NaN\n",
       "3  NaN  6.5  3.0"
      ]
     },
     "execution_count": 9,
     "metadata": {},
     "output_type": "execute_result"
    }
   ],
   "source": [
    "data.dropna(how=\"all\")\n",
    "# Out[29]:\n",
    "#      0    1    2\n",
    "# 0  1.0  6.5  3.0\n",
    "# 1  1.0  NaN  NaN\n",
    "# 3  NaN  6.5  3.0"
   ]
  },
  {
   "cell_type": "markdown",
   "id": "1b7205e5",
   "metadata": {},
   "source": [
    "Hãy lưu ý rằng các hàm này trả về các đối tượng mới theo mặc định và không sửa đổi nội dung của đối tượng ban đầu.\n",
    "\n",
    "Để loại bỏ các cột theo cách tương tự, hãy sử dụng tham số `axis=\"columns\"`:"
   ]
  },
  {
   "cell_type": "code",
   "execution_count": 10,
   "id": "cf235f67",
   "metadata": {},
   "outputs": [
    {
     "data": {
      "text/html": [
       "<div>\n",
       "<style scoped>\n",
       "    .dataframe tbody tr th:only-of-type {\n",
       "        vertical-align: middle;\n",
       "    }\n",
       "\n",
       "    .dataframe tbody tr th {\n",
       "        vertical-align: top;\n",
       "    }\n",
       "\n",
       "    .dataframe thead th {\n",
       "        text-align: right;\n",
       "    }\n",
       "</style>\n",
       "<table border=\"1\" class=\"dataframe\">\n",
       "  <thead>\n",
       "    <tr style=\"text-align: right;\">\n",
       "      <th></th>\n",
       "      <th>0</th>\n",
       "      <th>1</th>\n",
       "      <th>2</th>\n",
       "    </tr>\n",
       "  </thead>\n",
       "  <tbody>\n",
       "    <tr>\n",
       "      <th>0</th>\n",
       "      <td>1.0</td>\n",
       "      <td>6.5</td>\n",
       "      <td>3.0</td>\n",
       "    </tr>\n",
       "    <tr>\n",
       "      <th>1</th>\n",
       "      <td>1.0</td>\n",
       "      <td>NaN</td>\n",
       "      <td>NaN</td>\n",
       "    </tr>\n",
       "    <tr>\n",
       "      <th>2</th>\n",
       "      <td>NaN</td>\n",
       "      <td>NaN</td>\n",
       "      <td>NaN</td>\n",
       "    </tr>\n",
       "    <tr>\n",
       "      <th>3</th>\n",
       "      <td>NaN</td>\n",
       "      <td>6.5</td>\n",
       "      <td>3.0</td>\n",
       "    </tr>\n",
       "  </tbody>\n",
       "</table>\n",
       "</div>"
      ],
      "text/plain": [
       "     0    1    2\n",
       "0  1.0  6.5  3.0\n",
       "1  1.0  NaN  NaN\n",
       "2  NaN  NaN  NaN\n",
       "3  NaN  6.5  3.0"
      ]
     },
     "execution_count": 10,
     "metadata": {},
     "output_type": "execute_result"
    }
   ],
   "source": [
    "data[4] = np.nan\n",
    "data\n",
    "# Out[31]:\n",
    "#      0    1    2   4\n",
    "# 0  1.0  6.5  3.0 NaN\n",
    "# 1  1.0  NaN  NaN NaN\n",
    "# 2  NaN  NaN  NaN NaN\n",
    "# 3  NaN  6.5  3.0 NaN\n",
    "\n",
    "data.dropna(axis=\"columns\", how=\"all\")\n",
    "# Out[32]:\n",
    "#      0    1    2\n",
    "# 0  1.0  6.5  3.0\n",
    "# 1  1.0  NaN  NaN\n",
    "# 2  NaN  NaN  NaN\n",
    "# 3  NaN  6.5  3.0"
   ]
  },
  {
   "cell_type": "markdown",
   "id": "e45435c4",
   "metadata": {},
   "source": [
    "Giả sử bạn muốn giữ lại chỉ những hàng chứa tối đa một số lượng `NA` nhất định. Bạn có thể chỉ ra điều này bằng tham số `thresh`:"
   ]
  },
  {
   "cell_type": "code",
   "execution_count": 11,
   "id": "595dc6cc",
   "metadata": {},
   "outputs": [
    {
     "data": {
      "text/html": [
       "<div>\n",
       "<style scoped>\n",
       "    .dataframe tbody tr th:only-of-type {\n",
       "        vertical-align: middle;\n",
       "    }\n",
       "\n",
       "    .dataframe tbody tr th {\n",
       "        vertical-align: top;\n",
       "    }\n",
       "\n",
       "    .dataframe thead th {\n",
       "        text-align: right;\n",
       "    }\n",
       "</style>\n",
       "<table border=\"1\" class=\"dataframe\">\n",
       "  <thead>\n",
       "    <tr style=\"text-align: right;\">\n",
       "      <th></th>\n",
       "      <th>0</th>\n",
       "      <th>1</th>\n",
       "      <th>2</th>\n",
       "    </tr>\n",
       "  </thead>\n",
       "  <tbody>\n",
       "    <tr>\n",
       "      <th>2</th>\n",
       "      <td>0.092908</td>\n",
       "      <td>NaN</td>\n",
       "      <td>0.769023</td>\n",
       "    </tr>\n",
       "    <tr>\n",
       "      <th>3</th>\n",
       "      <td>1.246435</td>\n",
       "      <td>NaN</td>\n",
       "      <td>-1.296221</td>\n",
       "    </tr>\n",
       "    <tr>\n",
       "      <th>4</th>\n",
       "      <td>0.274992</td>\n",
       "      <td>0.228913</td>\n",
       "      <td>1.352917</td>\n",
       "    </tr>\n",
       "    <tr>\n",
       "      <th>5</th>\n",
       "      <td>0.886429</td>\n",
       "      <td>-2.001637</td>\n",
       "      <td>-0.371843</td>\n",
       "    </tr>\n",
       "    <tr>\n",
       "      <th>6</th>\n",
       "      <td>1.669025</td>\n",
       "      <td>-0.438570</td>\n",
       "      <td>-0.539741</td>\n",
       "    </tr>\n",
       "  </tbody>\n",
       "</table>\n",
       "</div>"
      ],
      "text/plain": [
       "          0         1         2\n",
       "2  0.092908       NaN  0.769023\n",
       "3  1.246435       NaN -1.296221\n",
       "4  0.274992  0.228913  1.352917\n",
       "5  0.886429 -2.001637 -0.371843\n",
       "6  1.669025 -0.438570 -0.539741"
      ]
     },
     "execution_count": 11,
     "metadata": {},
     "output_type": "execute_result"
    }
   ],
   "source": [
    "df = pd.DataFrame(np.random.standard_normal((7, 3)))\n",
    "df.iloc[:4, 1] = np.nan\n",
    "df.iloc[:2, 2] = np.nan\n",
    "df\n",
    "# Out[36]:\n",
    "#           0         1         2\n",
    "# 0 -0.204708       NaN       NaN\n",
    "# 1 -0.555730       NaN       NaN\n",
    "# 2  0.092908       NaN  0.769023\n",
    "# 3  1.246435       NaN -1.296221\n",
    "# 4  0.274992  0.228913  1.352917\n",
    "# 5  0.886429 -2.001637 -0.371843\n",
    "# 6  1.669025 -0.438570 -0.539741\n",
    "\n",
    "df.dropna()\n",
    "# Out[37]:\n",
    "#           0         1         2\n",
    "# 4  0.274992  0.228913  1.352917\n",
    "# 5  0.886429 -2.001637 -0.371843\n",
    "# 6  1.669025 -0.438570 -0.539741\n",
    "\n",
    "df.dropna(thresh=2)\n",
    "# Out[38]:\n",
    "#           0         1         2\n",
    "# 2  0.092908       NaN  0.769023\n",
    "# 3  1.246435       NaN -1.296221\n",
    "# 4  0.274992  0.228913  1.352917\n",
    "# 5  0.886429 -2.001637 -0.371843\n",
    "# 6  1.669025 -0.438570 -0.539741"
   ]
  },
  {
   "cell_type": "markdown",
   "id": "5f83af13",
   "metadata": {},
   "source": [
    "### Điền vào dữ liệu bị thiếu"
   ]
  },
  {
   "cell_type": "markdown",
   "id": "c703f768",
   "metadata": {},
   "source": [
    "Thay vì lọc bỏ dữ liệu không quan sát được và có khả năng loại bỏ dữ liệu khác cùng hàng hoặc cùng cột, bạn có giải pháp là điền vào các giá trị này theo nhiều cách. Đối với hầu hết các mục đích, phương thức `fillna` là hàm chính được sử dụng. Phương pháp đơn giản nhất là gọi `fillna` với một hằng số để thay thế các giá trị `NA` bằng giá trị đó:"
   ]
  },
  {
   "cell_type": "code",
   "execution_count": 12,
   "id": "e7305641",
   "metadata": {},
   "outputs": [
    {
     "data": {
      "text/html": [
       "<div>\n",
       "<style scoped>\n",
       "    .dataframe tbody tr th:only-of-type {\n",
       "        vertical-align: middle;\n",
       "    }\n",
       "\n",
       "    .dataframe tbody tr th {\n",
       "        vertical-align: top;\n",
       "    }\n",
       "\n",
       "    .dataframe thead th {\n",
       "        text-align: right;\n",
       "    }\n",
       "</style>\n",
       "<table border=\"1\" class=\"dataframe\">\n",
       "  <thead>\n",
       "    <tr style=\"text-align: right;\">\n",
       "      <th></th>\n",
       "      <th>0</th>\n",
       "      <th>1</th>\n",
       "      <th>2</th>\n",
       "    </tr>\n",
       "  </thead>\n",
       "  <tbody>\n",
       "    <tr>\n",
       "      <th>0</th>\n",
       "      <td>-0.204708</td>\n",
       "      <td>0.000000</td>\n",
       "      <td>0.000000</td>\n",
       "    </tr>\n",
       "    <tr>\n",
       "      <th>1</th>\n",
       "      <td>-0.555730</td>\n",
       "      <td>0.000000</td>\n",
       "      <td>0.000000</td>\n",
       "    </tr>\n",
       "    <tr>\n",
       "      <th>2</th>\n",
       "      <td>0.092908</td>\n",
       "      <td>0.000000</td>\n",
       "      <td>0.769023</td>\n",
       "    </tr>\n",
       "    <tr>\n",
       "      <th>3</th>\n",
       "      <td>1.246435</td>\n",
       "      <td>0.000000</td>\n",
       "      <td>-1.296221</td>\n",
       "    </tr>\n",
       "    <tr>\n",
       "      <th>4</th>\n",
       "      <td>0.274992</td>\n",
       "      <td>0.228913</td>\n",
       "      <td>1.352917</td>\n",
       "    </tr>\n",
       "    <tr>\n",
       "      <th>5</th>\n",
       "      <td>0.886429</td>\n",
       "      <td>-2.001637</td>\n",
       "      <td>-0.371843</td>\n",
       "    </tr>\n",
       "    <tr>\n",
       "      <th>6</th>\n",
       "      <td>1.669025</td>\n",
       "      <td>-0.438570</td>\n",
       "      <td>-0.539741</td>\n",
       "    </tr>\n",
       "  </tbody>\n",
       "</table>\n",
       "</div>"
      ],
      "text/plain": [
       "          0         1         2\n",
       "0 -0.204708  0.000000  0.000000\n",
       "1 -0.555730  0.000000  0.000000\n",
       "2  0.092908  0.000000  0.769023\n",
       "3  1.246435  0.000000 -1.296221\n",
       "4  0.274992  0.228913  1.352917\n",
       "5  0.886429 -2.001637 -0.371843\n",
       "6  1.669025 -0.438570 -0.539741"
      ]
     },
     "execution_count": 12,
     "metadata": {},
     "output_type": "execute_result"
    }
   ],
   "source": [
    "df.fillna(0)\n",
    "# Out[39]:\n",
    "#           0         1         2\n",
    "# 0 -0.204708  0.000000  0.000000\n",
    "# 1 -0.555730  0.000000  0.000000\n",
    "# 2  0.092908  0.000000  0.769023\n",
    "# 3  1.246435  0.000000 -1.296221\n",
    "# 4  0.274992  0.228913  1.352917\n",
    "# 5  0.886429 -2.001637 -0.371843\n",
    "# 6  1.669025 -0.438570 -0.539741"
   ]
  },
  {
   "cell_type": "markdown",
   "id": "cf99c224",
   "metadata": {},
   "source": [
    "Gọi `fillna` với tham số là một dictionary, bạn có thể điền các giá trị khác nhau cho mỗi cột:"
   ]
  },
  {
   "cell_type": "code",
   "execution_count": 13,
   "id": "aea75d07",
   "metadata": {},
   "outputs": [
    {
     "data": {
      "text/html": [
       "<div>\n",
       "<style scoped>\n",
       "    .dataframe tbody tr th:only-of-type {\n",
       "        vertical-align: middle;\n",
       "    }\n",
       "\n",
       "    .dataframe tbody tr th {\n",
       "        vertical-align: top;\n",
       "    }\n",
       "\n",
       "    .dataframe thead th {\n",
       "        text-align: right;\n",
       "    }\n",
       "</style>\n",
       "<table border=\"1\" class=\"dataframe\">\n",
       "  <thead>\n",
       "    <tr style=\"text-align: right;\">\n",
       "      <th></th>\n",
       "      <th>0</th>\n",
       "      <th>1</th>\n",
       "      <th>2</th>\n",
       "    </tr>\n",
       "  </thead>\n",
       "  <tbody>\n",
       "    <tr>\n",
       "      <th>0</th>\n",
       "      <td>-0.204708</td>\n",
       "      <td>0.500000</td>\n",
       "      <td>0.000000</td>\n",
       "    </tr>\n",
       "    <tr>\n",
       "      <th>1</th>\n",
       "      <td>-0.555730</td>\n",
       "      <td>0.500000</td>\n",
       "      <td>0.000000</td>\n",
       "    </tr>\n",
       "    <tr>\n",
       "      <th>2</th>\n",
       "      <td>0.092908</td>\n",
       "      <td>0.500000</td>\n",
       "      <td>0.769023</td>\n",
       "    </tr>\n",
       "    <tr>\n",
       "      <th>3</th>\n",
       "      <td>1.246435</td>\n",
       "      <td>0.500000</td>\n",
       "      <td>-1.296221</td>\n",
       "    </tr>\n",
       "    <tr>\n",
       "      <th>4</th>\n",
       "      <td>0.274992</td>\n",
       "      <td>0.228913</td>\n",
       "      <td>1.352917</td>\n",
       "    </tr>\n",
       "    <tr>\n",
       "      <th>5</th>\n",
       "      <td>0.886429</td>\n",
       "      <td>-2.001637</td>\n",
       "      <td>-0.371843</td>\n",
       "    </tr>\n",
       "    <tr>\n",
       "      <th>6</th>\n",
       "      <td>1.669025</td>\n",
       "      <td>-0.438570</td>\n",
       "      <td>-0.539741</td>\n",
       "    </tr>\n",
       "  </tbody>\n",
       "</table>\n",
       "</div>"
      ],
      "text/plain": [
       "          0         1         2\n",
       "0 -0.204708  0.500000  0.000000\n",
       "1 -0.555730  0.500000  0.000000\n",
       "2  0.092908  0.500000  0.769023\n",
       "3  1.246435  0.500000 -1.296221\n",
       "4  0.274992  0.228913  1.352917\n",
       "5  0.886429 -2.001637 -0.371843\n",
       "6  1.669025 -0.438570 -0.539741"
      ]
     },
     "execution_count": 13,
     "metadata": {},
     "output_type": "execute_result"
    }
   ],
   "source": [
    "df.fillna({1: 0.5, 2: 0})\n",
    "# Out[40]:\n",
    "#           0         1         2\n",
    "# 0 -0.204708  0.500000  0.000000\n",
    "# 1 -0.555730  0.500000  0.000000\n",
    "# 2  0.092908  0.500000  0.769023\n",
    "# 3  1.246435  0.500000 -1.296221\n",
    "# 4  0.274992  0.228913  1.352917\n",
    "# 5  0.886429 -2.001637 -0.371843\n",
    "# 6  1.669025 -0.438570 -0.539741"
   ]
  },
  {
   "cell_type": "markdown",
   "id": "58f6c996",
   "metadata": {},
   "source": [
    "Các phương pháp nội suy tương tự có sẵn cho việc sắp xếp lại (xem Bảng 5.3) có thể được sử dụng với `fillna`:"
   ]
  },
  {
   "cell_type": "code",
   "execution_count": 14,
   "id": "eb83b029",
   "metadata": {},
   "outputs": [
    {
     "name": "stderr",
     "output_type": "stream",
     "text": [
      "C:\\Users\\AD\\AppData\\Local\\Temp\\ipykernel_26284\\246183062.py:14: FutureWarning: DataFrame.fillna with 'method' is deprecated and will raise in a future version. Use obj.ffill() or obj.bfill() instead.\n",
      "  df.fillna(method=\"ffill\")\n",
      "C:\\Users\\AD\\AppData\\Local\\Temp\\ipykernel_26284\\246183062.py:24: FutureWarning: DataFrame.fillna with 'method' is deprecated and will raise in a future version. Use obj.ffill() or obj.bfill() instead.\n",
      "  df.fillna(method=\"ffill\", limit=2)\n"
     ]
    },
    {
     "data": {
      "text/html": [
       "<div>\n",
       "<style scoped>\n",
       "    .dataframe tbody tr th:only-of-type {\n",
       "        vertical-align: middle;\n",
       "    }\n",
       "\n",
       "    .dataframe tbody tr th {\n",
       "        vertical-align: top;\n",
       "    }\n",
       "\n",
       "    .dataframe thead th {\n",
       "        text-align: right;\n",
       "    }\n",
       "</style>\n",
       "<table border=\"1\" class=\"dataframe\">\n",
       "  <thead>\n",
       "    <tr style=\"text-align: right;\">\n",
       "      <th></th>\n",
       "      <th>0</th>\n",
       "      <th>1</th>\n",
       "      <th>2</th>\n",
       "    </tr>\n",
       "  </thead>\n",
       "  <tbody>\n",
       "    <tr>\n",
       "      <th>0</th>\n",
       "      <td>0.476985</td>\n",
       "      <td>3.248944</td>\n",
       "      <td>-1.021228</td>\n",
       "    </tr>\n",
       "    <tr>\n",
       "      <th>1</th>\n",
       "      <td>-0.577087</td>\n",
       "      <td>0.124121</td>\n",
       "      <td>0.302614</td>\n",
       "    </tr>\n",
       "    <tr>\n",
       "      <th>2</th>\n",
       "      <td>0.523772</td>\n",
       "      <td>0.124121</td>\n",
       "      <td>1.343810</td>\n",
       "    </tr>\n",
       "    <tr>\n",
       "      <th>3</th>\n",
       "      <td>-0.713544</td>\n",
       "      <td>0.124121</td>\n",
       "      <td>-2.370232</td>\n",
       "    </tr>\n",
       "    <tr>\n",
       "      <th>4</th>\n",
       "      <td>-1.860761</td>\n",
       "      <td>NaN</td>\n",
       "      <td>-2.370232</td>\n",
       "    </tr>\n",
       "    <tr>\n",
       "      <th>5</th>\n",
       "      <td>-1.265934</td>\n",
       "      <td>NaN</td>\n",
       "      <td>-2.370232</td>\n",
       "    </tr>\n",
       "  </tbody>\n",
       "</table>\n",
       "</div>"
      ],
      "text/plain": [
       "          0         1         2\n",
       "0  0.476985  3.248944 -1.021228\n",
       "1 -0.577087  0.124121  0.302614\n",
       "2  0.523772  0.124121  1.343810\n",
       "3 -0.713544  0.124121 -2.370232\n",
       "4 -1.860761       NaN -2.370232\n",
       "5 -1.265934       NaN -2.370232"
      ]
     },
     "execution_count": 14,
     "metadata": {},
     "output_type": "execute_result"
    }
   ],
   "source": [
    "df = pd.DataFrame(np.random.standard_normal((6, 3)))\n",
    "df.iloc[2:, 1] = np.nan\n",
    "df.iloc[4:, 2] = np.nan\n",
    "df\n",
    "# Out[44]:\n",
    "#           0         1         2\n",
    "# 0  0.476985  3.248944 -1.021228\n",
    "# 1 -0.577087  0.124121  0.302614\n",
    "# 2  0.523772       NaN  1.343810\n",
    "# 3 -0.713544       NaN -2.370232\n",
    "# 4 -1.860761       NaN       NaN\n",
    "# 5 -1.265934       NaN       NaN\n",
    "\n",
    "df.fillna(method=\"ffill\")\n",
    "# Out[45]:\n",
    "#           0         1         2\n",
    "# 0  0.476985  3.248944 -1.021228\n",
    "# 1 -0.577087  0.124121  0.302614\n",
    "# 2  0.523772  0.124121  1.343810\n",
    "# 3 -0.713544  0.124121 -2.370232\n",
    "# 4 -1.860761  0.124121 -2.370232\n",
    "# 5 -1.265934  0.124121 -2.370232\n",
    "\n",
    "df.fillna(method=\"ffill\", limit=2)\n",
    "# Out[46]:\n",
    "#           0         1         2\n",
    "# 0  0.476985  3.248944 -1.021228\n",
    "# 1 -0.577087  0.124121  0.302614\n",
    "# 2  0.523772  0.124121  1.343810\n",
    "# 3 -0.713544  0.124121 -2.370232\n",
    "# 4 -1.860761       NaN -2.370232\n",
    "# 5 -1.265934       NaN -2.370232"
   ]
  },
  {
   "cell_type": "markdown",
   "id": "8df329d5",
   "metadata": {},
   "source": [
    "Với `fillna`, bạn có thể làm điền dữ liệu bằng các giá trị thống kê đặc trưng như trung vị hoặc trung bình:"
   ]
  },
  {
   "cell_type": "code",
   "execution_count": 15,
   "id": "ceacf0f2",
   "metadata": {},
   "outputs": [
    {
     "data": {
      "text/plain": [
       "0    1.000000\n",
       "1    3.833333\n",
       "2    3.500000\n",
       "3    3.833333\n",
       "4    7.000000\n",
       "dtype: float64"
      ]
     },
     "execution_count": 15,
     "metadata": {},
     "output_type": "execute_result"
    }
   ],
   "source": [
    "data = pd.Series([1., np.nan, 3.5, np.nan, 7])\n",
    "data.fillna(data.mean())\n",
    "# Out[48]:\n",
    "# 0    1.000000\n",
    "# 1    3.833333\n",
    "# 2    3.500000\n",
    "# 3    3.833333\n",
    "# 4    7.000000\n",
    "# dtype: float64"
   ]
  },
  {
   "cell_type": "markdown",
   "id": "bf767e2b",
   "metadata": {},
   "source": [
    "Xem Bảng ... để tham khảo về các tham số của hàm `fillna`."
   ]
  },
  {
   "cell_type": "markdown",
   "id": "342bb882",
   "metadata": {},
   "source": [
    "**Bảng...: các tham số của hàm fillna**\n",
    "\n",
    "| Tham số | Mô tả |\n",
    "|---|---|\n",
    "| `value` | Giá trị vô hướng hoặc đối tượng giống dictionary được sử dụng để điền vào các giá trị bị thiếu. |\n",
    "| `method` | Phương pháp nội suy; một trong `\"bfill\"` (điền lùi) hoặc `\"ffill\"` (điền tiến); mặc định là `None`. |\n",
    "| `axis` | Trục cần điền (`\"index\"` hoặc `\"columns\"`); mặc định là `axis=\"index\"`. |\n",
    "| `limit` | Đối với điền tiến và lùi, số lượng tối đa các khoảng trống liên tiếp cần điền. |"
   ]
  },
  {
   "cell_type": "markdown",
   "id": "39399c38",
   "metadata": {},
   "source": [
    "## Chuyển đổi Dữ Liệu"
   ]
  },
  {
   "cell_type": "markdown",
   "id": "018a4393",
   "metadata": {},
   "source": [
    "Cho đến nay trong chương này, chúng ta đã thảo luận về xử lý dữ liệu bị thiếu. Ngoài ra, lọc dữ liệu và làm sạch làm sạch dữ liệu cũng là các bước xử lý quan trọng khác."
   ]
  },
  {
   "cell_type": "markdown",
   "id": "e317049f",
   "metadata": {},
   "source": [
    "### Loại bỏ các giá trị trùng lặp"
   ]
  },
  {
   "cell_type": "markdown",
   "id": "3c841ff6",
   "metadata": {},
   "source": [
    "Các hàng trùng lặp có thể được tìm thấy trong một DataFrame vì nhiều lý do. Đây là một ví dụ:"
   ]
  },
  {
   "cell_type": "code",
   "execution_count": 16,
   "id": "733e8352",
   "metadata": {},
   "outputs": [
    {
     "data": {
      "text/html": [
       "<div>\n",
       "<style scoped>\n",
       "    .dataframe tbody tr th:only-of-type {\n",
       "        vertical-align: middle;\n",
       "    }\n",
       "\n",
       "    .dataframe tbody tr th {\n",
       "        vertical-align: top;\n",
       "    }\n",
       "\n",
       "    .dataframe thead th {\n",
       "        text-align: right;\n",
       "    }\n",
       "</style>\n",
       "<table border=\"1\" class=\"dataframe\">\n",
       "  <thead>\n",
       "    <tr style=\"text-align: right;\">\n",
       "      <th></th>\n",
       "      <th>k1</th>\n",
       "      <th>k2</th>\n",
       "    </tr>\n",
       "  </thead>\n",
       "  <tbody>\n",
       "    <tr>\n",
       "      <th>0</th>\n",
       "      <td>one</td>\n",
       "      <td>1</td>\n",
       "    </tr>\n",
       "    <tr>\n",
       "      <th>1</th>\n",
       "      <td>two</td>\n",
       "      <td>1</td>\n",
       "    </tr>\n",
       "    <tr>\n",
       "      <th>2</th>\n",
       "      <td>one</td>\n",
       "      <td>2</td>\n",
       "    </tr>\n",
       "    <tr>\n",
       "      <th>3</th>\n",
       "      <td>two</td>\n",
       "      <td>3</td>\n",
       "    </tr>\n",
       "    <tr>\n",
       "      <th>4</th>\n",
       "      <td>one</td>\n",
       "      <td>3</td>\n",
       "    </tr>\n",
       "    <tr>\n",
       "      <th>5</th>\n",
       "      <td>two</td>\n",
       "      <td>4</td>\n",
       "    </tr>\n",
       "    <tr>\n",
       "      <th>6</th>\n",
       "      <td>two</td>\n",
       "      <td>4</td>\n",
       "    </tr>\n",
       "  </tbody>\n",
       "</table>\n",
       "</div>"
      ],
      "text/plain": [
       "    k1  k2\n",
       "0  one   1\n",
       "1  two   1\n",
       "2  one   2\n",
       "3  two   3\n",
       "4  one   3\n",
       "5  two   4\n",
       "6  two   4"
      ]
     },
     "execution_count": 16,
     "metadata": {},
     "output_type": "execute_result"
    }
   ],
   "source": [
    "data = pd.DataFrame({\"k1\": [\"one\", \"two\"] * 3 + [\"two\"],\n",
    "                     \"k2\": [1, 1, 2, 3, 3, 4, 4]})\n",
    "data\n",
    "# Out[50]:\n",
    "#      k1  k2\n",
    "# 0   one   1\n",
    "# 1   two   1\n",
    "# 2   one   2\n",
    "# 3   two   3\n",
    "# 4   one   3\n",
    "# 5   two   4\n",
    "# 6   two   4"
   ]
  },
  {
   "cell_type": "markdown",
   "id": "1172093b",
   "metadata": {},
   "source": [
    "Phương thức `duplicated` của DataFrame trả về một mảng kiểu logical cho biết liệu mỗi hàng có phải là một bản sao, nghĩa là các giá trị của nó hoàn toàn bằng với các giá trị trong một hàng trước đó, hay không:"
   ]
  },
  {
   "cell_type": "code",
   "execution_count": 17,
   "id": "f8ea9e08",
   "metadata": {},
   "outputs": [
    {
     "data": {
      "text/plain": [
       "0    False\n",
       "1    False\n",
       "2    False\n",
       "3    False\n",
       "4    False\n",
       "5    False\n",
       "6     True\n",
       "dtype: bool"
      ]
     },
     "execution_count": 17,
     "metadata": {},
     "output_type": "execute_result"
    }
   ],
   "source": [
    "data.duplicated()\n",
    "# Out[51]:\n",
    "# 0    False\n",
    "# 1    False\n",
    "# 2    False\n",
    "# 3    False\n",
    "# 4    False\n",
    "# 5    False\n",
    "# 6     True\n",
    "# dtype: bool"
   ]
  },
  {
   "cell_type": "markdown",
   "id": "b0e28e7e",
   "metadata": {},
   "source": [
    "Phương thức `drop_duplicates` trả về một DataFrame với các hàng mà mảng `duplicated` là `False` được lọc bỏ:"
   ]
  },
  {
   "cell_type": "code",
   "execution_count": 18,
   "id": "f41d5542",
   "metadata": {},
   "outputs": [
    {
     "data": {
      "text/html": [
       "<div>\n",
       "<style scoped>\n",
       "    .dataframe tbody tr th:only-of-type {\n",
       "        vertical-align: middle;\n",
       "    }\n",
       "\n",
       "    .dataframe tbody tr th {\n",
       "        vertical-align: top;\n",
       "    }\n",
       "\n",
       "    .dataframe thead th {\n",
       "        text-align: right;\n",
       "    }\n",
       "</style>\n",
       "<table border=\"1\" class=\"dataframe\">\n",
       "  <thead>\n",
       "    <tr style=\"text-align: right;\">\n",
       "      <th></th>\n",
       "      <th>k1</th>\n",
       "      <th>k2</th>\n",
       "    </tr>\n",
       "  </thead>\n",
       "  <tbody>\n",
       "    <tr>\n",
       "      <th>0</th>\n",
       "      <td>one</td>\n",
       "      <td>1</td>\n",
       "    </tr>\n",
       "    <tr>\n",
       "      <th>1</th>\n",
       "      <td>two</td>\n",
       "      <td>1</td>\n",
       "    </tr>\n",
       "    <tr>\n",
       "      <th>2</th>\n",
       "      <td>one</td>\n",
       "      <td>2</td>\n",
       "    </tr>\n",
       "    <tr>\n",
       "      <th>3</th>\n",
       "      <td>two</td>\n",
       "      <td>3</td>\n",
       "    </tr>\n",
       "    <tr>\n",
       "      <th>4</th>\n",
       "      <td>one</td>\n",
       "      <td>3</td>\n",
       "    </tr>\n",
       "    <tr>\n",
       "      <th>5</th>\n",
       "      <td>two</td>\n",
       "      <td>4</td>\n",
       "    </tr>\n",
       "  </tbody>\n",
       "</table>\n",
       "</div>"
      ],
      "text/plain": [
       "    k1  k2\n",
       "0  one   1\n",
       "1  two   1\n",
       "2  one   2\n",
       "3  two   3\n",
       "4  one   3\n",
       "5  two   4"
      ]
     },
     "execution_count": 18,
     "metadata": {},
     "output_type": "execute_result"
    }
   ],
   "source": [
    "data.drop_duplicates()\n",
    "# Out[52]:\n",
    "#      k1  k2\n",
    "# 0   one   1\n",
    "# 1   two   1\n",
    "# 2   one   2\n",
    "# 3   two   3\n",
    "# 4   one   3\n",
    "# 5   two   4"
   ]
  },
  {
   "cell_type": "markdown",
   "id": "a1525e2e",
   "metadata": {},
   "source": [
    "Cả hai phương thức này theo mặc định xem xét tất cả các cột. Tuy nhiên, bạn cũng có thể chỉ định bất kỳ tập hợp con nào của các cột để phát hiện ra các giá trị bị trùng lặp. Giả sử chúng ta có một cột giá trị bổ sung và muốn lọc các bản sao chỉ dựa trên cột `\"k1\"`:"
   ]
  },
  {
   "cell_type": "code",
   "execution_count": 19,
   "id": "bb55c2cd",
   "metadata": {},
   "outputs": [
    {
     "data": {
      "text/html": [
       "<div>\n",
       "<style scoped>\n",
       "    .dataframe tbody tr th:only-of-type {\n",
       "        vertical-align: middle;\n",
       "    }\n",
       "\n",
       "    .dataframe tbody tr th {\n",
       "        vertical-align: top;\n",
       "    }\n",
       "\n",
       "    .dataframe thead th {\n",
       "        text-align: right;\n",
       "    }\n",
       "</style>\n",
       "<table border=\"1\" class=\"dataframe\">\n",
       "  <thead>\n",
       "    <tr style=\"text-align: right;\">\n",
       "      <th></th>\n",
       "      <th>k1</th>\n",
       "      <th>k2</th>\n",
       "      <th>v1</th>\n",
       "    </tr>\n",
       "  </thead>\n",
       "  <tbody>\n",
       "    <tr>\n",
       "      <th>0</th>\n",
       "      <td>one</td>\n",
       "      <td>1</td>\n",
       "      <td>0</td>\n",
       "    </tr>\n",
       "    <tr>\n",
       "      <th>1</th>\n",
       "      <td>two</td>\n",
       "      <td>1</td>\n",
       "      <td>1</td>\n",
       "    </tr>\n",
       "  </tbody>\n",
       "</table>\n",
       "</div>"
      ],
      "text/plain": [
       "    k1  k2  v1\n",
       "0  one   1   0\n",
       "1  two   1   1"
      ]
     },
     "execution_count": 19,
     "metadata": {},
     "output_type": "execute_result"
    }
   ],
   "source": [
    "data[\"v1\"] = range(7)\n",
    "data\n",
    "# Out[54]:\n",
    "#      k1  k2  v1\n",
    "# 0   one   1   0\n",
    "# 1   two   1   1\n",
    "# 2   one   2   2\n",
    "# 3   two   3   3\n",
    "# 4   one   3   4\n",
    "# 5   two   4   5\n",
    "# 6   two   4   6\n",
    "\n",
    "data.drop_duplicates(subset=[\"k1\"])\n",
    "# Out[55]:\n",
    "#      k1  k2  v1\n",
    "# 0   one   1   0\n",
    "# 1   two   1   1"
   ]
  },
  {
   "cell_type": "markdown",
   "id": "881cd51b",
   "metadata": {},
   "source": [
    "`duplicated` và `drop_duplicates` theo mặc định giữ lại tổ hợp giá trị được quan sát đầu tiên. Sử dụng tham số `keep=\"last\"` sẽ loại bỏ các hàng bị lặp xuất hiện ở phía trên:"
   ]
  },
  {
   "cell_type": "code",
   "execution_count": 20,
   "id": "adbe0148",
   "metadata": {},
   "outputs": [
    {
     "data": {
      "text/html": [
       "<div>\n",
       "<style scoped>\n",
       "    .dataframe tbody tr th:only-of-type {\n",
       "        vertical-align: middle;\n",
       "    }\n",
       "\n",
       "    .dataframe tbody tr th {\n",
       "        vertical-align: top;\n",
       "    }\n",
       "\n",
       "    .dataframe thead th {\n",
       "        text-align: right;\n",
       "    }\n",
       "</style>\n",
       "<table border=\"1\" class=\"dataframe\">\n",
       "  <thead>\n",
       "    <tr style=\"text-align: right;\">\n",
       "      <th></th>\n",
       "      <th>k1</th>\n",
       "      <th>k2</th>\n",
       "      <th>v1</th>\n",
       "    </tr>\n",
       "  </thead>\n",
       "  <tbody>\n",
       "    <tr>\n",
       "      <th>0</th>\n",
       "      <td>one</td>\n",
       "      <td>1</td>\n",
       "      <td>0</td>\n",
       "    </tr>\n",
       "    <tr>\n",
       "      <th>1</th>\n",
       "      <td>two</td>\n",
       "      <td>1</td>\n",
       "      <td>1</td>\n",
       "    </tr>\n",
       "    <tr>\n",
       "      <th>2</th>\n",
       "      <td>one</td>\n",
       "      <td>2</td>\n",
       "      <td>2</td>\n",
       "    </tr>\n",
       "    <tr>\n",
       "      <th>3</th>\n",
       "      <td>two</td>\n",
       "      <td>3</td>\n",
       "      <td>3</td>\n",
       "    </tr>\n",
       "    <tr>\n",
       "      <th>4</th>\n",
       "      <td>one</td>\n",
       "      <td>3</td>\n",
       "      <td>4</td>\n",
       "    </tr>\n",
       "    <tr>\n",
       "      <th>6</th>\n",
       "      <td>two</td>\n",
       "      <td>4</td>\n",
       "      <td>6</td>\n",
       "    </tr>\n",
       "  </tbody>\n",
       "</table>\n",
       "</div>"
      ],
      "text/plain": [
       "    k1  k2  v1\n",
       "0  one   1   0\n",
       "1  two   1   1\n",
       "2  one   2   2\n",
       "3  two   3   3\n",
       "4  one   3   4\n",
       "6  two   4   6"
      ]
     },
     "execution_count": 20,
     "metadata": {},
     "output_type": "execute_result"
    }
   ],
   "source": [
    "data.drop_duplicates([\"k1\", \"k2\"], keep=\"last\")\n",
    "# Out[56]:\n",
    "#      k1  k2  v1\n",
    "# 0   one   1   0\n",
    "# 1   two   1   1\n",
    "# 2   one   2   2\n",
    "# 3   two   3   3\n",
    "# 4   one   3   4\n",
    "# 6   two   4   6"
   ]
  },
  {
   "cell_type": "markdown",
   "id": "f743b381",
   "metadata": {},
   "source": [
    "### Chuyển đổi dữ liệu bằng hàm hoặc mapping"
   ]
  },
  {
   "cell_type": "markdown",
   "id": "3e47500f",
   "metadata": {},
   "source": [
    "Đối với nhiều tập dữ liệu, bạn có thể muốn thực hiện một số chuyển đổi dựa trên các giá trị trong một mảng, Series hoặc cột trong DataFrame. Hãy xem xét dữ liệu giả định sau được thu thập về các loại thực phẩm khác nhau:"
   ]
  },
  {
   "cell_type": "code",
   "execution_count": 21,
   "id": "4bc6a8bf",
   "metadata": {},
   "outputs": [
    {
     "data": {
      "text/html": [
       "<div>\n",
       "<style scoped>\n",
       "    .dataframe tbody tr th:only-of-type {\n",
       "        vertical-align: middle;\n",
       "    }\n",
       "\n",
       "    .dataframe tbody tr th {\n",
       "        vertical-align: top;\n",
       "    }\n",
       "\n",
       "    .dataframe thead th {\n",
       "        text-align: right;\n",
       "    }\n",
       "</style>\n",
       "<table border=\"1\" class=\"dataframe\">\n",
       "  <thead>\n",
       "    <tr style=\"text-align: right;\">\n",
       "      <th></th>\n",
       "      <th>food</th>\n",
       "      <th>ounces</th>\n",
       "    </tr>\n",
       "  </thead>\n",
       "  <tbody>\n",
       "    <tr>\n",
       "      <th>0</th>\n",
       "      <td>bacon</td>\n",
       "      <td>4.0</td>\n",
       "    </tr>\n",
       "    <tr>\n",
       "      <th>1</th>\n",
       "      <td>pulled pork</td>\n",
       "      <td>3.0</td>\n",
       "    </tr>\n",
       "    <tr>\n",
       "      <th>2</th>\n",
       "      <td>bacon</td>\n",
       "      <td>12.0</td>\n",
       "    </tr>\n",
       "    <tr>\n",
       "      <th>3</th>\n",
       "      <td>pastrami</td>\n",
       "      <td>6.0</td>\n",
       "    </tr>\n",
       "    <tr>\n",
       "      <th>4</th>\n",
       "      <td>corned beef</td>\n",
       "      <td>7.5</td>\n",
       "    </tr>\n",
       "    <tr>\n",
       "      <th>5</th>\n",
       "      <td>bacon</td>\n",
       "      <td>8.0</td>\n",
       "    </tr>\n",
       "    <tr>\n",
       "      <th>6</th>\n",
       "      <td>pastrami</td>\n",
       "      <td>3.0</td>\n",
       "    </tr>\n",
       "    <tr>\n",
       "      <th>7</th>\n",
       "      <td>honey ham</td>\n",
       "      <td>5.0</td>\n",
       "    </tr>\n",
       "    <tr>\n",
       "      <th>8</th>\n",
       "      <td>nova lox</td>\n",
       "      <td>6.0</td>\n",
       "    </tr>\n",
       "  </tbody>\n",
       "</table>\n",
       "</div>"
      ],
      "text/plain": [
       "          food  ounces\n",
       "0        bacon     4.0\n",
       "1  pulled pork     3.0\n",
       "2        bacon    12.0\n",
       "3     pastrami     6.0\n",
       "4  corned beef     7.5\n",
       "5        bacon     8.0\n",
       "6     pastrami     3.0\n",
       "7    honey ham     5.0\n",
       "8     nova lox     6.0"
      ]
     },
     "execution_count": 21,
     "metadata": {},
     "output_type": "execute_result"
    }
   ],
   "source": [
    "data = pd.DataFrame({\"food\": [\"bacon\", \"pulled pork\", \"bacon\",\n",
    "                              \"pastrami\", \"corned beef\", \"bacon\",\n",
    "                              \"pastrami\", \"honey ham\", \"nova lox\"],\n",
    "                     \"ounces\": [4, 3, 12, 6, 7.5, 8, 3, 5, 6]})\n",
    "data\n",
    "# Out[58]:\n",
    "#           food  ounces\n",
    "# 0        bacon     4.0\n",
    "# 1  pulled pork     3.0\n",
    "# 2        bacon    12.0\n",
    "# 3     pastrami     6.0\n",
    "# 4  corned beef     7.5\n",
    "# 5        bacon     8.0\n",
    "# 6     pastrami     3.0\n",
    "# 7    honey ham     5.0\n",
    "# 8     nova lox     6.0"
   ]
  },
  {
   "cell_type": "markdown",
   "id": "51bfe41a",
   "metadata": {},
   "source": [
    "Giả sử bạn muốn thêm một cột cho biết loại động vật mà mỗi loại thực phẩm đến từ đó. Cần có một mapping của từng loại thịt riêng biệt đến loại động vật:"
   ]
  },
  {
   "cell_type": "code",
   "execution_count": 22,
   "id": "f2585715",
   "metadata": {},
   "outputs": [],
   "source": [
    "meat_to_animal = {\n",
    "  \"bacon\": \"pig\",\n",
    "  \"pulled pork\": \"pig\",\n",
    "  \"pastrami\": \"cow\",\n",
    "  \"corned beef\": \"cow\",\n",
    "  \"honey ham\": \"pig\",\n",
    "  \"nova lox\": \"salmon\"\n",
    "}"
   ]
  },
  {
   "cell_type": "markdown",
   "id": "0ae3b7b3",
   "metadata": {},
   "source": [
    "Phương thức `map` trên một mảng được chấp nhận như một hàm để thực hiện việc thêm một cột mới `animal` vào dữ liệu"
   ]
  },
  {
   "cell_type": "code",
   "execution_count": 23,
   "id": "2d8f7883",
   "metadata": {},
   "outputs": [
    {
     "data": {
      "text/html": [
       "<div>\n",
       "<style scoped>\n",
       "    .dataframe tbody tr th:only-of-type {\n",
       "        vertical-align: middle;\n",
       "    }\n",
       "\n",
       "    .dataframe tbody tr th {\n",
       "        vertical-align: top;\n",
       "    }\n",
       "\n",
       "    .dataframe thead th {\n",
       "        text-align: right;\n",
       "    }\n",
       "</style>\n",
       "<table border=\"1\" class=\"dataframe\">\n",
       "  <thead>\n",
       "    <tr style=\"text-align: right;\">\n",
       "      <th></th>\n",
       "      <th>food</th>\n",
       "      <th>ounces</th>\n",
       "      <th>animal</th>\n",
       "    </tr>\n",
       "  </thead>\n",
       "  <tbody>\n",
       "    <tr>\n",
       "      <th>0</th>\n",
       "      <td>bacon</td>\n",
       "      <td>4.0</td>\n",
       "      <td>pig</td>\n",
       "    </tr>\n",
       "    <tr>\n",
       "      <th>1</th>\n",
       "      <td>pulled pork</td>\n",
       "      <td>3.0</td>\n",
       "      <td>pig</td>\n",
       "    </tr>\n",
       "    <tr>\n",
       "      <th>2</th>\n",
       "      <td>bacon</td>\n",
       "      <td>12.0</td>\n",
       "      <td>pig</td>\n",
       "    </tr>\n",
       "    <tr>\n",
       "      <th>3</th>\n",
       "      <td>pastrami</td>\n",
       "      <td>6.0</td>\n",
       "      <td>cow</td>\n",
       "    </tr>\n",
       "    <tr>\n",
       "      <th>4</th>\n",
       "      <td>corned beef</td>\n",
       "      <td>7.5</td>\n",
       "      <td>cow</td>\n",
       "    </tr>\n",
       "    <tr>\n",
       "      <th>5</th>\n",
       "      <td>bacon</td>\n",
       "      <td>8.0</td>\n",
       "      <td>pig</td>\n",
       "    </tr>\n",
       "    <tr>\n",
       "      <th>6</th>\n",
       "      <td>pastrami</td>\n",
       "      <td>3.0</td>\n",
       "      <td>cow</td>\n",
       "    </tr>\n",
       "    <tr>\n",
       "      <th>7</th>\n",
       "      <td>honey ham</td>\n",
       "      <td>5.0</td>\n",
       "      <td>pig</td>\n",
       "    </tr>\n",
       "    <tr>\n",
       "      <th>8</th>\n",
       "      <td>nova lox</td>\n",
       "      <td>6.0</td>\n",
       "      <td>salmon</td>\n",
       "    </tr>\n",
       "  </tbody>\n",
       "</table>\n",
       "</div>"
      ],
      "text/plain": [
       "          food  ounces  animal\n",
       "0        bacon     4.0     pig\n",
       "1  pulled pork     3.0     pig\n",
       "2        bacon    12.0     pig\n",
       "3     pastrami     6.0     cow\n",
       "4  corned beef     7.5     cow\n",
       "5        bacon     8.0     pig\n",
       "6     pastrami     3.0     cow\n",
       "7    honey ham     5.0     pig\n",
       "8     nova lox     6.0  salmon"
      ]
     },
     "execution_count": 23,
     "metadata": {},
     "output_type": "execute_result"
    }
   ],
   "source": [
    "data[\"animal\"] = data[\"food\"].map(meat_to_animal)\n",
    "data\n",
    "# Out[61]:\n",
    "#           food  ounces  animal\n",
    "# 0        bacon     4.0     pig\n",
    "# 1  pulled pork     3.0     pig\n",
    "# 2        bacon    12.0     pig\n",
    "# 3     pastrami     6.0     cow\n",
    "# 4  corned beef     7.5     cow\n",
    "# 5        bacon     8.0     pig\n",
    "# 6     pastrami     3.0     cow\n",
    "# 7    honey ham     5.0     pig\n",
    "# 8     nova lox     6.0  salmon"
   ]
  },
  {
   "cell_type": "markdown",
   "id": "8a3c3e60",
   "metadata": {},
   "source": [
    "Hoặc chúng ta cũng có thể định nghĩa một hàm thay cho phương thức `map`"
   ]
  },
  {
   "cell_type": "code",
   "execution_count": 24,
   "id": "f2cdefd7",
   "metadata": {},
   "outputs": [
    {
     "data": {
      "text/plain": [
       "0       pig\n",
       "1       pig\n",
       "2       pig\n",
       "3       cow\n",
       "4       cow\n",
       "5       pig\n",
       "6       cow\n",
       "7       pig\n",
       "8    salmon\n",
       "Name: food, dtype: object"
      ]
     },
     "execution_count": 24,
     "metadata": {},
     "output_type": "execute_result"
    }
   ],
   "source": [
    "def get_animal(x):\n",
    "    return meat_to_animal[x]\n",
    "\n",
    "data[\"food\"].map(get_animal)\n",
    "# Out[63]:\n",
    "# 0       pig\n",
    "# 1       pig\n",
    "# 2       pig\n",
    "# 3       cow\n",
    "# 4       cow\n",
    "# 5       pig\n",
    "# 6       cow\n",
    "# 7       pig\n",
    "# 8    salmon\n",
    "# Name: food, dtype: object"
   ]
  },
  {
   "cell_type": "markdown",
   "id": "f9b060dc",
   "metadata": {},
   "source": [
    "Nhìn chung, sử dụng `map` là một cách thuận tiện để thực hiện các phép biến đổi theo từng phần tử và các hoạt động liên quan đến làm sạch dữ liệu khác."
   ]
  },
  {
   "cell_type": "markdown",
   "id": "066e25fd",
   "metadata": {},
   "source": [
    "### Thay thế các giá trị"
   ]
  },
  {
   "cell_type": "markdown",
   "id": "0bc074e2",
   "metadata": {},
   "source": [
    "Điền vào dữ liệu bị thiếu bằng phương thức `fillna` là một trường hợp đặc biệt của việc thay thế giá trị trong trường hợp tổng quát hơn. Như chúng ta đã thấy, `map` có thể được sử dụng để sửa đổi một tập hợp con các giá trị trong một đối tượng, nhưng `replace` cung cấp một cách đơn giản và linh hoạt hơn để làm điều đó. Hãy xem xét Series này:"
   ]
  },
  {
   "cell_type": "code",
   "execution_count": 25,
   "id": "78bef6fd",
   "metadata": {},
   "outputs": [
    {
     "data": {
      "text/plain": [
       "0       1.0\n",
       "1    -999.0\n",
       "2       2.0\n",
       "3    -999.0\n",
       "4   -1000.0\n",
       "5       3.0\n",
       "dtype: float64"
      ]
     },
     "execution_count": 25,
     "metadata": {},
     "output_type": "execute_result"
    }
   ],
   "source": [
    "data = pd.Series([1., -999., 2., -999., -1000., 3.])\n",
    "data\n",
    "# Out[65]:\n",
    "# 0       1.0\n",
    "# 1    -999.0\n",
    "# 2       2.0\n",
    "# 3    -999.0\n",
    "# 4   -1000.0\n",
    "# 5       3.0\n",
    "# dtype: float64"
   ]
  },
  {
   "cell_type": "markdown",
   "id": "9bbb9b13",
   "metadata": {},
   "source": [
    "Giá trị `-999` có thể là giá trị sentinel cho dữ liệu không quan sát được. Để thay thế những giá trị này bằng các giá trị `NA` mà pandas hiểu, chúng ta có thể sử dụng `replace`, tạo ra một Series mới:"
   ]
  },
  {
   "cell_type": "code",
   "execution_count": 26,
   "id": "79e471fb",
   "metadata": {},
   "outputs": [
    {
     "data": {
      "text/plain": [
       "0       1.0\n",
       "1       NaN\n",
       "2       2.0\n",
       "3       NaN\n",
       "4   -1000.0\n",
       "5       3.0\n",
       "dtype: float64"
      ]
     },
     "execution_count": 26,
     "metadata": {},
     "output_type": "execute_result"
    }
   ],
   "source": [
    "data.replace(-999, np.nan)\n",
    "# Out[66]:\n",
    "# 0       1.0\n",
    "# 1       NaN\n",
    "# 2       2.0\n",
    "# 3       NaN\n",
    "# 4   -1000.0\n",
    "# 5       3.0\n",
    "# dtype: float64"
   ]
  },
  {
   "cell_type": "markdown",
   "id": "d4ac160f",
   "metadata": {},
   "source": [
    "Nếu bạn muốn thay thế nhiều giá trị cùng một lúc, bạn thay vào một danh sách và sau đó là giá trị thay thế:"
   ]
  },
  {
   "cell_type": "code",
   "execution_count": 27,
   "id": "b8b26697",
   "metadata": {},
   "outputs": [
    {
     "data": {
      "text/plain": [
       "0    1.0\n",
       "1    NaN\n",
       "2    2.0\n",
       "3    NaN\n",
       "4    NaN\n",
       "5    3.0\n",
       "dtype: float64"
      ]
     },
     "execution_count": 27,
     "metadata": {},
     "output_type": "execute_result"
    }
   ],
   "source": [
    "data.replace([-999, -1000], np.nan)\n",
    "# Out[67]:\n",
    "# 0    1.0\n",
    "# 1    NaN\n",
    "# 2    2.0\n",
    "# 3    NaN\n",
    "# 4    NaN\n",
    "# 5    3.0\n",
    "# dtype: float64"
   ]
  },
  {
   "cell_type": "markdown",
   "id": "4ded3971",
   "metadata": {},
   "source": [
    "Để sử dụng một giá trị thay thế khác nhau cho mỗi giá trị, hãy sử dụng một danh sách các giá trị thay thế:"
   ]
  },
  {
   "cell_type": "code",
   "execution_count": 28,
   "id": "bac5c497",
   "metadata": {},
   "outputs": [
    {
     "data": {
      "text/plain": [
       "0    1.0\n",
       "1    NaN\n",
       "2    2.0\n",
       "3    NaN\n",
       "4    0.0\n",
       "5    3.0\n",
       "dtype: float64"
      ]
     },
     "execution_count": 28,
     "metadata": {},
     "output_type": "execute_result"
    }
   ],
   "source": [
    "data.replace([-999, -1000], [np.nan, 0])\n",
    "# Out[68]:\n",
    "# 0    1.0\n",
    "# 1    NaN\n",
    "# 2    2.0\n",
    "# 3    NaN\n",
    "# 4    0.0\n",
    "# 5    3.0\n",
    "# dtype: float64"
   ]
  },
  {
   "cell_type": "markdown",
   "id": "23609b7d",
   "metadata": {},
   "source": [
    "> **Lưu ý**: Phương thức `data.replace` khác với `data.str.replace`, phương thức này thực hiện thay thế chuỗi theo từng phần tử. Chúng ta sẽ xem xét các phương thức chuỗi này trên Series sau trong chương."
   ]
  },
  {
   "cell_type": "markdown",
   "id": "c71a09d1",
   "metadata": {},
   "source": [
    "### Đổi tên chỉ số hàng và cột"
   ]
  },
  {
   "cell_type": "markdown",
   "id": "8e48d2c4",
   "metadata": {},
   "source": [
    "Giống như các giá trị trong một `Series`, các tên hàng và tên cột trong một `DataFrame` có thể được chuyển đổi tương tự bằng một hàm hoặc mapping để tạo ra các chỉ số mới. Bạn cũng có thể sửa đổi các chỉ số mà không cần tạo ra một cấu trúc dữ liệu mới. Đây là một ví dụ đơn giản:"
   ]
  },
  {
   "cell_type": "code",
   "execution_count": 29,
   "id": "95ec6ea5",
   "metadata": {},
   "outputs": [
    {
     "data": {
      "text/html": [
       "<div>\n",
       "<style scoped>\n",
       "    .dataframe tbody tr th:only-of-type {\n",
       "        vertical-align: middle;\n",
       "    }\n",
       "\n",
       "    .dataframe tbody tr th {\n",
       "        vertical-align: top;\n",
       "    }\n",
       "\n",
       "    .dataframe thead th {\n",
       "        text-align: right;\n",
       "    }\n",
       "</style>\n",
       "<table border=\"1\" class=\"dataframe\">\n",
       "  <thead>\n",
       "    <tr style=\"text-align: right;\">\n",
       "      <th></th>\n",
       "      <th>one</th>\n",
       "      <th>two</th>\n",
       "      <th>three</th>\n",
       "      <th>four</th>\n",
       "    </tr>\n",
       "  </thead>\n",
       "  <tbody>\n",
       "    <tr>\n",
       "      <th>Ohio</th>\n",
       "      <td>0</td>\n",
       "      <td>1</td>\n",
       "      <td>2</td>\n",
       "      <td>3</td>\n",
       "    </tr>\n",
       "    <tr>\n",
       "      <th>Colorado</th>\n",
       "      <td>4</td>\n",
       "      <td>5</td>\n",
       "      <td>6</td>\n",
       "      <td>7</td>\n",
       "    </tr>\n",
       "    <tr>\n",
       "      <th>New York</th>\n",
       "      <td>8</td>\n",
       "      <td>9</td>\n",
       "      <td>10</td>\n",
       "      <td>11</td>\n",
       "    </tr>\n",
       "  </tbody>\n",
       "</table>\n",
       "</div>"
      ],
      "text/plain": [
       "          one  two  three  four\n",
       "Ohio        0    1      2     3\n",
       "Colorado    4    5      6     7\n",
       "New York    8    9     10    11"
      ]
     },
     "execution_count": 29,
     "metadata": {},
     "output_type": "execute_result"
    }
   ],
   "source": [
    "data = pd.DataFrame(np.arange(12).reshape((3, 4)),\n",
    "                    index=[\"Ohio\", \"Colorado\", \"New York\"],\n",
    "                    columns=[\"one\", \"two\", \"three\", \"four\"])\n",
    "data"
   ]
  },
  {
   "cell_type": "markdown",
   "id": "bebc24e0",
   "metadata": {},
   "source": [
    "Giống như một Series, chỉ số của trục có một phương thức `map`:"
   ]
  },
  {
   "cell_type": "code",
   "execution_count": 30,
   "id": "fc5f89b5",
   "metadata": {},
   "outputs": [
    {
     "data": {
      "text/plain": [
       "Index(['OHIO', 'COLO', 'NEW '], dtype='object')"
      ]
     },
     "execution_count": 30,
     "metadata": {},
     "output_type": "execute_result"
    }
   ],
   "source": [
    "def transform(x):\n",
    "    return x[:4].upper()\n",
    "\n",
    "data.index.map(transform)\n",
    "# Out[72]: Index(['OHIO', 'COLO', 'NEW '], dtype='object')"
   ]
  },
  {
   "cell_type": "markdown",
   "id": "6a6f2fda",
   "metadata": {},
   "source": [
    "Bạn có thể gán cho thuộc tính `index`, sửa đổi DataFrame trực tiếp:"
   ]
  },
  {
   "cell_type": "code",
   "execution_count": 31,
   "id": "2ec009cd",
   "metadata": {},
   "outputs": [
    {
     "data": {
      "text/html": [
       "<div>\n",
       "<style scoped>\n",
       "    .dataframe tbody tr th:only-of-type {\n",
       "        vertical-align: middle;\n",
       "    }\n",
       "\n",
       "    .dataframe tbody tr th {\n",
       "        vertical-align: top;\n",
       "    }\n",
       "\n",
       "    .dataframe thead th {\n",
       "        text-align: right;\n",
       "    }\n",
       "</style>\n",
       "<table border=\"1\" class=\"dataframe\">\n",
       "  <thead>\n",
       "    <tr style=\"text-align: right;\">\n",
       "      <th></th>\n",
       "      <th>one</th>\n",
       "      <th>two</th>\n",
       "      <th>three</th>\n",
       "      <th>four</th>\n",
       "    </tr>\n",
       "  </thead>\n",
       "  <tbody>\n",
       "    <tr>\n",
       "      <th>OHIO</th>\n",
       "      <td>0</td>\n",
       "      <td>1</td>\n",
       "      <td>2</td>\n",
       "      <td>3</td>\n",
       "    </tr>\n",
       "    <tr>\n",
       "      <th>COLO</th>\n",
       "      <td>4</td>\n",
       "      <td>5</td>\n",
       "      <td>6</td>\n",
       "      <td>7</td>\n",
       "    </tr>\n",
       "    <tr>\n",
       "      <th>NEW</th>\n",
       "      <td>8</td>\n",
       "      <td>9</td>\n",
       "      <td>10</td>\n",
       "      <td>11</td>\n",
       "    </tr>\n",
       "  </tbody>\n",
       "</table>\n",
       "</div>"
      ],
      "text/plain": [
       "      one  two  three  four\n",
       "OHIO    0    1      2     3\n",
       "COLO    4    5      6     7\n",
       "NEW     8    9     10    11"
      ]
     },
     "execution_count": 31,
     "metadata": {},
     "output_type": "execute_result"
    }
   ],
   "source": [
    "data.index = data.index.map(transform)\n",
    "data\n",
    "# Out[74]:\n",
    "#        one  two  three  four\n",
    "# OHIO     0    1      2     3\n",
    "# COLO     4    5      6     7\n",
    "# NEW      8    9     10    11"
   ]
  },
  {
   "cell_type": "markdown",
   "id": "2ec1a124",
   "metadata": {},
   "source": [
    "Nếu bạn muốn tạo một phiên bản đã được chuyển đổi của một tập dữ liệu mà không sửa đổi bản gốc, một phương thức hữu ích là `rename`:"
   ]
  },
  {
   "cell_type": "code",
   "execution_count": 32,
   "id": "800d5a87",
   "metadata": {},
   "outputs": [
    {
     "data": {
      "text/html": [
       "<div>\n",
       "<style scoped>\n",
       "    .dataframe tbody tr th:only-of-type {\n",
       "        vertical-align: middle;\n",
       "    }\n",
       "\n",
       "    .dataframe tbody tr th {\n",
       "        vertical-align: top;\n",
       "    }\n",
       "\n",
       "    .dataframe thead th {\n",
       "        text-align: right;\n",
       "    }\n",
       "</style>\n",
       "<table border=\"1\" class=\"dataframe\">\n",
       "  <thead>\n",
       "    <tr style=\"text-align: right;\">\n",
       "      <th></th>\n",
       "      <th>ONE</th>\n",
       "      <th>TWO</th>\n",
       "      <th>THREE</th>\n",
       "      <th>FOUR</th>\n",
       "    </tr>\n",
       "  </thead>\n",
       "  <tbody>\n",
       "    <tr>\n",
       "      <th>Ohio</th>\n",
       "      <td>0</td>\n",
       "      <td>1</td>\n",
       "      <td>2</td>\n",
       "      <td>3</td>\n",
       "    </tr>\n",
       "    <tr>\n",
       "      <th>Colo</th>\n",
       "      <td>4</td>\n",
       "      <td>5</td>\n",
       "      <td>6</td>\n",
       "      <td>7</td>\n",
       "    </tr>\n",
       "    <tr>\n",
       "      <th>New</th>\n",
       "      <td>8</td>\n",
       "      <td>9</td>\n",
       "      <td>10</td>\n",
       "      <td>11</td>\n",
       "    </tr>\n",
       "  </tbody>\n",
       "</table>\n",
       "</div>"
      ],
      "text/plain": [
       "      ONE  TWO  THREE  FOUR\n",
       "Ohio    0    1      2     3\n",
       "Colo    4    5      6     7\n",
       "New     8    9     10    11"
      ]
     },
     "execution_count": 32,
     "metadata": {},
     "output_type": "execute_result"
    }
   ],
   "source": [
    "data.rename(index=str.title, columns=str.upper)\n",
    "# Out[75]:\n",
    "#        ONE  TWO  THREE  FOUR\n",
    "# Ohio     0    1      2     3\n",
    "# Colo     4    5      6     7\n",
    "# New      8    9     10    11"
   ]
  },
  {
   "cell_type": "markdown",
   "id": "4180a975",
   "metadata": {},
   "source": [
    "Đáng chú ý là `rename` có thể được sử dụng kết hợp với một đối tượng giống từ điển, cung cấp các giá trị mới cho một tập hợp con các tên hàng hoặc tên cột:"
   ]
  },
  {
   "cell_type": "code",
   "execution_count": 33,
   "id": "a20688b2",
   "metadata": {},
   "outputs": [
    {
     "data": {
      "text/html": [
       "<div>\n",
       "<style scoped>\n",
       "    .dataframe tbody tr th:only-of-type {\n",
       "        vertical-align: middle;\n",
       "    }\n",
       "\n",
       "    .dataframe tbody tr th {\n",
       "        vertical-align: top;\n",
       "    }\n",
       "\n",
       "    .dataframe thead th {\n",
       "        text-align: right;\n",
       "    }\n",
       "</style>\n",
       "<table border=\"1\" class=\"dataframe\">\n",
       "  <thead>\n",
       "    <tr style=\"text-align: right;\">\n",
       "      <th></th>\n",
       "      <th>one</th>\n",
       "      <th>two</th>\n",
       "      <th>peekaboo</th>\n",
       "      <th>four</th>\n",
       "    </tr>\n",
       "  </thead>\n",
       "  <tbody>\n",
       "    <tr>\n",
       "      <th>INDIANA</th>\n",
       "      <td>0</td>\n",
       "      <td>1</td>\n",
       "      <td>2</td>\n",
       "      <td>3</td>\n",
       "    </tr>\n",
       "    <tr>\n",
       "      <th>COLO</th>\n",
       "      <td>4</td>\n",
       "      <td>5</td>\n",
       "      <td>6</td>\n",
       "      <td>7</td>\n",
       "    </tr>\n",
       "    <tr>\n",
       "      <th>NEW</th>\n",
       "      <td>8</td>\n",
       "      <td>9</td>\n",
       "      <td>10</td>\n",
       "      <td>11</td>\n",
       "    </tr>\n",
       "  </tbody>\n",
       "</table>\n",
       "</div>"
      ],
      "text/plain": [
       "         one  two  peekaboo  four\n",
       "INDIANA    0    1         2     3\n",
       "COLO       4    5         6     7\n",
       "NEW        8    9        10    11"
      ]
     },
     "execution_count": 33,
     "metadata": {},
     "output_type": "execute_result"
    }
   ],
   "source": [
    "data.rename(index={\"OHIO\": \"INDIANA\"},\n",
    "            columns={\"three\": \"peekaboo\"})\n",
    "# Out[76]:\n",
    "#          one  two  peekaboo  four\n",
    "# INDIANA    0    1         2     3\n",
    "# COLO       4    5         6     7\n",
    "# NEW        8    9        10    11"
   ]
  },
  {
   "cell_type": "markdown",
   "id": "70593937",
   "metadata": {},
   "source": [
    "`rename` giúp bạn không phải thực hiện công việc sao chép DataFrame thủ công và gán các giá trị mới cho các thuộc tính `index` và `columns` của nó."
   ]
  },
  {
   "cell_type": "markdown",
   "id": "11776229",
   "metadata": {},
   "source": [
    "### Rời rạc hóa và phân nhóm"
   ]
  },
  {
   "cell_type": "markdown",
   "id": "4247883d",
   "metadata": {},
   "source": [
    "Trong nhiều trường hợp, dữ liệu liên tục thường được rời rạc hóa hoặc tách thành các nhóm (bins) để phân tích. Giả sử bạn có dữ liệu về một nhóm người trong một nghiên cứu và bạn muốn nhóm họ thành các nhóm tuổi riêng biệt:"
   ]
  },
  {
   "cell_type": "code",
   "execution_count": 34,
   "id": "9a99b280",
   "metadata": {},
   "outputs": [],
   "source": [
    "ages = [20, 22, 25, 27, 21, 23, 37, 31, 61, 45, 41, 32]"
   ]
  },
  {
   "cell_type": "markdown",
   "id": "3c31639c",
   "metadata": {},
   "source": [
    "Yêu cầu đặt ra là chia những tuổi này thành các nhóm từ 18 đến 25, 26 đến 35, 36 đến 60 và cuối cùng là 61 tuổi trở lên. Để làm điều này, bạn phải sử dụng `pandas.cut`:"
   ]
  },
  {
   "cell_type": "code",
   "execution_count": 35,
   "id": "39005687",
   "metadata": {},
   "outputs": [
    {
     "data": {
      "text/plain": [
       "[(18, 25], (18, 25], (18, 25], (25, 35], (18, 25], ..., (25, 35], (60, 100], (35, 60], (35, 60], (25, 35]]\n",
       "Length: 12\n",
       "Categories (4, interval[int64, right]): [(18, 25] < (25, 35] < (35, 60] < (60, 100]]"
      ]
     },
     "execution_count": 35,
     "metadata": {},
     "output_type": "execute_result"
    }
   ],
   "source": [
    "bins = [18, 25, 35, 60, 100]\n",
    "age_categories = pd.cut(ages, bins)\n",
    "age_categories\n",
    "# Out[80]:\n",
    "# [(18, 25], (18, 25], (18, 25], (25, 35], (18, 25], ..., (25, 35], (60, 100], (35, 60], (35, 60], (25, 35]]\n",
    "# Length: 12\n",
    "# Categories (4, interval[int64, right]): [(18, 25] < (25, 35] < (35, 60] < (60, 100]]"
   ]
  },
  {
   "cell_type": "markdown",
   "id": "b3578521",
   "metadata": {},
   "source": [
    "Đối tượng mà `pandas` trả về là một đối tượng kiểu phân loại, hay categorical, đặc biệt. Kết quả hiển thị mô tả các nhóm được tính toán bởi `pandas.cut`. Mỗi nhóm được xác định bởi một kiểu giá trị khoảng đặc biệt chứa giới hạn dưới và giới hạn trên của mỗi nhóm:"
   ]
  },
  {
   "cell_type": "code",
   "execution_count": 36,
   "id": "8cfc36af",
   "metadata": {},
   "outputs": [
    {
     "name": "stderr",
     "output_type": "stream",
     "text": [
      "C:\\Users\\AD\\AppData\\Local\\Temp\\ipykernel_26284\\3864904008.py:11: FutureWarning: pandas.value_counts is deprecated and will be removed in a future version. Use pd.Series(obj).value_counts() instead.\n",
      "  pd.value_counts(age_categories)\n"
     ]
    },
    {
     "data": {
      "text/plain": [
       "(18, 25]     5\n",
       "(25, 35]     3\n",
       "(35, 60]     3\n",
       "(60, 100]    1\n",
       "Name: count, dtype: int64"
      ]
     },
     "execution_count": 36,
     "metadata": {},
     "output_type": "execute_result"
    }
   ],
   "source": [
    "age_categories.codes\n",
    "# Out[81]: array([0, 0, 0, 1, 0, 0, 2, 1, 3, 2, 2, 1], dtype=int8)\n",
    "\n",
    "age_categories.categories\n",
    "# Out[82]: IntervalIndex([(18, 25], (25, 35], (35, 60], (60, 100]],\n",
    "#           dtype='interval[int64, right]')\n",
    "\n",
    "age_categories.categories[0]\n",
    "# Out[83]: Interval(18, 25, closed='right')\n",
    "\n",
    "pd.value_counts(age_categories)\n",
    "# Out[84]:\n",
    "# (18, 25]     5\n",
    "# (25, 35]     3\n",
    "# (35, 60]     3\n",
    "# (60, 100]    1\n",
    "# Name: count, dtype: int64"
   ]
  },
  {
   "cell_type": "markdown",
   "id": "728c611d",
   "metadata": {},
   "source": [
    "Lưu ý rằng `pd.value_counts(categories)` là số lượng nhóm cho kết quả của `pandas.cut`.\n",
    "\n",
    "Trong biểu diễn chuỗi của một khoảng, một dấu ngoặc đơn có nghĩa là phía đó mở (không bao gồm), trong khi dấu ngoặc vuông có nghĩa là phía đó đóng (bao gồm). Bạn có thể thay đổi phía nào được đóng bằng cách truyền `right=False`:"
   ]
  },
  {
   "cell_type": "code",
   "execution_count": 37,
   "id": "510e8bbd",
   "metadata": {},
   "outputs": [
    {
     "data": {
      "text/plain": [
       "[[18, 25), [18, 25), [25, 35), [25, 35), [18, 25), ..., [25, 35), [60, 100), [35, 60), [35, 60), [25, 35)]\n",
       "Length: 12\n",
       "Categories (4, interval[int64, left]): [[18, 25) < [25, 35) < [35, 60) < [60, 100)]"
      ]
     },
     "execution_count": 37,
     "metadata": {},
     "output_type": "execute_result"
    }
   ],
   "source": [
    "pd.cut(ages, bins, right=False)\n",
    "# Out[85]:\n",
    "# [[18, 25), [18, 25), [25, 35), [25, 35), [18, 25), ..., [25, 35), [60, 100), [35, 60), [35, 60), [25, 35)]\n",
    "# Length: 12\n",
    "# Categories (4, interval[int64, left]): [[18, 25) < [25, 35) < [35, 60) < [60, 100)]"
   ]
  },
  {
   "cell_type": "markdown",
   "id": "c53baa75",
   "metadata": {},
   "source": [
    "Bạn có thể ghi đè tên nhóm dựa trên khoảng mặc định bằng cách truyền một danh sách hoặc mảng cho tùy chọn `labels`:"
   ]
  },
  {
   "cell_type": "code",
   "execution_count": 38,
   "id": "f5181565",
   "metadata": {},
   "outputs": [
    {
     "data": {
      "text/plain": [
       "['Youth', 'Youth', 'Youth', 'YoungAdult', 'Youth', ..., 'YoungAdult', 'Senior', 'MiddleAged', 'MiddleAged', 'YoungAdult']\n",
       "Length: 12\n",
       "Categories (4, object): ['Youth' < 'YoungAdult' < 'MiddleAged' < 'Senior']"
      ]
     },
     "execution_count": 38,
     "metadata": {},
     "output_type": "execute_result"
    }
   ],
   "source": [
    "group_names = [\"Youth\", \"YoungAdult\", \"MiddleAged\", \"Senior\"]\n",
    "pd.cut(ages, bins, labels=group_names)\n",
    "# Out[87]:\n",
    "# ['Youth', 'Youth', 'Youth', 'YoungAdult', 'Youth', ..., 'YoungAdult', 'Senior', 'MiddleAged', 'MiddleAged', 'YoungAdult']\n",
    "# Length: 12\n",
    "# Categories (4, object): ['Youth' < 'YoungAdult' < 'MiddleAged' < 'Senior']"
   ]
  },
  {
   "cell_type": "markdown",
   "id": "31d19c94",
   "metadata": {},
   "source": [
    "Nếu bạn gán một số nguyên, truyền tham số số lượng nhóm vào `pandas.cut` thay vì các giới hạn nhóm rõ ràng, `pandas` sẽ tính toán các nhóm có chiều dài bằng nhau dựa trên các giá trị tối thiểu và tối đa trong dữ liệu. Hãy xem xét trường hợp một số dữ liệu được phân bố đều được chia thành bốn phần:"
   ]
  },
  {
   "cell_type": "code",
   "execution_count": 39,
   "id": "c1b0ea44",
   "metadata": {},
   "outputs": [
    {
     "data": {
      "text/plain": [
       "[(0.34, 0.55], (0.34, 0.55], (0.76, 0.97], (0.76, 0.97], (0.34, 0.55], ..., (0.34, 0.55], (0.34, 0.55], (0.55, 0.76], (0.34, 0.55], (0.12, 0.34]]\n",
       "Length: 20\n",
       "Categories (4, interval[float64, right]): [(0.12, 0.34] < (0.34, 0.55] < (0.55, 0.76] < (0.76, 0.97]]"
      ]
     },
     "execution_count": 39,
     "metadata": {},
     "output_type": "execute_result"
    }
   ],
   "source": [
    "data = np.random.uniform(size=20)\n",
    "pd.cut(data, 4, precision=2)\n",
    "# Out[89]:\n",
    "# [(0.34, 0.55], (0.34, 0.55], (0.76, 0.97], (0.76, 0.97], (0.34, 0.55], ...,\n",
    "#  (0.34, 0.55], (0.34, 0.55], (0.55, 0.76], (0.34, 0.55], (0.12, 0.34]]\n",
    "# Length: 20\n",
    "# Categories (4, interval[float64, right]): [(0.12, 0.34] < (0.34, 0.55] < (0.55, 0.76] < (0.76, 0.97]]"
   ]
  },
  {
   "cell_type": "markdown",
   "id": "64ca3cb0",
   "metadata": {},
   "source": [
    "Tùy chọn `precision=2` giới hạn độ chính xác thập phân đến hai chữ số.\n",
    "\n",
    "Một hàm liên quan chặt chẽ đến phân nhóm dữ liệu là `pandas.qcut` có thể phân nhóm dữ liệu dựa trên các phân vị. Tùy thuộc vào sự phân bố của dữ liệu, việc sử dụng `pandas.cut` thường sẽ không dẫn đến việc mỗi nhóm có cùng số lượng điểm dữ liệu. Vì `pandas.qcut` sử dụng các phân vị mẫu thay vào đó, bạn sẽ thu được các nhóm có kích thước gần bằng nhau:"
   ]
  },
  {
   "cell_type": "code",
   "execution_count": 40,
   "id": "63a367a7",
   "metadata": {},
   "outputs": [
    {
     "name": "stderr",
     "output_type": "stream",
     "text": [
      "C:\\Users\\AD\\AppData\\Local\\Temp\\ipykernel_26284\\910640099.py:10: FutureWarning: pandas.value_counts is deprecated and will be removed in a future version. Use pd.Series(obj).value_counts() instead.\n",
      "  pd.value_counts(quartiles)\n"
     ]
    },
    {
     "data": {
      "text/plain": [
       "(-2.96, -0.68]     250\n",
       "(-0.68, -0.026]    250\n",
       "(-0.026, 0.62]     250\n",
       "(0.62, 3.93]       250\n",
       "Name: count, dtype: int64"
      ]
     },
     "execution_count": 40,
     "metadata": {},
     "output_type": "execute_result"
    }
   ],
   "source": [
    "data = np.random.standard_normal(1000)\n",
    "quartiles = pd.qcut(data, 4, precision=2)\n",
    "quartiles\n",
    "# Out[92]:\n",
    "# [(-0.026, 0.62], (0.62, 3.93], (-0.68, -0.026], (0.62, 3.93], (-0.026, 0.62], ...,\n",
    "#  (-0.68, -0.026], (-0.68, -0.026], (-2.96, -0.68], (0.62, 3.93], (-0.68, -0.026]]\n",
    "# Length: 1000\n",
    "# Categories (4, interval[float64, right]): [(-2.96, -0.68] < (-0.68, -0.026] < (-0.026, 0.62] < (0.62, 3.93]]\n",
    "\n",
    "pd.value_counts(quartiles)\n",
    "# Out[93]:\n",
    "# (-2.96, -0.68]     250\n",
    "# (-0.68, -0.026]    250\n",
    "# (-0.026, 0.62]     250\n",
    "# (0.62, 3.93]      250\n",
    "# Name: count, dtype: int64"
   ]
  },
  {
   "cell_type": "markdown",
   "id": "7b6b6ea5",
   "metadata": {},
   "source": [
    "Tương tự như `pandas.cut`, bạn có thể tự tạo các phân vị theo ý mình mình:"
   ]
  },
  {
   "cell_type": "code",
   "execution_count": 41,
   "id": "e2a90cec",
   "metadata": {},
   "outputs": [
    {
     "data": {
      "text/plain": [
       "(-2.9499999999999997, -1.187]    100\n",
       "(-1.187, -0.0265]                400\n",
       "(-0.0265, 1.286]                 400\n",
       "(1.286, 3.928]                   100\n",
       "Name: count, dtype: int64"
      ]
     },
     "execution_count": 41,
     "metadata": {},
     "output_type": "execute_result"
    }
   ],
   "source": [
    "pd.qcut(data, [0, 0.1, 0.5, 0.9, 1.]).value_counts()\n",
    "# Out[94]:\n",
    "# (-2.9499999999999997, -1.187]    100\n",
    "# (-1.187, -0.0265]               400\n",
    "# (-0.0265, 1.286]                400\n",
    "# (1.286, 3.928]                  100\n",
    "# Name: count, dtype: int64"
   ]
  },
  {
   "cell_type": "markdown",
   "id": "e3f9dd30",
   "metadata": {},
   "source": [
    "Chúng ta sẽ quay lại `pandas.cut` và `pandas.qcut` sau trong chương này trong phần thảo luận về tổng hợp và các thao tác nhóm, vì các hàm rời rạc hóa này đặc biệt hữu ích cho phân tích phân vị và nhóm."
   ]
  },
  {
   "cell_type": "markdown",
   "id": "dc4ee986",
   "metadata": {},
   "source": [
    "### Phát hiện và xử lý các giá trị ngoại lai"
   ]
  },
  {
   "cell_type": "markdown",
   "id": "45e5f024",
   "metadata": {},
   "source": [
    "Việc lọc hoặc chuyển đổi các giá trị ngoại lai (outliers) phần lớn là được thao tác bằng các phép toán mảng. Hãy xem xét một DataFrame có một số dữ liệu phân phối chuẩn:"
   ]
  },
  {
   "cell_type": "code",
   "execution_count": 42,
   "id": "5685c213",
   "metadata": {},
   "outputs": [
    {
     "data": {
      "text/html": [
       "<div>\n",
       "<style scoped>\n",
       "    .dataframe tbody tr th:only-of-type {\n",
       "        vertical-align: middle;\n",
       "    }\n",
       "\n",
       "    .dataframe tbody tr th {\n",
       "        vertical-align: top;\n",
       "    }\n",
       "\n",
       "    .dataframe thead th {\n",
       "        text-align: right;\n",
       "    }\n",
       "</style>\n",
       "<table border=\"1\" class=\"dataframe\">\n",
       "  <thead>\n",
       "    <tr style=\"text-align: right;\">\n",
       "      <th></th>\n",
       "      <th>0</th>\n",
       "      <th>1</th>\n",
       "      <th>2</th>\n",
       "      <th>3</th>\n",
       "    </tr>\n",
       "  </thead>\n",
       "  <tbody>\n",
       "    <tr>\n",
       "      <th>count</th>\n",
       "      <td>1000.000000</td>\n",
       "      <td>1000.000000</td>\n",
       "      <td>1000.000000</td>\n",
       "      <td>1000.000000</td>\n",
       "    </tr>\n",
       "    <tr>\n",
       "      <th>mean</th>\n",
       "      <td>0.049091</td>\n",
       "      <td>0.026112</td>\n",
       "      <td>-0.002544</td>\n",
       "      <td>-0.051827</td>\n",
       "    </tr>\n",
       "    <tr>\n",
       "      <th>std</th>\n",
       "      <td>0.996947</td>\n",
       "      <td>1.007458</td>\n",
       "      <td>0.995232</td>\n",
       "      <td>0.998311</td>\n",
       "    </tr>\n",
       "    <tr>\n",
       "      <th>min</th>\n",
       "      <td>-3.645860</td>\n",
       "      <td>-3.184377</td>\n",
       "      <td>-3.745356</td>\n",
       "      <td>-3.428254</td>\n",
       "    </tr>\n",
       "    <tr>\n",
       "      <th>25%</th>\n",
       "      <td>-0.599807</td>\n",
       "      <td>-0.612162</td>\n",
       "      <td>-0.687373</td>\n",
       "      <td>-0.747478</td>\n",
       "    </tr>\n",
       "    <tr>\n",
       "      <th>50%</th>\n",
       "      <td>0.047101</td>\n",
       "      <td>-0.013609</td>\n",
       "      <td>-0.022158</td>\n",
       "      <td>-0.088274</td>\n",
       "    </tr>\n",
       "    <tr>\n",
       "      <th>75%</th>\n",
       "      <td>0.756646</td>\n",
       "      <td>0.695298</td>\n",
       "      <td>0.699046</td>\n",
       "      <td>0.623331</td>\n",
       "    </tr>\n",
       "    <tr>\n",
       "      <th>max</th>\n",
       "      <td>2.653656</td>\n",
       "      <td>3.525865</td>\n",
       "      <td>2.735527</td>\n",
       "      <td>3.366626</td>\n",
       "    </tr>\n",
       "  </tbody>\n",
       "</table>\n",
       "</div>"
      ],
      "text/plain": [
       "                 0            1            2            3\n",
       "count  1000.000000  1000.000000  1000.000000  1000.000000\n",
       "mean      0.049091     0.026112    -0.002544    -0.051827\n",
       "std       0.996947     1.007458     0.995232     0.998311\n",
       "min      -3.645860    -3.184377    -3.745356    -3.428254\n",
       "25%      -0.599807    -0.612162    -0.687373    -0.747478\n",
       "50%       0.047101    -0.013609    -0.022158    -0.088274\n",
       "75%       0.756646     0.695298     0.699046     0.623331\n",
       "max       2.653656     3.525865     2.735527     3.366626"
      ]
     },
     "execution_count": 42,
     "metadata": {},
     "output_type": "execute_result"
    }
   ],
   "source": [
    "data = pd.DataFrame(np.random.standard_normal((1000, 4)))\n",
    "data.describe()\n",
    "# Out[96]:\n",
    "#                0           1           2           3\n",
    "# count  1000.000000  1000.000000  1000.000000  1000.000000\n",
    "# mean      0.049091    0.026112   -0.002544   -0.051827\n",
    "# std       0.996947    1.007458    0.995232    0.998311\n",
    "# min      -3.645860   -3.184377   -3.745356   -3.428254\n",
    "# 25%      -0.599807   -0.612162   -0.687373   -0.747478\n",
    "# 50%       0.047101   -0.013609   -0.022158   -0.088274\n",
    "# 75%       0.756646    0.695298    0.699046    0.623331\n",
    "# max       2.653656    3.525865    2.735527    3.366626"
   ]
  },
  {
   "cell_type": "markdown",
   "id": "d1f1a77d",
   "metadata": {},
   "source": [
    "Giả sử bạn muốn tìm các giá trị trong một trong các cột vượt quá 3 về giá trị tuyệt đối:"
   ]
  },
  {
   "cell_type": "code",
   "execution_count": 43,
   "id": "0b5b6898",
   "metadata": {},
   "outputs": [
    {
     "data": {
      "text/plain": [
       "41    -3.399312\n",
       "136   -3.745356\n",
       "Name: 2, dtype: float64"
      ]
     },
     "execution_count": 43,
     "metadata": {},
     "output_type": "execute_result"
    }
   ],
   "source": [
    "col = data[2]\n",
    "col[col.abs() > 3]\n",
    "# Out[98]:\n",
    "# 41    -3.399312\n",
    "# 136   -3.745356\n",
    "# Name: 2, dtype: float64"
   ]
  },
  {
   "cell_type": "markdown",
   "id": "2c65584e",
   "metadata": {},
   "source": [
    "Để chọn tất cả các hàng có một giá trị vượt quá 3 hoặc –3, bạn có thể sử dụng phương thức `any` trên một DataFrame chứa toàn các giá trị logical:"
   ]
  },
  {
   "cell_type": "code",
   "execution_count": 44,
   "id": "a701043f",
   "metadata": {},
   "outputs": [
    {
     "data": {
      "text/html": [
       "<div>\n",
       "<style scoped>\n",
       "    .dataframe tbody tr th:only-of-type {\n",
       "        vertical-align: middle;\n",
       "    }\n",
       "\n",
       "    .dataframe tbody tr th {\n",
       "        vertical-align: top;\n",
       "    }\n",
       "\n",
       "    .dataframe thead th {\n",
       "        text-align: right;\n",
       "    }\n",
       "</style>\n",
       "<table border=\"1\" class=\"dataframe\">\n",
       "  <thead>\n",
       "    <tr style=\"text-align: right;\">\n",
       "      <th></th>\n",
       "      <th>0</th>\n",
       "      <th>1</th>\n",
       "      <th>2</th>\n",
       "      <th>3</th>\n",
       "    </tr>\n",
       "  </thead>\n",
       "  <tbody>\n",
       "    <tr>\n",
       "      <th>41</th>\n",
       "      <td>0.457246</td>\n",
       "      <td>-0.025907</td>\n",
       "      <td>-3.399312</td>\n",
       "      <td>-0.974657</td>\n",
       "    </tr>\n",
       "    <tr>\n",
       "      <th>60</th>\n",
       "      <td>1.951312</td>\n",
       "      <td>3.260383</td>\n",
       "      <td>0.963301</td>\n",
       "      <td>1.201206</td>\n",
       "    </tr>\n",
       "    <tr>\n",
       "      <th>136</th>\n",
       "      <td>0.508391</td>\n",
       "      <td>-0.196713</td>\n",
       "      <td>-3.745356</td>\n",
       "      <td>-1.520113</td>\n",
       "    </tr>\n",
       "    <tr>\n",
       "      <th>235</th>\n",
       "      <td>-0.242459</td>\n",
       "      <td>-3.056990</td>\n",
       "      <td>1.918403</td>\n",
       "      <td>-0.578828</td>\n",
       "    </tr>\n",
       "    <tr>\n",
       "      <th>258</th>\n",
       "      <td>0.682841</td>\n",
       "      <td>0.326045</td>\n",
       "      <td>0.425384</td>\n",
       "      <td>-3.428254</td>\n",
       "    </tr>\n",
       "    <tr>\n",
       "      <th>322</th>\n",
       "      <td>1.179227</td>\n",
       "      <td>-3.184377</td>\n",
       "      <td>1.369891</td>\n",
       "      <td>-1.074833</td>\n",
       "    </tr>\n",
       "    <tr>\n",
       "      <th>544</th>\n",
       "      <td>-3.548824</td>\n",
       "      <td>1.553205</td>\n",
       "      <td>-2.186301</td>\n",
       "      <td>1.277104</td>\n",
       "    </tr>\n",
       "    <tr>\n",
       "      <th>635</th>\n",
       "      <td>-0.578093</td>\n",
       "      <td>0.193299</td>\n",
       "      <td>1.397822</td>\n",
       "      <td>3.366626</td>\n",
       "    </tr>\n",
       "    <tr>\n",
       "      <th>782</th>\n",
       "      <td>-0.207434</td>\n",
       "      <td>3.525865</td>\n",
       "      <td>0.283070</td>\n",
       "      <td>0.544635</td>\n",
       "    </tr>\n",
       "    <tr>\n",
       "      <th>803</th>\n",
       "      <td>-3.645860</td>\n",
       "      <td>0.255475</td>\n",
       "      <td>-0.549574</td>\n",
       "      <td>-1.907459</td>\n",
       "    </tr>\n",
       "  </tbody>\n",
       "</table>\n",
       "</div>"
      ],
      "text/plain": [
       "            0         1         2         3\n",
       "41   0.457246 -0.025907 -3.399312 -0.974657\n",
       "60   1.951312  3.260383  0.963301  1.201206\n",
       "136  0.508391 -0.196713 -3.745356 -1.520113\n",
       "235 -0.242459 -3.056990  1.918403 -0.578828\n",
       "258  0.682841  0.326045  0.425384 -3.428254\n",
       "322  1.179227 -3.184377  1.369891 -1.074833\n",
       "544 -3.548824  1.553205 -2.186301  1.277104\n",
       "635 -0.578093  0.193299  1.397822  3.366626\n",
       "782 -0.207434  3.525865  0.283070  0.544635\n",
       "803 -3.645860  0.255475 -0.549574 -1.907459"
      ]
     },
     "execution_count": 44,
     "metadata": {},
     "output_type": "execute_result"
    }
   ],
   "source": [
    "data[(data.abs() > 3).any(axis=\"columns\")]\n",
    "# Out[99]:\n",
    "#             0         1         2         3\n",
    "# 41   0.457246 -0.025907 -3.399312 -0.974657\n",
    "# 60   1.951312  3.260383  0.963301  1.201206\n",
    "# 136  0.508391 -0.196713 -3.745356 -1.520113\n",
    "# 235 -0.242459 -3.056990  1.918403 -0.578828\n",
    "# 258  0.682841  0.326045  0.425384 -3.428254\n",
    "# 322  1.179227 -3.184377  1.369891 -1.074833\n",
    "# 544 -3.548824  1.553205 -2.186301  1.277104\n",
    "# 635 -0.578093  0.193299  1.397822  3.366626\n",
    "# 782 -0.207434  3.525865  0.283070  0.544635\n",
    "# 803 -3.645860  0.255475 -0.549574 -1.907459"
   ]
  },
  {
   "cell_type": "markdown",
   "id": "dfd66538",
   "metadata": {},
   "source": [
    "Dấu ngoặc đơn xung quanh `data.abs() > 3` là cần thiết để gọi phương thức `any` trên kết quả của phép toán so sánh.\n",
    "\n",
    "Các giá trị có thể được đặt dựa trên các tiêu chí này. Đoạn câu lệnh dưới đây là để giới hạn các giá trị nằm ngoài khoảng từ –3 đến 3:"
   ]
  },
  {
   "cell_type": "code",
   "execution_count": 45,
   "id": "7faaa3ad",
   "metadata": {},
   "outputs": [
    {
     "data": {
      "text/html": [
       "<div>\n",
       "<style scoped>\n",
       "    .dataframe tbody tr th:only-of-type {\n",
       "        vertical-align: middle;\n",
       "    }\n",
       "\n",
       "    .dataframe tbody tr th {\n",
       "        vertical-align: top;\n",
       "    }\n",
       "\n",
       "    .dataframe thead th {\n",
       "        text-align: right;\n",
       "    }\n",
       "</style>\n",
       "<table border=\"1\" class=\"dataframe\">\n",
       "  <thead>\n",
       "    <tr style=\"text-align: right;\">\n",
       "      <th></th>\n",
       "      <th>0</th>\n",
       "      <th>1</th>\n",
       "      <th>2</th>\n",
       "      <th>3</th>\n",
       "    </tr>\n",
       "  </thead>\n",
       "  <tbody>\n",
       "    <tr>\n",
       "      <th>count</th>\n",
       "      <td>1000.000000</td>\n",
       "      <td>1000.000000</td>\n",
       "      <td>1000.000000</td>\n",
       "      <td>1000.000000</td>\n",
       "    </tr>\n",
       "    <tr>\n",
       "      <th>mean</th>\n",
       "      <td>0.050286</td>\n",
       "      <td>0.025567</td>\n",
       "      <td>-0.001399</td>\n",
       "      <td>-0.051765</td>\n",
       "    </tr>\n",
       "    <tr>\n",
       "      <th>std</th>\n",
       "      <td>0.992920</td>\n",
       "      <td>1.004214</td>\n",
       "      <td>0.991414</td>\n",
       "      <td>0.995761</td>\n",
       "    </tr>\n",
       "    <tr>\n",
       "      <th>min</th>\n",
       "      <td>-3.000000</td>\n",
       "      <td>-3.000000</td>\n",
       "      <td>-3.000000</td>\n",
       "      <td>-3.000000</td>\n",
       "    </tr>\n",
       "    <tr>\n",
       "      <th>25%</th>\n",
       "      <td>-0.599807</td>\n",
       "      <td>-0.612162</td>\n",
       "      <td>-0.687373</td>\n",
       "      <td>-0.747478</td>\n",
       "    </tr>\n",
       "    <tr>\n",
       "      <th>50%</th>\n",
       "      <td>0.047101</td>\n",
       "      <td>-0.013609</td>\n",
       "      <td>-0.022158</td>\n",
       "      <td>-0.088274</td>\n",
       "    </tr>\n",
       "    <tr>\n",
       "      <th>75%</th>\n",
       "      <td>0.756646</td>\n",
       "      <td>0.695298</td>\n",
       "      <td>0.699046</td>\n",
       "      <td>0.623331</td>\n",
       "    </tr>\n",
       "    <tr>\n",
       "      <th>max</th>\n",
       "      <td>2.653656</td>\n",
       "      <td>3.000000</td>\n",
       "      <td>2.735527</td>\n",
       "      <td>3.000000</td>\n",
       "    </tr>\n",
       "  </tbody>\n",
       "</table>\n",
       "</div>"
      ],
      "text/plain": [
       "                 0            1            2            3\n",
       "count  1000.000000  1000.000000  1000.000000  1000.000000\n",
       "mean      0.050286     0.025567    -0.001399    -0.051765\n",
       "std       0.992920     1.004214     0.991414     0.995761\n",
       "min      -3.000000    -3.000000    -3.000000    -3.000000\n",
       "25%      -0.599807    -0.612162    -0.687373    -0.747478\n",
       "50%       0.047101    -0.013609    -0.022158    -0.088274\n",
       "75%       0.756646     0.695298     0.699046     0.623331\n",
       "max       2.653656     3.000000     2.735527     3.000000"
      ]
     },
     "execution_count": 45,
     "metadata": {},
     "output_type": "execute_result"
    }
   ],
   "source": [
    "data[data.abs() > 3] = np.sign(data) * 3\n",
    "data.describe()\n",
    "# Out[101]:\n",
    "#                0           1           2           3\n",
    "# count  1000.000000  1000.000000  1000.000000  1000.000000\n",
    "# mean      0.050286    0.025567   -0.001399   -0.051765\n",
    "# std       0.992920    1.004214    0.991414    0.995761\n",
    "# min      -3.000000   -3.000000   -3.000000   -3.000000\n",
    "# 25%      -0.599807   -0.612162   -0.687373   -0.747478\n",
    "# 50%       0.047101   -0.013609   -0.022158   -0.088274\n",
    "# 75%       0.756646    0.695298    0.699046    0.623331\n",
    "# max       2.653656    3.000000    2.735527    3.000000"
   ]
  },
  {
   "cell_type": "markdown",
   "id": "d6862d1e",
   "metadata": {},
   "source": [
    "Câu lệnh `np.sign(data)` tạo ra các giá trị 1 và –1 dựa trên việc các giá trị trong `data` là dương hay âm:"
   ]
  },
  {
   "cell_type": "code",
   "execution_count": 46,
   "id": "d99b64c6",
   "metadata": {},
   "outputs": [
    {
     "data": {
      "text/html": [
       "<div>\n",
       "<style scoped>\n",
       "    .dataframe tbody tr th:only-of-type {\n",
       "        vertical-align: middle;\n",
       "    }\n",
       "\n",
       "    .dataframe tbody tr th {\n",
       "        vertical-align: top;\n",
       "    }\n",
       "\n",
       "    .dataframe thead th {\n",
       "        text-align: right;\n",
       "    }\n",
       "</style>\n",
       "<table border=\"1\" class=\"dataframe\">\n",
       "  <thead>\n",
       "    <tr style=\"text-align: right;\">\n",
       "      <th></th>\n",
       "      <th>0</th>\n",
       "      <th>1</th>\n",
       "      <th>2</th>\n",
       "      <th>3</th>\n",
       "    </tr>\n",
       "  </thead>\n",
       "  <tbody>\n",
       "    <tr>\n",
       "      <th>0</th>\n",
       "      <td>-1.0</td>\n",
       "      <td>1.0</td>\n",
       "      <td>-1.0</td>\n",
       "      <td>1.0</td>\n",
       "    </tr>\n",
       "    <tr>\n",
       "      <th>1</th>\n",
       "      <td>1.0</td>\n",
       "      <td>-1.0</td>\n",
       "      <td>1.0</td>\n",
       "      <td>-1.0</td>\n",
       "    </tr>\n",
       "    <tr>\n",
       "      <th>2</th>\n",
       "      <td>1.0</td>\n",
       "      <td>1.0</td>\n",
       "      <td>1.0</td>\n",
       "      <td>-1.0</td>\n",
       "    </tr>\n",
       "    <tr>\n",
       "      <th>3</th>\n",
       "      <td>-1.0</td>\n",
       "      <td>-1.0</td>\n",
       "      <td>1.0</td>\n",
       "      <td>-1.0</td>\n",
       "    </tr>\n",
       "    <tr>\n",
       "      <th>4</th>\n",
       "      <td>-1.0</td>\n",
       "      <td>1.0</td>\n",
       "      <td>-1.0</td>\n",
       "      <td>-1.0</td>\n",
       "    </tr>\n",
       "  </tbody>\n",
       "</table>\n",
       "</div>"
      ],
      "text/plain": [
       "     0    1    2    3\n",
       "0 -1.0  1.0 -1.0  1.0\n",
       "1  1.0 -1.0  1.0 -1.0\n",
       "2  1.0  1.0  1.0 -1.0\n",
       "3 -1.0 -1.0  1.0 -1.0\n",
       "4 -1.0  1.0 -1.0 -1.0"
      ]
     },
     "execution_count": 46,
     "metadata": {},
     "output_type": "execute_result"
    }
   ],
   "source": [
    "np.sign(data).head()\n",
    "# Out[102]:\n",
    "#      0    1    2    3\n",
    "# 0 -1.0  1.0 -1.0  1.0\n",
    "# 1  1.0 -1.0  1.0 -1.0\n",
    "# 2  1.0  1.0  1.0 -1.0\n",
    "# 3 -1.0 -1.0  1.0 -1.0\n",
    "# 4 -1.0  1.0 -1.0 -1.0"
   ]
  },
  {
   "cell_type": "markdown",
   "id": "7d2b209d",
   "metadata": {},
   "source": [
    "### Tính toán biến chỉ báo"
   ]
  },
  {
   "cell_type": "markdown",
   "id": "9a21e85c",
   "metadata": {},
   "source": [
    "Một kiểu biến đổi biến thường được sử dụng cho mục đích xây dựng mô hình thống kê hoặc các ứng dụng học máy là chuyển đổi một biến phân loại thành một ma trận biến giả hay biến chỉ báo. Nếu một cột trong DataFrame có *J* giá trị riêng biệt, bạn sẽ tạo ra một ma trận hoặc DataFrame mới có *J* cột chỉ chứa giá trị 0 và 1. Trong thư viện `pandas` có hàm `pandas.get_dummies` để thực hiện điều này:"
   ]
  },
  {
   "cell_type": "code",
   "execution_count": 47,
   "id": "a1abaeb4",
   "metadata": {},
   "outputs": [
    {
     "data": {
      "text/html": [
       "<div>\n",
       "<style scoped>\n",
       "    .dataframe tbody tr th:only-of-type {\n",
       "        vertical-align: middle;\n",
       "    }\n",
       "\n",
       "    .dataframe tbody tr th {\n",
       "        vertical-align: top;\n",
       "    }\n",
       "\n",
       "    .dataframe thead th {\n",
       "        text-align: right;\n",
       "    }\n",
       "</style>\n",
       "<table border=\"1\" class=\"dataframe\">\n",
       "  <thead>\n",
       "    <tr style=\"text-align: right;\">\n",
       "      <th></th>\n",
       "      <th>a</th>\n",
       "      <th>b</th>\n",
       "      <th>c</th>\n",
       "    </tr>\n",
       "  </thead>\n",
       "  <tbody>\n",
       "    <tr>\n",
       "      <th>0</th>\n",
       "      <td>0.0</td>\n",
       "      <td>1.0</td>\n",
       "      <td>0.0</td>\n",
       "    </tr>\n",
       "    <tr>\n",
       "      <th>1</th>\n",
       "      <td>0.0</td>\n",
       "      <td>1.0</td>\n",
       "      <td>0.0</td>\n",
       "    </tr>\n",
       "    <tr>\n",
       "      <th>2</th>\n",
       "      <td>1.0</td>\n",
       "      <td>0.0</td>\n",
       "      <td>0.0</td>\n",
       "    </tr>\n",
       "    <tr>\n",
       "      <th>3</th>\n",
       "      <td>0.0</td>\n",
       "      <td>0.0</td>\n",
       "      <td>1.0</td>\n",
       "    </tr>\n",
       "    <tr>\n",
       "      <th>4</th>\n",
       "      <td>1.0</td>\n",
       "      <td>0.0</td>\n",
       "      <td>0.0</td>\n",
       "    </tr>\n",
       "    <tr>\n",
       "      <th>5</th>\n",
       "      <td>0.0</td>\n",
       "      <td>1.0</td>\n",
       "      <td>0.0</td>\n",
       "    </tr>\n",
       "  </tbody>\n",
       "</table>\n",
       "</div>"
      ],
      "text/plain": [
       "     a    b    c\n",
       "0  0.0  1.0  0.0\n",
       "1  0.0  1.0  0.0\n",
       "2  1.0  0.0  0.0\n",
       "3  0.0  0.0  1.0\n",
       "4  1.0  0.0  0.0\n",
       "5  0.0  1.0  0.0"
      ]
     },
     "execution_count": 47,
     "metadata": {},
     "output_type": "execute_result"
    }
   ],
   "source": [
    "df = pd.DataFrame({\"key\": [\"b\", \"b\", \"a\", \"c\", \"a\", \"b\"],\n",
    "                   \"data1\": range(6)})\n",
    "df\n",
    "# Out[116]:\n",
    "#   key  data1\n",
    "# 0   b      0\n",
    "# 1   b      1\n",
    "# 2   a      2\n",
    "# 3   c      3\n",
    "# 4   a      4\n",
    "# 5   b      5\n",
    "\n",
    "pd.get_dummies(df[\"key\"], dtype=float)\n",
    "# Out[117]:\n",
    "#      a    b    c\n",
    "# 0  0.0  1.0  0.0\n",
    "# 1  0.0  1.0  0.0\n",
    "# 2  1.0  0.0  0.0\n",
    "# 3  0.0  0.0  1.0\n",
    "# 4  1.0  0.0  0.0\n",
    "# 5  0.0  1.0  0.0"
   ]
  },
  {
   "cell_type": "markdown",
   "id": "9c21fac6",
   "metadata": {},
   "source": [
    "Trong hàm `get_dummies` đã sử dụng tham số `dtype=float` để thay đổi kiểu đầu ra sang số thực.\n",
    "\n",
    "Trong một số trường hợp, bạn có thể muốn thêm một tiền tố vào tên các cột trong DataFrame. `pandas.get_dummies` có tham số `prefix` để thực hiện việc này:"
   ]
  },
  {
   "cell_type": "code",
   "execution_count": 48,
   "id": "4ea8d31b",
   "metadata": {},
   "outputs": [
    {
     "data": {
      "text/html": [
       "<div>\n",
       "<style scoped>\n",
       "    .dataframe tbody tr th:only-of-type {\n",
       "        vertical-align: middle;\n",
       "    }\n",
       "\n",
       "    .dataframe tbody tr th {\n",
       "        vertical-align: top;\n",
       "    }\n",
       "\n",
       "    .dataframe thead th {\n",
       "        text-align: right;\n",
       "    }\n",
       "</style>\n",
       "<table border=\"1\" class=\"dataframe\">\n",
       "  <thead>\n",
       "    <tr style=\"text-align: right;\">\n",
       "      <th></th>\n",
       "      <th>data1</th>\n",
       "      <th>key_a</th>\n",
       "      <th>key_b</th>\n",
       "      <th>key_c</th>\n",
       "    </tr>\n",
       "  </thead>\n",
       "  <tbody>\n",
       "    <tr>\n",
       "      <th>0</th>\n",
       "      <td>0</td>\n",
       "      <td>0.0</td>\n",
       "      <td>1.0</td>\n",
       "      <td>0.0</td>\n",
       "    </tr>\n",
       "    <tr>\n",
       "      <th>1</th>\n",
       "      <td>1</td>\n",
       "      <td>0.0</td>\n",
       "      <td>1.0</td>\n",
       "      <td>0.0</td>\n",
       "    </tr>\n",
       "    <tr>\n",
       "      <th>2</th>\n",
       "      <td>2</td>\n",
       "      <td>1.0</td>\n",
       "      <td>0.0</td>\n",
       "      <td>0.0</td>\n",
       "    </tr>\n",
       "    <tr>\n",
       "      <th>3</th>\n",
       "      <td>3</td>\n",
       "      <td>0.0</td>\n",
       "      <td>0.0</td>\n",
       "      <td>1.0</td>\n",
       "    </tr>\n",
       "    <tr>\n",
       "      <th>4</th>\n",
       "      <td>4</td>\n",
       "      <td>1.0</td>\n",
       "      <td>0.0</td>\n",
       "      <td>0.0</td>\n",
       "    </tr>\n",
       "    <tr>\n",
       "      <th>5</th>\n",
       "      <td>5</td>\n",
       "      <td>0.0</td>\n",
       "      <td>1.0</td>\n",
       "      <td>0.0</td>\n",
       "    </tr>\n",
       "  </tbody>\n",
       "</table>\n",
       "</div>"
      ],
      "text/plain": [
       "   data1  key_a  key_b  key_c\n",
       "0      0    0.0    1.0    0.0\n",
       "1      1    0.0    1.0    0.0\n",
       "2      2    1.0    0.0    0.0\n",
       "3      3    0.0    0.0    1.0\n",
       "4      4    1.0    0.0    0.0\n",
       "5      5    0.0    1.0    0.0"
      ]
     },
     "execution_count": 48,
     "metadata": {},
     "output_type": "execute_result"
    }
   ],
   "source": [
    "dummies = pd.get_dummies(df[\"key\"], prefix=\"key\", dtype=float)\n",
    "df_with_dummy = df[[\"data1\"]].join(dummies)\n",
    "df_with_dummy\n",
    "# Out[120]:\n",
    "#    data1  key_a  key_b  key_c\n",
    "# 0      0    0.0    1.0    0.0\n",
    "# 1      1    0.0    1.0    0.0\n",
    "# 2      2    1.0    0.0    0.0\n",
    "# 3      3    0.0    0.0    1.0\n",
    "# 4      4    1.0    0.0    0.0\n",
    "# 5      5    0.0    1.0    0.0"
   ]
  },
  {
   "cell_type": "markdown",
   "id": "5931023f",
   "metadata": {},
   "source": [
    "Phương thức `join` sử dụng ở trên sẽ được giải thích chi tiết hơn trong chương tiếp theo.\n",
    "\n",
    "Nếu một hàng trong `DataFrame` thuộc về nhiều danh mục, chúng ta phải sử dụng một cách tiếp cận khác để tạo các biến giả. Hãy xem ví dụ về dữ liệu dưới đây:"
   ]
  },
  {
   "cell_type": "code",
   "execution_count": 49,
   "id": "c85d4d77",
   "metadata": {},
   "outputs": [
    {
     "ename": "FileNotFoundError",
     "evalue": "[Errno 2] No such file or directory: 'datasets/movielens/movies.dat'",
     "output_type": "error",
     "traceback": [
      "\u001b[31m---------------------------------------------------------------------------\u001b[39m",
      "\u001b[31mFileNotFoundError\u001b[39m                         Traceback (most recent call last)",
      "\u001b[36mCell\u001b[39m\u001b[36m \u001b[39m\u001b[32mIn[49]\u001b[39m\u001b[32m, line 2\u001b[39m\n\u001b[32m      1\u001b[39m mnames = [\u001b[33m\"\u001b[39m\u001b[33mmovie_id\u001b[39m\u001b[33m\"\u001b[39m, \u001b[33m\"\u001b[39m\u001b[33mtitle\u001b[39m\u001b[33m\"\u001b[39m, \u001b[33m\"\u001b[39m\u001b[33mgenres\u001b[39m\u001b[33m\"\u001b[39m]\n\u001b[32m----> \u001b[39m\u001b[32m2\u001b[39m movies = \u001b[43mpd\u001b[49m\u001b[43m.\u001b[49m\u001b[43mread_table\u001b[49m\u001b[43m(\u001b[49m\u001b[33;43m\"\u001b[39;49m\u001b[33;43mdatasets/movielens/movies.dat\u001b[39;49m\u001b[33;43m\"\u001b[39;49m\u001b[43m,\u001b[49m\u001b[43m \u001b[49m\u001b[43msep\u001b[49m\u001b[43m=\u001b[49m\u001b[33;43m\"\u001b[39;49m\u001b[33;43m::\u001b[39;49m\u001b[33;43m\"\u001b[39;49m\u001b[43m,\u001b[49m\n\u001b[32m      3\u001b[39m \u001b[43m                       \u001b[49m\u001b[43mheader\u001b[49m\u001b[43m=\u001b[49m\u001b[38;5;28;43;01mNone\u001b[39;49;00m\u001b[43m,\u001b[49m\u001b[43m \u001b[49m\u001b[43mnames\u001b[49m\u001b[43m=\u001b[49m\u001b[43mmnames\u001b[49m\u001b[43m,\u001b[49m\u001b[43m \u001b[49m\u001b[43mengine\u001b[49m\u001b[43m=\u001b[49m\u001b[33;43m\"\u001b[39;49m\u001b[33;43mpython\u001b[39;49m\u001b[33;43m\"\u001b[39;49m\u001b[43m)\u001b[49m\n\u001b[32m      4\u001b[39m movies[:\u001b[32m10\u001b[39m]\n\u001b[32m      5\u001b[39m \u001b[38;5;66;03m# Out[123]:\u001b[39;00m\n\u001b[32m      6\u001b[39m \u001b[38;5;66;03m#    movie_id                               title                        genres\u001b[39;00m\n\u001b[32m      7\u001b[39m \u001b[38;5;66;03m# 0         1                    Toy Story (1995)   Animation|Children's|Comedy\u001b[39;00m\n\u001b[32m   (...)\u001b[39m\u001b[32m     15\u001b[39m \u001b[38;5;66;03m# 8         9                  Sudden Death (1995)                        Action\u001b[39;00m\n\u001b[32m     16\u001b[39m \u001b[38;5;66;03m# 9        10                    GoldenEye (1995)      Action|Adventure|Thriller\u001b[39;00m\n",
      "\u001b[36mFile \u001b[39m\u001b[32m~\\AppData\\Local\\Programs\\Python\\Python313\\Lib\\site-packages\\pandas\\io\\parsers\\readers.py:1405\u001b[39m, in \u001b[36mread_table\u001b[39m\u001b[34m(filepath_or_buffer, sep, delimiter, header, names, index_col, usecols, dtype, engine, converters, true_values, false_values, skipinitialspace, skiprows, skipfooter, nrows, na_values, keep_default_na, na_filter, verbose, skip_blank_lines, parse_dates, infer_datetime_format, keep_date_col, date_parser, date_format, dayfirst, cache_dates, iterator, chunksize, compression, thousands, decimal, lineterminator, quotechar, quoting, doublequote, escapechar, comment, encoding, encoding_errors, dialect, on_bad_lines, delim_whitespace, low_memory, memory_map, float_precision, storage_options, dtype_backend)\u001b[39m\n\u001b[32m   1392\u001b[39m kwds_defaults = _refine_defaults_read(\n\u001b[32m   1393\u001b[39m     dialect,\n\u001b[32m   1394\u001b[39m     delimiter,\n\u001b[32m   (...)\u001b[39m\u001b[32m   1401\u001b[39m     dtype_backend=dtype_backend,\n\u001b[32m   1402\u001b[39m )\n\u001b[32m   1403\u001b[39m kwds.update(kwds_defaults)\n\u001b[32m-> \u001b[39m\u001b[32m1405\u001b[39m \u001b[38;5;28;01mreturn\u001b[39;00m \u001b[43m_read\u001b[49m\u001b[43m(\u001b[49m\u001b[43mfilepath_or_buffer\u001b[49m\u001b[43m,\u001b[49m\u001b[43m \u001b[49m\u001b[43mkwds\u001b[49m\u001b[43m)\u001b[49m\n",
      "\u001b[36mFile \u001b[39m\u001b[32m~\\AppData\\Local\\Programs\\Python\\Python313\\Lib\\site-packages\\pandas\\io\\parsers\\readers.py:620\u001b[39m, in \u001b[36m_read\u001b[39m\u001b[34m(filepath_or_buffer, kwds)\u001b[39m\n\u001b[32m    617\u001b[39m _validate_names(kwds.get(\u001b[33m\"\u001b[39m\u001b[33mnames\u001b[39m\u001b[33m\"\u001b[39m, \u001b[38;5;28;01mNone\u001b[39;00m))\n\u001b[32m    619\u001b[39m \u001b[38;5;66;03m# Create the parser.\u001b[39;00m\n\u001b[32m--> \u001b[39m\u001b[32m620\u001b[39m parser = \u001b[43mTextFileReader\u001b[49m\u001b[43m(\u001b[49m\u001b[43mfilepath_or_buffer\u001b[49m\u001b[43m,\u001b[49m\u001b[43m \u001b[49m\u001b[43m*\u001b[49m\u001b[43m*\u001b[49m\u001b[43mkwds\u001b[49m\u001b[43m)\u001b[49m\n\u001b[32m    622\u001b[39m \u001b[38;5;28;01mif\u001b[39;00m chunksize \u001b[38;5;129;01mor\u001b[39;00m iterator:\n\u001b[32m    623\u001b[39m     \u001b[38;5;28;01mreturn\u001b[39;00m parser\n",
      "\u001b[36mFile \u001b[39m\u001b[32m~\\AppData\\Local\\Programs\\Python\\Python313\\Lib\\site-packages\\pandas\\io\\parsers\\readers.py:1620\u001b[39m, in \u001b[36mTextFileReader.__init__\u001b[39m\u001b[34m(self, f, engine, **kwds)\u001b[39m\n\u001b[32m   1617\u001b[39m     \u001b[38;5;28mself\u001b[39m.options[\u001b[33m\"\u001b[39m\u001b[33mhas_index_names\u001b[39m\u001b[33m\"\u001b[39m] = kwds[\u001b[33m\"\u001b[39m\u001b[33mhas_index_names\u001b[39m\u001b[33m\"\u001b[39m]\n\u001b[32m   1619\u001b[39m \u001b[38;5;28mself\u001b[39m.handles: IOHandles | \u001b[38;5;28;01mNone\u001b[39;00m = \u001b[38;5;28;01mNone\u001b[39;00m\n\u001b[32m-> \u001b[39m\u001b[32m1620\u001b[39m \u001b[38;5;28mself\u001b[39m._engine = \u001b[38;5;28;43mself\u001b[39;49m\u001b[43m.\u001b[49m\u001b[43m_make_engine\u001b[49m\u001b[43m(\u001b[49m\u001b[43mf\u001b[49m\u001b[43m,\u001b[49m\u001b[43m \u001b[49m\u001b[38;5;28;43mself\u001b[39;49m\u001b[43m.\u001b[49m\u001b[43mengine\u001b[49m\u001b[43m)\u001b[49m\n",
      "\u001b[36mFile \u001b[39m\u001b[32m~\\AppData\\Local\\Programs\\Python\\Python313\\Lib\\site-packages\\pandas\\io\\parsers\\readers.py:1880\u001b[39m, in \u001b[36mTextFileReader._make_engine\u001b[39m\u001b[34m(self, f, engine)\u001b[39m\n\u001b[32m   1878\u001b[39m     \u001b[38;5;28;01mif\u001b[39;00m \u001b[33m\"\u001b[39m\u001b[33mb\u001b[39m\u001b[33m\"\u001b[39m \u001b[38;5;129;01mnot\u001b[39;00m \u001b[38;5;129;01min\u001b[39;00m mode:\n\u001b[32m   1879\u001b[39m         mode += \u001b[33m\"\u001b[39m\u001b[33mb\u001b[39m\u001b[33m\"\u001b[39m\n\u001b[32m-> \u001b[39m\u001b[32m1880\u001b[39m \u001b[38;5;28mself\u001b[39m.handles = \u001b[43mget_handle\u001b[49m\u001b[43m(\u001b[49m\n\u001b[32m   1881\u001b[39m \u001b[43m    \u001b[49m\u001b[43mf\u001b[49m\u001b[43m,\u001b[49m\n\u001b[32m   1882\u001b[39m \u001b[43m    \u001b[49m\u001b[43mmode\u001b[49m\u001b[43m,\u001b[49m\n\u001b[32m   1883\u001b[39m \u001b[43m    \u001b[49m\u001b[43mencoding\u001b[49m\u001b[43m=\u001b[49m\u001b[38;5;28;43mself\u001b[39;49m\u001b[43m.\u001b[49m\u001b[43moptions\u001b[49m\u001b[43m.\u001b[49m\u001b[43mget\u001b[49m\u001b[43m(\u001b[49m\u001b[33;43m\"\u001b[39;49m\u001b[33;43mencoding\u001b[39;49m\u001b[33;43m\"\u001b[39;49m\u001b[43m,\u001b[49m\u001b[43m \u001b[49m\u001b[38;5;28;43;01mNone\u001b[39;49;00m\u001b[43m)\u001b[49m\u001b[43m,\u001b[49m\n\u001b[32m   1884\u001b[39m \u001b[43m    \u001b[49m\u001b[43mcompression\u001b[49m\u001b[43m=\u001b[49m\u001b[38;5;28;43mself\u001b[39;49m\u001b[43m.\u001b[49m\u001b[43moptions\u001b[49m\u001b[43m.\u001b[49m\u001b[43mget\u001b[49m\u001b[43m(\u001b[49m\u001b[33;43m\"\u001b[39;49m\u001b[33;43mcompression\u001b[39;49m\u001b[33;43m\"\u001b[39;49m\u001b[43m,\u001b[49m\u001b[43m \u001b[49m\u001b[38;5;28;43;01mNone\u001b[39;49;00m\u001b[43m)\u001b[49m\u001b[43m,\u001b[49m\n\u001b[32m   1885\u001b[39m \u001b[43m    \u001b[49m\u001b[43mmemory_map\u001b[49m\u001b[43m=\u001b[49m\u001b[38;5;28;43mself\u001b[39;49m\u001b[43m.\u001b[49m\u001b[43moptions\u001b[49m\u001b[43m.\u001b[49m\u001b[43mget\u001b[49m\u001b[43m(\u001b[49m\u001b[33;43m\"\u001b[39;49m\u001b[33;43mmemory_map\u001b[39;49m\u001b[33;43m\"\u001b[39;49m\u001b[43m,\u001b[49m\u001b[43m \u001b[49m\u001b[38;5;28;43;01mFalse\u001b[39;49;00m\u001b[43m)\u001b[49m\u001b[43m,\u001b[49m\n\u001b[32m   1886\u001b[39m \u001b[43m    \u001b[49m\u001b[43mis_text\u001b[49m\u001b[43m=\u001b[49m\u001b[43mis_text\u001b[49m\u001b[43m,\u001b[49m\n\u001b[32m   1887\u001b[39m \u001b[43m    \u001b[49m\u001b[43merrors\u001b[49m\u001b[43m=\u001b[49m\u001b[38;5;28;43mself\u001b[39;49m\u001b[43m.\u001b[49m\u001b[43moptions\u001b[49m\u001b[43m.\u001b[49m\u001b[43mget\u001b[49m\u001b[43m(\u001b[49m\u001b[33;43m\"\u001b[39;49m\u001b[33;43mencoding_errors\u001b[39;49m\u001b[33;43m\"\u001b[39;49m\u001b[43m,\u001b[49m\u001b[43m \u001b[49m\u001b[33;43m\"\u001b[39;49m\u001b[33;43mstrict\u001b[39;49m\u001b[33;43m\"\u001b[39;49m\u001b[43m)\u001b[49m\u001b[43m,\u001b[49m\n\u001b[32m   1888\u001b[39m \u001b[43m    \u001b[49m\u001b[43mstorage_options\u001b[49m\u001b[43m=\u001b[49m\u001b[38;5;28;43mself\u001b[39;49m\u001b[43m.\u001b[49m\u001b[43moptions\u001b[49m\u001b[43m.\u001b[49m\u001b[43mget\u001b[49m\u001b[43m(\u001b[49m\u001b[33;43m\"\u001b[39;49m\u001b[33;43mstorage_options\u001b[39;49m\u001b[33;43m\"\u001b[39;49m\u001b[43m,\u001b[49m\u001b[43m \u001b[49m\u001b[38;5;28;43;01mNone\u001b[39;49;00m\u001b[43m)\u001b[49m\u001b[43m,\u001b[49m\n\u001b[32m   1889\u001b[39m \u001b[43m\u001b[49m\u001b[43m)\u001b[49m\n\u001b[32m   1890\u001b[39m \u001b[38;5;28;01massert\u001b[39;00m \u001b[38;5;28mself\u001b[39m.handles \u001b[38;5;129;01mis\u001b[39;00m \u001b[38;5;129;01mnot\u001b[39;00m \u001b[38;5;28;01mNone\u001b[39;00m\n\u001b[32m   1891\u001b[39m f = \u001b[38;5;28mself\u001b[39m.handles.handle\n",
      "\u001b[36mFile \u001b[39m\u001b[32m~\\AppData\\Local\\Programs\\Python\\Python313\\Lib\\site-packages\\pandas\\io\\common.py:873\u001b[39m, in \u001b[36mget_handle\u001b[39m\u001b[34m(path_or_buf, mode, encoding, compression, memory_map, is_text, errors, storage_options)\u001b[39m\n\u001b[32m    868\u001b[39m \u001b[38;5;28;01melif\u001b[39;00m \u001b[38;5;28misinstance\u001b[39m(handle, \u001b[38;5;28mstr\u001b[39m):\n\u001b[32m    869\u001b[39m     \u001b[38;5;66;03m# Check whether the filename is to be opened in binary mode.\u001b[39;00m\n\u001b[32m    870\u001b[39m     \u001b[38;5;66;03m# Binary mode does not support 'encoding' and 'newline'.\u001b[39;00m\n\u001b[32m    871\u001b[39m     \u001b[38;5;28;01mif\u001b[39;00m ioargs.encoding \u001b[38;5;129;01mand\u001b[39;00m \u001b[33m\"\u001b[39m\u001b[33mb\u001b[39m\u001b[33m\"\u001b[39m \u001b[38;5;129;01mnot\u001b[39;00m \u001b[38;5;129;01min\u001b[39;00m ioargs.mode:\n\u001b[32m    872\u001b[39m         \u001b[38;5;66;03m# Encoding\u001b[39;00m\n\u001b[32m--> \u001b[39m\u001b[32m873\u001b[39m         handle = \u001b[38;5;28;43mopen\u001b[39;49m\u001b[43m(\u001b[49m\n\u001b[32m    874\u001b[39m \u001b[43m            \u001b[49m\u001b[43mhandle\u001b[49m\u001b[43m,\u001b[49m\n\u001b[32m    875\u001b[39m \u001b[43m            \u001b[49m\u001b[43mioargs\u001b[49m\u001b[43m.\u001b[49m\u001b[43mmode\u001b[49m\u001b[43m,\u001b[49m\n\u001b[32m    876\u001b[39m \u001b[43m            \u001b[49m\u001b[43mencoding\u001b[49m\u001b[43m=\u001b[49m\u001b[43mioargs\u001b[49m\u001b[43m.\u001b[49m\u001b[43mencoding\u001b[49m\u001b[43m,\u001b[49m\n\u001b[32m    877\u001b[39m \u001b[43m            \u001b[49m\u001b[43merrors\u001b[49m\u001b[43m=\u001b[49m\u001b[43merrors\u001b[49m\u001b[43m,\u001b[49m\n\u001b[32m    878\u001b[39m \u001b[43m            \u001b[49m\u001b[43mnewline\u001b[49m\u001b[43m=\u001b[49m\u001b[33;43m\"\u001b[39;49m\u001b[33;43m\"\u001b[39;49m\u001b[43m,\u001b[49m\n\u001b[32m    879\u001b[39m \u001b[43m        \u001b[49m\u001b[43m)\u001b[49m\n\u001b[32m    880\u001b[39m     \u001b[38;5;28;01melse\u001b[39;00m:\n\u001b[32m    881\u001b[39m         \u001b[38;5;66;03m# Binary mode\u001b[39;00m\n\u001b[32m    882\u001b[39m         handle = \u001b[38;5;28mopen\u001b[39m(handle, ioargs.mode)\n",
      "\u001b[31mFileNotFoundError\u001b[39m: [Errno 2] No such file or directory: 'datasets/movielens/movies.dat'"
     ]
    }
   ],
   "source": [
    "mnames = [\"movie_id\", \"title\", \"genres\"]\n",
    "movies = pd.read_table(\"datasets/movielens/movies.dat\", sep=\"::\",\n",
    "                       header=None, names=mnames, engine=\"python\")\n",
    "movies[:10]\n",
    "# Out[123]:\n",
    "#    movie_id                               title                        genres\n",
    "# 0         1                    Toy Story (1995)   Animation|Children's|Comedy\n",
    "# 1         2                      Jumanji (1995)  Adventure|Children's|Fantasy\n",
    "# 2         3             Grumpier Old Men (1995)                Comedy|Romance\n",
    "# 3         4            Waiting to Exhale (1995)                  Comedy|Drama\n",
    "# 4         5  Father of the Bride Part II (1995)                        Comedy\n",
    "# 5         6                         Heat (1995)          Action|Crime|Thriller\n",
    "# 6         7                      Sabrina (1995)                Comedy|Romance\n",
    "# 7         8                 Tom and Huck (1995)          Adventure|Children's\n",
    "# 8         9                  Sudden Death (1995)                        Action\n",
    "# 9        10                    GoldenEye (1995)      Action|Adventure|Thriller"
   ]
  },
  {
   "cell_type": "markdown",
   "id": "4def5128",
   "metadata": {},
   "source": [
    "`pandas` có phương thức dành cho chuỗi ký tự `str.get_dummies` có thể xử lý trường hợp này:"
   ]
  },
  {
   "cell_type": "code",
   "execution_count": null,
   "id": "fced5256",
   "metadata": {},
   "outputs": [],
   "source": [
    "dummies = movies[\"genres\"].str.get_dummies(\"|\")\n",
    "dummies.iloc[:10, :6]\n",
    "# Out[125]:\n",
    "#    Action  Adventure  Animation  Children's  Comedy  Crime\n",
    "# 0       0          0          1           1       1      0\n",
    "# 1       0          1          0           1       0      0\n",
    "# 2       0          0          0           0       1      0\n",
    "# 3       0          0          0           0       1      0\n",
    "# 4       0          0          0           0       1      0\n",
    "# 5       1          0          0           0       0      1\n",
    "# 6       0          0          0           0       1      0\n",
    "# 7       0          1          0           1       0      0\n",
    "# 8       1          0          0           0       0      0\n",
    "# 9       1          1          0           0       0      0"
   ]
  },
  {
   "cell_type": "markdown",
   "id": "f9163a6d",
   "metadata": {},
   "source": [
    "> **Lưu ý**: Đối với dữ liệu lớn hơn, phương pháp xây dựng các biến phân loại nhận nhiều giá trị sẽ không hiệu quả về thời gian. Sẽ tốt hơn nếu viết chúng ta xử lý dưới dạng mảng trong NumPy, sau đó chuyển sang kiểu DataFrame.\n",
    "\n",
    "Một công thức hữu ích cho các ứng dụng thống kê là kết hợp `pandas.get_dummies` với một hàm rời rạc hóa như `pandas.cut`:"
   ]
  },
  {
   "cell_type": "code",
   "execution_count": null,
   "id": "4aa9b159",
   "metadata": {},
   "outputs": [],
   "source": [
    "np.random.seed(12345) # để làm cho ví dụ có thể lặp lại\n",
    "values = np.random.uniform(size=10)\n",
    "values\n",
    "# Out[130]: array([0.9296, 0.3164, 0.1839, 0.2046, 0.5677, 0.5955, 0.9645, 0.6532,\n",
    "#        0.7489, 0.6536])\n",
    "\n",
    "bins = [0, 0.2, 0.4, 0.6, 0.8, 1]\n",
    "pd.get_dummies(pd.cut(values, bins))\n",
    "# Out[132]:\n",
    "#    (0.0, 0.2]  (0.2, 0.4]  (0.4, 0.6]  (0.6, 0.8]  (0.8, 1.0]\n",
    "# 0       False       False       False       False        True\n",
    "# 1       False        True       False       False       False\n",
    "# 2        True       False       False       False       False\n",
    "# 3       False        True       False       False       False\n",
    "# 4       False       False        True       False       False\n",
    "# 5       False       False        True       False       False\n",
    "# 6       False       False       False       False        True\n",
    "# 7       False       False       False        True       False\n",
    "# 8       False       False       False        True       False\n",
    "# 9       False       False       False        True       False"
   ]
  },
  {
   "cell_type": "markdown",
   "id": "4e6b38af",
   "metadata": {},
   "source": [
    "Chúng ta sẽ xem lại `pandas.get_dummies` sau các phần tiếp theo của sách."
   ]
  },
  {
   "cell_type": "markdown",
   "id": "56ed239f",
   "metadata": {},
   "source": [
    "## Thao tác trên chuỗi ký tự\n",
    "<hr>"
   ]
  },
  {
   "cell_type": "markdown",
   "id": "cdfb6909",
   "metadata": {},
   "source": [
    "Python từ lâu đã là một ngôn ngữ phổ biến để thao tác dữ liệu thô một phần nhờ vào sự dễ dàng trong việc xử lý chuỗi và văn bản. Hầu hết các thao tác văn bản đều khả thi với các phương thức tích hợp sẵn của đối tượng chuỗi. Đối với các thao tác xử lý văn bản phức tạp hơn, có thể cần đến các **biểu thức chính quy**. `pandas` bổ sung vào đó bằng cách cho phép bạn áp dụng các biểu thức chuỗi và biểu thức chính quy một cách ngắn gọn trên toàn bộ mảng dữ liệu, đồng thời xử lý sự phiền phức của dữ liệu bị thiếu."
   ]
  },
  {
   "cell_type": "markdown",
   "id": "d605893e",
   "metadata": {},
   "source": [
    "### Các phương thức đối tượng chuỗi ký tự tích hợp sẵn của Python"
   ]
  },
  {
   "cell_type": "markdown",
   "id": "d761d2c3",
   "metadata": {},
   "source": [
    "Trong nhiều ứng dụng xử lý chuỗi và viết kịch bản, các phương thức chuỗi tích hợp sẵn là đủ. Ví dụ, một chuỗi được phân tách bằng dấu phẩy có thể được chia thành các phần bằng `split`:"
   ]
  },
  {
   "cell_type": "code",
   "execution_count": null,
   "id": "3f9fbc33",
   "metadata": {},
   "outputs": [],
   "source": [
    "val = \"a,b,  guido\"\n",
    "val.split(\",\")\n",
    "# Out[152]: ['a', 'b', ' guido']"
   ]
  },
  {
   "cell_type": "markdown",
   "id": "51dab2e3",
   "metadata": {},
   "source": [
    "`split` thường được kết hợp với `strip` để loại bỏ khoảng trắng, bao gồm cả ngắt dòng:"
   ]
  },
  {
   "cell_type": "code",
   "execution_count": null,
   "id": "4bdea840",
   "metadata": {},
   "outputs": [],
   "source": [
    "pieces = [x.strip() for x in val.split(\",\")]\n",
    "pieces\n",
    "# Out[154]: ['a', 'b', 'guido']"
   ]
  },
  {
   "cell_type": "markdown",
   "id": "c3d2cfdf",
   "metadata": {},
   "source": [
    "Các chuỗi ký tự con này có thể được nối lại với nhau bằng một dấu hai chấm kép làm dấu phân cách bằng cách sử dụng phép cộng:"
   ]
  },
  {
   "cell_type": "code",
   "execution_count": null,
   "id": "a8d6faec",
   "metadata": {},
   "outputs": [],
   "source": [
    "first, second, third = pieces\n",
    "first + \"::\" + second + \"::\" + third\n",
    "# Out[156]: 'a::b::guido'"
   ]
  },
  {
   "cell_type": "markdown",
   "id": "e629e901",
   "metadata": {},
   "source": [
    "Nhưng đây không phải là một phương pháp chung thực tế. Một cách nhanh hơn là sử dụng phương thức `join` trên chuỗi `\"::\"`:"
   ]
  },
  {
   "cell_type": "code",
   "execution_count": null,
   "id": "0b8911a6",
   "metadata": {},
   "outputs": [],
   "source": [
    "\"::\".join(pieces)\n",
    "# Out[157]: 'a::b::guido'"
   ]
  },
  {
   "cell_type": "markdown",
   "id": "224e5ab6",
   "metadata": {},
   "source": [
    "Có các phương thức khác liên quan đến việc định vị chuỗi con. Sử dụng từ khóa `in` của Python là cách tốt nhất để phát hiện một chuỗi con, mặc dù `index` và `find` cũng có thể được sử dụng:"
   ]
  },
  {
   "cell_type": "code",
   "execution_count": null,
   "id": "ea954fad",
   "metadata": {},
   "outputs": [],
   "source": [
    "\"guido\" in val\n",
    "# Out[158]: True\n",
    "\n",
    "val.index(\",\")\n",
    "# Out[159]: 1\n",
    "\n",
    "val.find(\":\")\n",
    "# Out[160]: -1"
   ]
  },
  {
   "cell_type": "markdown",
   "id": "80f792c5",
   "metadata": {},
   "source": [
    "Lưu ý rằng sự khác biệt giữa `find` và `index` là `index` sẽ báo lỗi nếu chuỗi ký tự không được tìm thấy thay vì trả về –1:"
   ]
  },
  {
   "cell_type": "code",
   "execution_count": null,
   "id": "051b11b9",
   "metadata": {},
   "outputs": [
    {
     "name": "stdout",
     "output_type": "stream",
     "text": [
      "---------------------------------------------------------------------------\n",
      "ValueError                                Traceback (most recent call last)\n",
      "<ipython-input-161-bea4c4c30248> in <module>\n",
      "----> 1 val.index(\":\")\n",
      "\n",
      "ValueError: substring not found\n"
     ]
    }
   ],
   "source": [
    "# val.index(\":\")\n",
    "# ---------------------------------------------------------------------------\n",
    "# ValueError                                Traceback (most recent call last)\n",
    "# <ipython-input-161-bea4c4c30248> in <module>\n",
    "# ----> 1 val.index(\":\")\n",
    "# \n",
    "# ValueError: substring not found"
   ]
  },
  {
   "cell_type": "markdown",
   "id": "05b712cc",
   "metadata": {},
   "source": [
    "Liên quan đến điều này, `count` trả về số lần xuất hiện của một chuỗi con cụ thể:"
   ]
  },
  {
   "cell_type": "code",
   "execution_count": null,
   "id": "b80e1e58",
   "metadata": {},
   "outputs": [],
   "source": [
    "val.count(\",\")\n",
    "# Out[162]: 2"
   ]
  },
  {
   "cell_type": "markdown",
   "id": "c8226e9f",
   "metadata": {},
   "source": [
    "Phương thức `replace` sẽ thay thế các lần xuất hiện của một chuỗi ký tự bằng một chuỗi ký tự khác. Phương thức này cũng thường được sử dụng để xóa các chuỗi ký tự bằng cách truyền một chuỗi ký tự trống:"
   ]
  },
  {
   "cell_type": "code",
   "execution_count": null,
   "id": "0d31f23d",
   "metadata": {},
   "outputs": [],
   "source": [
    "val.replace(\",\", \"::\")\n",
    "# Out[163]: 'a::b:: guido'\n",
    "\n",
    "val.replace(\",\", \"\")\n",
    "# Out[164]: 'ab guido'"
   ]
  },
  {
   "cell_type": "markdown",
   "id": "ed05a12b",
   "metadata": {},
   "source": [
    "Xem Bảng .... liệt kê danh sách các phương thức chuỗi của Python."
   ]
  },
  {
   "cell_type": "markdown",
   "id": "83ad02fb",
   "metadata": {},
   "source": [
    "**Bảng ... các phương thức chuỗi tích hợp sẵn của Python**\n",
    "\n",
    "| Phương thức | Mô tả |\n",
    "|---|---|\n",
    "| `count` | Trả về số lần xuất hiện không chồng chéo của chuỗi con trong chuỗi. |\n",
    "| `endswith` | Trả về `True` nếu chuỗi kết thúc bằng hậu tố. |\n",
    "| `startswith` | Trả về `True` nếu chuỗi bắt đầu bằng tiền tố. |\n",
    "| `join` | Sử dụng chuỗi làm dấu phân cách để nối một chuỗi các chuỗi khác. |\n",
    "| `index` | Trả về chỉ mục bắt đầu của lần xuất hiện đầu tiên của chuỗi con được truyền nếu tìm thấy trong chuỗi; ngược lại, gây ra `ValueError` nếu không tìm thấy. |\n",
    "| `find` | Trả về vị trí của ký tự đầu tiên của lần xuất hiện đầu tiên của chuỗi con trong chuỗi; giống như `index`, nhưng trả về –1 nếu không tìm thấy. |\n",
    "| `rfind` | Trả về vị trí của ký tự đầu tiên của lần xuất hiện cuối cùng của chuỗi con trong chuỗi; trả về –1 nếu không tìm thấy. |\n",
    "| `replace` | Thay thế các lần xuất hiện của chuỗi bằng một chuỗi khác. |\n",
    "| `strip`, `rstrip`, `lstrip` | Loại bỏ khoảng trắng, bao gồm cả ngắt dòng ở cả hai bên, ở bên phải, hoặc ở bên trái, tương ứng. |\n",
    "| `split` | Chia chuỗi thành danh sách các chuỗi con bằng cách sử dụng dấu phân cách được truyền. |\n",
    "| `lower` | Chuyển đổi các ký tự chữ cái thành chữ thường. |\n",
    "| `upper` | Chuyển đổi các ký tự chữ cái thành chữ hoa. |\n",
    "| `casefold` | Chuyển đổi các ký tự thành chữ thường, và chuyển đổi bất kỳ tổ hợp ký tự biến thể theo vùng cụ thể nào thành một dạng chung có thể so sánh được. |\n",
    "| `ljust`, `rjust` | Căn lề trái hoặc căn lề phải, tương ứng; đệm phía đối diện của chuỗi bằng khoảng trắng (hoặc một ký tự điền khác) để trả về một chuỗi có chiều rộng tối thiểu. |"
   ]
  },
  {
   "cell_type": "markdown",
   "id": "1ab5a7b7",
   "metadata": {},
   "source": [
    "### Biểu thức chính quy"
   ]
  },
  {
   "cell_type": "markdown",
   "id": "f6d99317",
   "metadata": {},
   "source": [
    "Biểu thức chính quy cung cấp một cách linh hoạt để tìm kiếm hoặc mapping các chuỗi ký tự trong văn bản. Một biểu thức, thường được gọi là *regex*, là một chuỗi được hình thành theo ngôn ngữ biểu thức chính quy. Thư viện `re` tích hợp sẵn của Python cho phép áp dụng các biểu thức chính quy cho các chuỗi; chúng ta sẽ tìm hiểu về *regex* thông qua một số ví dụ về cách sử dụng.\n",
    "\n",
    "> **Lưu ý**: Trình bày đầy đủ về biểu thức chính quy có thể yêu cầu một cuốn sách riêng và do đó nằm ngoài phạm vi của cuốn sách này. Có rất nhiều hướng dẫn và tài liệu tham khảo tuyệt vời có sẵn trên internet và trong các cuốn sách khác.\n",
    "\n",
    "Các hàm của thư viện `re` được chia thành ba loại: mapping, thay thế và chia tách chuỗi ký tự. Hãy xem một ví dụ đơn giản: giả sử chúng ta muốn chia một chuỗi được phân tách bằng một số lượng ký tự khoảng trắng, có thể là tab, dấu cách hoặc ngắt dòng.\n",
    "\n",
    "Regex mô tả một hoặc nhiều ký tự khoảng trắng là `\\s+`:"
   ]
  },
  {
   "cell_type": "code",
   "execution_count": null,
   "id": "d98af93f",
   "metadata": {},
   "outputs": [],
   "source": [
    "import re\n",
    "text = \"foo    bar\\t baz  \\tqux\"\n",
    "re.split(r\"\\s+\", text)\n",
    "# Out[167]: ['foo', 'bar', 'baz', 'qux']"
   ]
  },
  {
   "cell_type": "markdown",
   "id": "10bb5b6f",
   "metadata": {},
   "source": [
    "Khi bạn gọi `re.split(r\"\\s+\", text)`, biểu thức chính quy được biên dịch trước, và sau đó phương thức `split` được gọi trên văn bản được truyền vào. Trong Python, thêm chữ r trước một chuỗi (ví dụ: r\"\\s+\") nghĩa là bạn đang viết raw string — chuỗi \"thô\", để tránh việc phải sử dụng `\\\\`.\n",
    "\n",
    "Bạn có thể tự tạo một đối tượng regex có thể tái sử dụng bằng phương thức `compile` như sau"
   ]
  },
  {
   "cell_type": "code",
   "execution_count": null,
   "id": "380310ce",
   "metadata": {},
   "outputs": [],
   "source": [
    "regex = re.compile(r\"\\s+\")\n",
    "regex.split(text)\n",
    "# Out[169]: ['foo', 'bar', 'baz', 'qux']"
   ]
  },
  {
   "cell_type": "markdown",
   "id": "4b231760",
   "metadata": {},
   "source": [
    "Nếu bạn muốn lấy một danh sách tất cả các mẫu khớp với regex, bạn có thể sử dụng phương thức `findall`:"
   ]
  },
  {
   "cell_type": "code",
   "execution_count": null,
   "id": "430abb1e",
   "metadata": {},
   "outputs": [],
   "source": [
    "regex.findall(text)\n",
    "# Out[170]: ['    ', '\\t ', '  \\t']"
   ]
  },
  {
   "cell_type": "markdown",
   "id": "6b2cd025",
   "metadata": {},
   "source": [
    "Việc tạo một đối tượng regex bằng `re.compile` được khuyến khích nếu bạn có ý định áp dụng cùng một biểu thức cho nhiều chuỗi; làm như vậy sẽ tiết kiệm thời gian tính toán thay vì phải gọi thư viện `re` cho từng lần.\n",
    "\n",
    "`match` và `search` có liên quan chặt chẽ với `findall`. Trong khi `findall` trả về tất cả các kết quả khớp trong một chuỗi, `search` chỉ trả về kết quả khớp đầu tiên. Chặt chẽ hơn, `match` chỉ khớp ở đầu chuỗi. Hãy xem xét một văn bản và một biểu thức chính quy có khả năng xác định hầu hết các địa chỉ email trong một văn bản:"
   ]
  },
  {
   "cell_type": "code",
   "execution_count": null,
   "id": "a7113aa9",
   "metadata": {},
   "outputs": [],
   "source": [
    "text = \"\"\"Dave dave@google.com\n",
    "Steve steve@gmail.com\n",
    "Rob rob@gmail.com\n",
    "Ryan ryan@yahoo.com\"\"\"\n",
    "pattern = r\"[A-Z0-9._%+-]+@[A-Z0-9.-]+\\.[A-Z]{2,4}\"\n",
    "\n",
    "# re.IGNORECASE làm cho regex không phân biệt chữ hoa chữ thường\n",
    "regex = re.compile(pattern, flags=re.IGNORECASE)"
   ]
  },
  {
   "cell_type": "markdown",
   "id": "0834e9e1",
   "metadata": {},
   "source": [
    "Sử dụng `findall` trên văn bản sẽ tạo ra một danh sách các địa chỉ email:"
   ]
  },
  {
   "cell_type": "code",
   "execution_count": null,
   "id": "77aa23cf",
   "metadata": {},
   "outputs": [],
   "source": [
    "regex.findall(text)\n",
    "# Out[172]: ['dave@google.com', 'steve@gmail.com', 'rob@gmail.com', 'ryan@yahoo.com']"
   ]
  },
  {
   "cell_type": "markdown",
   "id": "74b411cc",
   "metadata": {},
   "source": [
    "`search` trả về một đối tượng khớp đặc biệt cho địa chỉ email đầu tiên trong văn bản. Đối với regex ở trên, đối tượng khớp chỉ có thể cho chúng ta biết vị trí bắt đầu và kết thúc của mẫu trong chuỗi:"
   ]
  },
  {
   "cell_type": "code",
   "execution_count": null,
   "id": "225c06b8",
   "metadata": {},
   "outputs": [],
   "source": [
    "m = regex.search(text)\n",
    "m\n",
    "# Out[174]: <re.Match object; span=(5, 20), match='dave@google.com'>\n",
    "\n",
    "text[m.start():m.end()]\n",
    "# Out[175]: 'dave@google.com'"
   ]
  },
  {
   "cell_type": "markdown",
   "id": "276ca3b3",
   "metadata": {},
   "source": [
    "`regex.match` trả về `None`, vì nó sẽ chỉ khớp nếu mẫu xuất hiện ở đầu chuỗi:"
   ]
  },
  {
   "cell_type": "code",
   "execution_count": null,
   "id": "707382b0",
   "metadata": {},
   "outputs": [
    {
     "name": "stdout",
     "output_type": "stream",
     "text": [
      "None\n"
     ]
    }
   ],
   "source": [
    "print(regex.match(text))\n",
    "# Out: None"
   ]
  },
  {
   "cell_type": "markdown",
   "id": "82b1aa37",
   "metadata": {},
   "source": [
    "Cũng liên quan đến tìm kiếm và khớp văn bản, `sub` sẽ trả về một chuỗi mới với các lần xuất hiện của mẫu được thay thế bằng một chuỗi mới:"
   ]
  },
  {
   "cell_type": "code",
   "execution_count": null,
   "id": "5df4f079",
   "metadata": {},
   "outputs": [
    {
     "name": "stdout",
     "output_type": "stream",
     "text": [
      "Dave REDACTED\n",
      "Steve REDACTED\n",
      "Rob REDACTED\n",
      "Ryan REDACTED\n"
     ]
    }
   ],
   "source": [
    "print(regex.sub(\"REDACTED\", text))\n",
    "# Out: \n",
    "# Dave REDACTED\n",
    "# Steve REDACTED\n",
    "# Rob REDACTED\n",
    "# Ryan REDACTED"
   ]
  },
  {
   "cell_type": "markdown",
   "id": "138998a0",
   "metadata": {},
   "source": [
    "Giả sử bạn muốn tìm các địa chỉ email và đồng thời phân đoạn từng địa chỉ thành ba thành phần của nó: tên người dùng, tên miền và hậu tố tên miền. Để làm điều này, hãy đặt dấu ngoặc đơn xung quanh các phần của mẫu để phân đoạn:"
   ]
  },
  {
   "cell_type": "code",
   "execution_count": null,
   "id": "85e52fed",
   "metadata": {},
   "outputs": [],
   "source": [
    "pattern = r\"([A-Z0-9._%+-]+)@([A-Z0-9.-]+)\\.([A-Z]{2,4})\"\n",
    "regex = re.compile(pattern, flags=re.IGNORECASE)"
   ]
  },
  {
   "cell_type": "markdown",
   "id": "9e4d0cb3",
   "metadata": {},
   "source": [
    "Một đối tượng khớp được tạo bởi regex đã sửa đổi này trả về một tuple các thành phần mẫu bằng phương thức `groups` của nó:"
   ]
  },
  {
   "cell_type": "code",
   "execution_count": null,
   "id": "32852965",
   "metadata": {},
   "outputs": [],
   "source": [
    "m = regex.match(\"wesm@bright.net\")\n",
    "m.groups()\n",
    "# Out[181]: ('wesm', 'bright.net', 'net') # Chú ý: trang web gốc có 'bright' thay vì 'bright.net', regex của tôi bắt 'bright.net'"
   ]
  },
  {
   "cell_type": "markdown",
   "id": "9e951977",
   "metadata": {},
   "source": [
    "`findall` trả về một danh sách các tuple khi mẫu có các nhóm:"
   ]
  },
  {
   "cell_type": "code",
   "execution_count": null,
   "id": "e21379a1",
   "metadata": {},
   "outputs": [],
   "source": [
    "regex.findall(text)\n",
    "# Out[182]: [('dave', 'google.com', 'com'), ('steve', 'gmail.com', 'com'), ('rob', 'gmail.com', 'com'), ('ryan', 'yahoo.com', 'com')]"
   ]
  },
  {
   "cell_type": "markdown",
   "id": "432e9b89",
   "metadata": {},
   "source": [
    "`sub` cũng có quyền truy cập vào các nhóm trong mỗi kết quả khớp bằng cách sử dụng các ký hiệu đặc biệt như `\\1` và `\\2`. Ký hiệu `\\1` tương ứng với nhóm khớp đầu tiên, `\\2` tương ứng với nhóm thứ hai, v.v.:"
   ]
  },
  {
   "cell_type": "code",
   "execution_count": null,
   "id": "34c0131e",
   "metadata": {},
   "outputs": [
    {
     "name": "stdout",
     "output_type": "stream",
     "text": [
      "Dave Username: dave, Domain: google.com, Suffix: com\n",
      "Steve Username: steve, Domain: gmail.com, Suffix: com\n",
      "Rob Username: rob, Domain: gmail.com, Suffix: com\n",
      "Ryan Username: ryan, Domain: yahoo.com, Suffix: com\n"
     ]
    }
   ],
   "source": [
    "print(regex.sub(r\"Username: \\1, Domain: \\2, Suffix: \\3\", text))\n",
    "# Out:\n",
    "# Dave Username: dave, Domain: google.com, Suffix: com\n",
    "# Steve Username: steve, Domain: gmail.com, Suffix: com\n",
    "# Rob Username: rob, Domain: gmail.com, Suffix: com\n",
    "# Ryan Username: ryan, Domain: yahoo.com, Suffix: com"
   ]
  },
  {
   "cell_type": "markdown",
   "id": "7283fccc",
   "metadata": {},
   "source": [
    "Có rất nhiều điều khác về biểu thức chính quy trong Python, hầu hết nằm ngoài phạm vi của cuốn sách này. Bảng 7.5 cung cấp một bản tóm tắt ngắn gọn."
   ]
  },
  {
   "cell_type": "markdown",
   "id": "22200339",
   "metadata": {},
   "source": [
    "**Bảng ... Các phương thức biểu thức chính quy**\n",
    "\n",
    "| Phương thức | Mô tả |\n",
    "|---|---|\n",
    "| `findall` | Trả về tất cả các mẫu khớp không chồng chéo trong một chuỗi dưới dạng một danh sách. |\n",
    "| `finditer` | Giống như `findall`, nhưng trả về một iterator. |\n",
    "| `match` | Khớp mẫu ở đầu chuỗi và tùy chọn phân đoạn các thành phần mẫu thành các nhóm; nếu mẫu khớp, trả về một đối tượng khớp, ngược lại là `None`. |\n",
    "| `search` | Quét chuỗi để tìm khớp với mẫu, trả về một đối tượng `Match` nếu có; không giống như `match`, khớp có thể ở bất kỳ đâu trong chuỗi thay vì chỉ ở đầu. |\n",
    "| `split` | Chia chuỗi thành các phần ở mỗi lần xuất hiện của mẫu. |\n",
    "| `sub`, `subn` | Thay thế tất cả (`sub`) hoặc *n* lần xuất hiện đầu tiên (`subn`) của mẫu trong chuỗi bằng biểu thức thay thế; sử dụng các ký hiệu `\\1`, `\\2`, ... để tham chiếu đến các phần tử nhóm khớp trong chuỗi thay thế. |"
   ]
  },
  {
   "cell_type": "markdown",
   "id": "7882b202",
   "metadata": {},
   "source": [
    "## Dữ liệu kiểu phân loại"
   ]
  },
  {
   "cell_type": "markdown",
   "id": "2dff6253",
   "metadata": {},
   "source": [
    "Phần này của chương giới thiệu về kiểu dữ liệu phân loại, hay còn gọi là `Categorical` của pandas.  Trước hết, chúng ta thảo luận về cách có thể đạt được hiệu suất tốt hơn và sử dụng bộ nhớ ít hơn trong một số hoạt động pandas bằng cách sử dụng nó. Sau đó, chúng ta sẽ được làm quen với một số công cụ có thể giúp sử dụng dữ liệu phân loại trong phân tích dữ liệu và xây dựng mô hình."
   ]
  },
  {
   "cell_type": "markdown",
   "id": "cdc7caa4",
   "metadata": {},
   "source": [
    "### Dữ liệu kiểu phân loại là gì?"
   ]
  },
  {
   "cell_type": "markdown",
   "id": "1bea3d1a",
   "metadata": {},
   "source": [
    "Rất thường gặp trong thực tế dữ liệu là một cột trong bảng có thể chứa các giá trị lặp đi lặp lại của một tập nhỏ hơn các giá trị riêng biệt. Chúng ta đã thấy các hàm như `unique` và `value_counts` cho phép trích xuất các giá trị riêng biệt từ một mảng và tính toán tần suất của chúng, tương ứng:"
   ]
  },
  {
   "cell_type": "code",
   "execution_count": null,
   "id": "3566dafb",
   "metadata": {},
   "outputs": [],
   "source": [
    "values = pd.Series(['apple', 'orange', 'apple',\n",
    "                    'apple'] * 2)\n",
    "values\n",
    "# Out[200]:\n",
    "# 0     apple\n",
    "# 1    orange\n",
    "# 2     apple\n",
    "# 3     apple\n",
    "# 4     apple\n",
    "# 5    orange\n",
    "# 6     apple\n",
    "# 7     apple\n",
    "# dtype: object\n",
    "\n",
    "pd.unique(values)\n",
    "# Out[201]: array(['apple', 'orange'], dtype=object)\n",
    "\n",
    "pd.value_counts(values)\n",
    "# Out[202]:\n",
    "# apple     6\n",
    "# orange    2\n",
    "# Name: count, dtype: int64"
   ]
  },
  {
   "cell_type": "markdown",
   "id": "ee54b1b6",
   "metadata": {},
   "source": [
    "Nhiều hệ thống dữ liệu đã phát triển các phương pháp chuyên biệt để biểu diễn dữ liệu với các giá trị lặp lại nhằm lưu trữ và tính toán hiệu quả hơn. Một trong những phương pháp phổ biến là sử dụng các *dimension tables* chứa các giá trị riêng biệt và lưu trữ các quan sát chính dưới dạng các số nguyên tham chiếu đến bảng chiều:"
   ]
  },
  {
   "cell_type": "code",
   "execution_count": null,
   "id": "3cc8636d",
   "metadata": {},
   "outputs": [],
   "source": [
    "values = pd.Series([0, 1, 0, 0] * 2)\n",
    "dim = pd.Series(['apple', 'orange'])\n",
    "values\n",
    "# Out[205]:\n",
    "# 0    0\n",
    "# 1    1\n",
    "# 2    0\n",
    "# 3    0\n",
    "# 4    0\n",
    "# 5    1\n",
    "# 6    0\n",
    "# 7    0\n",
    "# dtype: int64\n",
    "\n",
    "dim\n",
    "# Out[206]:\n",
    "# 0     apple\n",
    "# 1    orange\n",
    "# dtype: object"
   ]
  },
  {
   "cell_type": "markdown",
   "id": "3b1ba7af",
   "metadata": {},
   "source": [
    "Chúng ta có thể sử dụng phương thức `take` để khôi phục lại mảng ban đầu:"
   ]
  },
  {
   "cell_type": "code",
   "execution_count": null,
   "id": "bef6ca86",
   "metadata": {},
   "outputs": [],
   "source": [
    "dim.take(values)\n",
    "# Out[207]:\n",
    "# 0     apple\n",
    "# 1    orange\n",
    "# 0     apple\n",
    "# 0     apple\n",
    "# 0     apple\n",
    "# 1    orange\n",
    "# 0     apple\n",
    "# 0     apple\n",
    "# dtype: object"
   ]
  },
  {
   "cell_type": "markdown",
   "id": "18eda572",
   "metadata": {},
   "source": [
    "Biểu diễn này dưới dạng số nguyên được gọi là biểu diễn *phân loại* hoặc *mã hóa từ điển (dictionary-encoded)*. Mảng các giá trị riêng biệt có thể được gọi là các *phân loại (categories)*, *từ điển (dictionary)*, hoặc *cấp độ (levels)* của dữ liệu. Trong cuốn sách này, chúng ta sẽ sử dụng các thuật ngữ *phân loại (categories)*. Các giá trị số nguyên tham chiếu đến các category được gọi là *mã phân loại (category codes)*.\n",
    "\n",
    "Biểu diễn phân loại có thể mang lại những cải thiện đáng kể về hiệu suất khi bạn thực hiện phân tích. Bạn cũng có thể thực hiện các phép biến đổi trên các phân loại trong khi vẫn giữ nguyên các câu lệnh. Một số ví dụ về các phép biến đổi có thể được thực hiện với chi phí tương đối thấp là:\n",
    "\n",
    "*   Đổi tên các phân loại\n",
    "*   Thêm một phân loại mới mà không thay đổi thứ tự hoặc vị trí của các phân loại hiện có"
   ]
  },
  {
   "cell_type": "markdown",
   "id": "96376c58",
   "metadata": {},
   "source": [
    "### Kiểu phân loại trong pandas"
   ]
  },
  {
   "cell_type": "markdown",
   "id": "8c2ff719",
   "metadata": {},
   "source": [
    "pandas có một kiểu mở rộng `Categorical` đặc biệt để lưu trữ dữ liệu sử dụng biểu diễn hoặc mã hóa phân loại dựa trên số nguyên. Đây là một kỹ thuật nén dữ liệu phổ biến cho dữ liệu có nhiều lần xuất hiện của các giá trị tương tự và có thể cung cấp hiệu suất nhanh hơn đáng kể với việc sử dụng bộ nhớ thấp hơn, đặc biệt đối với dữ liệu chuỗi.\n",
    "\n",
    "Hãy xem xét ví dụ Series từ trước:"
   ]
  },
  {
   "cell_type": "code",
   "execution_count": null,
   "id": "2ee5ce5a",
   "metadata": {},
   "outputs": [],
   "source": [
    "fruits = ['apple', 'orange', 'apple', 'apple'] * 2\n",
    "N = len(fruits)\n",
    "rng = np.random.default_rng(seed=12345)\n",
    "df = pd.DataFrame({'fruit': fruits,\n",
    "                   'basket_id': np.arange(N),\n",
    "                   'count': rng.integers(3, 15, size=N),\n",
    "                   'weight': rng.uniform(0, 4, size=N)},\n",
    "                  columns=['basket_id', 'fruit', 'count', 'weight'])\n",
    "df\n",
    "# Out[212]:\n",
    "#    basket_id   fruit  count    weight\n",
    "# 0          0   apple     11  1.564438\n",
    "# 1          1  orange      5  1.331256\n",
    "# 2          2   apple     12  2.393235\n",
    "# 3          3   apple      6  0.746937\n",
    "# 4          4   apple      5  2.691024\n",
    "# 5          5  orange     12  3.767211\n",
    "# 6          6   apple     10  0.992983\n",
    "# 7          7   apple     11  3.795525"
   ]
  },
  {
   "cell_type": "markdown",
   "id": "066a7cf3",
   "metadata": {},
   "source": [
    "Ở đây, `df['fruit']` là một mảng các đối tượng chuỗi ký tự của Python. Chúng ta có thể chuyển đổi nó thành phân loại bằng cách gọi:"
   ]
  },
  {
   "cell_type": "code",
   "execution_count": null,
   "id": "b5936d4f",
   "metadata": {},
   "outputs": [],
   "source": [
    "fruit_cat = df['fruit'].astype('category')\n",
    "fruit_cat\n",
    "# Out[214]:\n",
    "# 0     apple\n",
    "# 1    orange\n",
    "# 2     apple\n",
    "# 3     apple\n",
    "# 4     apple\n",
    "# 5    orange\n",
    "# 6     apple\n",
    "# 7     apple\n",
    "# Name: fruit, dtype: category\n",
    "# Categories (2, object): ['apple', 'orange']"
   ]
  },
  {
   "cell_type": "markdown",
   "id": "ff06db94",
   "metadata": {},
   "source": [
    "Các giá trị cho `fruit_cat` bây giờ là một `pandas.Categorical` và có thể truy cập thông qua thuộc tính `.array`:"
   ]
  },
  {
   "cell_type": "code",
   "execution_count": null,
   "id": "840a24ba",
   "metadata": {},
   "outputs": [],
   "source": [
    "c = fruit_cat.array\n",
    "type(c)\n",
    "# Out[216]: pandas.core.arrays.categorical.Categorical"
   ]
  },
  {
   "cell_type": "markdown",
   "id": "62e29b5d",
   "metadata": {},
   "source": [
    "Đối tượng `Categorical` có các thuộc tính `categories` và `codes`:"
   ]
  },
  {
   "cell_type": "code",
   "execution_count": null,
   "id": "dfa65878",
   "metadata": {},
   "outputs": [],
   "source": [
    "c.categories\n",
    "# Out[217]: Index(['apple', 'orange'], dtype='object')\n",
    "\n",
    "c.codes\n",
    "# Out[218]: array([0, 1, 0, 0, 0, 1, 0, 0], dtype=int8)"
   ]
  },
  {
   "cell_type": "markdown",
   "id": "3b5f9a59",
   "metadata": {},
   "source": [
    "Một cách để lấy ánh xạ giữa mã phân loại và giá trị là:"
   ]
  },
  {
   "cell_type": "code",
   "execution_count": null,
   "id": "b17075de",
   "metadata": {},
   "outputs": [],
   "source": [
    "dict(enumerate(c.categories))\n",
    "# Out[219]: {0: 'apple', 1: 'orange'}"
   ]
  },
  {
   "cell_type": "markdown",
   "id": "520667c4",
   "metadata": {},
   "source": [
    "Bạn có thể chuyển đổi một cột DataFrame thành phân loại bằng cách gán kết quả đã chuyển đổi:"
   ]
  },
  {
   "cell_type": "code",
   "execution_count": null,
   "id": "e5773a43",
   "metadata": {},
   "outputs": [],
   "source": [
    "df['fruit'] = df['fruit'].astype('category')\n",
    "df[\"fruit\"]\n",
    "# Out[221]:\n",
    "# 0     apple\n",
    "# 1    orange\n",
    "# 2     apple\n",
    "# 3     apple\n",
    "# 4     apple\n",
    "# 5    orange\n",
    "# 6     apple\n",
    "# 7     apple\n",
    "# Name: fruit, dtype: category\n",
    "# Categories (2, object): ['apple', 'orange']"
   ]
  },
  {
   "cell_type": "markdown",
   "id": "18176d63",
   "metadata": {},
   "source": [
    "Bạn cũng có thể tạo `pandas.Categorical` trực tiếp từ các loại chuỗi Python khác:"
   ]
  },
  {
   "cell_type": "code",
   "execution_count": null,
   "id": "3bb938d5",
   "metadata": {},
   "outputs": [],
   "source": [
    "my_categories = pd.Categorical(['foo', 'bar', 'baz', 'foo', 'bar'])\n",
    "my_categories\n",
    "# Out[223]:\n",
    "# ['foo', 'bar', 'baz', 'foo', 'bar']\n",
    "# Categories (3, object): ['bar', 'baz', 'foo']"
   ]
  },
  {
   "cell_type": "markdown",
   "id": "092b24e1",
   "metadata": {},
   "source": [
    "Nếu bạn đã thu được dữ liệu được mã hóa phân loại từ một nguồn khác, bạn có thể sử dụng hàm tạo `from_codes` thay thế:"
   ]
  },
  {
   "cell_type": "code",
   "execution_count": null,
   "id": "a38a3d20",
   "metadata": {},
   "outputs": [],
   "source": [
    "categories = ['foo', 'bar', 'baz']\n",
    "codes = [0, 1, 2, 0, 0, 1]\n",
    "my_cats_2 = pd.Categorical.from_codes(codes, categories)\n",
    "my_cats_2\n",
    "# Out[227]:\n",
    "# ['foo', 'bar', 'baz', 'foo', 'foo', 'bar']\n",
    "# Categories (3, object): ['foo', 'bar', 'baz']"
   ]
  },
  {
   "cell_type": "markdown",
   "id": "59b93e10",
   "metadata": {},
   "source": [
    "Trừ khi được chỉ định rõ ràng, các chuyển đổi phân loại giả định không có thứ tự cụ thể của các phân loại. Vì vậy, mảng các phân loại có thể theo một thứ tự khác nhau tùy thuộc vào thứ tự của dữ liệu đầu vào. Khi sử dụng `from_codes` hoặc bất kỳ hàm tạo nào khác, bạn có thể chỉ ra rằng các phân loại có một thứ tự có ý nghĩa:"
   ]
  },
  {
   "cell_type": "code",
   "execution_count": null,
   "id": "99f2439a",
   "metadata": {},
   "outputs": [],
   "source": [
    "ordered_cat = pd.Categorical.from_codes(codes, categories,\n",
    "                                         ordered=True)\n",
    "ordered_cat\n",
    "# Out[229]:\n",
    "# ['foo', 'bar', 'baz', 'foo', 'foo', 'bar']\n",
    "# Categories (3, object): ['foo' < 'bar' < 'baz']"
   ]
  },
  {
   "cell_type": "markdown",
   "id": "f00d4d2d",
   "metadata": {},
   "source": [
    "Đầu ra `[foo < bar < baz]` cho biết 'foo' đứng trước 'bar' trong thứ tự, v.v. Một thể hiện phân loại không có thứ tự có thể được sắp xếp thứ tự bằng `as_ordered`:"
   ]
  },
  {
   "cell_type": "code",
   "execution_count": null,
   "id": "fa839c15",
   "metadata": {},
   "outputs": [],
   "source": [
    "my_cats_2.as_ordered()\n",
    "# Out[230]:\n",
    "# ['foo', 'bar', 'baz', 'foo', 'foo', 'bar']\n",
    "# Categories (3, object): ['foo' < 'bar' < 'baz']"
   ]
  },
  {
   "cell_type": "markdown",
   "id": "4d861c33",
   "metadata": {},
   "source": [
    "Lưu ý cuối cùng, dữ liệu phân loại không nhất thiết phải là chuỗi, mặc dù chúng ta chỉ hiển thị các ví dụ về chuỗi. Một mảng phân loại có thể bao gồm bất kỳ kiểu giá trị bất biến nào."
   ]
  },
  {
   "cell_type": "markdown",
   "id": "894fb124",
   "metadata": {},
   "source": [
    "### Tính toán với dữ liệu phân loại"
   ]
  },
  {
   "cell_type": "markdown",
   "id": "0c249b64",
   "metadata": {},
   "source": [
    "Việc sử dụng `Categorical` trong pandas so với phiên bản không mã hóa như một mảng các chuỗi thường hoạt động theo cùng một cách. Một số phần của `pandas`, như hàm `groupby`, hoạt động tốt hơn khi làm việc với dữ liệu phân loại. Cũng có một số hàm có thể sử dụng `ordered`.\n",
    "\n",
    "Hãy xem xét một số dữ liệu số ngẫu nhiên và sử dụng hàm phân nhóm `pandas.qcut`. Hàm này trả về `pandas.Categorical`; chúng ta đã sử dụng `pandas.cut` trước đó trong sách nhưng đã bỏ qua chi tiết về cách hoạt động của dữ liệu phân loại:"
   ]
  },
  {
   "cell_type": "code",
   "execution_count": null,
   "id": "c97cc36c",
   "metadata": {},
   "outputs": [],
   "source": [
    "rng = np.random.default_rng(seed=12345)\n",
    "draws = rng.standard_normal(1000)\n",
    "draws[:5]\n",
    "# Out[233]: array([-1.4238,  1.2637, -0.8707, -0.2592, -0.0753])"
   ]
  },
  {
   "cell_type": "markdown",
   "id": "dd847e56",
   "metadata": {},
   "source": [
    "Hãy tính toán một phân nhóm tứ phân vị của dữ liệu này và trích xuất một số thống kê:"
   ]
  },
  {
   "cell_type": "code",
   "execution_count": null,
   "id": "dd5866c7",
   "metadata": {},
   "outputs": [],
   "source": [
    "bins = pd.qcut(draws, 4)\n",
    "bins\n",
    "# Out[235]:\n",
    "# [(-3.121, -0.675], (0.687, 3.211], (-3.121, -0.675], (-0.675, 0.0134], (-0.675, 0.0134], ...,\n",
    "# (0.0134, 0.687], (0.0134, 0.687], (-0.675, 0.0134], (0.0134, 0.687], (-0.675, 0.0134]]\n",
    "# Length: 1000\n",
    "# Categories (4, interval[float64, right]): [(-3.121, -0.675] < (-0.675, 0.0134] < (0.0134, 0.687] < (0.687, 3.211]]"
   ]
  },
  {
   "cell_type": "markdown",
   "id": "80f46691",
   "metadata": {},
   "source": [
    "Mặc dù hữu ích, các phân vị mẫu chính xác có thể ít hữu ích hơn để tạo báo cáo so với tên tứ phân vị. Chúng ta có thể đạt được điều này bằng đối số `labels` cho `qcut`:"
   ]
  },
  {
   "cell_type": "code",
   "execution_count": null,
   "id": "11c717dd",
   "metadata": {},
   "outputs": [],
   "source": [
    "bins = pd.qcut(draws, 4, labels=['Q1', 'Q2', 'Q3', 'Q4'])\n",
    "bins\n",
    "# Out[237]:\n",
    "# ['Q1', 'Q4', 'Q1', 'Q2', 'Q2', ..., 'Q3', 'Q3', 'Q2', 'Q3', 'Q2']\n",
    "# Length: 1000\n",
    "# Categories (4, object): ['Q1' < 'Q2' < 'Q3' < 'Q4']\n",
    "\n",
    "bins.codes[:10]\n",
    "# Out[238]: array([0, 3, 0, 1, 1, 0, 0, 2, 2, 0], dtype=int8)"
   ]
  },
  {
   "cell_type": "markdown",
   "id": "d06e167f",
   "metadata": {},
   "source": [
    "Dữ liệu phân loại `bins` được gắn nhãn không chứa thông tin về các cạnh nhóm trong dữ liệu, vì vậy chúng ta có thể sử dụng `groupby` để trích xuất một số thống kê tóm tắt:"
   ]
  },
  {
   "cell_type": "code",
   "execution_count": null,
   "id": "b09cc1a0",
   "metadata": {},
   "outputs": [],
   "source": [
    "bins = pd.Series(bins, name='quartile')\n",
    "results = (pd.Series(draws)\n",
    "             .groupby(bins)\n",
    "             .agg(['count', 'min', 'max'])\n",
    "             .reset_index())\n",
    "results\n",
    "# Out[241]:\n",
    "#   quartile  count       min       max\n",
    "# 0       Q1    250 -3.119609 -0.678494\n",
    "# 1       Q2    250 -0.673305  0.008009\n",
    "# 2       Q3    250  0.018753  0.686183\n",
    "# 3       Q4    250  0.688282  3.211418"
   ]
  },
  {
   "cell_type": "markdown",
   "id": "0dae4ec7",
   "metadata": {},
   "source": [
    "Cột `'quartile'` trong kết quả giữ lại thông tin phân loại ban đầu, bao gồm cả thứ tự, từ `bins`:"
   ]
  },
  {
   "cell_type": "code",
   "execution_count": null,
   "id": "e79fc9b5",
   "metadata": {},
   "outputs": [],
   "source": [
    "results['quartile']\n",
    "# Out[242]:\n",
    "# 0    Q1\n",
    "# 1    Q2\n",
    "# 2    Q3\n",
    "# 3    Q4\n",
    "# Name: quartile, dtype: category\n",
    "# Categories (4, object): ['Q1' < 'Q2' < 'Q3' < 'Q4']"
   ]
  },
  {
   "cell_type": "markdown",
   "id": "67ec882a",
   "metadata": {},
   "source": [
    "### Đo lường hiệu suất khi sử dụng dữ liệu phân loại"
   ]
  },
  {
   "cell_type": "markdown",
   "id": "25fa4679",
   "metadata": {},
   "source": [
    "Ở phần trước, chúng ta đã nói rằng các kiểu phân loại có thể cải thiện hiệu suất và việc sử dụng bộ nhớ, vì vậy hãy xem một số ví dụ. Hãy xem xét một số Series với 10 triệu phần tử và một số lượng nhỏ các phân loại riêng biệt:"
   ]
  },
  {
   "cell_type": "code",
   "execution_count": null,
   "id": "0f2cd868",
   "metadata": {},
   "outputs": [],
   "source": [
    "N = 10_000_000\n",
    "labels = pd.Series(['foo', 'bar', 'baz', 'qux'] * (N // 4))"
   ]
  },
  {
   "cell_type": "markdown",
   "id": "31491e50",
   "metadata": {},
   "source": [
    "Bây giờ chúng ta chuyển đổi `labels` thành phân loại:"
   ]
  },
  {
   "cell_type": "code",
   "execution_count": null,
   "id": "9021453a",
   "metadata": {},
   "outputs": [],
   "source": [
    "categories = labels.astype('category')"
   ]
  },
  {
   "cell_type": "markdown",
   "id": "5afc3f68",
   "metadata": {},
   "source": [
    "Bây giờ chúng ta lưu ý rằng `labels` sử dụng bộ nhớ nhiều hơn đáng kể so với `categories`:"
   ]
  },
  {
   "cell_type": "code",
   "execution_count": null,
   "id": "b59a99cc",
   "metadata": {},
   "outputs": [],
   "source": [
    "labels.memory_usage(deep=True)\n",
    "# Out[246]: 600000128\n",
    "\n",
    "categories.memory_usage(deep=True)\n",
    "# Out[247]: 10000540"
   ]
  },
  {
   "cell_type": "markdown",
   "id": "e5851aab",
   "metadata": {},
   "source": [
    "Tất nhiên, việc chuyển đổi sang `category` cũng sẽ cần thời gian tính toán, nhưng đó là tính toán một lần:"
   ]
  },
  {
   "cell_type": "code",
   "execution_count": null,
   "id": "e5cf9199",
   "metadata": {},
   "outputs": [],
   "source": [
    "%time _ = labels.astype('category')\n",
    "# CPU times: user 279 ms, sys: 6.06 ms, total: 285 ms\n",
    "# Wall time: 285 ms"
   ]
  },
  {
   "cell_type": "markdown",
   "id": "244f67e2",
   "metadata": {},
   "source": [
    "Các thao tác `GroupBy` có thể nhanh hơn đáng kể với dữ liệu phân loại vì các thuật toán cơ bản sử dụng mảng mã dựa trên số nguyên thay vì một mảng các chuỗi. Ở đây chúng ta so sánh hiệu suất của `value_counts()`, mà bên trong sử dụng cơ chế `GroupBy`:"
   ]
  },
  {
   "cell_type": "code",
   "execution_count": null,
   "id": "fe926dd8",
   "metadata": {},
   "outputs": [],
   "source": [
    "%timeit labels.value_counts()\n",
    "# 331 ms +- 5.39 ms per loop (mean +- std. dev. of 7 runs, 1 loop each)\n",
    "\n",
    "%timeit categories.value_counts()\n",
    "# 15.6 ms +- 152 us per loop (mean +- std. dev. of 7 runs, 100 loops each)"
   ]
  },
  {
   "cell_type": "markdown",
   "id": "baac2843",
   "metadata": {},
   "source": [
    "### Phương thức phân loại"
   ]
  },
  {
   "cell_type": "markdown",
   "id": "40bcebc0",
   "metadata": {},
   "source": [
    "Series chứa dữ liệu phân loại có một số phương thức đặc biệt tương tự như các phương thức chuỗi chuyên biệt `Series.str`. Điều này cũng cung cấp quyền truy cập thuận tiện vào các phân loại và mã. Hãy xem xét Series:"
   ]
  },
  {
   "cell_type": "code",
   "execution_count": null,
   "id": "1bb2d797",
   "metadata": {},
   "outputs": [],
   "source": [
    "s = pd.Series(['a', 'b', 'c', 'd'] * 2)\n",
    "cat_s = s.astype('category')\n",
    "cat_s\n",
    "# Out[253]:\n",
    "# 0    a\n",
    "# 1    b\n",
    "# 2    c\n",
    "# 3    d\n",
    "# 4    a\n",
    "# 5    b\n",
    "# 6    c\n",
    "# 7    d\n",
    "# dtype: category\n",
    "# Categories (4, object): ['a', 'b', 'c', 'd']"
   ]
  },
  {
   "cell_type": "markdown",
   "id": "5d34b6fa",
   "metadata": {},
   "source": [
    "Thuộc tính truy cập đặc biệt `cat` cung cấp quyền truy cập vào các phương thức phân loại:"
   ]
  },
  {
   "cell_type": "code",
   "execution_count": null,
   "id": "77199bd8",
   "metadata": {},
   "outputs": [],
   "source": [
    "cat_s.cat.codes\n",
    "# Out[254]:\n",
    "# 0    0\n",
    "# 1    1\n",
    "# 2    2\n",
    "# 3    3\n",
    "# 4    0\n",
    "# 5    1\n",
    "# 6    2\n",
    "# 7    3\n",
    "# dtype: int8\n",
    "\n",
    "cat_s.cat.categories\n",
    "# Out[255]: Index(['a', 'b', 'c', 'd'], dtype='object')"
   ]
  },
  {
   "cell_type": "markdown",
   "id": "44a0224b",
   "metadata": {},
   "source": [
    "Giả sử rằng chúng ta biết tập hợp các phân loại thực tế cho dữ liệu này mở rộng ra ngoài bốn giá trị được quan sát trong dữ liệu. Chúng ta có thể sử dụng phương thức `set_categories` để thay đổi chúng:"
   ]
  },
  {
   "cell_type": "code",
   "execution_count": null,
   "id": "be78e434",
   "metadata": {},
   "outputs": [],
   "source": [
    "actual_categories = ['a', 'b', 'c', 'd', 'e']\n",
    "cat_s2 = cat_s.cat.set_categories(actual_categories)\n",
    "cat_s2\n",
    "# Out[258]:\n",
    "# 0    a\n",
    "# 1    b\n",
    "# 2    c\n",
    "# 3    d\n",
    "# 4    a\n",
    "# 5    b\n",
    "# 6    c\n",
    "# 7    d\n",
    "# dtype: category\n",
    "# Categories (5, object): ['a', 'b', 'c', 'd', 'e']"
   ]
  },
  {
   "cell_type": "markdown",
   "id": "f17d7090",
   "metadata": {},
   "source": [
    "Mặc dù có vẻ như dữ liệu không thay đổi, các phân loại mới sẽ được phản ánh trong các hoạt động sử dụng chúng. Ví dụ, `value_counts` giữ nguyên các phân loại, nếu có:"
   ]
  },
  {
   "cell_type": "code",
   "execution_count": null,
   "id": "5b2eb9b5",
   "metadata": {},
   "outputs": [],
   "source": [
    "cat_s.value_counts()\n",
    "# Out[259]:\n",
    "# a    2\n",
    "# b    2\n",
    "# c    2\n",
    "# d    2\n",
    "# Name: count, dtype: int64\n",
    "\n",
    "cat_s2.value_counts()\n",
    "# Out[260]:\n",
    "# a    2\n",
    "# b    2\n",
    "# c    2\n",
    "# d    2\n",
    "# e    0\n",
    "# Name: count, dtype: int64"
   ]
  },
  {
   "cell_type": "markdown",
   "id": "d43d2594",
   "metadata": {},
   "source": [
    "Trong các tập dữ liệu lớn, dữ liệu phân loại thường được sử dụng như một công cụ tiện lợi để tiết kiệm bộ nhớ và cải thiện hiệu suất. Sau khi bạn lọc một DataFrame hoặc Series lớn, nhiều phân loại có thể không xuất hiện trong dữ liệu. Để giải quyết vấn đề này, chúng ta có thể sử dụng phương thức `remove_unused_categories` để loại bỏ các phân loại không được quan sát:"
   ]
  },
  {
   "cell_type": "code",
   "execution_count": null,
   "id": "c22b0aa4",
   "metadata": {},
   "outputs": [],
   "source": [
    "cat_s3 = cat_s[cat_s.isin(['a', 'b'])]\n",
    "cat_s3\n",
    "# Out[262]:\n",
    "# 0    a\n",
    "# 1    b\n",
    "# 4    a\n",
    "# 5    b\n",
    "# dtype: category\n",
    "# Categories (4, object): ['a', 'b', 'c', 'd']\n",
    "\n",
    "cat_s3.cat.remove_unused_categories()\n",
    "# Out[263]:\n",
    "# 0    a\n",
    "# 1    b\n",
    "# 4    a\n",
    "# 5    b\n",
    "# dtype: category\n",
    "# Categories (2, object): ['a', 'b']"
   ]
  },
  {
   "cell_type": "markdown",
   "id": "f3c55e4f",
   "metadata": {},
   "source": [
    "Xem Bảng ... để biết danh sách các phương thức phân loại có sẵn."
   ]
  },
  {
   "cell_type": "markdown",
   "id": "71c22934",
   "metadata": {},
   "source": [
    "**Bảng ...: Các phương thức phân loại cho Series trong pandas**\n",
    "\n",
    "| Phương thức | Mô tả |\n",
    "|---|---|\n",
    "| `add_categories` | Thêm các phân loại mới (chưa sử dụng) vào cuối các phân loại hiện có. |\n",
    "| `as_ordered` | Làm cho các phân loại có thứ tự. |\n",
    "| `as_unordered` | Làm cho các phân loại không có thứ tự. |\n",
    "| `remove_categories` | Loại bỏ các phân loại, đặt bất kỳ giá trị bị loại bỏ nào thành null. |\n",
    "| `remove_unused_categories` | Loại bỏ bất kỳ giá trị phân loại nào không xuất hiện trong dữ liệu. |\n",
    "| `rename_categories` | Thay thế các phân loại bằng tập hợp các tên phân loại mới được chỉ định; không thể thay đổi số lượng phân loại. |\n",
    "| `reorder_categories` | Hoạt động giống như `rename_categories`, nhưng cũng có thể thay đổi kết quả để có các phân loại có thứ tự. |\n",
    "| `set_categories` | Thay thế các phân loại bằng tập hợp các phân loại mới được chỉ định; có thể thêm hoặc loại bỏ các phân loại. |"
   ]
  },
  {
   "cell_type": "markdown",
   "id": "76cd71c4",
   "metadata": {},
   "source": [
    "#### Tạo biến giả để lập mô hình"
   ]
  },
  {
   "cell_type": "markdown",
   "id": "0cb1cff6",
   "metadata": {},
   "source": [
    "Khi bạn sử dụng các công cụ thống kê hoặc học máy, bạn sẽ thường xuyên chuyển đổi dữ liệu phân loại thành các *biến giả (dummy variables)*, còn được gọi là *mã hóa one-hot (one-hot encoding)*. Điều này liên quan đến việc tạo một DataFrame với một cột cho mỗi phân loại riêng biệt; các cột này chứa 1 cho các lần xuất hiện của một phân loại nhất định và 0 cho các trường hợp khác.\n",
    "\n",
    "Hãy xem xét ví dụ trước:"
   ]
  },
  {
   "cell_type": "code",
   "execution_count": null,
   "id": "129cf99b",
   "metadata": {},
   "outputs": [],
   "source": [
    "cat_s = pd.Series(['a', 'b', 'c', 'd'] * 2, dtype='category')"
   ]
  },
  {
   "cell_type": "markdown",
   "id": "60f7cc91",
   "metadata": {},
   "source": [
    "Như đã đề cập trước đó trong chương này, hàm `pandas.get_dummies` chuyển đổi dữ liệu phân loại một chiều này thành một DataFrame chứa biến giả:"
   ]
  },
  {
   "cell_type": "code",
   "execution_count": null,
   "id": "5ff58353",
   "metadata": {},
   "outputs": [],
   "source": [
    "pd.get_dummies(cat_s, dtype=float)\n",
    "# Out[265]:\n",
    "#      a    b    c    d\n",
    "# 0  1.0  0.0  0.0  0.0\n",
    "# 1  0.0  1.0  0.0  0.0\n",
    "# 2  0.0  0.0  1.0  0.0\n",
    "# 3  0.0  0.0  0.0  1.0\n",
    "# 4  1.0  0.0  0.0  0.0\n",
    "# 5  0.0  1.0  0.0  0.0\n",
    "# 6  0.0  0.0  1.0  0.0\n",
    "# 7  0.0  0.0  0.0  1.0"
   ]
  },
  {
   "cell_type": "markdown",
   "id": "42729477",
   "metadata": {},
   "source": [
    "Như vậy, bạn đọc có thể thấy rằng việc chuẩn bị dữ liệu hiệu quả có thể cải thiện đáng kể năng suất bằng cách cho phép bạn dành nhiều thời gian hơn để phân tích dữ liệu và ít thời gian hơn để chuẩn bị dữ liệu cho phân tích. Chúng ta đã khám phá một số công cụ trong chương này, nhưng phạm vi bao phủ ở đây không hề toàn diện. Trong chương tiếp theo, chúng ta sẽ khám phá chức năng thêm các chức năng quan trọng khác của `pandas` trong phân tích dữ liệu."
   ]
  }
 ],
 "metadata": {
  "kernelspec": {
   "display_name": "Python 3 (ipykernel)",
   "language": "python",
   "name": "python3"
  },
  "language_info": {
   "codemirror_mode": {
    "name": "ipython",
    "version": 3
   },
   "file_extension": ".py",
   "mimetype": "text/x-python",
   "name": "python",
   "nbconvert_exporter": "python",
   "pygments_lexer": "ipython3",
   "version": "3.13.2"
  }
 },
 "nbformat": 4,
 "nbformat_minor": 5
}