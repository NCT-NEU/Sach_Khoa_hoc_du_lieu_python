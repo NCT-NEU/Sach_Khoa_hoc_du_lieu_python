{
 "cells": [
  {
   "cell_type": "markdown",
   "metadata": {},
   "source": [
    "![](../docs/banner.png)"
   ]
  },
  {
   "cell_type": "markdown",
   "metadata": {},
   "source": [
    "# Python cơ bản\n",
    "<hr>"
   ]
  },
  {
   "cell_type": "markdown",
   "metadata": {},
   "source": [
    "## Các kiểu dữ liệu cơ bản trong Python\n",
    "<hr>"
   ]
  },
  {
   "cell_type": "markdown",
   "metadata": {},
   "source": [
    "### Khái niệm biến\n",
    "<hr>"
   ]
  },
  {
   "cell_type": "markdown",
   "metadata": {},
   "source": [
    "Một **giá trị** là một đơn vị dữ liệu mà chương trình máy tính xử lý, chẳng hạn như một con số hoặc một đoạn văn bản. Có nhiều kiểu giá trị khác nhau: chẳng hạn `4` là một số nguyên và `\"Hello!\"` là một chuỗi ký tự. Một **biến** là một tên gọi đại diện cho một giá trị. Trong toán học và thống kê, chúng ta thường sử dụng các tên biến như $x$ và $y$. Trong Python, bạn có thể sử dụng bất kỳ từ nào làm tên biến miễn là tên bắt đầu bằng một chữ cái hoặc dấu gạch dưới. Tuy nhiên, không nên sử dụng [từ khóa dành riêng](https://docs.python.org/3.3/reference/lexical_analysis.html#keywords) trong Python như `for`, `while`, `class`, `lambda`, v.v., vì đây là những từ mang chức năng đặc biệt trong Python mà chúng ta không nên ghi đè lên.\n",
    "\n",
    "Bạn có thể hình dung một biến giống như một chiếc hộp chứa thông tin nào đó (một số, một chuỗi, một danh sách, v.v.). Chúng ta sử dụng **toán tử gán** `=` để gán giá trị cho biến.\n",
    "\n",
    "![](img/chapter1/box.png)\n",
    "\n",
    "Hình ảnh được chỉnh sửa từ: [medium.com](https://www.google.com/url?sa=i&url=https%3A%2F%2Fmedium.com%2F%40stevenpcurtis.sc%2Fwhat-is-a-variable-3447ac1331b9&psig=AOvVaw3YbYfgb7XFOJ_sHP5eliob&ust=1595365663851000&source=images&cd=vfe&ved=0CA0QjhxqFwoTCMi8nrfe3OoCFQAAAAAdAAAAABAZ)"
   ]
  },
  {
   "cell_type": "markdown",
   "metadata": {},
   "source": [
    "Các kiểu giá trị của biến, hay gọi tắt là kiểu biến cơ bản có sẵn trong Python bao gồm:"
   ]
  },
  {
   "cell_type": "markdown",
   "metadata": {},
   "source": [
    "| Kiểu biến             | Kiểu (python)  | Nhóm  | Mô tả                                   | Ví dụ                                    |\n",
    "| :-------------------- | :--------- | :------------- | :-------------------------------------------- | :----------------------------------------- |\n",
    "| integer               | `int`      | Kiểu số   | các số nguyên              | `4`                                       |\n",
    "| floating point number | `float`    | Kiểu số   | các số thực                    | `3.14159`                                  |\n",
    "| boolean               | `bool`     | Kiểu logical | nhận giá trị `True` hoặc `False`                                 | `True`                                     |\n",
    "| string                | `str`      | Kiểu chuỗi ký tự  | Ký tự, chuỗi ký tự, đoạn văn bản                                          | `\"Khoa học dữ liệu?\"`                 |\n",
    "| list                  | `list`     | Kiểu tuần tự (dãy)  | một tập hợp các phần tử có thứ tự  | `['Python', 'R', 'Java']`               |\n",
    "| tuple                 | `tuple`    | Kiểu tuần tự (dãy)  | một tập hợp các phần tử có thứ tự và không thể thay đổi | `('Sunday', 6, 3, 2025)`                 |\n",
    "| dictionary            | `dict`     | Kiểu mapping (ánh xạ)  | ánh xạ giữa khóa - giá trị                    | `{'name':'KHDL', 'code':123, 'credits':3}` |"
   ]
  },
  {
   "cell_type": "markdown",
   "metadata": {},
   "source": [
    "### Dữ liệu kiểu số và toán tử số học"
   ]
  },
  {
   "cell_type": "markdown",
   "metadata": {},
   "source": [
    "Có biến kiểu số khác nhau trong Python bao gồm số nguyên (integers), số thực (floating point numbers), và số phức (complex numbers). Kiểu số phức là phức tạp nhất và sẽ không được đề cập trong phần này. Để tạo một biến kiểu số, chúng ta chỉ cần viết tên biến và gán bằng giá trị có kiểu thích hợp. Chúng ta có thể xác định kiểu của một đối tượng trong Python bằng cách sử dụng hàm `type()`. Để in giá trị của đối tượng ra màn hình, ta sử dụng hàm `print()`."
   ]
  },
  {
   "cell_type": "code",
   "execution_count": 1,
   "metadata": {},
   "outputs": [],
   "source": [
    "x = 4"
   ]
  },
  {
   "cell_type": "code",
   "execution_count": 2,
   "metadata": {},
   "outputs": [
    {
     "data": {
      "text/plain": [
       "int"
      ]
     },
     "execution_count": 2,
     "metadata": {},
     "output_type": "execute_result"
    }
   ],
   "source": [
    "type(x)"
   ]
  },
  {
   "cell_type": "code",
   "execution_count": 3,
   "metadata": {},
   "outputs": [
    {
     "name": "stdout",
     "output_type": "stream",
     "text": [
      "4\n"
     ]
    }
   ],
   "source": [
    "print(x)"
   ]
  },
  {
   "cell_type": "markdown",
   "metadata": {},
   "source": [
    "Trong Python, dòng lệnh cuối cùng trong một cell sẽ tự động được hiển thị ra màn hình, vì vậy chúng ta không cần phải gọi hàm `print()`."
   ]
  },
  {
   "cell_type": "code",
   "execution_count": 4,
   "metadata": {},
   "outputs": [
    {
     "data": {
      "text/plain": [
       "4"
      ]
     },
     "execution_count": 4,
     "metadata": {},
     "output_type": "execute_result"
    }
   ],
   "source": [
    "x  # Anything after the pound/hash symbol is a comment and will not be run"
   ]
  },
  {
   "cell_type": "code",
   "execution_count": 5,
   "metadata": {},
   "outputs": [
    {
     "data": {
      "text/plain": [
       "3.14159"
      ]
     },
     "execution_count": 5,
     "metadata": {},
     "output_type": "execute_result"
    }
   ],
   "source": [
    "pi = 3.14159\n",
    "pi"
   ]
  },
  {
   "cell_type": "code",
   "execution_count": 6,
   "metadata": {},
   "outputs": [
    {
     "data": {
      "text/plain": [
       "float"
      ]
     },
     "execution_count": 6,
     "metadata": {},
     "output_type": "execute_result"
    }
   ],
   "source": [
    "type(pi)"
   ]
  },
  {
   "cell_type": "markdown",
   "metadata": {},
   "source": [
    "Trong Python, các toán tử số học được sử dụng để thực hiện các phép tính giữa các biến kiểu số. Dưới đây là một số toán tử phổ biến:\n",
    "\n",
    "| Toán tử | Mô tả              | Ví dụ        | Kết quả |\n",
    "|--------|---------------------|--------------|---------|\n",
    "| `+`    | Cộng                | `2 + 3`      | `5`     |\n",
    "| `-`    | Trừ                 | `5 - 2`      | `3`     |\n",
    "| `*`    | Nhân                | `4 * 2`      | `8`     |\n",
    "| `/`    | Chia                | `6 / 3`      | `2.0`   |\n",
    "| `//`   | Chia lấy phần nguyên| `7 // 2`     | `3`     |\n",
    "| `%`    | Chia lấy dư         | `7 % 2`      | `1`     |\n",
    "| `**`   | Lũy thừa            | `2 ** 3`     | `8`     |\n",
    "\n",
    "Bạn có thể sử dụng các toán tử này trực tiếp trong Python để thực hiện phép tính."
   ]
  },
  {
   "cell_type": "code",
   "execution_count": 7,
   "metadata": {},
   "outputs": [
    {
     "data": {
      "text/plain": [
       "15"
      ]
     },
     "execution_count": 7,
     "metadata": {},
     "output_type": "execute_result"
    }
   ],
   "source": [
    "1 + 2 + 3 + 4 + 5  # cộng"
   ]
  },
  {
   "cell_type": "code",
   "execution_count": 8,
   "metadata": {},
   "outputs": [
    {
     "data": {
      "text/plain": [
       "6.28318"
      ]
     },
     "execution_count": 8,
     "metadata": {},
     "output_type": "execute_result"
    }
   ],
   "source": [
    "2 * 3.14159  # nhân"
   ]
  },
  {
   "cell_type": "code",
   "execution_count": 9,
   "metadata": {},
   "outputs": [
    {
     "data": {
      "text/plain": [
       "1024"
      ]
     },
     "execution_count": 9,
     "metadata": {},
     "output_type": "execute_result"
    }
   ],
   "source": [
    "2 ** 10  # hàm mũ"
   ]
  },
  {
   "cell_type": "markdown",
   "metadata": {},
   "source": [
    "Phép chia trong Python có thể tạo ra một kiểu dữ liệu khác với kiểu ban đầu mong đợi. Cụ thể phép chia sẽ chuyển giá trị từ kiểu số nguyên (`int`) sang kiểu số thực (`float`)."
   ]
  },
  {
   "cell_type": "code",
   "execution_count": 10,
   "metadata": {},
   "outputs": [
    {
     "data": {
      "text/plain": [
       "int"
      ]
     },
     "execution_count": 10,
     "metadata": {},
     "output_type": "execute_result"
    }
   ],
   "source": [
    "int_2 = 2\n",
    "type(int_2)"
   ]
  },
  {
   "cell_type": "code",
   "execution_count": 11,
   "metadata": {},
   "outputs": [
    {
     "data": {
      "text/plain": [
       "1.0"
      ]
     },
     "execution_count": 11,
     "metadata": {},
     "output_type": "execute_result"
    }
   ],
   "source": [
    "int_2 / int_2  # phép chia"
   ]
  },
  {
   "cell_type": "code",
   "execution_count": 12,
   "metadata": {},
   "outputs": [
    {
     "data": {
      "text/plain": [
       "float"
      ]
     },
     "execution_count": 12,
     "metadata": {},
     "output_type": "execute_result"
    }
   ],
   "source": [
    "type(int_2 / int_2)"
   ]
  },
  {
   "cell_type": "markdown",
   "metadata": {},
   "source": [
    "Toán tử `//` cho phép chúng ta thực hiện phép chia lấy phần nguyên, còn gọi là *floor division*, và giữ nguyên kiểu dữ liệu `int`. Phép toán này luôn làm tròn xuống:"
   ]
  },
  {
   "cell_type": "code",
   "execution_count": 13,
   "metadata": {},
   "outputs": [
    {
     "data": {
      "text/plain": [
       "50.5"
      ]
     },
     "execution_count": 13,
     "metadata": {},
     "output_type": "execute_result"
    }
   ],
   "source": [
    "101 / 2"
   ]
  },
  {
   "cell_type": "code",
   "execution_count": 14,
   "metadata": {},
   "outputs": [
    {
     "data": {
      "text/plain": [
       "50"
      ]
     },
     "execution_count": 14,
     "metadata": {},
     "output_type": "execute_result"
    }
   ],
   "source": [
    "101 // 2  # phép chia làm tròn xuống"
   ]
  },
  {
   "cell_type": "markdown",
   "metadata": {},
   "source": [
    "Chúng ta gọi đây là phép chia lấy phần nguyên hoặc phép chia làm tròn xuống vì nó giống như việc gọi hàm `int` trên kết quả của một phép chia: giá trị sẽ được làm tròn xuống số nguyên gần nhất:"
   ]
  },
  {
   "cell_type": "code",
   "execution_count": 15,
   "metadata": {},
   "outputs": [
    {
     "data": {
      "text/plain": [
       "50"
      ]
     },
     "execution_count": 15,
     "metadata": {},
     "output_type": "execute_result"
    }
   ],
   "source": [
    "int(101 / 2)"
   ]
  },
  {
   "cell_type": "markdown",
   "metadata": {},
   "source": [
    "Toán tử `%`, còn được gọi là **modulo**, trả về phần dư sau khi thực hiện phép chia."
   ]
  },
  {
   "cell_type": "code",
   "execution_count": 16,
   "metadata": {},
   "outputs": [
    {
     "data": {
      "text/plain": [
       "0"
      ]
     },
     "execution_count": 16,
     "metadata": {},
     "output_type": "execute_result"
    }
   ],
   "source": [
    "100 % 2  # Còn gọi là 100 mod 2"
   ]
  },
  {
   "cell_type": "code",
   "execution_count": 17,
   "metadata": {},
   "outputs": [
    {
     "data": {
      "text/plain": [
       "1"
      ]
     },
     "execution_count": 17,
     "metadata": {},
     "output_type": "execute_result"
    }
   ],
   "source": [
    "101 % 2  # 101 mod 2"
   ]
  },
  {
   "cell_type": "code",
   "execution_count": 18,
   "metadata": {},
   "outputs": [
    {
     "data": {
      "text/plain": [
       "0.5"
      ]
     },
     "execution_count": 18,
     "metadata": {},
     "output_type": "execute_result"
    }
   ],
   "source": [
    "100.5 % 2"
   ]
  },
  {
   "cell_type": "markdown",
   "metadata": {},
   "source": [
    "### Biến kiểu chuỗi ký tự\n",
    "<hr>"
   ]
  },
  {
   "cell_type": "markdown",
   "metadata": {},
   "source": [
    "Ký tự, **chuỗi ký tự**, hay văn bản được lưu trữ dưới dạng một kiểu biến gọi là chuỗi ký tự, hay `string`. Trong nhiều ngôn ngữ lập trình, chuỗi ký tự còn được gọi **dãy các ký tự**.\n",
    "\n",
    "```{Tip}\n",
    "Thực ra, để quản lý dữ liệu kiểu chuỗi ký tự trên máy tính điện tử, người ta lưu chúng dưới dạng một chuỗi các mã ký tự Unicode. Bạn đọc có thể tham khảo về [Unicode](https://unicode-org.github.io/icu/userguide/strings/?utm_source=chatgpt.com) tại đây. Tương tự như biến kiểu số, để tạo biến dạng chuỗi ký tự, bạn đọc lựa chọn tên biến và gán giá trị kiểu chuỗi ký tự cho biến:"
   ]
  },
  {
   "cell_type": "code",
   "execution_count": 19,
   "metadata": {},
   "outputs": [],
   "source": [
    "my_name = \"Trường Công nghệ\""
   ]
  },
  {
   "cell_type": "code",
   "execution_count": 20,
   "metadata": {},
   "outputs": [
    {
     "data": {
      "text/plain": [
       "'Trường Công nghệ'"
      ]
     },
     "execution_count": 20,
     "metadata": {},
     "output_type": "execute_result"
    }
   ],
   "source": [
    "my_name"
   ]
  },
  {
   "cell_type": "code",
   "execution_count": 21,
   "metadata": {},
   "outputs": [
    {
     "data": {
      "text/plain": [
       "str"
      ]
     },
     "execution_count": 21,
     "metadata": {},
     "output_type": "execute_result"
    }
   ],
   "source": [
    "type(my_name)"
   ]
  },
  {
   "cell_type": "code",
   "execution_count": 22,
   "metadata": {},
   "outputs": [],
   "source": [
    "course = 'CT123'"
   ]
  },
  {
   "cell_type": "code",
   "execution_count": 23,
   "metadata": {},
   "outputs": [
    {
     "data": {
      "text/plain": [
       "'CT123'"
      ]
     },
     "execution_count": 23,
     "metadata": {},
     "output_type": "execute_result"
    }
   ],
   "source": [
    "course"
   ]
  },
  {
   "cell_type": "code",
   "execution_count": 24,
   "metadata": {},
   "outputs": [
    {
     "data": {
      "text/plain": [
       "str"
      ]
     },
     "execution_count": 24,
     "metadata": {},
     "output_type": "execute_result"
    }
   ],
   "source": [
    "type(course)"
   ]
  },
  {
   "cell_type": "markdown",
   "metadata": {},
   "source": [
    "Nếu chuỗi ký tự chứa dấu ngoặc kép `\"` hoặc dấu nháy đơn `'`, chúng ta có thể sử dụng kết hợp giữa dấu nháy đơn và dấu ngoặc kép để định nghĩa chuỗi một cách linh hoạt:"
   ]
  },
  {
   "cell_type": "code",
   "execution_count": 25,
   "metadata": {},
   "outputs": [],
   "source": [
    "sentence = \"Hôm nay là một ngày nắng nóng đến 40 độ.\""
   ]
  },
  {
   "cell_type": "code",
   "execution_count": 26,
   "metadata": {},
   "outputs": [
    {
     "data": {
      "text/plain": [
       "'Hôm nay là một ngày nắng nóng đến 40 độ.'"
      ]
     },
     "execution_count": 26,
     "metadata": {},
     "output_type": "execute_result"
    }
   ],
   "source": [
    "sentence"
   ]
  },
  {
   "cell_type": "code",
   "execution_count": 27,
   "metadata": {},
   "outputs": [
    {
     "data": {
      "text/plain": [
       "str"
      ]
     },
     "execution_count": 27,
     "metadata": {},
     "output_type": "execute_result"
    }
   ],
   "source": [
    "type(sentence)"
   ]
  },
  {
   "cell_type": "code",
   "execution_count": 28,
   "metadata": {},
   "outputs": [],
   "source": [
    "quote = 'Paven: \"Cái quý nhất của con người ta là cuộc sống.\"'"
   ]
  },
  {
   "cell_type": "code",
   "execution_count": 29,
   "metadata": {},
   "outputs": [
    {
     "data": {
      "text/plain": [
       "'Paven: \"Cái quý nhất của con người ta là cuộc sống.\"'"
      ]
     },
     "execution_count": 29,
     "metadata": {},
     "output_type": "execute_result"
    }
   ],
   "source": [
    "quote"
   ]
  },
  {
   "cell_type": "markdown",
   "metadata": {},
   "source": [
    "### Biến kiểu logical\n",
    "<hr>"
   ]
  },
  {
   "cell_type": "markdown",
   "metadata": {},
   "source": [
    "Biến kiểu logical, hay được gọi trong Python là kiểu `bool` là biến chỉ có hai giá trị là: `True` và `False`."
   ]
  },
  {
   "cell_type": "code",
   "execution_count": 30,
   "metadata": {},
   "outputs": [],
   "source": [
    "the_truth = True"
   ]
  },
  {
   "cell_type": "code",
   "execution_count": 31,
   "metadata": {},
   "outputs": [
    {
     "data": {
      "text/plain": [
       "True"
      ]
     },
     "execution_count": 31,
     "metadata": {},
     "output_type": "execute_result"
    }
   ],
   "source": [
    "the_truth"
   ]
  },
  {
   "cell_type": "code",
   "execution_count": 32,
   "metadata": {},
   "outputs": [
    {
     "data": {
      "text/plain": [
       "bool"
      ]
     },
     "execution_count": 32,
     "metadata": {},
     "output_type": "execute_result"
    }
   ],
   "source": [
    "type(the_truth)"
   ]
  },
  {
   "cell_type": "code",
   "execution_count": 33,
   "metadata": {},
   "outputs": [],
   "source": [
    "lies = False"
   ]
  },
  {
   "cell_type": "code",
   "execution_count": 34,
   "metadata": {},
   "outputs": [
    {
     "data": {
      "text/plain": [
       "False"
      ]
     },
     "execution_count": 34,
     "metadata": {},
     "output_type": "execute_result"
    }
   ],
   "source": [
    "lies"
   ]
  },
  {
   "cell_type": "code",
   "execution_count": 35,
   "metadata": {},
   "outputs": [
    {
     "data": {
      "text/plain": [
       "bool"
      ]
     },
     "execution_count": 35,
     "metadata": {},
     "output_type": "execute_result"
    }
   ],
   "source": [
    "type(lies)"
   ]
  },
  {
   "cell_type": "markdown",
   "metadata": {},
   "source": [
    "Thực tế thì biến kiểu logical được tạo từ kết quả của các toán tử so sánh hơn là được gán trực tiếp từ các giá trị. Chúng ta có thể so sánh các đối tượng trong Python bằng cách sử dụng các **toán tử so sánh**, và kết quả trả về sẽ là một giá trị logical:\n",
    "\n",
    "| Toán tử   | Mô tả                                      |\n",
    "| :-------- | :------------------------------------------ |\n",
    "| `x == y`  | `x` có bằng `y` không?                      |\n",
    "| `x != y`  | `x` có khác `y` không?                      |\n",
    "| `x > y`   | `x` có lớn hơn `y` không?                   |\n",
    "| `x >= y`  | `x` có lớn hơn hoặc bằng `y` không?         |\n",
    "| `x < y`   | `x` có nhỏ hơn `y` không?                   |\n",
    "| `x <= y`  | `x` có nhỏ hơn hoặc bằng `y` không?         |\n",
    "| `x is y`  | `x` có phải là cùng một đối tượng với `y`? |"
   ]
  },
  {
   "cell_type": "code",
   "execution_count": 36,
   "metadata": {},
   "outputs": [
    {
     "data": {
      "text/plain": [
       "True"
      ]
     },
     "execution_count": 36,
     "metadata": {},
     "output_type": "execute_result"
    }
   ],
   "source": [
    "x = 2 < 3\n",
    "x"
   ]
  },
  {
   "cell_type": "code",
   "execution_count": 37,
   "metadata": {},
   "outputs": [
    {
     "data": {
      "text/plain": [
       "False"
      ]
     },
     "execution_count": 37,
     "metadata": {},
     "output_type": "execute_result"
    }
   ],
   "source": [
    "\"AI\" == \"Có thể giải quyết mọi vấn đề\""
   ]
  },
  {
   "cell_type": "code",
   "execution_count": 38,
   "metadata": {},
   "outputs": [
    {
     "data": {
      "text/plain": [
       "True"
      ]
     },
     "execution_count": 38,
     "metadata": {},
     "output_type": "execute_result"
    }
   ],
   "source": [
    "2 != \"2\""
   ]
  },
  {
   "cell_type": "code",
   "execution_count": 39,
   "metadata": {},
   "outputs": [
    {
     "name": "stderr",
     "output_type": "stream",
     "text": [
      "<>:1: SyntaxWarning: \"is\" with 'int' literal. Did you mean \"==\"?\n",
      "<>:1: SyntaxWarning: \"is\" with 'int' literal. Did you mean \"==\"?\n",
      "C:\\Users\\AD\\AppData\\Local\\Temp\\ipykernel_18828\\564785565.py:1: SyntaxWarning: \"is\" with 'int' literal. Did you mean \"==\"?\n",
      "  2 is 2\n"
     ]
    },
    {
     "data": {
      "text/plain": [
       "True"
      ]
     },
     "execution_count": 39,
     "metadata": {},
     "output_type": "execute_result"
    }
   ],
   "source": [
    "2 is 2"
   ]
  },
  {
   "cell_type": "code",
   "execution_count": 40,
   "metadata": {},
   "outputs": [
    {
     "data": {
      "text/plain": [
       "True"
      ]
     },
     "execution_count": 40,
     "metadata": {},
     "output_type": "execute_result"
    }
   ],
   "source": [
    "2 == 2.0"
   ]
  },
  {
   "cell_type": "markdown",
   "metadata": {},
   "source": [
    "Chúng ta cũng có các **toán tử logical** dùng để kiểm tra điều kiện, và kết quả trả về cũng là `True` hoặc `False`:\n",
    "\n",
    "| Toán tử    | Mô tả                                               |\n",
    "|:---------:|:-----------------------------------------------------|\n",
    "| `x and y` | Cả `x` và `y` đều đúng (`True`) hay không?           |\n",
    "| `x or y`  | Có ít nhất một trong hai giá trị `x` hoặc `y` đúng? |\n",
    "| `not x`   | `x` có sai (`False`) hay không?                      |"
   ]
  },
  {
   "cell_type": "code",
   "execution_count": 41,
   "metadata": {},
   "outputs": [
    {
     "data": {
      "text/plain": [
       "True"
      ]
     },
     "execution_count": 41,
     "metadata": {},
     "output_type": "execute_result"
    }
   ],
   "source": [
    "True and True"
   ]
  },
  {
   "cell_type": "code",
   "execution_count": 42,
   "metadata": {},
   "outputs": [
    {
     "data": {
      "text/plain": [
       "False"
      ]
     },
     "execution_count": 42,
     "metadata": {},
     "output_type": "execute_result"
    }
   ],
   "source": [
    "True and False"
   ]
  },
  {
   "cell_type": "code",
   "execution_count": 43,
   "metadata": {},
   "outputs": [
    {
     "data": {
      "text/plain": [
       "True"
      ]
     },
     "execution_count": 43,
     "metadata": {},
     "output_type": "execute_result"
    }
   ],
   "source": [
    "True or False"
   ]
  },
  {
   "cell_type": "code",
   "execution_count": 44,
   "metadata": {},
   "outputs": [
    {
     "data": {
      "text/plain": [
       "False"
      ]
     },
     "execution_count": 44,
     "metadata": {},
     "output_type": "execute_result"
    }
   ],
   "source": [
    "False or False"
   ]
  },
  {
   "cell_type": "code",
   "execution_count": 45,
   "metadata": {},
   "outputs": [
    {
     "data": {
      "text/plain": [
       "True"
      ]
     },
     "execution_count": 45,
     "metadata": {},
     "output_type": "execute_result"
    }
   ],
   "source": [
    "(\"Python 2\" != \"Python 3\") and (2 <= 3)"
   ]
  },
  {
   "cell_type": "code",
   "execution_count": 46,
   "metadata": {},
   "outputs": [
    {
     "data": {
      "text/plain": [
       "True"
      ]
     },
     "execution_count": 46,
     "metadata": {},
     "output_type": "execute_result"
    }
   ],
   "source": [
    "True"
   ]
  },
  {
   "cell_type": "code",
   "execution_count": 47,
   "metadata": {},
   "outputs": [
    {
     "data": {
      "text/plain": [
       "False"
      ]
     },
     "execution_count": 47,
     "metadata": {},
     "output_type": "execute_result"
    }
   ],
   "source": [
    "not True"
   ]
  },
  {
   "cell_type": "code",
   "execution_count": 48,
   "metadata": {},
   "outputs": [
    {
     "data": {
      "text/plain": [
       "True"
      ]
     },
     "execution_count": 48,
     "metadata": {},
     "output_type": "execute_result"
    }
   ],
   "source": [
    "not not True"
   ]
  },
  {
   "cell_type": "markdown",
   "metadata": {},
   "source": [
    "Đôi khi chúng ta cần đổi kiểu biến, hay **cast**, một giá trị từ kiểu biến này sang kiểu biến khác một cách tường minh. Điều này có thể thực hiện bằng cách sử dụng các hàm như `str()`, `int()`, và `float()`. Python sẽ cố gắng thực hiện việc chuyển đổi; nếu không thể, kết quả sẽ được trả về là một thông báo lỗi."
   ]
  },
  {
   "cell_type": "code",
   "execution_count": 49,
   "metadata": {},
   "outputs": [
    {
     "data": {
      "text/plain": [
       "float"
      ]
     },
     "execution_count": 49,
     "metadata": {},
     "output_type": "execute_result"
    }
   ],
   "source": [
    "x = 5.0\n",
    "type(x)"
   ]
  },
  {
   "cell_type": "code",
   "execution_count": 50,
   "metadata": {},
   "outputs": [
    {
     "data": {
      "text/plain": [
       "5"
      ]
     },
     "execution_count": 50,
     "metadata": {},
     "output_type": "execute_result"
    }
   ],
   "source": [
    "x = int(5.0)\n",
    "x"
   ]
  },
  {
   "cell_type": "code",
   "execution_count": 51,
   "metadata": {},
   "outputs": [
    {
     "data": {
      "text/plain": [
       "int"
      ]
     },
     "execution_count": 51,
     "metadata": {},
     "output_type": "execute_result"
    }
   ],
   "source": [
    "type(x)"
   ]
  },
  {
   "cell_type": "code",
   "execution_count": 52,
   "metadata": {},
   "outputs": [
    {
     "data": {
      "text/plain": [
       "'5.0'"
      ]
     },
     "execution_count": 52,
     "metadata": {},
     "output_type": "execute_result"
    }
   ],
   "source": [
    "x = str(5.0)\n",
    "x"
   ]
  },
  {
   "cell_type": "code",
   "execution_count": 53,
   "metadata": {},
   "outputs": [
    {
     "data": {
      "text/plain": [
       "str"
      ]
     },
     "execution_count": 53,
     "metadata": {},
     "output_type": "execute_result"
    }
   ],
   "source": [
    "type(x)"
   ]
  },
  {
   "cell_type": "code",
   "execution_count": 54,
   "metadata": {},
   "outputs": [
    {
     "data": {
      "text/plain": [
       "False"
      ]
     },
     "execution_count": 54,
     "metadata": {},
     "output_type": "execute_result"
    }
   ],
   "source": [
    "str(5.0) == 5.0"
   ]
  },
  {
   "cell_type": "code",
   "execution_count": 55,
   "metadata": {},
   "outputs": [
    {
     "data": {
      "text/plain": [
       "5"
      ]
     },
     "execution_count": 55,
     "metadata": {},
     "output_type": "execute_result"
    }
   ],
   "source": [
    "int(5.3)"
   ]
  },
  {
   "cell_type": "code",
   "execution_count": 56,
   "metadata": {
    "tags": [
     "raises-exception"
    ]
   },
   "outputs": [
    {
     "ename": "ValueError",
     "evalue": "could not convert string to float: 'Trường Công nghệ'",
     "output_type": "error",
     "traceback": [
      "\u001b[31m---------------------------------------------------------------------------\u001b[39m",
      "\u001b[31mValueError\u001b[39m                                Traceback (most recent call last)",
      "\u001b[36mCell\u001b[39m\u001b[36m \u001b[39m\u001b[32mIn[56]\u001b[39m\u001b[32m, line 1\u001b[39m\n\u001b[32m----> \u001b[39m\u001b[32m1\u001b[39m \u001b[38;5;28;43mfloat\u001b[39;49m\u001b[43m(\u001b[49m\u001b[33;43m\"\u001b[39;49m\u001b[33;43mTrường Công nghệ\u001b[39;49m\u001b[33;43m\"\u001b[39;49m\u001b[43m)\u001b[49m\n",
      "\u001b[31mValueError\u001b[39m: could not convert string to float: 'Trường Công nghệ'"
     ]
    }
   ],
   "source": [
    "float(\"Trường Công nghệ\")"
   ]
  },
  {
   "cell_type": "markdown",
   "metadata": {},
   "source": [
    "## Cấu trúc dữ liệu tuần tự và tính bất biến\n",
    "<hr>"
   ]
  },
  {
   "cell_type": "markdown",
   "metadata": {},
   "source": [
    "### List và tuple\n",
    "<hr>"
   ]
  },
  {
   "cell_type": "markdown",
   "metadata": {},
   "source": [
    "`List` và `tuple` là các đối tượng của Python cho phép chúng ta lưu trữ nhiều giá trị. Các đối tượng này lưu phần tử theo thứ tự, hay **ordered** — chúng ta sẽ tìm hiểu rõ hơn về khái niệm này ở phần sau.\n",
    "\n",
    "Trước tiên, chúng ta sẽ bắt đầu với `list`. `List` được khởi tạo bằng **dấu ngoặc vuông** `[]`, và bên trong là các phần tử theo thứ tự mà chúng ta muốn khởi tạo:"
   ]
  },
  {
   "cell_type": "code",
   "execution_count": 57,
   "metadata": {},
   "outputs": [],
   "source": [
    "my_list = [1, 2, \"ba\", 4, 0.5]"
   ]
  },
  {
   "cell_type": "code",
   "execution_count": 58,
   "metadata": {},
   "outputs": [
    {
     "data": {
      "text/plain": [
       "[1, 2, 'ba', 4, 0.5]"
      ]
     },
     "execution_count": 58,
     "metadata": {},
     "output_type": "execute_result"
    }
   ],
   "source": [
    "my_list"
   ]
  },
  {
   "cell_type": "code",
   "execution_count": 59,
   "metadata": {},
   "outputs": [
    {
     "data": {
      "text/plain": [
       "list"
      ]
     },
     "execution_count": 59,
     "metadata": {},
     "output_type": "execute_result"
    }
   ],
   "source": [
    "type(my_list)"
   ]
  },
  {
   "cell_type": "markdown",
   "metadata": {},
   "source": [
    "`List` là kiểu đối tượng có thể chứa bất kỳ kiểu dữ liệu nào — thậm chí là cả những `list` khác!"
   ]
  },
  {
   "cell_type": "code",
   "execution_count": 60,
   "metadata": {},
   "outputs": [
    {
     "data": {
      "text/plain": [
       "[1, 'hai', [3, 4, 'năm'], True, None, {'key': 'value'}]"
      ]
     },
     "execution_count": 60,
     "metadata": {},
     "output_type": "execute_result"
    }
   ],
   "source": [
    "another_list = [1, \"hai\", [3, 4, \"năm\"], True, None, {\"key\": \"value\"}]\n",
    "another_list"
   ]
  },
  {
   "cell_type": "markdown",
   "metadata": {},
   "source": [
    "Bạn có thể lấy độ dài, hay số phần tử, của một `list` bằng cách sử dụng hàm `len()`:"
   ]
  },
  {
   "cell_type": "code",
   "execution_count": 61,
   "metadata": {},
   "outputs": [
    {
     "data": {
      "text/plain": [
       "5"
      ]
     },
     "execution_count": 61,
     "metadata": {},
     "output_type": "execute_result"
    }
   ],
   "source": [
    "len(my_list)"
   ]
  },
  {
   "cell_type": "markdown",
   "metadata": {},
   "source": [
    "Tương tự như `list`, đối tượng `Tuple` cũng lưu được nhiều phần tử ở nhiều kiểu khác nhau theo thứ tự, nhưng `tuple` có một điểm khác biệt quan trọng: **tuple là đối tượng bất biến**, hay **immutable** — tức là không thể thay đổi sau khi được tạo ra. Chúng ta sẽ tìm hiểu kỹ hơn về vấn đề này ở phần sau. `Tuple` được định nghĩa bằng cách sử dụng **dấu ngoặc tròn** `()` và sau đó liệt kê các đối tượng bên trong:"
   ]
  },
  {
   "cell_type": "code",
   "execution_count": 62,
   "metadata": {},
   "outputs": [],
   "source": [
    "today = (1, 2, \"ba\", 4, 0.5)"
   ]
  },
  {
   "cell_type": "code",
   "execution_count": 63,
   "metadata": {},
   "outputs": [
    {
     "data": {
      "text/plain": [
       "(1, 2, 'ba', 4, 0.5)"
      ]
     },
     "execution_count": 63,
     "metadata": {},
     "output_type": "execute_result"
    }
   ],
   "source": [
    "today"
   ]
  },
  {
   "cell_type": "code",
   "execution_count": 64,
   "metadata": {},
   "outputs": [
    {
     "data": {
      "text/plain": [
       "tuple"
      ]
     },
     "execution_count": 64,
     "metadata": {},
     "output_type": "execute_result"
    }
   ],
   "source": [
    "type(today)"
   ]
  },
  {
   "cell_type": "code",
   "execution_count": 65,
   "metadata": {},
   "outputs": [
    {
     "data": {
      "text/plain": [
       "5"
      ]
     },
     "execution_count": 65,
     "metadata": {},
     "output_type": "execute_result"
    }
   ],
   "source": [
    "len(today)"
   ]
  },
  {
   "cell_type": "markdown",
   "metadata": {},
   "source": [
    "Chúng ta có thể truy cập các giá trị bên trong một `list`, `tuple` hoặc `string` bằng cú pháp dấu ngoặc vuông `[]`. Python sử dụng **đánh chỉ số bắt đầu từ 0**, nghĩa là phần tử đầu tiên trong dãy nằm ở vị trí 0, không phải vị trí 1."
   ]
  },
  {
   "cell_type": "code",
   "execution_count": 66,
   "metadata": {},
   "outputs": [
    {
     "data": {
      "text/plain": [
       "[1, 2, 'ba', 4, 0.5]"
      ]
     },
     "execution_count": 66,
     "metadata": {},
     "output_type": "execute_result"
    }
   ],
   "source": [
    "my_list"
   ]
  },
  {
   "cell_type": "code",
   "execution_count": 67,
   "metadata": {},
   "outputs": [
    {
     "data": {
      "text/plain": [
       "1"
      ]
     },
     "execution_count": 67,
     "metadata": {},
     "output_type": "execute_result"
    }
   ],
   "source": [
    "my_list[0]"
   ]
  },
  {
   "cell_type": "code",
   "execution_count": 68,
   "metadata": {},
   "outputs": [
    {
     "data": {
      "text/plain": [
       "'ba'"
      ]
     },
     "execution_count": 68,
     "metadata": {},
     "output_type": "execute_result"
    }
   ],
   "source": [
    "my_list[2]"
   ]
  },
  {
   "cell_type": "code",
   "execution_count": 69,
   "metadata": {},
   "outputs": [
    {
     "data": {
      "text/plain": [
       "5"
      ]
     },
     "execution_count": 69,
     "metadata": {},
     "output_type": "execute_result"
    }
   ],
   "source": [
    "len(my_list)"
   ]
  },
  {
   "cell_type": "code",
   "execution_count": 70,
   "metadata": {},
   "outputs": [
    {
     "ename": "SyntaxError",
     "evalue": "invalid syntax (3459022323.py, line 1)",
     "output_type": "error",
     "traceback": [
      "  \u001b[36mCell\u001b[39m\u001b[36m \u001b[39m\u001b[32mIn[70]\u001b[39m\u001b[32m, line 1\u001b[39m\n\u001b[31m    \u001b[39m\u001b[31mNếu sử dụng chỉ số vượt quá chiều dài, Python sẽ báo lỗi:\u001b[39m\n        ^\n\u001b[31mSyntaxError\u001b[39m\u001b[31m:\u001b[39m invalid syntax\n"
     ]
    }
   ],
   "source": [
    "Nếu sử dụng chỉ số vượt quá chiều dài, Python sẽ báo lỗi:"
   ]
  },
  {
   "cell_type": "code",
   "execution_count": 84,
   "metadata": {
    "tags": [
     "raises-exception"
    ]
   },
   "outputs": [
    {
     "ename": "IndexError",
     "evalue": "list index out of range",
     "output_type": "error",
     "traceback": [
      "\u001b[0;31m---------------------------------------------------------------------------\u001b[0m",
      "\u001b[0;31mIndexError\u001b[0m                                Traceback (most recent call last)",
      "\u001b[0;32m<ipython-input-84-075ca585e721>\u001b[0m in \u001b[0;36m<module>\u001b[0;34m\u001b[0m\n\u001b[0;32m----> 1\u001b[0;31m \u001b[0mmy_list\u001b[0m\u001b[0;34m[\u001b[0m\u001b[0;36m5\u001b[0m\u001b[0;34m]\u001b[0m\u001b[0;34m\u001b[0m\u001b[0;34m\u001b[0m\u001b[0m\n\u001b[0m",
      "\u001b[0;31mIndexError\u001b[0m: list index out of range"
     ]
    }
   ],
   "source": [
    "my_list[5]"
   ]
  },
  {
   "cell_type": "markdown",
   "metadata": {},
   "source": [
    "Đặc biệt trong Python, chúng ta có thể sử dụng **chỉ số âm** để đếm ngược từ cuối danh sách.\n",
    "\n",
    "- `-1` là phần tử cuối cùng,\n",
    "\n",
    "- `-2` là phần tử nằm ngay trước phần tử cuối,"
   ]
  },
  {
   "cell_type": "code",
   "execution_count": 21,
   "metadata": {},
   "outputs": [
    {
     "data": {
      "text/plain": [
       "[1, 2, 'ba', 4, 0.5]"
      ]
     },
     "execution_count": 21,
     "metadata": {},
     "output_type": "execute_result"
    }
   ],
   "source": [
    "my_list"
   ]
  },
  {
   "cell_type": "code",
   "execution_count": 22,
   "metadata": {},
   "outputs": [
    {
     "data": {
      "text/plain": [
       "0.5"
      ]
     },
     "execution_count": 22,
     "metadata": {},
     "output_type": "execute_result"
    }
   ],
   "source": [
    "my_list[-1]"
   ]
  },
  {
   "cell_type": "code",
   "execution_count": 87,
   "metadata": {},
   "outputs": [
    {
     "data": {
      "text/plain": [
       "4"
      ]
     },
     "execution_count": 87,
     "metadata": {},
     "output_type": "execute_result"
    }
   ],
   "source": [
    "my_list[-2]"
   ]
  },
  {
   "cell_type": "markdown",
   "metadata": {},
   "source": [
    "Chúng ta có thể sử dụng dấu hai chấm `:` để truy cập một phần con của dãy. Cách làm này được gọi là **cắt lát** hay **slicing**."
   ]
  },
  {
   "cell_type": "code",
   "execution_count": 23,
   "metadata": {},
   "outputs": [
    {
     "data": {
      "text/plain": [
       "[2, 'ba']"
      ]
     },
     "execution_count": 23,
     "metadata": {},
     "output_type": "execute_result"
    }
   ],
   "source": [
    "my_list[1:3]"
   ]
  },
  {
   "cell_type": "markdown",
   "metadata": {},
   "source": [
    "Lưu ý từ ví dụ trên rằng giá trị tương ứng với chỉ số bắt đầu của slice được bao gồm, còn giá trị tương ứng với chỉ số kết thúc thì không. Vì vậy, `my_list[1:3]` sẽ lấy các phần tử ở vị trí 1 và 2, nhưng không lấy phần tử ở vị trí 3.\n",
    "\n",
    "Chuỗi (`string`) trong Python, có thể được hiểu là một dãy các ký tự cũng hoạt động tương tự như `list` và `tuple`, và hoạt động tương tự khi sử dụng chỉ số và cắt lát."
   ]
  },
  {
   "cell_type": "code",
   "execution_count": 89,
   "metadata": {},
   "outputs": [],
   "source": [
    "alphabet = \"abcdefghijklmnopqrstuvwxyz\""
   ]
  },
  {
   "cell_type": "code",
   "execution_count": 90,
   "metadata": {},
   "outputs": [
    {
     "data": {
      "text/plain": [
       "'a'"
      ]
     },
     "execution_count": 90,
     "metadata": {},
     "output_type": "execute_result"
    }
   ],
   "source": [
    "alphabet[0]"
   ]
  },
  {
   "cell_type": "code",
   "execution_count": 91,
   "metadata": {},
   "outputs": [
    {
     "data": {
      "text/plain": [
       "'z'"
      ]
     },
     "execution_count": 91,
     "metadata": {},
     "output_type": "execute_result"
    }
   ],
   "source": [
    "alphabet[-1]"
   ]
  },
  {
   "cell_type": "code",
   "execution_count": 92,
   "metadata": {},
   "outputs": [
    {
     "data": {
      "text/plain": [
       "'x'"
      ]
     },
     "execution_count": 92,
     "metadata": {},
     "output_type": "execute_result"
    }
   ],
   "source": [
    "alphabet[-3]"
   ]
  },
  {
   "cell_type": "code",
   "execution_count": 93,
   "metadata": {},
   "outputs": [
    {
     "data": {
      "text/plain": [
       "'abcde'"
      ]
     },
     "execution_count": 93,
     "metadata": {},
     "output_type": "execute_result"
    }
   ],
   "source": [
    "alphabet[:5]"
   ]
  },
  {
   "cell_type": "code",
   "execution_count": 94,
   "metadata": {},
   "outputs": [
    {
     "data": {
      "text/plain": [
       "'mnopqrst'"
      ]
     },
     "execution_count": 94,
     "metadata": {},
     "output_type": "execute_result"
    }
   ],
   "source": [
    "alphabet[12:20]"
   ]
  },
  {
   "cell_type": "markdown",
   "metadata": {},
   "source": [
    "`list` là một đối tượng của Python và nó có các **phương thức** để tương tác với dữ liệu bên trong. Đây là sự khác biệt quan trọng của ngôn ngữ lập trình có hướng đối tượng như Python với các ngôn ngữ không hướng đối tượng.\n",
    "\n",
    "Có thể hiểu một phương thức giống như một hàm thực hiện một thao tác nào đó trên dữ liệu, nhưng khác với hàm thông thường ở chỗ **phương thức được định nghĩa trên chính đối tượng đó** và được gọi bằng cú pháp dấu chấm `.` ngay sau tên của đối tượng\n",
    "\n",
    "Ví dụ: `my_list.append(item)` sẽ thêm phần tử `item` vào cuối danh sách có tên `my_list`.\n",
    "\n",
    "Bạn có thể xem thêm tài liệu hướng dẫn về các [phương thức của list](https://docs.python.org/3/tutorial/datastructures.html#more-on-lists)."
   ]
  },
  {
   "cell_type": "code",
   "execution_count": 101,
   "metadata": {},
   "outputs": [
    {
     "data": {
      "text/plain": [
       "[2, 3, 5, 7, 11]"
      ]
     },
     "execution_count": 101,
     "metadata": {},
     "output_type": "execute_result"
    }
   ],
   "source": [
    "primes = [2, 3, 5, 7, 11]\n",
    "primes"
   ]
  },
  {
   "cell_type": "code",
   "execution_count": 102,
   "metadata": {},
   "outputs": [
    {
     "data": {
      "text/plain": [
       "5"
      ]
     },
     "execution_count": 102,
     "metadata": {},
     "output_type": "execute_result"
    }
   ],
   "source": [
    "len(primes)"
   ]
  },
  {
   "cell_type": "code",
   "execution_count": 103,
   "metadata": {},
   "outputs": [],
   "source": [
    "primes.append(13)"
   ]
  },
  {
   "cell_type": "code",
   "execution_count": 104,
   "metadata": {},
   "outputs": [
    {
     "data": {
      "text/plain": [
       "[2, 3, 5, 7, 11, 13]"
      ]
     },
     "execution_count": 104,
     "metadata": {},
     "output_type": "execute_result"
    }
   ],
   "source": [
    "primes"
   ]
  },
  {
   "cell_type": "markdown",
   "metadata": {},
   "source": [
    "### Tập hợp\n",
    "<hr>"
   ]
  },
  {
   "cell_type": "markdown",
   "metadata": {},
   "source": [
    "Một kiểu dữ liệu có sẵn khác trong Python là `set`, dùng để lưu trữ một danh sách các phần tử **không có thứ tự** và các phần tử trong tập hợp phải là **duy nhất**.\n",
    "\n",
    "Do không có thứ tự, `set` không lưu vị trí phần tử và vì vậy **không hỗ trợ indexing**. Nói cách khác, chúng ta không thể truy cập phần tử bằng chỉ số như `list` hay `tuple`. Tập hợp được khởi tạo bằng cách sử dụng dấu ngoặc nhọn `{}`"
   ]
  },
  {
   "cell_type": "code",
   "execution_count": 105,
   "metadata": {},
   "outputs": [
    {
     "data": {
      "text/plain": [
       "{2, 3, 5, 11}"
      ]
     },
     "execution_count": 105,
     "metadata": {},
     "output_type": "execute_result"
    }
   ],
   "source": [
    "s = {2, 3, 5, 11}\n",
    "s"
   ]
  },
  {
   "cell_type": "code",
   "execution_count": 106,
   "metadata": {},
   "outputs": [
    {
     "data": {
      "text/plain": [
       "True"
      ]
     },
     "execution_count": 106,
     "metadata": {},
     "output_type": "execute_result"
    }
   ],
   "source": [
    "{1, 2, 3} == {3, 2, 1}"
   ]
  },
  {
   "cell_type": "code",
   "execution_count": 107,
   "metadata": {},
   "outputs": [
    {
     "data": {
      "text/plain": [
       "False"
      ]
     },
     "execution_count": 107,
     "metadata": {},
     "output_type": "execute_result"
    }
   ],
   "source": [
    "[1, 2, 3] == [3, 2, 1]"
   ]
  },
  {
   "cell_type": "code",
   "execution_count": 108,
   "metadata": {},
   "outputs": [
    {
     "data": {
      "text/plain": [
       "{2, 3, 5, 11}"
      ]
     },
     "execution_count": 108,
     "metadata": {},
     "output_type": "execute_result"
    }
   ],
   "source": [
    "s.add(2)  # không làm gì cả\n",
    "s"
   ]
  },
  {
   "cell_type": "code",
   "execution_count": 109,
   "metadata": {
    "tags": [
     "raises-exception"
    ]
   },
   "outputs": [
    {
     "ename": "TypeError",
     "evalue": "'set' object is not subscriptable",
     "output_type": "error",
     "traceback": [
      "\u001b[0;31m---------------------------------------------------------------------------\u001b[0m",
      "\u001b[0;31mTypeError\u001b[0m                                 Traceback (most recent call last)",
      "\u001b[0;32m<ipython-input-109-c9c96910e542>\u001b[0m in \u001b[0;36m<module>\u001b[0;34m\u001b[0m\n\u001b[0;32m----> 1\u001b[0;31m \u001b[0ms\u001b[0m\u001b[0;34m[\u001b[0m\u001b[0;36m0\u001b[0m\u001b[0;34m]\u001b[0m\u001b[0;34m\u001b[0m\u001b[0;34m\u001b[0m\u001b[0m\n\u001b[0m",
      "\u001b[0;31mTypeError\u001b[0m: 'set' object is not subscriptable"
     ]
    }
   ],
   "source": [
    "s[0]"
   ]
  },
  {
   "cell_type": "markdown",
   "metadata": {},
   "source": [
    "Bạn đọc có thể thấy rằng Python sẽ báo lỗi nếu bạn cố gắng truy cập phần tử bằng chỉ số, vì `set` là tập hợp không có thứ tự."
   ]
  },
  {
   "cell_type": "code",
   "execution_count": null,
   "metadata": {},
   "outputs": [],
   "source": [
    "### Kiểu dữ liệu có thể thay đổi và không thể thay đổi\n",
    "<hr>"
   ]
  },
  {
   "cell_type": "markdown",
   "metadata": {},
   "source": [
    "`String` và `tuple` là các kiểu dữ liệu **không thể thay đổi**, hay immutable, trong Python, Nói cách khác, một khi đã được tạo ra, chúng không thể bị sửa đổi.\n",
    "\n",
    "Ngược lại, `list` là kiểu dữ liệu **có thể thay đổi**, hay *mutable*, vì vậy chúng ta có thể gán lại giá trị mới cho các phần tử trong `list`.\n",
    "\n",
    "Đây chính là sự khác biệt quan trọng nhất giữa `list` và `tuple`."
   ]
  },
  {
   "cell_type": "code",
   "execution_count": 24,
   "metadata": {},
   "outputs": [
    {
     "data": {
      "text/plain": [
       "['Nam Định', 'Hà Nam', 'Ninh Bình']"
      ]
     },
     "execution_count": 24,
     "metadata": {},
     "output_type": "execute_result"
    }
   ],
   "source": [
    "names_list = [\"Nam Định\", \"Hà Nam\", \"Ninh Bình\"]\n",
    "names_list"
   ]
  },
  {
   "cell_type": "code",
   "execution_count": 25,
   "metadata": {},
   "outputs": [
    {
     "data": {
      "text/plain": [
       "['Thiên Trường', 'Hà Nam', 'Ninh Bình']"
      ]
     },
     "execution_count": 25,
     "metadata": {},
     "output_type": "execute_result"
    }
   ],
   "source": [
    "names_list[0] = \"Thiên Trường\"\n",
    "names_list"
   ]
  },
  {
   "cell_type": "code",
   "execution_count": 26,
   "metadata": {},
   "outputs": [
    {
     "data": {
      "text/plain": [
       "('Nam Định', 'Hà Nam', 'Ninh Bình')"
      ]
     },
     "execution_count": 26,
     "metadata": {},
     "output_type": "execute_result"
    }
   ],
   "source": [
    "names_tuple = (\"Nam Định\", \"Hà Nam\", \"Ninh Bình\")\n",
    "names_tuple"
   ]
  },
  {
   "cell_type": "code",
   "execution_count": 113,
   "metadata": {
    "tags": [
     "raises-exception"
    ]
   },
   "outputs": [
    {
     "ename": "TypeError",
     "evalue": "'tuple' object does not support item assignment",
     "output_type": "error",
     "traceback": [
      "\u001b[0;31m---------------------------------------------------------------------------\u001b[0m",
      "\u001b[0;31mTypeError\u001b[0m                                 Traceback (most recent call last)",
      "\u001b[0;32m<ipython-input-113-bd6a1b77b220>\u001b[0m in \u001b[0;36m<module>\u001b[0;34m\u001b[0m\n\u001b[0;32m----> 1\u001b[0;31m \u001b[0mnames_tuple\u001b[0m\u001b[0;34m[\u001b[0m\u001b[0;36m0\u001b[0m\u001b[0;34m]\u001b[0m \u001b[0;34m=\u001b[0m \u001b[0;34m\"Not cool guy\"\u001b[0m\u001b[0;34m\u001b[0m\u001b[0;34m\u001b[0m\u001b[0m\n\u001b[0m",
      "\u001b[0;31mTypeError\u001b[0m: 'tuple' object does not support item assignment"
     ]
    }
   ],
   "source": [
    "names_tuple[0] = \"Thiên Trường\""
   ]
  },
  {
   "cell_type": "markdown",
   "metadata": {},
   "source": [
    "`string` cũng tương tự như `tuple` là một đối tượng bất biến, nghĩa là một khi đã được định nghĩa thì không thể thay đổi các ký tự bên trong. Điều này có nghĩa là chúng ta không thể gán lại giá trị cho một vị trí cụ thể trong chuỗi sau khi nó đã được tạo ra."
   ]
  },
  {
   "cell_type": "code",
   "execution_count": 27,
   "metadata": {},
   "outputs": [],
   "source": [
    "my_name = \"Trường Công nghệ\""
   ]
  },
  {
   "cell_type": "code",
   "execution_count": 28,
   "metadata": {
    "tags": [
     "raises-exception"
    ]
   },
   "outputs": [
    {
     "ename": "TypeError",
     "evalue": "'str' object does not support item assignment",
     "output_type": "error",
     "traceback": [
      "\u001b[31m---------------------------------------------------------------------------\u001b[39m",
      "\u001b[31mTypeError\u001b[39m                                 Traceback (most recent call last)",
      "\u001b[36mCell\u001b[39m\u001b[36m \u001b[39m\u001b[32mIn[28]\u001b[39m\u001b[32m, line 1\u001b[39m\n\u001b[32m----> \u001b[39m\u001b[32m1\u001b[39m \u001b[43mmy_name\u001b[49m\u001b[43m[\u001b[49m\u001b[32;43m1\u001b[39;49m\u001b[43m]\u001b[49m = \u001b[33m\"\u001b[39m\u001b[33mt\u001b[39m\u001b[33m\"\u001b[39m\n",
      "\u001b[31mTypeError\u001b[39m: 'str' object does not support item assignment"
     ]
    }
   ],
   "source": [
    "my_name[1] = \"t\""
   ]
  },
  {
   "cell_type": "code",
   "execution_count": 116,
   "metadata": {},
   "outputs": [],
   "source": [
    "x = ([1, 2, 3], 5)"
   ]
  },
  {
   "cell_type": "code",
   "execution_count": 117,
   "metadata": {
    "tags": [
     "raises-exception"
    ]
   },
   "outputs": [
    {
     "ename": "TypeError",
     "evalue": "'tuple' object does not support item assignment",
     "output_type": "error",
     "traceback": [
      "\u001b[0;31m---------------------------------------------------------------------------\u001b[0m",
      "\u001b[0;31mTypeError\u001b[0m                                 Traceback (most recent call last)",
      "\u001b[0;32m<ipython-input-117-415ce6bd0126>\u001b[0m in \u001b[0;36m<module>\u001b[0;34m\u001b[0m\n\u001b[0;32m----> 1\u001b[0;31m \u001b[0mx\u001b[0m\u001b[0;34m[\u001b[0m\u001b[0;36m1\u001b[0m\u001b[0;34m]\u001b[0m \u001b[0;34m=\u001b[0m \u001b[0;36m7\u001b[0m\u001b[0;34m\u001b[0m\u001b[0;34m\u001b[0m\u001b[0m\n\u001b[0m",
      "\u001b[0;31mTypeError\u001b[0m: 'tuple' object does not support item assignment"
     ]
    }
   ],
   "source": [
    "x[1] = 7"
   ]
  },
  {
   "cell_type": "code",
   "execution_count": 118,
   "metadata": {},
   "outputs": [
    {
     "data": {
      "text/plain": [
       "([1, 2, 3], 5)"
      ]
     },
     "execution_count": 118,
     "metadata": {},
     "output_type": "execute_result"
    }
   ],
   "source": [
    "x"
   ]
  },
  {
   "cell_type": "code",
   "execution_count": 116,
   "metadata": {},
   "outputs": [],
   "source": [
    "x[0][1] = 4"
   ]
  },
  {
   "cell_type": "code",
   "execution_count": 117,
   "metadata": {},
   "outputs": [
    {
     "data": {
      "text/plain": [
       "([1, 4, 3], 5)"
      ]
     },
     "execution_count": 117,
     "metadata": {},
     "output_type": "execute_result"
    }
   ],
   "source": [
    "x"
   ]
  },
  {
   "cell_type": "markdown",
   "metadata": {},
   "source": [
    "## Phương thức chuỗi, từ điển và cấu trúc điều kiện\n",
    "<hr>"
   ]
  },
  {
   "cell_type": "markdown",
   "metadata": {},
   "source": [
    "### Các phương thức của chuỗi\n",
    "<hr>"
   ]
  },
  {
   "cell_type": "markdown",
   "metadata": {},
   "source": [
    "Trong Python, chuỗi ký tự là một kiểu dữ liệu đối tượng và có nhiều **phương thức tích hợp sẵn** để thao tác với dữ liệu văn bản. Các phương thức này được gọi bằng cú pháp dấu chấm, ví dụ: `my_string.method_name()`.\n",
    "\n",
    "Dưới đây là một số phương thức thường dùng trên chuỗi ký tự:\n",
    "\n",
    "| Phương thức        | Mô tả                                                        | Ví dụ                          |\n",
    "|--------------------|--------------------------------------------------------------|--------------------------------|\n",
    "| `lower()`          | Chuyển tất cả ký tự thành chữ thường                         | `\"Hello\".lower()` → `'hello'` |\n",
    "| `upper()`          | Chuyển tất cả ký tự thành chữ hoa                            | `\"abc\".upper()` → `'ABC'`     |\n",
    "| `strip()`          | Loại bỏ khoảng trắng đầu và cuối chuỗi                      | `\" hello \".strip()` → `'hello'`|\n",
    "| `replace(a, b)`    | Thay tất cả `a` bằng `b`                                     | `\"cat\".replace(\"c\", \"b\")` → `'bat'` |\n",
    "| `split()`          | Tách chuỗi thành danh sách dựa trên khoảng trắng (hoặc ký tự cho trước) | `\"a b c\".split()` → `['a', 'b', 'c']` |\n",
    "| `join(list)`       | Ghép danh sách chuỗi thành một chuỗi, dùng ký tự nối         | `\" \".join(['a', 'b'])` → `'a b'` |\n",
    "| `find(sub)`        | Trả về vị trí đầu tiên của chuỗi con `sub` (nếu có)          | `\"hello\".find(\"e\")` → `1`      |\n",
    "\n",
    "> 📘 Xem thêm tài liệu về các phương thức chuỗi tại: [Python String Methods](https://docs.python.org/3/library/stdtypes.html#string-methods)"
   ]
  },
  {
   "cell_type": "markdown",
   "metadata": {},
   "source": [
    "Dưới đây là một số ví dụ sử dụng phương thức chuỗi:"
   ]
  },
  {
   "cell_type": "code",
   "execution_count": 29,
   "metadata": {},
   "outputs": [
    {
     "data": {
      "text/plain": [
       "'XIN CHÀO NEUTECH?'"
      ]
     },
     "execution_count": 29,
     "metadata": {},
     "output_type": "execute_result"
    }
   ],
   "source": [
    "all_caps = \"XIN CHÀO NEUTECH?\"\n",
    "all_caps"
   ]
  },
  {
   "cell_type": "code",
   "execution_count": 30,
   "metadata": {},
   "outputs": [
    {
     "data": {
      "text/plain": [
       "'xin chào neutech?'"
      ]
     },
     "execution_count": 30,
     "metadata": {},
     "output_type": "execute_result"
    }
   ],
   "source": [
    "new_str = all_caps.lower()\n",
    "new_str"
   ]
  },
  {
   "cell_type": "markdown",
   "metadata": {},
   "source": [
    "Lưu ý rằng phương thức `lower()` không thay đổi chuỗi ban đầu, mà thay vào đó **trả về một chuỗi mới** với các ký tự đã được chuyển thành chữ thường. Nhắc lại rằng chuỗi trong Python là kiểu **bất biến**, vì vậy mọi thao tác biến đổi đều tạo ra một đối tượng chuỗi mới."
   ]
  },
  {
   "cell_type": "code",
   "execution_count": 31,
   "metadata": {},
   "outputs": [
    {
     "data": {
      "text/plain": [
       "'XIN CHÀO NEUTECH?'"
      ]
     },
     "execution_count": 31,
     "metadata": {},
     "output_type": "execute_result"
    }
   ],
   "source": [
    "all_caps"
   ]
  },
  {
   "cell_type": "code",
   "execution_count": 32,
   "metadata": {},
   "outputs": [
    {
     "data": {
      "text/plain": [
       "['XIN', 'CHÀO', 'NEUTECH?']"
      ]
     },
     "execution_count": 32,
     "metadata": {},
     "output_type": "execute_result"
    }
   ],
   "source": [
    "all_caps.split()"
   ]
  },
  {
   "cell_type": "code",
   "execution_count": 33,
   "metadata": {},
   "outputs": [
    {
     "data": {
      "text/plain": [
       "1"
      ]
     },
     "execution_count": 33,
     "metadata": {},
     "output_type": "execute_result"
    }
   ],
   "source": [
    "all_caps.count(\"O\")"
   ]
  },
  {
   "cell_type": "markdown",
   "metadata": {},
   "source": [
    "Chúng ta cũng có thể **kết hợp nhiều phương thức với nhau**, còn gọi là *method chaining*. Điều này cho phép thực hiện nhiều thao tác liên tiếp trên một đối tượng. Chúng ta sẽ còn gặp lại khái niệm này nhiều hơn khi học về thư viện NumPy và Pandas ở các chương sau."
   ]
  },
  {
   "cell_type": "markdown",
   "metadata": {},
   "source": [
    "Python cung cấp nhiều cách để tạo chuỗi bằng cách **điền vào chỗ trống** và định dạng chúng một cách gọn gàng. Điều này rất hữu ích khi bạn muốn tạo các chuỗi có chứa biến hoặc kết quả tính toán từ các bước trước đó.\n",
    "\n",
    "Có một số cách thực hiện việc này, nhưng phương pháp được khuyến nghị sử dụng là **f-strings**. Với f-strings, bạn đọc chỉ cần thêm chữ cái `f` ở đầu chuỗi, và chèn biến trực tiếp vào trong **ngoặc nhọn `{}`**. Hãy quan sát ví dụ sau:"
   ]
  },
  {
   "cell_type": "code",
   "execution_count": 35,
   "metadata": {},
   "outputs": [
    {
     "data": {
      "text/plain": [
       "'Xin chào, tôi là NeuTech. Tôi 1.33 tuổi. Tôi sinh ngày 16/12/2023.'"
      ]
     },
     "execution_count": 35,
     "metadata": {},
     "output_type": "execute_result"
    }
   ],
   "source": [
    "name = \"NeuTech\"\n",
    "age = 16/12\n",
    "day = 16\n",
    "month = 12\n",
    "year = 2023\n",
    "template_new = f\"Xin chào, tôi là {name}. Tôi {age:.2f} tuổi. Tôi sinh ngày {day}/{month:02}/{year}.\"\n",
    "template_new"
   ]
  },
  {
   "cell_type": "markdown",
   "metadata": {},
   "source": [
    "```{note}\n",
    "Trong đoạn code trên, ký hiệu sau dấu hai chấm bên trong dấu ngoặc nhọn `{}` là dùng để định dạng. \n",
    "Ví dụ, `:.2f` nghĩa là: in biến này với **2 chữ số thập phân**.\n",
    "\n",
    "Bạn có thể xem thêm các tùy chọn định dạng chuỗi tại [đây](https://docs.python.org/3.4/library/string.html#format-specification-mini-language)"
   ]
  },
  {
   "cell_type": "markdown",
   "metadata": {},
   "source": [
    "### Từ điển\n",
    "<hr>"
   ]
  },
  {
   "cell_type": "markdown",
   "metadata": {},
   "source": [
    "Một từ điển, hay **dictionary**, là một cấu trúc ánh xạ giữa các **cặp khóa–giá trị** và được định nghĩa bằng dấu ngoặc nhọn `{}`, và được khai báo như sau:"
   ]
  },
  {
   "cell_type": "code",
   "execution_count": 36,
   "metadata": {},
   "outputs": [],
   "source": [
    "house = {\n",
    "    \"Phòng ngủ\": 5,\n",
    "    \"Phòng vệ sinh\": 5,\n",
    "    \"Thành phố\": \"Hà Nội\",\n",
    "    \"Giá\": \"15 tỷ\",\n",
    "    \"Ngày bán\": (1, 3, 2025),\n",
    "}\n",
    "\n",
    "condo = {\n",
    "    \"Phòng ngủ\": 3,\n",
    "    \"Phòng vệ sinh\": 2,\n",
    "    \"Thành phố\": \"Hồ Chí Minh\",\n",
    "    \"Giá\": \"5 tỷ\",\n",
    "    \"Ngày bán\": (1, 5, 2025),\n",
    "}"
   ]
  },
  {
   "cell_type": "markdown",
   "metadata": {},
   "source": [
    "Chúng ta có thể truy cập một trường cụ thể trong `dictionary` bằng cách sử dụng **dấu ngoặc vuông `[]`**, với **tên khóa** bên trong."
   ]
  },
  {
   "cell_type": "code",
   "execution_count": 38,
   "metadata": {},
   "outputs": [
    {
     "data": {
      "text/plain": [
       "'15 tỷ'"
      ]
     },
     "execution_count": 38,
     "metadata": {},
     "output_type": "execute_result"
    }
   ],
   "source": [
    "house[\"Giá\"]"
   ]
  },
  {
   "cell_type": "code",
   "execution_count": 39,
   "metadata": {},
   "outputs": [
    {
     "data": {
      "text/plain": [
       "'Hồ Chí Minh'"
      ]
     },
     "execution_count": 39,
     "metadata": {},
     "output_type": "execute_result"
    }
   ],
   "source": [
    "condo[\"Thành phố\"]"
   ]
  },
  {
   "cell_type": "markdown",
   "metadata": {},
   "source": [
    "Chúng ta cũng có thể chỉnh sửa từ điển vì đây là kiểu dữ liệu **có thể thay đổi**."
   ]
  },
  {
   "cell_type": "code",
   "execution_count": 40,
   "metadata": {},
   "outputs": [
    {
     "data": {
      "text/plain": [
       "{'Phòng ngủ': 3,\n",
       " 'Phòng vệ sinh': 2,\n",
       " 'Thành phố': 'Hồ Chí Minh',\n",
       " 'Giá': '6 tỷ',\n",
       " 'Ngày bán': (1, 5, 2025)}"
      ]
     },
     "execution_count": 40,
     "metadata": {},
     "output_type": "execute_result"
    }
   ],
   "source": [
    "condo[\"Giá\"] = \"6 tỷ\"  # price already in the dict\n",
    "condo"
   ]
  },
  {
   "cell_type": "code",
   "execution_count": 41,
   "metadata": {},
   "outputs": [],
   "source": [
    "condo[\"Sàn nhà\"] = \"Lát gỗ\"\n",
    "house[\"Sàn nhà\"] = \"Gạch\""
   ]
  },
  {
   "cell_type": "code",
   "execution_count": 42,
   "metadata": {},
   "outputs": [
    {
     "data": {
      "text/plain": [
       "{'Phòng ngủ': 3,\n",
       " 'Phòng vệ sinh': 2,\n",
       " 'Thành phố': 'Hồ Chí Minh',\n",
       " 'Giá': '6 tỷ',\n",
       " 'Ngày bán': (1, 5, 2025),\n",
       " 'Sàn nhà': 'Lát gỗ'}"
      ]
     },
     "execution_count": 42,
     "metadata": {},
     "output_type": "execute_result"
    }
   ],
   "source": [
    "condo"
   ]
  },
  {
   "cell_type": "markdown",
   "metadata": {},
   "source": [
    "Hoặc chúng ta cũng có thể sử dụng chỉ số để thêm thông tin vào trong từ điển"
   ]
  },
  {
   "cell_type": "code",
   "execution_count": 140,
   "metadata": {},
   "outputs": [],
   "source": [
    "condo[5] = 123"
   ]
  },
  {
   "cell_type": "code",
   "execution_count": 141,
   "metadata": {},
   "outputs": [
    {
     "data": {
      "text/plain": [
       "{'bedrooms': 2,\n",
       " 'bathrooms': 1,\n",
       " 'price': 5,\n",
       " 'date_sold': (27, 8, 2011),\n",
       " 'flooring': 'wood',\n",
       " 5: 443345}"
      ]
     },
     "execution_count": 141,
     "metadata": {},
     "output_type": "execute_result"
    }
   ],
   "source": [
    "condo"
   ]
  },
  {
   "cell_type": "markdown",
   "metadata": {},
   "source": [
    "Khóa (`keys`) trong từ điển có thể là bất kỳ kiểu dữ liệu bất biến nào, thậm chí là một `tuple`!"
   ]
  },
  {
   "cell_type": "code",
   "execution_count": 43,
   "metadata": {},
   "outputs": [
    {
     "data": {
      "text/plain": [
       "{'Phòng ngủ': 5,\n",
       " 'Phòng vệ sinh': 5,\n",
       " 'Thành phố': 'Hà Nội',\n",
       " 'Giá': '15 tỷ',\n",
       " 'Ngày bán': (1, 3, 2025),\n",
       " 'Sàn nhà': 'Gạch',\n",
       " ('Tầng 1', 'Tầng 2', 'Tầng 3'): (100, 80, 80)}"
      ]
     },
     "execution_count": 43,
     "metadata": {},
     "output_type": "execute_result"
    }
   ],
   "source": [
    "house[(\"Tầng 1\", \"Tầng 2\", \"Tầng 3\")] = (100, 80, 80)\n",
    "house"
   ]
  },
  {
   "cell_type": "markdown",
   "metadata": {},
   "source": [
    "Python sẽ báo lỗi nếu chúng ta cố gắng truy cập vào một key không tồn tại"
   ]
  },
  {
   "cell_type": "code",
   "execution_count": 44,
   "metadata": {
    "tags": [
     "raises-exception"
    ]
   },
   "outputs": [
    {
     "ename": "KeyError",
     "evalue": "'Tầng 1'",
     "output_type": "error",
     "traceback": [
      "\u001b[31m---------------------------------------------------------------------------\u001b[39m",
      "\u001b[31mKeyError\u001b[39m                                  Traceback (most recent call last)",
      "\u001b[36mCell\u001b[39m\u001b[36m \u001b[39m\u001b[32mIn[44]\u001b[39m\u001b[32m, line 1\u001b[39m\n\u001b[32m----> \u001b[39m\u001b[32m1\u001b[39m \u001b[43mhouse\u001b[49m\u001b[43m[\u001b[49m\u001b[33;43m\"\u001b[39;49m\u001b[33;43mTầng 1\u001b[39;49m\u001b[33;43m\"\u001b[39;49m\u001b[43m]\u001b[49m\n",
      "\u001b[31mKeyError\u001b[39m: 'Tầng 1'"
     ]
    }
   ],
   "source": [
    "house[\"Tầng 1\"]"
   ]
  },
  {
   "cell_type": "markdown",
   "metadata": {},
   "source": [
    "### Đối tượng rỗng"
   ]
  },
  {
   "cell_type": "markdown",
   "metadata": {},
   "source": [
    "Đôi khi chúng ta có thể cần tạo ra các đối tượng rỗng để sau đó điền giá trị vào. Cách tạo ra đối tượng rỗng của một số kiểu dữ liệu như sau"
   ]
  },
  {
   "cell_type": "code",
   "execution_count": 144,
   "metadata": {},
   "outputs": [
    {
     "data": {
      "text/plain": [
       "[]"
      ]
     },
     "execution_count": 144,
     "metadata": {},
     "output_type": "execute_result"
    }
   ],
   "source": [
    "lst = list()  # một list trống\n",
    "lst"
   ]
  },
  {
   "cell_type": "code",
   "execution_count": 145,
   "metadata": {},
   "outputs": [
    {
     "data": {
      "text/plain": [
       "[]"
      ]
     },
     "execution_count": 145,
     "metadata": {},
     "output_type": "execute_result"
    }
   ],
   "source": [
    "lst = []  # cho kết quả tương tự\n",
    "lst"
   ]
  },
  {
   "cell_type": "markdown",
   "metadata": {},
   "source": [
    "Không có sự khác biệt thực sự giữa hai cách khởi tạo danh sách ở trên. Tuy nhiên, cú pháp `[]` được cho là **nhanh hơn một chút** so với `list()` trong một số trường hợp nhất định. Để tạo một `tuple`, hay từ điển rỗng, chúng ta khai báo tương tự"
   ]
  },
  {
   "cell_type": "code",
   "execution_count": 146,
   "metadata": {},
   "outputs": [
    {
     "data": {
      "text/plain": [
       "()"
      ]
     },
     "execution_count": 146,
     "metadata": {},
     "output_type": "execute_result"
    }
   ],
   "source": [
    "tup = tuple()  # empty tuple\n",
    "tup"
   ]
  },
  {
   "cell_type": "code",
   "execution_count": 147,
   "metadata": {},
   "outputs": [
    {
     "data": {
      "text/plain": [
       "()"
      ]
     },
     "execution_count": 147,
     "metadata": {},
     "output_type": "execute_result"
    }
   ],
   "source": [
    "tup = ()  # empty tuple\n",
    "tup"
   ]
  },
  {
   "cell_type": "code",
   "execution_count": 148,
   "metadata": {},
   "outputs": [
    {
     "data": {
      "text/plain": [
       "{}"
      ]
     },
     "execution_count": 148,
     "metadata": {},
     "output_type": "execute_result"
    }
   ],
   "source": [
    "dic = dict()  # empty dict\n",
    "dic"
   ]
  },
  {
   "cell_type": "code",
   "execution_count": 149,
   "metadata": {},
   "outputs": [
    {
     "data": {
      "text/plain": [
       "{}"
      ]
     },
     "execution_count": 149,
     "metadata": {},
     "output_type": "execute_result"
    }
   ],
   "source": [
    "dic = {}  # empty dict\n",
    "dic"
   ]
  },
  {
   "cell_type": "code",
   "execution_count": 150,
   "metadata": {},
   "outputs": [
    {
     "data": {
      "text/plain": [
       "set()"
      ]
     },
     "execution_count": 150,
     "metadata": {},
     "output_type": "execute_result"
    }
   ],
   "source": [
    "st = set()  # empty set\n",
    "st"
   ]
  },
  {
   "cell_type": "markdown",
   "metadata": {},
   "source": [
    "## Câu lệnh điều kiện\n",
    "<hr>"
   ]
  },
  {
   "cell_type": "markdown",
   "metadata": {},
   "source": [
    "[**Câu lệnh điều kiện**](https://docs.python.org/3/tutorial/controlflow.html) cho phép chúng ta viết các chương trình mà trong đó chỉ những khối câu lệnh nhất định được thực thi, tùy thuộc vào trạng thái hiện tại của chương trình.\n",
    "\n",
    "Hãy cùng xem một số ví dụ và chú ý đến các **từ khóa**, **cú pháp**, và **cách thụt đầu dòng (indentation)** – một phần rất quan trọng trong Python để xác định phạm vi của các khối câu lệnh."
   ]
  },
  {
   "cell_type": "code",
   "execution_count": 151,
   "metadata": {},
   "outputs": [
    {
     "name": "stdout",
     "output_type": "stream",
     "text": [
      "That's my name too!\n",
      "Nice to meet you!\n"
     ]
    }
   ],
   "source": [
    "name = \"NeuTech\"\n",
    "\n",
    "if name.lower() == \"neutech\":\n",
    "    print(\"That's my name too!\")\n",
    "elif name.lower() == \"santa\":\n",
    "    print(\"That's a funny name.\")\n",
    "else:\n",
    "    print(f\"Hello {name}! That's a cool name!\")\n",
    "print(\"Nice to meet you!\")"
   ]
  },
  {
   "cell_type": "markdown",
   "metadata": {},
   "source": [
    "Những điểm cần lưu ý:\n",
    "\n",
    "- Sử dụng các từ khóa `if`, `elif` và `else` để viết các câu lệnh điều kiện.\n",
    "- Dấu hai chấm `:` kết thúc mỗi biểu thức điều kiện.\n",
    "- Thụt đầu dòng: mặc định 4 dấu cách được sử dụng để xác định khối lệnh thuộc về điều kiện.\n",
    "- Trong một câu lệnh `if`, khối câu lệnh đầu tiên có điều kiện trả về `True` sẽ được thực thi, và chương trình sẽ thoát khỏi toàn bộ cấu trúc `if`.\n",
    "- Câu lệnh `if` không bắt buộc phải có `elif` hay `else`.\n",
    "- `elif` cho phép kiểm tra thêm nhiều điều kiện khác nhau.\n",
    "- `else` cho phép thực hiện một khối mặc định nếu tất cả các điều kiện khác đều sai.\n",
    "- Phần kết thúc của toàn bộ cấu trúc `if`** là nơi thụt đầu dòng cùng mức với từ khóa `if` ban đầu."
   ]
  },
  {
   "cell_type": "markdown",
   "metadata": {},
   "source": [
    "Trong các đoạn lệnh phức tạp, câu lệnh điều kiện có thể nằm trong một câu lệnh điều kiện khác:"
   ]
  },
  {
   "cell_type": "code",
   "execution_count": 45,
   "metadata": {},
   "outputs": [
    {
     "name": "stdout",
     "output_type": "stream",
     "text": [
      "Hello Super NeuTech! That's a cool name.\n",
      "Do you really have superpowers?\n",
      "Nice to meet you!\n"
     ]
    }
   ],
   "source": [
    "name = \"Super NeuTech\"\n",
    "\n",
    "if name.lower() == \"neutech\":\n",
    "    print(\"That's my name too!\")\n",
    "elif name.lower() == \"santa\":\n",
    "    print(\"That's a funny name.\")\n",
    "else:\n",
    "    print(f\"Hello {name}! That's a cool name.\")\n",
    "    if name.lower().startswith(\"super\"):\n",
    "        print(\"Do you really have superpowers?\")\n",
    "\n",
    "print(\"Nice to meet you!\")"
   ]
  },
  {
   "cell_type": "markdown",
   "metadata": {},
   "source": [
    "Chúng ta có thể viết các câu lệnh `if` đơn giản trên một dòng để tăng tính ngắn gọn và đơn giản của code."
   ]
  },
  {
   "cell_type": "code",
   "execution_count": 153,
   "metadata": {
    "collapsed": false,
    "jupyter": {
     "outputs_hidden": false
    }
   },
   "outputs": [
    {
     "data": {
      "text/plain": [
       "'short list'"
      ]
     },
     "execution_count": 153,
     "metadata": {},
     "output_type": "execute_result"
    }
   ],
   "source": [
    "words = [\"the\", \"list\", \"of\", \"words\"]\n",
    "\n",
    "x = \"long list\" if len(words) > 10 else \"short list\"\n",
    "x"
   ]
  },
  {
   "cell_type": "code",
   "execution_count": 154,
   "metadata": {},
   "outputs": [],
   "source": [
    "if len(words) > 10:\n",
    "    x = \"long list\"\n",
    "else:\n",
    "    x = \"short list\""
   ]
  },
  {
   "cell_type": "code",
   "execution_count": 155,
   "metadata": {},
   "outputs": [
    {
     "data": {
      "text/plain": [
       "'short list'"
      ]
     },
     "execution_count": 155,
     "metadata": {},
     "output_type": "execute_result"
    }
   ],
   "source": [
    "x"
   ]
  },
  {
   "cell_type": "markdown",
   "metadata": {},
   "source": [
    "Trong Python, **mọi đối tượng** đều có thể được kiểm tra tính \"đúng\" hay \"sai\" để sử dụng trong các câu lệnh điều kiện như `if`.\n",
    "\n",
    "- **Giá trị `True`**: Mặc định, tất cả các đối tượng đều được coi là `True`, **trừ khi** chúng là đối tượng `bool` với giá trị `False`, hoặc có độ dài `len()` bằng 0.\n",
    "- **Giá trị `False`**: bao gồm các giá trị đặc biệt sau:\n",
    "  - `None`\n",
    "  - `False`\n",
    "  - Số 0\n",
    "  - Các chuỗi và cấu trúc dữ liệu rỗng: `''`, `()`, `[]`, `{}`, `set()`\n",
    "\n",
    "```{tip}\n",
    "Xem chi tiết thêm tại [tài liệu chính thức của Python](https://docs.python.org/3/library/stdtypes.html#truth-value-testing)."
   ]
  },
  {
   "cell_type": "code",
   "execution_count": 48,
   "metadata": {},
   "outputs": [
    {
     "name": "stdout",
     "output_type": "stream",
     "text": [
      "Tôi là True!\n"
     ]
    }
   ],
   "source": [
    "x = 'a'\n",
    "\n",
    "if x:\n",
    "    print(\"Tôi là True!\")\n",
    "else:\n",
    "    print(\"Tôi là False!\")"
   ]
  },
  {
   "cell_type": "code",
   "execution_count": 52,
   "metadata": {},
   "outputs": [
    {
     "name": "stdout",
     "output_type": "stream",
     "text": [
      "Tôi là False!\n"
     ]
    }
   ],
   "source": [
    "x = 0.0\n",
    "\n",
    "if x:\n",
    "    print(\"Tôi là True!\")\n",
    "else:\n",
    "    print(\"Tôi là False!\")"
   ]
  },
  {
   "cell_type": "code",
   "execution_count": 53,
   "metadata": {},
   "outputs": [
    {
     "name": "stdout",
     "output_type": "stream",
     "text": [
      "Tôi là False!\n"
     ]
    }
   ],
   "source": [
    "x = []\n",
    "\n",
    "if x:\n",
    "    print(\"Tôi là True!\")\n",
    "else:\n",
    "    print(\"Tôi là False!\")"
   ]
  },
  {
   "cell_type": "markdown",
   "metadata": {},
   "source": [
    "## Viết vòng lặp\n",
    "<hr>"
   ]
  },
  {
   "cell_type": "markdown",
   "metadata": {},
   "source": [
    "### Vòng lặp `for`\n",
    "<hr>"
   ]
  },
  {
   "cell_type": "markdown",
   "metadata": {},
   "source": [
    "Vòng lặp `for` trong Python được sử dụng để thực thi một đoạn code lặp lại nhiều lần, với số lần lặp được xác định rõ ràng, thường dựa trên một dãy số, một chuỗi, một danh sách hoặc một đối tượng có thể lặp. Đây là một cấu trúc điều khiển quan trọng giúp tự động hóa các thao tác lặp lại thay vì viết thủ công nhiều lần."
   ]
  },
  {
   "cell_type": "code",
   "execution_count": 54,
   "metadata": {},
   "outputs": [
    {
     "name": "stdout",
     "output_type": "stream",
     "text": [
      "Số được chọn là 1 và bình phương của nó là 1\n",
      "Số được chọn là 3 và bình phương của nó là 9\n",
      "Số được chọn là -1 và bình phương của nó là 1\n",
      "Số được chọn là 5 và bình phương của nó là 25\n",
      "Kết thúc vòng lặp\n"
     ]
    }
   ],
   "source": [
    "for n in [1, 3, -1, 5]:\n",
    "    print(f\"Số được chọn là {n} và bình phương của nó là {n**2}\")\n",
    "print(\"Kết thúc vòng lặp\")"
   ]
  },
  {
   "cell_type": "markdown",
   "metadata": {},
   "source": [
    "Khi viết vòng lặp `for` cần lưu ý:\n",
    "- Từ khóa `for` bắt đầu vòng lặp, và dấu hai chấm `:` kết thúc dòng khai báo đầu tiên.\n",
    "- Khối lệnh thụt đầu dòng sẽ được thực thi cho mỗi giá trị trong đối tượng lặp (*iterable*).\n",
    "- Vòng lặp sẽ kết thúc sau khi biến lặp (ví dụ: `n`) lần lượt nhận tất cả các giá trị trong dãy.\n",
    "- Có thể lặp qua bất kỳ đối tượng nào là **iterable**, bao gồm: `list`, `tuple`, `range`, `set`, `string`.\n",
    "- Một **iterable** là bất kỳ đối tượng nào chứa một tập hợp giá trị có thể lặp tuần tự."
   ]
  },
  {
   "cell_type": "code",
   "execution_count": 56,
   "metadata": {},
   "outputs": [
    {
     "name": "stdout",
     "output_type": "stream",
     "text": [
      "Chữ cái hiện tại là: T\n",
      "Chữ cái hiện tại là: r\n",
      "Chữ cái hiện tại là: ư\n",
      "Chữ cái hiện tại là: ờ\n",
      "Chữ cái hiện tại là: n\n",
      "Chữ cái hiện tại là: g\n",
      "Chữ cái hiện tại là:  \n",
      "Chữ cái hiện tại là: C\n",
      "Chữ cái hiện tại là: ô\n",
      "Chữ cái hiện tại là: n\n",
      "Chữ cái hiện tại là: g\n",
      "Chữ cái hiện tại là:  \n",
      "Chữ cái hiện tại là: n\n",
      "Chữ cái hiện tại là: g\n",
      "Chữ cái hiện tại là: h\n",
      "Chữ cái hiện tại là: ệ\n",
      "Tên đầy đủ là Trường Công nghệ!\n"
     ]
    }
   ],
   "source": [
    "word = \"Trường Công nghệ\"\n",
    "for letter in word:\n",
    "    print(\"Ký tự hiện tại là: \" + letter)\n",
    "\n",
    "print(f\"Tên đầy đủ là {word}!\")"
   ]
  },
  {
   "cell_type": "markdown",
   "metadata": {},
   "source": [
    "Một đối tượng lặp rất phổ biến trong Python là sử dụng vòng lặp `for` kết hợp với hàm `range()`. Hàm `range()` tạo ra một dãy số nguyên tuần tự, bắt đầu từ một giá trị và kết thúc **không bao gồm** giá trị cuối cùng được chỉ định. Cách sử dụng này đặc biệt hữu ích khi bạn cần lặp lại một hành động một số lần cụ thể, chẳng hạn như:"
   ]
  },
  {
   "cell_type": "code",
   "execution_count": null,
   "metadata": {},
   "outputs": [],
   "source": [
    "for i in range(10):\n",
    "    print(i)"
   ]
  },
  {
   "cell_type": "markdown",
   "metadata": {},
   "source": [
    "Hàm `range()` còn có thể tạo ra một dãy các giá trị của một cấp số cộng hoặc trừ, bắt đầu từ một số, kết thúc ở 1 số khác."
   ]
  },
  {
   "cell_type": "code",
   "execution_count": null,
   "metadata": {},
   "outputs": [],
   "source": [
    "for i in range(1, 101, 10): # Bắt đầu từ 1, không vượt quá 100, tăng đều 10\n",
    "    print(i)"
   ]
  },
  {
   "cell_type": "markdown",
   "metadata": {},
   "source": [
    "Chúng ta có thể viết một vòng lặp bên trong một vòng lặp khác để lặp qua nhiều dãy giá trị khác nhau:"
   ]
  },
  {
   "cell_type": "code",
   "execution_count": 6,
   "metadata": {},
   "outputs": [
    {
     "name": "stdout",
     "output_type": "stream",
     "text": [
      "(1, 'a')\n",
      "(1, 'b')\n",
      "(1, 'c')\n",
      "(2, 'a')\n",
      "(2, 'b')\n",
      "(2, 'c')\n",
      "(3, 'a')\n",
      "(3, 'b')\n",
      "(3, 'c')\n"
     ]
    }
   ],
   "source": [
    "for x in [1, 2, 3]:\n",
    "    for y in [\"a\", \"b\", \"c\"]:\n",
    "        print((x, y))"
   ]
  },
  {
   "cell_type": "code",
   "execution_count": 7,
   "metadata": {},
   "outputs": [
    {
     "name": "stdout",
     "output_type": "stream",
     "text": [
      "0 a\n",
      "1 b\n",
      "2 c\n"
     ]
    }
   ],
   "source": [
    "list_1 = [0, 1, 2]\n",
    "list_2 = [\"a\", \"b\", \"c\"]\n",
    "for i in range(3):\n",
    "    print(list_1[i], list_2[i])"
   ]
  },
  {
   "cell_type": "markdown",
   "metadata": {},
   "source": [
    "Khi lặp qua các đối tượng, người lập trình thường có xu hướng sử dụng `zip()` và `enumerate()`. `zip()` trả về một đối tượng `zip`, là một đối tượng lặp được của các `tuple`. `enumerate()` thêm một bộ đếm vào một đối tượng lặp được mà chúng ta có thể sử dụng trong vòng lặp."
   ]
  },
  {
   "cell_type": "code",
   "execution_count": 8,
   "metadata": {},
   "outputs": [
    {
     "name": "stdout",
     "output_type": "stream",
     "text": [
      "(0, 'a')\n",
      "(1, 'b')\n",
      "(2, 'c')\n"
     ]
    }
   ],
   "source": [
    "for i in zip(list_1, list_2):\n",
    "    print(i)"
   ]
  },
  {
   "cell_type": "markdown",
   "metadata": {},
   "source": [
    "Chúng ta thậm chí có thể giải nén các `tuple` này trực tiếp trong vòng lặp `for`:"
   ]
  },
  {
   "cell_type": "code",
   "execution_count": 9,
   "metadata": {},
   "outputs": [
    {
     "name": "stdout",
     "output_type": "stream",
     "text": [
      "0 a\n",
      "1 b\n",
      "2 c\n"
     ]
    }
   ],
   "source": [
    "for i, j in zip(list_1, list_2):\n",
    "    print(i, j)"
   ]
  },
  {
   "cell_type": "code",
   "execution_count": 10,
   "metadata": {},
   "outputs": [
    {
     "name": "stdout",
     "output_type": "stream",
     "text": [
      "(0, 'a')\n",
      "(1, 'b')\n",
      "(2, 'c')\n"
     ]
    }
   ],
   "source": [
    "for i in enumerate(list_2):\n",
    "    print(i)"
   ]
  },
  {
   "cell_type": "code",
   "execution_count": 11,
   "metadata": {},
   "outputs": [
    {
     "name": "stdout",
     "output_type": "stream",
     "text": [
      "index 0, value a\n",
      "index 1, value b\n",
      "index 2, value c\n"
     ]
    }
   ],
   "source": [
    "for n, i in enumerate(list_2):\n",
    "    print(f\"index {n}, value {i}\")"
   ]
  },
  {
   "cell_type": "markdown",
   "metadata": {},
   "source": [
    "Chúng ta có thể lặp qua các cặp khóa-giá trị của một từ điển bằng cách sử dụng `.items()`. Cú pháp chung là `for key, value in dictionary.items()`."
   ]
  },
  {
   "cell_type": "code",
   "execution_count": 59,
   "metadata": {},
   "outputs": [
    {
     "name": "stdout",
     "output_type": "stream",
     "text": [
      "NCT 123 thì thú vị\n",
      "NCT 231 thì bình thường\n",
      "NCT 312 thì buồn ngủ!\n"
     ]
    }
   ],
   "source": [
    "courses = {123 : \"thú vị\",\n",
    "           231 : \"bình thường\",\n",
    "           312 : \"buồn ngủ!\"}\n",
    "\n",
    "for course_num, description in courses.items():\n",
    "    print(f\"NCT {course_num} thì {description}\")"
   ]
  },
  {
   "cell_type": "markdown",
   "metadata": {},
   "source": [
    "Chúng ta thậm chí có thể sử dụng `enumerate()` để thực hiện việc giải nén phức tạp hơn:"
   ]
  },
  {
   "cell_type": "code",
   "execution_count": 62,
   "metadata": {},
   "outputs": [
    {
     "name": "stdout",
     "output_type": "stream",
     "text": [
      "Môn học 1: NCT 123 thì thú vị\n",
      "Môn học 2: NCT 231 thì bình thường\n",
      "Môn học 3: NCT 312 thì buồn ngủ!\n"
     ]
    }
   ],
   "source": [
    "for n, (course_num, description) in enumerate(courses.items()):\n",
    "    print(f\"Môn học {n+1}: NCT {course_num} thì {description}\")"
   ]
  },
  {
   "cell_type": "markdown",
   "metadata": {},
   "source": [
    "### Vòng lặp `while`\n",
    "<hr>"
   ]
  },
  {
   "cell_type": "markdown",
   "metadata": {},
   "source": [
    "Chúng ta cũng có thể sử dụng một [vòng lặp `while`](https://docs.python.org/3/reference/compound_stmts.html#while) để thực thi một khối câu lệnh được nhiều lần. Cách viết vòng lặp `while` là `while` + \"biểu thức điều kiện\" + \"khối lệnh được lặp\". Khi biểu thức điều kiện cho giá trị là `True` thì các khối lệnh sẽ được thực thi. Cần lưu ý là khi biểu thức điều kiện luôn là `True`, thì bạn sẽ có một vòng lặp vô hạn và đoạn lệnh sẽ không bao giờ dừng lại."
   ]
  },
  {
   "cell_type": "code",
   "execution_count": 14,
   "metadata": {},
   "outputs": [
    {
     "name": "stdout",
     "output_type": "stream",
     "text": [
      "10\n",
      "9\n",
      "8\n",
      "7\n",
      "6\n",
      "5\n",
      "4\n",
      "3\n",
      "2\n",
      "1\n",
      "Blast off!\n"
     ]
    }
   ],
   "source": [
    "n = 5\n",
    "while n > 0:\n",
    "    print(n)\n",
    "    n -= 1\n",
    "print(\"Done!\")"
   ]
  },
  {
   "cell_type": "markdown",
   "metadata": {},
   "source": [
    "Bạn đọc có thể hình dung câu lệnh `while` giống như đọc ngữ pháp thông thường: “Khi `n` lớn hơn 0, hiển thị giá trị của `n` và sau đó giảm `n` đi 1. Khi n bằng 0, biểu thức điều kiện sai và kết thúc vòng lặp, sau đó hiển thị từ Done!”"
   ]
  },
  {
   "cell_type": "markdown",
   "metadata": {},
   "source": [
    "Trong nhiều trường hợp, bạn đọc có thể muốn buộc vòng lặp `while` dừng lại dựa trên một số tiêu chí bằng cách sử dụng từ khóa `break`."
   ]
  },
  {
   "cell_type": "code",
   "execution_count": 1,
   "metadata": {},
   "outputs": [
    {
     "name": "stdout",
     "output_type": "stream",
     "text": [
      "123\n",
      "370\n",
      "185\n",
      "556\n",
      "278\n",
      "139\n",
      "418\n",
      "209\n",
      "628\n",
      "314\n",
      "Đã lặp quá nhiều!\n"
     ]
    }
   ],
   "source": [
    "n = 123\n",
    "i = 0\n",
    "while n != 1:\n",
    "    print(int(n))\n",
    "    if n % 2 == 0: # n is even\n",
    "        n = n / 2\n",
    "    else: # n is odd\n",
    "        n = n * 3 + 1\n",
    "    i += 1\n",
    "    if i == 10:\n",
    "        print(f\"Đã lặp quá nhiều!\")\n",
    "        break"
   ]
  },
  {
   "cell_type": "markdown",
   "metadata": {},
   "source": [
    "### Viết vòng lặp sử dụng tạo danh sách rút gọn\n",
    "<hr>"
   ]
  },
  {
   "cell_type": "markdown",
   "metadata": {},
   "source": [
    "**Tạo danh sách rút gọn** cho phép chúng ta khởi tạo `list`, `set`, `dictionary` trong một dòng lệnh một cách tiện lợi, nhỏ gọn. Dưới đây là một vòng lặp `for` tiêu chuẩn mà bạn có thể sử dụng để lặp qua một đối tượng lặp được và tạo một danh sách. Hãy quan sát ví dụ dưới đây, khi chúng ta muốn lấy ra chữ cái đầu tiên của các từ trong 1 list, cách viết vòng lặp chuẩn như sau:"
   ]
  },
  {
   "cell_type": "code",
   "execution_count": 4,
   "metadata": {},
   "outputs": [
    {
     "name": "stdout",
     "output_type": "stream",
     "text": [
      "['T', 'C', 'n', 'l', 'đ', 'v', 'đ', 't', 'ứ', 'd', 'c', 'n', 't', 'k', 't']\n"
     ]
    }
   ],
   "source": [
    "mylist = ['Trường', 'Công', 'nghệ', 'là', 'đơn', 'vị', 'đào', 'tạo', 'ứng', 'dụng', 'công', 'nghệ', 'trong', 'kinh', 'tế']\n",
    "first_letters = []\n",
    "for word in mylist:\n",
    "    first_letters.append(word[0])\n",
    "print(first_letters)"
   ]
  },
  {
   "cell_type": "markdown",
   "metadata": {},
   "source": [
    "Tạo danh sách rút gọn cho phép chúng ta thực hiện điều này chỉ trong một dòng lệnh nhỏ gọn hơn nhiều:"
   ]
  },
  {
   "cell_type": "code",
   "execution_count": 6,
   "metadata": {
    "collapsed": false,
    "jupyter": {
     "outputs_hidden": false
    }
   },
   "outputs": [
    {
     "data": {
      "text/plain": [
       "['T', 'C', 'n', 'l', 'đ', 'v', 'đ', 't', 'ứ', 'd', 'c', 'n', 't', 'k', 't']"
      ]
     },
     "execution_count": 6,
     "metadata": {},
     "output_type": "execute_result"
    }
   ],
   "source": [
    "[word[0] for word in mylist]"
   ]
  },
  {
   "cell_type": "markdown",
   "metadata": {},
   "source": [
    "Chúng ta thậm chí có thể thực hiện các vòng lặp lồng nhau khi tạo danh sách rút gọn, hoặc sử dụng kèm với biểu thức điều kiện:"
   ]
  },
  {
   "cell_type": "code",
   "execution_count": 23,
   "metadata": {},
   "outputs": [
    {
     "data": {
      "text/plain": [
       "[(0, 0),\n",
       " (0, 1),\n",
       " (0, 2),\n",
       " (0, 3),\n",
       " (1, 0),\n",
       " (1, 1),\n",
       " (1, 2),\n",
       " (1, 3),\n",
       " (2, 0),\n",
       " (2, 1),\n",
       " (2, 2),\n",
       " (2, 3)]"
      ]
     },
     "execution_count": 23,
     "metadata": {},
     "output_type": "execute_result"
    }
   ],
   "source": [
    "[(i, j) for i in range(3) for j in range(4)]"
   ]
  },
  {
   "cell_type": "code",
   "execution_count": 24,
   "metadata": {},
   "outputs": [
    {
     "data": {
      "text/plain": [
       "[0, 2, 4, 6, 8, 10]"
      ]
     },
     "execution_count": 24,
     "metadata": {},
     "output_type": "execute_result"
    }
   ],
   "source": [
    "[i for i in range(11) if i % 2 == 0]  # condition the iterator, select only even numbers"
   ]
  },
  {
   "cell_type": "code",
   "execution_count": 25,
   "metadata": {},
   "outputs": [
    {
     "data": {
      "text/plain": [
       "[0, -1, 2, -3, 4, -5, 6, -7, 8, -9, 10]"
      ]
     },
     "execution_count": 25,
     "metadata": {},
     "output_type": "execute_result"
    }
   ],
   "source": [
    "[-i if i % 2 else i for i in range(11)]  # condition the value, -ve odd and +ve even numbers"
   ]
  },
  {
   "cell_type": "markdown",
   "metadata": {},
   "source": [
    "Bạn đọc cũng có thể sử dụng cách viết này với các tập hợp. Lưu ý rằng tập hợp không có thứ tự phần tử và sẽ loại đi các phần tử bị lặp:"
   ]
  },
  {
   "cell_type": "code",
   "execution_count": 7,
   "metadata": {},
   "outputs": [
    {
     "data": {
      "text/plain": [
       "{'C', 'T', 'c', 'd', 'k', 'l', 'n', 't', 'v', 'đ', 'ứ'}"
      ]
     },
     "execution_count": 7,
     "metadata": {},
     "output_type": "execute_result"
    }
   ],
   "source": [
    "{word[0] for word in mylist}"
   ]
  },
  {
   "cell_type": "markdown",
   "metadata": {},
   "source": [
    "Danh sách rút gọn cũng có thể áp dụng cho từ điển:"
   ]
  },
  {
   "cell_type": "code",
   "execution_count": 8,
   "metadata": {
    "collapsed": false,
    "jupyter": {
     "outputs_hidden": false
    }
   },
   "outputs": [
    {
     "data": {
      "text/plain": [
       "{'Trường': 6,\n",
       " 'Công': 4,\n",
       " 'nghệ': 4,\n",
       " 'là': 2,\n",
       " 'đơn': 3,\n",
       " 'vị': 2,\n",
       " 'đào': 3,\n",
       " 'tạo': 3,\n",
       " 'ứng': 3,\n",
       " 'dụng': 4,\n",
       " 'công': 4,\n",
       " 'trong': 5,\n",
       " 'kinh': 4,\n",
       " 'tế': 2}"
      ]
     },
     "execution_count": 8,
     "metadata": {},
     "output_type": "execute_result"
    }
   ],
   "source": [
    "word_lengths = {word:len(word) for word in mylist} # dictionary comprehension\n",
    "word_lengths"
   ]
  },
  {
   "cell_type": "markdown",
   "metadata": {},
   "source": [
    "## Viết hàm\n",
    "<hr>"
   ]
  },
  {
   "cell_type": "markdown",
   "metadata": {},
   "source": [
    "Một [hàm](https://docs.python.org/3/tutorial/controlflow.html#defining-functions) là một đoạn câu lệnh được viết để tái sử dụng, có thể chấp nhận các tham số đầu vào, còn được gọi là đối số hoặc tham số (arguments). Ví dụ, để định nghĩa một hàm có tên `square` nhận một tham số đầu vào `n` và trả về bình phương `n**2`, chúng ta khai báo như sau:"
   ]
  },
  {
   "cell_type": "code",
   "execution_count": 4,
   "metadata": {},
   "outputs": [],
   "source": [
    "def square(n):\n",
    "    n_squared = n**2\n",
    "    return n_squared"
   ]
  },
  {
   "cell_type": "code",
   "execution_count": 5,
   "metadata": {},
   "outputs": [
    {
     "data": {
      "text/plain": [
       "4"
      ]
     },
     "execution_count": 5,
     "metadata": {},
     "output_type": "execute_result"
    }
   ],
   "source": [
    "square(2)"
   ]
  },
  {
   "cell_type": "code",
   "execution_count": 6,
   "metadata": {},
   "outputs": [
    {
     "data": {
      "text/plain": [
       "10000"
      ]
     },
     "execution_count": 6,
     "metadata": {},
     "output_type": "execute_result"
    }
   ],
   "source": [
    "square(100)"
   ]
  },
  {
   "cell_type": "code",
   "execution_count": 7,
   "metadata": {},
   "outputs": [
    {
     "data": {
      "text/plain": [
       "152399025"
      ]
     },
     "execution_count": 7,
     "metadata": {},
     "output_type": "execute_result"
    }
   ],
   "source": [
    "square(12345)"
   ]
  },
  {
   "cell_type": "markdown",
   "metadata": {},
   "source": [
    "Hàm bắt đầu bằng từ khóa `def`, sau đó là tên hàm, các tham số trong dấu ngoặc đơn, và sau đó là dấu hai chấm (`:`). Các câu lệnh được thực thi bởi hàm được xác định bằng cách viết thụt lề. Giá trị đầu ra hoặc giá trị \"trả về\" của hàm được chỉ định bằng từ khóa `return`."
   ]
  },
  {
   "cell_type": "markdown",
   "metadata": {},
   "source": [
    "### Tác dụng phụ & biến cục bộ\n",
    "<hr>"
   ]
  },
  {
   "cell_type": "markdown",
   "metadata": {},
   "source": [
    "Khi bạn tạo một biến bên trong một hàm, biến đó là **biến cục bộ**, có nghĩa là nó chỉ tồn tại bên trong hàm đó. Ví dụ:"
   ]
  },
  {
   "cell_type": "code",
   "execution_count": 9,
   "metadata": {},
   "outputs": [],
   "source": [
    "def cat_string(str1, str2):\n",
    "    string = str1 + str2\n",
    "    return string"
   ]
  },
  {
   "cell_type": "code",
   "execution_count": 10,
   "metadata": {},
   "outputs": [
    {
     "data": {
      "text/plain": [
       "'Tôi là NeuTech'"
      ]
     },
     "execution_count": 10,
     "metadata": {},
     "output_type": "execute_result"
    }
   ],
   "source": [
    "cat_string('Tôi là ', 'NeuTech')"
   ]
  },
  {
   "cell_type": "code",
   "execution_count": 11,
   "metadata": {
    "tags": [
     "raises-exception"
    ]
   },
   "outputs": [
    {
     "ename": "NameError",
     "evalue": "name 'string' is not defined",
     "output_type": "error",
     "traceback": [
      "\u001b[31m---------------------------------------------------------------------------\u001b[39m",
      "\u001b[31mNameError\u001b[39m                                 Traceback (most recent call last)",
      "\u001b[36mCell\u001b[39m\u001b[36m \u001b[39m\u001b[32mIn[11]\u001b[39m\u001b[32m, line 1\u001b[39m\n\u001b[32m----> \u001b[39m\u001b[32m1\u001b[39m \u001b[43mstring\u001b[49m\n",
      "\u001b[31mNameError\u001b[39m: name 'string' is not defined"
     ]
    }
   ],
   "source": [
    "string"
   ]
  },
  {
   "cell_type": "markdown",
   "metadata": {},
   "source": [
    "Bạn đọc có thể thấy rằng biến `string` có được truyền giá trị bên trong hàm `cat_string` nhưng khi gọi ở môi trường bên ngoài thì lại báo lỗi. Điều đó thể hiện là biến `string` chỉ là một biến cục bộ. \n",
    "\n",
    "Nếu một hàm thay đổi các biến được truyền vào nó, thì nó được cho là có **tác dụng phụ**, hay side effects. Ví dụ:"
   ]
  },
  {
   "cell_type": "code",
   "execution_count": 11,
   "metadata": {},
   "outputs": [],
   "source": [
    "def silly_sum(my_list):\n",
    "    my_list.append(0)\n",
    "    return sum(my_list)"
   ]
  },
  {
   "cell_type": "code",
   "execution_count": 12,
   "metadata": {},
   "outputs": [
    {
     "data": {
      "text/plain": [
       "10"
      ]
     },
     "execution_count": 12,
     "metadata": {},
     "output_type": "execute_result"
    }
   ],
   "source": [
    "l = [1, 2, 3, 4]\n",
    "out = silly_sum(l)\n",
    "out"
   ]
  },
  {
   "cell_type": "markdown",
   "metadata": {},
   "source": [
    "Trong ví dụ trên, ngoài kết quả cho tổng bằng 10, hàm còn thay đổi đối tượng `l`:"
   ]
  },
  {
   "cell_type": "code",
   "execution_count": 13,
   "metadata": {},
   "outputs": [
    {
     "data": {
      "text/plain": [
       "[1, 2, 3, 4, 0]"
      ]
     },
     "execution_count": 13,
     "metadata": {},
     "output_type": "execute_result"
    }
   ],
   "source": [
    "l"
   ]
  },
  {
   "cell_type": "markdown",
   "metadata": {},
   "source": [
    "Nếu hàm có các tác dụng phụ như thế này, người viết cần phải đề cập đến yếu tố này trong tài liệu cho người dùng."
   ]
  },
  {
   "cell_type": "markdown",
   "metadata": {},
   "source": [
    "Nếu bạn không chỉ định giá trị trả về, hàm sẽ trả về `None` khi nó kết thúc:"
   ]
  },
  {
   "cell_type": "code",
   "execution_count": 14,
   "metadata": {},
   "outputs": [
    {
     "name": "stdout",
     "output_type": "stream",
     "text": [
      "None\n"
     ]
    }
   ],
   "source": [
    "def f(x):\n",
    "    x + 1 # no return!\n",
    "    if x == 999:\n",
    "        return\n",
    "print(f(0))"
   ]
  },
  {
   "cell_type": "markdown",
   "metadata": {},
   "source": [
    "### Tham số tùy chọn và bắt buộc\n",
    "<hr>"
   ]
  },
  {
   "cell_type": "markdown",
   "metadata": {},
   "source": [
    "Khi viết hàm số có tham số, chúng ta thường gán *giá trị mặc định* cho một số tham số trong một hàm, các tham số này còn được gọi là \"tham số tùy chọn\", nghĩa là không nhất thiết phải gọi các tham số này mỗi khi gọi hàm. Khi tham số không được gọi, giá trị mặc định sẽ được sử dụng. Chỉ khi muốn truyền giá trị khác cho tham số thì người sử dụng hàm mới cần gọi tham số:"
   ]
  },
  {
   "cell_type": "code",
   "execution_count": 17,
   "metadata": {},
   "outputs": [],
   "source": [
    "def repeat_string(s, n=2):\n",
    "    return s*n"
   ]
  },
  {
   "cell_type": "code",
   "execution_count": 21,
   "metadata": {},
   "outputs": [
    {
     "data": {
      "text/plain": [
       "\"Don't quit; Don't quit; \""
      ]
     },
     "execution_count": 21,
     "metadata": {},
     "output_type": "execute_result"
    }
   ],
   "source": [
    "mystr = \"Don't quit; \" \n",
    "repeat_string(mystr) # Không cần khai báo n nếu không muốn thay đổi"
   ]
  },
  {
   "cell_type": "code",
   "execution_count": 17,
   "metadata": {},
   "outputs": [
    {
     "data": {
      "text/plain": [
       "'mdsmdsmdsmdsmds'"
      ]
     },
     "execution_count": 17,
     "metadata": {},
     "output_type": "execute_result"
    }
   ],
   "source": [
    "repeat_string(mystr, 3) # Truyền giá trị khác nếu muốn thay đổi"
   ]
  },
  {
   "cell_type": "markdown",
   "metadata": {},
   "source": [
    "Khi khai báo hàm số, giá trị mặc định cho các tham số tùy chọn nên được chọn cẩn thận. Khi viết hàm số bao gồm cả các tham số tùy chọn và tham số bắt buộc, cần lưu ý là:\n",
    "\n",
    "- Tất cả các tham số tùy chọn phải đứng sau các tham số bắt buộc.\n",
    "- Các tham số bắt buộc được ánh xạ theo thứ tự chúng xuất hiện.\n",
    "- Các tham số tùy chọn có thể được chỉ định không theo thứ tự khi sử dụng hàm."
   ]
  },
  {
   "cell_type": "code",
   "execution_count": 27,
   "metadata": {},
   "outputs": [
    {
     "ename": "SyntaxError",
     "evalue": "parameter without a default follows parameter with a default (2519866667.py, line 1)",
     "output_type": "error",
     "traceback": [
      "  \u001b[36mCell\u001b[39m\u001b[36m \u001b[39m\u001b[32mIn[27]\u001b[39m\u001b[32m, line 1\u001b[39m\n\u001b[31m    \u001b[39m\u001b[31mdef example(a = 1, b, c = -1, d = -2): # Báo lỗi nếu khai báo tham số tùy chọn trước\u001b[39m\n                       ^\n\u001b[31mSyntaxError\u001b[39m\u001b[31m:\u001b[39m parameter without a default follows parameter with a default\n"
     ]
    }
   ],
   "source": [
    "def example(a = 1, b, c = -1, d = -2): # Báo lỗi nếu khai báo tham số tùy chọn trước\n",
    "    print(a, b, c, d)\n",
    "    \n",
    "example(1, 2, 3, 4) # Truyền giá trị cho cả 4 tham số"
   ]
  },
  {
   "cell_type": "code",
   "execution_count": 28,
   "metadata": {},
   "outputs": [
    {
     "name": "stdout",
     "output_type": "stream",
     "text": [
      "1 2 3 4\n"
     ]
    }
   ],
   "source": [
    "def example(a, b, c = -1, d = -2): # Tham số tùy chọn được khai báo sau\n",
    "    print(a, b, c, d)\n",
    "    \n",
    "example(1, 2, 3, 4) # Truyền giá trị cho cả 4 tham số"
   ]
  },
  {
   "cell_type": "markdown",
   "metadata": {},
   "source": [
    "Sử dụng các giá trị mặc định cho `c` và `d`:"
   ]
  },
  {
   "cell_type": "code",
   "execution_count": 29,
   "metadata": {},
   "outputs": [
    {
     "name": "stdout",
     "output_type": "stream",
     "text": [
      "1 2 -1 -2\n"
     ]
    }
   ],
   "source": [
    "example(1, 2)"
   ]
  },
  {
   "cell_type": "markdown",
   "metadata": {},
   "source": [
    "Có thể chỉ chỉ định chỉ một trong các tham số tùy chọn:"
   ]
  },
  {
   "cell_type": "code",
   "execution_count": 30,
   "metadata": {},
   "outputs": [
    {
     "name": "stdout",
     "output_type": "stream",
     "text": [
      "1 2 3 -2\n"
     ]
    }
   ],
   "source": [
    "example(1, 2, c=3)"
   ]
  },
  {
   "cell_type": "markdown",
   "metadata": {},
   "source": [
    "Chỉ định tất cả các đối số làm tham số từ khóa, mặc dù chỉ có `c` và `d` là tùy chọn:"
   ]
  },
  {
   "cell_type": "code",
   "execution_count": 145,
   "metadata": {},
   "outputs": [
    {
     "name": "stdout",
     "output_type": "stream",
     "text": [
      "1 2 3 4\n"
     ]
    }
   ],
   "source": [
    "example(a=1, b=2, c=3, d=4)"
   ]
  },
  {
   "cell_type": "markdown",
   "metadata": {},
   "source": [
    "Chỉ định các tham số tùy chọn theo từ khóa, nhưng sai thứ tự, mặc dù cũng có thể gây nhầm lẫn, nhưng vẫn cho kết quả đúng:"
   ]
  },
  {
   "cell_type": "code",
   "execution_count": 148,
   "metadata": {},
   "outputs": [
    {
     "name": "stdout",
     "output_type": "stream",
     "text": [
      "1 2 3 4\n"
     ]
    }
   ],
   "source": [
    "example(1, 2, d=4, c=3)"
   ]
  },
  {
   "cell_type": "markdown",
   "metadata": {},
   "source": [
    "### Hàm số trả về nhiều giá trị\n",
    "<hr>"
   ]
  },
  {
   "cell_type": "markdown",
   "metadata": {},
   "source": [
    "Trong đa số ngôn ngữ lập trình, hàm chỉ có thể trả về một đối tượng. Về mặt kỹ thuật hàm trong Python cũng chỉ trả về một đối tượng. Để giải quyết vấn đề này chúng ta sẽ thiết kế hàm trả về một `tuple`, một đối tượng có thể chứa được nhiều giá trị:"
   ]
  },
  {
   "cell_type": "code",
   "execution_count": 24,
   "metadata": {},
   "outputs": [],
   "source": [
    "def sum_and_product(x, y):\n",
    "    return (x + y, x * y)"
   ]
  },
  {
   "cell_type": "code",
   "execution_count": 25,
   "metadata": {},
   "outputs": [
    {
     "data": {
      "text/plain": [
       "(11, 30)"
      ]
     },
     "execution_count": 25,
     "metadata": {},
     "output_type": "execute_result"
    }
   ],
   "source": [
    "sum_and_product(5, 6)"
   ]
  },
  {
   "cell_type": "markdown",
   "metadata": {},
   "source": [
    "Dấu ngoặc đơn có thể được bỏ qua và một `tuple` được trả về một cách ngầm định được xác định bằng việc sử dụng dấu phẩy: "
   ]
  },
  {
   "cell_type": "code",
   "execution_count": 26,
   "metadata": {},
   "outputs": [],
   "source": [
    "def sum_and_product(x, y):\n",
    "    return x + y, x * y"
   ]
  },
  {
   "cell_type": "code",
   "execution_count": 27,
   "metadata": {},
   "outputs": [
    {
     "data": {
      "text/plain": [
       "(11, 30)"
      ]
     },
     "execution_count": 27,
     "metadata": {},
     "output_type": "execute_result"
    }
   ],
   "source": [
    "sum_and_product(5, 6)"
   ]
  },
  {
   "cell_type": "markdown",
   "metadata": {},
   "source": [
    "Thông thường, chúng ta sẽ giải nén một `tuple` trả về thành các biến riêng biệt, điều đó tạo cảm giác như hàm đang trả về nhiều giá trị:"
   ]
  },
  {
   "cell_type": "code",
   "execution_count": 28,
   "metadata": {},
   "outputs": [],
   "source": [
    "s, p = sum_and_product(5, 6)"
   ]
  },
  {
   "cell_type": "code",
   "execution_count": 29,
   "metadata": {},
   "outputs": [
    {
     "data": {
      "text/plain": [
       "11"
      ]
     },
     "execution_count": 29,
     "metadata": {},
     "output_type": "execute_result"
    }
   ],
   "source": [
    "s"
   ]
  },
  {
   "cell_type": "code",
   "execution_count": 30,
   "metadata": {},
   "outputs": [
    {
     "data": {
      "text/plain": [
       "30"
      ]
     },
     "execution_count": 30,
     "metadata": {},
     "output_type": "execute_result"
    }
   ],
   "source": [
    "p"
   ]
  },
  {
   "cell_type": "markdown",
   "metadata": {},
   "source": [
    "Ngoài ra, theo quy ước trong Python, chúng ta sử dụng biến có tên `_` cho các giá trị mà bạn không muốn lưu:"
   ]
  },
  {
   "cell_type": "code",
   "execution_count": 31,
   "metadata": {},
   "outputs": [],
   "source": [
    "s, _ = sum_and_product(5, 6)"
   ]
  },
  {
   "cell_type": "code",
   "execution_count": 32,
   "metadata": {},
   "outputs": [
    {
     "data": {
      "text/plain": [
       "11"
      ]
     },
     "execution_count": 32,
     "metadata": {},
     "output_type": "execute_result"
    }
   ],
   "source": [
    "s"
   ]
  },
  {
   "cell_type": "code",
   "execution_count": 33,
   "metadata": {},
   "outputs": [
    {
     "data": {
      "text/plain": [
       "30"
      ]
     },
     "execution_count": 33,
     "metadata": {},
     "output_type": "execute_result"
    }
   ],
   "source": [
    "_"
   ]
  },
  {
   "cell_type": "markdown",
   "metadata": {},
   "source": [
    "Bạn cũng có thể định nghĩa các hàm chấp nhận một số lượng tùy ý các tham số vị trí hoặc từ khóa bằng cách sử dụng `*args` và `**kwargs`."
   ]
  },
  {
   "cell_type": "code",
   "execution_count": 34,
   "metadata": {},
   "outputs": [],
   "source": [
    "def add(*args):\n",
    "    print(args)\n",
    "    return sum(args)"
   ]
  },
  {
   "cell_type": "code",
   "execution_count": 35,
   "metadata": {},
   "outputs": [
    {
     "name": "stdout",
     "output_type": "stream",
     "text": [
      "(1, 2, 3, 4, 5, 6)\n"
     ]
    },
    {
     "data": {
      "text/plain": [
       "21"
      ]
     },
     "execution_count": 35,
     "metadata": {},
     "output_type": "execute_result"
    }
   ],
   "source": [
    "add(1, 2, 3, 4, 5, 6)"
   ]
  },
  {
   "cell_type": "code",
   "execution_count": 36,
   "metadata": {},
   "outputs": [],
   "source": [
    "def add(**kwargs):\n",
    "    print(kwargs)\n",
    "    return sum(kwargs.values())"
   ]
  },
  {
   "cell_type": "code",
   "execution_count": 37,
   "metadata": {},
   "outputs": [
    {
     "name": "stdout",
     "output_type": "stream",
     "text": [
      "{'a': 3, 'b': 4, 'c': 5}\n"
     ]
    },
    {
     "data": {
      "text/plain": [
       "12"
      ]
     },
     "execution_count": 37,
     "metadata": {},
     "output_type": "execute_result"
    }
   ],
   "source": [
    "add(a=3, b=4, c=5)"
   ]
  },
  {
   "cell_type": "markdown",
   "metadata": {},
   "source": [
    "### Hàm ẩn\n",
    "<hr>"
   ]
  },
  {
   "cell_type": "markdown",
   "metadata": {},
   "source": [
    "Có hai cách để định nghĩa hàm trong Python. Cách mà chúng ta đã sử dụng là sử dụng từ khóa `def`"
   ]
  },
  {
   "cell_type": "code",
   "execution_count": 43,
   "metadata": {},
   "outputs": [],
   "source": [
    "def add_one(x):\n",
    "    return x+1"
   ]
  },
  {
   "cell_type": "code",
   "execution_count": 44,
   "metadata": {},
   "outputs": [
    {
     "data": {
      "text/plain": [
       "8.2"
      ]
     },
     "execution_count": 44,
     "metadata": {},
     "output_type": "execute_result"
    }
   ],
   "source": [
    "add_one(9.75)"
   ]
  },
  {
   "cell_type": "markdown",
   "metadata": {},
   "source": [
    "Có một cách khác để khai báo hàm đó là sử dụng từ khóa `lambda`:"
   ]
  },
  {
   "cell_type": "code",
   "execution_count": 32,
   "metadata": {},
   "outputs": [],
   "source": [
    "add_one = lambda x: x+1"
   ]
  },
  {
   "cell_type": "code",
   "execution_count": 33,
   "metadata": {},
   "outputs": [
    {
     "data": {
      "text/plain": [
       "function"
      ]
     },
     "execution_count": 33,
     "metadata": {},
     "output_type": "execute_result"
    }
   ],
   "source": [
    "type(add_one)"
   ]
  },
  {
   "cell_type": "code",
   "execution_count": 34,
   "metadata": {},
   "outputs": [
    {
     "data": {
      "text/plain": [
       "10.75"
      ]
     },
     "execution_count": 34,
     "metadata": {},
     "output_type": "execute_result"
    }
   ],
   "source": [
    "add_one(9.75)"
   ]
  },
  {
   "cell_type": "markdown",
   "metadata": {},
   "source": [
    "Hai cách tiếp cận trên là cho kết quả giống nhau. Cách sử dụng từ khóa `lambda` được gọi là **hàm ẩn**, hay anonymous function). Hàm ẩn chỉ có thể viết trên một dòng lệnh, vì vậy chúng không phù hợp trong các trường hợp yêu cầu định nghĩa hàm phức tạp, nhưng có thể hữu ích trong một số trường hợp khác, đặc biệt là khi muốn viết câu lệnh ngắn gọn, hoặc muốn viết một hàm nằm trong một hàm khác:"
   ]
  },
  {
   "cell_type": "code",
   "execution_count": 1,
   "metadata": {},
   "outputs": [
    {
     "data": {
      "text/plain": [
       "8"
      ]
     },
     "execution_count": 1,
     "metadata": {},
     "output_type": "execute_result"
    }
   ],
   "source": [
    "def power_function(n):\n",
    "    # Trả về một hàm lambda, hàm này nhận x và trả về x^n\n",
    "    return lambda x: x ** n\n",
    "    \n",
    "# Tạo một hàm lập phương\n",
    "cube = power_function(3)\n",
    "cube(2) "
   ]
  },
  {
   "cell_type": "markdown",
   "metadata": {},
   "source": [
    "Đoạn lệnh ở trên có nghĩa là\n",
    "\n",
    "- Trước tiên tiên, `lambda x: x**n` đánh giá thành một giá trị thuộc kiểu `function`, là giá trị trả lại trong hàm `power_function`.\n",
    "- Chúng ta muốn định nghĩa một hàm bậc 3 (lập phương) thì chỉ cần gọi tham số 3 trong hàm `power_function`\n",
    "- Hàm `cube` được hiểu là lập phương của một giá trị đầu vào, và cho kết quả tại 2 là 8\n",
    "\n",
    "Như vậy, trong chương này, chúng ta đã được giới thiệu tương đối đầy đủ về kiến thức nền tảng của ngôn ngữ Python. Các chương tiếp theo sẽ thảo luận về các thư viện quan trọng của Python trong xử lý và phân tích dữ liệu, bao gồm `numpy`, `pandas`, và `mathplotlib`."
   ]
  }
 ],
 "metadata": {
  "kernelspec": {
   "display_name": "Python 3 (ipykernel)",
   "language": "python",
   "name": "python3"
  },
  "language_info": {
   "codemirror_mode": {
    "name": "ipython",
    "version": 3
   },
   "file_extension": ".py",
   "mimetype": "text/x-python",
   "name": "python",
   "nbconvert_exporter": "python",
   "pygments_lexer": "ipython3",
   "version": "3.13.2"
  },
  "toc": {
   "base_numbering": 1,
   "nav_menu": {},
   "number_sections": false,
   "sideBar": true,
   "skip_h1_title": true,
   "title_cell": "Lecture Outline",
   "title_sidebar": "Contents",
   "toc_cell": true,
   "toc_position": {},
   "toc_section_display": true,
   "toc_window_display": true
  },
  "toc-autonumbering": false,
  "toc-showcode": false,
  "toc-showmarkdowntxt": false,
  "toc-showtags": false
 },
 "nbformat": 4,
 "nbformat_minor": 4
}