{
 "cells": [
  {
   "cell_type": "markdown",
   "id": "dae96670-4939-4ffe-9e8b-cff92885659b",
   "metadata": {},
   "source": [
    "# Bài tập NumPy"
   ]
  },
  {
   "cell_type": "markdown",
   "id": "cf513fcc",
   "metadata": {},
   "source": [
    "### Câu 1"
   ]
  },
  {
   "cell_type": "markdown",
   "id": "0b26de7b",
   "metadata": {},
   "source": [
    "Import thư viện NumPy và in ra phiên bản hiện tại."
   ]
  },
  {
   "cell_type": "code",
   "execution_count": null,
   "id": "8f5b96d6",
   "metadata": {},
   "outputs": [],
   "source": [
    "# Câu trả lời ở đây"
   ]
  },
  {
   "cell_type": "markdown",
   "id": "48678e3a",
   "metadata": {},
   "source": [
    "### Câu 2"
   ]
  },
  {
   "cell_type": "markdown",
   "id": "a20f5336",
   "metadata": {},
   "source": [
    "Tạo một mảng NumPy 1 chiều chứa 10 số 0."
   ]
  },
  {
   "cell_type": "code",
   "execution_count": null,
   "id": "7a9bb92a",
   "metadata": {},
   "outputs": [],
   "source": [
    "# Câu trả lời ở đây"
   ]
  },
  {
   "cell_type": "markdown",
   "id": "132d5e6e",
   "metadata": {},
   "source": [
    "### Câu 3"
   ]
  },
  {
   "cell_type": "markdown",
   "id": "78ac46c5",
   "metadata": {},
   "source": [
    "Tạo một mảng NumPy 1 chiều chứa 10 số 1."
   ]
  },
  {
   "cell_type": "code",
   "execution_count": null,
   "id": "4de4e07a",
   "metadata": {},
   "outputs": [],
   "source": [
    "# Câu trả lời ở đây"
   ]
  },
  {
   "cell_type": "markdown",
   "id": "233af855",
   "metadata": {},
   "source": [
    "### Câu 4"
   ]
  },
  {
   "cell_type": "markdown",
   "id": "53d40a1a",
   "metadata": {},
   "source": [
    "Tạo một mảng NumPy chứa các số từ 0 đến 9."
   ]
  },
  {
   "cell_type": "code",
   "execution_count": null,
   "id": "89ceeef7",
   "metadata": {},
   "outputs": [],
   "source": [
    "# Câu trả lời ở đây"
   ]
  },
  {
   "cell_type": "markdown",
   "id": "786aea06",
   "metadata": {},
   "source": [
    "### Câu 5"
   ]
  },
  {
   "cell_type": "markdown",
   "id": "98757852",
   "metadata": {},
   "source": [
    "Tạo một mảng NumPy chứa 10 số bất kỳ."
   ]
  },
  {
   "cell_type": "code",
   "execution_count": null,
   "id": "9ae7232b",
   "metadata": {},
   "outputs": [],
   "source": [
    "# Câu trả lời ở đây"
   ]
  },
  {
   "cell_type": "markdown",
   "id": "032045bf",
   "metadata": {},
   "source": [
    "### Câu 6"
   ]
  },
  {
   "cell_type": "markdown",
   "id": "8d63fba8",
   "metadata": {},
   "source": [
    "Tạo một mảng NumPy chứa các số chẵn từ 0 đến 20."
   ]
  },
  {
   "cell_type": "code",
   "execution_count": null,
   "id": "bd1add01",
   "metadata": {},
   "outputs": [],
   "source": [
    "# Câu trả lời ở đây"
   ]
  },
  {
   "cell_type": "markdown",
   "id": "32a4fc21",
   "metadata": {},
   "source": [
    "### Câu 7"
   ]
  },
  {
   "cell_type": "markdown",
   "id": "2d41b066",
   "metadata": {},
   "source": [
    "Tạo một mảng 2 chiều kích thước (3,3) toàn số 1."
   ]
  },
  {
   "cell_type": "code",
   "execution_count": null,
   "id": "9fa0a113",
   "metadata": {},
   "outputs": [],
   "source": [
    "# Câu trả lời ở đây"
   ]
  },
  {
   "cell_type": "markdown",
   "id": "55cdbc33",
   "metadata": {},
   "source": [
    "### Câu 8"
   ]
  },
  {
   "cell_type": "markdown",
   "id": "822eec3e",
   "metadata": {},
   "source": [
    "Tạo một mảng đường chéo kích thước (4,4) với giá trị là 1."
   ]
  },
  {
   "cell_type": "code",
   "execution_count": null,
   "id": "5ab2110c",
   "metadata": {},
   "outputs": [],
   "source": [
    "# Câu trả lời ở đây"
   ]
  },
  {
   "cell_type": "markdown",
   "id": "53f91e5d",
   "metadata": {},
   "source": [
    "### Câu 9"
   ]
  },
  {
   "cell_type": "markdown",
   "id": "86ee1d5f",
   "metadata": {},
   "source": [
    "Tạo mảng chứa 5 số thực ngẫu nhiên trong khoảng [0,1)."
   ]
  },
  {
   "cell_type": "code",
   "execution_count": null,
   "id": "bebc7fa5",
   "metadata": {},
   "outputs": [],
   "source": [
    "# Câu trả lời ở đây"
   ]
  },
  {
   "cell_type": "markdown",
   "id": "3747e341",
   "metadata": {},
   "source": [
    "### Câu 10"
   ]
  },
  {
   "cell_type": "markdown",
   "id": "59883609",
   "metadata": {},
   "source": [
    "Tạo mảng chứa 5 số nguyên ngẫu nhiên từ 10 đến 50."
   ]
  },
  {
   "cell_type": "code",
   "execution_count": null,
   "id": "7f98c25e",
   "metadata": {},
   "outputs": [],
   "source": [
    "# Câu trả lời ở đây"
   ]
  },
  {
   "cell_type": "markdown",
   "id": "7042d15f",
   "metadata": {},
   "source": [
    "### Câu 11"
   ]
  },
  {
   "cell_type": "markdown",
   "id": "0d1e6e16",
   "metadata": {},
   "source": [
    "Đổi kiểu dữ liệu của mảng float sang int."
   ]
  },
  {
   "cell_type": "code",
   "execution_count": null,
   "id": "8f2ae1c8",
   "metadata": {},
   "outputs": [],
   "source": [
    "# Câu trả lời ở đây"
   ]
  },
  {
   "cell_type": "markdown",
   "id": "47097704",
   "metadata": {},
   "source": [
    "### Câu 12"
   ]
  },
  {
   "cell_type": "markdown",
   "id": "29a53a13",
   "metadata": {},
   "source": [
    "Tính tổng tất cả phần tử trong mảng."
   ]
  },
  {
   "cell_type": "code",
   "execution_count": null,
   "id": "38b3b97f",
   "metadata": {},
   "outputs": [],
   "source": [
    "# Câu trả lời ở đây"
   ]
  },
  {
   "cell_type": "markdown",
   "id": "b6926e4b",
   "metadata": {},
   "source": [
    "### Câu 13"
   ]
  },
  {
   "cell_type": "markdown",
   "id": "92f4f563",
   "metadata": {},
   "source": [
    "Tính giá trị trung bình của mảng."
   ]
  },
  {
   "cell_type": "code",
   "execution_count": null,
   "id": "67c6dc29",
   "metadata": {},
   "outputs": [],
   "source": [
    "# Câu trả lời ở đây"
   ]
  },
  {
   "cell_type": "markdown",
   "id": "5353c489",
   "metadata": {},
   "source": [
    "### Câu 14"
   ]
  },
  {
   "cell_type": "markdown",
   "id": "fd1ed912",
   "metadata": {},
   "source": [
    "Tính giá trị lớn nhất và nhỏ nhất trong mảng."
   ]
  },
  {
   "cell_type": "code",
   "execution_count": null,
   "id": "31c83b7e",
   "metadata": {},
   "outputs": [],
   "source": [
    "# Câu trả lời ở đây"
   ]
  },
  {
   "cell_type": "markdown",
   "id": "7b3d7a1f",
   "metadata": {},
   "source": [
    "### Câu 15"
   ]
  },
  {
   "cell_type": "markdown",
   "id": "0295c75f",
   "metadata": {},
   "source": [
    "Tìm chỉ số (index) của phần tử lớn nhất trong mảng."
   ]
  },
  {
   "cell_type": "code",
   "execution_count": null,
   "id": "f7d63e65",
   "metadata": {},
   "outputs": [],
   "source": [
    "# Câu trả lời ở đây"
   ]
  },
  {
   "cell_type": "markdown",
   "id": "5ae676cc",
   "metadata": {},
   "source": [
    "### Câu 16"
   ]
  },
  {
   "cell_type": "markdown",
   "id": "7db60a20",
   "metadata": {},
   "source": [
    "Tính phương sai và độ lệch chuẩn của mảng."
   ]
  },
  {
   "cell_type": "code",
   "execution_count": null,
   "id": "83c738a5",
   "metadata": {},
   "outputs": [],
   "source": [
    "# Câu trả lời ở đây"
   ]
  },
  {
   "cell_type": "markdown",
   "id": "70b886c9",
   "metadata": {},
   "source": [
    "### Câu 17"
   ]
  },
  {
   "cell_type": "markdown",
   "id": "a1d928b7",
   "metadata": {},
   "source": [
    "Chuẩn hóa mảng 1 chiều (về mean=0, std=1)."
   ]
  },
  {
   "cell_type": "code",
   "execution_count": null,
   "id": "34e31c1f",
   "metadata": {},
   "outputs": [],
   "source": [
    "# Câu trả lời ở đây"
   ]
  },
  {
   "cell_type": "markdown",
   "id": "0deb11b3",
   "metadata": {},
   "source": [
    "### Câu 18"
   ]
  },
  {
   "cell_type": "markdown",
   "id": "a5a19300",
   "metadata": {},
   "source": [
    "Tính tổng các phần tử theo hàng và cột trong ma trận 2 chiều."
   ]
  },
  {
   "cell_type": "code",
   "execution_count": null,
   "id": "0ff914d9",
   "metadata": {},
   "outputs": [],
   "source": [
    "# Câu trả lời ở đây"
   ]
  },
  {
   "cell_type": "markdown",
   "id": "4b80e9a1",
   "metadata": {},
   "source": [
    "### Câu 19"
   ]
  },
  {
   "cell_type": "markdown",
   "id": "22b7eab1",
   "metadata": {},
   "source": [
    "Tạo ma trận đơn vị kích thước 4x4."
   ]
  },
  {
   "cell_type": "code",
   "execution_count": null,
   "id": "9c180ecd",
   "metadata": {},
   "outputs": [],
   "source": [
    "# Câu trả lời ở đây"
   ]
  },
  {
   "cell_type": "markdown",
   "id": "c5043fe0",
   "metadata": {},
   "source": [
    "### Câu 20"
   ]
  },
  {
   "cell_type": "markdown",
   "id": "e8d99486",
   "metadata": {},
   "source": [
    "Tạo mảng với giá trị từ 0 đến 1 cách đều nhau (sử dụng linspace)."
   ]
  },
  {
   "cell_type": "code",
   "execution_count": null,
   "id": "123746a9",
   "metadata": {},
   "outputs": [],
   "source": [
    "# Câu trả lời ở đây"
   ]
  },
  {
   "cell_type": "markdown",
   "id": "ffca205a",
   "metadata": {},
   "source": [
    "### Câu 21"
   ]
  },
  {
   "cell_type": "markdown",
   "id": "669546a0",
   "metadata": {},
   "source": [
    "Tạo mảng 3x3 với các giá trị từ 1 đến 9."
   ]
  },
  {
   "cell_type": "code",
   "execution_count": null,
   "id": "7a8d6f73",
   "metadata": {},
   "outputs": [],
   "source": [
    "# Câu trả lời ở đây"
   ]
  },
  {
   "cell_type": "markdown",
   "id": "5ea51da4",
   "metadata": {},
   "source": [
    "### Câu 22"
   ]
  },
  {
   "cell_type": "markdown",
   "id": "e5d9ad1a",
   "metadata": {},
   "source": [
    "Chuyển mảng 1 chiều thành mảng 2 chiều kích thước (3, 4)."
   ]
  },
  {
   "cell_type": "code",
   "execution_count": null,
   "id": "5ede0879",
   "metadata": {},
   "outputs": [],
   "source": [
    "# Câu trả lời ở đây"
   ]
  },
  {
   "cell_type": "markdown",
   "id": "1b5b0ddc",
   "metadata": {},
   "source": [
    "### Câu 23"
   ]
  },
  {
   "cell_type": "markdown",
   "id": "a3de2494",
   "metadata": {},
   "source": [
    "Gộp hai mảng 1 chiều thành một mảng 2 chiều (stack)."
   ]
  },
  {
   "cell_type": "code",
   "execution_count": null,
   "id": "645110b8",
   "metadata": {},
   "outputs": [],
   "source": [
    "# Câu trả lời ở đây"
   ]
  },
  {
   "cell_type": "markdown",
   "id": "aea0d026",
   "metadata": {},
   "source": [
    "### Câu 24"
   ]
  },
  {
   "cell_type": "markdown",
   "id": "52e5a7fd",
   "metadata": {},
   "source": [
    "Tách mảng 2 chiều thành các mảng nhỏ hơn."
   ]
  },
  {
   "cell_type": "code",
   "execution_count": null,
   "id": "1857c411",
   "metadata": {},
   "outputs": [],
   "source": [
    "# Câu trả lời ở đây"
   ]
  },
  {
   "cell_type": "markdown",
   "id": "8624875b",
   "metadata": {},
   "source": [
    "### Câu 25"
   ]
  },
  {
   "cell_type": "markdown",
   "id": "949f1b1f",
   "metadata": {},
   "source": [
    "Tạo một bản sao (copy) của mảng và thay đổi giá trị."
   ]
  },
  {
   "cell_type": "code",
   "execution_count": null,
   "id": "e17e3ee0",
   "metadata": {},
   "outputs": [],
   "source": [
    "# Câu trả lời ở đây"
   ]
  },
  {
   "cell_type": "markdown",
   "id": "8f2ac670",
   "metadata": {},
   "source": [
    "### Câu 26"
   ]
  },
  {
   "cell_type": "markdown",
   "id": "2ca19978",
   "metadata": {},
   "source": [
    "Thay thế tất cả phần tử âm trong mảng bằng 0."
   ]
  },
  {
   "cell_type": "code",
   "execution_count": null,
   "id": "bf7bd0fe",
   "metadata": {},
   "outputs": [],
   "source": [
    "# Câu trả lời ở đây"
   ]
  },
  {
   "cell_type": "markdown",
   "id": "06e18023",
   "metadata": {},
   "source": [
    "### Câu 27"
   ]
  },
  {
   "cell_type": "markdown",
   "id": "d61d1e1f",
   "metadata": {},
   "source": [
    "Tìm tất cả phần tử lớn hơn giá trị trung bình."
   ]
  },
  {
   "cell_type": "code",
   "execution_count": null,
   "id": "cd51526b",
   "metadata": {},
   "outputs": [],
   "source": [
    "# Câu trả lời ở đây"
   ]
  },
  {
   "cell_type": "markdown",
   "id": "dd174ee4",
   "metadata": {},
   "source": [
    "### Câu 28"
   ]
  },
  {
   "cell_type": "markdown",
   "id": "64817c93",
   "metadata": {},
   "source": [
    "Tính tích của 2 mảng cùng kích thước (element-wise)."
   ]
  },
  {
   "cell_type": "code",
   "execution_count": null,
   "id": "9b9527bb",
   "metadata": {},
   "outputs": [],
   "source": [
    "# Câu trả lời ở đây"
   ]
  },
  {
   "cell_type": "markdown",
   "id": "d933486c",
   "metadata": {},
   "source": [
    "### Câu 29"
   ]
  },
  {
   "cell_type": "markdown",
   "id": "7a0f815e",
   "metadata": {},
   "source": [
    "Tính tích ma trận giữa hai mảng 2 chiều."
   ]
  },
  {
   "cell_type": "code",
   "execution_count": null,
   "id": "9f1d5154",
   "metadata": {},
   "outputs": [],
   "source": [
    "# Câu trả lời ở đây"
   ]
  },
  {
   "cell_type": "markdown",
   "id": "c9aeeb89",
   "metadata": {},
   "source": [
    "### Câu 30"
   ]
  },
  {
   "cell_type": "markdown",
   "id": "a2c8b83e",
   "metadata": {},
   "source": [
    "Kiểm tra sự bằng nhau giữa hai mảng."
   ]
  },
  {
   "cell_type": "code",
   "execution_count": null,
   "id": "a7243366",
   "metadata": {},
   "outputs": [],
   "source": [
    "# Câu trả lời ở đây"
   ]
  },
  {
   "cell_type": "markdown",
   "id": "896def70",
   "metadata": {},
   "source": [
    "### Câu 31"
   ]
  },
  {
   "cell_type": "markdown",
   "id": "d74476b1",
   "metadata": {},
   "source": [
    "Lọc ra các phần tử chia hết cho 3 trong mảng."
   ]
  },
  {
   "cell_type": "code",
   "execution_count": null,
   "id": "b25eb73a",
   "metadata": {},
   "outputs": [],
   "source": [
    "# Câu trả lời ở đây"
   ]
  },
  {
   "cell_type": "markdown",
   "id": "e0c49b62",
   "metadata": {},
   "source": [
    "### Câu 32"
   ]
  },
  {
   "cell_type": "markdown",
   "id": "07ff0ff3",
   "metadata": {},
   "source": [
    "Tạo mảng boolean mask để chọn phần tử >5."
   ]
  },
  {
   "cell_type": "code",
   "execution_count": null,
   "id": "199a6237",
   "metadata": {},
   "outputs": [],
   "source": [
    "# Câu trả lời ở đây"
   ]
  },
  {
   "cell_type": "markdown",
   "id": "d31f1186",
   "metadata": {},
   "source": [
    "### Câu 33"
   ]
  },
  {
   "cell_type": "markdown",
   "id": "de496bdc",
   "metadata": {},
   "source": [
    "Sắp xếp mảng theo thứ tự tăng dần."
   ]
  },
  {
   "cell_type": "code",
   "execution_count": null,
   "id": "6735364b",
   "metadata": {},
   "outputs": [],
   "source": [
    "# Câu trả lời ở đây"
   ]
  },
  {
   "cell_type": "markdown",
   "id": "d41a761f",
   "metadata": {},
   "source": [
    "### Câu 34"
   ]
  },
  {
   "cell_type": "markdown",
   "id": "9ed4724f",
   "metadata": {},
   "source": [
    "Lấy ra 3 phần tử lớn nhất trong mảng."
   ]
  },
  {
   "cell_type": "code",
   "execution_count": null,
   "id": "46517527",
   "metadata": {},
   "outputs": [],
   "source": [
    "# Câu trả lời ở đây"
   ]
  },
  {
   "cell_type": "markdown",
   "id": "cd687a27",
   "metadata": {},
   "source": [
    "### Câu 35"
   ]
  },
  {
   "cell_type": "markdown",
   "id": "b4dc2631",
   "metadata": {},
   "source": [
    "Lấy ra phần tử duy nhất (không trùng) trong mảng."
   ]
  },
  {
   "cell_type": "code",
   "execution_count": null,
   "id": "77abf197",
   "metadata": {},
   "outputs": [],
   "source": [
    "# Câu trả lời ở đây"
   ]
  },
  {
   "cell_type": "markdown",
   "id": "d31ae740",
   "metadata": {},
   "source": [
    "### Câu 36"
   ]
  },
  {
   "cell_type": "markdown",
   "id": "8d815d13",
   "metadata": {},
   "source": [
    "Tạo mảng với hình dạng giống một mảng khác nhưng toàn số 0."
   ]
  },
  {
   "cell_type": "code",
   "execution_count": null,
   "id": "91e6cede",
   "metadata": {},
   "outputs": [],
   "source": [
    "# Câu trả lời ở đây"
   ]
  },
  {
   "cell_type": "markdown",
   "id": "842e1422",
   "metadata": {},
   "source": [
    "### Câu 37"
   ]
  },
  {
   "cell_type": "markdown",
   "id": "d6057866",
   "metadata": {},
   "source": [
    "Tính hiệu giữa hai mảng."
   ]
  },
  {
   "cell_type": "code",
   "execution_count": null,
   "id": "ff9c5d50",
   "metadata": {},
   "outputs": [],
   "source": [
    "# Câu trả lời ở đây"
   ]
  },
  {
   "cell_type": "markdown",
   "id": "29b785d5",
   "metadata": {},
   "source": [
    "### Câu 38"
   ]
  },
  {
   "cell_type": "markdown",
   "id": "fa6b30fb",
   "metadata": {},
   "source": [
    "Tính đạo hàm gần đúng bằng hiệu sai phân."
   ]
  },
  {
   "cell_type": "code",
   "execution_count": null,
   "id": "fbf8065d",
   "metadata": {},
   "outputs": [],
   "source": [
    "# Câu trả lời ở đây"
   ]
  },
  {
   "cell_type": "markdown",
   "id": "59d89dba",
   "metadata": {},
   "source": [
    "### Câu 39"
   ]
  },
  {
   "cell_type": "markdown",
   "id": "72a71a4b",
   "metadata": {},
   "source": [
    "Tạo ma trận tam giác trên và dưới."
   ]
  },
  {
   "cell_type": "code",
   "execution_count": null,
   "id": "a36112f5",
   "metadata": {},
   "outputs": [],
   "source": [
    "# Câu trả lời ở đây"
   ]
  },
  {
   "cell_type": "markdown",
   "id": "49bac9b1",
   "metadata": {},
   "source": [
    "### Câu 40"
   ]
  },
  {
   "cell_type": "markdown",
   "id": "a8e35c2a",
   "metadata": {},
   "source": [
    "Tính tích vô hướng (dot product) của hai vector."
   ]
  },
  {
   "cell_type": "code",
   "execution_count": null,
   "id": "8392edec",
   "metadata": {},
   "outputs": [],
   "source": [
    "# Câu trả lời ở đây"
   ]
  },
  {
   "cell_type": "markdown",
   "id": "50a34919",
   "metadata": {},
   "source": [
    "### Câu 41"
   ]
  },
  {
   "cell_type": "markdown",
   "id": "c33d3eaa",
   "metadata": {},
   "source": [
    "Tạo mảng 3 chiều kích thước (2,3,4) với giá trị bất kỳ."
   ]
  },
  {
   "cell_type": "code",
   "execution_count": null,
   "id": "5b60fadb",
   "metadata": {},
   "outputs": [],
   "source": [
    "# Câu trả lời ở đây"
   ]
  },
  {
   "cell_type": "markdown",
   "id": "2788cf87",
   "metadata": {},
   "source": [
    "### Câu 42"
   ]
  },
  {
   "cell_type": "markdown",
   "id": "78a043b6",
   "metadata": {},
   "source": [
    "Duyệt qua từng phần tử trong mảng 2 chiều."
   ]
  },
  {
   "cell_type": "code",
   "execution_count": null,
   "id": "2c3a75b9",
   "metadata": {},
   "outputs": [],
   "source": [
    "# Câu trả lời ở đây"
   ]
  },
  {
   "cell_type": "markdown",
   "id": "84f8b3ee",
   "metadata": {},
   "source": [
    "### Câu 43"
   ]
  },
  {
   "cell_type": "markdown",
   "id": "fcbe1999",
   "metadata": {},
   "source": [
    "Tính tổng các phần tử trên đường chéo chính của ma trận."
   ]
  },
  {
   "cell_type": "code",
   "execution_count": null,
   "id": "9681ed2d",
   "metadata": {},
   "outputs": [],
   "source": [
    "# Câu trả lời ở đây"
   ]
  },
  {
   "cell_type": "markdown",
   "id": "672b2fc5",
   "metadata": {},
   "source": [
    "### Câu 44"
   ]
  },
  {
   "cell_type": "markdown",
   "id": "796c4b5e",
   "metadata": {},
   "source": [
    "Tạo mảng số nguyên dạng reshaped từ 0-15 thành 4x4."
   ]
  },
  {
   "cell_type": "code",
   "execution_count": null,
   "id": "94e925fb",
   "metadata": {},
   "outputs": [],
   "source": [
    "# Câu trả lời ở đây"
   ]
  },
  {
   "cell_type": "markdown",
   "id": "29c06d78",
   "metadata": {},
   "source": [
    "### Câu 45"
   ]
  },
  {
   "cell_type": "markdown",
   "id": "e917f210",
   "metadata": {},
   "source": [
    "Thay đổi kích thước mảng từ (3,4) thành (2,6)."
   ]
  },
  {
   "cell_type": "code",
   "execution_count": null,
   "id": "f119f497",
   "metadata": {},
   "outputs": [],
   "source": [
    "# Câu trả lời ở đây"
   ]
  },
  {
   "cell_type": "markdown",
   "id": "d4168b24",
   "metadata": {},
   "source": [
    "### Câu 46"
   ]
  },
  {
   "cell_type": "markdown",
   "id": "5cdc1229",
   "metadata": {},
   "source": [
    "Gán tất cả phần tử lớn hơn 10 thành 10."
   ]
  },
  {
   "cell_type": "code",
   "execution_count": null,
   "id": "66fe10e4",
   "metadata": {},
   "outputs": [],
   "source": [
    "# Câu trả lời ở đây"
   ]
  },
  {
   "cell_type": "markdown",
   "id": "02c3b15a",
   "metadata": {},
   "source": [
    "### Câu 47"
   ]
  },
  {
   "cell_type": "markdown",
   "id": "4bdd1888",
   "metadata": {},
   "source": [
    "Kiểm tra một phần tử có nằm trong mảng hay không."
   ]
  },
  {
   "cell_type": "code",
   "execution_count": null,
   "id": "be9fc8c5",
   "metadata": {},
   "outputs": [],
   "source": [
    "# Câu trả lời ở đây"
   ]
  },
  {
   "cell_type": "markdown",
   "id": "b1b79478",
   "metadata": {},
   "source": [
    "### Câu 48"
   ]
  },
  {
   "cell_type": "markdown",
   "id": "916f2f05",
   "metadata": {},
   "source": [
    "Tính tổng tích lũy (cumulative sum) của mảng."
   ]
  },
  {
   "cell_type": "code",
   "execution_count": null,
   "id": "55ce20d3",
   "metadata": {},
   "outputs": [],
   "source": [
    "# Câu trả lời ở đây"
   ]
  },
  {
   "cell_type": "markdown",
   "id": "7822d634",
   "metadata": {},
   "source": [
    "### Câu 49"
   ]
  },
  {
   "cell_type": "markdown",
   "id": "65b04525",
   "metadata": {},
   "source": [
    "Chuyển đổi mảng 2 chiều thành 1 chiều."
   ]
  },
  {
   "cell_type": "code",
   "execution_count": null,
   "id": "ed53c579",
   "metadata": {},
   "outputs": [],
   "source": [
    "# Câu trả lời ở đây"
   ]
  }
 ],
 "metadata": {
  "kernelspec": {
   "display_name": "Python 3 (ipykernel)",
   "language": "python",
   "name": "python3"
  },
  "language_info": {
   "codemirror_mode": {
    "name": "ipython",
    "version": 3
   },
   "file_extension": ".py",
   "mimetype": "text/x-python",
   "name": "python",
   "nbconvert_exporter": "python",
   "pygments_lexer": "ipython3",
   "version": "3.13.2"
  }
 },
 "nbformat": 4,
 "nbformat_minor": 5
}
