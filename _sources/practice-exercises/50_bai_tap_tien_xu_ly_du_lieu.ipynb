{
 "cells": [
  {
   "cell_type": "markdown",
   "id": "ab9626e5-3cff-42da-9a9d-2411b51d83b6",
   "metadata": {},
   "source": [
    "# Tiền xử lý dữ liệu"
   ]
  },
  {
   "cell_type": "markdown",
   "id": "b5651c37",
   "metadata": {},
   "source": [
    "### Câu 1 - Tiền xử lý dữ liệu"
   ]
  },
  {
   "cell_type": "markdown",
   "id": "eed05749",
   "metadata": {},
   "source": [
    "Tải dữ liệu Iris từ sklearn và hiển thị 5 dòng đầu tiên."
   ]
  },
  {
   "cell_type": "code",
   "execution_count": null,
   "id": "31016b3d",
   "metadata": {},
   "outputs": [],
   "source": [
    "# Câu trả lời ở đây"
   ]
  },
  {
   "cell_type": "markdown",
   "id": "803a8f6d",
   "metadata": {},
   "source": [
    "### Câu 2 - Tiền xử lý dữ liệu"
   ]
  },
  {
   "cell_type": "markdown",
   "id": "c16ca84e",
   "metadata": {},
   "source": [
    "Kiểm tra các giá trị null trong dữ liệu Iris."
   ]
  },
  {
   "cell_type": "code",
   "execution_count": null,
   "id": "75260aad",
   "metadata": {},
   "outputs": [],
   "source": [
    "# Câu trả lời ở đây"
   ]
  },
  {
   "cell_type": "markdown",
   "id": "ecb0988f",
   "metadata": {},
   "source": [
    "### Câu 3 - Tiền xử lý dữ liệu"
   ]
  },
  {
   "cell_type": "markdown",
   "id": "100ac7d5",
   "metadata": {},
   "source": [
    "Chuyển đổi dữ liệu Iris thành DataFrame và thêm cột tên loài."
   ]
  },
  {
   "cell_type": "code",
   "execution_count": null,
   "id": "bdfefef0",
   "metadata": {},
   "outputs": [],
   "source": [
    "# Câu trả lời ở đây"
   ]
  },
  {
   "cell_type": "markdown",
   "id": "3db191bf",
   "metadata": {},
   "source": [
    "### Câu 4 - Tiền xử lý dữ liệu"
   ]
  },
  {
   "cell_type": "markdown",
   "id": "5a067a4b",
   "metadata": {},
   "source": [
    "Mã hóa cột tên loài bằng LabelEncoder."
   ]
  },
  {
   "cell_type": "code",
   "execution_count": null,
   "id": "2fe3f02d",
   "metadata": {},
   "outputs": [],
   "source": [
    "# Câu trả lời ở đây"
   ]
  },
  {
   "cell_type": "markdown",
   "id": "2ba9e2bc",
   "metadata": {},
   "source": [
    "### Câu 5 - Tiền xử lý dữ liệu"
   ]
  },
  {
   "cell_type": "markdown",
   "id": "19c8d67f",
   "metadata": {},
   "source": [
    "Sử dụng OneHotEncoder để biến đổi cột loài."
   ]
  },
  {
   "cell_type": "code",
   "execution_count": null,
   "id": "4c0edb0a",
   "metadata": {},
   "outputs": [],
   "source": [
    "# Câu trả lời ở đây"
   ]
  },
  {
   "cell_type": "markdown",
   "id": "3420faaa",
   "metadata": {},
   "source": [
    "### Câu 6 - Tiền xử lý dữ liệu"
   ]
  },
  {
   "cell_type": "markdown",
   "id": "1a84e30e",
   "metadata": {},
   "source": [
    "Chuẩn hóa dữ liệu Iris bằng StandardScaler."
   ]
  },
  {
   "cell_type": "code",
   "execution_count": null,
   "id": "8995c82d",
   "metadata": {},
   "outputs": [],
   "source": [
    "# Câu trả lời ở đây"
   ]
  },
  {
   "cell_type": "markdown",
   "id": "b6813198",
   "metadata": {},
   "source": [
    "### Câu 7 - Tiền xử lý dữ liệu"
   ]
  },
  {
   "cell_type": "markdown",
   "id": "75b2a6d0",
   "metadata": {},
   "source": [
    "Chuẩn hóa dữ liệu bằng MinMaxScaler."
   ]
  },
  {
   "cell_type": "code",
   "execution_count": null,
   "id": "64d795f8",
   "metadata": {},
   "outputs": [],
   "source": [
    "# Câu trả lời ở đây"
   ]
  },
  {
   "cell_type": "markdown",
   "id": "36c50e55",
   "metadata": {},
   "source": [
    "### Câu 8 - Tiền xử lý dữ liệu"
   ]
  },
  {
   "cell_type": "markdown",
   "id": "32ec4c29",
   "metadata": {},
   "source": [
    "Tạo pipeline gồm chuẩn hóa và mô hình phân loại."
   ]
  },
  {
   "cell_type": "code",
   "execution_count": null,
   "id": "eb161e11",
   "metadata": {},
   "outputs": [],
   "source": [
    "# Câu trả lời ở đây"
   ]
  },
  {
   "cell_type": "markdown",
   "id": "cf18a35f",
   "metadata": {},
   "source": [
    "### Câu 9 - Tiền xử lý dữ liệu"
   ]
  },
  {
   "cell_type": "markdown",
   "id": "38b7278e",
   "metadata": {},
   "source": [
    "Tính các thống kê mô tả cho từng đặc trưng theo từng loài."
   ]
  },
  {
   "cell_type": "code",
   "execution_count": null,
   "id": "f5d44262",
   "metadata": {},
   "outputs": [],
   "source": [
    "# Câu trả lời ở đây"
   ]
  },
  {
   "cell_type": "markdown",
   "id": "233f2d56",
   "metadata": {},
   "source": [
    "### Câu 10 - Tiền xử lý dữ liệu"
   ]
  },
  {
   "cell_type": "markdown",
   "id": "9e91f047",
   "metadata": {},
   "source": [
    "Vẽ biểu đồ pairplot dữ liệu đã chuẩn hóa."
   ]
  },
  {
   "cell_type": "code",
   "execution_count": null,
   "id": "ece43e5e",
   "metadata": {},
   "outputs": [],
   "source": [
    "# Câu trả lời ở đây"
   ]
  },
  {
   "cell_type": "markdown",
   "id": "e6277814",
   "metadata": {},
   "source": [
    "### Câu 11 - Tiền xử lý dữ liệu"
   ]
  },
  {
   "cell_type": "markdown",
   "id": "4f8e49e7",
   "metadata": {},
   "source": [
    "Sử dụng PCA để giảm chiều dữ liệu Iris xuống 2 chiều."
   ]
  },
  {
   "cell_type": "code",
   "execution_count": null,
   "id": "058704b0",
   "metadata": {},
   "outputs": [],
   "source": [
    "# Câu trả lời ở đây"
   ]
  },
  {
   "cell_type": "markdown",
   "id": "1856c449",
   "metadata": {},
   "source": [
    "### Câu 12 - Tiền xử lý dữ liệu"
   ]
  },
  {
   "cell_type": "markdown",
   "id": "6ac7c6bb",
   "metadata": {},
   "source": [
    "Chuẩn hóa dữ liệu và trực quan hóa PCA bằng scatter plot."
   ]
  },
  {
   "cell_type": "code",
   "execution_count": null,
   "id": "43d69a18",
   "metadata": {},
   "outputs": [],
   "source": [
    "# Câu trả lời ở đây"
   ]
  },
  {
   "cell_type": "markdown",
   "id": "c6cccb2f",
   "metadata": {},
   "source": [
    "### Câu 13 - Tiền xử lý dữ liệu"
   ]
  },
  {
   "cell_type": "markdown",
   "id": "92dd5a93",
   "metadata": {},
   "source": [
    "Sử dụng PolynomialFeatures để tạo tương tác giữa các đặc trưng."
   ]
  },
  {
   "cell_type": "code",
   "execution_count": null,
   "id": "05f69f5c",
   "metadata": {},
   "outputs": [],
   "source": [
    "# Câu trả lời ở đây"
   ]
  },
  {
   "cell_type": "markdown",
   "id": "95f0d9f3",
   "metadata": {},
   "source": [
    "### Câu 14 - Tiền xử lý dữ liệu"
   ]
  },
  {
   "cell_type": "markdown",
   "id": "2accec95",
   "metadata": {},
   "source": [
    "Tạo pipeline gồm polynomial + scaler + logistic regression."
   ]
  },
  {
   "cell_type": "code",
   "execution_count": null,
   "id": "e9c9902b",
   "metadata": {},
   "outputs": [],
   "source": [
    "# Câu trả lời ở đây"
   ]
  },
  {
   "cell_type": "markdown",
   "id": "fbce534e",
   "metadata": {},
   "source": [
    "### Câu 15 - Tiền xử lý dữ liệu"
   ]
  },
  {
   "cell_type": "markdown",
   "id": "31797a85",
   "metadata": {},
   "source": [
    "Sử dụng SelectKBest để chọn ra 2 đặc trưng quan trọng nhất."
   ]
  },
  {
   "cell_type": "code",
   "execution_count": null,
   "id": "c9515304",
   "metadata": {},
   "outputs": [],
   "source": [
    "# Câu trả lời ở đây"
   ]
  },
  {
   "cell_type": "markdown",
   "id": "fff92d00",
   "metadata": {},
   "source": [
    "### Câu 16 - Tiền xử lý dữ liệu"
   ]
  },
  {
   "cell_type": "markdown",
   "id": "5b4805ea",
   "metadata": {},
   "source": [
    "Tải dữ liệu Boston Housing và chuyển thành DataFrame."
   ]
  },
  {
   "cell_type": "code",
   "execution_count": null,
   "id": "6da934ca",
   "metadata": {},
   "outputs": [],
   "source": [
    "# Câu trả lời ở đây"
   ]
  },
  {
   "cell_type": "markdown",
   "id": "274f62c0",
   "metadata": {},
   "source": [
    "### Câu 17 - Tiền xử lý dữ liệu"
   ]
  },
  {
   "cell_type": "markdown",
   "id": "e11d607a",
   "metadata": {},
   "source": [
    "Hiển thị thông tin kiểu dữ liệu và kiểm tra missing value."
   ]
  },
  {
   "cell_type": "code",
   "execution_count": null,
   "id": "f9775aca",
   "metadata": {},
   "outputs": [],
   "source": [
    "# Câu trả lời ở đây"
   ]
  },
  {
   "cell_type": "markdown",
   "id": "75ba67fa",
   "metadata": {},
   "source": [
    "### Câu 18 - Tiền xử lý dữ liệu"
   ]
  },
  {
   "cell_type": "markdown",
   "id": "2bc83563",
   "metadata": {},
   "source": [
    "Chuẩn hóa toàn bộ dữ liệu (trừ biến MEDV)."
   ]
  },
  {
   "cell_type": "code",
   "execution_count": null,
   "id": "8e92f6ab",
   "metadata": {},
   "outputs": [],
   "source": [
    "# Câu trả lời ở đây"
   ]
  },
  {
   "cell_type": "markdown",
   "id": "aa5c2214",
   "metadata": {},
   "source": [
    "### Câu 19 - Tiền xử lý dữ liệu"
   ]
  },
  {
   "cell_type": "markdown",
   "id": "c278302a",
   "metadata": {},
   "source": [
    "Tạo cột phân loại giá nhà cao/thấp theo median."
   ]
  },
  {
   "cell_type": "code",
   "execution_count": null,
   "id": "de1ea34a",
   "metadata": {},
   "outputs": [],
   "source": [
    "# Câu trả lời ở đây"
   ]
  },
  {
   "cell_type": "markdown",
   "id": "c00f8091",
   "metadata": {},
   "source": [
    "### Câu 20 - Tiền xử lý dữ liệu"
   ]
  },
  {
   "cell_type": "markdown",
   "id": "2d26b52c",
   "metadata": {},
   "source": [
    "Mã hóa biến phân loại bằng LabelEncoder."
   ]
  },
  {
   "cell_type": "code",
   "execution_count": null,
   "id": "92e326ad",
   "metadata": {},
   "outputs": [],
   "source": [
    "# Câu trả lời ở đây"
   ]
  },
  {
   "cell_type": "markdown",
   "id": "7a968b59",
   "metadata": {},
   "source": [
    "### Câu 21 - Tiền xử lý dữ liệu"
   ]
  },
  {
   "cell_type": "markdown",
   "id": "402e8dc5",
   "metadata": {},
   "source": [
    "Tính IQR và loại bỏ các outlier trong biến CRIM."
   ]
  },
  {
   "cell_type": "code",
   "execution_count": null,
   "id": "4452a071",
   "metadata": {},
   "outputs": [],
   "source": [
    "# Câu trả lời ở đây"
   ]
  },
  {
   "cell_type": "markdown",
   "id": "355aa72f",
   "metadata": {},
   "source": [
    "### Câu 22 - Tiền xử lý dữ liệu"
   ]
  },
  {
   "cell_type": "markdown",
   "id": "724b9eb2",
   "metadata": {},
   "source": [
    "Sử dụng RobustScaler để chuẩn hóa các biến có outlier."
   ]
  },
  {
   "cell_type": "code",
   "execution_count": null,
   "id": "dd4804d0",
   "metadata": {},
   "outputs": [],
   "source": [
    "# Câu trả lời ở đây"
   ]
  },
  {
   "cell_type": "markdown",
   "id": "412e9244",
   "metadata": {},
   "source": [
    "### Câu 23 - Tiền xử lý dữ liệu"
   ]
  },
  {
   "cell_type": "markdown",
   "id": "2f312504",
   "metadata": {},
   "source": [
    "Sử dụng StandardScaler và so sánh với MinMaxScaler."
   ]
  },
  {
   "cell_type": "code",
   "execution_count": null,
   "id": "d7b1e5be",
   "metadata": {},
   "outputs": [],
   "source": [
    "# Câu trả lời ở đây"
   ]
  },
  {
   "cell_type": "markdown",
   "id": "8c20679f",
   "metadata": {},
   "source": [
    "### Câu 24 - Tiền xử lý dữ liệu"
   ]
  },
  {
   "cell_type": "markdown",
   "id": "4fe17433",
   "metadata": {},
   "source": [
    "Tạo pipeline chuẩn hóa + hồi quy tuyến tính."
   ]
  },
  {
   "cell_type": "code",
   "execution_count": null,
   "id": "3e9c96da",
   "metadata": {},
   "outputs": [],
   "source": [
    "# Câu trả lời ở đây"
   ]
  },
  {
   "cell_type": "markdown",
   "id": "bc4f6a8a",
   "metadata": {},
   "source": [
    "### Câu 25 - Tiền xử lý dữ liệu"
   ]
  },
  {
   "cell_type": "markdown",
   "id": "a821c564",
   "metadata": {},
   "source": [
    "Tạo phân nhóm giá nhà theo ngưỡng [<20, 20-30, >30]."
   ]
  },
  {
   "cell_type": "code",
   "execution_count": null,
   "id": "ad072370",
   "metadata": {},
   "outputs": [],
   "source": [
    "# Câu trả lời ở đây"
   ]
  },
  {
   "cell_type": "markdown",
   "id": "d7824c68",
   "metadata": {},
   "source": [
    "### Câu 26 - Tiền xử lý dữ liệu"
   ]
  },
  {
   "cell_type": "markdown",
   "id": "d9416f54",
   "metadata": {},
   "source": [
    "Biến đổi dữ liệu theo log-transform cho biến skewed."
   ]
  },
  {
   "cell_type": "code",
   "execution_count": null,
   "id": "7420714f",
   "metadata": {},
   "outputs": [],
   "source": [
    "# Câu trả lời ở đây"
   ]
  },
  {
   "cell_type": "markdown",
   "id": "e756037b",
   "metadata": {},
   "source": [
    "### Câu 27 - Tiền xử lý dữ liệu"
   ]
  },
  {
   "cell_type": "markdown",
   "id": "8e0b4ac2",
   "metadata": {},
   "source": [
    "Chuẩn hóa rồi áp dụng PCA giữ 95% phương sai."
   ]
  },
  {
   "cell_type": "code",
   "execution_count": null,
   "id": "45c8713e",
   "metadata": {},
   "outputs": [],
   "source": [
    "# Câu trả lời ở đây"
   ]
  },
  {
   "cell_type": "markdown",
   "id": "944cb8fa",
   "metadata": {},
   "source": [
    "### Câu 28 - Tiền xử lý dữ liệu"
   ]
  },
  {
   "cell_type": "markdown",
   "id": "50fd1b7e",
   "metadata": {},
   "source": [
    "Lọc ra các đặc trưng có tương quan < 0.1 với MEDV."
   ]
  },
  {
   "cell_type": "code",
   "execution_count": null,
   "id": "3d2903b2",
   "metadata": {},
   "outputs": [],
   "source": [
    "# Câu trả lời ở đây"
   ]
  },
  {
   "cell_type": "markdown",
   "id": "a61aaddb",
   "metadata": {},
   "source": [
    "### Câu 29 - Tiền xử lý dữ liệu"
   ]
  },
  {
   "cell_type": "markdown",
   "id": "adc1f684",
   "metadata": {},
   "source": [
    "Sử dụng SelectKBest để chọn top 5 đặc trưng."
   ]
  },
  {
   "cell_type": "code",
   "execution_count": null,
   "id": "993eab6c",
   "metadata": {},
   "outputs": [],
   "source": [
    "# Câu trả lời ở đây"
   ]
  },
  {
   "cell_type": "markdown",
   "id": "c2975aaa",
   "metadata": {},
   "source": [
    "### Câu 30 - Tiền xử lý dữ liệu"
   ]
  },
  {
   "cell_type": "markdown",
   "id": "e6124264",
   "metadata": {},
   "source": [
    "Tạo mới biến tương tác: RM * LSTAT."
   ]
  },
  {
   "cell_type": "code",
   "execution_count": null,
   "id": "8c274e13",
   "metadata": {},
   "outputs": [],
   "source": [
    "# Câu trả lời ở đây"
   ]
  },
  {
   "cell_type": "markdown",
   "id": "76eeccf0",
   "metadata": {},
   "source": [
    "### Câu 31 - Tiền xử lý dữ liệu"
   ]
  },
  {
   "cell_type": "markdown",
   "id": "23165f53",
   "metadata": {},
   "source": [
    "Sử dụng OneHotEncoder cho biến RAD."
   ]
  },
  {
   "cell_type": "code",
   "execution_count": null,
   "id": "948df714",
   "metadata": {},
   "outputs": [],
   "source": [
    "# Câu trả lời ở đây"
   ]
  },
  {
   "cell_type": "markdown",
   "id": "6fbbe9b5",
   "metadata": {},
   "source": [
    "### Câu 32 - Tiền xử lý dữ liệu"
   ]
  },
  {
   "cell_type": "markdown",
   "id": "f2453fa2",
   "metadata": {},
   "source": [
    "Thêm cột có giá trị là xếp hạng giá nhà (low, medium, high)."
   ]
  },
  {
   "cell_type": "code",
   "execution_count": null,
   "id": "bd999c27",
   "metadata": {},
   "outputs": [],
   "source": [
    "# Câu trả lời ở đây"
   ]
  },
  {
   "cell_type": "markdown",
   "id": "49c6af99",
   "metadata": {},
   "source": [
    "### Câu 33 - Tiền xử lý dữ liệu"
   ]
  },
  {
   "cell_type": "markdown",
   "id": "68c62cc8",
   "metadata": {},
   "source": [
    "Kiểm tra multicollinearity bằng Variance Inflation Factor (VIF)."
   ]
  },
  {
   "cell_type": "code",
   "execution_count": null,
   "id": "390e01f0",
   "metadata": {},
   "outputs": [],
   "source": [
    "# Câu trả lời ở đây"
   ]
  },
  {
   "cell_type": "markdown",
   "id": "cc384e2b",
   "metadata": {},
   "source": [
    "### Câu 34 - Tiền xử lý dữ liệu"
   ]
  },
  {
   "cell_type": "markdown",
   "id": "7faa3b97",
   "metadata": {},
   "source": [
    "Chia dữ liệu thành train/test, chuẩn hóa rồi huấn luyện mô hình."
   ]
  },
  {
   "cell_type": "code",
   "execution_count": null,
   "id": "86463d5e",
   "metadata": {},
   "outputs": [],
   "source": [
    "# Câu trả lời ở đây"
   ]
  },
  {
   "cell_type": "markdown",
   "id": "5c756c4c",
   "metadata": {},
   "source": [
    "### Câu 35 - Tiền xử lý dữ liệu"
   ]
  },
  {
   "cell_type": "markdown",
   "id": "00a3881a",
   "metadata": {},
   "source": [
    "Tạo pipeline đầy đủ từ xử lý dữ liệu đến hồi quy Ridge."
   ]
  },
  {
   "cell_type": "code",
   "execution_count": null,
   "id": "d66e53d2",
   "metadata": {},
   "outputs": [],
   "source": [
    "# Câu trả lời ở đây"
   ]
  },
  {
   "cell_type": "markdown",
   "id": "5a23dc7b",
   "metadata": {},
   "source": [
    "### Câu 36 - Tiền xử lý dữ liệu"
   ]
  },
  {
   "cell_type": "markdown",
   "id": "ba129b02",
   "metadata": {},
   "source": [
    "Tải dữ liệu ung thư từ sklearn và tạo DataFrame."
   ]
  },
  {
   "cell_type": "code",
   "execution_count": null,
   "id": "65d9d4ab",
   "metadata": {},
   "outputs": [],
   "source": [
    "# Câu trả lời ở đây"
   ]
  },
  {
   "cell_type": "markdown",
   "id": "3f49214a",
   "metadata": {},
   "source": [
    "### Câu 37 - Tiền xử lý dữ liệu"
   ]
  },
  {
   "cell_type": "markdown",
   "id": "6d47728a",
   "metadata": {},
   "source": [
    "Chuyển diagnosis thành nhãn 0 (benign), 1 (malignant)."
   ]
  },
  {
   "cell_type": "code",
   "execution_count": null,
   "id": "d2d47a9f",
   "metadata": {},
   "outputs": [],
   "source": [
    "# Câu trả lời ở đây"
   ]
  },
  {
   "cell_type": "markdown",
   "id": "cd117d56",
   "metadata": {},
   "source": [
    "### Câu 38 - Tiền xử lý dữ liệu"
   ]
  },
  {
   "cell_type": "markdown",
   "id": "59b745eb",
   "metadata": {},
   "source": [
    "Kiểm tra tỷ lệ nhãn trong dữ liệu."
   ]
  },
  {
   "cell_type": "code",
   "execution_count": null,
   "id": "60b18971",
   "metadata": {},
   "outputs": [],
   "source": [
    "# Câu trả lời ở đây"
   ]
  },
  {
   "cell_type": "markdown",
   "id": "2a84d835",
   "metadata": {},
   "source": [
    "### Câu 39 - Tiền xử lý dữ liệu"
   ]
  },
  {
   "cell_type": "markdown",
   "id": "04bf82a2",
   "metadata": {},
   "source": [
    "Tính trung bình, độ lệch chuẩn cho từng loại chẩn đoán."
   ]
  },
  {
   "cell_type": "code",
   "execution_count": null,
   "id": "63de0539",
   "metadata": {},
   "outputs": [],
   "source": [
    "# Câu trả lời ở đây"
   ]
  },
  {
   "cell_type": "markdown",
   "id": "7f53e7f3",
   "metadata": {},
   "source": [
    "### Câu 40 - Tiền xử lý dữ liệu"
   ]
  },
  {
   "cell_type": "markdown",
   "id": "208c6591",
   "metadata": {},
   "source": [
    "Chuẩn hóa toàn bộ đặc trưng bằng StandardScaler."
   ]
  },
  {
   "cell_type": "code",
   "execution_count": null,
   "id": "49e0e329",
   "metadata": {},
   "outputs": [],
   "source": [
    "# Câu trả lời ở đây"
   ]
  },
  {
   "cell_type": "markdown",
   "id": "9f081fd9",
   "metadata": {},
   "source": [
    "### Câu 41 - Tiền xử lý dữ liệu"
   ]
  },
  {
   "cell_type": "markdown",
   "id": "068e07b6",
   "metadata": {},
   "source": [
    "Sử dụng MinMaxScaler cho các đặc trưng đầu tiên."
   ]
  },
  {
   "cell_type": "code",
   "execution_count": null,
   "id": "e67a42e5",
   "metadata": {},
   "outputs": [],
   "source": [
    "# Câu trả lời ở đây"
   ]
  },
  {
   "cell_type": "markdown",
   "id": "63ef4719",
   "metadata": {},
   "source": [
    "### Câu 42 - Tiền xử lý dữ liệu"
   ]
  },
  {
   "cell_type": "markdown",
   "id": "d3ee0845",
   "metadata": {},
   "source": [
    "Biến đổi skewed feature bằng log1p."
   ]
  },
  {
   "cell_type": "code",
   "execution_count": null,
   "id": "e8e49501",
   "metadata": {},
   "outputs": [],
   "source": [
    "# Câu trả lời ở đây"
   ]
  },
  {
   "cell_type": "markdown",
   "id": "43113b8a",
   "metadata": {},
   "source": [
    "### Câu 43 - Tiền xử lý dữ liệu"
   ]
  },
  {
   "cell_type": "markdown",
   "id": "dfdacfac",
   "metadata": {},
   "source": [
    "Sử dụng PCA để giảm chiều dữ liệu còn 3 thành phần."
   ]
  },
  {
   "cell_type": "code",
   "execution_count": null,
   "id": "87997787",
   "metadata": {},
   "outputs": [],
   "source": [
    "# Câu trả lời ở đây"
   ]
  },
  {
   "cell_type": "markdown",
   "id": "af8cb71b",
   "metadata": {},
   "source": [
    "### Câu 44 - Tiền xử lý dữ liệu"
   ]
  },
  {
   "cell_type": "markdown",
   "id": "61498587",
   "metadata": {},
   "source": [
    "Tạo biểu đồ scatter các thành phần chính (PCA)."
   ]
  },
  {
   "cell_type": "code",
   "execution_count": null,
   "id": "9e3477f1",
   "metadata": {},
   "outputs": [],
   "source": [
    "# Câu trả lời ở đây"
   ]
  },
  {
   "cell_type": "markdown",
   "id": "12e94289",
   "metadata": {},
   "source": [
    "### Câu 45 - Tiền xử lý dữ liệu"
   ]
  },
  {
   "cell_type": "markdown",
   "id": "4a190c94",
   "metadata": {},
   "source": [
    "Tạo pipeline chuẩn hóa + PCA + logistic regression."
   ]
  },
  {
   "cell_type": "code",
   "execution_count": null,
   "id": "1b845816",
   "metadata": {},
   "outputs": [],
   "source": [
    "# Câu trả lời ở đây"
   ]
  },
  {
   "cell_type": "markdown",
   "id": "b5efb72a",
   "metadata": {},
   "source": [
    "### Câu 46 - Tiền xử lý dữ liệu"
   ]
  },
  {
   "cell_type": "markdown",
   "id": "90787fab",
   "metadata": {},
   "source": [
    "Sử dụng SelectKBest để chọn đặc trưng với độ phân tách cao nhất."
   ]
  },
  {
   "cell_type": "code",
   "execution_count": null,
   "id": "0ce97c6e",
   "metadata": {},
   "outputs": [],
   "source": [
    "# Câu trả lời ở đây"
   ]
  },
  {
   "cell_type": "markdown",
   "id": "f7cd01f4",
   "metadata": {},
   "source": [
    "### Câu 47 - Tiền xử lý dữ liệu"
   ]
  },
  {
   "cell_type": "markdown",
   "id": "78c95715",
   "metadata": {},
   "source": [
    "Áp dụng RobustScaler cho toàn bộ đặc trưng."
   ]
  },
  {
   "cell_type": "code",
   "execution_count": null,
   "id": "4cd690c0",
   "metadata": {},
   "outputs": [],
   "source": [
    "# Câu trả lời ở đây"
   ]
  },
  {
   "cell_type": "markdown",
   "id": "1ef5264e",
   "metadata": {},
   "source": [
    "### Câu 48 - Tiền xử lý dữ liệu"
   ]
  },
  {
   "cell_type": "markdown",
   "id": "4fd1a1da",
   "metadata": {},
   "source": [
    "Kiểm tra giá trị trùng lặp trong dữ liệu."
   ]
  },
  {
   "cell_type": "code",
   "execution_count": null,
   "id": "1d999246",
   "metadata": {},
   "outputs": [],
   "source": [
    "# Câu trả lời ở đây"
   ]
  },
  {
   "cell_type": "markdown",
   "id": "296ad5ef",
   "metadata": {},
   "source": [
    "### Câu 49 - Tiền xử lý dữ liệu"
   ]
  },
  {
   "cell_type": "markdown",
   "id": "0b94cf22",
   "metadata": {},
   "source": [
    "Chia dữ liệu train/test và chuẩn hóa độc lập cho mỗi phần."
   ]
  },
  {
   "cell_type": "code",
   "execution_count": null,
   "id": "cc196643",
   "metadata": {},
   "outputs": [],
   "source": [
    "# Câu trả lời ở đây"
   ]
  },
  {
   "cell_type": "markdown",
   "id": "d796f0e3",
   "metadata": {},
   "source": [
    "### Câu 50 - Tiền xử lý dữ liệu"
   ]
  },
  {
   "cell_type": "markdown",
   "id": "2c3ec141",
   "metadata": {},
   "source": [
    "Tạo biểu đồ heatmap tương quan đặc trưng sau khi chuẩn hóa."
   ]
  },
  {
   "cell_type": "code",
   "execution_count": null,
   "id": "ba138944",
   "metadata": {},
   "outputs": [],
   "source": [
    "# Câu trả lời ở đây"
   ]
  }
 ],
 "metadata": {
  "kernelspec": {
   "display_name": "Python 3 (ipykernel)",
   "language": "python",
   "name": "python3"
  },
  "language_info": {
   "codemirror_mode": {
    "name": "ipython",
    "version": 3
   },
   "file_extension": ".py",
   "mimetype": "text/x-python",
   "name": "python",
   "nbconvert_exporter": "python",
   "pygments_lexer": "ipython3",
   "version": "3.13.2"
  }
 },
 "nbformat": 4,
 "nbformat_minor": 5
}
