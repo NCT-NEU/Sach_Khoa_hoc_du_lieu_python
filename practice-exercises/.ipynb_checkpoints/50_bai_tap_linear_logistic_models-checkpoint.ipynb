{
 "cells": [
  {
   "cell_type": "markdown",
   "id": "6e2f3eef",
   "metadata": {},
   "source": [
    "### Câu 1 - Linear Regression - Boston Housing"
   ]
  },
  {
   "cell_type": "markdown",
   "id": "bce7cfce",
   "metadata": {},
   "source": [
    "Tải dữ liệu Boston Housing từ sklearn và chuyển thành DataFrame."
   ]
  },
  {
   "cell_type": "code",
   "execution_count": null,
   "id": "6f8945c9",
   "metadata": {},
   "outputs": [],
   "source": [
    "# Câu trả lời ở đây"
   ]
  },
  {
   "cell_type": "markdown",
   "id": "d0338b10",
   "metadata": {},
   "source": [
    "### Câu 2 - Linear Regression - Boston Housing"
   ]
  },
  {
   "cell_type": "markdown",
   "id": "a48c4cde",
   "metadata": {},
   "source": [
    "Chia dữ liệu thành tập huấn luyện và kiểm tra (80/20)."
   ]
  },
  {
   "cell_type": "code",
   "execution_count": null,
   "id": "5682ff41",
   "metadata": {},
   "outputs": [],
   "source": [
    "# Câu trả lời ở đây"
   ]
  },
  {
   "cell_type": "markdown",
   "id": "05251656",
   "metadata": {},
   "source": [
    "### Câu 3 - Linear Regression - Boston Housing"
   ]
  },
  {
   "cell_type": "markdown",
   "id": "b6125173",
   "metadata": {},
   "source": [
    "Huấn luyện mô hình hồi quy tuyến tính để dự đoán MEDV."
   ]
  },
  {
   "cell_type": "code",
   "execution_count": null,
   "id": "69f02900",
   "metadata": {},
   "outputs": [],
   "source": [
    "# Câu trả lời ở đây"
   ]
  },
  {
   "cell_type": "markdown",
   "id": "1d5f4aea",
   "metadata": {},
   "source": [
    "### Câu 4 - Linear Regression - Boston Housing"
   ]
  },
  {
   "cell_type": "markdown",
   "id": "6e3c5a13",
   "metadata": {},
   "source": [
    "Hiển thị hệ số và intercept của mô hình tuyến tính."
   ]
  },
  {
   "cell_type": "code",
   "execution_count": null,
   "id": "7bddc4c9",
   "metadata": {},
   "outputs": [],
   "source": [
    "# Câu trả lời ở đây"
   ]
  },
  {
   "cell_type": "markdown",
   "id": "6c5413a1",
   "metadata": {},
   "source": [
    "### Câu 5 - Linear Regression - Boston Housing"
   ]
  },
  {
   "cell_type": "markdown",
   "id": "dd518484",
   "metadata": {},
   "source": [
    "Dự đoán giá nhà trên tập kiểm tra và tính MAE, MSE, RMSE."
   ]
  },
  {
   "cell_type": "code",
   "execution_count": null,
   "id": "cb54b7d8",
   "metadata": {},
   "outputs": [],
   "source": [
    "# Câu trả lời ở đây"
   ]
  },
  {
   "cell_type": "markdown",
   "id": "b5810688",
   "metadata": {},
   "source": [
    "### Câu 6 - Linear Regression - Boston Housing"
   ]
  },
  {
   "cell_type": "markdown",
   "id": "5794f8e9",
   "metadata": {},
   "source": [
    "Vẽ biểu đồ scatter giữa giá nhà thực tế và dự đoán."
   ]
  },
  {
   "cell_type": "code",
   "execution_count": null,
   "id": "20e8c7b5",
   "metadata": {},
   "outputs": [],
   "source": [
    "# Câu trả lời ở đây"
   ]
  },
  {
   "cell_type": "markdown",
   "id": "5403db4f",
   "metadata": {},
   "source": [
    "### Câu 7 - Linear Regression - Boston Housing"
   ]
  },
  {
   "cell_type": "markdown",
   "id": "3f7cf9ad",
   "metadata": {},
   "source": [
    "Vẽ biểu đồ residual plot (giá trị thực - giá trị dự đoán)."
   ]
  },
  {
   "cell_type": "code",
   "execution_count": null,
   "id": "17bfa051",
   "metadata": {},
   "outputs": [],
   "source": [
    "# Câu trả lời ở đây"
   ]
  },
  {
   "cell_type": "markdown",
   "id": "57f1b95b",
   "metadata": {},
   "source": [
    "### Câu 8 - Linear Regression - Boston Housing"
   ]
  },
  {
   "cell_type": "markdown",
   "id": "0e495114",
   "metadata": {},
   "source": [
    "Tính R-squared của mô hình trên tập huấn luyện và kiểm tra."
   ]
  },
  {
   "cell_type": "code",
   "execution_count": null,
   "id": "7fc1cd0d",
   "metadata": {},
   "outputs": [],
   "source": [
    "# Câu trả lời ở đây"
   ]
  },
  {
   "cell_type": "markdown",
   "id": "0f7a0cd2",
   "metadata": {},
   "source": [
    "### Câu 9 - Linear Regression - Boston Housing"
   ]
  },
  {
   "cell_type": "markdown",
   "id": "2962b10e",
   "metadata": {},
   "source": [
    "Chuẩn hóa dữ liệu đầu vào trước khi huấn luyện."
   ]
  },
  {
   "cell_type": "code",
   "execution_count": null,
   "id": "814ef630",
   "metadata": {},
   "outputs": [],
   "source": [
    "# Câu trả lời ở đây"
   ]
  },
  {
   "cell_type": "markdown",
   "id": "62ab8980",
   "metadata": {},
   "source": [
    "### Câu 10 - Linear Regression - Boston Housing"
   ]
  },
  {
   "cell_type": "markdown",
   "id": "617d30f6",
   "metadata": {},
   "source": [
    "So sánh hiệu suất mô hình trước và sau khi chuẩn hóa."
   ]
  },
  {
   "cell_type": "code",
   "execution_count": null,
   "id": "97098561",
   "metadata": {},
   "outputs": [],
   "source": [
    "# Câu trả lời ở đây"
   ]
  },
  {
   "cell_type": "markdown",
   "id": "eba4d9b1",
   "metadata": {},
   "source": [
    "### Câu 11 - Linear Regression - Boston Housing"
   ]
  },
  {
   "cell_type": "markdown",
   "id": "9ac2350c",
   "metadata": {},
   "source": [
    "Loại bỏ các biến có tương quan thấp với MEDV và huấn luyện lại mô hình."
   ]
  },
  {
   "cell_type": "code",
   "execution_count": null,
   "id": "f35e6fd1",
   "metadata": {},
   "outputs": [],
   "source": [
    "# Câu trả lời ở đây"
   ]
  },
  {
   "cell_type": "markdown",
   "id": "a24e3a54",
   "metadata": {},
   "source": [
    "### Câu 12 - Linear Regression - Boston Housing"
   ]
  },
  {
   "cell_type": "markdown",
   "id": "64375c68",
   "metadata": {},
   "source": [
    "Thêm tương tác giữa các biến (feature interaction) vào mô hình."
   ]
  },
  {
   "cell_type": "code",
   "execution_count": null,
   "id": "b3ca1d38",
   "metadata": {},
   "outputs": [],
   "source": [
    "# Câu trả lời ở đây"
   ]
  },
  {
   "cell_type": "markdown",
   "id": "91595616",
   "metadata": {},
   "source": [
    "### Câu 13 - Linear Regression - Boston Housing"
   ]
  },
  {
   "cell_type": "markdown",
   "id": "11e73db2",
   "metadata": {},
   "source": [
    "Sử dụng Ridge Regression và so sánh với Linear Regression."
   ]
  },
  {
   "cell_type": "code",
   "execution_count": null,
   "id": "a3962abe",
   "metadata": {},
   "outputs": [],
   "source": [
    "# Câu trả lời ở đây"
   ]
  },
  {
   "cell_type": "markdown",
   "id": "d35808d1",
   "metadata": {},
   "source": [
    "### Câu 14 - Linear Regression - Boston Housing"
   ]
  },
  {
   "cell_type": "markdown",
   "id": "9a53f87e",
   "metadata": {},
   "source": [
    "Sử dụng Lasso Regression và so sánh kết quả với Ridge."
   ]
  },
  {
   "cell_type": "code",
   "execution_count": null,
   "id": "92fc6fe6",
   "metadata": {},
   "outputs": [],
   "source": [
    "# Câu trả lời ở đây"
   ]
  },
  {
   "cell_type": "markdown",
   "id": "2d789193",
   "metadata": {},
   "source": [
    "### Câu 15 - Linear Regression - Boston Housing"
   ]
  },
  {
   "cell_type": "markdown",
   "id": "88ed36e8",
   "metadata": {},
   "source": [
    "Tìm alpha tốt nhất cho Ridge Regression bằng cross-validation."
   ]
  },
  {
   "cell_type": "code",
   "execution_count": null,
   "id": "9bb855d2",
   "metadata": {},
   "outputs": [],
   "source": [
    "# Câu trả lời ở đây"
   ]
  },
  {
   "cell_type": "markdown",
   "id": "a746099d",
   "metadata": {},
   "source": [
    "### Câu 16 - Linear Regression - Boston Housing"
   ]
  },
  {
   "cell_type": "markdown",
   "id": "806ebce9",
   "metadata": {},
   "source": [
    "Hiển thị biểu đồ so sánh hệ số mô hình Ridge với Lasso."
   ]
  },
  {
   "cell_type": "code",
   "execution_count": null,
   "id": "da78da88",
   "metadata": {},
   "outputs": [],
   "source": [
    "# Câu trả lời ở đây"
   ]
  },
  {
   "cell_type": "markdown",
   "id": "a2b5c91c",
   "metadata": {},
   "source": [
    "### Câu 17 - Linear Regression - Boston Housing"
   ]
  },
  {
   "cell_type": "markdown",
   "id": "d4b91357",
   "metadata": {},
   "source": [
    "Vẽ heatmap hệ số tương quan giữa các đặc trưng đầu vào."
   ]
  },
  {
   "cell_type": "code",
   "execution_count": null,
   "id": "e0961951",
   "metadata": {},
   "outputs": [],
   "source": [
    "# Câu trả lời ở đây"
   ]
  },
  {
   "cell_type": "markdown",
   "id": "80858fd4",
   "metadata": {},
   "source": [
    "### Câu 18 - Linear Regression - Boston Housing"
   ]
  },
  {
   "cell_type": "markdown",
   "id": "6800eb7f",
   "metadata": {},
   "source": [
    "So sánh mô hình hồi quy tuyến tính khi dùng toàn bộ biến và chỉ top 5 biến liên quan."
   ]
  },
  {
   "cell_type": "code",
   "execution_count": null,
   "id": "3147d3e2",
   "metadata": {},
   "outputs": [],
   "source": [
    "# Câu trả lời ở đây"
   ]
  },
  {
   "cell_type": "markdown",
   "id": "df4e472f",
   "metadata": {},
   "source": [
    "### Câu 19 - Linear Regression - Boston Housing"
   ]
  },
  {
   "cell_type": "markdown",
   "id": "42d0b34b",
   "metadata": {},
   "source": [
    "Thử huấn luyện mô hình trên tập dữ liệu nhỏ hơn (50%) và so sánh kết quả."
   ]
  },
  {
   "cell_type": "code",
   "execution_count": null,
   "id": "d07679c5",
   "metadata": {},
   "outputs": [],
   "source": [
    "# Câu trả lời ở đây"
   ]
  },
  {
   "cell_type": "markdown",
   "id": "74ea3a87",
   "metadata": {},
   "source": [
    "### Câu 20 - Linear Regression - Boston Housing"
   ]
  },
  {
   "cell_type": "markdown",
   "id": "f18390c1",
   "metadata": {},
   "source": [
    "Tạo pipeline bao gồm chuẩn hóa + LinearRegression, và đánh giá mô hình."
   ]
  },
  {
   "cell_type": "code",
   "execution_count": null,
   "id": "a2c0cb90",
   "metadata": {},
   "outputs": [],
   "source": [
    "# Câu trả lời ở đây"
   ]
  },
  {
   "cell_type": "markdown",
   "id": "598aa2ea",
   "metadata": {},
   "source": [
    "### Câu 21 - Logistic Regression - Ung thư Wisconsin"
   ]
  },
  {
   "cell_type": "markdown",
   "id": "6144d5fb",
   "metadata": {},
   "source": [
    "Tải dữ liệu ung thư Wisconsin từ sklearn."
   ]
  },
  {
   "cell_type": "code",
   "execution_count": null,
   "id": "02df716d",
   "metadata": {},
   "outputs": [],
   "source": [
    "# Câu trả lời ở đây"
   ]
  },
  {
   "cell_type": "markdown",
   "id": "47d55bad",
   "metadata": {},
   "source": [
    "### Câu 22 - Logistic Regression - Ung thư Wisconsin"
   ]
  },
  {
   "cell_type": "markdown",
   "id": "605f1194",
   "metadata": {},
   "source": [
    "Chuyển dữ liệu thành DataFrame và hiển thị info()."
   ]
  },
  {
   "cell_type": "code",
   "execution_count": null,
   "id": "44071b7c",
   "metadata": {},
   "outputs": [],
   "source": [
    "# Câu trả lời ở đây"
   ]
  },
  {
   "cell_type": "markdown",
   "id": "2868b84f",
   "metadata": {},
   "source": [
    "### Câu 23 - Logistic Regression - Ung thư Wisconsin"
   ]
  },
  {
   "cell_type": "markdown",
   "id": "77943f39",
   "metadata": {},
   "source": [
    "Gán nhãn benign = 0, malignant = 1."
   ]
  },
  {
   "cell_type": "code",
   "execution_count": null,
   "id": "0328a78e",
   "metadata": {},
   "outputs": [],
   "source": [
    "# Câu trả lời ở đây"
   ]
  },
  {
   "cell_type": "markdown",
   "id": "6ef2c505",
   "metadata": {},
   "source": [
    "### Câu 24 - Logistic Regression - Ung thư Wisconsin"
   ]
  },
  {
   "cell_type": "markdown",
   "id": "126582f9",
   "metadata": {},
   "source": [
    "Chia dữ liệu thành tập huấn luyện và kiểm tra (80/20)."
   ]
  },
  {
   "cell_type": "code",
   "execution_count": null,
   "id": "9098d1b7",
   "metadata": {},
   "outputs": [],
   "source": [
    "# Câu trả lời ở đây"
   ]
  },
  {
   "cell_type": "markdown",
   "id": "c827aacc",
   "metadata": {},
   "source": [
    "### Câu 25 - Logistic Regression - Ung thư Wisconsin"
   ]
  },
  {
   "cell_type": "markdown",
   "id": "03f4685d",
   "metadata": {},
   "source": [
    "Huấn luyện mô hình LogisticRegression để phân loại."
   ]
  },
  {
   "cell_type": "code",
   "execution_count": null,
   "id": "14699651",
   "metadata": {},
   "outputs": [],
   "source": [
    "# Câu trả lời ở đây"
   ]
  },
  {
   "cell_type": "markdown",
   "id": "16c62fe4",
   "metadata": {},
   "source": [
    "### Câu 26 - Logistic Regression - Ung thư Wisconsin"
   ]
  },
  {
   "cell_type": "markdown",
   "id": "5114652b",
   "metadata": {},
   "source": [
    "Hiển thị các hệ số và intercept của mô hình."
   ]
  },
  {
   "cell_type": "code",
   "execution_count": null,
   "id": "cbddd3c0",
   "metadata": {},
   "outputs": [],
   "source": [
    "# Câu trả lời ở đây"
   ]
  },
  {
   "cell_type": "markdown",
   "id": "1e322bd7",
   "metadata": {},
   "source": [
    "### Câu 27 - Logistic Regression - Ung thư Wisconsin"
   ]
  },
  {
   "cell_type": "markdown",
   "id": "eb334dd0",
   "metadata": {},
   "source": [
    "Dự đoán nhãn trên tập kiểm tra và in ma trận nhầm lẫn."
   ]
  },
  {
   "cell_type": "code",
   "execution_count": null,
   "id": "c8304014",
   "metadata": {},
   "outputs": [],
   "source": [
    "# Câu trả lời ở đây"
   ]
  },
  {
   "cell_type": "markdown",
   "id": "4249cf3c",
   "metadata": {},
   "source": [
    "### Câu 28 - Logistic Regression - Ung thư Wisconsin"
   ]
  },
  {
   "cell_type": "markdown",
   "id": "c52d0e27",
   "metadata": {},
   "source": [
    "Tính accuracy, precision, recall và F1-score."
   ]
  },
  {
   "cell_type": "code",
   "execution_count": null,
   "id": "1a17f0f2",
   "metadata": {},
   "outputs": [],
   "source": [
    "# Câu trả lời ở đây"
   ]
  },
  {
   "cell_type": "markdown",
   "id": "54ab97e9",
   "metadata": {},
   "source": [
    "### Câu 29 - Logistic Regression - Ung thư Wisconsin"
   ]
  },
  {
   "cell_type": "markdown",
   "id": "e9490881",
   "metadata": {},
   "source": [
    "Vẽ biểu đồ ROC và tính AUC."
   ]
  },
  {
   "cell_type": "code",
   "execution_count": null,
   "id": "0aead640",
   "metadata": {},
   "outputs": [],
   "source": [
    "# Câu trả lời ở đây"
   ]
  },
  {
   "cell_type": "markdown",
   "id": "9a5f605f",
   "metadata": {},
   "source": [
    "### Câu 30 - Logistic Regression - Ung thư Wisconsin"
   ]
  },
  {
   "cell_type": "markdown",
   "id": "5f5379d8",
   "metadata": {},
   "source": [
    "Hiển thị xác suất dự đoán (predict_proba) cho 5 mẫu đầu tiên."
   ]
  },
  {
   "cell_type": "code",
   "execution_count": null,
   "id": "ca24d133",
   "metadata": {},
   "outputs": [],
   "source": [
    "# Câu trả lời ở đây"
   ]
  },
  {
   "cell_type": "markdown",
   "id": "637e3573",
   "metadata": {},
   "source": [
    "### Câu 31 - Logistic Regression - Ung thư Wisconsin"
   ]
  },
  {
   "cell_type": "markdown",
   "id": "64e47d1d",
   "metadata": {},
   "source": [
    "So sánh hiệu suất mô hình trên tập huấn luyện và kiểm tra."
   ]
  },
  {
   "cell_type": "code",
   "execution_count": null,
   "id": "9008704b",
   "metadata": {},
   "outputs": [],
   "source": [
    "# Câu trả lời ở đây"
   ]
  },
  {
   "cell_type": "markdown",
   "id": "adf851ed",
   "metadata": {},
   "source": [
    "### Câu 32 - Logistic Regression - Ung thư Wisconsin"
   ]
  },
  {
   "cell_type": "markdown",
   "id": "34b58cc0",
   "metadata": {},
   "source": [
    "Chuẩn hóa dữ liệu trước khi huấn luyện."
   ]
  },
  {
   "cell_type": "code",
   "execution_count": null,
   "id": "5c93effd",
   "metadata": {},
   "outputs": [],
   "source": [
    "# Câu trả lời ở đây"
   ]
  },
  {
   "cell_type": "markdown",
   "id": "9a3ac1d1",
   "metadata": {},
   "source": [
    "### Câu 33 - Logistic Regression - Ung thư Wisconsin"
   ]
  },
  {
   "cell_type": "markdown",
   "id": "b5dab92c",
   "metadata": {},
   "source": [
    "So sánh logistic regression trước và sau khi chuẩn hóa."
   ]
  },
  {
   "cell_type": "code",
   "execution_count": null,
   "id": "0b253bdf",
   "metadata": {},
   "outputs": [],
   "source": [
    "# Câu trả lời ở đây"
   ]
  },
  {
   "cell_type": "markdown",
   "id": "47266a3c",
   "metadata": {},
   "source": [
    "### Câu 34 - Logistic Regression - Ung thư Wisconsin"
   ]
  },
  {
   "cell_type": "markdown",
   "id": "095b1d64",
   "metadata": {},
   "source": [
    "Hiển thị các đặc trưng ảnh hưởng nhiều nhất đến dự đoán."
   ]
  },
  {
   "cell_type": "code",
   "execution_count": null,
   "id": "e7a739a4",
   "metadata": {},
   "outputs": [],
   "source": [
    "# Câu trả lời ở đây"
   ]
  },
  {
   "cell_type": "markdown",
   "id": "9463b951",
   "metadata": {},
   "source": [
    "### Câu 35 - Logistic Regression - Ung thư Wisconsin"
   ]
  },
  {
   "cell_type": "markdown",
   "id": "c1fde42c",
   "metadata": {},
   "source": [
    "Tạo biểu đồ bar hệ số (coef_) của logistic model."
   ]
  },
  {
   "cell_type": "code",
   "execution_count": null,
   "id": "881a2044",
   "metadata": {},
   "outputs": [],
   "source": [
    "# Câu trả lời ở đây"
   ]
  },
  {
   "cell_type": "markdown",
   "id": "c771cbab",
   "metadata": {},
   "source": [
    "### Câu 36 - Logistic Regression - Ung thư Wisconsin"
   ]
  },
  {
   "cell_type": "markdown",
   "id": "3db99045",
   "metadata": {},
   "source": [
    "Sử dụng GridSearchCV để chọn tham số C tối ưu."
   ]
  },
  {
   "cell_type": "code",
   "execution_count": null,
   "id": "f98fd4e4",
   "metadata": {},
   "outputs": [],
   "source": [
    "# Câu trả lời ở đây"
   ]
  },
  {
   "cell_type": "markdown",
   "id": "05433b50",
   "metadata": {},
   "source": [
    "### Câu 37 - Logistic Regression - Ung thư Wisconsin"
   ]
  },
  {
   "cell_type": "markdown",
   "id": "33641a9f",
   "metadata": {},
   "source": [
    "Thử loại bỏ 5 đặc trưng có hệ số thấp nhất và huấn luyện lại."
   ]
  },
  {
   "cell_type": "code",
   "execution_count": null,
   "id": "501c2014",
   "metadata": {},
   "outputs": [],
   "source": [
    "# Câu trả lời ở đây"
   ]
  },
  {
   "cell_type": "markdown",
   "id": "90df2803",
   "metadata": {},
   "source": [
    "### Câu 38 - Logistic Regression - Ung thư Wisconsin"
   ]
  },
  {
   "cell_type": "markdown",
   "id": "48463a6f",
   "metadata": {},
   "source": [
    "Tạo pipeline gồm StandardScaler và LogisticRegression."
   ]
  },
  {
   "cell_type": "code",
   "execution_count": null,
   "id": "eaaac46a",
   "metadata": {},
   "outputs": [],
   "source": [
    "# Câu trả lời ở đây"
   ]
  },
  {
   "cell_type": "markdown",
   "id": "8b205dc5",
   "metadata": {},
   "source": [
    "### Câu 39 - Logistic Regression - Ung thư Wisconsin"
   ]
  },
  {
   "cell_type": "markdown",
   "id": "4dadef5f",
   "metadata": {},
   "source": [
    "Tạo mô hình logistic chỉ với 2 biến đầu tiên và vẽ đường phân chia."
   ]
  },
  {
   "cell_type": "code",
   "execution_count": null,
   "id": "0a7b9671",
   "metadata": {},
   "outputs": [],
   "source": [
    "# Câu trả lời ở đây"
   ]
  },
  {
   "cell_type": "markdown",
   "id": "25332e35",
   "metadata": {},
   "source": [
    "### Câu 40 - Logistic Regression - Ung thư Wisconsin"
   ]
  },
  {
   "cell_type": "markdown",
   "id": "b046bbc3",
   "metadata": {},
   "source": [
    "Vẽ biểu đồ xác suất dự đoán theo một đặc trưng đầu vào."
   ]
  },
  {
   "cell_type": "code",
   "execution_count": null,
   "id": "982bd261",
   "metadata": {},
   "outputs": [],
   "source": [
    "# Câu trả lời ở đây"
   ]
  },
  {
   "cell_type": "markdown",
   "id": "bbde2bc8",
   "metadata": {},
   "source": [
    "### Câu 41 - Logistic (Sigmoid) - Iris"
   ]
  },
  {
   "cell_type": "markdown",
   "id": "aee097df",
   "metadata": {},
   "source": [
    "Tải dữ liệu Iris từ sklearn, chỉ lấy 2 lớp đầu (setosa, versicolor)."
   ]
  },
  {
   "cell_type": "code",
   "execution_count": null,
   "id": "5235cad9",
   "metadata": {},
   "outputs": [],
   "source": [
    "# Câu trả lời ở đây"
   ]
  },
  {
   "cell_type": "markdown",
   "id": "9aafd645",
   "metadata": {},
   "source": [
    "### Câu 42 - Logistic (Sigmoid) - Iris"
   ]
  },
  {
   "cell_type": "markdown",
   "id": "0f395826",
   "metadata": {},
   "source": [
    "Chỉ chọn 2 đặc trưng: petal length và petal width."
   ]
  },
  {
   "cell_type": "code",
   "execution_count": null,
   "id": "8450095d",
   "metadata": {},
   "outputs": [],
   "source": [
    "# Câu trả lời ở đây"
   ]
  },
  {
   "cell_type": "markdown",
   "id": "181f0899",
   "metadata": {},
   "source": [
    "### Câu 43 - Logistic (Sigmoid) - Iris"
   ]
  },
  {
   "cell_type": "markdown",
   "id": "3119ed1a",
   "metadata": {},
   "source": [
    "Hiển thị scatter plot phân biệt 2 lớp theo 2 đặc trưng."
   ]
  },
  {
   "cell_type": "code",
   "execution_count": null,
   "id": "870aab51",
   "metadata": {},
   "outputs": [],
   "source": [
    "# Câu trả lời ở đây"
   ]
  },
  {
   "cell_type": "markdown",
   "id": "dc8e2db5",
   "metadata": {},
   "source": [
    "### Câu 44 - Logistic (Sigmoid) - Iris"
   ]
  },
  {
   "cell_type": "markdown",
   "id": "d48d9c59",
   "metadata": {},
   "source": [
    "Xây dựng mô hình Logistic Regression cho bài toán nhị phân."
   ]
  },
  {
   "cell_type": "code",
   "execution_count": null,
   "id": "74d12303",
   "metadata": {},
   "outputs": [],
   "source": [
    "# Câu trả lời ở đây"
   ]
  },
  {
   "cell_type": "markdown",
   "id": "d5e3c6dc",
   "metadata": {},
   "source": [
    "### Câu 45 - Logistic (Sigmoid) - Iris"
   ]
  },
  {
   "cell_type": "markdown",
   "id": "7e75fe91",
   "metadata": {},
   "source": [
    "Vẽ đường biên phân chia (decision boundary)."
   ]
  },
  {
   "cell_type": "code",
   "execution_count": null,
   "id": "e739de4d",
   "metadata": {},
   "outputs": [],
   "source": [
    "# Câu trả lời ở đây"
   ]
  },
  {
   "cell_type": "markdown",
   "id": "7e80d503",
   "metadata": {},
   "source": [
    "### Câu 46 - Logistic (Sigmoid) - Iris"
   ]
  },
  {
   "cell_type": "markdown",
   "id": "58af5a46",
   "metadata": {},
   "source": [
    "Tính accuracy, precision, recall, F1-score trên tập kiểm tra."
   ]
  },
  {
   "cell_type": "code",
   "execution_count": null,
   "id": "03f0196e",
   "metadata": {},
   "outputs": [],
   "source": [
    "# Câu trả lời ở đây"
   ]
  },
  {
   "cell_type": "markdown",
   "id": "3d96f2a8",
   "metadata": {},
   "source": [
    "### Câu 47 - Logistic (Sigmoid) - Iris"
   ]
  },
  {
   "cell_type": "markdown",
   "id": "b0839537",
   "metadata": {},
   "source": [
    "Hiển thị xác suất dự đoán với 5 mẫu đầu tiên."
   ]
  },
  {
   "cell_type": "code",
   "execution_count": null,
   "id": "9e11eb36",
   "metadata": {},
   "outputs": [],
   "source": [
    "# Câu trả lời ở đây"
   ]
  },
  {
   "cell_type": "markdown",
   "id": "6d4d7994",
   "metadata": {},
   "source": [
    "### Câu 48 - Logistic (Sigmoid) - Iris"
   ]
  },
  {
   "cell_type": "markdown",
   "id": "a4d7b2c6",
   "metadata": {},
   "source": [
    "Vẽ biểu đồ xác suất sigmoid cho các điểm dữ liệu."
   ]
  },
  {
   "cell_type": "code",
   "execution_count": null,
   "id": "7cace086",
   "metadata": {},
   "outputs": [],
   "source": [
    "# Câu trả lời ở đây"
   ]
  },
  {
   "cell_type": "markdown",
   "id": "98d7b13a",
   "metadata": {},
   "source": [
    "### Câu 49 - Logistic (Sigmoid) - Iris"
   ]
  },
  {
   "cell_type": "markdown",
   "id": "0f13c0ec",
   "metadata": {},
   "source": [
    "Chuẩn hóa dữ liệu đầu vào và huấn luyện lại mô hình."
   ]
  },
  {
   "cell_type": "code",
   "execution_count": null,
   "id": "60ceda22",
   "metadata": {},
   "outputs": [],
   "source": [
    "# Câu trả lời ở đây"
   ]
  },
  {
   "cell_type": "markdown",
   "id": "f9dbd4c1",
   "metadata": {},
   "source": [
    "### Câu 50 - Logistic (Sigmoid) - Iris"
   ]
  },
  {
   "cell_type": "markdown",
   "id": "83097109",
   "metadata": {},
   "source": [
    "So sánh hiệu suất mô hình trước và sau khi chuẩn hóa."
   ]
  },
  {
   "cell_type": "code",
   "execution_count": null,
   "id": "12bd84ce",
   "metadata": {},
   "outputs": [],
   "source": [
    "# Câu trả lời ở đây"
   ]
  }
 ],
 "metadata": {},
 "nbformat": 4,
 "nbformat_minor": 5
}
