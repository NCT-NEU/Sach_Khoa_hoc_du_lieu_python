{
 "cells": [
  {
   "cell_type": "markdown",
   "id": "39ad5950",
   "metadata": {},
   "source": [
    "# 📘 100 Bài Tập Python Cơ Bản\n",
    "---\n",
    "Các bài tập này dành cho người mới học Python, không sử dụng thư viện ngoài như NumPy hay Pandas."
   ]
  },
  {
   "cell_type": "markdown",
   "id": "1669d44d",
   "metadata": {},
   "source": [
    "## 🗂 Danh sách chủ đề\n",
    "- Kiểu dữ liệu cơ bản\n",
    "- Câu lệnh điều kiện\n",
    "- Vòng lặp\n",
    "- Hàm\n",
    "- Xử lý chuỗi\n",
    "- Danh sách, tuple, set, dict\n",
    "- Đệ quy\n",
    "- Bài toán tổng hợp\n"
   ]
  },
  {
   "cell_type": "markdown",
   "id": "00330dbc",
   "metadata": {},
   "source": [
    "## 📌 Kiểu dữ liệu cơ bản"
   ]
  },
  {
   "cell_type": "code",
   "execution_count": null,
   "id": "557bee7c",
   "metadata": {},
   "outputs": [],
   "source": [
    "# Bài 1\n",
    "# Viết đề bài tại đây\n"
   ]
  },
  {
   "cell_type": "code",
   "execution_count": null,
   "id": "3addaa81",
   "metadata": {},
   "outputs": [],
   "source": [
    "# Bài 2\n",
    "# Viết đề bài tại đây\n"
   ]
  },
  {
   "cell_type": "code",
   "execution_count": null,
   "id": "9c926cea",
   "metadata": {},
   "outputs": [],
   "source": [
    "# Bài 3\n",
    "# Viết đề bài tại đây\n"
   ]
  },
  {
   "cell_type": "code",
   "execution_count": null,
   "id": "65492810",
   "metadata": {},
   "outputs": [],
   "source": [
    "# Bài 4\n",
    "# Viết đề bài tại đây\n"
   ]
  },
  {
   "cell_type": "code",
   "execution_count": null,
   "id": "54959a60",
   "metadata": {},
   "outputs": [],
   "source": [
    "# Bài 5\n",
    "# Viết đề bài tại đây\n"
   ]
  },
  {
   "cell_type": "code",
   "execution_count": null,
   "id": "0f6476b8",
   "metadata": {},
   "outputs": [],
   "source": [
    "# Bài 6\n",
    "# Viết đề bài tại đây\n"
   ]
  },
  {
   "cell_type": "code",
   "execution_count": null,
   "id": "dd754f49",
   "metadata": {},
   "outputs": [],
   "source": [
    "# Bài 7\n",
    "# Viết đề bài tại đây\n"
   ]
  },
  {
   "cell_type": "code",
   "execution_count": null,
   "id": "70c9e394",
   "metadata": {},
   "outputs": [],
   "source": [
    "# Bài 8\n",
    "# Viết đề bài tại đây\n"
   ]
  },
  {
   "cell_type": "code",
   "execution_count": null,
   "id": "f4cc3cae",
   "metadata": {},
   "outputs": [],
   "source": [
    "# Bài 9\n",
    "# Viết đề bài tại đây\n"
   ]
  },
  {
   "cell_type": "code",
   "execution_count": null,
   "id": "1fcd4057",
   "metadata": {},
   "outputs": [],
   "source": [
    "# Bài 10\n",
    "# Viết đề bài tại đây\n"
   ]
  },
  {
   "cell_type": "markdown",
   "id": "654a5dc9",
   "metadata": {},
   "source": [
    "## 📌 Toán tử và biểu thức"
   ]
  },
  {
   "cell_type": "code",
   "execution_count": null,
   "id": "e5db093d",
   "metadata": {},
   "outputs": [],
   "source": [
    "# Bài 11\n",
    "# Viết đề bài tại đây\n"
   ]
  },
  {
   "cell_type": "code",
   "execution_count": null,
   "id": "58ae3a77",
   "metadata": {},
   "outputs": [],
   "source": [
    "# Bài 12\n",
    "# Viết đề bài tại đây\n"
   ]
  },
  {
   "cell_type": "code",
   "execution_count": null,
   "id": "f372257b",
   "metadata": {},
   "outputs": [],
   "source": [
    "# Bài 13\n",
    "# Viết đề bài tại đây\n"
   ]
  },
  {
   "cell_type": "code",
   "execution_count": null,
   "id": "2812b836",
   "metadata": {},
   "outputs": [],
   "source": [
    "# Bài 14\n",
    "# Viết đề bài tại đây\n"
   ]
  },
  {
   "cell_type": "code",
   "execution_count": null,
   "id": "a20c1a24",
   "metadata": {},
   "outputs": [],
   "source": [
    "# Bài 15\n",
    "# Viết đề bài tại đây\n"
   ]
  },
  {
   "cell_type": "code",
   "execution_count": null,
   "id": "cef86f08",
   "metadata": {},
   "outputs": [],
   "source": [
    "# Bài 16\n",
    "# Viết đề bài tại đây\n"
   ]
  },
  {
   "cell_type": "code",
   "execution_count": null,
   "id": "a844fbaf",
   "metadata": {},
   "outputs": [],
   "source": [
    "# Bài 17\n",
    "# Viết đề bài tại đây\n"
   ]
  },
  {
   "cell_type": "code",
   "execution_count": null,
   "id": "06e6509f",
   "metadata": {},
   "outputs": [],
   "source": [
    "# Bài 18\n",
    "# Viết đề bài tại đây\n"
   ]
  },
  {
   "cell_type": "code",
   "execution_count": null,
   "id": "85ad56fa",
   "metadata": {},
   "outputs": [],
   "source": [
    "# Bài 19\n",
    "# Viết đề bài tại đây\n"
   ]
  },
  {
   "cell_type": "code",
   "execution_count": null,
   "id": "13bfb06e",
   "metadata": {},
   "outputs": [],
   "source": [
    "# Bài 20\n",
    "# Viết đề bài tại đây\n"
   ]
  },
  {
   "cell_type": "markdown",
   "id": "a4824311",
   "metadata": {},
   "source": [
    "## 📌 Câu lệnh điều kiện (if)"
   ]
  },
  {
   "cell_type": "code",
   "execution_count": null,
   "id": "8ebe823d",
   "metadata": {},
   "outputs": [],
   "source": [
    "# Bài 21\n",
    "# Viết đề bài tại đây\n"
   ]
  },
  {
   "cell_type": "code",
   "execution_count": null,
   "id": "ff4b9773",
   "metadata": {},
   "outputs": [],
   "source": [
    "# Bài 22\n",
    "# Viết đề bài tại đây\n"
   ]
  },
  {
   "cell_type": "code",
   "execution_count": null,
   "id": "0480136e",
   "metadata": {},
   "outputs": [],
   "source": [
    "# Bài 23\n",
    "# Viết đề bài tại đây\n"
   ]
  },
  {
   "cell_type": "code",
   "execution_count": null,
   "id": "23fd0099",
   "metadata": {},
   "outputs": [],
   "source": [
    "# Bài 24\n",
    "# Viết đề bài tại đây\n"
   ]
  },
  {
   "cell_type": "code",
   "execution_count": null,
   "id": "6254da73",
   "metadata": {},
   "outputs": [],
   "source": [
    "# Bài 25\n",
    "# Viết đề bài tại đây\n"
   ]
  },
  {
   "cell_type": "code",
   "execution_count": null,
   "id": "b3efcc6f",
   "metadata": {},
   "outputs": [],
   "source": [
    "# Bài 26\n",
    "# Viết đề bài tại đây\n"
   ]
  },
  {
   "cell_type": "code",
   "execution_count": null,
   "id": "2425d56a",
   "metadata": {},
   "outputs": [],
   "source": [
    "# Bài 27\n",
    "# Viết đề bài tại đây\n"
   ]
  },
  {
   "cell_type": "code",
   "execution_count": null,
   "id": "e5448d9f",
   "metadata": {},
   "outputs": [],
   "source": [
    "# Bài 28\n",
    "# Viết đề bài tại đây\n"
   ]
  },
  {
   "cell_type": "code",
   "execution_count": null,
   "id": "99b07027",
   "metadata": {},
   "outputs": [],
   "source": [
    "# Bài 29\n",
    "# Viết đề bài tại đây\n"
   ]
  },
  {
   "cell_type": "code",
   "execution_count": null,
   "id": "51239a05",
   "metadata": {},
   "outputs": [],
   "source": [
    "# Bài 30\n",
    "# Viết đề bài tại đây\n"
   ]
  },
  {
   "cell_type": "markdown",
   "id": "9176dfb1",
   "metadata": {},
   "source": [
    "## 📌 Vòng lặp for và while"
   ]
  },
  {
   "cell_type": "code",
   "execution_count": null,
   "id": "cc97b199",
   "metadata": {},
   "outputs": [],
   "source": [
    "# Bài 31\n",
    "# Viết đề bài tại đây\n"
   ]
  },
  {
   "cell_type": "code",
   "execution_count": null,
   "id": "806f2200",
   "metadata": {},
   "outputs": [],
   "source": [
    "# Bài 32\n",
    "# Viết đề bài tại đây\n"
   ]
  },
  {
   "cell_type": "code",
   "execution_count": null,
   "id": "e299fb30",
   "metadata": {},
   "outputs": [],
   "source": [
    "# Bài 33\n",
    "# Viết đề bài tại đây\n"
   ]
  },
  {
   "cell_type": "code",
   "execution_count": null,
   "id": "50dd7699",
   "metadata": {},
   "outputs": [],
   "source": [
    "# Bài 34\n",
    "# Viết đề bài tại đây\n"
   ]
  },
  {
   "cell_type": "code",
   "execution_count": null,
   "id": "681200e4",
   "metadata": {},
   "outputs": [],
   "source": [
    "# Bài 35\n",
    "# Viết đề bài tại đây\n"
   ]
  },
  {
   "cell_type": "code",
   "execution_count": null,
   "id": "e418072a",
   "metadata": {},
   "outputs": [],
   "source": [
    "# Bài 36\n",
    "# Viết đề bài tại đây\n"
   ]
  },
  {
   "cell_type": "code",
   "execution_count": null,
   "id": "47bb63a5",
   "metadata": {},
   "outputs": [],
   "source": [
    "# Bài 37\n",
    "# Viết đề bài tại đây\n"
   ]
  },
  {
   "cell_type": "code",
   "execution_count": null,
   "id": "4798e9ba",
   "metadata": {},
   "outputs": [],
   "source": [
    "# Bài 38\n",
    "# Viết đề bài tại đây\n"
   ]
  },
  {
   "cell_type": "code",
   "execution_count": null,
   "id": "bda38266",
   "metadata": {},
   "outputs": [],
   "source": [
    "# Bài 39\n",
    "# Viết đề bài tại đây\n"
   ]
  },
  {
   "cell_type": "code",
   "execution_count": null,
   "id": "edfd7536",
   "metadata": {},
   "outputs": [],
   "source": [
    "# Bài 40\n",
    "# Viết đề bài tại đây\n"
   ]
  },
  {
   "cell_type": "markdown",
   "id": "0c9bb7e7",
   "metadata": {},
   "source": [
    "## 📌 Hàm (functions)"
   ]
  },
  {
   "cell_type": "code",
   "execution_count": null,
   "id": "a7351dde",
   "metadata": {},
   "outputs": [],
   "source": [
    "# Bài 41\n",
    "# Viết đề bài tại đây\n"
   ]
  },
  {
   "cell_type": "code",
   "execution_count": null,
   "id": "585e9666",
   "metadata": {},
   "outputs": [],
   "source": [
    "# Bài 42\n",
    "# Viết đề bài tại đây\n"
   ]
  },
  {
   "cell_type": "code",
   "execution_count": null,
   "id": "8f60d69c",
   "metadata": {},
   "outputs": [],
   "source": [
    "# Bài 43\n",
    "# Viết đề bài tại đây\n"
   ]
  },
  {
   "cell_type": "code",
   "execution_count": null,
   "id": "dbb8d635",
   "metadata": {},
   "outputs": [],
   "source": [
    "# Bài 44\n",
    "# Viết đề bài tại đây\n"
   ]
  },
  {
   "cell_type": "code",
   "execution_count": null,
   "id": "0b290826",
   "metadata": {},
   "outputs": [],
   "source": [
    "# Bài 45\n",
    "# Viết đề bài tại đây\n"
   ]
  },
  {
   "cell_type": "code",
   "execution_count": null,
   "id": "d46f2cab",
   "metadata": {},
   "outputs": [],
   "source": [
    "# Bài 46\n",
    "# Viết đề bài tại đây\n"
   ]
  },
  {
   "cell_type": "code",
   "execution_count": null,
   "id": "0ceb29b5",
   "metadata": {},
   "outputs": [],
   "source": [
    "# Bài 47\n",
    "# Viết đề bài tại đây\n"
   ]
  },
  {
   "cell_type": "code",
   "execution_count": null,
   "id": "cfe5e115",
   "metadata": {},
   "outputs": [],
   "source": [
    "# Bài 48\n",
    "# Viết đề bài tại đây\n"
   ]
  },
  {
   "cell_type": "code",
   "execution_count": null,
   "id": "579b48f5",
   "metadata": {},
   "outputs": [],
   "source": [
    "# Bài 49\n",
    "# Viết đề bài tại đây\n"
   ]
  },
  {
   "cell_type": "code",
   "execution_count": null,
   "id": "78616b8c",
   "metadata": {},
   "outputs": [],
   "source": [
    "# Bài 50\n",
    "# Viết đề bài tại đây\n"
   ]
  },
  {
   "cell_type": "markdown",
   "id": "f30d7f4f",
   "metadata": {},
   "source": [
    "## 📌 Xử lý chuỗi (string)"
   ]
  },
  {
   "cell_type": "code",
   "execution_count": null,
   "id": "efb9cf0c",
   "metadata": {},
   "outputs": [],
   "source": [
    "# Bài 51\n",
    "# Viết đề bài tại đây\n"
   ]
  },
  {
   "cell_type": "code",
   "execution_count": null,
   "id": "d7d01fd6",
   "metadata": {},
   "outputs": [],
   "source": [
    "# Bài 52\n",
    "# Viết đề bài tại đây\n"
   ]
  },
  {
   "cell_type": "code",
   "execution_count": null,
   "id": "f6ba92e7",
   "metadata": {},
   "outputs": [],
   "source": [
    "# Bài 53\n",
    "# Viết đề bài tại đây\n"
   ]
  },
  {
   "cell_type": "code",
   "execution_count": null,
   "id": "4cbac902",
   "metadata": {},
   "outputs": [],
   "source": [
    "# Bài 54\n",
    "# Viết đề bài tại đây\n"
   ]
  },
  {
   "cell_type": "code",
   "execution_count": null,
   "id": "eeaad73c",
   "metadata": {},
   "outputs": [],
   "source": [
    "# Bài 55\n",
    "# Viết đề bài tại đây\n"
   ]
  },
  {
   "cell_type": "code",
   "execution_count": null,
   "id": "a5985530",
   "metadata": {},
   "outputs": [],
   "source": [
    "# Bài 56\n",
    "# Viết đề bài tại đây\n"
   ]
  },
  {
   "cell_type": "code",
   "execution_count": null,
   "id": "bc3fb101",
   "metadata": {},
   "outputs": [],
   "source": [
    "# Bài 57\n",
    "# Viết đề bài tại đây\n"
   ]
  },
  {
   "cell_type": "code",
   "execution_count": null,
   "id": "8605840f",
   "metadata": {},
   "outputs": [],
   "source": [
    "# Bài 58\n",
    "# Viết đề bài tại đây\n"
   ]
  },
  {
   "cell_type": "code",
   "execution_count": null,
   "id": "922a5f06",
   "metadata": {},
   "outputs": [],
   "source": [
    "# Bài 59\n",
    "# Viết đề bài tại đây\n"
   ]
  },
  {
   "cell_type": "code",
   "execution_count": null,
   "id": "46f9df03",
   "metadata": {},
   "outputs": [],
   "source": [
    "# Bài 60\n",
    "# Viết đề bài tại đây\n"
   ]
  },
  {
   "cell_type": "markdown",
   "id": "8c0ea472",
   "metadata": {},
   "source": [
    "## 📌 Danh sách và tuple"
   ]
  },
  {
   "cell_type": "code",
   "execution_count": null,
   "id": "81787722",
   "metadata": {},
   "outputs": [],
   "source": [
    "# Bài 61\n",
    "# Viết đề bài tại đây\n"
   ]
  },
  {
   "cell_type": "code",
   "execution_count": null,
   "id": "94780ff5",
   "metadata": {},
   "outputs": [],
   "source": [
    "# Bài 62\n",
    "# Viết đề bài tại đây\n"
   ]
  },
  {
   "cell_type": "code",
   "execution_count": null,
   "id": "21d1965e",
   "metadata": {},
   "outputs": [],
   "source": [
    "# Bài 63\n",
    "# Viết đề bài tại đây\n"
   ]
  },
  {
   "cell_type": "code",
   "execution_count": null,
   "id": "418c76c1",
   "metadata": {},
   "outputs": [],
   "source": [
    "# Bài 64\n",
    "# Viết đề bài tại đây\n"
   ]
  },
  {
   "cell_type": "code",
   "execution_count": null,
   "id": "39af7fdb",
   "metadata": {},
   "outputs": [],
   "source": [
    "# Bài 65\n",
    "# Viết đề bài tại đây\n"
   ]
  },
  {
   "cell_type": "code",
   "execution_count": null,
   "id": "99b3cc74",
   "metadata": {},
   "outputs": [],
   "source": [
    "# Bài 66\n",
    "# Viết đề bài tại đây\n"
   ]
  },
  {
   "cell_type": "code",
   "execution_count": null,
   "id": "fdbe3ce9",
   "metadata": {},
   "outputs": [],
   "source": [
    "# Bài 67\n",
    "# Viết đề bài tại đây\n"
   ]
  },
  {
   "cell_type": "code",
   "execution_count": null,
   "id": "dfb65e4e",
   "metadata": {},
   "outputs": [],
   "source": [
    "# Bài 68\n",
    "# Viết đề bài tại đây\n"
   ]
  },
  {
   "cell_type": "code",
   "execution_count": null,
   "id": "651f6a18",
   "metadata": {},
   "outputs": [],
   "source": [
    "# Bài 69\n",
    "# Viết đề bài tại đây\n"
   ]
  },
  {
   "cell_type": "code",
   "execution_count": null,
   "id": "551154c5",
   "metadata": {},
   "outputs": [],
   "source": [
    "# Bài 70\n",
    "# Viết đề bài tại đây\n"
   ]
  },
  {
   "cell_type": "markdown",
   "id": "99cf093a",
   "metadata": {},
   "source": [
    "## 📌 Set và Dictionary"
   ]
  },
  {
   "cell_type": "code",
   "execution_count": null,
   "id": "005a62d5",
   "metadata": {},
   "outputs": [],
   "source": [
    "# Bài 71\n",
    "# Viết đề bài tại đây\n"
   ]
  },
  {
   "cell_type": "code",
   "execution_count": null,
   "id": "7e0556f6",
   "metadata": {},
   "outputs": [],
   "source": [
    "# Bài 72\n",
    "# Viết đề bài tại đây\n"
   ]
  },
  {
   "cell_type": "code",
   "execution_count": null,
   "id": "e0f892d4",
   "metadata": {},
   "outputs": [],
   "source": [
    "# Bài 73\n",
    "# Viết đề bài tại đây\n"
   ]
  },
  {
   "cell_type": "code",
   "execution_count": null,
   "id": "cc4d2ae4",
   "metadata": {},
   "outputs": [],
   "source": [
    "# Bài 74\n",
    "# Viết đề bài tại đây\n"
   ]
  },
  {
   "cell_type": "code",
   "execution_count": null,
   "id": "6fad1a07",
   "metadata": {},
   "outputs": [],
   "source": [
    "# Bài 75\n",
    "# Viết đề bài tại đây\n"
   ]
  },
  {
   "cell_type": "code",
   "execution_count": null,
   "id": "887824df",
   "metadata": {},
   "outputs": [],
   "source": [
    "# Bài 76\n",
    "# Viết đề bài tại đây\n"
   ]
  },
  {
   "cell_type": "code",
   "execution_count": null,
   "id": "ba1ae695",
   "metadata": {},
   "outputs": [],
   "source": [
    "# Bài 77\n",
    "# Viết đề bài tại đây\n"
   ]
  },
  {
   "cell_type": "code",
   "execution_count": null,
   "id": "4130be26",
   "metadata": {},
   "outputs": [],
   "source": [
    "# Bài 78\n",
    "# Viết đề bài tại đây\n"
   ]
  },
  {
   "cell_type": "code",
   "execution_count": null,
   "id": "a7514cdf",
   "metadata": {},
   "outputs": [],
   "source": [
    "# Bài 79\n",
    "# Viết đề bài tại đây\n"
   ]
  },
  {
   "cell_type": "code",
   "execution_count": null,
   "id": "86b8e876",
   "metadata": {},
   "outputs": [],
   "source": [
    "# Bài 80\n",
    "# Viết đề bài tại đây\n"
   ]
  },
  {
   "cell_type": "markdown",
   "id": "683633dc",
   "metadata": {},
   "source": [
    "## 📌 Đệ quy (recursion)"
   ]
  },
  {
   "cell_type": "code",
   "execution_count": null,
   "id": "374c271c",
   "metadata": {},
   "outputs": [],
   "source": [
    "# Bài 81\n",
    "# Viết đề bài tại đây\n"
   ]
  },
  {
   "cell_type": "code",
   "execution_count": null,
   "id": "a8f6a000",
   "metadata": {},
   "outputs": [],
   "source": [
    "# Bài 82\n",
    "# Viết đề bài tại đây\n"
   ]
  },
  {
   "cell_type": "code",
   "execution_count": null,
   "id": "b592743f",
   "metadata": {},
   "outputs": [],
   "source": [
    "# Bài 83\n",
    "# Viết đề bài tại đây\n"
   ]
  },
  {
   "cell_type": "code",
   "execution_count": null,
   "id": "d22d51db",
   "metadata": {},
   "outputs": [],
   "source": [
    "# Bài 84\n",
    "# Viết đề bài tại đây\n"
   ]
  },
  {
   "cell_type": "code",
   "execution_count": null,
   "id": "a3aa050f",
   "metadata": {},
   "outputs": [],
   "source": [
    "# Bài 85\n",
    "# Viết đề bài tại đây\n"
   ]
  },
  {
   "cell_type": "code",
   "execution_count": null,
   "id": "4d2711bb",
   "metadata": {},
   "outputs": [],
   "source": [
    "# Bài 86\n",
    "# Viết đề bài tại đây\n"
   ]
  },
  {
   "cell_type": "code",
   "execution_count": null,
   "id": "9b51fc72",
   "metadata": {},
   "outputs": [],
   "source": [
    "# Bài 87\n",
    "# Viết đề bài tại đây\n"
   ]
  },
  {
   "cell_type": "code",
   "execution_count": null,
   "id": "fbc007ec",
   "metadata": {},
   "outputs": [],
   "source": [
    "# Bài 88\n",
    "# Viết đề bài tại đây\n"
   ]
  },
  {
   "cell_type": "code",
   "execution_count": null,
   "id": "8a850d6b",
   "metadata": {},
   "outputs": [],
   "source": [
    "# Bài 89\n",
    "# Viết đề bài tại đây\n"
   ]
  },
  {
   "cell_type": "code",
   "execution_count": null,
   "id": "f7037577",
   "metadata": {},
   "outputs": [],
   "source": [
    "# Bài 90\n",
    "# Viết đề bài tại đây\n"
   ]
  },
  {
   "cell_type": "markdown",
   "id": "e228efa0",
   "metadata": {},
   "source": [
    "## 📌 Tổng hợp và ứng dụng"
   ]
  },
  {
   "cell_type": "code",
   "execution_count": null,
   "id": "a0923c3c",
   "metadata": {},
   "outputs": [],
   "source": [
    "# Bài 91\n",
    "# Viết đề bài tại đây\n"
   ]
  },
  {
   "cell_type": "code",
   "execution_count": null,
   "id": "465ecbb0",
   "metadata": {},
   "outputs": [],
   "source": [
    "# Bài 92\n",
    "# Viết đề bài tại đây\n"
   ]
  },
  {
   "cell_type": "code",
   "execution_count": null,
   "id": "c21f242b",
   "metadata": {},
   "outputs": [],
   "source": [
    "# Bài 93\n",
    "# Viết đề bài tại đây\n"
   ]
  },
  {
   "cell_type": "code",
   "execution_count": null,
   "id": "8b0e692a",
   "metadata": {},
   "outputs": [],
   "source": [
    "# Bài 94\n",
    "# Viết đề bài tại đây\n"
   ]
  },
  {
   "cell_type": "code",
   "execution_count": null,
   "id": "56d9c773",
   "metadata": {},
   "outputs": [],
   "source": [
    "# Bài 95\n",
    "# Viết đề bài tại đây\n"
   ]
  },
  {
   "cell_type": "code",
   "execution_count": null,
   "id": "4beb84f4",
   "metadata": {},
   "outputs": [],
   "source": [
    "# Bài 96\n",
    "# Viết đề bài tại đây\n"
   ]
  },
  {
   "cell_type": "code",
   "execution_count": null,
   "id": "be1bf395",
   "metadata": {},
   "outputs": [],
   "source": [
    "# Bài 97\n",
    "# Viết đề bài tại đây\n"
   ]
  },
  {
   "cell_type": "code",
   "execution_count": null,
   "id": "cbf8277f",
   "metadata": {},
   "outputs": [],
   "source": [
    "# Bài 98\n",
    "# Viết đề bài tại đây\n"
   ]
  },
  {
   "cell_type": "code",
   "execution_count": null,
   "id": "9aa49c49",
   "metadata": {},
   "outputs": [],
   "source": [
    "# Bài 99\n",
    "# Viết đề bài tại đây\n"
   ]
  },
  {
   "cell_type": "code",
   "execution_count": null,
   "id": "ce8873c3",
   "metadata": {},
   "outputs": [],
   "source": [
    "# Bài 100\n",
    "# Viết đề bài tại đây\n"
   ]
  }
 ],
 "metadata": {},
 "nbformat": 4,
 "nbformat_minor": 5
}
