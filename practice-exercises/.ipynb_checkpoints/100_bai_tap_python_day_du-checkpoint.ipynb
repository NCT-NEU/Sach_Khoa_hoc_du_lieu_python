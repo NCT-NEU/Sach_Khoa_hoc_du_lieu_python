{
 "cells": [
  {
   "cell_type": "markdown",
   "id": "74500720-a29f-40df-940c-b25206ae3047",
   "metadata": {},
   "source": [
    "# Python cơ bản"
   ]
  },
  {
   "cell_type": "markdown",
   "id": "19a0a9a3-bc80-414f-81e3-a0c3417e3c00",
   "metadata": {},
   "source": [
    "## Biến và toán tử"
   ]
  },
  {
   "cell_type": "markdown",
   "id": "59a3b23a",
   "metadata": {},
   "source": [
    "### Câu 1"
   ]
  },
  {
   "cell_type": "markdown",
   "id": "385229c8",
   "metadata": {},
   "source": [
    "Khai báo một biến `name` có giá trị là tên của bạn và in nó ra màn hình."
   ]
  },
  {
   "cell_type": "code",
   "execution_count": null,
   "id": "dadaa7ab",
   "metadata": {},
   "outputs": [],
   "source": [
    "# Câu trả lời ở đây"
   ]
  },
  {
   "cell_type": "markdown",
   "id": "eb1b572c",
   "metadata": {},
   "source": [
    "### Câu 2"
   ]
  },
  {
   "cell_type": "markdown",
   "id": "cbc18eaa",
   "metadata": {},
   "source": [
    "Khai báo hai biến `a = 5`, `b = 7` và in tổng của chúng."
   ]
  },
  {
   "cell_type": "code",
   "execution_count": null,
   "id": "c26b7b83",
   "metadata": {},
   "outputs": [],
   "source": [
    "# Câu trả lời ở đây"
   ]
  },
  {
   "cell_type": "markdown",
   "id": "0e20b73d",
   "metadata": {},
   "source": [
    "### Câu 3"
   ]
  },
  {
   "cell_type": "markdown",
   "id": "5fd8bcad",
   "metadata": {},
   "source": [
    "Tạo một biến kiểu `float` có giá trị `3.14` và in ra kiểu dữ liệu của biến này."
   ]
  },
  {
   "cell_type": "code",
   "execution_count": null,
   "id": "15091b8c",
   "metadata": {},
   "outputs": [],
   "source": [
    "# Câu trả lời ở đây"
   ]
  },
  {
   "cell_type": "markdown",
   "id": "bc286f86",
   "metadata": {},
   "source": [
    "### Câu 4"
   ]
  },
  {
   "cell_type": "markdown",
   "id": "8f173023",
   "metadata": {},
   "source": [
    "Nhập một số từ bàn phím và in ra giá trị cùng kiểu dữ liệu của nó."
   ]
  },
  {
   "cell_type": "code",
   "execution_count": null,
   "id": "ed4ecafe",
   "metadata": {},
   "outputs": [],
   "source": [
    "# Câu trả lời ở đây"
   ]
  },
  {
   "cell_type": "markdown",
   "id": "6bf5c843",
   "metadata": {},
   "source": [
    "### Câu 5"
   ]
  },
  {
   "cell_type": "markdown",
   "id": "25683f9f",
   "metadata": {},
   "source": [
    "Gán giá trị `'2025'` cho một biến chuỗi `year_str`, sau đó chuyển nó sang kiểu số nguyên."
   ]
  },
  {
   "cell_type": "code",
   "execution_count": null,
   "id": "9169e5b2",
   "metadata": {},
   "outputs": [],
   "source": [
    "# Câu trả lời ở đây"
   ]
  },
  {
   "cell_type": "markdown",
   "id": "708acf58",
   "metadata": {},
   "source": [
    "### Câu 6"
   ]
  },
  {
   "cell_type": "markdown",
   "id": "61a42247",
   "metadata": {},
   "source": [
    "Khai báo ba biến: một số nguyên, một số thực và một chuỗi, sau đó in ra từng biến."
   ]
  },
  {
   "cell_type": "code",
   "execution_count": null,
   "id": "2430f6f8",
   "metadata": {},
   "outputs": [],
   "source": [
    "# Câu trả lời ở đây"
   ]
  },
  {
   "cell_type": "markdown",
   "id": "704edbea",
   "metadata": {},
   "source": [
    "### Câu 7"
   ]
  },
  {
   "cell_type": "markdown",
   "id": "41c809c9",
   "metadata": {},
   "source": [
    "Tạo biến boolean `is_active` có giá trị `True`, in giá trị và kiểu dữ liệu của nó."
   ]
  },
  {
   "cell_type": "code",
   "execution_count": null,
   "id": "e877ea0e",
   "metadata": {},
   "outputs": [],
   "source": [
    "# Câu trả lời ở đây"
   ]
  },
  {
   "cell_type": "markdown",
   "id": "a78842c4",
   "metadata": {},
   "source": [
    "### Câu 8"
   ]
  },
  {
   "cell_type": "markdown",
   "id": "7f7a5ecc",
   "metadata": {},
   "source": [
    "Nhập vào chiều dài và chiều rộng hình chữ nhật, tính diện tích và in ra kết quả."
   ]
  },
  {
   "cell_type": "code",
   "execution_count": null,
   "id": "bbb384ba",
   "metadata": {},
   "outputs": [],
   "source": [
    "# Câu trả lời ở đây"
   ]
  },
  {
   "cell_type": "markdown",
   "id": "5edf49bb",
   "metadata": {},
   "source": [
    "### Câu 9"
   ]
  },
  {
   "cell_type": "markdown",
   "id": "22793ce5",
   "metadata": {},
   "source": [
    "Khai báo biến `pi = 3.14159` và biến `r = 5`, tính diện tích hình tròn."
   ]
  },
  {
   "cell_type": "code",
   "execution_count": null,
   "id": "bde0c06d",
   "metadata": {},
   "outputs": [],
   "source": [
    "# Câu trả lời ở đây"
   ]
  },
  {
   "cell_type": "markdown",
   "id": "74646fd8",
   "metadata": {},
   "source": [
    "### Câu 10"
   ]
  },
  {
   "cell_type": "markdown",
   "id": "dd64a7c6",
   "metadata": {},
   "source": [
    "Chuyển đổi một số thực `x = 3.876` thành số nguyên và in ra kết quả."
   ]
  },
  {
   "cell_type": "code",
   "execution_count": null,
   "id": "7e797e3f",
   "metadata": {},
   "outputs": [],
   "source": [
    "# Câu trả lời ở đây"
   ]
  },
  {
   "cell_type": "markdown",
   "id": "9bd02173",
   "metadata": {},
   "source": [
    "### Câu 11"
   ]
  },
  {
   "cell_type": "markdown",
   "id": "7a73064d",
   "metadata": {},
   "source": [
    "Nhập hai số nguyên và in ra hiệu của chúng."
   ]
  },
  {
   "cell_type": "code",
   "execution_count": null,
   "id": "d45e24c0",
   "metadata": {},
   "outputs": [],
   "source": [
    "# Câu trả lời ở đây"
   ]
  },
  {
   "cell_type": "markdown",
   "id": "6161f7bc",
   "metadata": {},
   "source": [
    "### Câu 12"
   ]
  },
  {
   "cell_type": "markdown",
   "id": "35e8257e",
   "metadata": {},
   "source": [
    "Nhập hai số nguyên và in ra tích của chúng."
   ]
  },
  {
   "cell_type": "code",
   "execution_count": null,
   "id": "1475ae6a",
   "metadata": {},
   "outputs": [],
   "source": [
    "# Câu trả lời ở đây"
   ]
  },
  {
   "cell_type": "markdown",
   "id": "a702ac4b",
   "metadata": {},
   "source": [
    "### Câu 13"
   ]
  },
  {
   "cell_type": "markdown",
   "id": "01fcc249",
   "metadata": {},
   "source": [
    "Nhập hai số thực và in ra thương của chúng."
   ]
  },
  {
   "cell_type": "code",
   "execution_count": null,
   "id": "09bcfa81",
   "metadata": {},
   "outputs": [],
   "source": [
    "# Câu trả lời ở đây"
   ]
  },
  {
   "cell_type": "markdown",
   "id": "53ccda26",
   "metadata": {},
   "source": [
    "### Câu 14"
   ]
  },
  {
   "cell_type": "markdown",
   "id": "92820ca2",
   "metadata": {},
   "source": [
    "Nhập hai số nguyên, in ra kết quả phép chia lấy dư."
   ]
  },
  {
   "cell_type": "code",
   "execution_count": null,
   "id": "c5816076",
   "metadata": {},
   "outputs": [],
   "source": [
    "# Câu trả lời ở đây"
   ]
  },
  {
   "cell_type": "markdown",
   "id": "47be53b0",
   "metadata": {},
   "source": [
    "### Câu 15"
   ]
  },
  {
   "cell_type": "markdown",
   "id": "371ab2df",
   "metadata": {},
   "source": [
    "Tính trung bình cộng của ba số thực nhập từ bàn phím."
   ]
  },
  {
   "cell_type": "code",
   "execution_count": null,
   "id": "a3048d12",
   "metadata": {},
   "outputs": [],
   "source": [
    "# Câu trả lời ở đây"
   ]
  },
  {
   "cell_type": "markdown",
   "id": "d33c48bf",
   "metadata": {},
   "source": [
    "### Câu 16"
   ]
  },
  {
   "cell_type": "markdown",
   "id": "6cab4b6c",
   "metadata": {},
   "source": [
    "Tính chu vi và diện tích hình vuông với cạnh nhập từ bàn phím."
   ]
  },
  {
   "cell_type": "code",
   "execution_count": null,
   "id": "74763459",
   "metadata": {},
   "outputs": [],
   "source": [
    "# Câu trả lời ở đây"
   ]
  },
  {
   "cell_type": "markdown",
   "id": "1569218f",
   "metadata": {},
   "source": [
    "### Câu 17"
   ]
  },
  {
   "cell_type": "markdown",
   "id": "36fbe79f",
   "metadata": {},
   "source": [
    "Tính thể tích hình hộp chữ nhật với chiều dài, rộng, cao nhập từ bàn phím."
   ]
  },
  {
   "cell_type": "code",
   "execution_count": null,
   "id": "adc4a919",
   "metadata": {},
   "outputs": [],
   "source": [
    "# Câu trả lời ở đây"
   ]
  },
  {
   "cell_type": "markdown",
   "id": "b33b628b",
   "metadata": {},
   "source": [
    "### Câu 18"
   ]
  },
  {
   "cell_type": "markdown",
   "id": "0e6f2a83",
   "metadata": {},
   "source": [
    "Nhập hai số nguyên và so sánh xem số nào lớn hơn."
   ]
  },
  {
   "cell_type": "code",
   "execution_count": null,
   "id": "10faca7d",
   "metadata": {},
   "outputs": [],
   "source": [
    "# Câu trả lời ở đây"
   ]
  },
  {
   "cell_type": "markdown",
   "id": "8c786890",
   "metadata": {},
   "source": [
    "### Câu 19"
   ]
  },
  {
   "cell_type": "markdown",
   "id": "245cec47",
   "metadata": {},
   "source": [
    "Nhập ba số và in ra số lớn nhất."
   ]
  },
  {
   "cell_type": "code",
   "execution_count": null,
   "id": "e5725100",
   "metadata": {},
   "outputs": [],
   "source": [
    "# Câu trả lời ở đây"
   ]
  },
  {
   "cell_type": "markdown",
   "id": "1c890310",
   "metadata": {},
   "source": [
    "### Câu 20"
   ]
  },
  {
   "cell_type": "markdown",
   "id": "bfa8a441",
   "metadata": {},
   "source": [
    "Kiểm tra xem một số nguyên nhập vào có phải là số chẵn hay không."
   ]
  },
  {
   "cell_type": "code",
   "execution_count": null,
   "id": "b20a2e09",
   "metadata": {},
   "outputs": [],
   "source": [
    "# Câu trả lời ở đây"
   ]
  },
  {
   "cell_type": "markdown",
   "id": "d9a67ab6",
   "metadata": {},
   "source": [
    "### Câu 21"
   ]
  },
  {
   "cell_type": "markdown",
   "id": "3ce0575e",
   "metadata": {},
   "source": [
    "Nhập tuổi và kiểm tra xem có đủ điều kiện bầu cử (tuổi >= 18)."
   ]
  },
  {
   "cell_type": "code",
   "execution_count": null,
   "id": "83abda21",
   "metadata": {},
   "outputs": [],
   "source": [
    "# Câu trả lời ở đây"
   ]
  },
  {
   "cell_type": "markdown",
   "id": "59bc1445",
   "metadata": {},
   "source": [
    "### Câu 22"
   ]
  },
  {
   "cell_type": "markdown",
   "id": "63a8a205",
   "metadata": {},
   "source": [
    "Nhập điểm một học sinh và kiểm tra xem có đạt điểm đậu (>=5) hay không."
   ]
  },
  {
   "cell_type": "code",
   "execution_count": null,
   "id": "767d6fa9",
   "metadata": {},
   "outputs": [],
   "source": [
    "# Câu trả lời ở đây"
   ]
  },
  {
   "cell_type": "markdown",
   "id": "bd63eed3",
   "metadata": {},
   "source": [
    "### Câu 23"
   ]
  },
  {
   "cell_type": "markdown",
   "id": "3bffc87d",
   "metadata": {},
   "source": [
    "Kiểm tra một số nguyên có nằm trong khoảng từ 10 đến 100 hay không."
   ]
  },
  {
   "cell_type": "code",
   "execution_count": null,
   "id": "23691cfa",
   "metadata": {},
   "outputs": [],
   "source": [
    "# Câu trả lời ở đây"
   ]
  },
  {
   "cell_type": "markdown",
   "id": "37f46eec",
   "metadata": {},
   "source": [
    "### Câu 24"
   ]
  },
  {
   "cell_type": "markdown",
   "id": "1ca2e546",
   "metadata": {},
   "source": [
    "Nhập hai số nguyên và kiểm tra chúng có bằng nhau không."
   ]
  },
  {
   "cell_type": "code",
   "execution_count": null,
   "id": "2915e4a3",
   "metadata": {},
   "outputs": [],
   "source": [
    "# Câu trả lời ở đây"
   ]
  },
  {
   "cell_type": "markdown",
   "id": "37488dea",
   "metadata": {},
   "source": [
    "### Câu 25"
   ]
  },
  {
   "cell_type": "markdown",
   "id": "c1d21cea",
   "metadata": {},
   "source": [
    "Nhập một chuỗi và kiểm tra độ dài chuỗi đó có lớn hơn 5 hay không."
   ]
  },
  {
   "cell_type": "code",
   "execution_count": null,
   "id": "4824597f",
   "metadata": {},
   "outputs": [],
   "source": [
    "# Câu trả lời ở đây"
   ]
  },
  {
   "cell_type": "markdown",
   "id": "96f3fa9a",
   "metadata": {},
   "source": [
    "### Câu 26"
   ]
  },
  {
   "cell_type": "markdown",
   "id": "9724a18b",
   "metadata": {},
   "source": [
    "Gán `x = 10`, `y = 20`, kiểm tra x < y và y > 15 đồng thời đúng không."
   ]
  },
  {
   "cell_type": "code",
   "execution_count": null,
   "id": "025edc03",
   "metadata": {},
   "outputs": [],
   "source": [
    "# Câu trả lời ở đây"
   ]
  },
  {
   "cell_type": "markdown",
   "id": "6eb3d3a2",
   "metadata": {},
   "source": [
    "### Câu 27"
   ]
  },
  {
   "cell_type": "markdown",
   "id": "b1b311f0",
   "metadata": {},
   "source": [
    "Nhập ba số nguyên và kiểm tra xem chúng có tạo thành tam giác đều không."
   ]
  },
  {
   "cell_type": "code",
   "execution_count": null,
   "id": "3a537423",
   "metadata": {},
   "outputs": [],
   "source": [
    "# Câu trả lời ở đây"
   ]
  },
  {
   "cell_type": "markdown",
   "id": "104ee5a7",
   "metadata": {},
   "source": [
    "### Câu 28"
   ]
  },
  {
   "cell_type": "markdown",
   "id": "fc64be88",
   "metadata": {},
   "source": [
    "Kiểm tra xem chuỗi `'python'` có chứa chữ cái `'y'` không."
   ]
  },
  {
   "cell_type": "code",
   "execution_count": null,
   "id": "e4c3c86a",
   "metadata": {},
   "outputs": [],
   "source": [
    "# Câu trả lời ở đây"
   ]
  },
  {
   "cell_type": "markdown",
   "id": "9564969e",
   "metadata": {},
   "source": [
    "### Câu 29"
   ]
  },
  {
   "cell_type": "markdown",
   "id": "89483838",
   "metadata": {},
   "source": [
    "Tạo biến chứa năm hiện tại, kiểm tra xem năm đó có phải năm nhuận không (chia hết cho 4 nhưng không chia hết cho 100 hoặc chia hết cho 400)."
   ]
  },
  {
   "cell_type": "code",
   "execution_count": null,
   "id": "7fd79be0",
   "metadata": {},
   "outputs": [],
   "source": [
    "# Câu trả lời ở đây"
   ]
  },
  {
   "cell_type": "markdown",
   "id": "050f4d86",
   "metadata": {},
   "source": [
    "### Câu 30"
   ]
  },
  {
   "cell_type": "markdown",
   "id": "19abc892",
   "metadata": {},
   "source": [
    "Nhập vào hai số, kiểm tra xem chúng có cùng dấu (cùng dương hoặc cùng âm) không."
   ]
  },
  {
   "cell_type": "code",
   "execution_count": null,
   "id": "b1aacdff",
   "metadata": {},
   "outputs": [],
   "source": [
    "# Câu trả lời ở đây"
   ]
  },
  {
   "cell_type": "markdown",
   "id": "a38105dc-d691-4625-a63b-0026d9ff16e5",
   "metadata": {},
   "source": [
    "## Câu lệnh điều kiện"
   ]
  },
  {
   "cell_type": "markdown",
   "id": "46b135df",
   "metadata": {},
   "source": [
    "### Câu 31"
   ]
  },
  {
   "cell_type": "markdown",
   "id": "cfb3f5db",
   "metadata": {},
   "source": [
    "Nhập một số nguyên và kiểm tra xem nó là số âm, dương hay bằng 0."
   ]
  },
  {
   "cell_type": "code",
   "execution_count": null,
   "id": "01f38bc7",
   "metadata": {},
   "outputs": [],
   "source": [
    "# Câu trả lời ở đây"
   ]
  },
  {
   "cell_type": "markdown",
   "id": "0eb0a417",
   "metadata": {},
   "source": [
    "### Câu 32"
   ]
  },
  {
   "cell_type": "markdown",
   "id": "c008090c",
   "metadata": {},
   "source": [
    "Nhập một số nguyên và kiểm tra xem nó có chia hết cho 3 và 5 không."
   ]
  },
  {
   "cell_type": "code",
   "execution_count": null,
   "id": "1026b31e",
   "metadata": {},
   "outputs": [],
   "source": [
    "# Câu trả lời ở đây"
   ]
  },
  {
   "cell_type": "markdown",
   "id": "1e156fa8",
   "metadata": {},
   "source": [
    "### Câu 33"
   ]
  },
  {
   "cell_type": "markdown",
   "id": "64ad686a",
   "metadata": {},
   "source": [
    "Nhập ba số nguyên và xác định số lớn nhất."
   ]
  },
  {
   "cell_type": "code",
   "execution_count": null,
   "id": "0a654573",
   "metadata": {},
   "outputs": [],
   "source": [
    "# Câu trả lời ở đây"
   ]
  },
  {
   "cell_type": "markdown",
   "id": "2fa62341",
   "metadata": {},
   "source": [
    "### Câu 34"
   ]
  },
  {
   "cell_type": "markdown",
   "id": "3c2d5a30",
   "metadata": {},
   "source": [
    "Nhập ba số nguyên và xác định số nhỏ nhất."
   ]
  },
  {
   "cell_type": "code",
   "execution_count": null,
   "id": "03fa55c2",
   "metadata": {},
   "outputs": [],
   "source": [
    "# Câu trả lời ở đây"
   ]
  },
  {
   "cell_type": "markdown",
   "id": "2075e065",
   "metadata": {},
   "source": [
    "### Câu 35"
   ]
  },
  {
   "cell_type": "markdown",
   "id": "8bf5f584",
   "metadata": {},
   "source": [
    "Nhập điểm trung bình và in ra xếp loại: Giỏi, Khá, Trung bình, Yếu."
   ]
  },
  {
   "cell_type": "code",
   "execution_count": null,
   "id": "5199815a",
   "metadata": {},
   "outputs": [],
   "source": [
    "# Câu trả lời ở đây"
   ]
  },
  {
   "cell_type": "markdown",
   "id": "c3d32d97",
   "metadata": {},
   "source": [
    "### Câu 36"
   ]
  },
  {
   "cell_type": "markdown",
   "id": "f289a824",
   "metadata": {},
   "source": [
    "Nhập một số nguyên, kiểm tra số đó có phải là số lẻ hay không."
   ]
  },
  {
   "cell_type": "code",
   "execution_count": null,
   "id": "e35c8e1b",
   "metadata": {},
   "outputs": [],
   "source": [
    "# Câu trả lời ở đây"
   ]
  },
  {
   "cell_type": "markdown",
   "id": "14711c4e",
   "metadata": {},
   "source": [
    "### Câu 37"
   ]
  },
  {
   "cell_type": "markdown",
   "id": "dc59c93e",
   "metadata": {},
   "source": [
    "Nhập một số và kiểm tra xem có phải là số chính phương không."
   ]
  },
  {
   "cell_type": "code",
   "execution_count": null,
   "id": "81ffa1d2",
   "metadata": {},
   "outputs": [],
   "source": [
    "# Câu trả lời ở đây"
   ]
  },
  {
   "cell_type": "markdown",
   "id": "356a90b4",
   "metadata": {},
   "source": [
    "### Câu 38"
   ]
  },
  {
   "cell_type": "markdown",
   "id": "26caa6ed",
   "metadata": {},
   "source": [
    "Kiểm tra một ký tự nhập vào là nguyên âm hay phụ âm."
   ]
  },
  {
   "cell_type": "code",
   "execution_count": null,
   "id": "8a24e8ef",
   "metadata": {},
   "outputs": [],
   "source": [
    "# Câu trả lời ở đây"
   ]
  },
  {
   "cell_type": "markdown",
   "id": "47dd6e95",
   "metadata": {},
   "source": [
    "### Câu 39"
   ]
  },
  {
   "cell_type": "markdown",
   "id": "c2b36186",
   "metadata": {},
   "source": [
    "Nhập tuổi và in ra nhóm tuổi (trẻ em, thiếu niên, người lớn, người già)."
   ]
  },
  {
   "cell_type": "code",
   "execution_count": null,
   "id": "5ea88161",
   "metadata": {},
   "outputs": [],
   "source": [
    "# Câu trả lời ở đây"
   ]
  },
  {
   "cell_type": "markdown",
   "id": "4c46646b",
   "metadata": {},
   "source": [
    "### Câu 40"
   ]
  },
  {
   "cell_type": "markdown",
   "id": "e8cb6556",
   "metadata": {},
   "source": [
    "Nhập vào ngày, tháng, năm. Kiểm tra ngày đó có hợp lệ không."
   ]
  },
  {
   "cell_type": "code",
   "execution_count": null,
   "id": "3cc6501b",
   "metadata": {},
   "outputs": [],
   "source": [
    "# Câu trả lời ở đây"
   ]
  },
  {
   "cell_type": "markdown",
   "id": "67827af0",
   "metadata": {},
   "source": [
    "### Câu 41"
   ]
  },
  {
   "cell_type": "markdown",
   "id": "9dab3129",
   "metadata": {},
   "source": [
    "Viết chương trình kiểm tra tam giác hợp lệ và phân loại tam giác (đều, cân, thường)."
   ]
  },
  {
   "cell_type": "code",
   "execution_count": null,
   "id": "2a01c50a",
   "metadata": {},
   "outputs": [],
   "source": [
    "# Câu trả lời ở đây"
   ]
  },
  {
   "cell_type": "markdown",
   "id": "79a98a40",
   "metadata": {},
   "source": [
    "### Câu 42"
   ]
  },
  {
   "cell_type": "markdown",
   "id": "2fbbd397",
   "metadata": {},
   "source": [
    "Kiểm tra một năm có phải năm nhuận không."
   ]
  },
  {
   "cell_type": "code",
   "execution_count": null,
   "id": "7a55b3b6",
   "metadata": {},
   "outputs": [],
   "source": [
    "# Câu trả lời ở đây"
   ]
  },
  {
   "cell_type": "markdown",
   "id": "e28908e7",
   "metadata": {},
   "source": [
    "### Câu 43"
   ]
  },
  {
   "cell_type": "markdown",
   "id": "9e298821",
   "metadata": {},
   "source": [
    "Nhập số giờ làm việc, tính lương: nếu >40h thì tính thêm giờ."
   ]
  },
  {
   "cell_type": "code",
   "execution_count": null,
   "id": "dc28ab0e",
   "metadata": {},
   "outputs": [],
   "source": [
    "# Câu trả lời ở đây"
   ]
  },
  {
   "cell_type": "markdown",
   "id": "0dac79ed",
   "metadata": {},
   "source": [
    "### Câu 44"
   ]
  },
  {
   "cell_type": "markdown",
   "id": "f85f1af2",
   "metadata": {},
   "source": [
    "Viết chương trình nhập điểm và kiểm tra có qua môn không (>=5)."
   ]
  },
  {
   "cell_type": "code",
   "execution_count": null,
   "id": "06a68ca3",
   "metadata": {},
   "outputs": [],
   "source": [
    "# Câu trả lời ở đây"
   ]
  },
  {
   "cell_type": "markdown",
   "id": "bfd17a5e",
   "metadata": {},
   "source": [
    "### Câu 45"
   ]
  },
  {
   "cell_type": "markdown",
   "id": "cb5e5020",
   "metadata": {},
   "source": [
    "Nhập nhiệt độ và in ra trạng thái: Lạnh, Bình thường, Nóng."
   ]
  },
  {
   "cell_type": "code",
   "execution_count": null,
   "id": "455b2b7f",
   "metadata": {},
   "outputs": [],
   "source": [
    "# Câu trả lời ở đây"
   ]
  },
  {
   "cell_type": "markdown",
   "id": "a04ac812",
   "metadata": {},
   "source": [
    "### Câu 46"
   ]
  },
  {
   "cell_type": "markdown",
   "id": "63353927",
   "metadata": {},
   "source": [
    "Kiểm tra một ký tự có phải là chữ cái hoa hay thường."
   ]
  },
  {
   "cell_type": "code",
   "execution_count": null,
   "id": "3f452f4c",
   "metadata": {},
   "outputs": [],
   "source": [
    "# Câu trả lời ở đây"
   ]
  },
  {
   "cell_type": "markdown",
   "id": "104fa285",
   "metadata": {},
   "source": [
    "### Câu 47"
   ]
  },
  {
   "cell_type": "markdown",
   "id": "8bfbe9dd",
   "metadata": {},
   "source": [
    "Nhập hai số, in ra theo thứ tự tăng dần."
   ]
  },
  {
   "cell_type": "code",
   "execution_count": null,
   "id": "e10a9337",
   "metadata": {},
   "outputs": [],
   "source": [
    "# Câu trả lời ở đây"
   ]
  },
  {
   "cell_type": "markdown",
   "id": "5faa90f8",
   "metadata": {},
   "source": [
    "### Câu 48"
   ]
  },
  {
   "cell_type": "markdown",
   "id": "fd568971",
   "metadata": {},
   "source": [
    "Kiểm tra một người có đủ điều kiện thi bằng lái xe (tuổi >= 18)."
   ]
  },
  {
   "cell_type": "code",
   "execution_count": null,
   "id": "fb6cc7d5",
   "metadata": {},
   "outputs": [],
   "source": [
    "# Câu trả lời ở đây"
   ]
  },
  {
   "cell_type": "markdown",
   "id": "3319eb8c",
   "metadata": {},
   "source": [
    "### Câu 49"
   ]
  },
  {
   "cell_type": "markdown",
   "id": "f5557a44",
   "metadata": {},
   "source": [
    "Nhập một số và kiểm tra nó có nằm ngoài khoảng [10, 20] không."
   ]
  },
  {
   "cell_type": "code",
   "execution_count": null,
   "id": "fd1a12d5",
   "metadata": {},
   "outputs": [],
   "source": [
    "# Câu trả lời ở đây"
   ]
  },
  {
   "cell_type": "markdown",
   "id": "e9997ed6-e9f3-4619-b72a-3667f963057e",
   "metadata": {},
   "source": [
    "## Viết vòng lặp"
   ]
  },
  {
   "cell_type": "markdown",
   "id": "08242f7f",
   "metadata": {},
   "source": [
    "### Câu 50"
   ]
  },
  {
   "cell_type": "markdown",
   "id": "e7f99d63",
   "metadata": {},
   "source": [
    "Kiểm tra một số có phải là số nguyên tố nhỏ hơn 10 không (chỉ dùng if)."
   ]
  },
  {
   "cell_type": "code",
   "execution_count": null,
   "id": "954c123f",
   "metadata": {},
   "outputs": [],
   "source": [
    "# Câu trả lời ở đây"
   ]
  },
  {
   "cell_type": "markdown",
   "id": "03d26733",
   "metadata": {},
   "source": [
    "### Câu 51"
   ]
  },
  {
   "cell_type": "markdown",
   "id": "25651ea7",
   "metadata": {},
   "source": [
    "In ra các số từ 1 đến 10."
   ]
  },
  {
   "cell_type": "code",
   "execution_count": null,
   "id": "1041de9f",
   "metadata": {},
   "outputs": [],
   "source": [
    "# Câu trả lời ở đây"
   ]
  },
  {
   "cell_type": "markdown",
   "id": "88981288",
   "metadata": {},
   "source": [
    "### Câu 52"
   ]
  },
  {
   "cell_type": "markdown",
   "id": "f827b1e8",
   "metadata": {},
   "source": [
    "Tính tổng các số từ 1 đến n (n nhập từ bàn phím)."
   ]
  },
  {
   "cell_type": "code",
   "execution_count": null,
   "id": "afb06368",
   "metadata": {},
   "outputs": [],
   "source": [
    "# Câu trả lời ở đây"
   ]
  },
  {
   "cell_type": "markdown",
   "id": "e8d12318",
   "metadata": {},
   "source": [
    "### Câu 53"
   ]
  },
  {
   "cell_type": "markdown",
   "id": "8462870f",
   "metadata": {},
   "source": [
    "Tính tích các số từ 1 đến n."
   ]
  },
  {
   "cell_type": "code",
   "execution_count": null,
   "id": "ff855b15",
   "metadata": {},
   "outputs": [],
   "source": [
    "# Câu trả lời ở đây"
   ]
  },
  {
   "cell_type": "markdown",
   "id": "c8624f31",
   "metadata": {},
   "source": [
    "### Câu 54"
   ]
  },
  {
   "cell_type": "markdown",
   "id": "57583781",
   "metadata": {},
   "source": [
    "In bảng cửu chương của số 5."
   ]
  },
  {
   "cell_type": "code",
   "execution_count": null,
   "id": "be4559a1",
   "metadata": {},
   "outputs": [],
   "source": [
    "# Câu trả lời ở đây"
   ]
  },
  {
   "cell_type": "markdown",
   "id": "a0aa58da",
   "metadata": {},
   "source": [
    "### Câu 55"
   ]
  },
  {
   "cell_type": "markdown",
   "id": "842b29f9",
   "metadata": {},
   "source": [
    "Đếm có bao nhiêu số chẵn từ 1 đến 100."
   ]
  },
  {
   "cell_type": "code",
   "execution_count": null,
   "id": "ea43aa1f",
   "metadata": {},
   "outputs": [],
   "source": [
    "# Câu trả lời ở đây"
   ]
  },
  {
   "cell_type": "markdown",
   "id": "f3eeb448",
   "metadata": {},
   "source": [
    "### Câu 56"
   ]
  },
  {
   "cell_type": "markdown",
   "id": "646ce378",
   "metadata": {},
   "source": [
    "Tính tổng các số lẻ từ 1 đến n."
   ]
  },
  {
   "cell_type": "code",
   "execution_count": null,
   "id": "e60b7b20",
   "metadata": {},
   "outputs": [],
   "source": [
    "# Câu trả lời ở đây"
   ]
  },
  {
   "cell_type": "markdown",
   "id": "5b60db5f",
   "metadata": {},
   "source": [
    "### Câu 57"
   ]
  },
  {
   "cell_type": "markdown",
   "id": "9ec7bdbf",
   "metadata": {},
   "source": [
    "In ra các số chia hết cho 3 từ 1 đến 100."
   ]
  },
  {
   "cell_type": "code",
   "execution_count": null,
   "id": "a0910e6a",
   "metadata": {},
   "outputs": [],
   "source": [
    "# Câu trả lời ở đây"
   ]
  },
  {
   "cell_type": "markdown",
   "id": "402a5737",
   "metadata": {},
   "source": [
    "### Câu 58"
   ]
  },
  {
   "cell_type": "markdown",
   "id": "9a6b72d1",
   "metadata": {},
   "source": [
    "Tính giai thừa của một số nguyên dương n."
   ]
  },
  {
   "cell_type": "code",
   "execution_count": null,
   "id": "635eb8d4",
   "metadata": {},
   "outputs": [],
   "source": [
    "# Câu trả lời ở đây"
   ]
  },
  {
   "cell_type": "markdown",
   "id": "65ee31a6",
   "metadata": {},
   "source": [
    "### Câu 59"
   ]
  },
  {
   "cell_type": "markdown",
   "id": "4ad59b39",
   "metadata": {},
   "source": [
    "Nhập n số từ bàn phím và tính tổng."
   ]
  },
  {
   "cell_type": "code",
   "execution_count": null,
   "id": "bfb9223e",
   "metadata": {},
   "outputs": [],
   "source": [
    "# Câu trả lời ở đây"
   ]
  },
  {
   "cell_type": "markdown",
   "id": "9a566c94",
   "metadata": {},
   "source": [
    "### Câu 60"
   ]
  },
  {
   "cell_type": "markdown",
   "id": "098b87ec",
   "metadata": {},
   "source": [
    "In ngược chuỗi ký tự nhập từ bàn phím."
   ]
  },
  {
   "cell_type": "code",
   "execution_count": null,
   "id": "917f3212",
   "metadata": {},
   "outputs": [],
   "source": [
    "# Câu trả lời ở đây"
   ]
  },
  {
   "cell_type": "markdown",
   "id": "59b93d19",
   "metadata": {},
   "source": [
    "### Câu 61"
   ]
  },
  {
   "cell_type": "markdown",
   "id": "a5af7217",
   "metadata": {},
   "source": [
    "Kiểm tra một chuỗi có phải là chuỗi đối xứng không."
   ]
  },
  {
   "cell_type": "code",
   "execution_count": null,
   "id": "954873c8",
   "metadata": {},
   "outputs": [],
   "source": [
    "# Câu trả lời ở đây"
   ]
  },
  {
   "cell_type": "markdown",
   "id": "e256817f",
   "metadata": {},
   "source": [
    "### Câu 62"
   ]
  },
  {
   "cell_type": "markdown",
   "id": "ef39d35c",
   "metadata": {},
   "source": [
    "Nhập vào một chuỗi và đếm số ký tự chữ cái trong chuỗi."
   ]
  },
  {
   "cell_type": "code",
   "execution_count": null,
   "id": "cf478668",
   "metadata": {},
   "outputs": [],
   "source": [
    "# Câu trả lời ở đây"
   ]
  },
  {
   "cell_type": "markdown",
   "id": "ac309cac",
   "metadata": {},
   "source": [
    "### Câu 63"
   ]
  },
  {
   "cell_type": "markdown",
   "id": "91652e92",
   "metadata": {},
   "source": [
    "In ra các chữ số của một số nguyên nhập vào."
   ]
  },
  {
   "cell_type": "code",
   "execution_count": null,
   "id": "aa51d598",
   "metadata": {},
   "outputs": [],
   "source": [
    "# Câu trả lời ở đây"
   ]
  },
  {
   "cell_type": "markdown",
   "id": "1fac1bec",
   "metadata": {},
   "source": [
    "### Câu 64"
   ]
  },
  {
   "cell_type": "markdown",
   "id": "07a2fc21",
   "metadata": {},
   "source": [
    "Tìm ước số chung lớn nhất (GCD) của hai số nguyên."
   ]
  },
  {
   "cell_type": "code",
   "execution_count": null,
   "id": "a304b38d",
   "metadata": {},
   "outputs": [],
   "source": [
    "# Câu trả lời ở đây"
   ]
  },
  {
   "cell_type": "markdown",
   "id": "6b562e80",
   "metadata": {},
   "source": [
    "### Câu 65"
   ]
  },
  {
   "cell_type": "markdown",
   "id": "e5830b57",
   "metadata": {},
   "source": [
    "In các số Fibonacci nhỏ hơn n."
   ]
  },
  {
   "cell_type": "code",
   "execution_count": null,
   "id": "0d01c0a4",
   "metadata": {},
   "outputs": [],
   "source": [
    "# Câu trả lời ở đây"
   ]
  },
  {
   "cell_type": "markdown",
   "id": "06fa3128",
   "metadata": {},
   "source": [
    "### Câu 66"
   ]
  },
  {
   "cell_type": "markdown",
   "id": "71d8a642",
   "metadata": {},
   "source": [
    "Đếm số lượng chữ số trong một số nguyên."
   ]
  },
  {
   "cell_type": "code",
   "execution_count": null,
   "id": "44f3fe63",
   "metadata": {},
   "outputs": [],
   "source": [
    "# Câu trả lời ở đây"
   ]
  },
  {
   "cell_type": "markdown",
   "id": "1a7b2c9a",
   "metadata": {},
   "source": [
    "### Câu 67"
   ]
  },
  {
   "cell_type": "markdown",
   "id": "9993bfa7",
   "metadata": {},
   "source": [
    "Nhập dãy số cho đến khi tổng > 100 thì dừng."
   ]
  },
  {
   "cell_type": "code",
   "execution_count": null,
   "id": "fa3178c3",
   "metadata": {},
   "outputs": [],
   "source": [
    "# Câu trả lời ở đây"
   ]
  },
  {
   "cell_type": "markdown",
   "id": "b2dadcb9",
   "metadata": {},
   "source": [
    "### Câu 68"
   ]
  },
  {
   "cell_type": "markdown",
   "id": "128cce3f",
   "metadata": {},
   "source": [
    "Tìm số nguyên tố đầu tiên nhỏ hơn 100."
   ]
  },
  {
   "cell_type": "code",
   "execution_count": null,
   "id": "a804aaf9",
   "metadata": {},
   "outputs": [],
   "source": [
    "# Câu trả lời ở đây"
   ]
  },
  {
   "cell_type": "markdown",
   "id": "3a4eef46",
   "metadata": {},
   "source": [
    "### Câu 69"
   ]
  },
  {
   "cell_type": "markdown",
   "id": "553009e4",
   "metadata": {},
   "source": [
    "Kiểm tra một số có phải là số hoàn hảo không."
   ]
  },
  {
   "cell_type": "code",
   "execution_count": null,
   "id": "16dde35b",
   "metadata": {},
   "outputs": [],
   "source": [
    "# Câu trả lời ở đây"
   ]
  },
  {
   "cell_type": "markdown",
   "id": "e08193ab",
   "metadata": {},
   "source": [
    "### Câu 70"
   ]
  },
  {
   "cell_type": "markdown",
   "id": "2c7d3209",
   "metadata": {},
   "source": [
    "In ra tam giác sao (dạng cơ bản)."
   ]
  },
  {
   "cell_type": "code",
   "execution_count": null,
   "id": "bffb72ca",
   "metadata": {},
   "outputs": [],
   "source": [
    "# Câu trả lời ở đây"
   ]
  },
  {
   "cell_type": "markdown",
   "id": "1b1e7a67-a16e-4b2b-8ac4-094bff752df7",
   "metadata": {},
   "source": [
    "## Viết hàm số"
   ]
  },
  {
   "cell_type": "markdown",
   "id": "d2807375",
   "metadata": {},
   "source": [
    "### Câu 71"
   ]
  },
  {
   "cell_type": "markdown",
   "id": "0a74c3b3",
   "metadata": {},
   "source": [
    "Viết hàm tính tổng hai số."
   ]
  },
  {
   "cell_type": "code",
   "execution_count": null,
   "id": "cdbda942",
   "metadata": {},
   "outputs": [],
   "source": [
    "# Câu trả lời ở đây"
   ]
  },
  {
   "cell_type": "markdown",
   "id": "3383cc9c",
   "metadata": {},
   "source": [
    "### Câu 72"
   ]
  },
  {
   "cell_type": "markdown",
   "id": "d184eac7",
   "metadata": {},
   "source": [
    "Viết hàm kiểm tra một số có phải số nguyên tố không."
   ]
  },
  {
   "cell_type": "code",
   "execution_count": null,
   "id": "4f26745d",
   "metadata": {},
   "outputs": [],
   "source": [
    "# Câu trả lời ở đây"
   ]
  },
  {
   "cell_type": "markdown",
   "id": "d6b1de47",
   "metadata": {},
   "source": [
    "### Câu 73"
   ]
  },
  {
   "cell_type": "markdown",
   "id": "236b238b",
   "metadata": {},
   "source": [
    "Viết hàm tính giai thừa của một số."
   ]
  },
  {
   "cell_type": "code",
   "execution_count": null,
   "id": "deb9a1be",
   "metadata": {},
   "outputs": [],
   "source": [
    "# Câu trả lời ở đây"
   ]
  },
  {
   "cell_type": "markdown",
   "id": "f51dc770",
   "metadata": {},
   "source": [
    "### Câu 74"
   ]
  },
  {
   "cell_type": "markdown",
   "id": "fb0a15fd",
   "metadata": {},
   "source": [
    "Viết hàm kiểm tra số chính phương."
   ]
  },
  {
   "cell_type": "code",
   "execution_count": null,
   "id": "acc5cad3",
   "metadata": {},
   "outputs": [],
   "source": [
    "# Câu trả lời ở đây"
   ]
  },
  {
   "cell_type": "markdown",
   "id": "790efccb",
   "metadata": {},
   "source": [
    "### Câu 75"
   ]
  },
  {
   "cell_type": "markdown",
   "id": "0bd522ce",
   "metadata": {},
   "source": [
    "Viết hàm kiểm tra chuỗi đối xứng."
   ]
  },
  {
   "cell_type": "code",
   "execution_count": null,
   "id": "46286064",
   "metadata": {},
   "outputs": [],
   "source": [
    "# Câu trả lời ở đây"
   ]
  },
  {
   "cell_type": "markdown",
   "id": "d561bd4b",
   "metadata": {},
   "source": [
    "### Câu 76"
   ]
  },
  {
   "cell_type": "markdown",
   "id": "0e101ecd",
   "metadata": {},
   "source": [
    "Viết hàm đếm số nguyên tố trong đoạn từ a đến b."
   ]
  },
  {
   "cell_type": "code",
   "execution_count": null,
   "id": "c0f97758",
   "metadata": {},
   "outputs": [],
   "source": [
    "# Câu trả lời ở đây"
   ]
  },
  {
   "cell_type": "markdown",
   "id": "04b12d55",
   "metadata": {},
   "source": [
    "### Câu 77"
   ]
  },
  {
   "cell_type": "markdown",
   "id": "dbd0d54c",
   "metadata": {},
   "source": [
    "Viết hàm tìm ước chung lớn nhất (GCD)."
   ]
  },
  {
   "cell_type": "code",
   "execution_count": null,
   "id": "87861830",
   "metadata": {},
   "outputs": [],
   "source": [
    "# Câu trả lời ở đây"
   ]
  },
  {
   "cell_type": "markdown",
   "id": "161b0274",
   "metadata": {},
   "source": [
    "### Câu 78"
   ]
  },
  {
   "cell_type": "markdown",
   "id": "efd56ada",
   "metadata": {},
   "source": [
    "Viết hàm tìm bội chung nhỏ nhất (LCM)."
   ]
  },
  {
   "cell_type": "code",
   "execution_count": null,
   "id": "fd8601c8",
   "metadata": {},
   "outputs": [],
   "source": [
    "# Câu trả lời ở đây"
   ]
  },
  {
   "cell_type": "markdown",
   "id": "201ec816",
   "metadata": {},
   "source": [
    "### Câu 79"
   ]
  },
  {
   "cell_type": "markdown",
   "id": "b47b7963",
   "metadata": {},
   "source": [
    "Viết hàm nhận vào một danh sách và trả về số lớn nhất."
   ]
  },
  {
   "cell_type": "code",
   "execution_count": null,
   "id": "86f48e5e",
   "metadata": {},
   "outputs": [],
   "source": [
    "# Câu trả lời ở đây"
   ]
  },
  {
   "cell_type": "markdown",
   "id": "d69ac900",
   "metadata": {},
   "source": [
    "### Câu 80"
   ]
  },
  {
   "cell_type": "markdown",
   "id": "05ddebf8",
   "metadata": {},
   "source": [
    "Viết hàm chuyển đổi độ C sang độ F."
   ]
  },
  {
   "cell_type": "code",
   "execution_count": null,
   "id": "e6564e82",
   "metadata": {},
   "outputs": [],
   "source": [
    "# Câu trả lời ở đây"
   ]
  },
  {
   "cell_type": "markdown",
   "id": "a7e9736f",
   "metadata": {},
   "source": [
    "### Câu 81"
   ]
  },
  {
   "cell_type": "markdown",
   "id": "0a708665",
   "metadata": {},
   "source": [
    "Viết hàm kiểm tra tam giác hợp lệ và phân loại."
   ]
  },
  {
   "cell_type": "code",
   "execution_count": null,
   "id": "dd1ebf0d",
   "metadata": {},
   "outputs": [],
   "source": [
    "# Câu trả lời ở đây"
   ]
  },
  {
   "cell_type": "markdown",
   "id": "a58d20ab",
   "metadata": {},
   "source": [
    "### Câu 82"
   ]
  },
  {
   "cell_type": "markdown",
   "id": "5e9bc323",
   "metadata": {},
   "source": [
    "Viết hàm đảo ngược một chuỗi."
   ]
  },
  {
   "cell_type": "code",
   "execution_count": null,
   "id": "7f2b21a5",
   "metadata": {},
   "outputs": [],
   "source": [
    "# Câu trả lời ở đây"
   ]
  },
  {
   "cell_type": "markdown",
   "id": "93cd2c64",
   "metadata": {},
   "source": [
    "### Câu 83"
   ]
  },
  {
   "cell_type": "markdown",
   "id": "1ee326ef",
   "metadata": {},
   "source": [
    "Viết hàm đếm số lần xuất hiện của một ký tự trong chuỗi."
   ]
  },
  {
   "cell_type": "code",
   "execution_count": null,
   "id": "6766898b",
   "metadata": {},
   "outputs": [],
   "source": [
    "# Câu trả lời ở đây"
   ]
  },
  {
   "cell_type": "markdown",
   "id": "f9bacac3",
   "metadata": {},
   "source": [
    "### Câu 84"
   ]
  },
  {
   "cell_type": "markdown",
   "id": "614ca46e",
   "metadata": {},
   "source": [
    "Viết hàm tính tổng các chữ số của một số nguyên."
   ]
  },
  {
   "cell_type": "code",
   "execution_count": null,
   "id": "ca91d222",
   "metadata": {},
   "outputs": [],
   "source": [
    "# Câu trả lời ở đây"
   ]
  },
  {
   "cell_type": "markdown",
   "id": "cbd3e5ba",
   "metadata": {},
   "source": [
    "### Câu 85"
   ]
  },
  {
   "cell_type": "markdown",
   "id": "85c4d18a",
   "metadata": {},
   "source": [
    "Viết hàm kiểm tra năm nhuận."
   ]
  },
  {
   "cell_type": "code",
   "execution_count": null,
   "id": "77546e0e",
   "metadata": {},
   "outputs": [],
   "source": [
    "# Câu trả lời ở đây"
   ]
  },
  {
   "cell_type": "markdown",
   "id": "69ed6894",
   "metadata": {},
   "source": [
    "### Câu 86"
   ]
  },
  {
   "cell_type": "markdown",
   "id": "814e8599",
   "metadata": {},
   "source": [
    "Viết hàm tính chu vi và diện tích hình tròn (trả về tuple)."
   ]
  },
  {
   "cell_type": "code",
   "execution_count": null,
   "id": "85131e6c",
   "metadata": {},
   "outputs": [],
   "source": [
    "# Câu trả lời ở đây"
   ]
  },
  {
   "cell_type": "markdown",
   "id": "a32b01ea",
   "metadata": {},
   "source": [
    "### Câu 87"
   ]
  },
  {
   "cell_type": "markdown",
   "id": "2d93453f",
   "metadata": {},
   "source": [
    "Viết hàm nhập vào một danh sách và trả về danh sách các số chẵn."
   ]
  },
  {
   "cell_type": "code",
   "execution_count": null,
   "id": "8f4335d1",
   "metadata": {},
   "outputs": [],
   "source": [
    "# Câu trả lời ở đây"
   ]
  },
  {
   "cell_type": "markdown",
   "id": "a5c01399",
   "metadata": {},
   "source": [
    "### Câu 88"
   ]
  },
  {
   "cell_type": "markdown",
   "id": "82cb4b58",
   "metadata": {},
   "source": [
    "Viết hàm tìm số Fibonacci thứ n."
   ]
  },
  {
   "cell_type": "code",
   "execution_count": null,
   "id": "4b840eb8",
   "metadata": {},
   "outputs": [],
   "source": [
    "# Câu trả lời ở đây"
   ]
  },
  {
   "cell_type": "markdown",
   "id": "ace65d0e",
   "metadata": {},
   "source": [
    "### Câu 89"
   ]
  },
  {
   "cell_type": "markdown",
   "id": "b056a541",
   "metadata": {},
   "source": [
    "Viết hàm tính trung bình cộng của một danh sách số."
   ]
  },
  {
   "cell_type": "code",
   "execution_count": null,
   "id": "2f1b0472",
   "metadata": {},
   "outputs": [],
   "source": [
    "# Câu trả lời ở đây"
   ]
  },
  {
   "cell_type": "markdown",
   "id": "1d27a8cb",
   "metadata": {},
   "source": [
    "### Câu 90"
   ]
  },
  {
   "cell_type": "markdown",
   "id": "f0fd614a",
   "metadata": {},
   "source": [
    "Viết hàm kiểm tra một chuỗi có chứa toàn chữ cái không."
   ]
  },
  {
   "cell_type": "code",
   "execution_count": null,
   "id": "3b6b1a3f",
   "metadata": {},
   "outputs": [],
   "source": [
    "# Câu trả lời ở đây"
   ]
  },
  {
   "cell_type": "markdown",
   "id": "f201a0df",
   "metadata": {},
   "source": [
    "### Câu 91"
   ]
  },
  {
   "cell_type": "markdown",
   "id": "37d12082",
   "metadata": {},
   "source": [
    "Viết hàm xóa tất cả các ký tự trắng thừa trong chuỗi."
   ]
  },
  {
   "cell_type": "code",
   "execution_count": null,
   "id": "77fcff88",
   "metadata": {},
   "outputs": [],
   "source": [
    "# Câu trả lời ở đây"
   ]
  },
  {
   "cell_type": "markdown",
   "id": "46831345",
   "metadata": {},
   "source": [
    "### Câu 92"
   ]
  },
  {
   "cell_type": "markdown",
   "id": "f2fc0d93",
   "metadata": {},
   "source": [
    "Viết hàm tìm từ dài nhất trong một câu."
   ]
  },
  {
   "cell_type": "code",
   "execution_count": null,
   "id": "9d97cf62",
   "metadata": {},
   "outputs": [],
   "source": [
    "# Câu trả lời ở đây"
   ]
  },
  {
   "cell_type": "markdown",
   "id": "9824534c",
   "metadata": {},
   "source": [
    "### Câu 93"
   ]
  },
  {
   "cell_type": "markdown",
   "id": "3bf9d0bf",
   "metadata": {},
   "source": [
    "Viết hàm sắp xếp một danh sách tăng dần (không dùng sort)."
   ]
  },
  {
   "cell_type": "code",
   "execution_count": null,
   "id": "30adda90",
   "metadata": {},
   "outputs": [],
   "source": [
    "# Câu trả lời ở đây"
   ]
  },
  {
   "cell_type": "markdown",
   "id": "e171f296",
   "metadata": {},
   "source": [
    "### Câu 94"
   ]
  },
  {
   "cell_type": "markdown",
   "id": "7c2149c2",
   "metadata": {},
   "source": [
    "Viết hàm đếm số chữ số trong một số."
   ]
  },
  {
   "cell_type": "code",
   "execution_count": null,
   "id": "99a7de1f",
   "metadata": {},
   "outputs": [],
   "source": [
    "# Câu trả lời ở đây"
   ]
  },
  {
   "cell_type": "markdown",
   "id": "6e31a30a",
   "metadata": {},
   "source": [
    "### Câu 95"
   ]
  },
  {
   "cell_type": "markdown",
   "id": "427d45de",
   "metadata": {},
   "source": [
    "Viết hàm nhận vào 3 cạnh và trả về diện tích tam giác."
   ]
  },
  {
   "cell_type": "code",
   "execution_count": null,
   "id": "ec22fc6d",
   "metadata": {},
   "outputs": [],
   "source": [
    "# Câu trả lời ở đây"
   ]
  },
  {
   "cell_type": "markdown",
   "id": "4ce1d61a",
   "metadata": {},
   "source": [
    "### Câu 96"
   ]
  },
  {
   "cell_type": "markdown",
   "id": "778e6e53",
   "metadata": {},
   "source": [
    "Viết hàm tính tổng các số lẻ nhỏ hơn n."
   ]
  },
  {
   "cell_type": "code",
   "execution_count": null,
   "id": "1f7e3fd7",
   "metadata": {},
   "outputs": [],
   "source": [
    "# Câu trả lời ở đây"
   ]
  },
  {
   "cell_type": "markdown",
   "id": "f610b356",
   "metadata": {},
   "source": [
    "### Câu 97"
   ]
  },
  {
   "cell_type": "markdown",
   "id": "04a00fd7",
   "metadata": {},
   "source": [
    "Viết hàm lọc các số chia hết cho 3 trong một danh sách."
   ]
  },
  {
   "cell_type": "code",
   "execution_count": null,
   "id": "aafdffa6",
   "metadata": {},
   "outputs": [],
   "source": [
    "# Câu trả lời ở đây"
   ]
  },
  {
   "cell_type": "markdown",
   "id": "6cca2fa1",
   "metadata": {},
   "source": [
    "### Câu 98"
   ]
  },
  {
   "cell_type": "markdown",
   "id": "5a30727d",
   "metadata": {},
   "source": [
    "Viết hàm đếm số nguyên âm trong danh sách."
   ]
  },
  {
   "cell_type": "code",
   "execution_count": null,
   "id": "558fe959",
   "metadata": {},
   "outputs": [],
   "source": [
    "# Câu trả lời ở đây"
   ]
  },
  {
   "cell_type": "markdown",
   "id": "69347fee",
   "metadata": {},
   "source": [
    "### Câu 99"
   ]
  },
  {
   "cell_type": "markdown",
   "id": "f8d613d3",
   "metadata": {},
   "source": [
    "Viết hàm loại bỏ phần tử trùng lặp trong danh sách."
   ]
  },
  {
   "cell_type": "code",
   "execution_count": null,
   "id": "c1f61bee",
   "metadata": {},
   "outputs": [],
   "source": [
    "# Câu trả lời ở đây"
   ]
  },
  {
   "cell_type": "markdown",
   "id": "84eff007",
   "metadata": {},
   "source": [
    "### Câu 100"
   ]
  },
  {
   "cell_type": "markdown",
   "id": "ee38e6e6",
   "metadata": {},
   "source": [
    "Viết hàm trả về tổng của các phần tử trên đường chéo chính của ma trận vuông 2D."
   ]
  },
  {
   "cell_type": "code",
   "execution_count": null,
   "id": "8dea993e",
   "metadata": {},
   "outputs": [],
   "source": [
    "# Câu trả lời ở đây"
   ]
  }
 ],
 "metadata": {
  "kernelspec": {
   "display_name": "Python 3 (ipykernel)",
   "language": "python",
   "name": "python3"
  },
  "language_info": {
   "codemirror_mode": {
    "name": "ipython",
    "version": 3
   },
   "file_extension": ".py",
   "mimetype": "text/x-python",
   "name": "python",
   "nbconvert_exporter": "python",
   "pygments_lexer": "ipython3",
   "version": "3.13.2"
  }
 },
 "nbformat": 4,
 "nbformat_minor": 5
}
