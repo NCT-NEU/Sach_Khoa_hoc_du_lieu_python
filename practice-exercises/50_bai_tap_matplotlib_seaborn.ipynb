{
 "cells": [
  {
   "cell_type": "markdown",
   "id": "66fb8651-1e5b-41aa-b355-44571ae74364",
   "metadata": {},
   "source": [
    "# Thực hành trực quan hóa dữ liệu"
   ]
  },
  {
   "cell_type": "markdown",
   "id": "b73dfdc5",
   "metadata": {},
   "source": [
    "### Câu 1 - Dữ liệu Iris"
   ]
  },
  {
   "cell_type": "markdown",
   "id": "495d44ff",
   "metadata": {},
   "source": [
    "Vẽ biểu đồ scatter giữa sepal length và sepal width, phân biệt theo loài hoa."
   ]
  },
  {
   "cell_type": "code",
   "execution_count": null,
   "id": "7f677526",
   "metadata": {},
   "outputs": [],
   "source": [
    "# Câu trả lời ở đây"
   ]
  },
  {
   "cell_type": "markdown",
   "id": "22b071f8",
   "metadata": {},
   "source": [
    "### Câu 2 - Dữ liệu Iris"
   ]
  },
  {
   "cell_type": "markdown",
   "id": "c9892f4c",
   "metadata": {},
   "source": [
    "Vẽ biểu đồ histogram của petal length."
   ]
  },
  {
   "cell_type": "code",
   "execution_count": null,
   "id": "641be4a9",
   "metadata": {},
   "outputs": [],
   "source": [
    "# Câu trả lời ở đây"
   ]
  },
  {
   "cell_type": "markdown",
   "id": "e3d750b8",
   "metadata": {},
   "source": [
    "### Câu 3 - Dữ liệu Iris"
   ]
  },
  {
   "cell_type": "markdown",
   "id": "3bd0eb48",
   "metadata": {},
   "source": [
    "Vẽ biểu đồ boxplot của toàn bộ các đặc trưng."
   ]
  },
  {
   "cell_type": "code",
   "execution_count": null,
   "id": "b5fb985a",
   "metadata": {},
   "outputs": [],
   "source": [
    "# Câu trả lời ở đây"
   ]
  },
  {
   "cell_type": "markdown",
   "id": "a251e004",
   "metadata": {},
   "source": [
    "### Câu 4 - Dữ liệu Iris"
   ]
  },
  {
   "cell_type": "markdown",
   "id": "219c6e21",
   "metadata": {},
   "source": [
    "Vẽ biểu đồ pairplot cho dữ liệu iris."
   ]
  },
  {
   "cell_type": "code",
   "execution_count": null,
   "id": "bd8eaa86",
   "metadata": {},
   "outputs": [],
   "source": [
    "# Câu trả lời ở đây"
   ]
  },
  {
   "cell_type": "markdown",
   "id": "e46f029c",
   "metadata": {},
   "source": [
    "### Câu 5 - Dữ liệu Iris"
   ]
  },
  {
   "cell_type": "markdown",
   "id": "fd37b6b2",
   "metadata": {},
   "source": [
    "Vẽ biểu đồ violin cho chiều dài cánh hoa theo từng loài."
   ]
  },
  {
   "cell_type": "code",
   "execution_count": null,
   "id": "6bc4abdf",
   "metadata": {},
   "outputs": [],
   "source": [
    "# Câu trả lời ở đây"
   ]
  },
  {
   "cell_type": "markdown",
   "id": "02a923e9",
   "metadata": {},
   "source": [
    "### Câu 6 - Dữ liệu Iris"
   ]
  },
  {
   "cell_type": "markdown",
   "id": "b31f9a96",
   "metadata": {},
   "source": [
    "Vẽ biểu đồ stripplot cho petal width theo từng loài."
   ]
  },
  {
   "cell_type": "code",
   "execution_count": null,
   "id": "cb5968dc",
   "metadata": {},
   "outputs": [],
   "source": [
    "# Câu trả lời ở đây"
   ]
  },
  {
   "cell_type": "markdown",
   "id": "ea0b5f6c",
   "metadata": {},
   "source": [
    "### Câu 7 - Dữ liệu Iris"
   ]
  },
  {
   "cell_type": "markdown",
   "id": "e757f8d5",
   "metadata": {},
   "source": [
    "Vẽ heatmap biểu diễn ma trận tương quan giữa các đặc trưng."
   ]
  },
  {
   "cell_type": "code",
   "execution_count": null,
   "id": "270043a1",
   "metadata": {},
   "outputs": [],
   "source": [
    "# Câu trả lời ở đây"
   ]
  },
  {
   "cell_type": "markdown",
   "id": "acda04bb",
   "metadata": {},
   "source": [
    "### Câu 8 - Dữ liệu Iris"
   ]
  },
  {
   "cell_type": "markdown",
   "id": "156f7fca",
   "metadata": {},
   "source": [
    "Vẽ biểu đồ countplot cho số lượng mẫu theo từng loài."
   ]
  },
  {
   "cell_type": "code",
   "execution_count": null,
   "id": "0e3ac16c",
   "metadata": {},
   "outputs": [],
   "source": [
    "# Câu trả lời ở đây"
   ]
  },
  {
   "cell_type": "markdown",
   "id": "a8055a67",
   "metadata": {},
   "source": [
    "### Câu 9 - Dữ liệu Iris"
   ]
  },
  {
   "cell_type": "markdown",
   "id": "11724207",
   "metadata": {},
   "source": [
    "Vẽ biểu đồ KDE của sepal width."
   ]
  },
  {
   "cell_type": "code",
   "execution_count": null,
   "id": "0e5fcf82",
   "metadata": {},
   "outputs": [],
   "source": [
    "# Câu trả lời ở đây"
   ]
  },
  {
   "cell_type": "markdown",
   "id": "3565f275",
   "metadata": {},
   "source": [
    "### Câu 10 - Dữ liệu Iris"
   ]
  },
  {
   "cell_type": "markdown",
   "id": "f7938308",
   "metadata": {},
   "source": [
    "Vẽ biểu đồ scatter 3 chiều giữa sepal length, petal length và sepal width."
   ]
  },
  {
   "cell_type": "code",
   "execution_count": null,
   "id": "d927d7eb",
   "metadata": {},
   "outputs": [],
   "source": [
    "# Câu trả lời ở đây"
   ]
  },
  {
   "cell_type": "markdown",
   "id": "f646a2b2",
   "metadata": {},
   "source": [
    "### Câu 11 - Dữ liệu Boston Housing"
   ]
  },
  {
   "cell_type": "markdown",
   "id": "ea6c286a",
   "metadata": {},
   "source": [
    "Vẽ biểu đồ phân phối (distplot) của MEDV (giá nhà)."
   ]
  },
  {
   "cell_type": "code",
   "execution_count": null,
   "id": "8b2bb495",
   "metadata": {},
   "outputs": [],
   "source": [
    "# Câu trả lời ở đây"
   ]
  },
  {
   "cell_type": "markdown",
   "id": "142ea075",
   "metadata": {},
   "source": [
    "### Câu 12 - Dữ liệu Boston Housing"
   ]
  },
  {
   "cell_type": "markdown",
   "id": "047ac828",
   "metadata": {},
   "source": [
    "Vẽ scatter plot giữa RM (số phòng) và MEDV."
   ]
  },
  {
   "cell_type": "code",
   "execution_count": null,
   "id": "9fe320d1",
   "metadata": {},
   "outputs": [],
   "source": [
    "# Câu trả lời ở đây"
   ]
  },
  {
   "cell_type": "markdown",
   "id": "eb6e0a84",
   "metadata": {},
   "source": [
    "### Câu 13 - Dữ liệu Boston Housing"
   ]
  },
  {
   "cell_type": "markdown",
   "id": "c743a4fc",
   "metadata": {},
   "source": [
    "Vẽ heatmap tương quan giữa các biến."
   ]
  },
  {
   "cell_type": "code",
   "execution_count": null,
   "id": "f8ec9b63",
   "metadata": {},
   "outputs": [],
   "source": [
    "# Câu trả lời ở đây"
   ]
  },
  {
   "cell_type": "markdown",
   "id": "4d9c80f2",
   "metadata": {},
   "source": [
    "### Câu 14 - Dữ liệu Boston Housing"
   ]
  },
  {
   "cell_type": "markdown",
   "id": "8b345548",
   "metadata": {},
   "source": [
    "Vẽ boxplot của CRIM (tội phạm) theo mức độ giá nhà cao/thấp."
   ]
  },
  {
   "cell_type": "code",
   "execution_count": null,
   "id": "bad24464",
   "metadata": {},
   "outputs": [],
   "source": [
    "# Câu trả lời ở đây"
   ]
  },
  {
   "cell_type": "markdown",
   "id": "23288c7a",
   "metadata": {},
   "source": [
    "### Câu 15 - Dữ liệu Boston Housing"
   ]
  },
  {
   "cell_type": "markdown",
   "id": "eac6dee8",
   "metadata": {},
   "source": [
    "Vẽ pairplot cho các biến: RM, LSTAT, MEDV."
   ]
  },
  {
   "cell_type": "code",
   "execution_count": null,
   "id": "7b9fb7c5",
   "metadata": {},
   "outputs": [],
   "source": [
    "# Câu trả lời ở đây"
   ]
  },
  {
   "cell_type": "markdown",
   "id": "3dfc848d",
   "metadata": {},
   "source": [
    "### Câu 16 - Dữ liệu Boston Housing"
   ]
  },
  {
   "cell_type": "markdown",
   "id": "3fadc96d",
   "metadata": {},
   "source": [
    "Vẽ biểu đồ bar thể hiện trung bình MEDV theo chỉ số RAD."
   ]
  },
  {
   "cell_type": "code",
   "execution_count": null,
   "id": "fcf96a43",
   "metadata": {},
   "outputs": [],
   "source": [
    "# Câu trả lời ở đây"
   ]
  },
  {
   "cell_type": "markdown",
   "id": "9333fea3",
   "metadata": {},
   "source": [
    "### Câu 17 - Dữ liệu Boston Housing"
   ]
  },
  {
   "cell_type": "markdown",
   "id": "20427d78",
   "metadata": {},
   "source": [
    "Vẽ histogram cho biến AGE."
   ]
  },
  {
   "cell_type": "code",
   "execution_count": null,
   "id": "26749f7f",
   "metadata": {},
   "outputs": [],
   "source": [
    "# Câu trả lời ở đây"
   ]
  },
  {
   "cell_type": "markdown",
   "id": "169f35ae",
   "metadata": {},
   "source": [
    "### Câu 18 - Dữ liệu Boston Housing"
   ]
  },
  {
   "cell_type": "markdown",
   "id": "2241973b",
   "metadata": {},
   "source": [
    "Vẽ scatter plot giữa DIS và NOX."
   ]
  },
  {
   "cell_type": "code",
   "execution_count": null,
   "id": "68effa8d",
   "metadata": {},
   "outputs": [],
   "source": [
    "# Câu trả lời ở đây"
   ]
  },
  {
   "cell_type": "markdown",
   "id": "4cd86d39",
   "metadata": {},
   "source": [
    "### Câu 19 - Dữ liệu Boston Housing"
   ]
  },
  {
   "cell_type": "markdown",
   "id": "248dc4fb",
   "metadata": {},
   "source": [
    "Vẽ biểu đồ violin cho LSTAT chia theo mức độ MEDV."
   ]
  },
  {
   "cell_type": "code",
   "execution_count": null,
   "id": "a535e1fa",
   "metadata": {},
   "outputs": [],
   "source": [
    "# Câu trả lời ở đây"
   ]
  },
  {
   "cell_type": "markdown",
   "id": "5abf835e",
   "metadata": {},
   "source": [
    "### Câu 20 - Dữ liệu Boston Housing"
   ]
  },
  {
   "cell_type": "markdown",
   "id": "279a3795",
   "metadata": {},
   "source": [
    "Vẽ biểu đồ line cho giá nhà theo chỉ số."
   ]
  },
  {
   "cell_type": "code",
   "execution_count": null,
   "id": "6c7b5bf2",
   "metadata": {},
   "outputs": [],
   "source": [
    "# Câu trả lời ở đây"
   ]
  },
  {
   "cell_type": "markdown",
   "id": "6cdbc77d",
   "metadata": {},
   "source": [
    "### Câu 21 - Dữ liệu Boston Housing"
   ]
  },
  {
   "cell_type": "markdown",
   "id": "609d80b1",
   "metadata": {},
   "source": [
    "Vẽ boxplot các biến chuẩn hóa của Boston Housing."
   ]
  },
  {
   "cell_type": "code",
   "execution_count": null,
   "id": "5f2017aa",
   "metadata": {},
   "outputs": [],
   "source": [
    "# Câu trả lời ở đây"
   ]
  },
  {
   "cell_type": "markdown",
   "id": "92a99772",
   "metadata": {},
   "source": [
    "### Câu 22 - Dữ liệu Boston Housing"
   ]
  },
  {
   "cell_type": "markdown",
   "id": "1b06626d",
   "metadata": {},
   "source": [
    "Vẽ heatmap hiển thị tương quan giữa 10 biến đầu tiên."
   ]
  },
  {
   "cell_type": "code",
   "execution_count": null,
   "id": "39cb992c",
   "metadata": {},
   "outputs": [],
   "source": [
    "# Câu trả lời ở đây"
   ]
  },
  {
   "cell_type": "markdown",
   "id": "6df9708b",
   "metadata": {},
   "source": [
    "### Câu 23 - Dữ liệu Boston Housing"
   ]
  },
  {
   "cell_type": "markdown",
   "id": "b3acc4c3",
   "metadata": {},
   "source": [
    "Vẽ biểu đồ countplot của CHAS (gần sông)."
   ]
  },
  {
   "cell_type": "code",
   "execution_count": null,
   "id": "1ca2952a",
   "metadata": {},
   "outputs": [],
   "source": [
    "# Câu trả lời ở đây"
   ]
  },
  {
   "cell_type": "markdown",
   "id": "c41dc0d8",
   "metadata": {},
   "source": [
    "### Câu 24 - Dữ liệu Boston Housing"
   ]
  },
  {
   "cell_type": "markdown",
   "id": "95ece62e",
   "metadata": {},
   "source": [
    "Vẽ biểu đồ scatter có phân biệt điểm theo mức độ PTRATIO."
   ]
  },
  {
   "cell_type": "code",
   "execution_count": null,
   "id": "9cacd1cb",
   "metadata": {},
   "outputs": [],
   "source": [
    "# Câu trả lời ở đây"
   ]
  },
  {
   "cell_type": "markdown",
   "id": "b41f136c",
   "metadata": {},
   "source": [
    "### Câu 25 - Dữ liệu Boston Housing"
   ]
  },
  {
   "cell_type": "markdown",
   "id": "d7a6202b",
   "metadata": {},
   "source": [
    "Vẽ biểu đồ kdeplot cho biến TAX."
   ]
  },
  {
   "cell_type": "code",
   "execution_count": null,
   "id": "61ab3303",
   "metadata": {},
   "outputs": [],
   "source": [
    "# Câu trả lời ở đây"
   ]
  },
  {
   "cell_type": "markdown",
   "id": "632b0e75",
   "metadata": {},
   "source": [
    "### Câu 26 - Dữ liệu Boston Housing"
   ]
  },
  {
   "cell_type": "markdown",
   "id": "ce3fd2f9",
   "metadata": {},
   "source": [
    "Vẽ biểu đồ bar của trung bình RM theo các nhóm LSTAT thấp/trung/bcao."
   ]
  },
  {
   "cell_type": "code",
   "execution_count": null,
   "id": "57728108",
   "metadata": {},
   "outputs": [],
   "source": [
    "# Câu trả lời ở đây"
   ]
  },
  {
   "cell_type": "markdown",
   "id": "f5e9901f",
   "metadata": {},
   "source": [
    "### Câu 27 - Dữ liệu Boston Housing"
   ]
  },
  {
   "cell_type": "markdown",
   "id": "fa18188f",
   "metadata": {},
   "source": [
    "Vẽ biểu đồ scatter giữa RM và MEDV có gradient theo AGE."
   ]
  },
  {
   "cell_type": "code",
   "execution_count": null,
   "id": "bfe28b59",
   "metadata": {},
   "outputs": [],
   "source": [
    "# Câu trả lời ở đây"
   ]
  },
  {
   "cell_type": "markdown",
   "id": "bd28c0a4",
   "metadata": {},
   "source": [
    "### Câu 28 - Dữ liệu Boston Housing"
   ]
  },
  {
   "cell_type": "markdown",
   "id": "9113bfc3",
   "metadata": {},
   "source": [
    "Vẽ biểu đồ stack bar theo RAD và trung bình giá nhà."
   ]
  },
  {
   "cell_type": "code",
   "execution_count": null,
   "id": "301c4baa",
   "metadata": {},
   "outputs": [],
   "source": [
    "# Câu trả lời ở đây"
   ]
  },
  {
   "cell_type": "markdown",
   "id": "8d0d78a0",
   "metadata": {},
   "source": [
    "### Câu 29 - Dữ liệu Boston Housing"
   ]
  },
  {
   "cell_type": "markdown",
   "id": "a3aaf610",
   "metadata": {},
   "source": [
    "Vẽ biểu đồ hexbin giữa RM và LSTAT."
   ]
  },
  {
   "cell_type": "code",
   "execution_count": null,
   "id": "20202205",
   "metadata": {},
   "outputs": [],
   "source": [
    "# Câu trả lời ở đây"
   ]
  },
  {
   "cell_type": "markdown",
   "id": "197d8798",
   "metadata": {},
   "source": [
    "### Câu 30 - Dữ liệu Boston Housing"
   ]
  },
  {
   "cell_type": "markdown",
   "id": "2e95392f",
   "metadata": {},
   "source": [
    "Vẽ biểu đồ ECDF (Empirical CDF) cho MEDV."
   ]
  },
  {
   "cell_type": "code",
   "execution_count": null,
   "id": "2942f507",
   "metadata": {},
   "outputs": [],
   "source": [
    "# Câu trả lời ở đây"
   ]
  },
  {
   "cell_type": "markdown",
   "id": "b831fc4e",
   "metadata": {},
   "source": [
    "### Câu 31 - Dữ liệu Ung thư Wisconsin"
   ]
  },
  {
   "cell_type": "markdown",
   "id": "51fbadc1",
   "metadata": {},
   "source": [
    "Vẽ biểu đồ countplot cho chẩn đoán (diagnosis)."
   ]
  },
  {
   "cell_type": "code",
   "execution_count": null,
   "id": "57fda562",
   "metadata": {},
   "outputs": [],
   "source": [
    "# Câu trả lời ở đây"
   ]
  },
  {
   "cell_type": "markdown",
   "id": "33b1bf9c",
   "metadata": {},
   "source": [
    "### Câu 32 - Dữ liệu Ung thư Wisconsin"
   ]
  },
  {
   "cell_type": "markdown",
   "id": "9c119ecc",
   "metadata": {},
   "source": [
    "Vẽ histogram của 'mean radius'."
   ]
  },
  {
   "cell_type": "code",
   "execution_count": null,
   "id": "4b9969f8",
   "metadata": {},
   "outputs": [],
   "source": [
    "# Câu trả lời ở đây"
   ]
  },
  {
   "cell_type": "markdown",
   "id": "ecf03dab",
   "metadata": {},
   "source": [
    "### Câu 33 - Dữ liệu Ung thư Wisconsin"
   ]
  },
  {
   "cell_type": "markdown",
   "id": "3707032f",
   "metadata": {},
   "source": [
    "Vẽ boxplot của 'mean texture' chia theo diagnosis."
   ]
  },
  {
   "cell_type": "code",
   "execution_count": null,
   "id": "f9b0f28f",
   "metadata": {},
   "outputs": [],
   "source": [
    "# Câu trả lời ở đây"
   ]
  },
  {
   "cell_type": "markdown",
   "id": "570bf470",
   "metadata": {},
   "source": [
    "### Câu 34 - Dữ liệu Ung thư Wisconsin"
   ]
  },
  {
   "cell_type": "markdown",
   "id": "64f0f3c6",
   "metadata": {},
   "source": [
    "Vẽ pairplot cho các cột: mean radius, mean texture, mean area."
   ]
  },
  {
   "cell_type": "code",
   "execution_count": null,
   "id": "f44a94b7",
   "metadata": {},
   "outputs": [],
   "source": [
    "# Câu trả lời ở đây"
   ]
  },
  {
   "cell_type": "markdown",
   "id": "a006c1a5",
   "metadata": {},
   "source": [
    "### Câu 35 - Dữ liệu Ung thư Wisconsin"
   ]
  },
  {
   "cell_type": "markdown",
   "id": "05edd3f4",
   "metadata": {},
   "source": [
    "Vẽ biểu đồ violin cho 'mean compactness' theo diagnosis."
   ]
  },
  {
   "cell_type": "code",
   "execution_count": null,
   "id": "73dfe0fe",
   "metadata": {},
   "outputs": [],
   "source": [
    "# Câu trả lời ở đây"
   ]
  },
  {
   "cell_type": "markdown",
   "id": "1473ed5d",
   "metadata": {},
   "source": [
    "### Câu 36 - Dữ liệu Ung thư Wisconsin"
   ]
  },
  {
   "cell_type": "markdown",
   "id": "b25eebe7",
   "metadata": {},
   "source": [
    "Vẽ heatmap của tương quan giữa các đặc trưng."
   ]
  },
  {
   "cell_type": "code",
   "execution_count": null,
   "id": "1ae40955",
   "metadata": {},
   "outputs": [],
   "source": [
    "# Câu trả lời ở đây"
   ]
  },
  {
   "cell_type": "markdown",
   "id": "3aba52e6",
   "metadata": {},
   "source": [
    "### Câu 37 - Dữ liệu Ung thư Wisconsin"
   ]
  },
  {
   "cell_type": "markdown",
   "id": "c04217a8",
   "metadata": {},
   "source": [
    "Vẽ biểu đồ KDE của 'mean perimeter'."
   ]
  },
  {
   "cell_type": "code",
   "execution_count": null,
   "id": "0e50fc53",
   "metadata": {},
   "outputs": [],
   "source": [
    "# Câu trả lời ở đây"
   ]
  },
  {
   "cell_type": "markdown",
   "id": "e440426c",
   "metadata": {},
   "source": [
    "### Câu 38 - Dữ liệu Ung thư Wisconsin"
   ]
  },
  {
   "cell_type": "markdown",
   "id": "47ac5e5c",
   "metadata": {},
   "source": [
    "Vẽ biểu đồ scatter giữa 'mean radius' và 'mean area'."
   ]
  },
  {
   "cell_type": "code",
   "execution_count": null,
   "id": "8410a856",
   "metadata": {},
   "outputs": [],
   "source": [
    "# Câu trả lời ở đây"
   ]
  },
  {
   "cell_type": "markdown",
   "id": "b8fb7ebd",
   "metadata": {},
   "source": [
    "### Câu 39 - Dữ liệu Ung thư Wisconsin"
   ]
  },
  {
   "cell_type": "markdown",
   "id": "ad661dc2",
   "metadata": {},
   "source": [
    "Vẽ biểu đồ line cho 5 mẫu đầu tiên với tất cả đặc trưng."
   ]
  },
  {
   "cell_type": "code",
   "execution_count": null,
   "id": "67d7f88f",
   "metadata": {},
   "outputs": [],
   "source": [
    "# Câu trả lời ở đây"
   ]
  },
  {
   "cell_type": "markdown",
   "id": "3f12c19c",
   "metadata": {},
   "source": [
    "### Câu 40 - Dữ liệu Ung thư Wisconsin"
   ]
  },
  {
   "cell_type": "markdown",
   "id": "11db0584",
   "metadata": {},
   "source": [
    "Vẽ biểu đồ boxplot toàn bộ đặc trưng (chuyển df sang long-form)."
   ]
  },
  {
   "cell_type": "code",
   "execution_count": null,
   "id": "ce45d3d4",
   "metadata": {},
   "outputs": [],
   "source": [
    "# Câu trả lời ở đây"
   ]
  },
  {
   "cell_type": "markdown",
   "id": "ab2a1158",
   "metadata": {},
   "source": [
    "### Câu 41 - Dữ liệu Ung thư Wisconsin"
   ]
  },
  {
   "cell_type": "markdown",
   "id": "cbf0e5f3",
   "metadata": {},
   "source": [
    "Vẽ barplot trung bình 'mean radius' theo diagnosis."
   ]
  },
  {
   "cell_type": "code",
   "execution_count": null,
   "id": "1dce5cd8",
   "metadata": {},
   "outputs": [],
   "source": [
    "# Câu trả lời ở đây"
   ]
  },
  {
   "cell_type": "markdown",
   "id": "5ad3988b",
   "metadata": {},
   "source": [
    "### Câu 42 - Dữ liệu Ung thư Wisconsin"
   ]
  },
  {
   "cell_type": "markdown",
   "id": "84246f39",
   "metadata": {},
   "source": [
    "Vẽ biểu đồ stripplot cho 'mean texture' phân theo diagnosis."
   ]
  },
  {
   "cell_type": "code",
   "execution_count": null,
   "id": "fa527a68",
   "metadata": {},
   "outputs": [],
   "source": [
    "# Câu trả lời ở đây"
   ]
  },
  {
   "cell_type": "markdown",
   "id": "9e58f848",
   "metadata": {},
   "source": [
    "### Câu 43 - Dữ liệu Ung thư Wisconsin"
   ]
  },
  {
   "cell_type": "markdown",
   "id": "248cb9e8",
   "metadata": {},
   "source": [
    "Vẽ biểu đồ line biểu diễn trung bình theo các đặc trưng."
   ]
  },
  {
   "cell_type": "code",
   "execution_count": null,
   "id": "cef63072",
   "metadata": {},
   "outputs": [],
   "source": [
    "# Câu trả lời ở đây"
   ]
  },
  {
   "cell_type": "markdown",
   "id": "75bcd2e6",
   "metadata": {},
   "source": [
    "### Câu 44 - Dữ liệu Ung thư Wisconsin"
   ]
  },
  {
   "cell_type": "markdown",
   "id": "25678191",
   "metadata": {},
   "source": [
    "Vẽ biểu đồ boxenplot của 'mean concavity'."
   ]
  },
  {
   "cell_type": "code",
   "execution_count": null,
   "id": "13ea01aa",
   "metadata": {},
   "outputs": [],
   "source": [
    "# Câu trả lời ở đây"
   ]
  },
  {
   "cell_type": "markdown",
   "id": "fe177605",
   "metadata": {},
   "source": [
    "### Câu 45 - Dữ liệu Ung thư Wisconsin"
   ]
  },
  {
   "cell_type": "markdown",
   "id": "9df4d585",
   "metadata": {},
   "source": [
    "Vẽ biểu đồ swarmplot giữa 'mean smoothness' và diagnosis."
   ]
  },
  {
   "cell_type": "code",
   "execution_count": null,
   "id": "a66e30ff",
   "metadata": {},
   "outputs": [],
   "source": [
    "# Câu trả lời ở đây"
   ]
  },
  {
   "cell_type": "markdown",
   "id": "0a62a62c",
   "metadata": {},
   "source": [
    "### Câu 46 - Dữ liệu Ung thư Wisconsin"
   ]
  },
  {
   "cell_type": "markdown",
   "id": "d50bee15",
   "metadata": {},
   "source": [
    "Vẽ biểu đồ 3D scatter giữa 3 đặc trưng đầu tiên."
   ]
  },
  {
   "cell_type": "code",
   "execution_count": null,
   "id": "eec8a52a",
   "metadata": {},
   "outputs": [],
   "source": [
    "# Câu trả lời ở đây"
   ]
  },
  {
   "cell_type": "markdown",
   "id": "f8eeb117",
   "metadata": {},
   "source": [
    "### Câu 47 - Dữ liệu Ung thư Wisconsin"
   ]
  },
  {
   "cell_type": "markdown",
   "id": "17aa14ae",
   "metadata": {},
   "source": [
    "Vẽ biểu đồ heatmap với annot=True cho top 10 đặc trưng có tương quan cao nhất với mean radius."
   ]
  },
  {
   "cell_type": "code",
   "execution_count": null,
   "id": "150d0474",
   "metadata": {},
   "outputs": [],
   "source": [
    "# Câu trả lời ở đây"
   ]
  },
  {
   "cell_type": "markdown",
   "id": "eb2c412e",
   "metadata": {},
   "source": [
    "### Câu 48 - Dữ liệu Ung thư Wisconsin"
   ]
  },
  {
   "cell_type": "markdown",
   "id": "1388054e",
   "metadata": {},
   "source": [
    "Vẽ histogram của tất cả đặc trưng sử dụng pandas plot."
   ]
  },
  {
   "cell_type": "code",
   "execution_count": null,
   "id": "1846e8c8",
   "metadata": {},
   "outputs": [],
   "source": [
    "# Câu trả lời ở đây"
   ]
  },
  {
   "cell_type": "markdown",
   "id": "460cb54d",
   "metadata": {},
   "source": [
    "### Câu 49 - Dữ liệu Ung thư Wisconsin"
   ]
  },
  {
   "cell_type": "markdown",
   "id": "67a2a5f2",
   "metadata": {},
   "source": [
    "Vẽ biểu đồ boxplot so sánh giữa mean area và mean perimeter theo diagnosis."
   ]
  },
  {
   "cell_type": "code",
   "execution_count": null,
   "id": "aedcd91a",
   "metadata": {},
   "outputs": [],
   "source": [
    "# Câu trả lời ở đây"
   ]
  },
  {
   "cell_type": "markdown",
   "id": "b98bf82c",
   "metadata": {},
   "source": [
    "### Câu 50 - Dữ liệu Ung thư Wisconsin"
   ]
  },
  {
   "cell_type": "markdown",
   "id": "ddf9ecf4",
   "metadata": {},
   "source": [
    "Vẽ biểu đồ scatter giữa 2 đặc trưng với màu sắc theo chẩn đoán."
   ]
  },
  {
   "cell_type": "code",
   "execution_count": null,
   "id": "21268b51",
   "metadata": {},
   "outputs": [],
   "source": [
    "# Câu trả lời ở đây"
   ]
  }
 ],
 "metadata": {
  "kernelspec": {
   "display_name": "Python 3 (ipykernel)",
   "language": "python",
   "name": "python3"
  },
  "language_info": {
   "codemirror_mode": {
    "name": "ipython",
    "version": 3
   },
   "file_extension": ".py",
   "mimetype": "text/x-python",
   "name": "python",
   "nbconvert_exporter": "python",
   "pygments_lexer": "ipython3",
   "version": "3.13.2"
  }
 },
 "nbformat": 4,
 "nbformat_minor": 5
}
