{
 "cells": [
  {
   "cell_type": "markdown",
   "id": "85502c43",
   "metadata": {},
   "source": [
    "# 📊 Phân tích và Khai phá Dữ liệu\n",
    "**Biến mục tiêu:** `term_deposit`\n",
    "\n",
    "Chúng ta sẽ khám phá từng biến đầu vào và đánh giá ảnh hưởng đến khả năng đăng ký tiền gửi có kỳ hạn (`term_deposit`)."
   ]
  },
  {
   "cell_type": "code",
   "execution_count": null,
   "id": "1632050f",
   "metadata": {},
   "outputs": [],
   "source": [
    "import pandas as pd\n",
    "import seaborn as sns\n",
    "import matplotlib.pyplot as plt\n",
    "import numpy as np\n",
    "\n",
    "# Đọc dữ liệu\n",
    "df = pd.read_csv('BankCustomerData.csv')\n",
    "df.head()"
   ]
  },
  {
   "cell_type": "markdown",
   "id": "42d2184c",
   "metadata": {},
   "source": [
    "## 📌 Tổng quan dữ liệu"
   ]
  },
  {
   "cell_type": "code",
   "execution_count": null,
   "id": "43af02e7",
   "metadata": {},
   "outputs": [],
   "source": [
    "df.info()\n",
    "df.describe(include='all')"
   ]
  },
  {
   "cell_type": "markdown",
   "id": "3b57f290",
   "metadata": {},
   "source": [
    "## 🎯 Phân phối biến mục tiêu `term_deposit`"
   ]
  },
  {
   "cell_type": "code",
   "execution_count": null,
   "id": "5c394bf8",
   "metadata": {},
   "outputs": [],
   "source": [
    "sns.countplot(x='term_deposit', data=df)\n",
    "plt.title('Phân phối biến mục tiêu')\n",
    "plt.show()\n",
    "df['term_deposit'].value_counts(normalize=True)"
   ]
  },
  {
   "cell_type": "markdown",
   "id": "8d871b3f",
   "metadata": {},
   "source": [
    "## 🔍 Phân tích từng biến đầu vào"
   ]
  },
  {
   "cell_type": "code",
   "execution_count": null,
   "id": "5059415c",
   "metadata": {},
   "outputs": [],
   "source": [
    "numerical_vars = ['age', 'balance', 'duration', 'campaign', 'pdays', 'previous']\n",
    "\n",
    "for col in numerical_vars:\n",
    "    plt.figure(figsize=(10, 4))\n",
    "    sns.histplot(data=df, x=col, kde=True, bins=30)\n",
    "    plt.title(f'Phân phối biến {col}')\n",
    "    plt.show()\n",
    "\n",
    "    plt.figure(figsize=(6, 4))\n",
    "    sns.boxplot(x='term_deposit', y=col, data=df)\n",
    "    plt.title(f'{col} theo term_deposit')\n",
    "    plt.show()"
   ]
  },
  {
   "cell_type": "code",
   "execution_count": null,
   "id": "4b5b435a",
   "metadata": {},
   "outputs": [],
   "source": [
    "categorical_vars = ['job', 'marital', 'education', 'default', 'housing', 'loan', 'month']\n",
    "\n",
    "for col in categorical_vars:\n",
    "    plt.figure(figsize=(10, 4))\n",
    "    sns.countplot(x=col, hue='term_deposit', data=df)\n",
    "    plt.title(f'Ảnh hưởng của {col} đến term_deposit')\n",
    "    plt.xticks(rotation=45)\n",
    "    plt.show()"
   ]
  },
  {
   "cell_type": "markdown",
   "id": "8ef2c41d",
   "metadata": {},
   "source": [
    "## 🔗 Ma trận tương quan các biến số"
   ]
  },
  {
   "cell_type": "code",
   "execution_count": null,
   "id": "7839f0b1",
   "metadata": {},
   "outputs": [],
   "source": [
    "corr = df[numerical_vars + ['term_deposit']].corr()\n",
    "sns.heatmap(corr, annot=True, cmap='coolwarm')\n",
    "plt.title('Ma trận tương quan')\n",
    "plt.show()"
   ]
  },
  {
   "cell_type": "markdown",
   "id": "2fd2a34e",
   "metadata": {},
   "source": [
    "## ✅ Kết luận sơ bộ\n",
    "- Một số biến như `duration`, `pdays`, `previous`, và `balance` có ảnh hưởng rõ đến biến mục tiêu.\n",
    "- Biến phân loại như `job`, `housing`, `loan`, `month` cũng có phân phối khác nhau giữa hai nhóm `term_deposit`.\n",
    "\n",
    "Có thể tiếp tục áp dụng mô hình dự đoán trong bước tiếp theo."
   ]
  }
 ],
 "metadata": {},
 "nbformat": 4,
 "nbformat_minor": 5
}
