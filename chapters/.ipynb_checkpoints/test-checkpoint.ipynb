{
 "cells": [
  {
   "cell_type": "markdown",
   "metadata": {},
   "source": [
    "![](../docs/banner.png)"
   ]
  },
  {
   "cell_type": "code",
   "execution_count": 1,
   "metadata": {},
   "outputs": [
    {
     "name": "stdout",
     "output_type": "stream",
     "text": [
      "Collecting vnstock\n",
      "  Downloading vnstock-3.2.6-py3-none-any.whl.metadata (42 kB)\n",
      "Requirement already satisfied: requests in c:\\users\\ad\\appdata\\local\\programs\\python\\python313\\lib\\site-packages (from vnstock) (2.32.3)\n",
      "Requirement already satisfied: beautifulsoup4 in c:\\users\\ad\\appdata\\local\\programs\\python\\python313\\lib\\site-packages (from vnstock) (4.13.4)\n",
      "Requirement already satisfied: pandas in c:\\users\\ad\\appdata\\local\\programs\\python\\python313\\lib\\site-packages (from vnstock) (2.2.3)\n",
      "Requirement already satisfied: seaborn in c:\\users\\ad\\appdata\\local\\programs\\python\\python313\\lib\\site-packages (from vnstock) (0.13.2)\n",
      "Requirement already satisfied: openpyxl in c:\\users\\ad\\appdata\\local\\programs\\python\\python313\\lib\\site-packages (from vnstock) (3.1.5)\n",
      "Collecting pydantic (from vnstock)\n",
      "  Downloading pydantic-2.11.7-py3-none-any.whl.metadata (67 kB)\n",
      "Requirement already satisfied: psutil in c:\\users\\ad\\appdata\\local\\programs\\python\\python313\\lib\\site-packages (from vnstock) (7.0.0)\n",
      "Collecting fake_useragent (from vnstock)\n",
      "  Downloading fake_useragent-2.2.0-py3-none-any.whl.metadata (17 kB)\n",
      "Collecting vnstock_ezchart (from vnstock)\n",
      "  Downloading vnstock_ezchart-0.0.2-py3-none-any.whl.metadata (6.6 kB)\n",
      "Requirement already satisfied: click in c:\\users\\ad\\appdata\\local\\programs\\python\\python313\\lib\\site-packages (from vnstock) (8.1.8)\n",
      "Requirement already satisfied: packaging>=20.0 in c:\\users\\ad\\appdata\\local\\programs\\python\\python313\\lib\\site-packages (from vnstock) (24.2)\n",
      "Requirement already satisfied: importlib-metadata>=1.0 in c:\\users\\ad\\appdata\\local\\programs\\python\\python313\\lib\\site-packages (from vnstock) (8.7.0)\n",
      "Collecting tenacity (from vnstock)\n",
      "  Downloading tenacity-9.1.2-py3-none-any.whl.metadata (1.2 kB)\n",
      "Collecting vnai>=2.0.3 (from vnstock)\n",
      "  Downloading vnai-2.0.4-py3-none-any.whl.metadata (988 bytes)\n",
      "Requirement already satisfied: zipp>=3.20 in c:\\users\\ad\\appdata\\local\\programs\\python\\python313\\lib\\site-packages (from importlib-metadata>=1.0->vnstock) (3.22.0)\n",
      "Requirement already satisfied: charset-normalizer<4,>=2 in c:\\users\\ad\\appdata\\local\\programs\\python\\python313\\lib\\site-packages (from requests->vnstock) (3.4.1)\n",
      "Requirement already satisfied: idna<4,>=2.5 in c:\\users\\ad\\appdata\\local\\programs\\python\\python313\\lib\\site-packages (from requests->vnstock) (3.10)\n",
      "Requirement already satisfied: urllib3<3,>=1.21.1 in c:\\users\\ad\\appdata\\local\\programs\\python\\python313\\lib\\site-packages (from requests->vnstock) (2.3.0)\n",
      "Requirement already satisfied: certifi>=2017.4.17 in c:\\users\\ad\\appdata\\local\\programs\\python\\python313\\lib\\site-packages (from requests->vnstock) (2025.1.31)\n",
      "Requirement already satisfied: soupsieve>1.2 in c:\\users\\ad\\appdata\\local\\programs\\python\\python313\\lib\\site-packages (from beautifulsoup4->vnstock) (2.7)\n",
      "Requirement already satisfied: typing-extensions>=4.0.0 in c:\\users\\ad\\appdata\\local\\programs\\python\\python313\\lib\\site-packages (from beautifulsoup4->vnstock) (4.12.2)\n",
      "Requirement already satisfied: colorama in c:\\users\\ad\\appdata\\local\\programs\\python\\python313\\lib\\site-packages (from click->vnstock) (0.4.6)\n",
      "Requirement already satisfied: et-xmlfile in c:\\users\\ad\\appdata\\local\\programs\\python\\python313\\lib\\site-packages (from openpyxl->vnstock) (2.0.0)\n",
      "Requirement already satisfied: numpy>=1.26.0 in c:\\users\\ad\\appdata\\local\\programs\\python\\python313\\lib\\site-packages (from pandas->vnstock) (2.2.4)\n",
      "Requirement already satisfied: python-dateutil>=2.8.2 in c:\\users\\ad\\appdata\\local\\programs\\python\\python313\\lib\\site-packages (from pandas->vnstock) (2.9.0.post0)\n",
      "Requirement already satisfied: pytz>=2020.1 in c:\\users\\ad\\appdata\\local\\programs\\python\\python313\\lib\\site-packages (from pandas->vnstock) (2025.2)\n",
      "Requirement already satisfied: tzdata>=2022.7 in c:\\users\\ad\\appdata\\local\\programs\\python\\python313\\lib\\site-packages (from pandas->vnstock) (2025.2)\n",
      "Collecting annotated-types>=0.6.0 (from pydantic->vnstock)\n",
      "  Using cached annotated_types-0.7.0-py3-none-any.whl.metadata (15 kB)\n",
      "Collecting pydantic-core==2.33.2 (from pydantic->vnstock)\n",
      "  Downloading pydantic_core-2.33.2-cp313-cp313-win_amd64.whl.metadata (6.9 kB)\n",
      "Collecting typing-inspection>=0.4.0 (from pydantic->vnstock)\n",
      "  Downloading typing_inspection-0.4.1-py3-none-any.whl.metadata (2.6 kB)\n",
      "Requirement already satisfied: matplotlib!=3.6.1,>=3.4 in c:\\users\\ad\\appdata\\local\\programs\\python\\python313\\lib\\site-packages (from seaborn->vnstock) (3.10.3)\n",
      "Collecting squarify (from vnstock_ezchart->vnstock)\n",
      "  Downloading squarify-0.4.4-py3-none-any.whl.metadata (600 bytes)\n",
      "Collecting wordcloud (from vnstock_ezchart->vnstock)\n",
      "  Downloading wordcloud-1.9.4-cp313-cp313-win_amd64.whl.metadata (3.5 kB)\n",
      "Requirement already satisfied: contourpy>=1.0.1 in c:\\users\\ad\\appdata\\local\\programs\\python\\python313\\lib\\site-packages (from matplotlib!=3.6.1,>=3.4->seaborn->vnstock) (1.3.2)\n",
      "Requirement already satisfied: cycler>=0.10 in c:\\users\\ad\\appdata\\local\\programs\\python\\python313\\lib\\site-packages (from matplotlib!=3.6.1,>=3.4->seaborn->vnstock) (0.12.1)\n",
      "Requirement already satisfied: fonttools>=4.22.0 in c:\\users\\ad\\appdata\\local\\programs\\python\\python313\\lib\\site-packages (from matplotlib!=3.6.1,>=3.4->seaborn->vnstock) (4.58.1)\n",
      "Requirement already satisfied: kiwisolver>=1.3.1 in c:\\users\\ad\\appdata\\local\\programs\\python\\python313\\lib\\site-packages (from matplotlib!=3.6.1,>=3.4->seaborn->vnstock) (1.4.8)\n",
      "Requirement already satisfied: pillow>=8 in c:\\users\\ad\\appdata\\local\\programs\\python\\python313\\lib\\site-packages (from matplotlib!=3.6.1,>=3.4->seaborn->vnstock) (11.1.0)\n",
      "Requirement already satisfied: pyparsing>=2.3.1 in c:\\users\\ad\\appdata\\local\\programs\\python\\python313\\lib\\site-packages (from matplotlib!=3.6.1,>=3.4->seaborn->vnstock) (3.2.3)\n",
      "Requirement already satisfied: six>=1.5 in c:\\users\\ad\\appdata\\local\\programs\\python\\python313\\lib\\site-packages (from python-dateutil>=2.8.2->pandas->vnstock) (1.17.0)\n",
      "Downloading vnstock-3.2.6-py3-none-any.whl (121 kB)\n",
      "Downloading vnai-2.0.4-py3-none-any.whl (32 kB)\n",
      "Downloading fake_useragent-2.2.0-py3-none-any.whl (161 kB)\n",
      "Downloading pydantic-2.11.7-py3-none-any.whl (444 kB)\n",
      "Downloading pydantic_core-2.33.2-cp313-cp313-win_amd64.whl (2.0 MB)\n",
      "   ---------------------------------------- 0.0/2.0 MB ? eta -:--:--\n",
      "   ---------- ----------------------------- 0.5/2.0 MB 8.4 MB/s eta 0:00:01\n",
      "   -------------------------- ------------- 1.3/2.0 MB 3.5 MB/s eta 0:00:01\n",
      "   ------------------------------------- -- 1.8/2.0 MB 3.3 MB/s eta 0:00:01\n",
      "   ---------------------------------------- 2.0/2.0 MB 3.1 MB/s eta 0:00:00\n",
      "Downloading tenacity-9.1.2-py3-none-any.whl (28 kB)\n",
      "Downloading vnstock_ezchart-0.0.2-py3-none-any.whl (14 kB)\n",
      "Using cached annotated_types-0.7.0-py3-none-any.whl (13 kB)\n",
      "Downloading typing_inspection-0.4.1-py3-none-any.whl (14 kB)\n",
      "Downloading squarify-0.4.4-py3-none-any.whl (4.1 kB)\n",
      "Downloading wordcloud-1.9.4-cp313-cp313-win_amd64.whl (300 kB)\n",
      "Installing collected packages: squarify, typing-inspection, tenacity, pydantic-core, fake_useragent, annotated-types, vnai, pydantic, wordcloud, vnstock_ezchart, vnstock\n",
      "Successfully installed annotated-types-0.7.0 fake_useragent-2.2.0 pydantic-2.11.7 pydantic-core-2.33.2 squarify-0.4.4 tenacity-9.1.2 typing-inspection-0.4.1 vnai-2.0.4 vnstock-3.2.6 vnstock_ezchart-0.0.2 wordcloud-1.9.4\n"
     ]
    },
    {
     "name": "stderr",
     "output_type": "stream",
     "text": [
      "\n",
      "[notice] A new release of pip is available: 24.3.1 -> 25.1.1\n",
      "[notice] To update, run: python.exe -m pip install --upgrade pip\n"
     ]
    }
   ],
   "source": [
    "!pip install -U vnstock"
   ]
  },
  {
   "cell_type": "code",
   "execution_count": 8,
   "metadata": {},
   "outputs": [
    {
     "name": "stderr",
     "output_type": "stream",
     "text": [
      "2025-06-17 11:25:44 - vnstock.common.data.data_explorer - INFO - TCBS không cung cấp thông tin danh sách. Dữ liệu tự động trả về từ VCI.\n"
     ]
    },
    {
     "data": {
      "text/html": [
       "<div>\n",
       "<style scoped>\n",
       "    .dataframe tbody tr th:only-of-type {\n",
       "        vertical-align: middle;\n",
       "    }\n",
       "\n",
       "    .dataframe tbody tr th {\n",
       "        vertical-align: top;\n",
       "    }\n",
       "\n",
       "    .dataframe thead th {\n",
       "        text-align: right;\n",
       "    }\n",
       "</style>\n",
       "<table border=\"1\" class=\"dataframe\">\n",
       "  <thead>\n",
       "    <tr style=\"text-align: right;\">\n",
       "      <th></th>\n",
       "      <th>time</th>\n",
       "      <th>open</th>\n",
       "      <th>high</th>\n",
       "      <th>low</th>\n",
       "      <th>close</th>\n",
       "      <th>volume</th>\n",
       "    </tr>\n",
       "  </thead>\n",
       "  <tbody>\n",
       "    <tr>\n",
       "      <th>0</th>\n",
       "      <td>2020-01-06</td>\n",
       "      <td>38.80</td>\n",
       "      <td>38.93</td>\n",
       "      <td>38.06</td>\n",
       "      <td>38.06</td>\n",
       "      <td>880110</td>\n",
       "    </tr>\n",
       "    <tr>\n",
       "      <th>1</th>\n",
       "      <td>2020-01-07</td>\n",
       "      <td>37.84</td>\n",
       "      <td>38.23</td>\n",
       "      <td>37.14</td>\n",
       "      <td>38.19</td>\n",
       "      <td>1013270</td>\n",
       "    </tr>\n",
       "    <tr>\n",
       "      <th>2</th>\n",
       "      <td>2020-01-08</td>\n",
       "      <td>37.80</td>\n",
       "      <td>38.23</td>\n",
       "      <td>37.49</td>\n",
       "      <td>37.84</td>\n",
       "      <td>722280</td>\n",
       "    </tr>\n",
       "    <tr>\n",
       "      <th>3</th>\n",
       "      <td>2020-01-09</td>\n",
       "      <td>38.14</td>\n",
       "      <td>38.66</td>\n",
       "      <td>38.14</td>\n",
       "      <td>38.58</td>\n",
       "      <td>722670</td>\n",
       "    </tr>\n",
       "    <tr>\n",
       "      <th>4</th>\n",
       "      <td>2020-01-10</td>\n",
       "      <td>38.58</td>\n",
       "      <td>39.32</td>\n",
       "      <td>38.23</td>\n",
       "      <td>38.93</td>\n",
       "      <td>1526920</td>\n",
       "    </tr>\n",
       "    <tr>\n",
       "      <th>...</th>\n",
       "      <td>...</td>\n",
       "      <td>...</td>\n",
       "      <td>...</td>\n",
       "      <td>...</td>\n",
       "      <td>...</td>\n",
       "      <td>...</td>\n",
       "    </tr>\n",
       "    <tr>\n",
       "      <th>1245</th>\n",
       "      <td>2024-05-20</td>\n",
       "      <td>61.74</td>\n",
       "      <td>62.21</td>\n",
       "      <td>61.40</td>\n",
       "      <td>61.47</td>\n",
       "      <td>1045431</td>\n",
       "    </tr>\n",
       "    <tr>\n",
       "      <th>1246</th>\n",
       "      <td>2024-05-21</td>\n",
       "      <td>61.47</td>\n",
       "      <td>61.54</td>\n",
       "      <td>60.67</td>\n",
       "      <td>60.94</td>\n",
       "      <td>1488654</td>\n",
       "    </tr>\n",
       "    <tr>\n",
       "      <th>1247</th>\n",
       "      <td>2024-05-22</td>\n",
       "      <td>61.20</td>\n",
       "      <td>61.34</td>\n",
       "      <td>60.67</td>\n",
       "      <td>60.67</td>\n",
       "      <td>1349994</td>\n",
       "    </tr>\n",
       "    <tr>\n",
       "      <th>1248</th>\n",
       "      <td>2024-05-23</td>\n",
       "      <td>60.67</td>\n",
       "      <td>61.20</td>\n",
       "      <td>60.54</td>\n",
       "      <td>60.87</td>\n",
       "      <td>1318403</td>\n",
       "    </tr>\n",
       "    <tr>\n",
       "      <th>1249</th>\n",
       "      <td>2024-05-24</td>\n",
       "      <td>60.87</td>\n",
       "      <td>60.87</td>\n",
       "      <td>60.20</td>\n",
       "      <td>60.34</td>\n",
       "      <td>2243441</td>\n",
       "    </tr>\n",
       "  </tbody>\n",
       "</table>\n",
       "<p>1250 rows × 6 columns</p>\n",
       "</div>"
      ],
      "text/plain": [
       "           time   open   high    low  close   volume\n",
       "0    2020-01-06  38.80  38.93  38.06  38.06   880110\n",
       "1    2020-01-07  37.84  38.23  37.14  38.19  1013270\n",
       "2    2020-01-08  37.80  38.23  37.49  37.84   722280\n",
       "3    2020-01-09  38.14  38.66  38.14  38.58   722670\n",
       "4    2020-01-10  38.58  39.32  38.23  38.93  1526920\n",
       "...         ...    ...    ...    ...    ...      ...\n",
       "1245 2024-05-20  61.74  62.21  61.40  61.47  1045431\n",
       "1246 2024-05-21  61.47  61.54  60.67  60.94  1488654\n",
       "1247 2024-05-22  61.20  61.34  60.67  60.67  1349994\n",
       "1248 2024-05-23  60.67  61.20  60.54  60.87  1318403\n",
       "1249 2024-05-24  60.87  60.87  60.20  60.34  2243441\n",
       "\n",
       "[1250 rows x 6 columns]"
      ]
     },
     "execution_count": 8,
     "metadata": {},
     "output_type": "execute_result"
    }
   ],
   "source": [
    "from vnstock import Vnstock\n",
    "stock = Vnstock().stock(symbol='VCB', source='VCI')\n",
    "stock.quote.history(start='2020-01-01', end='2024-05-25')"
   ]
  },
  {
   "cell_type": "code",
   "execution_count": 18,
   "metadata": {},
   "outputs": [
    {
     "name": "stderr",
     "output_type": "stream",
     "text": [
      "DataFrame.applymap has been deprecated. Use DataFrame.map instead.\n"
     ]
    },
    {
     "data": {
      "text/html": [
       "<div>\n",
       "<style scoped>\n",
       "    .dataframe tbody tr th:only-of-type {\n",
       "        vertical-align: middle;\n",
       "    }\n",
       "\n",
       "    .dataframe tbody tr th {\n",
       "        vertical-align: top;\n",
       "    }\n",
       "\n",
       "    .dataframe thead th {\n",
       "        text-align: right;\n",
       "    }\n",
       "</style>\n",
       "<table border=\"1\" class=\"dataframe\">\n",
       "  <thead>\n",
       "    <tr style=\"text-align: right;\">\n",
       "      <th></th>\n",
       "      <th>symbol</th>\n",
       "      <th>id</th>\n",
       "      <th>issue_share</th>\n",
       "      <th>history</th>\n",
       "      <th>company_profile</th>\n",
       "      <th>icb_name3</th>\n",
       "      <th>icb_name2</th>\n",
       "      <th>icb_name4</th>\n",
       "      <th>financial_ratio_issue_share</th>\n",
       "      <th>charter_capital</th>\n",
       "    </tr>\n",
       "  </thead>\n",
       "  <tbody>\n",
       "    <tr>\n",
       "      <th>0</th>\n",
       "      <td>ACB</td>\n",
       "      <td>67505</td>\n",
       "      <td>4466657912</td>\n",
       "      <td>- Ngày 24/04/1993: Ngân hàng Thương mại Cổ ph...</td>\n",
       "      <td>Ngân hàng Thương mại Cổ phần Á Châu (ACB) được...</td>\n",
       "      <td>Ngân hàng</td>\n",
       "      <td>Ngân hàng</td>\n",
       "      <td>Ngân hàng</td>\n",
       "      <td>5136656599</td>\n",
       "      <td>44666579120000</td>\n",
       "    </tr>\n",
       "  </tbody>\n",
       "</table>\n",
       "</div>"
      ],
      "text/plain": [
       "  symbol     id  issue_share  \\\n",
       "0    ACB  67505   4466657912   \n",
       "\n",
       "                                             history  \\\n",
       "0   - Ngày 24/04/1993: Ngân hàng Thương mại Cổ ph...   \n",
       "\n",
       "                                     company_profile  icb_name3  icb_name2  \\\n",
       "0  Ngân hàng Thương mại Cổ phần Á Châu (ACB) được...  Ngân hàng  Ngân hàng   \n",
       "\n",
       "   icb_name4  financial_ratio_issue_share  charter_capital  \n",
       "0  Ngân hàng                   5136656599   44666579120000  "
      ]
     },
     "execution_count": 18,
     "metadata": {},
     "output_type": "execute_result"
    }
   ],
   "source": [
    "company = Vnstock().stock(symbol='ACB', source='VCI').company\n",
    "company.overview()"
   ]
  },
  {
   "cell_type": "code",
   "execution_count": 24,
   "metadata": {},
   "outputs": [
    {
     "data": {
      "text/html": [
       "<div>\n",
       "<style scoped>\n",
       "    .dataframe tbody tr th:only-of-type {\n",
       "        vertical-align: middle;\n",
       "    }\n",
       "\n",
       "    .dataframe tbody tr th {\n",
       "        vertical-align: top;\n",
       "    }\n",
       "\n",
       "    .dataframe thead th {\n",
       "        text-align: right;\n",
       "    }\n",
       "</style>\n",
       "<table border=\"1\" class=\"dataframe\">\n",
       "  <thead>\n",
       "    <tr style=\"text-align: right;\">\n",
       "      <th></th>\n",
       "      <th>currency_code</th>\n",
       "      <th>currency_name</th>\n",
       "      <th>buy _cash</th>\n",
       "      <th>buy _transfer</th>\n",
       "      <th>sell</th>\n",
       "      <th>date</th>\n",
       "    </tr>\n",
       "  </thead>\n",
       "  <tbody>\n",
       "    <tr>\n",
       "      <th>2</th>\n",
       "      <td>AUD</td>\n",
       "      <td>AUSTRALIAN DOLLAR</td>\n",
       "      <td>16,484.97</td>\n",
       "      <td>16,651.48</td>\n",
       "      <td>17,184.95</td>\n",
       "      <td>2025-06-16</td>\n",
       "    </tr>\n",
       "    <tr>\n",
       "      <th>3</th>\n",
       "      <td>CAD</td>\n",
       "      <td>CANADIAN DOLLAR</td>\n",
       "      <td>18,712.40</td>\n",
       "      <td>18,901.41</td>\n",
       "      <td>19,506.96</td>\n",
       "      <td>2025-06-16</td>\n",
       "    </tr>\n",
       "    <tr>\n",
       "      <th>4</th>\n",
       "      <td>CHF</td>\n",
       "      <td>SWISS FRANC</td>\n",
       "      <td>31,311.71</td>\n",
       "      <td>31,627.99</td>\n",
       "      <td>32,641.27</td>\n",
       "      <td>2025-06-16</td>\n",
       "    </tr>\n",
       "    <tr>\n",
       "      <th>5</th>\n",
       "      <td>CNY</td>\n",
       "      <td>CHINESE YUAN</td>\n",
       "      <td>3,540.13</td>\n",
       "      <td>3,575.89</td>\n",
       "      <td>3,690.46</td>\n",
       "      <td>2025-06-16</td>\n",
       "    </tr>\n",
       "    <tr>\n",
       "      <th>6</th>\n",
       "      <td>DKK</td>\n",
       "      <td>DANISH KRONE</td>\n",
       "      <td>-</td>\n",
       "      <td>3,960.74</td>\n",
       "      <td>4,112.24</td>\n",
       "      <td>2025-06-16</td>\n",
       "    </tr>\n",
       "    <tr>\n",
       "      <th>7</th>\n",
       "      <td>EUR</td>\n",
       "      <td>EURO</td>\n",
       "      <td>29,322.99</td>\n",
       "      <td>29,619.19</td>\n",
       "      <td>30,869.27</td>\n",
       "      <td>2025-06-16</td>\n",
       "    </tr>\n",
       "    <tr>\n",
       "      <th>8</th>\n",
       "      <td>GBP</td>\n",
       "      <td>UK POUND STERLING</td>\n",
       "      <td>34,444.98</td>\n",
       "      <td>34,792.91</td>\n",
       "      <td>35,907.58</td>\n",
       "      <td>2025-06-16</td>\n",
       "    </tr>\n",
       "    <tr>\n",
       "      <th>9</th>\n",
       "      <td>HKD</td>\n",
       "      <td>HONG KONG DOLLAR</td>\n",
       "      <td>3,231.12</td>\n",
       "      <td>3,263.76</td>\n",
       "      <td>3,388.60</td>\n",
       "      <td>2025-06-16</td>\n",
       "    </tr>\n",
       "    <tr>\n",
       "      <th>10</th>\n",
       "      <td>INR</td>\n",
       "      <td>INDIAN RUPEE</td>\n",
       "      <td>-</td>\n",
       "      <td>301.46</td>\n",
       "      <td>314.44</td>\n",
       "      <td>2025-06-16</td>\n",
       "    </tr>\n",
       "    <tr>\n",
       "      <th>11</th>\n",
       "      <td>JPY</td>\n",
       "      <td>JAPANESE YEN</td>\n",
       "      <td>174.38</td>\n",
       "      <td>176.14</td>\n",
       "      <td>185.46</td>\n",
       "      <td>2025-06-16</td>\n",
       "    </tr>\n",
       "    <tr>\n",
       "      <th>12</th>\n",
       "      <td>KRW</td>\n",
       "      <td>KOREAN WON</td>\n",
       "      <td>16.56</td>\n",
       "      <td>18.40</td>\n",
       "      <td>19.96</td>\n",
       "      <td>2025-06-16</td>\n",
       "    </tr>\n",
       "    <tr>\n",
       "      <th>13</th>\n",
       "      <td>KWD</td>\n",
       "      <td>KUWAITI DINAR</td>\n",
       "      <td>-</td>\n",
       "      <td>84,832.46</td>\n",
       "      <td>88,484.33</td>\n",
       "      <td>2025-06-16</td>\n",
       "    </tr>\n",
       "    <tr>\n",
       "      <th>14</th>\n",
       "      <td>MYR</td>\n",
       "      <td>MALAYSIAN RINGGIT</td>\n",
       "      <td>-</td>\n",
       "      <td>6,084.30</td>\n",
       "      <td>6,216.74</td>\n",
       "      <td>2025-06-16</td>\n",
       "    </tr>\n",
       "    <tr>\n",
       "      <th>15</th>\n",
       "      <td>NOK</td>\n",
       "      <td>NORWEGIAN KRONE</td>\n",
       "      <td>-</td>\n",
       "      <td>2,579.69</td>\n",
       "      <td>2,689.10</td>\n",
       "      <td>2025-06-16</td>\n",
       "    </tr>\n",
       "    <tr>\n",
       "      <th>16</th>\n",
       "      <td>RUB</td>\n",
       "      <td>RUSSIAN RUBLE</td>\n",
       "      <td>-</td>\n",
       "      <td>311.64</td>\n",
       "      <td>344.98</td>\n",
       "      <td>2025-06-16</td>\n",
       "    </tr>\n",
       "    <tr>\n",
       "      <th>17</th>\n",
       "      <td>SAR</td>\n",
       "      <td>SAUDI ARABIAN RIYAL</td>\n",
       "      <td>-</td>\n",
       "      <td>6,914.53</td>\n",
       "      <td>7,212.19</td>\n",
       "      <td>2025-06-16</td>\n",
       "    </tr>\n",
       "    <tr>\n",
       "      <th>18</th>\n",
       "      <td>SEK</td>\n",
       "      <td>SWEDISH KRONA</td>\n",
       "      <td>-</td>\n",
       "      <td>2,687.87</td>\n",
       "      <td>2,801.87</td>\n",
       "      <td>2025-06-16</td>\n",
       "    </tr>\n",
       "    <tr>\n",
       "      <th>19</th>\n",
       "      <td>SGD</td>\n",
       "      <td>SINGAPORE DOLLAR</td>\n",
       "      <td>19,813.35</td>\n",
       "      <td>20,013.48</td>\n",
       "      <td>20,696.02</td>\n",
       "      <td>2025-06-16</td>\n",
       "    </tr>\n",
       "    <tr>\n",
       "      <th>20</th>\n",
       "      <td>THB</td>\n",
       "      <td>THAI BAHT</td>\n",
       "      <td>709.15</td>\n",
       "      <td>787.94</td>\n",
       "      <td>821.36</td>\n",
       "      <td>2025-06-16</td>\n",
       "    </tr>\n",
       "    <tr>\n",
       "      <th>21</th>\n",
       "      <td>USD</td>\n",
       "      <td>US DOLLAR</td>\n",
       "      <td>25,852.00</td>\n",
       "      <td>25,882.00</td>\n",
       "      <td>26,242.00</td>\n",
       "      <td>2025-06-16</td>\n",
       "    </tr>\n",
       "  </tbody>\n",
       "</table>\n",
       "</div>"
      ],
      "text/plain": [
       "   currency_code        currency_name  buy _cash buy _transfer       sell  \\\n",
       "2            AUD    AUSTRALIAN DOLLAR  16,484.97     16,651.48  17,184.95   \n",
       "3            CAD      CANADIAN DOLLAR  18,712.40     18,901.41  19,506.96   \n",
       "4            CHF          SWISS FRANC  31,311.71     31,627.99  32,641.27   \n",
       "5            CNY         CHINESE YUAN   3,540.13      3,575.89   3,690.46   \n",
       "6            DKK         DANISH KRONE          -      3,960.74   4,112.24   \n",
       "7            EUR                 EURO  29,322.99     29,619.19  30,869.27   \n",
       "8            GBP    UK POUND STERLING  34,444.98     34,792.91  35,907.58   \n",
       "9            HKD     HONG KONG DOLLAR   3,231.12      3,263.76   3,388.60   \n",
       "10           INR         INDIAN RUPEE          -        301.46     314.44   \n",
       "11           JPY         JAPANESE YEN     174.38        176.14     185.46   \n",
       "12           KRW           KOREAN WON      16.56         18.40      19.96   \n",
       "13           KWD        KUWAITI DINAR          -     84,832.46  88,484.33   \n",
       "14           MYR    MALAYSIAN RINGGIT          -      6,084.30   6,216.74   \n",
       "15           NOK      NORWEGIAN KRONE          -      2,579.69   2,689.10   \n",
       "16           RUB        RUSSIAN RUBLE          -        311.64     344.98   \n",
       "17           SAR  SAUDI ARABIAN RIYAL          -      6,914.53   7,212.19   \n",
       "18           SEK        SWEDISH KRONA          -      2,687.87   2,801.87   \n",
       "19           SGD     SINGAPORE DOLLAR  19,813.35     20,013.48  20,696.02   \n",
       "20           THB            THAI BAHT     709.15        787.94     821.36   \n",
       "21           USD            US DOLLAR  25,852.00     25,882.00  26,242.00   \n",
       "\n",
       "          date  \n",
       "2   2025-06-16  \n",
       "3   2025-06-16  \n",
       "4   2025-06-16  \n",
       "5   2025-06-16  \n",
       "6   2025-06-16  \n",
       "7   2025-06-16  \n",
       "8   2025-06-16  \n",
       "9   2025-06-16  \n",
       "10  2025-06-16  \n",
       "11  2025-06-16  \n",
       "12  2025-06-16  \n",
       "13  2025-06-16  \n",
       "14  2025-06-16  \n",
       "15  2025-06-16  \n",
       "16  2025-06-16  \n",
       "17  2025-06-16  \n",
       "18  2025-06-16  \n",
       "19  2025-06-16  \n",
       "20  2025-06-16  \n",
       "21  2025-06-16  "
      ]
     },
     "execution_count": 24,
     "metadata": {},
     "output_type": "execute_result"
    }
   ],
   "source": [
    "from vnstock.explorer.misc import *\n",
    "\n",
    "# VCB exchange rate\n",
    "vcb_exchange_rate(date='2025-06-16')"
   ]
  },
  {
   "cell_type": "markdown",
   "metadata": {},
   "source": [
    "### Hàm `range()`"
   ]
  },
  {
   "cell_type": "markdown",
   "metadata": {},
   "source": [
    "Hàm `range()` được sử dụng để tạo một chuỗi số. Nó thường được sử dụng với vòng lặp `for` để lặp lại một số lần nhất định.\n",
    "\n",
    "* `range(stop)`: Tạo một chuỗi số từ 0 đến `stop - 1`.\n",
    "* `range(start, stop)`: Tạo một chuỗi số từ `start` đến `stop - 1`.\n",
    "* `range(start, stop, step)`: Tạo một chuỗi số từ `start` đến `stop - 1` với bước nhảy `step`."
   ]
  },
  {
   "cell_type": "code",
   "execution_count": 2,
   "metadata": {},
   "outputs": [
    {
     "name": "stdout",
     "output_type": "stream",
     "text": [
      "0\n",
      "1\n",
      "2\n",
      "3\n",
      "4\n",
      "2\n",
      "3\n",
      "4\n",
      "5\n",
      "0\n",
      "2\n",
      "4\n",
      "6\n",
      "8\n"
     ]
    }
   ],
   "source": [
    "# Lặp lại 5 lần (từ 0 đến 4)\n",
    "for i in range(5):\n",
    "    print(i)\n",
    "\n",
    "# Lặp từ 2 đến 5\n",
    "for i in range(2, 6):\n",
    "    print(i)\n",
    "\n",
    "# Lặp từ 0 đến 9 với bước nhảy 2\n",
    "for i in range(0, 10, 2):\n",
    "    print(i)"
   ]
  },
  {
   "cell_type": "markdown",
   "metadata": {},
   "source": [
    "### Câu lệnh `break` và `continue`"
   ]
  },
  {
   "cell_type": "markdown",
   "metadata": {},
   "source": [
    "* `break`: Dừng vòng lặp hiện tại.\n",
    "* `continue`: Bỏ qua lần lặp hiện tại và chuyển sang lần lặp tiếp theo."
   ]
  },
  {
   "cell_type": "code",
   "execution_count": 3,
   "metadata": {},
   "outputs": [
    {
     "name": "stdout",
     "output_type": "stream",
     "text": [
      "0\n",
      "1\n",
      "2\n",
      "3\n",
      "4\n",
      "1\n",
      "3\n",
      "5\n",
      "7\n",
      "9\n"
     ]
    }
   ],
   "source": [
    "# Sử dụng break\n",
    "for i in range(10):\n",
    "    if i == 5:\n",
    "        break\n",
    "    print(i) # Sẽ in từ 0 đến 4\n",
    "\n",
    "# Sử dụng continue\n",
    "for i in range(10):\n",
    "    if i % 2 == 0: # Bỏ qua số chẵn\n",
    "        continue\n",
    "    print(i) # Sẽ in số lẻ"
   ]
  },
  {
   "cell_type": "markdown",
   "metadata": {},
   "source": [
    "### Vòng lặp `for` lồng nhau"
   ]
  },
  {
   "cell_type": "markdown",
   "metadata": {},
   "source": [
    "Bạn có thể đặt một vòng lặp `for` bên trong một vòng lặp `for` khác."
   ]
  },
  {
   "cell_type": "code",
   "execution_count": 4,
   "metadata": {},
   "outputs": [
    {
     "name": "stdout",
     "output_type": "stream",
     "text": [
      "i: 0, j: 0\n",
      "i: 0, j: 1\n",
      "i: 1, j: 0\n",
      "i: 1, j: 1\n",
      "i: 2, j: 0\n",
      "i: 2, j: 1\n"
     ]
    }
   ],
   "source": [
    "for i in range(3):\n",
    "    for j in range(2):\n",
    "        print(f\"i: {i}, j: {j}\")"
   ]
  },
  {
   "cell_type": "markdown",
   "metadata": {},
   "source": [
    "---"
   ]
  },
  {
   "cell_type": "markdown",
   "metadata": {},
   "source": [
    "## 2. Vòng lặp `while`"
   ]
  },
  {
   "cell_type": "markdown",
   "metadata": {},
   "source": [
    "Vòng lặp `while` thực thi một khối mã miễn là một điều kiện nhất định là đúng."
   ]
  },
  {
   "cell_type": "markdown",
   "metadata": {},
   "source": [
    "### Vòng lặp `while` cơ bản"
   ]
  },
  {
   "cell_type": "code",
   "execution_count": 5,
   "metadata": {},
   "outputs": [
    {
     "name": "stdout",
     "output_type": "stream",
     "text": [
      "0\n",
      "1\n",
      "2\n",
      "3\n",
      "4\n"
     ]
    }
   ],
   "source": [
    "count = 0\n",
    "while count < 5:\n",
    "    print(count)\n",
    "    count += 1"
   ]
  },
  {
   "cell_type": "markdown",
   "metadata": {},
   "source": [
    "### Vòng lặp vô hạn"
   ]
  },
  {
   "cell_type": "markdown",
   "metadata": {},
   "source": [
    "Một vòng lặp vô hạn xảy ra khi điều kiện của vòng lặp `while` luôn đúng. Cần cẩn thận để tránh chúng trừ khi bạn có một lý do cụ thể để sử dụng (ví dụ: một máy chủ đang lắng nghe các kết nối)."
   ]
  },
  {
   "cell_type": "code",
   "execution_count": null,
   "metadata": {},
   "outputs": [],
   "source": [
    "# Ví dụ về vòng lặp vô hạn (chạy đoạn mã này sẽ khiến chương trình không dừng)\n",
    "# while True:\n",
    "#     print(\"Vòng lặp vô hạn\")\n",
    "#     # Để dừng, bạn sẽ cần ngắt thủ công (ví dụ: Ctrl+C)"
   ]
  },
  {
   "cell_type": "markdown",
   "metadata": {},
   "source": [
    "### `else` với vòng lặp `while`"
   ]
  },
  {
   "cell_type": "markdown",
   "metadata": {},
   "source": [
    "Câu lệnh `else` trong vòng lặp `while` sẽ được thực thi khi điều kiện của vòng lặp `while` trở thành `False`. Nó KHÔNG được thực thi nếu vòng lặp bị dừng bởi một câu lệnh `break`."
   ]
  },
  {
   "cell_type": "code",
   "execution_count": 6,
   "metadata": {},
   "outputs": [
    {
     "name": "stdout",
     "output_type": "stream",
     "text": [
      "Trong vòng lặp: 0\n",
      "Trong vòng lặp: 1\n",
      "Trong vòng lặp: 2\n",
      "Vòng lặp hoàn tất\n",
      "Trong vòng lặp (với break): 0\n",
      "Trong vòng lặp (với break): 1\n"
     ]
    }
   ],
   "source": [
    "count = 0\n",
    "while count < 3:\n",
    "    print(f\"Trong vòng lặp: {count}\")\n",
    "    count += 1\n",
    "else:\n",
    "    print(\"Vòng lặp hoàn tất\")\n",
    "\n",
    "# Ví dụ với break\n",
    "count = 0\n",
    "while count < 5:\n",
    "    if count == 2:\n",
    "        break\n",
    "    print(f\"Trong vòng lặp (với break): {count}\")\n",
    "    count += 1\n",
    "else:\n",
    "    print(\"Vòng lặp hoàn tất (không được thực thi)\")"
   ]
  },
  {
   "cell_type": "markdown",
   "metadata": {},
   "source": [
    "---"
   ]
  },
  {
   "cell_type": "markdown",
   "metadata": {},
   "source": [
    "## 3. Biểu thức tập hợp (Comprehensions)"
   ]
  },
  {
   "cell_type": "markdown",
   "metadata": {},
   "source": [
    "Biểu thức tập hợp cung cấp một cách ngắn gọn để tạo danh sách, từ điển và tập hợp."
   ]
  },
  {
   "cell_type": "markdown",
   "metadata": {},
   "source": [
    "### Biểu thức tập hợp danh sách"
   ]
  },
  {
   "cell_type": "code",
   "execution_count": 7,
   "metadata": {},
   "outputs": [
    {
     "name": "stdout",
     "output_type": "stream",
     "text": [
      "[0, 1, 4, 9, 16, 25, 36, 49, 64, 81]\n",
      "[0, 2, 4, 6, 8]\n"
     ]
    }
   ],
   "source": [
    "# Tạo danh sách các số bình phương\n",
    "squares = [x**2 for x in range(10)]\n",
    "print(squares)\n",
    "\n",
    "# Lọc danh sách\n",
    "even_numbers = [x for x in range(10) if x % 2 == 0]\n",
    "print(even_numbers)"
   ]
  },
  {
   "cell_type": "markdown",
   "metadata": {},
   "source": [
    "### Biểu thức tập hợp từ điển"
   ]
  },
  {
   "cell_type": "code",
   "execution_count": 8,
   "metadata": {},
   "outputs": [
    {
     "name": "stdout",
     "output_type": "stream",
     "text": [
      "{0: 0, 1: 1, 2: 4, 3: 9, 4: 16}\n",
      "{'a': 1, 'b': 2}\n"
     ]
    }
   ],
   "source": [
    "# Tạo từ điển từ danh sách các cặp\n",
    "my_dict = {x: x**2 for x in range(5)}\n",
    "print(my_dict)\n",
    "\n",
    "# Chuyển đổi danh sách các tuple thành từ điển\n",
    "list_of_tuples = [('a', 1), ('b', 2)]\n",
    "dict_from_tuples = {key: value for key, value in list_of_tuples}\n",
    "print(dict_from_tuples)"
   ]
  },
  {
   "cell_type": "markdown",
   "metadata": {},
   "source": [
    "### Biểu thức tập hợp tập hợp"
   ]
  },
  {
   "cell_type": "code",
   "execution_count": 9,
   "metadata": {},
   "outputs": [
    {
     "name": "stdout",
     "output_type": "stream",
     "text": [
      "{1, 4, 9}\n"
     ]
    }
   ],
   "source": [
    "# Tạo tập hợp các số bình phương duy nhất\n",
    "unique_squares = {x**2 for x in [1, 2, 2, 3, 3, 3]}\n",
    "print(unique_squares)"
   ]
  },
  {
   "cell_type": "markdown",
   "metadata": {},
   "source": [
    "---"
   ]
  },
  {
   "cell_type": "markdown",
   "metadata": {},
   "source": [
    "## 4. `try` / `except`"
   ]
  },
  {
   "cell_type": "markdown",
   "metadata": {},
   "source": [
    "Khối `try` / `except` được sử dụng để xử lý lỗi (ngoại lệ) trong Python. Nó cho phép bạn thử một khối mã và nếu một lỗi xảy ra, hãy thực hiện một hành động cụ thể thay vì làm hỏng chương trình."
   ]
  },
  {
   "cell_type": "markdown",
   "metadata": {},
   "source": [
    "### Xử lý ngoại lệ cơ bản"
   ]
  },
  {
   "cell_type": "code",
   "execution_count": 10,
   "metadata": {},
   "outputs": [
    {
     "name": "stdout",
     "output_type": "stream",
     "text": [
      "Đã xảy ra lỗi chia cho 0!\n",
      "Đã xảy ra lỗi giá trị không hợp lệ!\n",
      "Một lỗi không xác định đã xảy ra.\n"
     ]
    }
   ],
   "source": [
    "# Chia cho 0\n",
    "try:\n",
    "    result = 10 / 0\n",
    "except ZeroDivisionError:\n",
    "    print(\"Đã xảy ra lỗi chia cho 0!\")\n",
    "\n",
    "# Lỗi giá trị\n",
    "try:\n",
    "    number = int(\"abc\")\n",
    "except ValueError:\n",
    "    print(\"Đã xảy ra lỗi giá trị không hợp lệ!\")\n",
    "\n",
    "# Xử lý ngoại lệ tổng quát\n",
    "try:\n",
    "    my_list = [1, 2]\n",
    "    print(my_list[3])\n",
    "except Exception as e:\n",
    "    print(f\"Một lỗi không xác định đã xảy ra.\")"
   ]
  },
  {
   "cell_type": "markdown",
   "metadata": {},
   "source": [
    "### `else` và `finally`"
   ]
  },
  {
   "cell_type": "markdown",
   "metadata": {},
   "source": [
    "* `else`: Khối mã này được thực thi nếu khối `try` KHÔNG gây ra bất kỳ ngoại lệ nào.\n",
    "* `finally`: Khối mã này LUÔN được thực thi, bất kể có ngoại lệ nào xảy ra hay không. Nó thường được sử dụng cho các hoạt động dọn dẹp (ví dụ: đóng file)."
   ]
  },
  {
   "cell_type": "code",
   "execution_count": 11,
   "metadata": {},
   "outputs": [
    {
     "name": "stdout",
     "output_type": "stream",
     "text": [
      "Kết quả là: 2.0\n",
      "Khối finally đã được thực thi.\n",
      "Đã xảy ra lỗi chia cho 0!\n",
      "Khối finally đã được thực thi.\n"
     ]
    }
   ],
   "source": [
    "# Ví dụ với else và finally\n",
    "try:\n",
    "    result = 10 / 5\n",
    "except ZeroDivisionError:\n",
    "    print(\"Đã xảy ra lỗi chia cho 0!\")\n",
    "else:\n",
    "    print(f\"Kết quả là: {result}\")\n",
    "finally:\n",
    "    print(\"Khối finally đã được thực thi.\")\n",
    "\n",
    "print(\"\\n---\")\n",
    "\n",
    "# Ví dụ với ngoại lệ và finally\n",
    "try:\n",
    "    result = 10 / 0\n",
    "except ZeroDivisionError:\n",
    "    print(\"Đã xảy ra lỗi chia cho 0!\")\n",
    "else:\n",
    "    print(f\"Kết quả là: {result}\") # Sẽ không được thực thi\n",
    "finally:\n",
    "    print(\"Khối finally đã được thực thi.\")"
   ]
  },
  {
   "cell_type": "markdown",
   "metadata": {},
   "source": [
    "---"
   ]
  },
  {
   "cell_type": "markdown",
   "metadata": {},
   "source": [
    "## 5. Hàm"
   ]
  },
  {
   "cell_type": "markdown",
   "metadata": {},
   "source": [
    "Hàm là một khối mã được tổ chức, có thể tái sử dụng, được sử dụng để thực hiện một hành động liên quan duy nhất. Hàm cung cấp khả năng mô đun hóa cao hơn cho ứng dụng của bạn và khả năng tái sử dụng mã."
   ]
  },
  {
   "cell_type": "markdown",
   "metadata": {},
   "source": [
    "### Định nghĩa hàm"
   ]
  },
  {
   "cell_type": "markdown",
   "metadata": {},
   "source": [
    "Hàm được định nghĩa bằng từ khóa `def`."
   ]
  },
  {
   "cell_type": "code",
   "execution_count": 12,
   "metadata": {},
   "outputs": [
    {
     "name": "stdout",
     "output_type": "stream",
     "text": [
      "Hello, Alice!\n",
      "Hello, Bob!\n",
      "10 + 5 = 15\n"
     ]
    }
   ],
   "source": [
    "# Hàm đơn giản không có tham số\n",
    "def greet():\n",
    "    print(\"Hello!\")\n",
    "\n",
    "# Hàm với tham số\n",
    "def greet_name(name):\n",
    "    print(f\"Hello, {name}!\")\n",
    "\n",
    "# Hàm có giá trị trả về\n",
    "def add_numbers(a, b):\n",
    "    return a + b\n",
    "\n",
    "# Gọi hàm\n",
    "greet_name(\"Alice\")\n",
    "greet_name(\"Bob\")\n",
    "\n",
    "sum_result = add_numbers(10, 5)\n",
    "print(f\"10 + 5 = {sum_result}\")"
   ]
  },
  {
   "cell_type": "markdown",
   "metadata": {},
   "source": [
    "### Tham số và Đối số"
   ]
  },
  {
   "cell_type": "markdown",
   "metadata": {},
   "source": [
    "* **Tham số:** Các tên được liệt kê bên trong dấu ngoặc đơn trong định nghĩa hàm.\n",
    "* **Đối số:** Các giá trị được truyền vào hàm khi nó được gọi."
   ]
  },
  {
   "cell_type": "markdown",
   "metadata": {},
   "source": [
    "#### Đối số mặc định"
   ]
  },
  {
   "cell_type": "markdown",
   "metadata": {},
   "source": [
    "Bạn có thể cung cấp các giá trị mặc định cho các tham số. Nếu một đối số không được cung cấp cho một tham số có giá trị mặc định, giá trị mặc định sẽ được sử dụng."
   ]
  },
  {
   "cell_type": "code",
   "execution_count": 13,
   "metadata": {},
   "outputs": [
    {
     "name": "stdout",
     "output_type": "stream",
     "text": [
      "Hello, World!\n",
      "Hello, Python!\n"
     ]
    }
   ],
   "source": [
    "def greet_default(name=\"World\"):\n",
    "    print(f\"Hello, {name}!\")\n",
    "\n",
    "greet_default() # Sử dụng giá trị mặc định\n",
    "greet_default(\"Python\") # Ghi đè giá trị mặc định"
   ]
  },
  {
   "cell_type": "markdown",
   "metadata": {},
   "source": [
    "#### Đối số từ khóa"
   ]
  },
  {
   "cell_type": "markdown",
   "metadata": {},
   "source": [
    "Bạn có thể gọi hàm bằng cách sử dụng các đối số từ khóa, trong đó bạn chỉ định tên tham số khi truyền đối số. Điều này cho phép bạn truyền đối số theo bất kỳ thứ tự nào."
   ]
  },
  {
   "cell_type": "code",
   "execution_count": 14,
   "metadata": {},
   "outputs": [
    {
     "name": "stdout",
     "output_type": "stream",
     "text": [
      "Name: Alice, Age: 30\n",
      "Name: Bob, Age: 25\n"
     ]
    }
   ],
   "source": [
    "def print_info(name, age):\n",
    "    print(f\"Name: {name}, Age: {age}\")\n",
    "\n",
    "print_info(name=\"Alice\", age=30)\n",
    "print_info(age=25, name=\"Bob\") # Thứ tự không quan trọng với đối số từ khóa"
   ]
  },
  {
   "cell_type": "markdown",
   "metadata": {},
   "source": [
    "#### Đối số tùy ý (`*args` và `**kwargs`)"
   ]
  },
  {
   "cell_type": "markdown",
   "metadata": {},
   "source": [
    "* `*args` (non-keyword arguments): Cho phép một hàm chấp nhận một số lượng đối số không xác định dưới dạng một tuple.\n",
    "* `**kwargs` (keyword arguments): Cho phép một hàm chấp nhận một số lượng đối số từ khóa không xác định dưới dạng một từ điển."
   ]
  },
  {
   "cell_type": "code",
   "execution_count": 15,
   "metadata": {},
   "outputs": [
    {
     "name": "stdout",
     "output_type": "stream",
     "text": [
      "Args: (1, 2, 3)\n",
      "Args: ('apple', 'banana', 'cherry')\n",
      "Kwargs: {'name': 'Alice', 'age': 30}\n",
      "Kwargs: {'city': 'New York', 'zip': '10001'}\n"
     ]
    }
   ],
   "source": [
    "def func_with_args(*args):\n",
    "    print(f\"Args: {args}\")\n",
    "\n",
    "func_with_args(1, 2, 3)\n",
    "func_with_args('apple', 'banana', 'cherry')\n",
    "\n",
    "def func_with_kwargs(**kwargs):\n",
    "    print(f\"Kwargs: {kwargs}\")\n",
    "\n",
    "func_with_kwargs(name=\"Alice\", age=30)\n",
    "func_with_kwargs(city=\"New York\", zip=\"10001\")"
   ]
  },
  {
   "cell_type": "markdown",
   "metadata": {},
   "source": [
    "### Kiểu dữ liệu trả về"
   ]
  },
  {
   "cell_type": "markdown",
   "metadata": {},
   "source": [
    "Hàm có thể trả về một giá trị bằng cách sử dụng câu lệnh `return`."
   ]
  },
  {
   "cell_type": "code",
   "execution_count": 16,
   "metadata": {},
   "outputs": [
    {
     "name": "stdout",
     "output_type": "stream",
     "text": [
      "Tổng là: 15\n",
      "Hello, John!\n"
     ]
    }
   ],
   "source": [
    "def calculate_sum(a, b):\n",
    "    return a + b\n",
    "\n",
    "total = calculate_sum(7, 8)\n",
    "print(f\"Tổng là: {total}\")\n",
    "\n",
    "def get_greeting(name):\n",
    "    return f\"Hello, {name}!\"\n",
    "\n",
    "message = get_greeting(\"John\")\n",
    "print(message)"
   ]
  },
  {
   "cell_type": "markdown",
   "metadata": {},
   "source": [
    "---"
   ]
  },
  {
   "cell_type": "markdown",
   "metadata": {},
   "source": [
    "## 6. Hàm như một kiểu dữ liệu"
   ]
  },
  {
   "cell_type": "markdown",
   "metadata": {},
   "source": [
    "Trong Python, hàm là các đối tượng \"first-class citizens\", có nghĩa là chúng có thể được xử lý giống như bất kỳ kiểu dữ liệu nào khác (ví dụ: số nguyên, chuỗi ký tự, danh sách). Điều này mở ra nhiều khả năng mạnh mẽ."
   ]
  },
  {
   "cell_type": "markdown",
   "metadata": {},
   "source": [
    "### Gán hàm cho biến"
   ]
  },
  {
   "cell_type": "markdown",
   "metadata": {},
   "source": [
    "Bạn có thể gán một hàm cho một biến và sau đó gọi hàm thông qua biến đó."
   ]
  },
  {
   "cell_type": "code",
   "execution_count": 17,
   "metadata": {},
   "outputs": [
    {
     "name": "stdout",
     "output_type": "stream",
     "text": [
      "Hello from func1!\n",
      "Hello from func1!\n"
     ]
    }
   ],
   "source": [
    "def func1():\n",
    "    print(\"Hello from func1!\")\n",
    "\n",
    "my_func = func1\n",
    "my_func() # Gọi hàm thông qua biến\n",
    "func1() # Gọi hàm gốc"
   ]
  },
  {
   "cell_type": "markdown",
   "metadata": {},
   "source": [
    "### Truyền hàm làm đối số"
   ]
  },
  {
   "cell_type": "markdown",
   "metadata": {},
   "source": [
    "Hàm có thể được truyền làm đối số cho các hàm khác. Đây là một khái niệm cơ bản trong lập trình hàm và tạo ra các hàm bậc cao (higher-order functions)."
   ]
  },
  {
   "cell_type": "code",
   "execution_count": 18,
   "metadata": {},
   "outputs": [
    {
     "name": "stdout",
     "output_type": "stream",
     "text": [
      "Thực hiện hoạt động cộng: 5\n",
      "Thực hiện hoạt động trừ: -1\n"
     ]
    }
   ],
   "source": [
    "def add(x, y):\n",
    "    return x + y\n",
    "\n",
    "def subtract(x, y):\n",
    "    return x - y\n",
    "\n",
    "def perform_operation(operation, a, b):\n",
    "    result = operation(a, b)\n",
    "    print(f\"Thực hiện hoạt động {operation.__name__}: {result}\")\n",
    "\n",
    "perform_operation(add, 2, 3)\n",
    "perform_operation(subtract, 2, 3)"
   ]
  },
  {
   "cell_type": "markdown",
   "metadata": {},
   "source": [
    "### Trả về hàm từ một hàm khác"
   ]
  },
  {
   "cell_type": "markdown",
   "metadata": {},
   "source": [
    "Một hàm có thể trả về một hàm khác. Điều này thường được sử dụng trong các closure và decorator."
   ]
  },
  {
   "cell_type": "code",
   "execution_count": 19,
   "metadata": {},
   "outputs": [
    {
     "name": "stdout",
     "output_type": "stream",
     "text": [
      "Hello, Alice!\n",
      "Hello, Bob!\n"
     ]
    }
   ],
   "source": [
    "def create_greeter(greeting):\n",
    "    def greeter(name):\n",
    "        return f\"{greeting}, {name}!\"\n",
    "    return greeter\n",
    "\n",
    "say_hello = create_greeter(\"Hello\")\n",
    "say_hi = create_greeter(\"Hi\")\n",
    "\n",
    "print(say_hello(\"Alice\"))\n",
    "print(say_hello(\"Bob\"))"
   ]
  },
  {
   "cell_type": "markdown",
   "metadata": {},
   "source": [
    "---"
   ]
  },
  {
   "cell_type": "markdown",
   "metadata": {},
   "source": [
    "### Gợi ý kiểu dữ liệu (Type Hinting)"
   ]
  },
  {
   "cell_type": "markdown",
   "metadata": {},
   "source": [
    "Gợi ý kiểu dữ liệu là một tính năng trong Python cho phép bạn chỉ định kiểu dữ liệu mong muốn cho các biến, tham số hàm và giá trị trả về. Mặc dù Python vẫn là một ngôn ngữ được gõ động (dynamically typed), gợi ý kiểu dữ liệu cải thiện khả năng đọc, bảo trì và cho phép các công cụ phân tích tĩnh bắt lỗi trước khi chạy mã."
   ]
  },
  {
   "cell_type": "code",
   "execution_count": 20,
   "metadata": {},
   "outputs": [
    {
     "name": "stdout",
     "output_type": "stream",
     "text": [
      "Kết quả là: 5\n"
     ]
    }
   ],
   "source": [
    "def add_numbers_with_hint(a: int, b: int) -> int:\n",
    "    \"\"\"Cộng hai số nguyên và trả về tổng của chúng.\"\"\"\n",
    "    return a + b\n",
    "\n",
    "result = add_numbers_with_hint(2, 3)\n",
    "print(f\"Kết quả là: {result}\")"
   ]
  },
  {
   "cell_type": "markdown",
   "metadata": {},
   "source": [
    "#### Tại sao nên sử dụng gợi ý kiểu dữ liệu?"
   ]
  },
  {
   "cell_type": "markdown",
   "metadata": {},
   "source": [
    "1.  **Cải thiện khả năng đọc:** Giúp các nhà phát triển khác (và chính bạn trong tương lai) hiểu rõ hơn về các kiểu dữ liệu dự kiến của đầu vào và đầu ra của hàm.\n",
    "2.  **Phát hiện lỗi sớm:** Các công cụ phân tích tĩnh (như MyPy, Pyright) và IDE có thể sử dụng gợi ý kiểu dữ liệu để bắt các lỗi liên quan đến kiểu dữ liệu trước khi bạn chạy mã.\n",
    "3.  **Tự động hoàn thành tốt hơn:** Các IDE có thể cung cấp gợi ý tự động hoàn thành chính xác hơn dựa trên kiểu dữ liệu đã biết.\n",
    "4.  **Tài liệu:** Gợi ý kiểu dữ liệu đóng vai trò như một dạng tài liệu cho API của bạn."
   ]
  },
  {
   "cell_type": "markdown",
   "metadata": {},
   "source": [
    "#### Ví dụ nâng cao về gợi ý kiểu dữ liệu"
   ]
  },
  {
   "cell_type": "code",
   "execution_count": 21,
   "metadata": {},
   "outputs": [
    {
     "name": "stdout",
     "output_type": "stream",
     "text": [
      "Độ dài danh sách: 3\n"
     ]
    }
   ],
   "source": [
    "from typing import List, Dict, Tuple, Union, Optional\n",
    "\n",
    "def process_list(data: List[int]) -> int:\n",
    "    \"\"\"Tính tổng các phần tử trong danh sách các số nguyên.\"\"\"\n",
    "    return sum(data)\n",
    "\n",
    "my_numbers: List[int] = [1, 2, 3]\n",
    "print(f\"Tổng các số: {process_list(my_numbers)}\")\n",
    "\n",
    "def get_user_info(user_id: int) -> Optional[Dict[str, Union[str, int]]]:\n",
    "    \"\"\"Truy xuất thông tin người dùng theo ID.\n",
    "    Trả về một từ điển hoặc None nếu không tìm thấy người dùng.\n",
    "    \"\"\"\n",
    "    if user_id == 1:\n",
    "        return {\"name\": \"Alice\", \"age\": 30}\n",
    "    return None\n",
    "\n",
    "user_data = get_user_info(1)\n",
    "if user_data:\n",
    "    print(f\"Tên người dùng: {user_data['name']}\")\n",
    "\n",
    "def repeat_string(s: str, times: int = 1) -> str:\n",
    "    \"\"\"Lặp lại một chuỗi một số lần nhất định.\"\"\"\n",
    "    return s * times\n",
    "\n",
    "print(repeat_string(\"abc\", 3))\n",
    "\n",
    "def describe_tuple(tup: Tuple[str, int, float]) -> str:\n",
    "    \"\"\"Mô tả một tuple với các kiểu dữ liệu cụ thể.\"\"\"\n",
    "    return f\"String: {tup[0]}, Integer: {tup[1]}, Float: {tup[2]}\"\n",
    "\n",
    "my_tuple = (\"hello\", 123, 4.56)\n",
    "print(describe_tuple(my_tuple))\n",
    "\n",
    "def check_length(items: List[Union[str, int]]) -> int:\n",
    "    \"\"\"Trả về độ dài của danh sách chứa chuỗi hoặc số nguyên.\"\"\"\n",
    "    return len(items)\n",
    "\n",
    "mixed_list = [\"apple\", 1, \"banana\", 2]\n",
    "print(f\"Độ dài danh sách: {check_length(mixed_list)}\")"
   ]
  },
  {
   "cell_type": "code",
   "execution_count": 22,
   "metadata": {},
   "outputs": [
    {
     "ename": "TypeError",
     "evalue": "unsupported operand type(s) for *: 'dict' and 'int'",
     "output_type": "error",
     "traceback": [
      "\u001b[0;31m---------------------------------------------------------------------------\u001b[0m",
      "\u001b[0;31mTypeError\u001b[0m                         Traceback (most recent call last)",
      "\u001b[0;32m/tmp/ipykernel_3464/2550130838.py\u001b[0m in \u001b[0;36m<module>\u001b[0;34m\u001b[0m\n\u001b[0;32m----> 1\u001b[0m \u001b[0mrepeat_string\u001b[0m\u001b[0;34m(\u001b[0m\u001b[0;34m{'key_1': 1, 'key_2': 2}\u001b[0m\u001b[0;34m)\u001b[0m\u001b[0;34m\u001b[0m\u001b[0;34m\\n\u001b[0m",
      "\u001b[0;32m/tmp/ipykernel_3464/2550130838.py\u001b[0m in \u001b[0;36mrepeat_string\u001b[0;34m(\u001b[0m\u001b[0;34ms\u001b[0m, \u001b[0;34mtimes\u001b[0m\u001b[0;34m)\u001b[0m\n\u001b[0;32m     41\u001b[0m \u001b[0;34mdef repeat_string\u001b[0m\u001b[0;34m(\u001b[0m\u001b[0;34ms\u001b[0m\u001b[0;34m:\u001b[0m \u001b[0mstr\u001b[0m\u001b[0;34m,\u001b[0m \u001b[0mtimes\u001b[0m\u001b[0;34m:\u001b[0m \u001b[0mint\u001b[0m \u001b[0;34m=\u001b[0m \u001b[0;36m1\u001b[0m\u001b[0;34m)\u001b[0m \u001b[0;34m->\u001b[0m \u001b[0mstr\u001b[0m\u001b[0;34m:\u001b[0m\u001b[0;34m\u001b[0m\u001b[0;34m\\n\u001b[0m",
      "\u001b[0;32m     42\u001b[0m     \u001b[0;34m\"\"\"Lặp lại một chuỗi một số lần nhất định.\"\"\"\u001b[0m\u001b[0;34m\\n\u001b[0m",
      "\u001b[0;32m---> 43\u001b[0m     \u001b[0;32mreturn\u001b[0m \u001b[0ms\u001b[0m \u001b[0;34m*\u001b[0m \u001b[0mtimes\u001b[0m\u001b[0;34m\\n\u001b[0m",
      "\u001b[0;31mTypeError\u001b[0m: unsupported operand type(s) for *: 'dict' and 'int'"
     ]
    }
   ],
   "source": [
    "repeat_string({'key_1': 1, 'key_2': 2})"
   ]
  },
  {
   "cell_type": "markdown",
   "metadata": {},
   "source": [
    "Hầu hết các IDE đều đủ thông minh để đọc gợi ý kiểu dữ liệu của bạn và cảnh báo nếu bạn đang sử dụng một kiểu dữ liệu khác trong hàm, ví dụ, ảnh chụp màn hình VScode này:"
   ]
  },
  {
   "cell_type": "markdown",
   "metadata": {},
   "source": [
    "![](img/chapter2/type_hint_1.png)\n",
    "![](img/chapter2/type_hint_2.png)"
   ]
  }
 ],
 "metadata": {
  "kernelspec": {
   "display_name": "Python 3 (ipykernel)",
   "language": "python",
   "name": "python3"
  },
  "language_info": {
   "codemirror_mode": {
    "name": "ipython",
    "version": 3
   },
   "file_extension": ".py",
   "mimetype": "text/x-python",
   "name": "python",
   "nbconvert_exporter": "python",
   "pygments_lexer": "ipython3",
   "version": "3.13.2"
  }
 },
 "nbformat": 4,
 "nbformat_minor": 4
}
