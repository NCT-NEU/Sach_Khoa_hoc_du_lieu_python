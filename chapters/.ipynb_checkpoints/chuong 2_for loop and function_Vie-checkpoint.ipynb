{
 "cells": [
  {
   "cell_type": "markdown",
   "metadata": {},
   "source": [
    "![](../docs/banner.png)"
   ]
  },
  {
   "cell_type": "markdown",
   "metadata": {},
   "source": [
    "# Chương 2: Vòng lặp & Hàm"
   ]
  },
  {
   "cell_type": "markdown",
   "metadata": {
    "toc": true
   },
   "source": [
    "<h2>Đề cương chương<span class=\"tocSkip\"></span></h2>\n",
    "<hr>\n",
    "<div class=\"toc\"><ul class=\"toc-item\"><li><span><a href=\"#1.-for-Loops\" data-toc-modified-id=\"1.-for-Loops-1\">1. Vòng lặp <code>for</code></a></span></li><li><span><a href=\"#2.-while-loops\" data-toc-modified-id=\"2.-while-loops-2\">2. Vòng lặp <code>while</code></a></span></li><li><span><a href=\"#3.-Comprehensions\" data-toc-modified-id=\"3.-Comprehensions-3\">3. Cấu trúc rút gọn (Comprehensions)</a></span></li><li><span><a href=\"#4.-try-/-except\" data-toc-modified-id=\"4.-try-/-except-4\">4. Khối lệnh <code>try</code> / <code>except</code></a></span></li><li><span><a href=\"#5.-Functions\" data-toc-modified-id=\"5.-Functions-5\">5. Hàm</a></span></li><li><span><a href=\"#6.-Functions-as--a-data-type\" data-toc-modified-id=\"6.-Functions-as--a-data-type-6\">6. Hàm như một kiểu dữ liệu</a></span></li><li><span><a href=\"#7.-Anonymous-functions\" data-toc-modified-id=\"7.-Anonymous-functions-7\">7. Hàm ẩn danh</a></span></li><li><span><a href=\"#8.-DRY-principle,-designing-good-functions\" data-toc-modified-id=\"8.-DRY-principle,-designing-good-functions-8\">8. Nguyên tắc DRY, thiết kế hàm tốt</a></span></li><li><span><a href=\"#9.-Generators\" data-toc-modified-id=\"9.-Generators-9\">9. Generators</a></span></li><li><span><a href=\"#10.-Docstrings\" data-toc-modified-id=\"10.-Docstrings-10\">10. Chuỗi tài liệu (Docstrings)</a></span></li></ul></div>"
   ]
  },
  {
   "cell_type": "markdown",
   "metadata": {},
   "source": [
    "## Mục tiêu học tập của chương\n",
    "<hr>"
   ]
  },
  {
   "cell_type": "markdown",
   "metadata": {},
   "source": [
    "- Viết vòng lặp `for` và `while` trong Python.\n",
    "- Xác định các kiểu dữ liệu có thể lặp (iterable) có thể được sử dụng trong vòng lặp `for`.\n",
    "- Tạo một `list`, `dictionary`, hoặc `set` bằng cách sử dụng cấu trúc rút gọn.\n",
    "- Viết một câu lệnh `try`/`except`.\n",
    "- Định nghĩa một hàm và một hàm ẩn danh trong Python.\n",
    "- Mô tả sự khác biệt giữa đối số vị trí và đối số từ khóa.\n",
    "- Mô tả sự khác biệt giữa đối số cục bộ và đối số toàn cục.\n",
    "- Áp dụng `nguyên tắc DRY` để viết mã nguồn mô-đun hóa.\n",
    "- Đánh giá xem một hàm có tác dụng phụ hay không.\n",
    "- Viết một chuỗi tài liệu (docstring) cho một hàm mô tả các tham số, giá trị trả về, hành vi và cách sử dụng."
   ]
  },
  {
   "cell_type": "markdown",
   "metadata": {},
   "source": [
    "## 1. Vòng lặp `for`\n",
    "<hr>"
   ]
  },
  {
   "cell_type": "markdown",
   "metadata": {},
   "source": [
    "Vòng lặp for cho phép chúng ta thực thi mã một số lần cụ thể."
   ]
  },
  {
   "cell_type": "code",
   "execution_count": 10,
   "metadata": {},
   "outputs": [
    {
     "name": "stdout",
     "output_type": "stream",
     "text": [
      "The number is 2 and its square is 4\n",
      "The number is 7 and its square is 49\n",
      "The number is -1 and its square is 1\n",
      "The number is 5 and its square is 25\n",
      "I'm outside the loop!\n"
     ]
    }
   ],
   "source": [
    "for n in [2, 7, -1, 5]:\n",
    "    print(f\"The number is {n} and its square is {n**2}\")\n",
    "print(\"I'm outside the loop!\")"
   ]
  },
  {
   "cell_type": "markdown",
   "metadata": {},
   "source": [
    "Các điểm chính cần lưu ý:\n",
    "\n",
    "* Từ khóa `for` bắt đầu vòng lặp. Dấu hai chấm `:` kết thúc dòng đầu tiên của vòng lặp.\n",
    "* Khối mã được thụt lề được thực thi cho mỗi giá trị trong danh sách (do đó có tên là vòng lặp \"for\")\n",
    "* Vòng lặp kết thúc sau khi biến `n` đã nhận tất cả các giá trị trong danh sách\n",
    "* Chúng ta có thể lặp qua bất kỳ loại \"đối tượng lặp được\" (iterable) nào: `list`, `tuple`, `range`, `set`, `string`.\n",
    "* Một đối tượng lặp được thực chất chỉ là bất kỳ đối tượng nào có một chuỗi các giá trị có thể được lặp qua. Trong trường hợp này, chúng ta đang lặp qua các giá trị trong một danh sách."
   ]
  },
  {
   "cell_type": "code",
   "execution_count": 8,
   "metadata": {},
   "outputs": [
    {
     "name": "stdout",
     "output_type": "stream",
     "text": [
      "Gimme a P!\n",
      "Gimme a y!\n",
      "Gimme a t!\n",
      "Gimme a h!\n",
      "Gimme a o!\n",
      "Gimme a n!\n",
      "What's that spell?!! Python!\n"
     ]
    }
   ],
   "source": [
    "word = \"Python\"\n",
    "for letter in word:\n",
    "    print(\"Gimme a \" + letter + \"!\")\n",
    "\n",
    "print(f\"What's that spell?!! {word}!\")"
   ]
  },
  {
   "cell_type": "markdown",
   "metadata": {},
   "source": [
    "Một mẫu rất phổ biến là sử dụng `for` với `range()`. `range()` cung cấp cho bạn một chuỗi các số nguyên lên đến một giá trị nào đó (không bao gồm giá trị cuối) và thường được sử dụng để lặp."
   ]
  },
  {
   "cell_type": "code",
   "execution_count": 1,
   "metadata": {},
   "outputs": [
    {
     "data": {
      "text/plain": [
       "range(0, 10)"
      ]
     },
     "execution_count": 1,
     "metadata": {},
     "output_type": "execute_result"
    }
   ],
   "source": [
    "range(10)"
   ]
  },
  {
   "cell_type": "code",
   "execution_count": 2,
   "metadata": {},
   "outputs": [
    {
     "data": {
      "text/plain": [
       "[0, 1, 2, 3, 4, 5, 6, 7, 8, 9]"
      ]
     },
     "execution_count": 2,
     "metadata": {},
     "output_type": "execute_result"
    }
   ],
   "source": [
    "list(range(10))"
   ]
  },
  {
   "cell_type": "code",
   "execution_count": 3,
   "metadata": {},
   "outputs": [
    {
     "name": "stdout",
     "output_type": "stream",
     "text": [
      "0\n",
      "1\n",
      "2\n",
      "3\n",
      "4\n",
      "5\n",
      "6\n",
      "7\n",
      "8\n",
      "9\n"
     ]
    }
   ],
   "source": [
    "for i in range(10):\n",
    "    print(i)"
   ]
  },
  {
   "cell_type": "markdown",
   "metadata": {},
   "source": [
    "Chúng ta cũng có thể chỉ định giá trị bắt đầu và giá trị bước nhảy với `range`:"
   ]
  },
  {
   "cell_type": "code",
   "execution_count": 4,
   "metadata": {},
   "outputs": [
    {
     "name": "stdout",
     "output_type": "stream",
     "text": [
      "1\n",
      "11\n",
      "21\n",
      "31\n",
      "41\n",
      "51\n",
      "61\n",
      "71\n",
      "81\n",
      "91\n"
     ]
    }
   ],
   "source": [
    "for i in range(1, 101, 10):\n",
    "    print(i)"
   ]
  },
  {
   "cell_type": "markdown",
   "metadata": {},
   "source": [
    "Chúng ta có thể viết một vòng lặp bên trong một vòng lặp khác để lặp qua nhiều chiều của dữ liệu:"
   ]
  },
  {
   "cell_type": "code",
   "execution_count": 6,
   "metadata": {},
   "outputs": [
    {
     "name": "stdout",
     "output_type": "stream",
     "text": [
      "(1, 'a')\n",
      "(1, 'b')\n",
      "(1, 'c')\n",
      "(2, 'a')\n",
      "(2, 'b')\n",
      "(2, 'c')\n",
      "(3, 'a')\n",
      "(3, 'b')\n",
      "(3, 'c')\n"
     ]
    }
   ],
   "source": [
    "for x in [1, 2, 3]:\n",
    "    for y in [\"a\", \"b\", \"c\"]:\n",
    "        print((x, y))"
   ]
  },
  {
   "cell_type": "code",
   "execution_count": 7,
   "metadata": {},
   "outputs": [
    {
     "name": "stdout",
     "output_type": "stream",
     "text": [
      "0 a\n",
      "1 b\n",
      "2 c\n"
     ]
    }
   ],
   "source": [
    "list_1 = [0, 1, 2]\n",
    "list_2 = [\"a\", \"b\", \"c\"]\n",
    "for i in range(3):\n",
    "    print(list_1[i], list_2[i])"
   ]
  },
  {
   "cell_type": "markdown",
   "metadata": {},
   "source": [
    "Có nhiều cách thông minh để thực hiện những việc này trong Python. Khi lặp qua các đối tượng, tôi có xu hướng sử dụng `zip()` và `enumerate()` khá nhiều trong công việc của mình. `zip()` trả về một đối tượng zip, là một đối tượng lặp được của các tuple."
   ]
  },
  {
   "cell_type": "code",
   "execution_count": 8,
   "metadata": {},
   "outputs": [
    {
     "name": "stdout",
     "output_type": "stream",
     "text": [
      "(0, 'a')\n",
      "(1, 'b')\n",
      "(2, 'c')\n"
     ]
    }
   ],
   "source": [
    "for i in zip(list_1, list_2):\n",
    "    print(i)"
   ]
  },
  {
   "cell_type": "markdown",
   "metadata": {},
   "source": [
    "Chúng ta thậm chí có thể \"giải nén\" (unpack) các tuple này trực tiếp trong vòng lặp `for`:"
   ]
  },
  {
   "cell_type": "code",
   "execution_count": 9,
   "metadata": {},
   "outputs": [
    {
     "name": "stdout",
     "output_type": "stream",
     "text": [
      "0 a\n",
      "1 b\n",
      "2 c\n"
     ]
    }
   ],
   "source": [
    "for i, j in zip(list_1, list_2):\n",
    "    print(i, j)"
   ]
  },
  {
   "cell_type": "markdown",
   "metadata": {},
   "source": [
    "`enumerate()` thêm một bộ đếm vào một đối tượng lặp được mà chúng ta có thể sử dụng trong vòng lặp."
   ]
  },
  {
   "cell_type": "code",
   "execution_count": 10,
   "metadata": {},
   "outputs": [
    {
     "name": "stdout",
     "output_type": "stream",
     "text": [
      "(0, 'a')\n",
      "(1, 'b')\n",
      "(2, 'c')\n"
     ]
    }
   ],
   "source": [
    "for i in enumerate(list_2):\n",
    "    print(i)"
   ]
  },
  {
   "cell_type": "code",
   "execution_count": 11,
   "metadata": {},
   "outputs": [
    {
     "name": "stdout",
     "output_type": "stream",
     "text": [
      "index 0, value a\n",
      "index 1, value b\n",
      "index 2, value c\n"
     ]
    }
   ],
   "source": [
    "for n, i in enumerate(list_2):\n",
    "    print(f\"index {n}, value {i}\")"
   ]
  },
  {
   "cell_type": "markdown",
   "metadata": {},
   "source": [
    "Chúng ta có thể lặp qua các cặp khóa-giá trị của một từ điển bằng cách sử dụng `.items()`. Cú pháp chung là `for key, value in dictionary.items()`."
   ]
  },
  {
   "cell_type": "code",
   "execution_count": 12,
   "metadata": {},
   "outputs": [
    {
     "name": "stdout",
     "output_type": "stream",
     "text": [
      "DSCI 521, is awesome\n",
      "DSCI 551, is riveting\n",
      "DSCI 511, is naptime!\n"
     ]
    }
   ],
   "source": [
    "courses = {521 : \"awesome\",\n",
    "           551 : \"riveting\",\n",
    "           511 : \"naptime!\"}\n",
    "\n",
    "for course_num, description in courses.items():\n",
    "    print(f\"DSCI {course_num}, is {description}\")"
   ]
  },
  {
   "cell_type": "markdown",
   "metadata": {},
   "source": [
    "Chúng ta thậm chí có thể sử dụng `enumerate()` để thực hiện việc giải nén phức tạp hơn:"
   ]
  },
  {
   "cell_type": "code",
   "execution_count": 13,
   "metadata": {},
   "outputs": [
    {
     "name": "stdout",
     "output_type": "stream",
     "text": [
      "Item 0: DSCI 521, is awesome\n",
      "Item 1: DSCI 551, is riveting\n",
      "Item 2: DSCI 511, is naptime!\n"
     ]
    }
   ],
   "source": [
    "for n, (course_num, description) in enumerate(courses.items()):\n",
    "    print(f\"Item {n}: DSCI {course_num}, is {description}\")"
   ]
  },
  {
   "cell_type": "markdown",
   "metadata": {},
   "source": [
    "## 2. Vòng lặp `while`\n",
    "<hr>"
   ]
  },
  {
   "cell_type": "markdown",
   "metadata": {},
   "source": [
    "Chúng ta cũng có thể sử dụng một [vòng lặp `while`](https://docs.python.org/3/reference/compound_stmts.html#while) để thực thi một khối mã nhiều lần. Nhưng hãy cẩn thận! Nếu biểu thức điều kiện luôn là `True`, thì bạn sẽ có một vòng lặp vô hạn!"
   ]
  },
  {
   "cell_type": "code",
   "execution_count": 14,
   "metadata": {},
   "outputs": [
    {
     "name": "stdout",
     "output_type": "stream",
     "text": [
      "10\n",
      "9\n",
      "8\n",
      "7\n",
      "6\n",
      "5\n",
      "4\n",
      "3\n",
      "2\n",
      "1\n",
      "Blast off!\n"
     ]
    }
   ],
   "source": [
    "n = 10\n",
    "while n > 0:\n",
    "    print(n)\n",
    "    n -= 1\n",
    "\n",
    "print(\"Blast off!\")"
   ]
  },
  {
   "cell_type": "markdown",
   "metadata": {},
   "source": [
    "Hãy đọc câu lệnh `while` ở trên như thể nó bằng tiếng Anh. Nó có nghĩa là, “Trong khi `n` lớn hơn 0, hiển thị giá trị của `n` và sau đó giảm `n` đi 1. Khi bạn đến 0, hiển thị từ Blast off!”\n",
    "\n",
    "Đối với một số vòng lặp, rất khó để biết khi nào, hoặc liệu chúng có dừng lại không! Hãy xem [Giả thuyết Collatz](https://en.wikipedia.org/wiki/Collatz_conjecture). Giả thuyết này nói rằng bất kể chúng ta bắt đầu với số nguyên dương `n` nào, chuỗi cuối cùng sẽ luôn đạt đến 1 - chúng ta chỉ không biết sẽ mất bao nhiêu lần lặp."
   ]
  },
  {
   "cell_type": "code",
   "execution_count": 15,
   "metadata": {},
   "outputs": [
    {
     "name": "stdout",
     "output_type": "stream",
     "text": [
      "11\n",
      "34\n",
      "17\n",
      "52\n",
      "26\n",
      "13\n",
      "40\n",
      "20\n",
      "10\n",
      "5\n",
      "16\n",
      "8\n",
      "4\n",
      "2\n",
      "1\n"
     ]
    }
   ],
   "source": [
    "n = 11\n",
    "while n != 1:\n",
    "    print(int(n))\n",
    "    if n % 2 == 0: # n is even\n",
    "        n = n / 2\n",
    "    else: # n is odd\n",
    "        n = n * 3 + 1\n",
    "print(int(n))"
   ]
  },
  {
   "cell_type": "markdown",
   "metadata": {},
   "source": [
    "Do đó, trong một số trường hợp, bạn có thể muốn buộc vòng lặp `while` dừng lại dựa trên một số tiêu chí, bằng cách sử dụng từ khóa `break`."
   ]
  },
  {
   "cell_type": "code",
   "execution_count": 16,
   "metadata": {},
   "outputs": [
    {
     "name": "stdout",
     "output_type": "stream",
     "text": [
      "123\n",
      "370\n",
      "185\n",
      "556\n",
      "278\n",
      "139\n",
      "418\n",
      "209\n",
      "628\n",
      "314\n",
      "Ugh, too many iterations!\n"
     ]
    }
   ],
   "source": [
    "n = 123\n",
    "i = 0\n",
    "while n != 1:\n",
    "    print(int(n))\n",
    "    if n % 2 == 0: # n is even\n",
    "        n = n / 2\n",
    "    else: # n is odd\n",
    "        n = n * 3 + 1\n",
    "    i += 1\n",
    "    if i == 10:\n",
    "        print(f\"Ugh, too many iterations!\")\n",
    "        break"
   ]
  },
  {
   "cell_type": "markdown",
   "metadata": {},
   "source": [
    "Từ khóa `continue` tương tự như `break` nhưng sẽ không dừng vòng lặp. Thay vào đó, nó chỉ khởi động lại vòng lặp từ đầu."
   ]
  },
  {
   "cell_type": "code",
   "execution_count": 17,
   "metadata": {},
   "outputs": [
    {
     "name": "stdout",
     "output_type": "stream",
     "text": [
      "10\n",
      "8\n",
      "6\n",
      "4\n",
      "2\n",
      "Blast off!\n"
     ]
    }
   ],
   "source": [
    "n = 10\n",
    "while n > 0:\n",
    "    if n % 2 != 0: # n is odd\n",
    "        n = n - 1\n",
    "        continue\n",
    "        break  # this line is never executed because continue restarts the loop from the top\n",
    "    print(n)\n",
    "    n = n - 1\n",
    "\n",
    "print(\"Blast off!\")"
   ]
  },
  {
   "cell_type": "markdown",
   "metadata": {},
   "source": [
    "## 3. Cấu trúc rút gọn (Comprehensions)\n",
    "<hr>"
   ]
  },
  {
   "cell_type": "markdown",
   "metadata": {},
   "source": [
    "Cấu trúc rút gọn (Comprehensions) cho phép chúng ta xây dựng danh sách/tuple/tập hợp/từ điển trong một dòng mã tiện lợi, nhỏ gọn. Tôi sử dụng chúng khá nhiều! Dưới đây là một vòng lặp `for` tiêu chuẩn mà bạn có thể sử dụng để lặp qua một đối tượng lặp được và tạo một danh sách:"
   ]
  },
  {
   "cell_type": "code",
   "execution_count": 20,
   "metadata": {},
   "outputs": [
    {
     "name": "stdout",
     "output_type": "stream",
     "text": [
      "['T', 'i', 'm', 'e', 't', 'o', 'l', 'e', 'a', 'r', 'n', '!']\n"
     ]
    }
   ],
   "source": [
    "subliminal = ['Tom', 'ingests', 'many', 'eggs', 'to', 'outrun', 'large', 'eagles', 'after', 'running', 'near', '!']\n",
    "first_letters = []\n",
    "for word in subliminal:\n",
    "    first_letters.append(word[0])\n",
    "print(first_letters)"
   ]
  },
  {
   "cell_type": "markdown",
   "metadata": {},
   "source": [
    "Cấu trúc rút gọn danh sách (List comprehension) cho phép chúng ta thực hiện điều này trong một dòng mã nhỏ gọn:"
   ]
  },
  {
   "cell_type": "code",
   "execution_count": 22,
   "metadata": {
    "collapsed": false,
    "jupyter": {
     "outputs_hidden": false
    }
   },
   "outputs": [
    {
     "data": {
      "text/plain": [
       "['T', 'i', 'm', 'e', 't', 'o', 'l', 'e', 'a', 'r', 'n', '!']"
      ]
     },
     "execution_count": 22,
     "metadata": {},
     "output_type": "execute_result"
    }
   ],
   "source": [
    "letters = [word[0] for word in subliminal]  # list comprehension\n",
    "letters"
   ]
  },
  {
   "cell_type": "markdown",
   "metadata": {},
   "source": [
    "Chúng ta có thể làm cho mọi thứ phức tạp hơn bằng cách thực hiện nhiều lần lặp hoặc lặp có điều kiện:"
   ]
  },
  {
   "cell_type": "code",
   "execution_count": 23,
   "metadata": {},
   "outputs": [
    {
     "data": {
      "text/plain": [
       "[(0, 0),\n",
       " (0, 1),\n",
       " (0, 2),\n",
       " (0, 3),\n",
       " (1, 0),\n",
       " (1, 1),\n",
       " (1, 2),\n",
       " (1, 3),\n",
       " (2, 0),\n",
       " (2, 1),\n",
       " (2, 2),\n",
       " (2, 3)]"
      ]
     },
     "execution_count": 23,
     "metadata": {},
     "output_type": "execute_result"
    }
   ],
   "source": [
    "[(i, j) for i in range(3) for j in range(4)]"
   ]
  },
  {
   "cell_type": "code",
   "execution_count": 24,
   "metadata": {},
   "outputs": [
    {
     "data": {
      "text/plain": [
       "[0, 2, 4, 6, 8, 10]"
      ]
     },
     "execution_count": 24,
     "metadata": {},
     "output_type": "execute_result"
    }
   ],
   "source": [
    "[i for i in range(11) if i % 2 == 0]  # condition the iterator, select only even numbers"
   ]
  },
  {
   "cell_type": "code",
   "execution_count": 25,
   "metadata": {},
   "outputs": [
    {
     "data": {
      "text/plain": [
       "[0, -1, 2, -3, 4, -5, 6, -7, 8, -9, 10]"
      ]
     },
     "execution_count": 25,
     "metadata": {},
     "output_type": "execute_result"
    }
   ],
   "source": [
    "[-i if i % 2 else i for i in range(11)]  # condition the value, -ve odd and +ve even numbers"
   ]
  },
  {
   "cell_type": "markdown",
   "metadata": {},
   "source": [
    "Cũng có cấu trúc rút gọn tập hợp (set comprehension):"
   ]
  },
  {
   "cell_type": "code",
   "execution_count": 27,
   "metadata": {},
   "outputs": [
    {
     "data": {
      "text/plain": [
       "{'e', 'm', 'o'}"
      ]
     },
     "execution_count": 27,
     "metadata": {},
     "output_type": "execute_result"
    }
   ],
   "source": [
    "words = ['hello', 'goodbye', 'the', 'antidisestablishmentarianism']\n",
    "y = {word[-1] for word in words}  # set comprehension\n",
    "y  # only has 3 elements because a set contains only unique items and there would have been two e's"
   ]
  },
  {
   "cell_type": "markdown",
   "metadata": {},
   "source": [
    "Cấu trúc rút gọn từ điển (Dictionary comprehension):"
   ]
  },
  {
   "cell_type": "code",
   "execution_count": 28,
   "metadata": {
    "collapsed": false,
    "jupyter": {
     "outputs_hidden": false
    }
   },
   "outputs": [
    {
     "data": {
      "text/plain": [
       "{'hello': 5, 'goodbye': 7, 'the': 3, 'antidisestablishmentarianism': 28}"
      ]
     },
     "execution_count": 28,
     "metadata": {},
     "output_type": "execute_result"
    }
   ],
   "source": [
    "word_lengths = {word:len(word) for word in words} # dictionary comprehension\n",
    "word_lengths"
   ]
  },
  {
   "cell_type": "markdown",
   "metadata": {},
   "source": [
    "Cấu trúc rút gọn tuple (Tuple comprehension) không hoạt động như bạn mong đợi... Thay vào đó, chúng ta nhận được một \"generator\" (sẽ nói thêm về điều này sau)."
   ]
  },
  {
   "cell_type": "code",
   "execution_count": 29,
   "metadata": {},
   "outputs": [
    {
     "name": "stdout",
     "output_type": "stream",
     "text": [
      "<generator object <genexpr> at 0x15e469c50>\n"
     ]
    }
   ],
   "source": [
    "y = (word[-1] for word in words)  # this is NOT a tuple comprehension - more on generators later\n",
    "print(y)"
   ]
  },
  {
   "cell_type": "markdown",
   "metadata": {},
   "source": [
    "## 4. Khối lệnh `try` / `except`\n",
    "<hr>"
   ]
  },
  {
   "cell_type": "markdown",
   "metadata": {},
   "source": [
    "![](img/chapter2/bsod.jpg)"
   ]
  },
  {
   "cell_type": "markdown",
   "metadata": {},
   "source": [
    "Ở trên: [Màn hình xanh chết chóc (Blue Screen of Death)](https://en.wikipedia.org/wiki/Blue_Screen_of_Death) tại một buổi hòa nhạc của Nine Inch Nails! Nguồn: [cnet.com](https://www.cnet.com/news/nine-inch-nails-depresses-with-a-big-blue-screen-of-death/)."
   ]
  },
  {
   "cell_type": "markdown",
   "metadata": {},
   "source": [
    "Nếu có sự cố xảy ra, chúng ta không muốn mã của mình bị lỗi (crash) - chúng ta muốn nó **thất bại một cách duyên dáng (fail gracefully)**. Trong Python, điều này có thể được thực hiện bằng cách sử dụng `try`/`except`. Đây là một ví dụ cơ bản:"
   ]
  },
  {
   "cell_type": "code",
   "execution_count": 30,
   "metadata": {
    "tags": [
     "raises-exception"
    ]
   },
   "outputs": [
    {
     "ename": "NameError",
     "evalue": "name 'this_variable_does_not_exist' is not defined",
     "output_type": "error",
     "traceback": [
      "\u001b[0;31m---------------------------------------------------------------------------\u001b[0m",
      "\u001b[0;31mNameError\u001b[0m                                 Traceback (most recent call last)",
      "\u001b[0;32m<ipython-input-30-dd878f68d557>\u001b[0m in \u001b[0;36m<module>\u001b[0;34m\u001b[0m\n\u001b[0;32m----> 1\u001b[0;31m \u001b[0mthis_variable_does_not_exist\u001b[0m\u001b[0;34m\u001b[0m\u001b[0;34m\u001b[0m\u001b[0m\n\u001b[0m\u001b[1;32m      2\u001b[0m \u001b[0mprint\u001b[0m\u001b[0;34m(\u001b[0m\u001b[0;34m\"Another line\"\u001b[0m\u001b[0;34m)\u001b[0m  \u001b[0;31m# code fails before getting to this line\u001b[0m\u001b[0;34m\u001b[0m\u001b[0;34m\u001b[0m\u001b[0m\n",
      "\u001b[0;31mNameError\u001b[0m: name 'this_variable_does_not_exist' is not defined"
     ]
    }
   ],
   "source": [
    "this_variable_does_not_exist\n",
    "print(\"Another line\")  # code fails before getting to this line"
   ]
  },
  {
   "cell_type": "code",
   "execution_count": 31,
   "metadata": {},
   "outputs": [
    {
     "name": "stdout",
     "output_type": "stream",
     "text": [
      "You did something bad! But I won't raise an error.\n",
      "Another line\n"
     ]
    }
   ],
   "source": [
    "try:\n",
    "    this_variable_does_not_exist\n",
    "except:\n",
    "    pass # do nothing\n",
    "    print(\"You did something bad! But I won't raise an error.\") # print something\n",
    "print(\"Another line\")"
   ]
  },
  {
   "cell_type": "markdown",
   "metadata": {},
   "source": [
    "Python cố gắng thực thi mã trong khối `try`. Nếu gặp lỗi, chúng ta \"bắt\" (catch) lỗi này trong khối `except` (còn được gọi là `try`/`catch` trong các ngôn ngữ khác). Có nhiều loại lỗi khác nhau, hay **ngoại lệ (exceptions)** - chúng ta đã thấy `NameError` ở trên."
   ]
  },
  {
   "cell_type": "code",
   "execution_count": 32,
   "metadata": {
    "tags": [
     "raises-exception"
    ]
   },
   "outputs": [
    {
     "ename": "ZeroDivisionError",
     "evalue": "division by zero",
     "output_type": "error",
     "traceback": [
      "\u001b[0;31m---------------------------------------------------------------------------\u001b[0m",
      "\u001b[0;31mZeroDivisionError\u001b[0m                         Traceback (most recent call last)",
      "\u001b[0;32m<ipython-input-32-9866726f0353>\u001b[0m in \u001b[0;36m<module>\u001b[0;34m\u001b[0m\n\u001b[0;32m----> 1\u001b[0;31m \u001b[0;36m5\u001b[0m\u001b[0;34m/\u001b[0m\u001b[0;36m0\u001b[0m  \u001b[0;31m# ZeroDivisionError\u001b[0m\u001b[0;34m\u001b[0m\u001b[0;34m\u001b[0m\u001b[0m\n\u001b[0m",
      "\u001b[0;31mZeroDivisionError\u001b[0m: division by zero"
     ]
    }
   ],
   "source": [
    "5/0  # ZeroDivisionError"
   ]
  },
  {
   "cell_type": "code",
   "execution_count": 33,
   "metadata": {
    "tags": [
     "raises-exception"
    ]
   },
   "outputs": [
    {
     "ename": "IndexError",
     "evalue": "list index out of range",
     "output_type": "error",
     "traceback": [
      "\u001b[0;31m---------------------------------------------------------------------------\u001b[0m",
      "\u001b[0;31mIndexError\u001b[0m                                Traceback (most recent call last)",
      "\u001b[0;32m<ipython-input-33-8f0c4b3b2ce1>\u001b[0m in \u001b[0;36m<module>\u001b[0;34m\u001b[0m\n\u001b[1;32m      1\u001b[0m \u001b[0mmy_list\u001b[0m \u001b[0;34m=\u001b[0m \u001b[0;34m[\u001b[0m\u001b[0;36m1\u001b[0m\u001b[0;34m,\u001b[0m\u001b[0;36m2\u001b[0m\u001b[0;34m,\u001b[0m\u001b[0;36m3\u001b[0m\u001b[0;34m]\u001b[0m\u001b[0;34m\u001b[0m\u001b[0;34m\u001b[0m\u001b[0m\n\u001b[0;32m----> 2\u001b[0;31m \u001b[0mmy_list\u001b[0m\u001b[0;34m[\u001b[0m\u001b[0;36m5\u001b[0m\u001b[0;34m]\u001b[0m  \u001b[0;31m# IndexError\u001b[0m\u001b[0;34m\u001b[0m\u001b[0;34m\u001b[0m\u001b[0m\n\u001b[0m",
      "\u001b[0;31mIndexError\u001b[0m: list index out of range"
     ]
    }
   ],
   "source": [
    "my_list = [1,2,3]\n",
    "my_list[5]  # IndexError"
   ]
  },
  {
   "cell_type": "code",
   "execution_count": 34,
   "metadata": {
    "tags": [
     "raises-exception"
    ]
   },
   "outputs": [
    {
     "ename": "TypeError",
     "evalue": "'tuple' object does not support item assignment",
     "output_type": "error",
     "traceback": [
      "\u001b[0;31m---------------------------------------------------------------------------\u001b[0m",
      "\u001b[0;31mTypeError\u001b[0m                                 Traceback (most recent call last)",
      "\u001b[0;32m<ipython-input-34-90cd0bd9ddec>\u001b[0m in \u001b[0;36m<module>\u001b[0;34m\u001b[0m\n\u001b[1;32m      1\u001b[0m \u001b[0mmy_tuple\u001b[0m \u001b[0;34m=\u001b[0m \u001b[0;34m(\u001b[0m\u001b[0;36m1\u001b[0m\u001b[0;34m,\u001b[0m\u001b[0;36m2\u001b[0m\u001b[0;34m,\u001b[0m\u001b[0;36m3\u001b[0m\u001b[0;34m)\u001b[0m\u001b[0;34m\u001b[0m\u001b[0;34m\u001b[0m\u001b[0m\n\u001b[0;32m----> 2\u001b[0;31m \u001b[0mmy_tuple\u001b[0m\u001b[0;34m[\u001b[0m\u001b[0;36m0\u001b[0m\u001b[0;34m]\u001b[0m \u001b[0;34m=\u001b[0m \u001b[0;36m0\u001b[0m  \u001b[0;31m# TypeError\u001b[0m\u001b[0;34m\u001b[0m\u001b[0;34m\u001b[0m\u001b[0m\n\u001b[0m",
      "\u001b[0;31mTypeError\u001b[0m: 'tuple' object does not support item assignment"
     ]
    }
   ],
   "source": [
    "my_tuple = (1,2,3)\n",
    "my_tuple[0] = 0  # TypeError"
   ]
  },
  {
   "cell_type": "markdown",
   "metadata": {},
   "source": [
    "Được rồi, vậy là có vẻ như có một loạt các lỗi khác nhau mà người ta có thể gặp phải. Với `try`/`except`, bạn cũng có thể bắt chính ngoại lệ đó:"
   ]
  },
  {
   "cell_type": "code",
   "execution_count": 35,
   "metadata": {},
   "outputs": [
    {
     "name": "stdout",
     "output_type": "stream",
     "text": [
      "You did something bad!\n",
      "name 'this_variable_does_not_exist' is not defined\n",
      "<class 'NameError'>\n"
     ]
    }
   ],
   "source": [
    "try:\n",
    "    this_variable_does_not_exist\n",
    "except Exception as ex:\n",
    "    print(\"You did something bad!\")\n",
    "    print(ex)\n",
    "    print(type(ex))"
   ]
  },
  {
   "cell_type": "markdown",
   "metadata": {},
   "source": [
    "Ở trên, chúng ta đã bắt ngoại lệ và gán nó cho biến `ex` để chúng ta có thể in nó ra. Điều này hữu ích vì bạn có thể thấy thông báo lỗi sẽ là gì, mà không làm hỏng chương trình của bạn. Bạn cũng có thể bắt các loại ngoại lệ cụ thể. Đây thường là cách được khuyến nghị để bắt lỗi, bạn muốn cụ thể trong việc bắt lỗi của mình để bạn biết chính xác mã của mình đã thất bại ở đâu và tại sao."
   ]
  },
  {
   "cell_type": "code",
   "execution_count": 36,
   "metadata": {},
   "outputs": [
    {
     "name": "stdout",
     "output_type": "stream",
     "text": [
      "You made a name error!\n"
     ]
    }
   ],
   "source": [
    "try:\n",
    "    this_variable_does_not_exist  # name error\n",
    "#     (1, 2, 3)[0] = 1  # type error\n",
    "#     5/0  # ZeroDivisionError\n",
    "except TypeError:\n",
    "    print(\"You made a type error!\")\n",
    "except NameError:\n",
    "    print(\"You made a name error!\")\n",
    "except:\n",
    "    print(\"You made some other sort of error\")"
   ]
  },
  {
   "cell_type": "markdown",
   "metadata": {},
   "source": [
    "Khối `except` cuối cùng sẽ kích hoạt nếu lỗi không thuộc các loại trên, vì vậy điều này có cảm giác giống như `if`/`elif`/`else`. Cũng có một từ khóa `else` và `finally` tùy chọn (mà tôi hầu như không bao giờ sử dụng), nhưng bạn có thể đọc thêm về chúng [ở đây](https://docs.python.org/3/tutorial/errors.html)."
   ]
  },
  {
   "cell_type": "code",
   "execution_count": 37,
   "metadata": {},
   "outputs": [
    {
     "name": "stdout",
     "output_type": "stream",
     "text": [
      "The variable does not exist!\n",
      "I'm printing anyway!\n"
     ]
    }
   ],
   "source": [
    "try:\n",
    "    this_variable_does_not_exist\n",
    "except:\n",
    "    print(\"The variable does not exist!\")\n",
    "finally:\n",
    "    print(\"I'm printing anyway!\")"
   ]
  },
  {
   "cell_type": "markdown",
   "metadata": {},
   "source": [
    "Chúng ta cũng có thể viết mã để chủ động nêu (raise) một ngoại lệ, bằng cách sử dụng `raise`:"
   ]
  },
  {
   "cell_type": "code",
   "execution_count": 38,
   "metadata": {},
   "outputs": [],
   "source": [
    "def add_one(x):  # we'll get to functions in the next section\n",
    "    return x + 1"
   ]
  },
  {
   "cell_type": "code",
   "execution_count": 39,
   "metadata": {
    "tags": [
     "raises-exception"
    ]
   },
   "outputs": [
    {
     "ename": "TypeError",
     "evalue": "can only concatenate str (not \"int\") to str",
     "output_type": "error",
     "traceback": [
      "\u001b[0;31m---------------------------------------------------------------------------\u001b[0m",
      "\u001b[0;31mTypeError\u001b[0m                                 Traceback (most recent call last)",
      "\u001b[0;32m<ipython-input-39-96e0142692a3>\u001b[0m in \u001b[0;36m<module>\u001b[0;34m\u001b[0m\n\u001b[0;32m----> 1\u001b[0;31m \u001b[0madd_one\u001b[0m\u001b[0;34m(\u001b[0m\u001b[0;34m\"blah\"\u001b[0m\u001b[0;34m)\u001b[0m\u001b[0;34m\u001b[0m\u001b[0;34m\u001b[0m\u001b[0m\n\u001b[0m",
      "\u001b[0;32m<ipython-input-38-eabf290fc405>\u001b[0m in \u001b[0;36madd_one\u001b[0;34m(x)\u001b[0m\n\u001b[1;32m      1\u001b[0m \u001b[0;32mdef\u001b[0m \u001b[0madd_one\u001b[0m\u001b[0;34m(\u001b[0m\u001b[0mx\u001b[0m\u001b[0;34m)\u001b[0m\u001b[0;34m:\u001b[0m  \u001b[0;31m# we'll get to functions in the next section\u001b[0m\u001b[0;34m\u001b[0m\u001b[0;34m\u001b[0m\u001b[0m\n\u001b[0;32m----> 2\u001b[0;31m     \u001b[0;32mreturn\u001b[0m \u001b[0mx\u001b[0m \u001b[0;34m+\u001b[0m \u001b[0;36m1\u001b[0m\u001b[0;34m\u001b[0m\u001b[0;34m\u001b[0m\u001b[0m\n\u001b[0m",
      "\u001b[0;31mTypeError\u001b[0m: can only concatenate str (not \"int\") to str"
     ]
    }
   ],
   "source": [
    "add_one(\"blah\")"
   ]
  },
  {
   "cell_type": "code",
   "execution_count": 40,
   "metadata": {},
   "outputs": [],
   "source": [
    "def add_one(x):\n",
    "    if not isinstance(x, float) and not isinstance(x, int):\n",
    "        raise TypeError(f\"Sorry, x must be numeric, you entered a {type(x)}.\")\n",
    "        \n",
    "    return x + 1"
   ]
  },
  {
   "cell_type": "code",
   "execution_count": 41,
   "metadata": {
    "tags": [
     "raises-exception"
    ]
   },
   "outputs": [
    {
     "ename": "TypeError",
     "evalue": "Sorry, x must be numeric, you entered a <class 'str'>.",
     "output_type": "error",
     "traceback": [
      "\u001b[0;31m---------------------------------------------------------------------------\u001b[0m",
      "\u001b[0;31mTypeError\u001b[0m                                 Traceback (most recent call last)",
      "\u001b[0;32m<ipython-input-41-96e0142692a3>\u001b[0m in \u001b[0;36m<module>\u001b[0;34m\u001b[0m\n\u001b[0;32m----> 1\u001b[0;31m \u001b[0madd_one\u001b[0m\u001b[0;34m(\u001b[0m\u001b[0;34m\"blah\"\u001b[0m\u001b[0;34m)\u001b[0m\u001b[0;34m\u001b[0m\u001b[0;34m\u001b[0m\u001b[0m\n\u001b[0m",
      "\u001b[0;32m<ipython-input-40-3a3a8b564774>\u001b[0m in \u001b[0;36madd_one\u001b[0;34m(x)\u001b[0m\n\u001b[1;32m      1\u001b[0m \u001b[0;32mdef\u001b[0m \u001b[0madd_one\u001b[0m\u001b[0;34m(\u001b[0m\u001b[0mx\u001b[0m\u001b[0;34m)\u001b[0m\u001b[0;34m:\u001b[0m\u001b[0;34m\u001b[0m\u001b[0;34m\u001b[0m\u001b[0m\n\u001b[1;32m      2\u001b[0m     \u001b[0;32mif\u001b[0m \u001b[0;32mnot\u001b[0m \u001b[0misinstance\u001b[0m\u001b[0;34m(\u001b[0m\u001b[0mx\u001b[0m\u001b[0;34m,\u001b[0m \u001b[0mfloat\u001b[0m\u001b[0;34m)\u001b[0m \u001b[0;32mand\u001b[0m \u001b[0;32mnot\u001b[0m \u001b[0misinstance\u001b[0m\u001b[0;34m(\u001b[0m\u001b[0mx\u001b[0m\u001b[0;34m,\u001b[0m \u001b[0mint\u001b[0m\u001b[0;34m)\u001b[0m\u001b[0;34m:\u001b[0m\u001b[0;34m\u001b[0m\u001b[0;34m\u001b[0m\u001b[0m\n\u001b[0;32m----> 3\u001b[0;31m         \u001b[0;32mraise\u001b[0m \u001b[0mTypeError\u001b[0m\u001b[0;34m(\u001b[0m\u001b[0;34mf\"Sorry, x must be numeric, you entered a {type(x)}.\"\u001b[0m\u001b[0;34m)\u001b[0m\u001b[0;34m\u001b[0m\u001b[0;34m\u001b[0m\u001b[0m\n\u001b[0m\u001b[1;32m      4\u001b[0m \u001b[0;34m\u001b[0m\u001b[0m\n\u001b[1;32m      5\u001b[0m     \u001b[0;32mreturn\u001b[0m \u001b[0mx\u001b[0m \u001b[0;34m+\u001b[0m \u001b[0;36m1\u001b[0m\u001b[0;34m\u001b[0m\u001b[0;34m\u001b[0m\u001b[0m\n",
      "\u001b[0;31mTypeError\u001b[0m: Sorry, x must be numeric, you entered a <class 'str'>."
     ]
    }
   ],
   "source": [
    "add_one(\"blah\")"
   ]
  },
  {
   "cell_type": "markdown",
   "metadata": {},
   "source": [
    "Điều này hữu ích khi hàm của bạn phức tạp và sẽ thất bại một cách phức tạp, với một thông báo lỗi kỳ lạ. Bạn có thể làm cho nguyên nhân của lỗi rõ ràng hơn nhiều đối với _người dùng_ của hàm. Nếu bạn làm điều này, lý tưởng nhất là bạn nên mô tả các ngoại lệ này trong tài liệu hàm, để người dùng biết điều gì sẽ xảy ra nếu họ gọi hàm của bạn.\n",
    "\n",
    "Cuối cùng, chúng ta thậm chí có thể định nghĩa các loại ngoại lệ của riêng mình. Chúng ta làm điều này bằng cách kế thừa từ lớp `Exception` - chúng ta sẽ khám phá thêm về các lớp và kế thừa trong chương tiếp theo!"
   ]
  },
  {
   "cell_type": "code",
   "execution_count": 1,
   "metadata": {},
   "outputs": [],
   "source": [
    "class CustomAdditionError(Exception):\n",
    "    pass"
   ]
  },
  {
   "cell_type": "code",
   "execution_count": 2,
   "metadata": {},
   "outputs": [],
   "source": [
    "def add_one(x):\n",
    "    if not isinstance(x, float) and not isinstance(x, int):\n",
    "        raise CustomAdditionError(\"Sorry, x must be numeric\")\n",
    "        \n",
    "    return x + 1"
   ]
  },
  {
   "cell_type": "code",
   "execution_count": 3,
   "metadata": {
    "tags": [
     "raises-exception"
    ]
   },
   "outputs": [
    {
     "ename": "CustomAdditionError",
     "evalue": "Sorry, x must be numeric",
     "output_type": "error",
     "traceback": [
      "\u001b[0;31m---------------------------------------------------------------------------\u001b[0m",
      "\u001b[0;31mCustomAdditionError\u001b[0m                       Traceback (most recent call last)",
      "\u001b[0;32m<ipython-input-3-96e0142692a3>\u001b[0m in \u001b[0;36m<module>\u001b[0;34m\u001b[0m\n\u001b[0;32m----> 1\u001b[0;31m \u001b[0madd_one\u001b[0m\u001b[0;34m(\u001b[0m\u001b[0;34m\"blah\"\u001b[0m\u001b[0;34m)\u001b[0m\u001b[0;34m\u001b[0m\u001b[0;34m\u001b[0m\u001b[0m\n\u001b[0m",
      "\u001b[0;32m<ipython-input-2-25db54189b4f>\u001b[0m in \u001b[0;36madd_one\u001b[0;34m(x)\u001b[0m\n\u001b[1;32m      1\u001b[0m \u001b[0;32mdef\u001b[0m \u001b[0madd_one\u001b[0m\u001b[0;34m(\u001b[0m\u001b[0mx\u001b[0m\u001b[0;34m)\u001b[0m\u001b[0;34m:\u001b[0m\u001b[0;34m\u001b[0m\u001b[0;34m\u001b[0m\u001b[0m\n\u001b[1;32m      2\u001b[0m     \u001b[0;32mif\u001b[0m \u001b[0;32mnot\u001b[0m \u001b[0misinstance\u001b[0m\u001b[0;34m(\u001b[0m\u001b[0mx\u001b[0m\u001b[0;34m,\u001b[0m \u001b[0mfloat\u001b[0m\u001b[0;34m)\u001b[0m \u001b[0;32mand\u001b[0m \u001b[0;32mnot\u001b[0m \u001b[0misinstance\u001b[0m\u001b[0;34m(\u001b[0m\u001b[0mx\u001b[0m\u001b[0;34m,\u001b[0m \u001b[0mint\u001b[0m\u001b[0;34m)\u001b[0m\u001b[0;34m:\u001b[0m\u001b[0;34m\u001b[0m\u001b[0;34m\u001b[0m\u001b[0m\n\u001b[0;32m----> 3\u001b[0;31m         \u001b[0;32mraise\u001b[0m \u001b[0mCustomAdditionError\u001b[0m\u001b[0;34m(\u001b[0m\u001b[0;34m\"Sorry, x must be numeric\"\u001b[0m\u001b[0;34m)\u001b[0m\u001b[0;34m\u001b[0m\u001b[0;34m\u001b[0m\u001b[0m\n\u001b[0m\u001b[1;32m      4\u001b[0m \u001b[0;34m\u001b[0m\u001b[0m\n\u001b[1;32m      5\u001b[0m     \u001b[0;32mreturn\u001b[0m \u001b[0mx\u001b[0m \u001b[0;34m+\u001b[0m \u001b[0;36m1\u001b[0m\u001b[0;34m\u001b[0m\u001b[0;34m\u001b[0m\u001b[0m\n",
      "\u001b[0;31mCustomAdditionError\u001b[0m: Sorry, x must be numeric"
     ]
    }
   ],
   "source": [
    "add_one(\"blah\")"
   ]
  },
  {
   "cell_type": "markdown",
   "metadata": {},
   "source": [
    "## 5. Hàm\n",
    "<hr>"
   ]
  },
  {
   "cell_type": "markdown",
   "metadata": {},
   "source": [
    "Một [hàm](https://docs.python.org/3/tutorial/controlflow.html#defining-functions) là một đoạn mã có thể tái sử dụng, có thể chấp nhận các tham số đầu vào, còn được gọi là \"đối số\" (arguments). Ví dụ, hãy định nghĩa một hàm có tên `square` nhận một tham số đầu vào `n` và trả về bình phương `n**2`:"
   ]
  },
  {
   "cell_type": "code",
   "execution_count": 4,
   "metadata": {},
   "outputs": [],
   "source": [
    "def square(n):\n",
    "    n_squared = n**2\n",
    "    return n_squared"
   ]
  },
  {
   "cell_type": "code",
   "execution_count": 5,
   "metadata": {},
   "outputs": [
    {
     "data": {
      "text/plain": [
       "4"
      ]
     },
     "execution_count": 5,
     "metadata": {},
     "output_type": "execute_result"
    }
   ],
   "source": [
    "square(2)"
   ]
  },
  {
   "cell_type": "code",
   "execution_count": 6,
   "metadata": {},
   "outputs": [
    {
     "data": {
      "text/plain": [
       "10000"
      ]
     },
     "execution_count": 6,
     "metadata": {},
     "output_type": "execute_result"
    }
   ],
   "source": [
    "square(100)"
   ]
  },
  {
   "cell_type": "code",
   "execution_count": 7,
   "metadata": {},
   "outputs": [
    {
     "data": {
      "text/plain": [
       "152399025"
      ]
     },
     "execution_count": 7,
     "metadata": {},
     "output_type": "execute_result"
    }
   ],
   "source": [
    "square(12345)"
   ]
  },
  {
   "cell_type": "markdown",
   "metadata": {},
   "source": [
    "Hàm bắt đầu bằng từ khóa `def`, sau đó là tên hàm, các đối số trong dấu ngoặc đơn, và sau đó là dấu hai chấm (`:`). Mã được thực thi bởi hàm được xác định bằng cách thụt lề. Giá trị đầu ra hoặc giá trị \"trả về\" của hàm được chỉ định bằng từ khóa `return`."
   ]
  },
  {
   "cell_type": "markdown",
   "metadata": {},
   "source": [
    "### Tác dụng phụ & Biến cục bộ\n",
    "\n",
    "Khi bạn tạo một biến bên trong một hàm, nó là biến cục bộ, có nghĩa là nó chỉ tồn tại bên trong hàm đó. Ví dụ:"
   ]
  },
  {
   "cell_type": "code",
   "execution_count": 8,
   "metadata": {},
   "outputs": [],
   "source": [
    "def cat_string(str1, str2):\n",
    "    string = str1 + str2\n",
    "    return string"
   ]
  },
  {
   "cell_type": "code",
   "execution_count": 9,
   "metadata": {},
   "outputs": [
    {
     "data": {
      "text/plain": [
       "'My name is Tom'"
      ]
     },
     "execution_count": 9,
     "metadata": {},
     "output_type": "execute_result"
    }
   ],
   "source": [
    "cat_string('My name is ', 'Tom')"
   ]
  },
  {
   "cell_type": "code",
   "execution_count": 10,
   "metadata": {
    "tags": [
     "raises-exception"
    ]
   },
   "outputs": [
    {
     "ename": "NameError",
     "evalue": "name 'string' is not defined",
     "output_type": "error",
     "traceback": [
      "\u001b[0;31m---------------------------------------------------------------------------\u001b[0m",
      "\u001b[0;31mNameError\u001b[0m                                 Traceback (most recent call last)",
      "\u001b[0;32m<ipython-input-10-edbf08a562d5>\u001b[0m in \u001b[0;36m<module>\u001b[0;34m\u001b[0m\n\u001b[0;32m----> 1\u001b[0;31m \u001b[0mstring\u001b[0m\u001b[0;34m\u001b[0m\u001b[0;34m\u001b[0m\u001b[0m\n\u001b[0m",
      "\u001b[0;31mNameError\u001b[0m: name 'string' is not defined"
     ]
    }
   ],
   "source": [
    "string"
   ]
  },
  {
   "cell_type": "markdown",
   "metadata": {},
   "source": [
    "Nếu một hàm thay đổi các biến được truyền vào nó, thì nó được cho là có **tác dụng phụ (side effects)**. Ví dụ:"
   ]
  },
  {
   "cell_type": "code",
   "execution_count": 11,
   "metadata": {},
   "outputs": [],
   "source": [
    "def silly_sum(my_list):\n",
    "    my_list.append(0)\n",
    "    return sum(my_list)"
   ]
  },
  {
   "cell_type": "code",
   "execution_count": 12,
   "metadata": {},
   "outputs": [
    {
     "data": {
      "text/plain": [
       "10"
      ]
     },
     "execution_count": 12,
     "metadata": {},
     "output_type": "execute_result"
    }
   ],
   "source": [
    "l = [1, 2, 3, 4]\n",
    "out = silly_sum(l)\n",
    "out"
   ]
  },
  {
   "cell_type": "markdown",
   "metadata": {},
   "source": [
    "Ví dụ trên có vẻ như đã cho kết quả mong muốn? Nhưng khoan đã... nó đã thay đổi đối tượng `l` của chúng ta..."
   ]
  },
  {
   "cell_type": "code",
   "execution_count": 13,
   "metadata": {},
   "outputs": [
    {
     "data": {
      "text/plain": [
       "[1, 2, 3, 4, 0]"
      ]
     },
     "execution_count": 13,
     "metadata": {},
     "output_type": "execute_result"
    }
   ],
   "source": [
    "l"
   ]
  },
  {
   "cell_type": "markdown",
   "metadata": {},
   "source": [
    "Nếu hàm của bạn có các tác dụng phụ như thế này, bạn phải đề cập đến nó trong tài liệu (chúng ta sẽ đề cập đến vấn đề này sau trong chương này)."
   ]
  },
  {
   "cell_type": "markdown",
   "metadata": {},
   "source": [
    "### Kiểu trả về Null\n",
    "\n",
    "Nếu bạn không chỉ định giá trị trả về, hàm sẽ trả về `None` khi nó kết thúc:"
   ]
  },
  {
   "cell_type": "code",
   "execution_count": 14,
   "metadata": {},
   "outputs": [
    {
     "name": "stdout",
     "output_type": "stream",
     "text": [
      "None\n"
     ]
    }
   ],
   "source": [
    "def f(x):\n",
    "    x + 1 # no return!\n",
    "    if x == 999:\n",
    "        return\n",
    "print(f(0))"
   ]
  },
  {
   "cell_type": "markdown",
   "metadata": {},
   "source": [
    "### Đối số tùy chọn & Bắt buộc\n",
    "\n",
    "Đôi khi rất tiện lợi khi có _giá trị mặc định_ cho một số đối số trong một hàm. Bởi vì chúng có giá trị mặc định, các đối số này là tùy chọn, và do đó được gọi là \"đối số tùy chọn\". Ví dụ:"
   ]
  },
  {
   "cell_type": "code",
   "execution_count": 15,
   "metadata": {},
   "outputs": [],
   "source": [
    "def repeat_string(s, n=2):\n",
    "    return s*n"
   ]
  },
  {
   "cell_type": "code",
   "execution_count": 16,
   "metadata": {},
   "outputs": [
    {
     "data": {
      "text/plain": [
       "'mdsmds'"
      ]
     },
     "execution_count": 16,
     "metadata": {},
     "output_type": "execute_result"
    }
   ],
   "source": [
    "repeat_string(\"mds\", 2)"
   ]
  },
  {
   "cell_type": "code",
   "execution_count": 17,
   "metadata": {},
   "outputs": [
    {
     "data": {
      "text/plain": [
       "'mdsmdsmdsmdsmds'"
      ]
     },
     "execution_count": 17,
     "metadata": {},
     "output_type": "execute_result"
    }
   ],
   "source": [
    "repeat_string(\"mds\", 5)"
   ]
  },
  {
   "cell_type": "code",
   "execution_count": 18,
   "metadata": {},
   "outputs": [
    {
     "data": {
      "text/plain": [
       "'mdsmds'"
      ]
     },
     "execution_count": 18,
     "metadata": {},
     "output_type": "execute_result"
    }
   ],
   "source": [
    "repeat_string(\"mds\") # do not specify `n`; it is optional"
   ]
  },
  {
   "cell_type": "markdown",
   "metadata": {},
   "source": [
    "Lý tưởng nhất, giá trị mặc định cho các đối số tùy chọn nên được chọn cẩn thận. Trong hàm trên, ý tưởng \"lặp lại\" một cái gì đó khiến tôi nghĩ đến việc có 2 bản sao, vì vậy `n=2` có vẻ như là một giá trị mặc định hợp lý.\n",
    "\n",
    "Bạn có thể có bất kỳ số lượng đối số bắt buộc nào và bất kỳ số lượng đối số tùy chọn nào. Tất cả các đối số tùy chọn phải đứng sau các đối số bắt buộc. Các đối số bắt buộc được ánh xạ theo thứ tự chúng xuất hiện. Các đối số tùy chọn có thể được chỉ định không theo thứ tự khi sử dụng hàm."
   ]
  },
  {
   "cell_type": "code",
   "execution_count": 19,
   "metadata": {},
   "outputs": [
    {
     "name": "stdout",
     "output_type": "stream",
     "text": [
      "1 2 3 4\n"
     ]
    }
   ],
   "source": [
    "def example(a, b, c=\"DEFAULT\", d=\"DEFAULT\"):\n",
    "    print(a, b, c, d)\n",
    "    \n",
    "example(1, 2, 3, 4)"
   ]
  },
  {
   "cell_type": "markdown",
   "metadata": {},
   "source": [
    "Sử dụng các giá trị mặc định cho `c` và `d`:"
   ]
  },
  {
   "cell_type": "code",
   "execution_count": 20,
   "metadata": {},
   "outputs": [
    {
     "name": "stdout",
     "output_type": "stream",
     "text": [
      "1 2 DEFAULT DEFAULT\n"
     ]
    }
   ],
   "source": [
    "example(1, 2)"
   ]
  },
  {
   "cell_type": "markdown",
   "metadata": {},
   "source": [
    "Chỉ định `c` và `d` làm **đối số từ khóa** (keyword arguments) (tức là theo tên):"
   ]
  },
  {
   "cell_type": "code",
   "execution_count": 21,
   "metadata": {},
   "outputs": [
    {
     "name": "stdout",
     "output_type": "stream",
     "text": [
      "1 2 3 4\n"
     ]
    }
   ],
   "source": [
    "example(1, 2, c=3, d=4)"
   ]
  },
  {
   "cell_type": "markdown",
   "metadata": {},
   "source": [
    "Chỉ định chỉ một trong các đối số tùy chọn, theo từ khóa:"
   ]
  },
  {
   "cell_type": "code",
   "execution_count": 22,
   "metadata": {},
   "outputs": [
    {
     "name": "stdout",
     "output_type": "stream",
     "text": [
      "1 2 3 DEFAULT\n"
     ]
    }
   ],
   "source": [
    "example(1, 2, c=3)"
   ]
  },
  {
   "cell_type": "markdown",
   "metadata": {},
   "source": [
    "Chỉ định tất cả các đối số làm đối số từ khóa, mặc dù chỉ có `c` và `d` là tùy chọn:"
   ]
  },
  {
   "cell_type": "code",
   "execution_count": 145,
   "metadata": {},
   "outputs": [
    {
     "name": "stdout",
     "output_type": "stream",
     "text": [
      "1 2 3 4\n"
     ]
    }
   ],
   "source": [
    "example(a=1, b=2, c=3, d=4)"
   ]
  },
  {
   "cell_type": "markdown",
   "metadata": {},
   "source": [
    "Chỉ định `c` theo vị trí thứ 3 của nó (tôi không khuyến khích điều này vì tôi thấy nó gây nhầm lẫn):"
   ]
  },
  {
   "cell_type": "code",
   "execution_count": 146,
   "metadata": {},
   "outputs": [
    {
     "name": "stdout",
     "output_type": "stream",
     "text": [
      "1 2 3 DEFAULT\n"
     ]
    }
   ],
   "source": [
    "example(1, 2, 3)"
   ]
  },
  {
   "cell_type": "markdown",
   "metadata": {},
   "source": [
    "Chỉ định các đối số tùy chọn theo từ khóa, nhưng sai thứ tự (điều này cũng có thể gây nhầm lẫn, nhưng không quá tệ - tôi thấy ổn với nó):"
   ]
  },
  {
   "cell_type": "code",
   "execution_count": 148,
   "metadata": {},
   "outputs": [
    {
     "name": "stdout",
     "output_type": "stream",
     "text": [
      "1 2 3 4\n"
     ]
    }
   ],
   "source": [
    "example(1, 2, d=4, c=3)"
   ]
  },
  {
   "cell_type": "markdown",
   "metadata": {},
   "source": [
    "Chỉ định các đối số không tùy chọn theo từ khóa (tôi thấy ổn với điều này):"
   ]
  },
  {
   "cell_type": "code",
   "execution_count": 149,
   "metadata": {},
   "outputs": [
    {
     "name": "stdout",
     "output_type": "stream",
     "text": [
      "1 2 DEFAULT DEFAULT\n"
     ]
    }
   ],
   "source": [
    "example(a=1, b=2)"
   ]
  },
  {
   "cell_type": "markdown",
   "metadata": {},
   "source": [
    "Chỉ định các đối số không tùy chọn theo từ khóa, nhưng sai thứ tự (không được khuyến khích, tôi thấy nó gây nhầm lẫn):"
   ]
  },
  {
   "cell_type": "code",
   "execution_count": 150,
   "metadata": {},
   "outputs": [
    {
     "name": "stdout",
     "output_type": "stream",
     "text": [
      "1 2 DEFAULT DEFAULT\n"
     ]
    }
   ],
   "source": [
    "example(b=2, a=1)"
   ]
  },
  {
   "cell_type": "markdown",
   "metadata": {},
   "source": [
    "Chỉ định đối số từ khóa trước đối số không phải từ khóa (điều này gây ra lỗi):"
   ]
  },
  {
   "cell_type": "code",
   "execution_count": 23,
   "metadata": {
    "tags": [
     "raises-exception"
    ]
   },
   "outputs": [
    {
     "ename": "SyntaxError",
     "evalue": "positional argument follows keyword argument (<ipython-input-23-a37b920e8205>, line 1)",
     "output_type": "error",
     "traceback": [
      "\u001b[0;36m  File \u001b[0;32m\"<ipython-input-23-a37b920e8205>\"\u001b[0;36m, line \u001b[0;32m1\u001b[0m\n\u001b[0;31m    example(a=2, 1)\u001b[0m\n\u001b[0m                ^\u001b[0m\n\u001b[0;31mSyntaxError\u001b[0m\u001b[0;31m:\u001b[0m positional argument follows keyword argument\n"
     ]
    }
   ],
   "source": [
    "example(a=2, 1)"
   ]
  },
  {
   "cell_type": "markdown",
   "metadata": {},
   "source": [
    "### Nhiều Giá trị Trả về\n",
    "\n",
    "Trong nhiều ngôn ngữ lập trình, hàm chỉ có thể trả về một đối tượng. Điều đó về mặt kỹ thuật cũng đúng trong Python, nhưng có một \"cách giải quyết\", đó là trả về một tuple."
   ]
  },
  {
   "cell_type": "code",
   "execution_count": 24,
   "metadata": {},
   "outputs": [],
   "source": [
    "def sum_and_product(x, y):\n",
    "    return (x + y, x * y)"
   ]
  },
  {
   "cell_type": "code",
   "execution_count": 25,
   "metadata": {},
   "outputs": [
    {
     "data": {
      "text/plain": [
       "(11, 30)"
      ]
     },
     "execution_count": 25,
     "metadata": {},
     "output_type": "execute_result"
    }
   ],
   "source": [
    "sum_and_product(5, 6)"
   ]
  },
  {
   "cell_type": "markdown",
   "metadata": {},
   "source": [
    "Dấu ngoặc đơn có thể được bỏ qua (và thường được bỏ qua), và một `tuple` được trả về một cách ngầm định được xác định bằng việc sử dụng dấu phẩy: "
   ]
  },
  {
   "cell_type": "code",
   "execution_count": 26,
   "metadata": {},
   "outputs": [],
   "source": [
    "def sum_and_product(x, y):\n",
    "    return x + y, x * y"
   ]
  },
  {
   "cell_type": "code",
   "execution_count": 27,
   "metadata": {},
   "outputs": [
    {
     "data": {
      "text/plain": [
       "(11, 30)"
      ]
     },
     "execution_count": 27,
     "metadata": {},
     "output_type": "execute_result"
    }
   ],
   "source": [
    "sum_and_product(5, 6)"
   ]
  },
  {
   "cell_type": "markdown",
   "metadata": {},
   "source": [
    "Thông thường, người ta sẽ giải nén (unpack) ngay một tuple trả về thành các biến riêng biệt, vì vậy nó thực sự có cảm giác như hàm đang trả về nhiều giá trị:"
   ]
  },
  {
   "cell_type": "code",
   "execution_count": 28,
   "metadata": {},
   "outputs": [],
   "source": [
    "s, p = sum_and_product(5, 6)"
   ]
  },
  {
   "cell_type": "code",
   "execution_count": 29,
   "metadata": {},
   "outputs": [
    {
     "data": {
      "text/plain": [
       "11"
      ]
     },
     "execution_count": 29,
     "metadata": {},
     "output_type": "execute_result"
    }
   ],
   "source": [
    "s"
   ]
  },
  {
   "cell_type": "code",
   "execution_count": 30,
   "metadata": {},
   "outputs": [
    {
     "data": {
      "text/plain": [
       "30"
      ]
     },
     "execution_count": 30,
     "metadata": {},
     "output_type": "execute_result"
    }
   ],
   "source": [
    "p"
   ]
  },
  {
   "cell_type": "markdown",
   "metadata": {},
   "source": [
    "Ngoài lề, theo quy ước trong Python, người ta sử dụng `_` cho các giá trị mà bạn không muốn:"
   ]
  },
  {
   "cell_type": "code",
   "execution_count": 31,
   "metadata": {},
   "outputs": [],
   "source": [
    "s, _ = sum_and_product(5, 6)"
   ]
  },
  {
   "cell_type": "code",
   "execution_count": 32,
   "metadata": {},
   "outputs": [
    {
     "data": {
      "text/plain": [
       "11"
      ]
     },
     "execution_count": 32,
     "metadata": {},
     "output_type": "execute_result"
    }
   ],
   "source": [
    "s"
   ]
  },
  {
   "cell_type": "code",
   "execution_count": 33,
   "metadata": {},
   "outputs": [
    {
     "data": {
      "text/plain": [
       "30"
      ]
     },
     "execution_count": 33,
     "metadata": {},
     "output_type": "execute_result"
    }
   ],
   "source": [
    "_"
   ]
  },
  {
   "cell_type": "markdown",
   "metadata": {},
   "source": [
    "### Hàm với số lượng đối số tùy ý\n",
    "\n",
    "Bạn cũng có thể gọi/định nghĩa các hàm chấp nhận một số lượng tùy ý các đối số vị trí hoặc từ khóa bằng cách sử dụng `*args` và `**kwargs`."
   ]
  },
  {
   "cell_type": "code",
   "execution_count": 34,
   "metadata": {},
   "outputs": [],
   "source": [
    "def add(*args):\n",
    "    print(args)\n",
    "    return sum(args)"
   ]
  },
  {
   "cell_type": "code",
   "execution_count": 35,
   "metadata": {},
   "outputs": [
    {
     "name": "stdout",
     "output_type": "stream",
     "text": [
      "(1, 2, 3, 4, 5, 6)\n"
     ]
    },
    {
     "data": {
      "text/plain": [
       "21"
      ]
     },
     "execution_count": 35,
     "metadata": {},
     "output_type": "execute_result"
    }
   ],
   "source": [
    "add(1, 2, 3, 4, 5, 6)"
   ]
  },
  {
   "cell_type": "code",
   "execution_count": 36,
   "metadata": {},
   "outputs": [],
   "source": [
    "def add(**kwargs):\n",
    "    print(kwargs)\n",
    "    return sum(kwargs.values())"
   ]
  },
  {
   "cell_type": "code",
   "execution_count": 37,
   "metadata": {},
   "outputs": [
    {
     "name": "stdout",
     "output_type": "stream",
     "text": [
      "{'a': 3, 'b': 4, 'c': 5}\n"
     ]
    },
    {
     "data": {
      "text/plain": [
       "12"
      ]
     },
     "execution_count": 37,
     "metadata": {},
     "output_type": "execute_result"
    }
   ],
   "source": [
    "add(a=3, b=4, c=5)"
   ]
  },
  {
   "cell_type": "markdown",
   "metadata": {},
   "source": [
    "## 6. Hàm như một kiểu dữ liệu\n",
    "<hr>"
   ]
  },
  {
   "cell_type": "markdown",
   "metadata": {},
   "source": [
    "Trong Python, hàm thực sự là một kiểu dữ liệu:"
   ]
  },
  {
   "cell_type": "code",
   "execution_count": 38,
   "metadata": {
    "collapsed": false,
    "jupyter": {
     "outputs_hidden": false
    }
   },
   "outputs": [],
   "source": [
    "def do_nothing(x):\n",
    "    return x"
   ]
  },
  {
   "cell_type": "code",
   "execution_count": 39,
   "metadata": {},
   "outputs": [
    {
     "data": {
      "text/plain": [
       "function"
      ]
     },
     "execution_count": 39,
     "metadata": {},
     "output_type": "execute_result"
    }
   ],
   "source": [
    "type(do_nothing)"
   ]
  },
  {
   "cell_type": "code",
   "execution_count": 40,
   "metadata": {},
   "outputs": [
    {
     "name": "stdout",
     "output_type": "stream",
     "text": [
      "<function do_nothing at 0x1102450e0>\n"
     ]
    }
   ],
   "source": [
    "print(do_nothing)"
   ]
  },
  {
   "cell_type": "markdown",
   "metadata": {},
   "source": [
    "Điều này có nghĩa là bạn có thể truyền hàm làm đối số vào các hàm khác."
   ]
  },
  {
   "cell_type": "code",
   "execution_count": 41,
   "metadata": {},
   "outputs": [],
   "source": [
    "def square(y):\n",
    "    return y**2\n",
    "\n",
    "def evaluate_function_on_x_plus_1(fun, x):\n",
    "    return fun(x+1)"
   ]
  },
  {
   "cell_type": "code",
   "execution_count": 42,
   "metadata": {},
   "outputs": [
    {
     "data": {
      "text/plain": [
       "36"
      ]
     },
     "execution_count": 42,
     "metadata": {},
     "output_type": "execute_result"
    }
   ],
   "source": [
    "evaluate_function_on_x_plus_1(square, 5)"
   ]
  },
  {
   "cell_type": "markdown",
   "metadata": {},
   "source": [
    "Vậy điều gì đã xảy ra ở trên?\n",
    "- `fun(x+1)` trở thành `square(5+1)`\n",
    "- `square(6)` trở thành `36`"
   ]
  },
  {
   "cell_type": "markdown",
   "metadata": {},
   "source": [
    "## 7. Hàm ẩn danh\n",
    "<hr>"
   ]
  },
  {
   "cell_type": "markdown",
   "metadata": {},
   "source": [
    "Có hai cách để định nghĩa hàm trong Python. Cách chúng ta đã sử dụng cho đến nay:"
   ]
  },
  {
   "cell_type": "code",
   "execution_count": 43,
   "metadata": {},
   "outputs": [],
   "source": [
    "def add_one(x):\n",
    "    return x+1"
   ]
  },
  {
   "cell_type": "code",
   "execution_count": 44,
   "metadata": {},
   "outputs": [
    {
     "data": {
      "text/plain": [
       "8.2"
      ]
     },
     "execution_count": 44,
     "metadata": {},
     "output_type": "execute_result"
    }
   ],
   "source": [
    "add_one(7.2)"
   ]
  },
  {
   "cell_type": "markdown",
   "metadata": {},
   "source": [
    "Hoặc bằng cách sử dụng từ khóa `lambda`:"
   ]
  },
  {
   "cell_type": "code",
   "execution_count": 45,
   "metadata": {},
   "outputs": [],
   "source": [
    "add_one = lambda x: x+1 "
   ]
  },
  {
   "cell_type": "code",
   "execution_count": 46,
   "metadata": {},
   "outputs": [
    {
     "data": {
      "text/plain": [
       "function"
      ]
     },
     "execution_count": 46,
     "metadata": {},
     "output_type": "execute_result"
    }
   ],
   "source": [
    "type(add_one)"
   ]
  },
  {
   "cell_type": "code",
   "execution_count": 47,
   "metadata": {},
   "outputs": [
    {
     "data": {
      "text/plain": [
       "8.2"
      ]
     },
     "execution_count": 47,
     "metadata": {},
     "output_type": "execute_result"
    }
   ],
   "source": [
    "add_one(7.2)"
   ]
  },
  {
   "cell_type": "markdown",
   "metadata": {},
   "source": [
    "Hai cách tiếp cận trên là giống hệt nhau. Cách với `lambda` được gọi là **hàm ẩn danh (anonymous function)**. Hàm ẩn danh chỉ có thể chiếm một dòng mã, vì vậy chúng không phù hợp trong hầu hết các trường hợp, nhưng có thể hữu ích cho những việc nhỏ hơn."
   ]
  },
  {
   "cell_type": "code",
   "execution_count": 48,
   "metadata": {},
   "outputs": [
    {
     "data": {
      "text/plain": [
       "36"
      ]
     },
     "execution_count": 48,
     "metadata": {},
     "output_type": "execute_result"
    }
   ],
   "source": [
    "evaluate_function_on_x_plus_1(lambda x: x ** 2, 5)"
   ]
  },
  {
   "cell_type": "markdown",
   "metadata": {},
   "source": [
    "Ở trên:\n",
    "\n",
    "- Đầu tiên, `lambda x: x**2` đánh giá thành một giá trị thuộc kiểu `function` (lưu ý rằng hàm này không bao giờ được đặt tên - do đó là \"hàm ẩn danh\").\n",
    "- Sau đó, hàm và số nguyên `5` được truyền vào `evaluate_function_on_x_plus_1`\n",
    "- Tại thời điểm đó, hàm ẩn danh được đánh giá trên `5+1`, và chúng ta nhận được `36`."
   ]
  },
  {
   "cell_type": "markdown",
   "metadata": {},
   "source": [
    "## 8. Nguyên tắc DRY, thiết kế hàm tốt\n",
    "<hr>"
   ]
  },
  {
   "cell_type": "markdown",
   "metadata": {},
   "source": [
    "DRY là viết tắt của **Don't Repeat Yourself (Đừng Lặp Lại Chính Mình)**. Xem [bài viết Wikipedia liên quan](https://en.wikipedia.org/wiki/Don%27t_repeat_yourself) để biết thêm về nguyên tắc này.\n",
    "\n",
    "Ví dụ, hãy xem xét nhiệm vụ biến mỗi phần tử của một danh sách thành một palindrome."
   ]
  },
  {
   "cell_type": "code",
   "execution_count": 49,
   "metadata": {},
   "outputs": [],
   "source": [
    "names = [\"milad\", \"tom\", \"tiffany\"]"
   ]
  },
  {
   "cell_type": "code",
   "execution_count": 50,
   "metadata": {},
   "outputs": [
    {
     "data": {
      "text/plain": [
       "'mot'"
      ]
     },
     "execution_count": 50,
     "metadata": {},
     "output_type": "execute_result"
    }
   ],
   "source": [
    "name = \"tom\"\n",
    "name[::-1]  # creates a slice that starts at the end and moves backwards, syntax is [begin:end:step]"
   ]
  },
  {
   "cell_type": "code",
   "execution_count": 51,
   "metadata": {},
   "outputs": [
    {
     "data": {
      "text/plain": [
       "['miladdalim', 'tommot', 'tiffanyynaffit']"
      ]
     },
     "execution_count": 51,
     "metadata": {},
     "output_type": "execute_result"
    }
   ],
   "source": [
    "names_backwards = list()\n",
    "\n",
    "names_backwards.append(names[0] + names[0][::-1])\n",
    "names_backwards.append(names[1] + names[1][::-1])\n",
    "names_backwards.append(names[2] + names[2][::-1])\n",
    "names_backwards"
   ]
  },
  {
   "cell_type": "markdown",
   "metadata": {},
   "source": [
    "Mã ở trên là mã tồi tệ, kinh khủng, khó chịu vì nhiều lý do:\n",
    "1. Nó chỉ hoạt động với một danh sách có 3 phần tử;\n",
    "2. Nó chỉ hoạt động với một danh sách có tên là `names`;\n",
    "3. Nếu chúng ta muốn thay đổi chức năng của nó, chúng ta cần thay đổi 3 dòng mã tương tự (Đừng Lặp Lại Chính Mình!!);\n",
    "4. Rất khó hiểu nó làm gì chỉ bằng cách nhìn vào nó.\n",
    "\n",
    "Hãy thử cách khác:"
   ]
  },
  {
   "cell_type": "code",
   "execution_count": 53,
   "metadata": {},
   "outputs": [
    {
     "data": {
      "text/plain": [
       "['miladdalim', 'tommot', 'tiffanyynaffit']"
      ]
     },
     "execution_count": 53,
     "metadata": {},
     "output_type": "execute_result"
    }
   ],
   "source": [
    "names_backwards = list()\n",
    "\n",
    "for name in names:\n",
    "    names_backwards.append(name + name[::-1])\n",
    "    \n",
    "names_backwards"
   ]
  },
  {
   "cell_type": "markdown",
   "metadata": {},
   "source": [
    "Ví dụ trên tốt hơn một chút và chúng ta đã giải quyết được vấn đề (1) và (3). Nhưng hãy tạo một hàm để cuộc sống của chúng ta dễ dàng hơn:"
   ]
  },
  {
   "cell_type": "code",
   "execution_count": 54,
   "metadata": {},
   "outputs": [
    {
     "data": {
      "text/plain": [
       "['miladdalim', 'tommot', 'tiffanyynaffit']"
      ]
     },
     "execution_count": 54,
     "metadata": {},
     "output_type": "execute_result"
    }
   ],
   "source": [
    "def make_palindromes(names):\n",
    "    names_backwards = list()\n",
    "    \n",
    "    for name in names:\n",
    "        names_backwards.append(name + name[::-1])\n",
    "    \n",
    "    return names_backwards\n",
    "\n",
    "make_palindromes(names)"
   ]
  },
  {
   "cell_type": "markdown",
   "metadata": {},
   "source": [
    "Được rồi, cái này còn tốt hơn nữa. Bây giờ chúng ta cũng đã giải quyết được vấn đề (2), bởi vì bạn có thể gọi hàm với bất kỳ danh sách nào, không chỉ `names`. Ví dụ, nếu chúng ta có nhiều _danh sách_ thì sao:"
   ]
  },
  {
   "cell_type": "code",
   "execution_count": 55,
   "metadata": {},
   "outputs": [],
   "source": [
    "names1 = [\"milad\", \"tom\", \"tiffany\"]\n",
    "names2 = [\"apple\", \"orange\", \"banana\"]"
   ]
  },
  {
   "cell_type": "code",
   "execution_count": 56,
   "metadata": {},
   "outputs": [
    {
     "data": {
      "text/plain": [
       "['miladdalim', 'tommot', 'tiffanyynaffit']"
      ]
     },
     "execution_count": 56,
     "metadata": {},
     "output_type": "execute_result"
    }
   ],
   "source": [
    "make_palindromes(names1)"
   ]
  },
  {
   "cell_type": "code",
   "execution_count": 57,
   "metadata": {},
   "outputs": [
    {
     "data": {
      "text/plain": [
       "['appleelppa', 'orangeegnaro', 'bananaananab']"
      ]
     },
     "execution_count": 57,
     "metadata": {},
     "output_type": "execute_result"
    }
   ],
   "source": [
    "make_palindromes(names2)"
   ]
  },
  {
   "cell_type": "markdown",
   "metadata": {},
   "source": [
    "### Thiết kế hàm tốt"
   ]
  },
  {
   "cell_type": "markdown",
   "metadata": {},
   "source": [
    "Bạn đi bao xa và cách bạn chọn áp dụng nguyên tắc DRY phụ thuộc vào bạn và bối cảnh lập trình. Những quyết định này thường không rõ ràng. `make_palindromes()` có nên là một hàm nếu tôi chỉ thực hiện nó một lần? Hai lần? Vòng lặp nên ở bên trong hàm hay bên ngoài? Có nên có HAI hàm, một hàm lặp qua hàm kia không?\n",
    "\n",
    "Theo ý kiến cá nhân của tôi, `make_palindromes()` làm quá nhiều việc để có thể hiểu được. Tôi thích cách này hơn:"
   ]
  },
  {
   "cell_type": "code",
   "execution_count": 58,
   "metadata": {},
   "outputs": [
    {
     "data": {
      "text/plain": [
       "'miladdalim'"
      ]
     },
     "execution_count": 58,
     "metadata": {},
     "output_type": "execute_result"
    }
   ],
   "source": [
    "def make_palindrome(name):\n",
    "    return name + name[::-1]\n",
    "\n",
    "make_palindrome(\"milad\")"
   ]
  },
  {
   "cell_type": "markdown",
   "metadata": {},
   "source": [
    "Từ đây, nếu chúng ta muốn \"áp dụng `make_palindrome` cho mọi phần tử của một danh sách\", chúng ta có thể sử dụng cấu trúc rút gọn danh sách (list comprehension):"
   ]
  },
  {
   "cell_type": "code",
   "execution_count": 59,
   "metadata": {},
   "outputs": [
    {
     "data": {
      "text/plain": [
       "['miladdalim', 'tommot', 'tiffanyynaffit']"
      ]
     },
     "execution_count": 59,
     "metadata": {},
     "output_type": "execute_result"
    }
   ],
   "source": [
    "[make_palindrome(name) for name in names]"
   ]
  },
  {
   "cell_type": "markdown",
   "metadata": {},
   "source": [
    "Cũng có hàm `map()` được tích hợp sẵn, thực hiện chính xác điều này, áp dụng một hàm cho mọi phần tử của một chuỗi:"
   ]
  },
  {
   "cell_type": "code",
   "execution_count": 60,
   "metadata": {},
   "outputs": [
    {
     "data": {
      "text/plain": [
       "['miladdalim', 'tommot', 'tiffanyynaffit']"
      ]
     },
     "execution_count": 60,
     "metadata": {},
     "output_type": "execute_result"
    }
   ],
   "source": [
    "list(map(make_palindrome, names))"
   ]
  },
  {
   "cell_type": "markdown",
   "metadata": {},
   "source": [
    "## 9. Generators\n",
    "<hr>"
   ]
  },
  {
   "cell_type": "markdown",
   "metadata": {},
   "source": [
    "Nhớ lại cấu trúc rút gọn danh sách từ phần trước của chương:"
   ]
  },
  {
   "cell_type": "code",
   "execution_count": 61,
   "metadata": {},
   "outputs": [
    {
     "data": {
      "text/plain": [
       "[0, 1, 2, 3, 4, 5, 6, 7, 8, 9]"
      ]
     },
     "execution_count": 61,
     "metadata": {},
     "output_type": "execute_result"
    }
   ],
   "source": [
    "[n for n in range(10)]"
   ]
  },
  {
   "cell_type": "markdown",
   "metadata": {},
   "source": [
    "Cấu trúc rút gọn (Comprehensions) đánh giá toàn bộ biểu thức cùng một lúc, sau đó trả về toàn bộ sản phẩm dữ liệu. Đôi khi, chúng ta muốn làm việc chỉ với một phần dữ liệu của mình tại một thời điểm, ví dụ, khi chúng ta không thể chứa tất cả dữ liệu của mình trong bộ nhớ. Đối với điều này, chúng ta có thể sử dụng *generators*."
   ]
  },
  {
   "cell_type": "code",
   "execution_count": 62,
   "metadata": {},
   "outputs": [
    {
     "data": {
      "text/plain": [
       "<generator object <genexpr> at 0x110220650>"
      ]
     },
     "execution_count": 62,
     "metadata": {},
     "output_type": "execute_result"
    }
   ],
   "source": [
    "(n for n in range(10))"
   ]
  },
  {
   "cell_type": "markdown",
   "metadata": {},
   "source": [
    "Lưu ý rằng chúng ta vừa tạo một `đối tượng generator`. Đối tượng generator giống như một \"công thức\" để tạo ra các giá trị. Chúng không thực sự thực hiện bất kỳ tính toán nào cho đến khi được yêu cầu. Chúng ta có thể lấy giá trị từ một generator theo ba cách chính:\n",
    "- Sử dụng `next()`\n",
    "- Sử dụng `list()`\n",
    "- Lặp"
   ]
  },
  {
   "cell_type": "code",
   "execution_count": 63,
   "metadata": {},
   "outputs": [],
   "source": [
    "gen = (n for n in range(10))"
   ]
  },
  {
   "cell_type": "code",
   "execution_count": 64,
   "metadata": {},
   "outputs": [
    {
     "data": {
      "text/plain": [
       "0"
      ]
     },
     "execution_count": 64,
     "metadata": {},
     "output_type": "execute_result"
    }
   ],
   "source": [
    "next(gen)"
   ]
  },
  {
   "cell_type": "code",
   "execution_count": 65,
   "metadata": {},
   "outputs": [
    {
     "data": {
      "text/plain": [
       "1"
      ]
     },
     "execution_count": 65,
     "metadata": {},
     "output_type": "execute_result"
    }
   ],
   "source": [
    "next(gen)"
   ]
  },
  {
   "cell_type": "markdown",
   "metadata": {},
   "source": [
    "Khi generator đã cạn kiệt, nó sẽ không còn trả về giá trị nữa:"
   ]
  },
  {
   "cell_type": "code",
   "execution_count": 67,
   "metadata": {
    "tags": [
     "raises-exception"
    ]
   },
   "outputs": [
    {
     "name": "stdout",
     "output_type": "stream",
     "text": [
      "0\n",
      "1\n",
      "2\n",
      "3\n",
      "4\n",
      "5\n",
      "6\n",
      "7\n",
      "8\n",
      "9\n"
     ]
    },
    {
     "ename": "StopIteration",
     "evalue": "",
     "output_type": "error",
     "traceback": [
      "\u001b[0;31m---------------------------------------------------------------------------\u001b[0m",
      "\u001b[0;31mStopIteration\u001b[0m                             Traceback (most recent call last)",
      "\u001b[0;32m<ipython-input-67-14d35f56c593>\u001b[0m in \u001b[0;36m<module>\u001b[0;34m\u001b[0m\n\u001b[1;32m      1\u001b[0m \u001b[0mgen\u001b[0m \u001b[0;34m=\u001b[0m \u001b[0;34m(\u001b[0m\u001b[0mn\u001b[0m \u001b[0;32mfor\u001b[0m \u001b[0mn\u001b[0m \u001b[0;32min\u001b[0m \u001b[0mrange\u001b[0m\u001b[0;34m(\u001b[0m\u001b[0;36m10\u001b[0m\u001b[0;34m)\u001b[0m\u001b[0;34m)\u001b[0m\u001b[0;34m\u001b[0m\u001b[0;34m\u001b[0m\u001b[0m\n\u001b[1;32m      2\u001b[0m \u001b[0;32mfor\u001b[0m \u001b[0mi\u001b[0m \u001b[0;32min\u001b[0m \u001b[0mrange\u001b[0m\u001b[0;34m(\u001b[0m\u001b[0;36m11\u001b[0m\u001b[0;34m)\u001b[0m\u001b[0;34m:\u001b[0m\u001b[0;34m\u001b[0m\u001b[0;34m\u001b[0m\u001b[0m\n\u001b[0;32m----> 3\u001b[0;31m     \u001b[0mprint\u001b[0m\u001b[0;34m(\u001b[0m\u001b[0mnext\u001b[0m\u001b[0;34m(\u001b[0m\u001b[0mgen\u001b[0m\u001b[0;34m)\u001b[0m\u001b[0;34m)\u001b[0m\u001b[0;34m\u001b[0m\u001b[0;34m\u001b[0m\u001b[0m\n\u001b[0m",
      "\u001b[0;31mStopIteration\u001b[0m: "
     ]
    }
   ],
   "source": [
    "gen = (n for n in range(10))\n",
    "for i in range(11):\n",
    "    print(next(gen))"
   ]
  },
  {
   "cell_type": "markdown",
   "metadata": {},
   "source": [
    "Chúng ta có thể xem tất cả các giá trị của một generator bằng cách sử dụng `list()` nhưng điều này làm mất đi mục đích sử dụng generator ngay từ đầu:"
   ]
  },
  {
   "cell_type": "code",
   "execution_count": 68,
   "metadata": {},
   "outputs": [
    {
     "data": {
      "text/plain": [
       "[0, 1, 2, 3, 4, 5, 6, 7, 8, 9]"
      ]
     },
     "execution_count": 68,
     "metadata": {},
     "output_type": "execute_result"
    }
   ],
   "source": [
    "gen = (n for n in range(10))\n",
    "list(gen)"
   ]
  },
  {
   "cell_type": "markdown",
   "metadata": {},
   "source": [
    "Cuối cùng, chúng ta cũng có thể lặp qua các đối tượng generator:"
   ]
  },
  {
   "cell_type": "code",
   "execution_count": 69,
   "metadata": {},
   "outputs": [
    {
     "name": "stdout",
     "output_type": "stream",
     "text": [
      "0\n",
      "1\n",
      "2\n",
      "3\n",
      "4\n",
      "5\n",
      "6\n",
      "7\n",
      "8\n",
      "9\n"
     ]
    }
   ],
   "source": [
    "gen = (n for n in range(10))\n",
    "for i in gen:\n",
    "    print(i)"
   ]
  },
  {
   "cell_type": "markdown",
   "metadata": {},
   "source": [
    "Ở trên, chúng ta đã thấy cách tạo một đối tượng generator bằng cú pháp rút gọn nhưng với dấu ngoặc đơn. Chúng ta cũng có thể tạo một generator bằng cách sử dụng hàm và từ khóa `yield` (thay vì từ khóa `return`):"
   ]
  },
  {
   "cell_type": "code",
   "execution_count": 70,
   "metadata": {},
   "outputs": [],
   "source": [
    "def gen():\n",
    "    for n in range(10):\n",
    "        yield (n, n ** 2)"
   ]
  },
  {
   "cell_type": "code",
   "execution_count": 71,
   "metadata": {},
   "outputs": [
    {
     "name": "stdout",
     "output_type": "stream",
     "text": [
      "(0, 0)\n",
      "(1, 1)\n",
      "(2, 4)\n"
     ]
    }
   ],
   "source": [
    "g = gen()\n",
    "print(next(g))\n",
    "print(next(g))\n",
    "print(next(g))"
   ]
  },
  {
   "cell_type": "markdown",
   "metadata": {},
   "source": [
    "Dưới đây là một số động lực thực tế về trường hợp một generator có thể hữu ích. Giả sử chúng ta muốn tạo một danh sách các từ điển chứa thông tin về nhà ở Canada."
   ]
  },
  {
   "cell_type": "code",
   "execution_count": 72,
   "metadata": {},
   "outputs": [],
   "source": [
    "import random  # we'll learn about imports in a later chapter\n",
    "import time\n",
    "import memory_profiler\n",
    "city = ['Vancouver', 'Toronto', 'Ottawa', 'Montreal']"
   ]
  },
  {
   "cell_type": "code",
   "execution_count": 73,
   "metadata": {},
   "outputs": [],
   "source": [
    "def house_list(n):\n",
    "    houses = []\n",
    "    for i in range(n):\n",
    "        house = {\n",
    "            'id': i,\n",
    "            'city': random.choice(city),\n",
    "            'bedrooms': random.randint(1, 5),\n",
    "            'bathrooms': random.randint(1, 3),\n",
    "            'price ($1000s)': random.randint(300, 1000)\n",
    "        }\n",
    "        houses.append(house)\n",
    "    return houses"
   ]
  },
  {
   "cell_type": "code",
   "execution_count": 74,
   "metadata": {},
   "outputs": [
    {
     "data": {
      "text/plain": [
       "[{'id': 0,\n",
       "  'city': 'Ottawa',\n",
       "  'bedrooms': 5,\n",
       "  'bathrooms': 2,\n",
       "  'price ($1000s)': 420},\n",
       " {'id': 1,\n",
       "  'city': 'Montreal',\n",
       "  'bedrooms': 5,\n",
       "  'bathrooms': 1,\n",
       "  'price ($1000s)': 652}]"
      ]
     },
     "execution_count": 74,
     "metadata": {},
     "output_type": "execute_result"
    }
   ],
   "source": [
    "house_list(2)"
   ]
  },
  {
   "cell_type": "markdown",
   "metadata": {},
   "source": [
    "Điều gì xảy ra nếu chúng ta muốn tạo một danh sách 1.000.000 ngôi nhà? Sẽ mất bao nhiêu thời gian/bộ nhớ?"
   ]
  },
  {
   "cell_type": "code",
   "execution_count": 75,
   "metadata": {},
   "outputs": [
    {
     "name": "stdout",
     "output_type": "stream",
     "text": [
      "Bộ nhớ sử dụng trước: 86 mb\n",
      "Bộ nhớ sử dụng sau: 251 mb\n",
      "Thời gian thực hiện: 2.24s\n"
     ]
    }
   ],
   "source": [
    "start = time.time()\n",
    "mem = memory_profiler.memory_usage()\n",
    "print(f\"Bộ nhớ sử dụng trước: {mem[0]:.0f} mb\")\n",
    "people = house_list(500000)\n",
    "print(f\"Bộ nhớ sử dụng sau: {memory_profiler.memory_usage()[0]:.0f} mb\")\n",
    "print(f\"Thời gian thực hiện: {time.time() - start:.2f}s\")"
   ]
  },
  {
   "cell_type": "code",
   "execution_count": 76,
   "metadata": {},
   "outputs": [],
   "source": [
    "def house_generator(n):\n",
    "    for i in range(n):\n",
    "        house = {\n",
    "            'id': i,\n",
    "            'city': random.choice(city),\n",
    "            'bedrooms': random.randint(1, 5),\n",
    "            'bathrooms': random.randint(1, 3),\n",
    "            'price ($1000s)': random.randint(300, 1000)\n",
    "        }\n",
    "        yield house"
   ]
  },
  {
   "cell_type": "code",
   "execution_count": 77,
   "metadata": {},
   "outputs": [
    {
     "name": "stdout",
     "output_type": "stream",
     "text": [
      "Bộ nhớ sử dụng trước: 86 mb\n",
      "Bộ nhớ sử dụng sau: 89 mb\n",
      "Thời gian thực hiện: 0.17s\n"
     ]
    }
   ],
   "source": [
    "start = time.time()\n",
    "print(f\"Bộ nhớ sử dụng trước: {mem[0]:.0f} mb\")\n",
    "people = house_generator(500000)\n",
    "print(f\"Bộ nhớ sử dụng sau: {memory_profiler.memory_usage()[0]:.0f} mb\")\n",
    "print(f\"Thời gian thực hiện: {time.time() - start:.2f}s\")"
   ]
  },
  {
   "cell_type": "markdown",
   "metadata": {},
   "source": [
    "Tuy nhiên, nếu chúng ta sử dụng `list()` để trích xuất tất cả các giá trị của generator, chúng ta sẽ mất đi lợi ích về bộ nhớ:"
   ]
  },
  {
   "cell_type": "code",
   "execution_count": 17,
   "metadata": {},
   "outputs": [
    {
     "name": "stdout",
     "output_type": "stream",
     "text": [
      "Bộ nhớ sử dụng trước: 36 mb\n",
      "Bộ nhớ sử dụng sau: 202 mb\n"
     ]
    }
   ],
   "source": [
    "print(f\"Bộ nhớ sử dụng trước: {mem[0]:.0f} mb\")\n",
    "people = list(house_generator(500000))\n",
    "print(f\"Bộ nhớ sử dụng sau: {memory_profiler.memory_usage()[0]:.0f} mb\")"
   ]
  },
  {
   "cell_type": "markdown",
   "metadata": {},
   "source": [
    "## 10. Chuỗi tài liệu (Docstrings)\n",
    "<hr>"
   ]
  },
  {
   "cell_type": "markdown",
   "metadata": {},
   "source": [
    "Một vấn đề chúng ta chưa bao giờ thực sự giải quyết khi nói về việc viết hàm tốt là: \"4. Rất khó hiểu nó làm gì chỉ bằng cách nhìn vào nó\". Điều này đưa ra ý tưởng về tài liệu hàm, được gọi là \"docstrings\". [Docstring](https://www.python.org/dev/peps/pep-0257/) nằm ngay sau dòng `def` và được bao bọc trong **ba dấu ngoặc kép** `\"\"\"`."
   ]
  },
  {
   "cell_type": "code",
   "execution_count": 78,
   "metadata": {},
   "outputs": [],
   "source": [
    "def make_palindrome(string):\n",
    "    \"\"\"Turns the string into a palindrome by concatenating itself with a reversed version of itself.\"\"\"\n",
    "    \n",
    "    return string + string[::-1]"
   ]
  },
  {
   "cell_type": "markdown",
   "metadata": {},
   "source": [
    "Trong Python, chúng ta có thể sử dụng hàm `help()` để xem tài liệu của một hàm khác. Trong IPython/Jupyter, chúng ta có thể sử dụng `?` để xem chuỗi tài liệu của bất kỳ hàm nào trong môi trường của chúng ta."
   ]
  },
  {
   "cell_type": "code",
   "execution_count": 79,
   "metadata": {},
   "outputs": [
    {
     "data": {
      "text/plain": [
       "\u001b[0;31mSignature:\u001b[0m \u001b[0mmake_palindrome\u001b[0m\u001b[0;34m(\u001b[0m\u001b[0mstring\u001b[0m\u001b[0;34m)\u001b[0m\u001b[0;34m\u001b[0m\u001b[0;34m\u001b[0m\u001b[0m\n",
       "\u001b[0;31mDocstring:\u001b[0m Turns the string into a palindrome by concatenating itself with a reversed version of itself.\n",
       "\u001b[0;31mFile:\u001b[0m      ~/GitHub/online-courses/python-programming-for-data-science/chapters/<ipython-input-78-3399edf39112>\n",
       "\u001b[0;31mType:\u001b[0m      function\n"
      ]
     },
     "metadata": {},
     "output_type": "display_data"
    }
   ],
   "source": [
    "make_palindrome?"
   ]
  },
  {
   "cell_type": "markdown",
   "metadata": {},
   "source": [
    "Nhưng, thậm chí còn dễ dàng hơn thế, nếu con trỏ của bạn nằm trong dấu ngoặc đơn của hàm, bạn có thể sử dụng phím tắt `shift + tab` để mở chuỗi tài liệu theo ý muốn."
   ]
  },
  {
   "cell_type": "code",
   "execution_count": 80,
   "metadata": {},
   "outputs": [],
   "source": [
    "# make_palindrome('uncomment this line and try pressing shift+tab here.')"
   ]
  },
  {
   "cell_type": "markdown",
   "metadata": {},
   "source": [
    "### Cấu trúc Docstring\n",
    "\n",
    "Quy ước chung về docstring trong Python được mô tả trong [PEP 257 - Docstring Conventions](https://www.python.org/dev/peps/pep-0257/). Có nhiều quy ước kiểu docstring khác nhau được sử dụng trong Python. Kiểu chính xác bạn sử dụng có thể quan trọng để giúp bạn hiển thị tài liệu của mình, hoặc để giúp IDE của bạn phân tích tài liệu của bạn. Các kiểu phổ biến bao gồm:\n",
    "\n",
    "1. **Một dòng**: Nếu ngắn, thì chỉ cần một dòng mô tả hàm là đủ (như trên).\n",
    "2. **Kiểu reST**: xem [tại đây](https://www.python.org/dev/peps/pep-0287/).\n",
    "3. **Kiểu NumPy**: xem [tại đây](https://sphinxcontrib-napoleon.readthedocs.io/en/latest/example_numpy.html). (KHUYÊN DÙNG! và được MDS ưa thích)\n",
    "4. **Kiểu Google**: xem [tại đây](https://sphinxcontrib-napoleon.readthedocs.io/en/latest/example_google.html#example-google).\n"
   ]
  },
  {
   "cell_type": "markdown",
   "metadata": {},
   "source": [
    "Kiểu NumPy:"
   ]
  },
  {
   "cell_type": "code",
   "execution_count": 102,
   "metadata": {},
   "outputs": [],
   "source": [
    "def function_name(param1, param2, param3):\n",
    "    \"\"\"Dòng đầu tiên là mô tả ngắn gọn về hàm.\n",
    "    \n",
    "    Một đoạn văn mô tả chi tiết hơn một chút về những gì\n",
    "    hàm thực hiện và các thuật toán mà nó sử dụng cũng như các\n",
    "    trường hợp sử dụng phổ biến.\n",
    "    \n",
    "    Tham số\n",
    "    ----------\n",
    "    param1 : kiểu dữ liệu\n",
    "        Mô tả về param1.\n",
    "    param2 : kiểu dữ liệu\n",
    "        Mô tả về param2.\n",
    "    param3 : kiểu dữ liệu\n",
    "        Mô tả dài hơn vì có thể điều này yêu cầu\n",
    "        giải thích thêm và chúng ta có thể sử dụng nhiều dòng.\n",
    "    \n",
    "    Trả về\n",
    "    -------\n",
    "    kiểu dữ liệu\n",
    "        Mô tả về đầu ra, kiểu dữ liệu và hành vi.\n",
    "        Mô tả các trường hợp đặc biệt và bất cứ điều gì người dùng cần\n",
    "        biết để sử dụng hàm.\n",
    "    \n",
    "    Ví dụ\n",
    "    --------\n",
    "    >>> function_name(3,8,-5)\n",
    "    2.0\n",
    "    \"\"\""
   ]
  },
  {
   "cell_type": "code",
   "execution_count": 1,
   "metadata": {},
   "outputs": [],
   "source": [
    "def make_palindrome(string):\n",
    "    \"\"\"Biến chuỗi thành một palindrome bằng cách nối \n",
    "    chính nó với một phiên bản đảo ngược của chính nó.\n",
    "    \n",
    "    Tham số\n",
    "    ----------\n",
    "    string : str\n",
    "        Chuỗi cần biến thành palindrome.\n",
    "        \n",
    "    Trả về\n",
    "    -------\n",
    "    str\n",
    "        chuỗi được nối với một phiên bản đảo ngược của chuỗi\n",
    "        \n",
    "    Ví dụ\n",
    "    --------\n",
    "    >>> make_palindrome('tom')\n",
    "    'tommot'\n",
    "    \"\"\"\n",
    "    return string + string[::-1]"
   ]
  },
  {
   "cell_type": "code",
   "execution_count": 2,
   "metadata": {},
   "outputs": [
    {
     "data": {
      "text/plain": [
       "\u001b[0;31mSignature:\u001b[0m \u001b[0mmake_palindrome\u001b[0m\u001b[0;34m(\u001b[0m\u001b[0mstring\u001b[0m\u001b[0;34m)\u001b[0m\u001b[0;34m\u001b[0m\u001b[0;34m\u001b[0m\u001b[0m\n",
       "\u001b[0;31mDocstring:\u001b[0m\n",
       "Biến chuỗi thành một palindrome bằng cách nối \n",
       "chính nó với một phiên bản đảo ngược của chính nó.\n",
       "\n",
       "Tham số\n",
       "----------\n",
       "string : str\n",
       "    Chuỗi cần biến thành palindrome.\n",
       "    \n",
       "Trả về\n",
       "-------\n",
       "str\n",
       "    chuỗi được nối với một phiên bản đảo ngược của chuỗi\n",
       "    \n",
       "Ví dụ\n",
       "--------\n",
       ">>> make_palindrome('tom')\n",
       "'tommot'\n",
       "\u001b[0;31mFile:\u001b[0m      ~/GitHub/online-courses/python-programming-for-data-science/chapters/<ipython-input-1-a382cd1ad1e6>\n",
       "\u001b[0;31mType:\u001b[0m      function\n"
      ]
     },
     "metadata": {},
     "output_type": "display_data"
    }
   ],
   "source": [
    "make_palindrome?"
   ]
  },
  {
   "cell_type": "markdown",
   "metadata": {},
   "source": [
    "### Docstrings với Đối số Tùy chọn\n",
    "\n",
    "Khi chỉ định các đối số của hàm, chúng ta chỉ định các giá trị mặc định cho các đối số tùy chọn:"
   ]
  },
  {
   "cell_type": "code",
   "execution_count": 81,
   "metadata": {},
   "outputs": [],
   "source": [
    "# scipy style\n",
    "def repeat_string(s, n=2):\n",
    "    \"\"\"\n",
    "    Lặp lại chuỗi s, n lần.\n",
    "    \n",
    "    Tham số\n",
    "    ----------\n",
    "    s : str \n",
    "        chuỗi\n",
    "    n : int, tùy chọn\n",
    "        số lần, mặc định = 2\n",
    "        \n",
    "    Trả về\n",
    "    -------\n",
    "    str\n",
    "        chuỗi đã lặp lại\n",
    "        \n",
    "    Ví dụ\n",
    "    --------\n",
    "    >>> repeat_string(\"Blah\", 3)\n",
    "    \"BlahBlahBlah\"\n",
    "    \"\"\"\n",
    "    return s * n"
   ]
  },
  {
   "cell_type": "markdown",
   "metadata": {},
   "source": [
    "### Gợi ý kiểu (Type Hints)"
   ]
  },
  {
   "cell_type": "markdown",
   "metadata": {},
   "source": [
    "[Gợi ý kiểu (Type hinting)](https://docs.python.org/3/library/typing.html) chính xác là những gì nó nghe có vẻ, nó gợi ý về kiểu dữ liệu của các đối số hàm. Bạn có thể chỉ ra kiểu của một đối số trong một hàm bằng cú pháp `argument : dtype`, và kiểu của giá trị trả về bằng `def func() -> dtype`. Hãy xem một ví dụ:"
   ]
  },
  {
   "cell_type": "code",
   "execution_count": 83,
   "metadata": {},
   "outputs": [],
   "source": [
    "# NumPy style\n",
    "def repeat_string(s: str, n: int = 2) -> str:  # <---- lưu ý gợi ý kiểu ở đây\n",
    "    \"\"\"\n",
    "    Lặp lại chuỗi s, n lần.\n",
    "    \n",
    "    Tham số\n",
    "    ----------\n",
    "    s : str \n",
    "        chuỗi\n",
    "    n : int, tùy chọn (mặc định = 2)\n",
    "        số lần\n",
    "        \n",
    "    Trả về\n",
    "    -------\n",
    "    str\n",
    "        chuỗi đã lặp lại\n",
    "        \n",
    "    Ví dụ\n",
    "    --------\n",
    "    >>> repeat_string(\"Blah\", 3)\n",
    "    \"BlahBlahBlah\"\n",
    "    \"\"\"\n",
    "    return s * n"
   ]
  },
  {
   "cell_type": "code",
   "execution_count": 84,
   "metadata": {},
   "outputs": [
    {
     "data": {
      "text/plain": [
       "\u001b[0;31mSignature:\u001b[0m \u001b[0mrepeat_string\u001b[0m\u001b[0;34m(\u001b[0m\u001b[0ms\u001b[0m\u001b[0;34m:\u001b[0m \u001b[0mstr\u001b[0m\u001b[0;34m,\u001b[0m \u001b[0mn\u001b[0m\u001b[0;34m:\u001b[0m \u001b[0mint\u001b[0m \u001b[0;34m=\u001b[0m \u001b[0;36m2\u001b[0m\u001b[0;34m)\u001b[0m \u001b[0;34m->\u001b[0m \u001b[0mstr\u001b[0m\u001b[0;34m\u001b[0m\u001b[0;34m\u001b[0m\u001b[0m\n",
       "\u001b[0;31mDocstring:\u001b[0m\n",
       "Lặp lại chuỗi s, n lần.\n",
       "\n",
       "Tham số\n",
       "----------\n",
       "s : str \n",
       "    chuỗi\n",
       "n : int, tùy chọn (mặc định = 2)\n",
       "    số lần\n",
       "    \n",
       "Trả về\n",
       "-------\n",
       "str\n",
       "    chuỗi đã lặp lại\n",
       "    \n",
       "Ví dụ\n",
       "--------\n",
       ">>> repeat_string(\"Blah\", 3)\n",
       "\"BlahBlahBlah\"\n",
       "\u001b[0;31mFile:\u001b[0m      ~/GitHub/online-courses/python-programming-for-data-science/chapters/<ipython-input-83-964bad9c977b>\n",
       "\u001b[0;31mType:\u001b[0m      function\n"
      ]
     },
     "metadata": {},
     "output_type": "display_data"
    }
   ],
   "source": [
    "repeat_string?"
   ]
  },
  {
   "cell_type": "markdown",
   "metadata": {},
   "source": [
    "Gợi ý kiểu chỉ giúp người dùng và IDE của bạn xác định kiểu dữ liệu và xác định lỗi. Nó chỉ là một cấp độ tài liệu khác. Chúng không buộc người dùng phải sử dụng kiểu dữ liệu đó, ví dụ, tôi vẫn có thể truyền một `dict` cho `repeat_string` nếu tôi muốn:"
   ]
  },
  {
   "cell_type": "code",
   "execution_count": 85,
   "metadata": {
    "tags": [
     "raises-exception"
    ]
   },
   "outputs": [
    {
     "ename": "TypeError",
     "evalue": "unsupported operand type(s) for *: 'dict' and 'int'",
     "output_type": "error",
     "traceback": [
      "\u001b[0;31m---------------------------------------------------------------------------\u001b[0m",
      "\u001b[0;31mTypeError\u001b[0m                                 Traceback (most recent call last)",
      "\u001b[0;32m<ipython-input-85-48f8613bcebb>\u001b[0m in \u001b[0;36m<module>\u001b[0;34m\u001b[0m\n\u001b[0;32m----> 1\u001b[0;31m \u001b[0mrepeat_string\u001b[0m\u001b[0;34m(\u001b[0m\u001b[0;34m{\u001b[0m\u001b[0;34m'key_1'\u001b[0m\u001b[0;34m:\u001b[0m \u001b[0;36m1\u001b[0m\u001b[0;34m,\u001b[0m \u001b[0;34m'key_2'\u001b[0m\u001b[0;34m:\u001b[0m \u001b[0;36m2\u001b[0m\u001b[0;34m}\u001b[0m\u001b[0;34m)\u001b[0m\u001b[0;34m\u001b[0m\u001b[0;34m\u001b[0m\u001b[0m\n\u001b[0m",
      "\u001b[0;32m<ipython-input-83-964bad9c977b>\u001b[0m in \u001b[0;36mrepeat_string\u001b[0;34m(s, n)\u001b[0m\n\u001b[1;32m     21\u001b[0m     \u001b[0;34m\"BlahBlahBlah\"\u001b[0m\u001b[0;34m\u001b[0m\u001b[0;34m\u001b[0m\u001b[0m\n\u001b[1;32m     22\u001b[0m     \"\"\"\n\u001b[0;32m---> 23\u001b[0;31m     \u001b[0;32mreturn\u001b[0m \u001b[0ms\u001b[0m \u001b[0;34m*\u001b[0m \u001b[0mn\u001b[0m\u001b[0;34m\u001b[0m\u001b[0;34m\u001b[0m\u001b[0m\n\u001b[0m",
      "\u001b[0;31mTypeError\u001b[0m: unsupported operand type(s) for *: 'dict' and 'int'"
     ]
    }
   ],
   "source": [
    "repeat_string({'key_1': 1, 'key_2': 2})"
   ]
  },
  {
   "cell_type": "markdown",
   "metadata": {},
   "source": [
    "Hầu hết các IDE đều đủ thông minh để thậm chí đọc gợi ý kiểu của bạn và cảnh báo bạn nếu bạn đang sử dụng một kiểu dữ liệu khác trong hàm, ví dụ, ảnh chụp màn hình VScode này:"
   ]
  },
  {
   "cell_type": "markdown",
   "metadata": {},
   "source": [
    "![](img/chapter2/type_hint_1.png)\n",
    "![](img/chapter2/type_hint_2.png)"
   ]
  }
 ],
 "metadata": {
  "kernelspec": {
   "display_name": "Python 3 (ipykernel)",
   "language": "python",
   "name": "python3"
  },
  "language_info": {
   "codemirror_mode": {
    "name": "ipython",
    "version": 3
   },
   "file_extension": ".py",
   "mimetype": "text/x-python",
   "name": "python",
   "nbconvert_exporter": "python",
   "pygments_lexer": "ipython3",
   "version": "3.13.2"
  },
  "toc": {
   "base_numbering": 1,
   "nav_menu": {},
   "number_sections": false,
   "sideBar": true,
   "skip_h1_title": true,
   "title_cell": "Lecture Outline",
   "title_sidebar": "Contents",
   "toc_cell": true,
   "toc_position": {
    "height": "calc(100% - 180px)",
    "left": "10px",
    "top": "150px",
    "width": "333.188px"
   },
   "toc_section_display": true,
   "toc_window_display": true
  }
 },
 "nbformat": 4,
 "nbformat_minor": 4
}