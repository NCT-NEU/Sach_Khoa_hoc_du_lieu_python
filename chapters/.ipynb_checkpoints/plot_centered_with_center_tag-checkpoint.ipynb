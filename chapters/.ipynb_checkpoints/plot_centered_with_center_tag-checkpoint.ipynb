{
 "cells": [
  {
   "cell_type": "markdown",
   "id": "110d0def",
   "metadata": {},
   "source": [
    "<center>"
   ]
  },
  {
   "cell_type": "code",
   "execution_count": null,
   "id": "b93b0488",
   "metadata": {},
   "outputs": [],
   "source": [
    "import matplotlib.pyplot as plt\n",
    "\n",
    "plt.figure(figsize=(6, 4))\n",
    "plt.plot([1, 2, 3], [4, 9, 2], marker='o')\n",
    "plt.title(\"Biểu đồ minh họa\")\n",
    "plt.xlabel(\"X\")\n",
    "plt.ylabel(\"Y\")\n",
    "plt.grid(True)\n",
    "plt.show()"
   ]
  },
  {
   "cell_type": "markdown",
   "id": "13f29735",
   "metadata": {},
   "source": [
    "</center>"
   ]
  }
 ],
 "metadata": {
  "kernelspec": {
   "display_name": "Python 3",
   "language": "python",
   "name": "python3"
  }
 },
 "nbformat": 4,
 "nbformat_minor": 5
}
