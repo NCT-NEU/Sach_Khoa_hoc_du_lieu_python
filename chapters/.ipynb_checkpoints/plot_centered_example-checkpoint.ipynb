{
 "cells": [
  {
   "cell_type": "markdown",
   "id": "24b0f333",
   "metadata": {},
   "source": [
    "<div align='center'>"
   ]
  },
  {
   "cell_type": "code",
   "execution_count": null,
   "id": "341b8ef6",
   "metadata": {},
   "outputs": [],
   "source": [
    "import matplotlib.pyplot as plt\n",
    "\n",
    "plt.figure(figsize=(6,4))\n",
    "plt.plot([1, 2, 3], [4, 9, 2], marker='o')\n",
    "plt.title(\"Biểu đồ minh họa\")\n",
    "plt.xlabel(\"X\")\n",
    "plt.ylabel(\"Y\")\n",
    "plt.grid(True)\n",
    "plt.show()"
   ]
  },
  {
   "cell_type": "markdown",
   "id": "af7ac309",
   "metadata": {},
   "source": [
    "</div>"
   ]
  }
 ],
 "metadata": {
  "kernelspec": {
   "display_name": "Python 3",
   "language": "python",
   "name": "python3"
  }
 },
 "nbformat": 4,
 "nbformat_minor": 5
}
