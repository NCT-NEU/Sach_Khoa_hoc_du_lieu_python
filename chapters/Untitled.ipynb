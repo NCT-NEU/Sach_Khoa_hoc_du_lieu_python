{
 "cells": [
  {
   "cell_type": "markdown",
   "id": "d8c11ef3-8a99-4397-a63d-2c2eb8a2e117",
   "metadata": {},
   "source": [
    "![](../docs/banner.png)"
   ]
  },
  {
   "cell_type": "markdown",
   "id": "2b44b5da-eaf2-4baa-8421-65eece3e2011",
   "metadata": {},
   "source": [
    "# Chương 3: Khung phương pháp luận trong xây dựng mô hình\n",
    "<hr>"
   ]
  },
  {
   "cell_type": "markdown",
   "id": "ff41aa74-f472-4600-bd02-b4c3a1fb1d45",
   "metadata": {},
   "source": [
    "## Giới thiệu chung về xây dựng mô hình\n",
    "<hr>"
   ]
  },
  {
   "cell_type": "markdown",
   "id": "1fd62c09-bcc7-4280-a87b-9feb71216166",
   "metadata": {},
   "source": [
    "Xây dựng mô hình là bước then chốt trong quy trình phân tích dữ liệu, nhằm thiết lập và lượng hóa mối quan hệ giữa các biến độc lập trong tập dữ liệu với biến mục tiêu. Đây được xem là kết quả đầu ra cốt lõi của toàn bộ quá trình phân tích.\n",
    "\n",
    "Quá trình xây dựng mô hình được triển khai dựa trên các nguyên lý toán học và thống kê, đòi hỏi người phân tích không chỉ hiểu rõ cấu trúc dữ liệu mà còn cần có nền tảng vững chắc về xác suất, suy luận thống kê và tư duy định lượng. Những hiểu biết này là cơ sở để lựa chọn mô hình phù hợp, ước lượng chính xác và đánh giá hiệu quả mô hình một cách khoa học."
   ]
  },
  {
   "cell_type": "markdown",
   "id": "f77196c2-85b1-4c37-ad38-661f83876e37",
   "metadata": {},
   "source": [
    "### Lịch sử hình thành của xây dựng mô hình\n",
    "<hr>"
   ]
  },
  {
   "cell_type": "markdown",
   "id": "96c3393c-42ed-46dd-9aa1-5d92bbfda7ee",
   "metadata": {},
   "source": [
    "Mặc dù thuật ngữ xây dựng mô hình trên dữ liệu, hay được gọi một cách kỹ thuật hơn là các **mô hình học máy**, còn khá mới mẻ, nhưng những khái niệm nền tảng cho lĩnh vực này đã được phát triển từ lâu.\n",
    "\n",
    "Vào đầu thế kỷ 19, phương pháp bình phương nhỏ nhất đã được phát triển và áp dụng để ước lượng các mô hình **hồi quy tuyến tính**.\n",
    "Mô hình này lần đầu tiên được áp dụng và cho kết quả thành công trong các vấn đề liên quan đến thiên văn học.\n",
    "\n",
    "Vào đầu thế kỷ 20, mô hình hồi quy tuyến tính được sử dụng để dự đoán các giá trị định lượng, chẳng hạn như mức lương của một cá nhân hoặc để dự đoán các giá trị định tính, chẳng hạn như bệnh nhân sống hay chết, hay thị trường chứng khoán tăng hay giảm.\n",
    "\n",
    "Vào những năm 1940, nhiều tác giả đã đưa ra một cách tiếp cận khác, đó là **hồi quy logistic**.\n",
    "Vào đầu những năm 1970, thuật ngữ mô hình **tuyến tính tổng quát** đã được phát triển để mô tả toàn bộ lớp phương pháp học thống kê bao gồm cả hồi quy tuyến tính và hồi quy logistic như các trường hợp đặc biệt.\n",
    "\n",
    "Vào cuối những năm 1970, nhiều kỹ thuật xây dựng mô hình trên dữ liệu đã xuất hiện.\n",
    "Tuy nhiên, các mô hình này chỉ xoay quanh các phương pháp tuyến tính vì việc tạo ra các mối quan hệ phi tuyến tính rất khó khăn về mặt tính toán.\n",
    "\n",
    "Đến những năm 1980, sự phát triển của máy tính điện tử đã hỗ trợ tích cực về mặt tính toán cho các phương pháp phi tuyến tính.\n",
    "Các mô hình phi tuyến được giới thiệu vào đầu những năm 1980 bao gồm mô hình **cây quyết định** và mô hình **cộng tính tổng quát**.\n",
    "Những năm cuối thập niên 1980 và đầu thập niên 1990, mô hình **mạng nơ-ron** được giới thiệu đến cộng đồng nghiên cứu nhưng chưa nhận được nhiều sự quan tâm vì dữ liệu chưa đủ phong phú và sự phổ biến của các mô hình học máy khác.\n",
    "\n",
    "```{figure} ../docs/intro3.png\n",
    ":width: 600px\n",
    ":align: center\n",
    "Các bước trong một quy trình ứng dụng Khoa học dữ liệu để giải quyết vấn đề\n",
    "```\n",
    "Giai đoạn cuối thế kỷ XX và đầu thế kỷ XXI là giai đoạn chiếm ưu thế hoàn toàn của các mô hình học máy **rừng ngẫu nhiên** và thuật toán **học tăng cường**.\n",
    "Thuật toán học tăng cường với các biến thể như **XGBoost** hay **LightGBM** chiến thắng trong hầu hết các cuộc thi về khoa học dữ liệu.\n",
    "\n",
    "Từ năm 2010, với sự bùng nổ của các thiết bị thông minh và kết nối internet, dữ liệu trở nên phong phú và đa dạng hơn cũng là thời điểm quay trở lại của mô hình mạng nơ-ron, hay còn được gọi với tên gọi khác là mô hình **mạng học sâu** (deep learning).\n",
    "Mô hình mạng học sâu vượt trội hoàn toàn các mô hình học máy thông thường khi làm việc với dữ liệu kiểu hình ảnh, video, ngôn ngữ tự nhiên bao gồm cả văn bản và giọng nói.\n",
    "\n",
    "Sự kiện đánh dấu sự phát triển vượt bậc của các mô hình mạng học sâu là sự ra đời của ChatGPT vào cuối năm 2022, một mô hình **ngôn ngữ lớn** cho phép người dùng tương tác, hỏi đáp và trò chuyện một cách hoàn toàn tự nhiên theo định hướng của người sử dụng như phong cách, mức độ chi tiết, hình thức ngôn ngữ.\n",
    "ChatGPT nhanh chóng đạt đến 100 triệu người dùng sau hơn hai tháng phát hành và giúp cho công ty phát hành OpenAI được định giá khoảng 30 tỷ USD.\n",
    "Cho đến thời điểm cuối năm 2024 khi nhóm tác giả bắt đầu viết cuốn sách này, ChatGPT đã được cập nhật đến phiên bản 4.0."
   ]
  }
 ],
 "metadata": {
  "kernelspec": {
   "display_name": "Python 3 (ipykernel)",
   "language": "python",
   "name": "python3"
  },
  "language_info": {
   "codemirror_mode": {
    "name": "ipython",
    "version": 3
   },
   "file_extension": ".py",
   "mimetype": "text/x-python",
   "name": "python",
   "nbconvert_exporter": "python",
   "pygments_lexer": "ipython3",
   "version": "3.13.2"
  }
 },
 "nbformat": 4,
 "nbformat_minor": 5
}
