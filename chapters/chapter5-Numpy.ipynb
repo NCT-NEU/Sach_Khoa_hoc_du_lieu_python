{
 "cells": [
  {
   "cell_type": "markdown",
   "id": "3686d61c-5b7d-46b6-84bc-7a77857a394f",
   "metadata": {},
   "source": [
    "![](../docs/banner.png)"
   ]
  },
  {
   "cell_type": "markdown",
   "id": "d4cdef8e-c9ee-4b0a-8c75-dfc198b0e9e0",
   "metadata": {},
   "source": [
    "# Kiến thức cơ bản về NumPy\n",
    "<hr>"
   ]
  },
  {
   "cell_type": "markdown",
   "id": "8947352f-249b-4a06-bd9e-96bd7dc72cfe",
   "metadata": {},
   "source": [
    "## Giới thiệu chung về Numpy\n",
    "<hr>"
   ]
  },
  {
   "cell_type": "markdown",
   "id": "38d19e18",
   "metadata": {},
   "source": [
    "`NumPy`, là viết tắt của Numerical Python, là một trong những thư viện nền tảng quan trọng nhất cho tính toán số học trong Python. Hầu hết các thư viện tính toán cung cấp các chức năng khoa học, như `SciPy` và `pandas`, đều sử dụng cấu trúc mảng từ `NumPy` làm nền tảng. Mặc dù `pandas` cung cấp các cấu trúc dữ liệu bậc cao phong phú và tiện lợi được xây dựng dựa trên `NumPy`, nhưng trong nhiều trường hợp chúng ta vẫn cần phải làm việc trực tiếp với các đối tượng `NumPy`.\n",
    "\n",
    "Dưới đây là một số tính năng mà NumPy cung cấp:\n",
    "\n",
    "*   `ndarray`, một đối tượng mảng N-chiều hiệu quả, cung cấp các phép toán **vector hóa** nhanh chóng và khả năng lan truyền linh hoạt.\n",
    "*   Các hàm chuẩn để thực hiện các phép toán trên toàn bộ mảng hoặc trên từng phần tử dữ liệu mà không cần viết vòng lặp.\n",
    "*   Các công cụ để đọc và ghi dữ liệu mảng và làm việc với các tệp được **ánh xạ bộ nhớ** (memory-mapped files).\n",
    "*   Các phép toán đại số tuyến tính, biến đổi Fourier và sinh số ngẫu nhiên.\n",
    "\n",
    "Ngoài các khả năng tính toán mạnh mẽ mà `NumPy` bổ sung cho Python, một trong những mục tiêu chính của thư viện này khi được tạo ra là để giải quyết vấn đề \"hai ngôn ngữ\" của Python. Điều này đề cập đến tình huống mà các nhà phát triển cần viết mã `C` hoặc `Fortran` hiệu suất cao để xử lý một lượng lớn dữ liệu, sau đó đưa các câu lệnh đó vào trong Python để dễ sử dụng. `NumPy` được thiết kế để làm cho việc tính toán trên dữ liệu lớn trở nên hiệu quả trong khi vẫn duy trì được tính dễ sử dụng của Python.\n",
    "\n",
    "Đối với hầu hết các ứng dụng phân tích dữ liệu, mối quan tâm chính đến `NumPy` sẽ tập trung vào các tính năng xử lý véc-tơ, ma trận, mảng nhiều chiều của thư viện này:\n",
    "\n",
    "*   Chuẩn bị dữ liệu: làm sạch, thao tác, chuẩn hóa, định hình lại, sắp xếp và lọc.\n",
    "*   Phân tích và mô hình hóa dữ liệu: áp dụng các phép toán và hàm thống kê và tổng hợp cho toàn bộ tập dữ liệu hoặc các tập con cụ thể. Các thuật toán học máy thường yêu cầu dữ liệu đầu vào phải ở dạng mảng `NumPy`.\n",
    "*   Mô phỏng: tạo dữ liệu ngẫu nhiên theo các phân phối đã biết và chạy các mô hình mô phỏng trên dữ liệu đó.\n",
    "*   Các loại thuật toán số khác: xử lý tín hiệu và lọc.\n",
    "\n",
    "Mặc dù `NumPy` cung cấp nền tảng tính toán cho nhiều loại ứng dụng khoa học dữ liệu, nhưng bạn đọc sẽ thường sử dụng thư viện `pandas` làm cơ sở cho hầu hết các công việc phân tích dữ liệu, đặc biệt là đối với dữ liệu dạng bảng. `pandas` cũng cung cấp một số chức năng dành riêng cho miền cụ thể hơn, chẳng hạn như xử lý chuỗi thời gian, mà `NumPy` không có. Như vậy, `NumPy` là thành phần quan trọng nhất của hệ sinh thái khoa học dữ liệu Python, nhưng bạn sẽ không nhất thiết phải sử dụng trực tiếp các hàm của `NumPy` mọi lúc.\n",
    "\n",
    "Trong chương này và xuyên suốt cuốn sách, tôi sẽ sử dụng quy ước chuẩn là nhập `NumPy` dưới tên `np`:"
   ]
  },
  {
   "cell_type": "code",
   "execution_count": 2,
   "id": "8f2f5d1d",
   "metadata": {},
   "outputs": [],
   "source": [
    "import numpy as np"
   ]
  },
  {
   "cell_type": "markdown",
   "id": "ba025bd2",
   "metadata": {},
   "source": [
    "Một số bạn đọc có thể đề xuất không thực hiện `import numpy as np` và thay vào đó thực hiện `from numpy import *`. Thực tế thì không gian tên `numpy` rất lớn và chứa nhiều hàm có tên trùng với các hàm Python tích hợp sẵn (như `min` và `max`). Kết quả có thể dẫn đến các vấn đề khó theo dõi nếu bạn không cẩn thận.\n",
    "\n",
    "Khi bạn thấy `np.some_function`, điều này có nghĩa là một hàm hoặc đối tượng trong không gian tên cấp cao nhất của `NumPy`. Chúng ta sẽ thảo luận chi tiết về một số thành phần chính của `NumPy`, nhưng bạn đọc có thể khám phá không gian tên bằng cách sử dụng IPython hoặc Jupyter với tính năng tự động hoàn thành bằng phím Tab. Ví dụ, nếu bạn nhập `np.<TAB>`, bạn sẽ thấy một danh sách các mô-đun con (như `np.random`, `np.fft`, `np.linalg`, v.v.) và cả các hàm thường được sử dụng."
   ]
  },
  {
   "cell_type": "markdown",
   "id": "4003319c",
   "metadata": {},
   "source": [
    "## Đối tượng ndarray của NumPy\n",
    "\n",
    "Một trong những đặc điểm quan trọng của `NumPy` là đối tượng mảng N-chiều, hay `ndarray`. Đây là một đối tượng đa chiều, nhanh chóng và linh hoạt cho các tập dữ liệu lớn trong Python. Các mảng cho phép bạn thực hiện các phép toán toán học trên toàn bộ khối dữ liệu bằng cách sử dụng cú pháp tương tự như các phép toán giữa các phần tử vô hướng. Có rất nhiều điều cần học về các mảng `NumPy`, nhưng chúng ta sẽ bắt đầu với những dạng cơ bản nhất.\n",
    "\n",
    "Để thấy cách các mảng `NumPy` tạo điều kiện cho các phép toán theo nhóm với cú pháp tối thiểu, trước tiên hãy xem xét một mảng `NumPy` nhỏ. Giả sử chúng ta có một số dữ liệu trong một danh sách Python:"
   ]
  },
  {
   "cell_type": "code",
   "execution_count": 3,
   "id": "a13c8a7b",
   "metadata": {},
   "outputs": [],
   "source": [
    "my_arr = np.arange(1000000) # Đối tượng mảng của Numpy\n",
    "my_list = list(range(1000000)) # Đối tượng mảng của Python"
   ]
  },
  {
   "cell_type": "markdown",
   "id": "7331bc34",
   "metadata": {},
   "source": [
    "Bây giờ, giả sử chúng ta muốn nhân mỗi phần tử với 2. Nếu làm điều này với Python thông thường, chúng ta phải lặp qua danh sách đó:"
   ]
  },
  {
   "cell_type": "code",
   "execution_count": 5,
   "id": "1cd32efd",
   "metadata": {},
   "outputs": [],
   "source": [
    "for _ in range(10): my_list2 = [x * 2 for x in my_list]"
   ]
  },
  {
   "cell_type": "markdown",
   "id": "26b4bcb6",
   "metadata": {},
   "source": [
    "Nếu chúng ta thực hiện thao tác tương tự trên một mảng `NumPy`, đoạn câu lệnh sẽ như sau"
   ]
  },
  {
   "cell_type": "code",
   "execution_count": 6,
   "id": "415d42d6",
   "metadata": {},
   "outputs": [],
   "source": [
    "for _ in range(10): my_arr2 = my_arr * 2"
   ]
  },
  {
   "cell_type": "markdown",
   "id": "dd1f0968",
   "metadata": {},
   "source": [
    "Vấn đề cốt lõi ở đây là thời gian thực hiện phép tính. Chúng ta có thể đo thời gian giữa việc không sử dụng và có sử dụng `NumPy` như sau:"
   ]
  },
  {
   "cell_type": "code",
   "execution_count": 7,
   "id": "7ca7fa50",
   "metadata": {},
   "outputs": [
    {
     "name": "stdout",
     "output_type": "stream",
     "text": [
      "List comprehension: 0.5590 s\n",
      "NumPy array: 0.0236 s\n"
     ]
    }
   ],
   "source": [
    "import time\n",
    "t0 = time.time()\n",
    "for _ in range(10): my_list2 = [x * 2 for x in my_list]\n",
    "t1 = time.time()\n",
    "print(f\"List comprehension: {t1 - t0:.4f} s\")\n",
    "\n",
    "t0 = time.time()\n",
    "for _ in range(10): my_arr2 = my_arr * 2\n",
    "t1 = time.time()\n",
    "print(f\"NumPy array: {t1 - t0:.4f} s\")"
   ]
  },
  {
   "cell_type": "markdown",
   "id": "93217c57",
   "metadata": {},
   "source": [
    "Các phép toán trên véc-tơ của NumPy thường nhanh hơn so với các vòng lặp Python thuần túy trong bất kỳ loại tính toán nào. Trong các phần sau, chúng ta sẽ được tìm hiểu về cơ chế **broadcasting**, hay lan truyền, một tập hợp các quy tắc mạnh mẽ để áp dụng các phép toán giữa các mảng có kích thước khác nhau.\n",
    "\n",
    "Một `ndarray` là một đối tượng chứa dữ liệu đồng nhất; nghĩa là, tất cả các phần tử của nó phải có cùng một kiểu. Mỗi đối tượng có một phương thức `shape` trả lại giá trị là một `tuple` biểu thị kích thước của mỗi chiều, và phương thức `dtype`, một đối tượng mô tả **kiểu dữ liệu** của mảng:"
   ]
  },
  {
   "cell_type": "code",
   "execution_count": 8,
   "id": "28e75fa8",
   "metadata": {},
   "outputs": [
    {
     "data": {
      "text/plain": [
       "array([[ 1.5, -0.1,  3. ],\n",
       "       [ 0. , -3. ,  6.5]])"
      ]
     },
     "execution_count": 8,
     "metadata": {},
     "output_type": "execute_result"
    }
   ],
   "source": [
    "data = np.array([[1.5, -0.1, 3], [0, -3, 6.5]])\n",
    "data"
   ]
  },
  {
   "cell_type": "markdown",
   "id": "2f813d73",
   "metadata": {},
   "source": [
    "Sau đó chúng ta có thể viết:"
   ]
  },
  {
   "cell_type": "code",
   "execution_count": 9,
   "id": "42d8d6ca",
   "metadata": {},
   "outputs": [
    {
     "data": {
      "text/plain": [
       "array([[ 15.,  -1.,  30.],\n",
       "       [  0., -30.,  65.]])"
      ]
     },
     "execution_count": 9,
     "metadata": {},
     "output_type": "execute_result"
    }
   ],
   "source": [
    "data * 10"
   ]
  },
  {
   "cell_type": "code",
   "execution_count": 10,
   "id": "5defbe0a",
   "metadata": {},
   "outputs": [
    {
     "data": {
      "text/plain": [
       "array([[ 3. , -0.2,  6. ],\n",
       "       [ 0. , -6. , 13. ]])"
      ]
     },
     "execution_count": 10,
     "metadata": {},
     "output_type": "execute_result"
    }
   ],
   "source": [
    "data + data"
   ]
  },
  {
   "cell_type": "markdown",
   "id": "db5767a0",
   "metadata": {},
   "source": [
    "Và kiểm tra `shape` và `dtype` của nó:"
   ]
  },
  {
   "cell_type": "code",
   "execution_count": 11,
   "id": "c16183a9",
   "metadata": {},
   "outputs": [
    {
     "data": {
      "text/plain": [
       "(2, 3)"
      ]
     },
     "execution_count": 11,
     "metadata": {},
     "output_type": "execute_result"
    }
   ],
   "source": [
    "data.shape"
   ]
  },
  {
   "cell_type": "code",
   "execution_count": 12,
   "id": "28d45156",
   "metadata": {},
   "outputs": [
    {
     "data": {
      "text/plain": [
       "dtype('float64')"
      ]
     },
     "execution_count": 12,
     "metadata": {},
     "output_type": "execute_result"
    }
   ],
   "source": [
    "data.dtype"
   ]
  },
  {
   "cell_type": "markdown",
   "id": "7740c80a",
   "metadata": {},
   "source": [
    "Phần này của chương sẽ giúp bạn làm quen với những điều cơ bản về việc sử dụng mảng `NumPy`."
   ]
  },
  {
   "cell_type": "markdown",
   "id": "0e0d51b1-5d97-4855-a937-5a3297774936",
   "metadata": {},
   "source": [
    "### Tạo một ndarray\n",
    "<hr>"
   ]
  },
  {
   "cell_type": "markdown",
   "id": "f87b9966",
   "metadata": {},
   "source": [
    "Cách dễ nhất để tạo một mảng trong Numpy là sử dụng hàm `np.array`. Chúng ta có thể tạo một mảng như sau:"
   ]
  },
  {
   "cell_type": "code",
   "execution_count": 4,
   "id": "d4006066",
   "metadata": {},
   "outputs": [
    {
     "data": {
      "text/plain": [
       "(5,)"
      ]
     },
     "execution_count": 4,
     "metadata": {},
     "output_type": "execute_result"
    }
   ],
   "source": [
    "data1 = [6, 7.5, 8, 0, 1]\n",
    "arr1 = np.array(data1)\n",
    "arr1"
   ]
  },
  {
   "cell_type": "markdown",
   "id": "2807fd5b",
   "metadata": {},
   "source": [
    "Khi khởi tạo mảng bằng các danh sách lồng nhau, Python sẽ chuyển đổi thành mảng nhiều chiều:"
   ]
  },
  {
   "cell_type": "code",
   "execution_count": 13,
   "id": "e352bdb0",
   "metadata": {},
   "outputs": [
    {
     "data": {
      "text/plain": [
       "array([[1, 2, 3, 4],\n",
       "       [5, 6, 7, 8]])"
      ]
     },
     "execution_count": 13,
     "metadata": {},
     "output_type": "execute_result"
    }
   ],
   "source": [
    "data2 = [[1, 2, 3, 4], [5, 6, 7, 8]]\n",
    "arr2 = np.array(data2)\n",
    "arr2"
   ]
  },
  {
   "cell_type": "markdown",
   "id": "beaeb73b",
   "metadata": {},
   "source": [
    "Có thể hiểu `data2` là một danh sách của các danh sách, mảng `arr2` có hai chiều với `shape` được suy ra từ dữ liệu. Chúng ta có thể xác nhận điều này bằng cách kiểm tra các thuộc tính `ndim` và `shape`:"
   ]
  },
  {
   "cell_type": "code",
   "execution_count": 14,
   "id": "45374530",
   "metadata": {},
   "outputs": [
    {
     "data": {
      "text/plain": [
       "2"
      ]
     },
     "execution_count": 14,
     "metadata": {},
     "output_type": "execute_result"
    }
   ],
   "source": [
    "arr2.ndim"
   ]
  },
  {
   "cell_type": "code",
   "execution_count": 15,
   "id": "c1c58ede",
   "metadata": {},
   "outputs": [
    {
     "data": {
      "text/plain": [
       "(2, 4)"
      ]
     },
     "execution_count": 15,
     "metadata": {},
     "output_type": "execute_result"
    }
   ],
   "source": [
    "arr2.shape"
   ]
  },
  {
   "cell_type": "markdown",
   "id": "fd43d785",
   "metadata": {},
   "source": [
    "Trừ khi được chỉ định rõ ràng, hàm `np.array` cố gắng suy ra kiểu dữ liệu phù hợp cho mảng mà nó tạo ra. Kiểu dữ liệu được lưu trữ trong một đối tượng `dtype`. Trong hai ví dụ trước chúng ta có:"
   ]
  },
  {
   "cell_type": "code",
   "execution_count": 6,
   "id": "6ae0ebd6",
   "metadata": {},
   "outputs": [
    {
     "data": {
      "text/plain": [
       "dtype('float64')"
      ]
     },
     "execution_count": 6,
     "metadata": {},
     "output_type": "execute_result"
    }
   ],
   "source": [
    "arr1.dtype"
   ]
  },
  {
   "cell_type": "code",
   "execution_count": 7,
   "id": "e2bc2f30",
   "metadata": {},
   "outputs": [
    {
     "data": {
      "text/plain": [
       "dtype('int64')"
      ]
     },
     "execution_count": 7,
     "metadata": {},
     "output_type": "execute_result"
    }
   ],
   "source": [
    "arr2.dtype"
   ]
  },
  {
   "cell_type": "markdown",
   "id": "4a43d3de",
   "metadata": {},
   "source": [
    "Ngoài `np.array`, có một số hàm khác để tạo mảng mới. \n",
    "\n",
    "- `np.zeros` và `np.ones` tạo ra các mảng chỉ có các số 0 hoặc số 1 tương ứng với một chiều dài hoặc `shape` cho trước.\n",
    "- `np.empty` tạo ra một mảng mà không khởi tạo các giá trị của nó cho bất kỳ giá trị cụ thể nào. Để tạo một mảng có `shape` cao hơn, hãy gán một `tuple` cho `shape`:"
   ]
  },
  {
   "cell_type": "code",
   "execution_count": null,
   "id": "864e3737",
   "metadata": {},
   "outputs": [],
   "source": [
    "np.zeros(10)"
   ]
  },
  {
   "cell_type": "code",
   "execution_count": 8,
   "id": "6f1fccce",
   "metadata": {},
   "outputs": [
    {
     "data": {
      "text/plain": [
       "array([[0., 0., 0., 0., 0., 0.],\n",
       "       [0., 0., 0., 0., 0., 0.],\n",
       "       [0., 0., 0., 0., 0., 0.]])"
      ]
     },
     "execution_count": 8,
     "metadata": {},
     "output_type": "execute_result"
    }
   ],
   "source": [
    "np.zeros((3, 6))"
   ]
  },
  {
   "cell_type": "code",
   "execution_count": 17,
   "id": "374014bc",
   "metadata": {},
   "outputs": [
    {
     "data": {
      "text/plain": [
       "array([[[1.08592657e-311, 3.16202013e-322],\n",
       "        [0.00000000e+000, 0.00000000e+000],\n",
       "        [3.14573925e+097, 3.60114573e+175]],\n",
       "\n",
       "       [[7.24482267e+169, 1.54834166e+185],\n",
       "        [2.05469991e+160, 3.85726606e-057],\n",
       "        [2.67826170e+184, 2.90192180e-057]]])"
      ]
     },
     "execution_count": 17,
     "metadata": {},
     "output_type": "execute_result"
    }
   ],
   "source": [
    "np.empty((2, 3, 2))"
   ]
  },
  {
   "cell_type": "markdown",
   "id": "0e38dc82",
   "metadata": {},
   "source": [
    "> **Chú ý:** Mặc dù `np.empty` trả về một mảng giá trị, nhưng hoàn toàn không có ý nghĩa. Tiếp cận tốt nhất là gán giá trị cho mảng sau khi khởi tạo.\n",
    "\n",
    "`np.arange` là một phiên bản giống như hàm `range` tích hợp sẵn của Python, nhưng trả về một mảng `Numpy` thay vì một danh sách của Python:"
   ]
  },
  {
   "cell_type": "code",
   "execution_count": 9,
   "id": "8bd804f1",
   "metadata": {},
   "outputs": [
    {
     "data": {
      "text/plain": [
       "array([ 0,  1,  2,  3,  4,  5,  6,  7,  8,  9, 10, 11, 12, 13, 14])"
      ]
     },
     "execution_count": 9,
     "metadata": {},
     "output_type": "execute_result"
    }
   ],
   "source": [
    "np.arange(15)"
   ]
  },
  {
   "cell_type": "markdown",
   "id": "9d3c0e40",
   "metadata": {},
   "source": [
    "Xem bảng ... để biết danh sách một phần các hàm tạo mảng chuẩn.\n",
    "\n",
    "**bảng ...: một số hàm tạo mảng NumPy quan trọng**\n",
    "\n",
    "| Hàm | Mô tả |\n",
    "|---|---|\n",
    "| `array` | Chuyển đổi dữ liệu đầu vào (danh sách, tuple, mảng hoặc chuỗi khác) thành một ndarray, suy ra một dtype cho ndarray hoặc chỉ định rõ ràng một dtype. Dữ liệu được sao chép theo mặc định. |\n",
    "| `asarray` | Chuyển đổi đầu vào thành ndarray, nhưng không sao chép nếu đầu vào đã là một ndarray có dtype phù hợp. |\n",
    "| `arange` | Giống như `range` tích hợp sẵn nhưng trả về một ndarray thay vì một danh sách. |\n",
    "| `ones`, `ones_like` | Tạo một mảng chứa toàn số 1 với `shape` và `dtype` cho trước. `ones_like` lấy một mảng khác và tạo ra một mảng chứa toàn số 1 có cùng `shape` và `dtype`. |\n",
    "| `zeros`, `zeros_like` | Giống như `ones` và `ones_like` nhưng tạo ra các mảng chứa toàn số 0. |\n",
    "| `empty`, `empty_like` | Tạo các mảng mới bằng cách cấp phát bộ nhớ mới, nhưng không điền bất kỳ giá trị nào như `ones` và `zeros`. |\n",
    "| `full`, `full_like` | Tạo một mảng có `shape` và `dtype` cho trước với tất cả các giá trị được đặt thành \"giá trị điền\" được chỉ định. `full_like` lấy một mảng khác và tạo ra một mảng được điền có cùng `shape` và `dtype`. |\n",
    "| `eye`, `identity` | Tạo một ma trận đơn vị (identity matrix) vuông N × N (1 trên đường chéo và 0 ở những nơi khác). |"
   ]
  },
  {
   "cell_type": "markdown",
   "id": "d890f09e",
   "metadata": {},
   "source": [
    "### Kiểu dữ liệu của ndarray\n",
    "\n",
    "**Kiểu dữ liệu**, hay `dtype`, là một đối tượng đặc biệt chứa thông tin mà `ndarray` cần để diễn giải một khối bộ nhớ là một loại dữ liệu cụ thể:"
   ]
  },
  {
   "cell_type": "code",
   "execution_count": 18,
   "id": "47472dba",
   "metadata": {},
   "outputs": [
    {
     "data": {
      "text/plain": [
       "dtype('float64')"
      ]
     },
     "execution_count": 18,
     "metadata": {},
     "output_type": "execute_result"
    }
   ],
   "source": [
    "arr1_dtype = np.array([1, 2, 3], dtype=np.float64)\n",
    "arr2_dtype = np.array([1, 2, 3], dtype=np.int32)\n",
    "arr1_dtype.dtype"
   ]
  },
  {
   "cell_type": "code",
   "execution_count": null,
   "id": "77c376e5",
   "metadata": {},
   "outputs": [],
   "source": [
    "arr2_dtype.dtype"
   ]
  },
  {
   "cell_type": "markdown",
   "id": "92a6fedf",
   "metadata": {},
   "source": [
    "Các `dtype` là lý do tại sao `NumPy` rất mạnh mẽ và linh hoạt. Trong hầu hết các trường hợp, `dtype` giúp dễ dàng đọc và ghi dữ liệu dưới dạng nhị phân vào máy và cũng dễ dàng kết nối với các câu lệnh được viết bằng các ngôn ngữ như `C` hoặc `Fortran`.\n",
    "\n",
    "Các `dtype` kiểu số được đặt tên giống nhau là `float` hoặc `int`, theo sau là một số cho biết số bit trên mỗi phần tử. Bạn đọc xem Bảng dưới đây để biết danh sách đầy đủ các `dtype` được hỗ trợ. \n",
    "\n",
    "**Bảng ...: Các kiểu dữ liệu NumPy**\n",
    "\n",
    "| Kiểu | Mã kiểu | Mô tả |\n",
    "|---|---|---|\n",
    "| `int8`, `uint8` | `i1`, `u1` | Số nguyên 8 bit có dấu và không dấu |\n",
    "| `int16`, `uint16` | `i2`, `u2` | Số nguyên 16 bit có dấu và không dấu |\n",
    "| `int32`, `uint32` | `i4`, `u4` | Số nguyên 32 bit có dấu và không dấu |\n",
    "| `int64`, `uint64` | `i8`, `u8` | Số nguyên 64 bit có dấu và không dấu |\n",
    "| `float16` | `f2` | Số thực dấu phẩy động nửa độ chính xác (half-precision) |\n",
    "| `float32` | `f4` hoặc `f` | Số thực dấu phẩy động đơn độ chính xác (single-precision) tiêu chuẩn; tương thích với `float` trong C |\n",
    "| `float64` | `f8` hoặc `d` | Số thực dấu phẩy động độ chính xác kép (double-precision) tiêu chuẩn; tương thích với `double` trong C và `float` trong Python |\n",
    "| `float128` | `f16` hoặc `g` | Số thực dấu phẩy động độ chính xác mở rộng (extended-precision) |\n",
    "| `complex64`, `complex128`, `complex256` | `c8`, `c16`, `c32` | Số phức được biểu diễn bằng hai số thực dấu phẩy động 32, 64, hoặc 128 bit tương ứng |\n",
    "| `bool` | `?` | Kiểu Boolean lưu trữ các giá trị `True` và `False` |\n",
    "| `object` | `O` | Kiểu đối tượng Python; một giá trị có thể là bất kỳ đối tượng Python nào |\n",
    "| `string_` | `S` | Kiểu chuỗi ASCII có độ dài cố định (ví dụ, để khớp với `dtype` khi đọc một tệp). Độ dài của chuỗi được chỉ định bởi số theo sau, ví dụ, `S10` là một chuỗi 10 ký tự. NumPy không cung cấp `dtype` chuỗi Unicode có độ dài cố định. |\n",
    "| `unicode_` | `U` | Kiểu Unicode có độ dài cố định (ví dụ, `U10`). NumPy không cung cấp `dtype` chuỗi Unicode có độ dài thay đổi, không giống như pandas. |\n",
    "\n",
    "Bạn có thể chuyển đổi, hay còn gọi là `cast`, một mảng từ `dtype` này sang `dtype` khác bằng cách sử dụng phương thức `astype` của `ndarray`:"
   ]
  },
  {
   "cell_type": "code",
   "execution_count": null,
   "id": "08596690",
   "metadata": {},
   "outputs": [],
   "source": [
    "arr_astype = np.array([1, 2, 3, 4, 5])\n",
    "arr_astype.dtype"
   ]
  },
  {
   "cell_type": "code",
   "execution_count": null,
   "id": "fee4da08",
   "metadata": {},
   "outputs": [],
   "source": [
    "float_arr = arr_astype.astype(np.float64)\n",
    "float_arr.dtype"
   ]
  },
  {
   "cell_type": "markdown",
   "id": "44070872",
   "metadata": {},
   "source": [
    "Trong ví dụ này, các số nguyên được đổi kiểu thành số thực dấu phẩy động. Ngược lại, nếu chúng ta ép kiểu một số số thực dấu phẩy động thành kiểu số nguyên, phần thập phân sẽ bị cắt bỏ:"
   ]
  },
  {
   "cell_type": "code",
   "execution_count": null,
   "id": "88fedbe2",
   "metadata": {},
   "outputs": [],
   "source": [
    "arr_fp_to_int = np.array([3.7, -1.2, -2.6, 0.5, 12.9, 10.1])\n",
    "arr_fp_to_int"
   ]
  },
  {
   "cell_type": "code",
   "execution_count": null,
   "id": "b8dbe2a3",
   "metadata": {},
   "outputs": [],
   "source": [
    "arr_fp_to_int.astype(np.int32)"
   ]
  },
  {
   "cell_type": "markdown",
   "id": "99f4c4d2",
   "metadata": {},
   "source": [
    "Nếu bạn có một mảng kiểu chuỗi ký tự nhưng bản chất là biểu diễn các số, bạn có thể sử dụng `astype` để chuyển đổi chúng thành dạng số:"
   ]
  },
  {
   "cell_type": "code",
   "execution_count": null,
   "id": "19afbf75",
   "metadata": {},
   "outputs": [],
   "source": [
    "numeric_strings = np.array([\"1.25\", \"-9.6\", \"42\"], dtype=np.string_)\n",
    "numeric_strings.astype(float) # NumPy sẽ tự động suy ra np.float64"
   ]
  },
  {
   "cell_type": "markdown",
   "id": "ec2e30a7",
   "metadata": {},
   "source": [
    "> **Lưu ý:** Việc gọi `astype` *luôn* tạo ra một mảng mới, hay một bản sao của dữ liệu, ngay cả khi `dtype` mới giống với `dtype` cũ.\n",
    "\n",
    "Bạn đọc cần lưu ý khi sử dụng `dtype = np.string_`, vì dữ liệu chuỗi trong `Numpy` có độ dài cố định và có thể bị cắt bớt mà không có cảnh báo. "
   ]
  },
  {
   "cell_type": "markdown",
   "id": "1b99fbc0",
   "metadata": {},
   "source": [
    "Bạn cũng có thể sử dụng mã kiểu `dtype` thay cho tên đầy đủ:"
   ]
  },
  {
   "cell_type": "code",
   "execution_count": 21,
   "id": "142fc420",
   "metadata": {},
   "outputs": [
    {
     "data": {
      "text/plain": [
       "array([         0,          0, 3236760048,        511, 3236761808,\n",
       "              511, 3236762128,        511], dtype=uint32)"
      ]
     },
     "execution_count": 21,
     "metadata": {},
     "output_type": "execute_result"
    }
   ],
   "source": [
    "empty_uint32 = np.empty(8, dtype=\"u4\")\n",
    "empty_uint32"
   ]
  },
  {
   "cell_type": "markdown",
   "id": "82fc1862",
   "metadata": {},
   "source": [
    "> **Lưu ý:** Nếu bạn gặp khó khăn trong việc tìm ra `dtype` nào nên sử dụng với dữ liệu của mình thì không cần phải quá quan tâm. Bạn có thể dung `float64` cho hầu hết dữ liệu số thực dấu phẩy động. Việc sử dụng các `dtype` như `float32` thường là để tiết kiệm bộ nhớ khi làm việc với các tập dữ liệu rất lớn."
   ]
  },
  {
   "cell_type": "markdown",
   "id": "7b429904",
   "metadata": {},
   "source": [
    "### Các phép toán số học với mảng `NumPy`\n",
    "\n",
    "Đối tượng mảng rất quan trọng vì chúng cho phép chúng ta thể hiện các phép toán theo nhóm trên dữ liệu mà không cần viết bất kỳ vòng lặp `for` nào. `NumPy` gọi tính năng này là **véc-tơ hóa**, hay vectorization. Bất kỳ phép toán số học nào giữa các mảng có kích thước bằng nhau đều áp dụng phép toán đó theo từng phần tử:"
   ]
  },
  {
   "cell_type": "code",
   "execution_count": 22,
   "id": "fe174566",
   "metadata": {},
   "outputs": [
    {
     "data": {
      "text/plain": [
       "array([[1., 2., 3.],\n",
       "       [4., 5., 6.]])"
      ]
     },
     "execution_count": 22,
     "metadata": {},
     "output_type": "execute_result"
    }
   ],
   "source": [
    "arr_arith = np.array([[1., 2., 3.], [4., 5., 6.]])\n",
    "arr_arith"
   ]
  },
  {
   "cell_type": "code",
   "execution_count": 23,
   "id": "bdca420e",
   "metadata": {},
   "outputs": [
    {
     "data": {
      "text/plain": [
       "array([[ 1.,  4.,  9.],\n",
       "       [16., 25., 36.]])"
      ]
     },
     "execution_count": 23,
     "metadata": {},
     "output_type": "execute_result"
    }
   ],
   "source": [
    "arr_arith * arr_arith"
   ]
  },
  {
   "cell_type": "code",
   "execution_count": 24,
   "id": "46889326",
   "metadata": {},
   "outputs": [
    {
     "data": {
      "text/plain": [
       "array([[0., 0., 0.],\n",
       "       [0., 0., 0.]])"
      ]
     },
     "execution_count": 24,
     "metadata": {},
     "output_type": "execute_result"
    }
   ],
   "source": [
    "arr_arith - arr_arith"
   ]
  },
  {
   "cell_type": "markdown",
   "id": "2f5d1fe1",
   "metadata": {},
   "source": [
    "Các phép toán số học với các đại lượng vô hướng truyền giá trị vô hướng đó cho mỗi phần tử trong mảng khi thực hiện phép toán:"
   ]
  },
  {
   "cell_type": "code",
   "execution_count": null,
   "id": "715fa8d1",
   "metadata": {},
   "outputs": [],
   "source": [
    "1 / arr_arith"
   ]
  },
  {
   "cell_type": "code",
   "execution_count": null,
   "id": "f0477a12",
   "metadata": {},
   "outputs": [],
   "source": [
    "arr_arith ** 2"
   ]
  },
  {
   "cell_type": "markdown",
   "id": "aa0af79b",
   "metadata": {},
   "source": [
    "Các phép so sánh giữa các mảng có cùng kích thước tạo ra một mảng kiểu logical"
   ]
  },
  {
   "cell_type": "code",
   "execution_count": null,
   "id": "55cea4aa",
   "metadata": {},
   "outputs": [],
   "source": [
    "arr2_arith = np.array([[0., 4., 1.], [7., 2., 12.]])\n",
    "arr2_arith"
   ]
  },
  {
   "cell_type": "code",
   "execution_count": null,
   "id": "4abe6725",
   "metadata": {},
   "outputs": [],
   "source": [
    "arr2_arith > arr_arith"
   ]
  },
  {
   "cell_type": "markdown",
   "id": "f882aa5f",
   "metadata": {},
   "source": [
    "Việc thực hiện các phép toán giữa các mảng có kích thước khác nhau được gọi là *broadcasting* và sẽ được thảo luận chi tiết hơn trong phần sau"
   ]
  },
  {
   "cell_type": "markdown",
   "id": "f7b8389d",
   "metadata": {},
   "source": [
    "### Chỉ số trong mảng\n",
    "\n",
    "Chỉ số của mảng `NumPy` là một chủ đề rộng, vì có nhiều cách bạn có thể chọn một tập con dữ liệu của mình hoặc các phần tử riêng lẻ. Các mảng một chiều khá đơn giản, chúng hoạt động tương tự như một `list` trong Python:"
   ]
  },
  {
   "cell_type": "code",
   "execution_count": 26,
   "id": "d6c9196e",
   "metadata": {},
   "outputs": [
    {
     "data": {
      "text/plain": [
       "array([0, 1, 2, 3, 4, 5, 6, 7, 8, 9])"
      ]
     },
     "execution_count": 26,
     "metadata": {},
     "output_type": "execute_result"
    }
   ],
   "source": [
    "arr_slice_basic = np.arange(10)\n",
    "arr_slice_basic"
   ]
  },
  {
   "cell_type": "code",
   "execution_count": null,
   "id": "b1969bc7",
   "metadata": {},
   "outputs": [],
   "source": [
    "arr_slice_basic[5]"
   ]
  },
  {
   "cell_type": "code",
   "execution_count": null,
   "id": "7b95b4cb",
   "metadata": {},
   "outputs": [],
   "source": [
    "arr_slice_basic[5:8]"
   ]
  },
  {
   "cell_type": "code",
   "execution_count": 27,
   "id": "495f4b9d",
   "metadata": {},
   "outputs": [
    {
     "data": {
      "text/plain": [
       "array([ 0,  1,  2,  3,  4, 12, 12, 12,  8,  9])"
      ]
     },
     "execution_count": 27,
     "metadata": {},
     "output_type": "execute_result"
    }
   ],
   "source": [
    "arr_slice_basic[5:8] = 12\n",
    "arr_slice_basic"
   ]
  },
  {
   "cell_type": "markdown",
   "id": "9fc8e209",
   "metadata": {},
   "source": [
    "Như bạn đọc thấy, nếu bạn gán một giá trị vô hướng cho một lát cắt, như trong `arr[5:8] = 12`, giá trị đó được truyền, hay còn gọi là *broadcasted* cho toàn bộ giá trị trong lát cắt. Sự khác biệt quan trọng đầu tiên so với `list` tích hợp sẵn trong Python là các lát cắt mảng là các **khung nhìn** trên mảng gốc. Điều này có nghĩa là dữ liệu không được sao chép, và bất kỳ sửa đổi nào đối với khung nhìn sẽ được phản ánh trong mảng ban đầu. Để cung cấp cho bạn một ví dụ về điều này, trước tiên chúng ta tạo một lát cắt của `arr_slice_basic`:"
   ]
  },
  {
   "cell_type": "code",
   "execution_count": 28,
   "id": "8b9c74c0",
   "metadata": {},
   "outputs": [
    {
     "data": {
      "text/plain": [
       "array([12, 12, 12])"
      ]
     },
     "execution_count": 28,
     "metadata": {},
     "output_type": "execute_result"
    }
   ],
   "source": [
    "arr_slice_view = arr_slice_basic[5:8]\n",
    "arr_slice_view"
   ]
  },
  {
   "cell_type": "markdown",
   "id": "950e8e22",
   "metadata": {},
   "source": [
    "Bây giờ, khi chúng ta thay đổi các giá trị trong `arr_slice_view`, các thay đổi đó được phản ánh trong mảng gốc `arr_slice_basic`:"
   ]
  },
  {
   "cell_type": "code",
   "execution_count": 29,
   "id": "a7fc03e7",
   "metadata": {},
   "outputs": [
    {
     "data": {
      "text/plain": [
       "array([    0,     1,     2,     3,     4,    12, 12345,    12,     8,\n",
       "           9])"
      ]
     },
     "execution_count": 29,
     "metadata": {},
     "output_type": "execute_result"
    }
   ],
   "source": [
    "arr_slice_view[1] = 12345\n",
    "arr_slice_basic # Giá trị trương ứng với chỉ số 6 sẽ thay đổi"
   ]
  },
  {
   "cell_type": "markdown",
   "id": "5131169f",
   "metadata": {},
   "source": [
    "Sử dụng chỉ số kiểu `[:]` sẽ gán cho tất cả các giá trị trong một mảng:"
   ]
  },
  {
   "cell_type": "code",
   "execution_count": null,
   "id": "a82323fe",
   "metadata": {},
   "outputs": [],
   "source": [
    "arr_slice_view[:] = 64\n",
    "arr_slice_basic"
   ]
  },
  {
   "cell_type": "markdown",
   "id": "1be15b9d",
   "metadata": {},
   "source": [
    "Nếu bạn muốn một bản sao của một lát cắt của một `ndarray` thay vì một khung nhìn, bạn sẽ cần phải sao chép mảng một cách rõ ràng, chẳng hạn như sử dụng `arr_slice_basic[5:8].copy()`.\n",
    "\n",
    "Với các mảng có chiều cao hơn, bạn có nhiều tùy chọn hơn. Trong một mảng hai chiều, các phần tử tại mỗi chỉ mục không phải là các đại lượng vô hướng mà là các mảng một chiều:"
   ]
  },
  {
   "cell_type": "code",
   "execution_count": 31,
   "id": "a4a28770",
   "metadata": {},
   "outputs": [
    {
     "data": {
      "text/plain": [
       "array([7, 8, 9])"
      ]
     },
     "execution_count": 31,
     "metadata": {},
     "output_type": "execute_result"
    }
   ],
   "source": [
    "arr2d = np.array([[1, 2, 3], [4, 5, 6], [7, 8, 9]])\n",
    "arr2d[2]"
   ]
  },
  {
   "cell_type": "markdown",
   "id": "0202b784",
   "metadata": {},
   "source": [
    "Do đó, các phần tử riêng lẻ có thể được truy cập bằng cách sử dụng các chỉ số theo kiểu đệ quy. Hoặc bạn đọc có thể truyền một danh sách các chỉ số được phân tách bằng dấu phẩy để chọn một phần tử riêng lẻ. Vì vậy, những cách truy cập sau đây là tương đương:"
   ]
  },
  {
   "cell_type": "code",
   "execution_count": 32,
   "id": "24102eff",
   "metadata": {},
   "outputs": [
    {
     "data": {
      "text/plain": [
       "np.int64(3)"
      ]
     },
     "execution_count": 32,
     "metadata": {},
     "output_type": "execute_result"
    }
   ],
   "source": [
    "arr2d[0][2]"
   ]
  },
  {
   "cell_type": "code",
   "execution_count": 33,
   "id": "135e3f31",
   "metadata": {},
   "outputs": [
    {
     "data": {
      "text/plain": [
       "np.int64(3)"
      ]
     },
     "execution_count": 33,
     "metadata": {},
     "output_type": "execute_result"
    }
   ],
   "source": [
    "arr2d[0, 2]"
   ]
  },
  {
   "cell_type": "markdown",
   "id": "7fa3b92d",
   "metadata": {},
   "source": [
    "Hình ... minh họa về việc truy cập các phần tử một mảng hai chiều theo chỉ số. Bạn đọc có thể nghĩ trục 0 tương đương với \"hàng\" và trục 1 tương đương với \"cột\". \n",
    "\n",
    "**Hình ... Chỉ số các phần tử trong một mảng NumPy hai chiều**\n",
    "\n",
    "```\n",
    "          Trục 1\n",
    "        -------->\n",
    "       | 0  1  2\n",
    "Trục 0 | --------\n",
    "  |    | 0 |  |  |\n",
    "  |    | 1 |  |  |\n",
    "  V    | 2 |  |  |\n",
    "       --------\n",
    "```\n",
    "Một cách tổng quát, trong các mảng nhiều chiều, nếu bạn bỏ qua các chỉ số phía sau, đối tượng được trả về sẽ là một `ndarray` có chiều thấp hơn bao gồm tất cả dữ liệu dọc theo các chiều cao hơn. Ví dụ , hãy quan sát mảng 2 × 2 × 3 `arr3d` như sau:"
   ]
  },
  {
   "cell_type": "code",
   "execution_count": 34,
   "id": "89306a68",
   "metadata": {},
   "outputs": [
    {
     "data": {
      "text/plain": [
       "array([[[ 1,  2,  3],\n",
       "        [ 4,  5,  6]],\n",
       "\n",
       "       [[ 7,  8,  9],\n",
       "        [10, 11, 12]]])"
      ]
     },
     "execution_count": 34,
     "metadata": {},
     "output_type": "execute_result"
    }
   ],
   "source": [
    "arr3d = np.array([[[1, 2, 3], [4, 5, 6]], [[7, 8, 9], [10, 11, 12]]])\n",
    "arr3d"
   ]
  },
  {
   "cell_type": "markdown",
   "id": "e330329b",
   "metadata": {},
   "source": [
    "`arr3d[0]` sẽ là một mảng 2 × 3:"
   ]
  },
  {
   "cell_type": "code",
   "execution_count": 35,
   "id": "a99ca909",
   "metadata": {},
   "outputs": [
    {
     "data": {
      "text/plain": [
       "array([[1, 2, 3],\n",
       "       [4, 5, 6]])"
      ]
     },
     "execution_count": 35,
     "metadata": {},
     "output_type": "execute_result"
    }
   ],
   "source": [
    "arr3d[0]"
   ]
  },
  {
   "cell_type": "markdown",
   "id": "458388b5",
   "metadata": {},
   "source": [
    "Cả các giá trị số và các mảng đều có thể được gán cho `arr3d[0]`:"
   ]
  },
  {
   "cell_type": "code",
   "execution_count": null,
   "id": "54f790e8",
   "metadata": {},
   "outputs": [],
   "source": [
    "old_values = arr3d[0].copy() # lưu lại giá trị cũ\n",
    "arr3d[0] = 42 # gán mảng bằng một số\n",
    "arr3d"
   ]
  },
  {
   "cell_type": "code",
   "execution_count": null,
   "id": "0a8e4792",
   "metadata": {},
   "outputs": [],
   "source": [
    "arr3d[0] = old_values # Trả lại giá trị ban đầu\n",
    "arr3d"
   ]
  },
  {
   "cell_type": "markdown",
   "id": "ce4ca99c",
   "metadata": {},
   "source": [
    "Tương tự, `arr3d[1, 0]` cung cấp tất cả các giá trị có chỉ mục bắt đầu bằng `(1, 0)`, tạo thành một mảng một chiều có 3 phần tử:"
   ]
  },
  {
   "cell_type": "code",
   "execution_count": 36,
   "id": "e474f503",
   "metadata": {},
   "outputs": [
    {
     "data": {
      "text/plain": [
       "array([7, 8, 9])"
      ]
     },
     "execution_count": 36,
     "metadata": {},
     "output_type": "execute_result"
    }
   ],
   "source": [
    "arr3d[1, 0]"
   ]
  },
  {
   "cell_type": "markdown",
   "id": "3795b1d9",
   "metadata": {},
   "source": [
    "Biểu thức này giống như khi chúng ta tạo một khung hình `arr3d[1]` và sau đó tiếp tục tạo một khung hình khác với các chỉ số thích hợp:"
   ]
  },
  {
   "cell_type": "code",
   "execution_count": 37,
   "id": "3f6ca0ed",
   "metadata": {},
   "outputs": [
    {
     "data": {
      "text/plain": [
       "array([[ 7,  8,  9],\n",
       "       [10, 11, 12]])"
      ]
     },
     "execution_count": 37,
     "metadata": {},
     "output_type": "execute_result"
    }
   ],
   "source": [
    "x = arr3d[1]\n",
    "x"
   ]
  },
  {
   "cell_type": "code",
   "execution_count": 38,
   "id": "d41b0048",
   "metadata": {},
   "outputs": [
    {
     "data": {
      "text/plain": [
       "array([7, 8, 9])"
      ]
     },
     "execution_count": 38,
     "metadata": {},
     "output_type": "execute_result"
    }
   ],
   "source": [
    "x[0]"
   ]
  },
  {
   "cell_type": "markdown",
   "id": "4c50b690",
   "metadata": {},
   "source": [
    "Lưu ý rằng trong tất cả các trường hợp các mảng được trả về là đều các khung nhìn."
   ]
  },
  {
   "cell_type": "markdown",
   "id": "31dabe2c-c5ef-42d3-9d6f-4390c4193b28",
   "metadata": {},
   "source": [
    "#### Sử dụng lát cắt trên mảng\n",
    "<hr>"
   ]
  },
  {
   "cell_type": "markdown",
   "id": "2b2eb571",
   "metadata": {},
   "source": [
    "Giống như các đối tượng một chiều, chẳng hạn như danh sách trong Python, `ndarray` có thể được cắt lát bằng cú pháp quen thuộc:"
   ]
  },
  {
   "cell_type": "code",
   "execution_count": null,
   "id": "e3028204",
   "metadata": {},
   "outputs": [],
   "source": [
    "arr_slice_basic # arr_slice_basic đã được định nghĩa ở trên: np.arange(10) và đã bị thay đổi"
   ]
  },
  {
   "cell_type": "code",
   "execution_count": null,
   "id": "6c6e938e",
   "metadata": {},
   "outputs": [],
   "source": [
    "arr_slice_basic[1:6]"
   ]
  },
  {
   "cell_type": "markdown",
   "id": "a18ad609",
   "metadata": {},
   "source": [
    "Hãy xem xét `arr2d` từ trước. Bạn có thể truyền nhiều lát cắt giống như bạn có thể truyền nhiều chỉ mục:"
   ]
  },
  {
   "cell_type": "code",
   "execution_count": null,
   "id": "d8c3c851",
   "metadata": {},
   "outputs": [],
   "source": [
    "arr2d # arr2d đã được định nghĩa ở trên"
   ]
  },
  {
   "cell_type": "code",
   "execution_count": null,
   "id": "b70db5b9",
   "metadata": {},
   "outputs": [],
   "source": [
    "arr2d[:2]"
   ]
  },
  {
   "cell_type": "markdown",
   "id": "da2bbd10",
   "metadata": {},
   "source": [
    "Bạn có thể truyền nhiều lát cắt theo nhiều trục. Ví dụ:"
   ]
  },
  {
   "cell_type": "code",
   "execution_count": null,
   "id": "2bcc5c09",
   "metadata": {},
   "outputs": [],
   "source": [
    "arr2d[:2, 1:]"
   ]
  },
  {
   "cell_type": "markdown",
   "id": "938e713f",
   "metadata": {},
   "source": [
    "Khi cắt lát như thế này, bạn đọc luôn nhận được các khung hình là mảng có cùng số chiều. Bằng cách sử dụng đồng thời các chỉ mục số nguyên và lát cắt, bạn có thể nhận được các lát cắt có chiều thấp hơn.\n",
    "\n",
    "Ví dụ, chúng ta có thể chọn hàng thứ hai nhưng chỉ hai cột đầu tiên:"
   ]
  },
  {
   "cell_type": "code",
   "execution_count": 39,
   "id": "f41dfb98",
   "metadata": {},
   "outputs": [
    {
     "data": {
      "text/plain": [
       "array([4, 5])"
      ]
     },
     "execution_count": 39,
     "metadata": {},
     "output_type": "execute_result"
    }
   ],
   "source": [
    "arr2d[1, :2]"
   ]
  },
  {
   "cell_type": "markdown",
   "id": "618e00a9",
   "metadata": {},
   "source": [
    "Tương tự, cũng có thể chọn cột thứ ba nhưng chỉ hai hàng đầu tiên:"
   ]
  },
  {
   "cell_type": "code",
   "execution_count": 40,
   "id": "10420fb4",
   "metadata": {},
   "outputs": [
    {
     "data": {
      "text/plain": [
       "array([3, 6])"
      ]
     },
     "execution_count": 40,
     "metadata": {},
     "output_type": "execute_result"
    }
   ],
   "source": [
    "arr2d[:2, 2]"
   ]
  },
  {
   "cell_type": "markdown",
   "id": "9ddc6f55",
   "metadata": {},
   "source": [
    "Xem Hình ... để biết minh họa. Lưu ý rằng dấu hai chấm (`:`) đứng một mình có nghĩa là lấy toàn bộ trục, vì vậy bạn có thể cắt lát chỉ các chiều cao hơn như sau:"
   ]
  },
  {
   "cell_type": "code",
   "execution_count": null,
   "id": "d352fcfb",
   "metadata": {},
   "outputs": [],
   "source": [
    "arr2d[:, :1]"
   ]
  },
  {
   "cell_type": "markdown",
   "id": "efc27890",
   "metadata": {},
   "source": [
    "**Hình ...: Các lựa chọn mảng hai chiều từ các lát cắt**\n",
    "\n",
    "```\n",
    "      arr2d = np.array([,,])\n",
    "\n",
    "      arr2d[:2, 1:]   ->  [,]\n",
    "      arr2d        -> \n",
    "      arr2d[2, :]     -> \n",
    "      arr2d[2, 1:]    -> \n",
    "      arr2d[:, :2]    ->  [,,]\n",
    "      arr2d[1, :2]    -> \n",
    "      arr2d[1:2, :2]  ->  []\n",
    "```\n",
    "(Hình ảnh trực quan hóa các lát cắt khác nhau trên một mảng 3x3)\n",
    "\n",
    "Tất nhiên, việc gán cho một biểu thức lát cắt sẽ gán cho toàn bộ lựa chọn:"
   ]
  },
  {
   "cell_type": "code",
   "execution_count": 41,
   "id": "ab9ead05",
   "metadata": {},
   "outputs": [
    {
     "data": {
      "text/plain": [
       "array([[1, 0, 0],\n",
       "       [4, 0, 0],\n",
       "       [7, 8, 9]])"
      ]
     },
     "execution_count": 41,
     "metadata": {},
     "output_type": "execute_result"
    }
   ],
   "source": [
    "arr2d_copy = arr2d.copy() # Tạo bản sao để không ảnh hưởng arr2d gốc cho các ví dụ sau\n",
    "arr2d_copy[:2, 1:] = 0\n",
    "arr2d_copy"
   ]
  },
  {
   "cell_type": "markdown",
   "id": "73dfaeac",
   "metadata": {},
   "source": [
    "### Sử dụng chỉ số kiểu logical\n",
    "\n",
    "Hãy xem xét một ví dụ trong đó chúng ta có một dữ liệu được lưu trong một mảng và một mảng khác chứa tên các phần tử của mảng dữ liệu:"
   ]
  },
  {
   "cell_type": "code",
   "execution_count": null,
   "id": "6829b164",
   "metadata": {},
   "outputs": [],
   "source": [
    "names = np.array([\"Bob\", \"Joe\", \"Will\", \"Bob\", \"Will\", \"Joe\", \"Joe\"])\n",
    "data_bool = np.array([[4, 7], [0, 2], [-5, 6], [0, 0], [1, 2], [-12, -4], [3, 4]])\n",
    "names\n",
    "data_bool"
   ]
  },
  {
   "cell_type": "markdown",
   "id": "c3688d65",
   "metadata": {},
   "source": [
    "Giả sử mỗi tên trong mảng `names` tương ứng với một hàng trong mảng `data_bool` và chúng ta muốn chọn tất cả các hàng có tên tương ứng là `'Bob'`. Giống như các phép toán số học, các phép so sánh với các mảng, chẳng hạn như `==`, cũng được véc-tơ hóa. Do đó, việc so sánh `names` với chuỗi `'Bob'` tạo ra một mảng kiểu logical:"
   ]
  },
  {
   "cell_type": "code",
   "execution_count": null,
   "id": "cb52e1c9",
   "metadata": {},
   "outputs": [],
   "source": [
    "names == \"Bob\""
   ]
  },
  {
   "cell_type": "markdown",
   "id": "78232a39",
   "metadata": {},
   "source": [
    "Mảng logical này có thể được sử dụng như chỉ số khi muốn lấy ra một mảng con:"
   ]
  },
  {
   "cell_type": "code",
   "execution_count": null,
   "id": "273306b8",
   "metadata": {},
   "outputs": [],
   "source": [
    "data_bool[names == \"Bob\"]"
   ]
  },
  {
   "cell_type": "markdown",
   "id": "5a0d8004",
   "metadata": {},
   "source": [
    "Mảng logical dùng làm chỉ số phải có cùng độ dài với trục sử dụng làm chỉ số. Chúng ta thậm chí có thể kết hợp các mảng boolean và các lát cắt hoặc  chỉ số kiểu số nguyên để chọn mảng con.\n",
    "\n",
    "> **Chú ý:** Sự khác nhau cơ bản giữa chỉ số bằng logical với cắt lát là chỉ số kiểu logical *luôn* tạo ra một bản sao của dữ liệu, ngay cả khi mảng được trả về không thay đổi.\n",
    "\n",
    "> **Mẹo:** Từ khóa `and` và `or` của Python không hoạt động với các mảng kiểu logical. Thay vào đó, hãy sử dụng `&` (và) và `|` (hoặc).\n",
    "\n",
    "Ví dụ, giả sử chúng ta muốn chọn các hàng mà `names == \"Bob\"` đồng thời lấy chỉ số cột theo kiểu cắt lát:"
   ]
  },
  {
   "cell_type": "code",
   "execution_count": null,
   "id": "6bebd78f",
   "metadata": {},
   "outputs": [],
   "source": [
    "data_bool[names == \"Bob\", 1:]"
   ]
  },
  {
   "cell_type": "code",
   "execution_count": null,
   "id": "53586781",
   "metadata": {},
   "outputs": [],
   "source": [
    "data_bool[names == \"Bob\", 0]"
   ]
  },
  {
   "cell_type": "markdown",
   "id": "951913c9",
   "metadata": {},
   "source": [
    "Để chọn mọi tên ngoại trừ `'Bob'`, bạn đọc có thể sử dụng `!=` hoặc phủ định điều kiện bằng `~`:"
   ]
  },
  {
   "cell_type": "code",
   "execution_count": null,
   "id": "18ad77a2",
   "metadata": {},
   "outputs": [],
   "source": [
    "names != \"Bob\""
   ]
  },
  {
   "cell_type": "code",
   "execution_count": null,
   "id": "da61eec2",
   "metadata": {},
   "outputs": [],
   "source": [
    "~(names == \"Bob\") # cách viết khác"
   ]
  },
  {
   "cell_type": "code",
   "execution_count": null,
   "id": "66501d01",
   "metadata": {},
   "outputs": [],
   "source": [
    "data_bool[~(names == \"Bob\")]"
   ]
  },
  {
   "cell_type": "markdown",
   "id": "3adb334e",
   "metadata": {},
   "source": [
    "Toán tử `~` sẽ hữu ích khi bạn đọc muốn đảo ngược một điều kiện chung:"
   ]
  },
  {
   "cell_type": "code",
   "execution_count": null,
   "id": "72b4bfe5",
   "metadata": {},
   "outputs": [],
   "source": [
    "cond = names == \"Bob\"\n",
    "data_bool[~cond]"
   ]
  },
  {
   "cell_type": "markdown",
   "id": "0d47ae99",
   "metadata": {},
   "source": [
    "Để kết hợp các điều kiện logical, bạn đọc sử dụng toán tử số học `&` và `|`. Ví dụ, khi chúng ta muốn tên hàng là `Bob` hoặc `Will`:"
   ]
  },
  {
   "cell_type": "code",
   "execution_count": null,
   "id": "650173a3",
   "metadata": {},
   "outputs": [],
   "source": [
    "mask = (names == \"Bob\") | (names == \"Will\")\n",
    "mask"
   ]
  },
  {
   "cell_type": "code",
   "execution_count": null,
   "id": "f8bdbd39",
   "metadata": {},
   "outputs": [],
   "source": [
    "data_bool[mask]"
   ]
  },
  {
   "cell_type": "markdown",
   "id": "bdacb495",
   "metadata": {},
   "source": [
    "Việc thay thế giá trị trong mảng sử dụng chỉ số kiểu mảng logical hoạt động theo cách thông thường. Ví dụ, để đặt tất cả các giá trị âm trong `data_bool` thành 0, chúng ta thực hiện như sau:"
   ]
  },
  {
   "cell_type": "code",
   "execution_count": null,
   "id": "9a641cb6",
   "metadata": {},
   "outputs": [],
   "source": [
    "data_bool_copy = data_bool.copy() # Tạo bản sao để không ảnh hưởng data_bool gốc\n",
    "data_bool_copy[data_bool_copy < 0] = 0\n",
    "data_bool_copy"
   ]
  },
  {
   "cell_type": "markdown",
   "id": "70aa7d2b-bb84-4d78-9e35-33ed9b488b04",
   "metadata": {},
   "source": [
    "### Chỉ số mảng nâng cao\n",
    "<hr>"
   ]
  },
  {
   "cell_type": "markdown",
   "id": "cf584cd0",
   "metadata": {},
   "source": [
    "*Kỹ thuật chỉ số nâng cao*, hay fancy indexing, là một thuật ngữ được NumPy` sử dụng để mô tả việc tạo chỉ số bằng các mảng số nguyên. Giả sử chúng ta có một mảng 8 × 4:"
   ]
  },
  {
   "cell_type": "code",
   "execution_count": 42,
   "id": "0b94ce14",
   "metadata": {},
   "outputs": [
    {
     "data": {
      "text/plain": [
       "array([[0., 0., 0., 0.],\n",
       "       [1., 1., 1., 1.],\n",
       "       [2., 2., 2., 2.],\n",
       "       [3., 3., 3., 3.],\n",
       "       [4., 4., 4., 4.],\n",
       "       [5., 5., 5., 5.],\n",
       "       [6., 6., 6., 6.],\n",
       "       [7., 7., 7., 7.]])"
      ]
     },
     "execution_count": 42,
     "metadata": {},
     "output_type": "execute_result"
    }
   ],
   "source": [
    "arr_fancy = np.zeros((8, 4))\n",
    "for i in range(8):\n",
    "    arr_fancy[i] = i\n",
    "arr_fancy"
   ]
  },
  {
   "cell_type": "markdown",
   "id": "f02667e4",
   "metadata": {},
   "source": [
    "Để chọn một tập con các hàng theo một thứ tự cụ thể, bạn đọc cần tạo một danh sách, hoặc một `ndarray`, bao gồm các chỉ số là số nguyên chỉ định thứ tự mong muốn:"
   ]
  },
  {
   "cell_type": "code",
   "execution_count": 43,
   "id": "837d03e0",
   "metadata": {},
   "outputs": [
    {
     "data": {
      "text/plain": [
       "array([[4., 4., 4., 4.],\n",
       "       [3., 3., 3., 3.],\n",
       "       [0., 0., 0., 0.],\n",
       "       [6., 6., 6., 6.]])"
      ]
     },
     "execution_count": 43,
     "metadata": {},
     "output_type": "execute_result"
    }
   ],
   "source": [
    "arr_fancy[[4, 3, 0, 6]]"
   ]
  },
  {
   "cell_type": "markdown",
   "id": "e8704ee4",
   "metadata": {},
   "source": [
    "Khi sử dụng các chỉ số âm, các hàng sẽ được lựa chọn theo thứ tự từ hàng cuối:"
   ]
  },
  {
   "cell_type": "code",
   "execution_count": null,
   "id": "27ba1668",
   "metadata": {},
   "outputs": [],
   "source": [
    "arr_fancy[[-3, -5, -7]]"
   ]
  },
  {
   "cell_type": "markdown",
   "id": "43cd9962",
   "metadata": {},
   "source": [
    "Khi chúng ta sử dụng chỉ số là mảng nhiều chiều kết quả trả lại sẽ là một mảng một chiều các phần tử tương ứng với mỗi chỉ số. Hãy quan sát ví dụ:"
   ]
  },
  {
   "cell_type": "code",
   "execution_count": 3,
   "id": "0fbdf032",
   "metadata": {},
   "outputs": [
    {
     "data": {
      "text/plain": [
       "array([[ 0,  1,  2,  3],\n",
       "       [ 4,  5,  6,  7],\n",
       "       [ 8,  9, 10, 11],\n",
       "       [12, 13, 14, 15],\n",
       "       [16, 17, 18, 19],\n",
       "       [20, 21, 22, 23],\n",
       "       [24, 25, 26, 27],\n",
       "       [28, 29, 30, 31]])"
      ]
     },
     "execution_count": 3,
     "metadata": {},
     "output_type": "execute_result"
    }
   ],
   "source": [
    "arr_fancy_reshape = np.arange(32).reshape((8, 4))\n",
    "arr_fancy_reshape"
   ]
  },
  {
   "cell_type": "code",
   "execution_count": 4,
   "id": "8ada7416",
   "metadata": {},
   "outputs": [
    {
     "data": {
      "text/plain": [
       "array([ 4, 23, 29, 10])"
      ]
     },
     "execution_count": 4,
     "metadata": {},
     "output_type": "execute_result"
    }
   ],
   "source": [
    "arr_fancy_reshape[[1, 5, 7, 2], [0, 3, 1, 2]]"
   ]
  },
  {
   "cell_type": "markdown",
   "id": "e78112eb",
   "metadata": {},
   "source": [
    "Ở đây các phần tử có chỉ số tương ứng với `(1, 0)`, `(5, 3)`, `(7, 1)`, và `(2, 2)` đã được chọn. Một lưu ý khác là kết quả của chỉ số nâng cao luôn là một bản sao một chiều của dữ liệu, bất kể số chiều của mảng.\n",
    "\n",
    "Đây là một ví dụ khác về cách chọn một tập hợp con hình chữ nhật của các hàng và cột:"
   ]
  },
  {
   "cell_type": "code",
   "execution_count": 5,
   "id": "2da6d67c",
   "metadata": {},
   "outputs": [
    {
     "data": {
      "text/plain": [
       "array([[ 4,  7,  5,  6],\n",
       "       [20, 23, 21, 22],\n",
       "       [28, 31, 29, 30],\n",
       "       [ 8, 11,  9, 10]])"
      ]
     },
     "execution_count": 5,
     "metadata": {},
     "output_type": "execute_result"
    }
   ],
   "source": [
    "arr_fancy_reshape[[1, 5, 7, 2]][:, [0, 3, 1, 2]]"
   ]
  },
  {
   "cell_type": "markdown",
   "id": "0d33d9fe",
   "metadata": {},
   "source": [
    "Hãy nhớ rằng khi sử dụng chỉ số kiểu mảng nhiều chiều dữ liệu sẽ luôn được sao chép vào một mảng mới. Nếu bạn cần một khung hình, bạn sẽ cần sử dụng các phương pháp khác, chẳng hạn như một tập hợp các lát cắt.\n",
    "\n",
    "Việc gán giá trị của mảng sử dụng chỉ số nâng cao hoạt động như thông thường:"
   ]
  },
  {
   "cell_type": "code",
   "execution_count": 6,
   "id": "35ea29d4",
   "metadata": {},
   "outputs": [
    {
     "data": {
      "text/plain": [
       "array([[ 0,  1,  2,  3],\n",
       "       [ 0,  5,  6,  7],\n",
       "       [ 8,  9,  0, 11],\n",
       "       [12, 13, 14, 15],\n",
       "       [16, 17, 18, 19],\n",
       "       [20, 21, 22,  0],\n",
       "       [24, 25, 26, 27],\n",
       "       [28,  0, 30, 31]])"
      ]
     },
     "execution_count": 6,
     "metadata": {},
     "output_type": "execute_result"
    }
   ],
   "source": [
    "arr_fancy_reshape_copy = arr_fancy_reshape.copy()\n",
    "arr_fancy_reshape_copy[[1, 5, 7, 2], [0, 3, 1, 2]] = 0\n",
    "arr_fancy_reshape_copy"
   ]
  },
  {
   "cell_type": "markdown",
   "id": "a3429e86",
   "metadata": {},
   "source": [
    "Giả sử chúng ta muốn chọn các hàng theo một thứ tự cụ thể, và sau đó sắp xếp lại các cột. Một cách để làm điều này là:"
   ]
  },
  {
   "cell_type": "code",
   "execution_count": 7,
   "id": "e0f8ac14",
   "metadata": {},
   "outputs": [
    {
     "data": {
      "text/plain": [
       "array([[ 4,  5,  6,  7],\n",
       "       [20, 21, 22, 23],\n",
       "       [28, 29, 30, 31],\n",
       "       [ 8,  9, 10, 11]])"
      ]
     },
     "execution_count": 7,
     "metadata": {},
     "output_type": "execute_result"
    }
   ],
   "source": [
    "arr_fancy_ix = np.arange(32).reshape((8, 4))\n",
    "arr_fancy_ix[[1, 5, 7, 2]] # Chọn các hàng"
   ]
  },
  {
   "cell_type": "code",
   "execution_count": 50,
   "id": "7596b95a",
   "metadata": {},
   "outputs": [
    {
     "data": {
      "text/plain": [
       "array([[ 4,  7,  5,  6],\n",
       "       [20, 23, 21, 22],\n",
       "       [28, 31, 29, 30],\n",
       "       [ 8, 11,  9, 10]])"
      ]
     },
     "execution_count": 50,
     "metadata": {},
     "output_type": "execute_result"
    }
   ],
   "source": [
    "arr_fancy_ix[[1, 5, 7, 2]][:, [0, 3, 1, 2]] # Chọn các hàng và sau đó sắp xếp lại các cột"
   ]
  },
  {
   "cell_type": "markdown",
   "id": "ca8593b0",
   "metadata": {},
   "source": [
    "Để làm điều này theo một cách ngắn gọn hơn, bạn có thể sử dụng `np.ix_`. Hàm này chuyển đổi hai mảng số nguyên một chiều thành một kiểu chỉ số được sử dụng để lựa chọn một vùng hình chữ nhật từ một mảng:"
   ]
  },
  {
   "cell_type": "code",
   "execution_count": 9,
   "id": "29df5345",
   "metadata": {},
   "outputs": [
    {
     "data": {
      "text/plain": [
       "array([[ 4,  7,  5,  6],\n",
       "       [20, 23, 21, 22],\n",
       "       [28, 31, 29, 30]])"
      ]
     },
     "execution_count": 9,
     "metadata": {},
     "output_type": "execute_result"
    }
   ],
   "source": [
    "arr_fancy_ix[np.ix_([1, 5, 7, 2], [0, 3, 1, 2])]"
   ]
  },
  {
   "cell_type": "markdown",
   "id": "b5f1e7a9",
   "metadata": {},
   "source": [
    "Bạn đọc có thể thấy rằng hàm `np.ix` tạo ra một đối tượng chỉ số để lựa chọn các hàng 1, 5, 7, 2 và các cột 0, 3, 1, 2. Điều này tương đương với việc chọn các hàng với `arr[[1, 5, 7, 2], :]` và sau đó chọn các cột với `[:, [0, 3, 1, 2]]` trên kết quả."
   ]
  },
  {
   "cell_type": "markdown",
   "id": "7717d52d-3364-46ff-8e76-04b3e007d86f",
   "metadata": {},
   "source": [
    "### Chuyển vị mảng và hoán đổi thứ tự trục\n",
    "<hr>"
   ]
  },
  {
   "cell_type": "markdown",
   "id": "244a1b4e",
   "metadata": {},
   "source": [
    "Chuyển vị là một dạng đặc biệt của việc định hình lại, hay reshaping, đồng thời trả về một khung hình của dữ liệu ban đầu. Các mảng có thuộc tính `T` và phương thức `transpose`:"
   ]
  },
  {
   "cell_type": "code",
   "execution_count": 10,
   "id": "fb149002",
   "metadata": {},
   "outputs": [
    {
     "data": {
      "text/plain": [
       "array([[ 0,  1,  2,  3,  4],\n",
       "       [ 5,  6,  7,  8,  9],\n",
       "       [10, 11, 12, 13, 14]])"
      ]
     },
     "execution_count": 10,
     "metadata": {},
     "output_type": "execute_result"
    }
   ],
   "source": [
    "arr_T = np.arange(15).reshape((3, 5))\n",
    "arr_T"
   ]
  },
  {
   "cell_type": "code",
   "execution_count": 11,
   "id": "96954584",
   "metadata": {},
   "outputs": [
    {
     "data": {
      "text/plain": [
       "array([[ 0,  5, 10],\n",
       "       [ 1,  6, 11],\n",
       "       [ 2,  7, 12],\n",
       "       [ 3,  8, 13],\n",
       "       [ 4,  9, 14]])"
      ]
     },
     "execution_count": 11,
     "metadata": {},
     "output_type": "execute_result"
    }
   ],
   "source": [
    "arr_T.T"
   ]
  },
  {
   "cell_type": "markdown",
   "id": "3bc67002",
   "metadata": {},
   "source": [
    "Khi thực hiện các phép toán đại số với ma trận, bạn đọc thường xuyên tính toán inner product, hay phép nhân ma trận giữa ma trận ban đầu với chuyển vị của nó. Phép nhân ma trận trong Numpy được thực hiện bằng hàm `np.dot`:"
   ]
  },
  {
   "cell_type": "code",
   "execution_count": 12,
   "id": "a85a3ccc",
   "metadata": {},
   "outputs": [
    {
     "data": {
      "text/plain": [
       "array([[ 0,  1,  0],\n",
       "       [ 1,  2, -2],\n",
       "       [ 6,  3,  2],\n",
       "       [-1,  0, -1],\n",
       "       [ 1,  0,  1]])"
      ]
     },
     "execution_count": 12,
     "metadata": {},
     "output_type": "execute_result"
    }
   ],
   "source": [
    "arr_dot_T = np.array([[0, 1, 0], [1, 2, -2], [6, 3, 2], [-1, 0, -1], [1, 0, 1]])\n",
    "arr_dot_T"
   ]
  },
  {
   "cell_type": "code",
   "execution_count": 13,
   "id": "093f5b28",
   "metadata": {},
   "outputs": [
    {
     "data": {
      "text/plain": [
       "array([[39, 20, 12],\n",
       "       [20, 14,  2],\n",
       "       [12,  2, 10]])"
      ]
     },
     "execution_count": 13,
     "metadata": {},
     "output_type": "execute_result"
    }
   ],
   "source": [
    "np.dot(arr_dot_T.T, arr_dot_T)"
   ]
  },
  {
   "cell_type": "markdown",
   "id": "40356040",
   "metadata": {},
   "source": [
    "Phương thức `transpose` được dùng một cách tổng quát hơn trên mảng nhiều chiều để hoán vị các trục trong khi thuộc tính `T` chỉ được sử dụng với các mảng hai chiều. Hãy quan sát mảng ba chiều sau:"
   ]
  },
  {
   "cell_type": "code",
   "execution_count": 14,
   "id": "b0194324",
   "metadata": {},
   "outputs": [
    {
     "data": {
      "text/plain": [
       "array([[[ 0,  1,  2,  3],\n",
       "        [ 4,  5,  6,  7]],\n",
       "\n",
       "       [[ 8,  9, 10, 11],\n",
       "        [12, 13, 14, 15]]])"
      ]
     },
     "execution_count": 14,
     "metadata": {},
     "output_type": "execute_result"
    }
   ],
   "source": [
    "arr_transpose_axes = np.arange(16).reshape((2, 2, 4))\n",
    "arr_transpose_axes"
   ]
  },
  {
   "cell_type": "code",
   "execution_count": null,
   "id": "58544e1f",
   "metadata": {},
   "outputs": [],
   "source": [
    "arr_transpose_axes.transpose((1, 0, 2)) # Hoán đổi trục 0 và trục 1"
   ]
  },
  {
   "cell_type": "markdown",
   "id": "69bcc922",
   "metadata": {},
   "source": [
    "Ở đây, các trục đã được sắp xếp lại với trục thứ hai là trục đầu tiên, trục đầu tiên là trục thứ hai và trục cuối cùng không thay đổi.\n",
    "\n",
    "Chỉ số đơn giản bằng `arr[i]` sẽ chọn dữ liệu dọc theo trục 0. Để chọn dữ liệu dọc theo các trục khác, bạn có thể cần phải thực hiện một số định hình lại hoặc chuyển vị. Các mảng `ndarray` có một phương thức `swapaxes` nhận một cặp số trục và chuyển đổi các trục được chỉ định để sắp xếp lại dữ liệu:"
   ]
  },
  {
   "cell_type": "code",
   "execution_count": null,
   "id": "28219e46",
   "metadata": {},
   "outputs": [],
   "source": [
    "arr_transpose_axes # arr_transpose_axes từ ô trên"
   ]
  },
  {
   "cell_type": "code",
   "execution_count": null,
   "id": "5263908e",
   "metadata": {},
   "outputs": [],
   "source": [
    "arr_transpose_axes.swapaxes(0, 1)"
   ]
  },
  {
   "cell_type": "markdown",
   "id": "587f7c02",
   "metadata": {},
   "source": [
    "`swapaxes` tương tự cũng trả về một khung hình trên dữ liệu mà không tạo bản sao."
   ]
  },
  {
   "cell_type": "markdown",
   "id": "c4a03e4a",
   "metadata": {},
   "source": [
    "## Hàm xử lý trên từng phần tử trong mảng\n",
    "\n",
    "Các hàm được gọi là **universal funciton**, hay viết tắt là *ufunc*, là các hàm thực hiện các phép toán theo từng phần tử trên dữ liệu trong `ndarray`. *ufunc* có đặc điểm là được tối ưu hóa để xử lý phần tử theo từng phần tử với hiệu suất cao và hỗ trợ broadcasting, vector hóa, và multidimensional arrays.\n",
    "\n",
    "Nhiều ufunc rất đơn giản, thực hiện theo từng phần tử, như `np.sqrt` hoặc `np.exp`:"
   ]
  },
  {
   "cell_type": "code",
   "execution_count": 15,
   "id": "071e1955",
   "metadata": {},
   "outputs": [
    {
     "data": {
      "text/plain": [
       "array([0, 1, 2, 3, 4, 5, 6, 7, 8, 9])"
      ]
     },
     "execution_count": 15,
     "metadata": {},
     "output_type": "execute_result"
    }
   ],
   "source": [
    "arr_ufunc = np.arange(10)\n",
    "arr_ufunc"
   ]
  },
  {
   "cell_type": "code",
   "execution_count": 16,
   "id": "12116117",
   "metadata": {},
   "outputs": [
    {
     "data": {
      "text/plain": [
       "array([0.        , 1.        , 1.41421356, 1.73205081, 2.        ,\n",
       "       2.23606798, 2.44948974, 2.64575131, 2.82842712, 3.        ])"
      ]
     },
     "execution_count": 16,
     "metadata": {},
     "output_type": "execute_result"
    }
   ],
   "source": [
    "np.sqrt(arr_ufunc)"
   ]
  },
  {
   "cell_type": "code",
   "execution_count": 17,
   "id": "0ea0455a",
   "metadata": {},
   "outputs": [
    {
     "data": {
      "text/plain": [
       "array([1.00000000e+00, 2.71828183e+00, 7.38905610e+00, 2.00855369e+01,\n",
       "       5.45981500e+01, 1.48413159e+02, 4.03428793e+02, 1.09663316e+03,\n",
       "       2.98095799e+03, 8.10308393e+03])"
      ]
     },
     "execution_count": 17,
     "metadata": {},
     "output_type": "execute_result"
    }
   ],
   "source": [
    "np.exp(arr_ufunc)"
   ]
  },
  {
   "cell_type": "markdown",
   "id": "04dda200",
   "metadata": {},
   "source": [
    "Những hàm như `np.sqrt` hay `np.exp` được gọi là các *unary ufuncs*, nghĩa là chỉ thực hiện tính toán trên từng phần tử của một mảng. Những hàm khác, chẳng hạn như `np.add` hoặc `np.maximum`, nhận hai mảng và trả về một mảng duy nhất làm kết quả. Các hàm này được gọi là *binary ufunc*"
   ]
  },
  {
   "cell_type": "code",
   "execution_count": null,
   "id": "bfe3bbe4",
   "metadata": {},
   "outputs": [],
   "source": [
    "x_ufunc = np.random.standard_normal(8)\n",
    "y_ufunc = np.random.standard_normal(8)\n",
    "x_ufunc"
   ]
  },
  {
   "cell_type": "code",
   "execution_count": null,
   "id": "5deebff2",
   "metadata": {},
   "outputs": [],
   "source": [
    "y_ufunc"
   ]
  },
  {
   "cell_type": "code",
   "execution_count": null,
   "id": "21f25f96",
   "metadata": {},
   "outputs": [],
   "source": [
    "np.maximum(x_ufunc, y_ufunc)"
   ]
  },
  {
   "cell_type": "markdown",
   "id": "e55d18b6",
   "metadata": {},
   "source": [
    "Ở trên, `np.maximum` đã tính toán giá trị lớn nhất theo từng phần tử trong `x_ufunc` và `y_ufunc`.\n",
    "\n",
    "Trong khi không phổ biến, một ufunc có thể trả về nhiều mảng. `np.modf` là một ví dụ: một ufunc đơn phân trả về phần thập phân và phần nguyên của một mảng chứa số thực dấu phẩy động:"
   ]
  },
  {
   "cell_type": "code",
   "execution_count": 18,
   "id": "5b11bdf5",
   "metadata": {},
   "outputs": [
    {
     "data": {
      "text/plain": [
       "array([  7.94970435,  -2.12568793,  -3.47077194,  -2.90469311,\n",
       "         0.21465915, -11.93256917,  -3.02877849])"
      ]
     },
     "execution_count": 18,
     "metadata": {},
     "output_type": "execute_result"
    }
   ],
   "source": [
    "arr_modf = np.random.standard_normal(7) * 5\n",
    "arr_modf"
   ]
  },
  {
   "cell_type": "code",
   "execution_count": 19,
   "id": "b92710cb",
   "metadata": {},
   "outputs": [
    {
     "data": {
      "text/plain": [
       "array([ 0.94970435, -0.12568793, -0.47077194, -0.90469311,  0.21465915,\n",
       "       -0.93256917, -0.02877849])"
      ]
     },
     "execution_count": 19,
     "metadata": {},
     "output_type": "execute_result"
    }
   ],
   "source": [
    "remainder, whole_part = np.modf(arr_modf)\n",
    "remainder"
   ]
  },
  {
   "cell_type": "code",
   "execution_count": 20,
   "id": "67d4fbe2",
   "metadata": {},
   "outputs": [
    {
     "data": {
      "text/plain": [
       "array([  7.,  -2.,  -3.,  -2.,   0., -11.,  -3.])"
      ]
     },
     "execution_count": 20,
     "metadata": {},
     "output_type": "execute_result"
    }
   ],
   "source": [
    "whole_part"
   ]
  },
  {
   "cell_type": "markdown",
   "id": "f0ca1f2e",
   "metadata": {},
   "source": [
    "Ufunc chấp nhận một đối số `out` tùy chọn cho phép chúng hoạt động tại chỗ trên các mảng:"
   ]
  },
  {
   "cell_type": "code",
   "execution_count": 21,
   "id": "b7dfa2da",
   "metadata": {},
   "outputs": [
    {
     "data": {
      "text/plain": [
       "array([  7.94970435,  -2.12568793,  -3.47077194,  -2.90469311,\n",
       "         0.21465915, -11.93256917,  -3.02877849])"
      ]
     },
     "execution_count": 21,
     "metadata": {},
     "output_type": "execute_result"
    }
   ],
   "source": [
    "arr_modf # arr_modf từ ô trước"
   ]
  },
  {
   "cell_type": "code",
   "execution_count": 22,
   "id": "48aeaf24",
   "metadata": {},
   "outputs": [
    {
     "data": {
      "text/plain": [
       "array([  8.94970435,  -1.12568793,  -2.47077194,  -1.90469311,\n",
       "         1.21465915, -10.93256917,  -2.02877849])"
      ]
     },
     "execution_count": 22,
     "metadata": {},
     "output_type": "execute_result"
    }
   ],
   "source": [
    "out_arr = np.zeros_like(arr_modf)\n",
    "np.add(arr_modf, 1, out=out_arr) # out_arr += arr + 1, không tạo mảng mới\n",
    "out_arr"
   ]
  },
  {
   "cell_type": "markdown",
   "id": "4e0c0cc8",
   "metadata": {},
   "source": [
    "Các bảng ... và ... liệt kê các unary ufunc và binary ufunc thường dùng trong NumPy. Một số trong số này sẽ được sử dụng trong các ví dụ trong suốt cuốn sách.\n",
    "\n",
    "**Bảng ... một số unary ufunc**\n",
    "\n",
    "| Hàm | Mô tả |\n",
    "|---|---|\n",
    "| `abs`, `fabs` | Tính giá trị tuyệt đối theo từng phần tử cho số nguyên, số thực dấu phẩy động hoặc số phức. Sử dụng `fabs` cho dữ liệu số thực dấu phẩy động không phức (trả về một mảng số thực dấu phẩy động). |\n",
    "| `sqrt` | Tính căn bậc hai theo từng phần tử. Tương đương với `arr ** 0.5`. |\n",
    "| `square` | Tính bình phương theo từng phần tử. Tương đương với `arr ** 2`. |\n",
    "| `exp` | Tính lũy thừa e^x theo từng phần tử. |\n",
    "| `log`, `log10`, `log2`, `log1p` | Logarit tự nhiên (cơ số e), logarit cơ số 10, logarit cơ số 2, và log(1 + x) tương ứng. |\n",
    "| `sign` | Tính dấu của mỗi phần tử: 1 (dương), 0 (zero), hoặc –1 (âm). |\n",
    "| `ceil` | Tính trần theo từng phần tử (giá trị nguyên nhỏ nhất lớn hơn hoặc bằng mỗi phần tử). |\n",
    "| `floor` | Tính sàn theo từng phần tử (giá trị nguyên lớn nhất nhỏ hơn hoặc bằng mỗi phần tử). |\n",
    "| `rint` | Làm tròn các phần tử đến số nguyên gần nhất, giữ nguyên `dtype`. |\n",
    "| `modf` | Trả về phần phân số và phần nguyên của mảng dưới dạng các mảng riêng biệt. |\n",
    "| `isnan` | Trả về một mảng boolean cho biết mỗi giá trị có phải là `NaN` (Not a Number) hay không. |\n",
    "| `isfinite`, `isinf` | Trả về các mảng boolean cho biết mỗi phần tử có hữu hạn (không-`inf`, không-`NaN`) hoặc vô hạn tương ứng. |\n",
    "| `cos`, `cosh`, `sin`, `sinh`, `tan`, `tanh` | Các hàm lượng giác thông thường và các hàm hypebolic tương ứng. |\n",
    "| `arccos`, `arccosh`, `arcsin`, `arcsinh`, `arctan`, `arctanh` | Các hàm lượng giác nghịch đảo. |\n",
    "| `logical_not` | Tính giá trị chân lý của `not x` theo từng phần tử. Tương đương với `~arr`. |\n",
    "\n",
    "**Bảng ... một số binary ufunc**\n",
    "\n",
    "| Hàm | Mô tả |\n",
    "|---|---|\n",
    "| `add` | Cộng các phần tử tương ứng trong các mảng. |\n",
    "| `subtract` | Trừ các phần tử trong mảng thứ hai khỏi mảng thứ nhất, theo từng phần tử. |\n",
    "| `multiply` | Nhân các phần tử của mảng, theo từng phần tử. |\n",
    "| `divide`, `floor_divide` | Chia hoặc chia lấy phần nguyên (làm tròn xuống). |\n",
    "| `power` | Nâng các phần tử trong mảng thứ nhất lên lũy thừa của các phần tử tương ứng trong mảng thứ hai, theo từng phần tử. |\n",
    "| `maximum`, `fmax` | Tối đa theo từng phần tử. `fmax` bỏ qua `NaN`. |\n",
    "| `minimum`, `fmin` | Tối thiểu theo từng phần tử. `fmin` bỏ qua `NaN`. |\n",
    "| `mod` | Phần dư theo từng phần tử (tương đương với toán tử `%` của Python). |\n",
    "| `copysign` | Sao chép dấu của các giá trị trong mảng thứ hai vào các giá trị trong mảng thứ nhất, theo từng phần tử. |\n",
    "| `greater`, `greater_equal`, `less`, `less_equal`, `equal`, `not_equal` | Thực hiện các phép so sánh theo từng phần tử, tạo ra một mảng boolean. Tương đương với các toán tử infix như `>` , `>=` , `==` , v.v. |\n",
    "| `logical_and`, `logical_or`, `logical_xor` | Thực hiện các phép toán logic AND, OR, và XOR theo từng phần tử. Tương đương với các toán tử infix `&`, `|`, `^`. |"
   ]
  },
  {
   "cell_type": "markdown",
   "id": "d96faf18-9dbd-4871-abf0-190c5a3076ae",
   "metadata": {},
   "source": [
    "## Xử lý dữ liệu dựa trên mảng Numpy\n",
    "<hr>"
   ]
  },
  {
   "cell_type": "markdown",
   "id": "4067dc76",
   "metadata": {},
   "source": [
    "Việc sử dụng các mảng NumPy (*NumPy arrays*) cho phép biểu diễn nhiều tác vụ xử lý dữ liệu dưới dạng các biểu thức mảng ngắn gọn và hiệu quả, vốn dĩ trong các ngôn ngữ lập trình thông thường thường phải triển khai thông qua các vòng lặp. Kỹ thuật chuyển đổi các thuật toán xử lý từng phần tử riêng lẻ sang các phép toán mảng toàn cục được gọi là **vector hóa** (*vectorization*).\n",
    "\n",
    "Xét về hiệu năng, các phép toán đã được vector hóa trong NumPy thường cho tốc độ thực thi cao hơn đáng kể so với các phép toán tương đương được viết bằng Python thuần túy, do tận dụng được các tối ưu hóa ở mức thấp và loại bỏ chi phí lặp lại không cần thiết.\n",
    "\n",
    "Ví dụ dưới đây minh họa cách sử dụng NumPy để đánh giá biểu thức hàm số:\n",
    "\n",
    "\\[\n",
    "f(x, y) = \\sqrt{x^2 + y^2}\n",
    "\\]\n",
    "\n",
    "trên một lưới điểm đều nhau trong mặt phẳng. Hàm `np.meshgrid` nhận vào hai mảng một chiều và tạo ra hai mảng hai chiều biểu diễn toàn bộ các cặp giá trị \\((x, y)\\) có thể hình thành từ các phần tử trong hai mảng đầu vào đó:"
   ]
  },
  {
   "cell_type": "code",
   "execution_count": 23,
   "id": "2d494fdd",
   "metadata": {},
   "outputs": [
    {
     "data": {
      "text/plain": [
       "array([[-5.  , -5.  , -5.  , ..., -5.  , -5.  , -5.  ],\n",
       "       [-4.99, -4.99, -4.99, ..., -4.99, -4.99, -4.99],\n",
       "       [-4.98, -4.98, -4.98, ..., -4.98, -4.98, -4.98],\n",
       "       ...,\n",
       "       [ 4.97,  4.97,  4.97, ...,  4.97,  4.97,  4.97],\n",
       "       [ 4.98,  4.98,  4.98, ...,  4.98,  4.98,  4.98],\n",
       "       [ 4.99,  4.99,  4.99, ...,  4.99,  4.99,  4.99]],\n",
       "      shape=(1000, 1000))"
      ]
     },
     "execution_count": 23,
     "metadata": {},
     "output_type": "execute_result"
    }
   ],
   "source": [
    "points = np.arange(-5, 5, 0.01) # 1000 điểm cách đều nhau\n",
    "xs, ys = np.meshgrid(points, points)\n",
    "ys"
   ]
  },
  {
   "cell_type": "markdown",
   "id": "701d40b1",
   "metadata": {},
   "source": [
    "Bây giờ, việc đánh giá hàm chỉ đơn giản là vấn đề viết cùng một biểu thức như bạn sẽ viết với hai điểm:"
   ]
  },
  {
   "cell_type": "code",
   "execution_count": 24,
   "id": "897be899",
   "metadata": {},
   "outputs": [
    {
     "data": {
      "text/plain": [
       "array([[7.07106781, 7.06400028, 7.05693985, ..., 7.04988652, 7.05693985,\n",
       "        7.06400028],\n",
       "       [7.06400028, 7.05692568, 7.04985815, ..., 7.04279774, 7.04985815,\n",
       "        7.05692568],\n",
       "       [7.05693985, 7.04985815, 7.04278354, ..., 7.03571603, 7.04278354,\n",
       "        7.04985815],\n",
       "       ...,\n",
       "       [7.04988652, 7.04279774, 7.03571603, ..., 7.0286414 , 7.03571603,\n",
       "        7.04279774],\n",
       "       [7.05693985, 7.04985815, 7.04278354, ..., 7.03571603, 7.04278354,\n",
       "        7.04985815],\n",
       "       [7.06400028, 7.05692568, 7.04985815, ..., 7.04279774, 7.04985815,\n",
       "        7.05692568]], shape=(1000, 1000))"
      ]
     },
     "execution_count": 24,
     "metadata": {},
     "output_type": "execute_result"
    }
   ],
   "source": [
    "z = np.sqrt(xs ** 2 + ys ** 2)\n",
    "z"
   ]
  },
  {
   "cell_type": "code",
   "execution_count": null,
   "id": "c35966dd-8eef-49df-9d7e-df6000fbfc7c",
   "metadata": {},
   "outputs": [],
   "source": [
    "Có thể thấy rằng mảng được hình thành có kích thước `1000 * 1000` tương ứng với từng phần tử của `xs` tương tác với từng phần tử của `ys`."
   ]
  },
  {
   "cell_type": "markdown",
   "id": "122d3f17-14e4-4830-848b-0391aeb1036e",
   "metadata": {},
   "source": [
    "### Biểu thức điều kiện với mảng logical\n",
    "<hr>"
   ]
  },
  {
   "cell_type": "markdown",
   "id": "1f918ee9",
   "metadata": {},
   "source": [
    "Hàm `numpy.where` là một phiên bản vector hóa của biểu thức `x if condition else y`. Giả sử chúng ta có hai mảng các giá trị và một mảng kiểu logical:"
   ]
  },
  {
   "cell_type": "code",
   "execution_count": null,
   "id": "0b8ebc0c",
   "metadata": {},
   "outputs": [],
   "source": [
    "xarr = np.array([1.1, 1.2, 1.3, 1.4, 1.5])\n",
    "yarr = np.array([2.1, 2.2, 2.3, 2.4, 2.5])\n",
    "cond_where = np.array([True, False, True, True, False])"
   ]
  },
  {
   "cell_type": "markdown",
   "id": "b002692d",
   "metadata": {},
   "source": [
    "Giả sử chúng ta muốn lấy một giá trị từ `xarr` bất cứ khi nào giá trị tương ứng trong `cond_where` là `True` và nếu không thì lấy giá trị từ `yarr`. Một phương pháp để thực hiện việc này là dùng vòng lặp như sau:"
   ]
  },
  {
   "cell_type": "code",
   "execution_count": null,
   "id": "96f77f94",
   "metadata": {},
   "outputs": [],
   "source": [
    "result_lc = [(x if c else y)\n",
    "             for x, y, c in zip(xarr, yarr, cond_where)]\n",
    "result_lc"
   ]
  },
  {
   "cell_type": "markdown",
   "id": "b1fe5936",
   "metadata": {},
   "source": [
    "Mặc dù kết quả không sai, nhưng sẽ có nhiều vấn đề. Thứ nhất, tốc độ thực hiện sẽ chậm đặc biệt là khi làm việc với các mảng lớn. Thứ hai, sẽ cần nhiều vòng lặp để thực hiện trên các mảng nhiều chiều. Một cách hiệu quả để thực hiện việc này là dùng `np.where`. Câu lệnh sẽ ngắn gọn như sau:"
   ]
  },
  {
   "cell_type": "code",
   "execution_count": null,
   "id": "1ff08250",
   "metadata": {},
   "outputs": [],
   "source": [
    "result_where = np.where(cond_where, xarr, yarr)\n",
    "result_where"
   ]
  },
  {
   "cell_type": "markdown",
   "id": "e725b48e",
   "metadata": {},
   "source": [
    "Các tham số thứ hai và thứ ba trong `np.where` không nhất thiết phải là mảng; một hoặc cả hai tham số có thể là các giá trị đơn lẻ. \n",
    "\n",
    "Một công dụng điển hình của `where` trong phân tích dữ liệu là tạo ra một mảng mới các giá trị dựa trên một mảng khác. Giả sử bạn có một ma trận dữ liệu được tạo ngẫu nhiên và bạn muốn thay thế tất cả các giá trị dương bằng số 2 và tất cả các giá trị âm bằng số –2. Điều này rất dễ thực hiện với `np.where`:"
   ]
  },
  {
   "cell_type": "code",
   "execution_count": null,
   "id": "799cfab2",
   "metadata": {},
   "outputs": [],
   "source": [
    "arr_rand_where = np.random.standard_normal((4, 4))\n",
    "arr_rand_where"
   ]
  },
  {
   "cell_type": "code",
   "execution_count": null,
   "id": "c8ba758d",
   "metadata": {},
   "outputs": [],
   "source": [
    "np.where(arr_rand_where > 0, 2, -2)"
   ]
  },
  {
   "cell_type": "markdown",
   "id": "7b1242e1",
   "metadata": {},
   "source": [
    "Bạn có thể kết hợp mảng với các giá trị riêng lẻ khi sử dụng `np.where`. Ví dụ, chúng ta có thể đặt tất cả các giá trị dương trong `arr_rand_where` thành 2 như sau:"
   ]
  },
  {
   "cell_type": "code",
   "execution_count": null,
   "id": "162316f2",
   "metadata": {},
   "outputs": [],
   "source": [
    "np.where(arr_rand_where > 0, 2, arr_rand_where) # đặt chỉ các giá trị dương thành 2"
   ]
  },
  {
   "cell_type": "markdown",
   "id": "4725acc5",
   "metadata": {},
   "source": [
    "Các mảng được sử dụng làm tham số thứ hai và thứ ba của `where` không nhất thiết phải có cùng `shape`, nhưng chúng phải có thể *lan truyền* đến một `shape` chung. Chúng ta sẽ thảo luận chi tiết hơn về các quy tắc lan truyền trong các phần tiếp theo. Mặc dù `where` không bị giới hạn ở việc sử dụng trên các mảng kiểu logical, nhưng hàm này đặc biệt hữu ích cho việc đó."
   ]
  },
  {
   "cell_type": "markdown",
   "id": "26f68c02-e2b0-4636-98b0-68a36e8057e1",
   "metadata": {},
   "source": [
    "### Các phương thức thống kê toán học\n",
    "<hr>"
   ]
  },
  {
   "cell_type": "markdown",
   "id": "09ab0aae",
   "metadata": {},
   "source": [
    "NumPy cung cấp một tập hợp phong phú các hàm toán học để tính toán các thống kê tổng hợp trên toàn bộ mảng hoặc dọc theo các trục cụ thể. Các phép toán này thường được gọi là phép toán tổng hợp (reductions) và có thể được truy cập thông qua hai cách: (i) dưới dạng phương thức (method) của đối tượng mảng, hoặc (ii) thông qua các hàm cấp cao (top-level functions) trong gói NumPy.\n",
    "\n",
    "Các hàm phổ biến bao gồm sum (tổng), mean (trung bình), std (độ lệch chuẩn), min (giá trị nhỏ nhất), và max (giá trị lớn nhất). Khi sử dụng hàm cấp cao của NumPy, mảng dữ liệu cần được truyền vào như một tham số đầu tiên. Ngược lại, khi gọi phương thức trực tiếp từ đối tượng mảng, dữ liệu gốc đã được định nghĩa sẵn nên không cần truyền lại.\n",
    "\n",
    "Ví dụ dưới đây tạo một mảng hai chiều gồm các giá trị ngẫu nhiên từ phân phối chuẩn chuẩn hóa (phân phối Gauss với kỳ vọng bằng 0 và độ lệch chuẩn bằng 1), và thực hiện một số phép tính tổng hợp:"
   ]
  },
  {
   "cell_type": "code",
   "execution_count": null,
   "id": "d04f0409",
   "metadata": {},
   "outputs": [],
   "source": [
    "arr_stats = np.random.standard_normal((5, 4))\n",
    "arr_stats"
   ]
  },
  {
   "cell_type": "code",
   "execution_count": null,
   "id": "6b0f74c7",
   "metadata": {},
   "outputs": [],
   "source": [
    "arr_stats.mean()"
   ]
  },
  {
   "cell_type": "code",
   "execution_count": null,
   "id": "75adf242",
   "metadata": {},
   "outputs": [],
   "source": [
    "np.mean(arr_stats)"
   ]
  },
  {
   "cell_type": "code",
   "execution_count": null,
   "id": "48641659",
   "metadata": {},
   "outputs": [],
   "source": [
    "arr_stats.sum()"
   ]
  },
  {
   "cell_type": "markdown",
   "id": "d1ced28c",
   "metadata": {},
   "source": [
    "Các hàm như `mean` và `sum` nhận một tham số `axis` tùy chọn để tính toán thống kê trên trục được chỉ định, dẫn đến một mảng có ít hơn một chiều:"
   ]
  },
  {
   "cell_type": "code",
   "execution_count": null,
   "id": "e64398cc",
   "metadata": {},
   "outputs": [],
   "source": [
    "arr_stats.mean(axis=1)"
   ]
  },
  {
   "cell_type": "code",
   "execution_count": null,
   "id": "f1891c50",
   "metadata": {},
   "outputs": [],
   "source": [
    "arr_stats.sum(axis=0)"
   ]
  },
  {
   "cell_type": "markdown",
   "id": "c92a9263",
   "metadata": {},
   "source": [
    "Ở đây, `arr_stats.mean(axis=1)` có thể hiểu là \"tính trung bình trên các cột\" và `arr_stats.sum(axis=0)` có thể hiểu là \"tính tổng trên các hàng\". Các phương thức khác như `cumsum` và `cumprod` không tổng hợp, thay vào đó tạo ra một mảng các kết quả trung gian:"
   ]
  },
  {
   "cell_type": "code",
   "execution_count": null,
   "id": "ac38c97c",
   "metadata": {},
   "outputs": [],
   "source": [
    "arr_cumsum = np.array([0, 1, 2, 3, 4, 5, 6, 7])\n",
    "arr_cumsum.cumsum()"
   ]
  },
  {
   "cell_type": "markdown",
   "id": "3f70c6cd",
   "metadata": {},
   "source": [
    "Trong các mảng nhiều chiều, các hàm tích lũy như `cumsum` trả về một mảng có cùng kích thước nhưng với các tổng hoặc tích một phần được tính toán dọc theo trục được chỉ định theo các phần tử \"thấp hơn\":"
   ]
  },
  {
   "cell_type": "code",
   "execution_count": 26,
   "id": "6632c9bd",
   "metadata": {},
   "outputs": [
    {
     "data": {
      "text/plain": [
       "array([[0, 1, 2],\n",
       "       [3, 4, 5],\n",
       "       [6, 7, 8]])"
      ]
     },
     "execution_count": 26,
     "metadata": {},
     "output_type": "execute_result"
    }
   ],
   "source": [
    "arr_cumsum_2d = np.array([[0, 1, 2], [3, 4, 5], [6, 7, 8]])\n",
    "arr_cumsum_2d"
   ]
  },
  {
   "cell_type": "code",
   "execution_count": 27,
   "id": "5ce4e5fa",
   "metadata": {},
   "outputs": [
    {
     "data": {
      "text/plain": [
       "array([[ 0,  1,  2],\n",
       "       [ 3,  5,  7],\n",
       "       [ 9, 12, 15]])"
      ]
     },
     "execution_count": 27,
     "metadata": {},
     "output_type": "execute_result"
    }
   ],
   "source": [
    "arr_cumsum_2d.cumsum(axis=0)"
   ]
  },
  {
   "cell_type": "code",
   "execution_count": null,
   "id": "fdfe05ea",
   "metadata": {},
   "outputs": [],
   "source": [
    "arr_cumsum_2d.cumsum(axis=1)"
   ]
  },
  {
   "cell_type": "markdown",
   "id": "3c3d733a",
   "metadata": {},
   "source": [
    "Bảng ... cung cấp một danh sách các phương thức tổng hợp và thống kê mảng có sẵn. Chúng ta sẽ xem xét nhiều phương thức này chi tiết hơn trong các chương sau.\n",
    "\n",
    "**Bảng ... các phương thức thống kê mảng cơ bản**\n",
    "\n",
    "| Phương thức | Mô tả |\n",
    "|---|---|\n",
    "| `sum` | Tổng của tất cả các phần tử trong mảng hoặc dọc theo một trục. Các mảng có kích thước zero có tổng là 0. |\n",
    "| `mean` | Trung bình số học. Các mảng có kích thước zero có `NaN` làm trung bình. |\n",
    "| `std`, `var` | Độ lệch chuẩn và phương sai, tương ứng, với khả năng điều chỉnh bậc tự do của mẫu số. |\n",
    "| `min`, `max` | Giá trị tối thiểu và tối đa. |\n",
    "| `argmin`, `argmax` | Chỉ mục của các phần tử tối thiểu và tối đa, tương ứng. |\n",
    "| `cumsum` | Tổng tích lũy của các phần tử bắt đầu từ 0. |\n",
    "| `cumprod` | Tích tích lũy của các phần tử bắt đầu từ 1. |"
   ]
  },
  {
   "cell_type": "code",
   "execution_count": null,
   "id": "52d04edd-1df8-4889-a37b-7b915c445ff7",
   "metadata": {},
   "outputs": [],
   "source": [
    "### Các phương thức cho mảng kiểu logical\n",
    "<hr>"
   ]
  },
  {
   "cell_type": "markdown",
   "id": "4d056c6e",
   "metadata": {},
   "source": [
    "Các giá trị kiểu logical sẽ được biến đổi thành 1 (`True`) và 0 (`False`) trong các phương thức trước đó. Do đó, `sum` thường được sử dụng như một phương tiện để đếm các giá trị `True` trong một mảng kiểu logical:"
   ]
  },
  {
   "cell_type": "code",
   "execution_count": null,
   "id": "4af58b96",
   "metadata": {},
   "outputs": [],
   "source": [
    "arr_bool_sum = np.random.standard_normal(100)\n",
    "(arr_bool_sum > 0).sum() # Số lượng các giá trị dương"
   ]
  },
  {
   "cell_type": "code",
   "execution_count": null,
   "id": "7c8ab9f9",
   "metadata": {},
   "outputs": [],
   "source": [
    "(arr_bool_sum <= 0).sum() # Số lượng các giá trị không dương"
   ]
  },
  {
   "cell_type": "markdown",
   "id": "e44e12fe",
   "metadata": {},
   "source": [
    "Có hai phương thức khác, bao gồm `any` và `all`, đặc biệt hữu ích cho các mảng kiểu logical. \n",
    "\n",
    "- `any` kiểm tra xem có ít nhất một giá trị `True` trong mảng hay không.\n",
    "- `all` kiểm tra xem mọi giá trị có phải là `True` hay không:"
   ]
  },
  {
   "cell_type": "code",
   "execution_count": null,
   "id": "42cf46ba",
   "metadata": {},
   "outputs": [],
   "source": [
    "bools = np.array([False, False, True, False])\n",
    "bools.any()"
   ]
  },
  {
   "cell_type": "code",
   "execution_count": null,
   "id": "341f7348",
   "metadata": {},
   "outputs": [],
   "source": [
    "bools.all()"
   ]
  },
  {
   "cell_type": "markdown",
   "id": "7333e25b",
   "metadata": {},
   "source": [
    "Các phương thức này cũng hoạt động với các mảng không phải kiểu logical. Nguyên tắc là các giá trị sẽ được biến đổi về kiểu logical trước khi các phương thức được gọi. Bạn đọc tham khảo cách biến đổi các giá trị thành logical ở phần trên."
   ]
  },
  {
   "cell_type": "code",
   "execution_count": null,
   "id": "ff042298-fc1f-4697-bce7-fdf3fb7667bd",
   "metadata": {},
   "outputs": [],
   "source": [
    "### Sắp xếp giá trị trong mảng Numpy\n",
    "<hr>"
   ]
  },
  {
   "cell_type": "markdown",
   "id": "f2339f12",
   "metadata": {},
   "source": [
    "Giống như kiểu danh sách tích hợp sẵn của Python, các mảng Numpy có thể được sắp xếp tại chỗ bằng phương thức `sort`:"
   ]
  },
  {
   "cell_type": "code",
   "execution_count": null,
   "id": "45f36a33",
   "metadata": {},
   "outputs": [],
   "source": [
    "arr_sort = np.random.standard_normal(6)\n",
    "arr_sort"
   ]
  },
  {
   "cell_type": "code",
   "execution_count": null,
   "id": "21b617fc",
   "metadata": {},
   "outputs": [],
   "source": [
    "arr_sort.sort()\n",
    "arr_sort"
   ]
  },
  {
   "cell_type": "markdown",
   "id": "7179a36a",
   "metadata": {},
   "source": [
    "Bạn đọc cũng có thể sắp xếp mỗi thành phần của một mảng nhiều chiều dọc theo một trục bằng cách truyền số trục cho `sort`:"
   ]
  },
  {
   "cell_type": "code",
   "execution_count": 28,
   "id": "0279d083",
   "metadata": {},
   "outputs": [
    {
     "data": {
      "text/plain": [
       "array([[-0.96248719, -1.02599251, -0.24977692],\n",
       "       [ 0.61971614, -0.37657236,  0.98163527],\n",
       "       [ 0.51902348,  0.01875717,  0.13542396],\n",
       "       [-0.1436972 ,  0.43719963,  1.27441518],\n",
       "       [ 0.23134265, -1.97811727, -0.52349906]])"
      ]
     },
     "execution_count": 28,
     "metadata": {},
     "output_type": "execute_result"
    }
   ],
   "source": [
    "arr_sort_2d = np.random.standard_normal((5, 3))\n",
    "arr_sort_2d"
   ]
  },
  {
   "cell_type": "code",
   "execution_count": 29,
   "id": "9a30daab",
   "metadata": {},
   "outputs": [
    {
     "data": {
      "text/plain": [
       "array([[-0.96248719, -1.97811727, -0.52349906],\n",
       "       [-0.1436972 , -1.02599251, -0.24977692],\n",
       "       [ 0.23134265, -0.37657236,  0.13542396],\n",
       "       [ 0.51902348,  0.01875717,  0.98163527],\n",
       "       [ 0.61971614,  0.43719963,  1.27441518]])"
      ]
     },
     "execution_count": 29,
     "metadata": {},
     "output_type": "execute_result"
    }
   ],
   "source": [
    "arr_sort_2d_copy = arr_sort_2d.copy()\n",
    "arr_sort_2d_copy.sort(axis=0) # Sắp xếp các cột\n",
    "arr_sort_2d_copy"
   ]
  },
  {
   "cell_type": "code",
   "execution_count": 30,
   "id": "9dd6ba25",
   "metadata": {},
   "outputs": [
    {
     "data": {
      "text/plain": [
       "array([[-1.02599251, -0.96248719, -0.24977692],\n",
       "       [-0.37657236,  0.61971614,  0.98163527],\n",
       "       [ 0.01875717,  0.13542396,  0.51902348],\n",
       "       [-0.1436972 ,  0.43719963,  1.27441518],\n",
       "       [-1.97811727, -0.52349906,  0.23134265]])"
      ]
     },
     "execution_count": 30,
     "metadata": {},
     "output_type": "execute_result"
    }
   ],
   "source": [
    "arr_sort_2d_copy_2 = arr_sort_2d.copy()\n",
    "arr_sort_2d_copy_2.sort(axis=1) # Sắp xếp các hàng\n",
    "arr_sort_2d_copy_2"
   ]
  },
  {
   "cell_type": "markdown",
   "id": "51149fa1",
   "metadata": {},
   "source": [
    "Hàm `np.sort` trả về một bản sao đã sắp xếp của một mảng thay vì sửa đổi mảng tại chỗ. \n",
    "\n",
    "Một cách nhanh chóng và hiệu quả để tính toán các phân vị của một mảng là sắp xếp nó và chọn giá trị tại một hạng cụ thể. Ví dụ:"
   ]
  },
  {
   "cell_type": "code",
   "execution_count": null,
   "id": "0edf87e7",
   "metadata": {},
   "outputs": [],
   "source": [
    "large_arr_sort = np.random.standard_normal(1000)\n",
    "large_arr_sort.sort()\n",
    "large_arr_sort[int(0.05 * len(large_arr_sort))] # 5% quantile"
   ]
  },
  {
   "cell_type": "markdown",
   "id": "d2b737e0",
   "metadata": {},
   "source": [
    "Để biết thêm chi tiết về việc sử dụng các tính năng sắp xếp của NumPy, và các thuật toán nâng cao hơn như sắp xếp gián tiếp, sẽ được trình bày ở phần sau của sách. Một số hàm khác của NumPy liên quan đến sắp xếp, như `lexsort`, không được đề cập ở đây vì chúng ít được sử dụng trong phân tích dữ liệu."
   ]
  },
  {
   "cell_type": "markdown",
   "id": "f835ef2f-e758-41fa-8d97-1a2680121e1f",
   "metadata": {},
   "source": [
    "### Các phép toán cho tập hợp sử dụng trên mảng\n",
    "<hr>"
   ]
  },
  {
   "cell_type": "markdown",
   "id": "187632c2",
   "metadata": {},
   "source": [
    "NumPy có một số phép toán tập hợp cơ bản dành cho các mảng. Một hàm thường được sử dụng là `np.unique`, trả về các phần tử duy nhất **đã được sắp xếp** trong một mảng:"
   ]
  },
  {
   "cell_type": "code",
   "execution_count": 31,
   "id": "9928f63a",
   "metadata": {},
   "outputs": [
    {
     "data": {
      "text/plain": [
       "array(['Bob', 'Joe', 'Will'], dtype='<U4')"
      ]
     },
     "execution_count": 31,
     "metadata": {},
     "output_type": "execute_result"
    }
   ],
   "source": [
    "names_set = np.array([\"Bob\", \"Joe\", \"Will\", \"Bob\", \"Will\", \"Joe\", \"Joe\"])\n",
    "np.unique(names_set)"
   ]
  },
  {
   "cell_type": "code",
   "execution_count": 32,
   "id": "a3adb872",
   "metadata": {},
   "outputs": [
    {
     "data": {
      "text/plain": [
       "array([1, 2, 3, 4])"
      ]
     },
     "execution_count": 32,
     "metadata": {},
     "output_type": "execute_result"
    }
   ],
   "source": [
    "ints_set = np.array([3, 3, 3, 2, 2, 1, 1, 4, 4])\n",
    "np.unique(ints_set)"
   ]
  },
  {
   "cell_type": "markdown",
   "id": "54ebf42e",
   "metadata": {},
   "source": [
    "Bạn đọc có thể so sánh `np.unique` với các hàm tích hợp sẵn của Python:"
   ]
  },
  {
   "cell_type": "code",
   "execution_count": null,
   "id": "4bfba40a",
   "metadata": {},
   "outputs": [],
   "source": [
    "sorted(set(names_set))"
   ]
  },
  {
   "cell_type": "markdown",
   "id": "24008d28",
   "metadata": {},
   "source": [
    "Một hàm khác, `np.in1d`, dùng để kiểm tra nếu các giá trị trong một mảng trong một mảng khác, và giá trị trả về là một mảng kiểu logical:"
   ]
  },
  {
   "cell_type": "code",
   "execution_count": null,
   "id": "c1288b83",
   "metadata": {},
   "outputs": [],
   "source": [
    "values_set = np.array([6, 0, 0, 3, 2, 5, 6])\n",
    "np.in1d(values_set, [2, 3, 6])"
   ]
  },
  {
   "cell_type": "markdown",
   "id": "04e3464d",
   "metadata": {},
   "source": [
    "Xem Bảng ... để biết danh sách các hàm tập hợp của NumPy cho các mảng một chiều (`1D`).\n",
    "\n",
    "**Bảng ... Các phép toán tập hợp mảng**\n",
    "\n",
    "| Phương thức | Mô tả |\n",
    "|---|---|\n",
    "| `unique(x)` | Tính toán các phần tử duy nhất đã được sắp xếp trong `x`. |\n",
    "| `intersect1d(x, y)` | Tính toán các phần tử chung đã được sắp xếp trong `x` và `y`. |\n",
    "| `union1d(x, y)` | Tính toán hợp của các phần tử đã được sắp xếp. |\n",
    "| `in1d(x, y)` | Tính toán một mảng boolean cho biết liệu mỗi phần tử của `x` có chứa trong `y` hay không. |\n",
    "| `setdiff1d(x, y)` | Hiệu tập hợp; các phần tử trong `x` không có trong `y`. |\n",
    "| `setxor1d(x, y)` | Hiệu đối xứng tập hợp; các phần tử nằm trong một trong các mảng nhưng không nằm trong cả hai. |"
   ]
  },
  {
   "cell_type": "markdown",
   "id": "ed673e9e-c8dd-42b6-832f-55dc1113e037",
   "metadata": {},
   "source": [
    "## Nhập và xuất file với mảng Numpy\n",
    "<hr>"
   ]
  },
  {
   "cell_type": "markdown",
   "id": "c2530e42",
   "metadata": {},
   "source": [
    "Numpy có thể lưu và tải dữ liệu vào và từ đĩa ở định dạng văn bản hoặc nhị phân. Trong các phần sau, chúng ta sẽ thảo luận về các công cụ tích hợp sẵn của NumPy để đọc và ghi dữ liệu từ các mảng, nhưng hãy nhớ rằng pandas cung cấp nhiều hàm tuyệt vời để đọc các tệp văn bản hoặc dạng bảng vào các đối tượng `DataFrame`; những hàm đó sẽ được đề cập chi tiết hơn trong chương tiếp theo.\n",
    "\n",
    "Các mảng được lưu vào đĩa ở **định dạng nhị phân** bằng `np.save` và được load bằng `np.load`:"
   ]
  },
  {
   "cell_type": "code",
   "execution_count": 33,
   "id": "afe010ba",
   "metadata": {},
   "outputs": [],
   "source": [
    "arr_io = np.arange(10)\n",
    "np.save(\"some_array\", arr_io)"
   ]
  },
  {
   "cell_type": "markdown",
   "id": "7e113619",
   "metadata": {},
   "source": [
    "Nếu tên tệp chưa có phần mở rộng `.npy`, Python sẽ được tự động thêm vào khi lưu. Để tải dữ liệu mảng, chúng ta sử dụng `np.load`:"
   ]
  },
  {
   "cell_type": "code",
   "execution_count": 34,
   "id": "5d40620d",
   "metadata": {},
   "outputs": [
    {
     "data": {
      "text/plain": [
       "array([0, 1, 2, 3, 4, 5, 6, 7, 8, 9])"
      ]
     },
     "execution_count": 34,
     "metadata": {},
     "output_type": "execute_result"
    }
   ],
   "source": [
    "np.load(\"some_array.npy\")"
   ]
  },
  {
   "cell_type": "markdown",
   "id": "73de3584",
   "metadata": {},
   "source": [
    "Bạn đọc có thể lưu nhiều mảng trong một kho lưu trữ định dạng zip không nén bằng `np.savez` và truyền các mảng dưới dạng tham số như sau:"
   ]
  },
  {
   "cell_type": "code",
   "execution_count": 35,
   "id": "db211ce8",
   "metadata": {},
   "outputs": [],
   "source": [
    "np.savez(\"array_archive.npz\", a=arr_io, b=arr_io)"
   ]
  },
  {
   "cell_type": "markdown",
   "id": "66dd4580",
   "metadata": {},
   "source": [
    "Khi tải một tệp `.npz`, bạn đọc nhận được một đối tượng giống như từ điển và có thể gọi các mảng riêng lẻ bằng tham số đã khai báo lúc lưu:"
   ]
  },
  {
   "cell_type": "code",
   "execution_count": null,
   "id": "8873e597",
   "metadata": {},
   "outputs": [],
   "source": [
    "arch = np.load(\"array_archive.npz\")\n",
    "arch[\"b\"]"
   ]
  },
  {
   "cell_type": "code",
   "execution_count": null,
   "id": "5b8bd776-da15-4933-b6e5-eaf735eefe96",
   "metadata": {},
   "outputs": [],
   "source": [
    "### Lưu và tải tệp văn bản\n",
    "<hr>"
   ]
  },
  {
   "cell_type": "markdown",
   "id": "e7572a20",
   "metadata": {},
   "source": [
    "Việc tải dữ liệu văn bản từ các tệp có thể được thực hiện bằng các hàm như `np.loadtxt` hoặc hàm `np.genfromtxt` tổng quát hơn. Các hàm này có nhiều tùy chọn, nhưng cách sử dụng điển hình là tải các tệp văn bản được phân tách bằng dấu phân cách (như CSV). Hãy xem xét một tệp CSV như sau:\n",
    "\n",
    "```\n",
    "1,2,3,4,foo\n",
    "5,6,7,8,bar\n",
    "9,10,11,12,baz\n",
    "```\n",
    "\n",
    "Tệp này có thể được tải vào một mảng NumPy hai chiều như sau:"
   ]
  },
  {
   "cell_type": "code",
   "execution_count": null,
   "id": "26b15969",
   "metadata": {},
   "outputs": [],
   "source": [
    "# Để chạy ví dụ này, bạn cần tạo một file tên là array_ex.txt\n",
    "# với nội dung như sau:\n",
    "# 1,2,3,4, # Bỏ qua foo vì loadtxt mặc định chỉ đọc số\n",
    "# 5,6,7,8,\n",
    "# 9,10,11,12\n",
    "\n",
    "# with open(\"array_ex.txt\", \"w\") as f:\n",
    "#     f.write(\"1,2,3,4\\n\")\n",
    "#     f.write(\"5,6,7,8\\n\")\n",
    "#     f.write(\"9,10,11,12\\n\")\n",
    "\n",
    "# arr_loadtxt = np.loadtxt(\"array_ex.txt\", delimiter=\",\")\n",
    "# arr_loadtxt\n",
    "\n",
    "# np.savetxt(\"my_array_saved.csv\", arr_loadtxt, delimiter=\",\")"
   ]
  },
  {
   "cell_type": "markdown",
   "id": "0e5ebf44",
   "metadata": {},
   "source": [
    "`np.savetxt` thực hiện thao tác ngược lại: ghi một mảng vào một tệp văn bản được phân tách bằng dấu phân tách. Hàm `np.genfromtxt` tương tự như `np.loadtxt` nhưng hướng đến các mảng có cấu trúc và xử lý dữ liệu bị thiếu. Chúng ta sẽ không sử dụng các hàm này thường xuyên trong cuốn sách này, vì các công cụ của pandas để đọc các tệp văn bản, như `pandas.read_csv`, thường thuận tiện hơn. Đối với dữ liệu rất lớn, những hàm này có thể không đủ nhanh, vì vậy bạn có thể cần phải phát triển một trình phân tích tệp tùy chỉnh hoặc sử dụng một công cụ khác."
   ]
  },
  {
   "cell_type": "markdown",
   "id": "3d413d8c-47d0-49b3-94f9-59f42f6c2c70",
   "metadata": {},
   "source": [
    "## Các phép toán đại số tuyến tính\n",
    "<hr>"
   ]
  },
  {
   "cell_type": "markdown",
   "id": "74b0ab1d",
   "metadata": {},
   "source": [
    "Các phép toán đại số tuyến tính, như nhân ma trận, phân tích, định thức và các hàm toán học ma trận vuông khác, là một phần quan trọng các thư viện dành riêng cho tính toán mảng. Không giống như một số ngôn ngữ như MATLAB, việc nhân hai mảng hai chiều bằng `*` là một phép nhân theo từng phần tử thay vì một phép nhân ma trận. Do đó, hàm `dot`, cả dưới dạng một hàm trong không gian tên `numpy` và một phương thức `ndarray`, để thực hiện nhân ma trận:"
   ]
  },
  {
   "cell_type": "code",
   "execution_count": null,
   "id": "d153b975",
   "metadata": {},
   "outputs": [],
   "source": [
    "x_linalg = np.array([[1., 2., 3.], [4., 5., 6.]])\n",
    "y_linalg = np.array([[6., 23.], [-1, 7], [8, 9]])\n",
    "x_linalg"
   ]
  },
  {
   "cell_type": "code",
   "execution_count": null,
   "id": "3234bfa9",
   "metadata": {},
   "outputs": [],
   "source": [
    "y_linalg"
   ]
  },
  {
   "cell_type": "code",
   "execution_count": null,
   "id": "8e79a2fd",
   "metadata": {},
   "outputs": [],
   "source": [
    "x_linalg.dot(y_linalg)"
   ]
  },
  {
   "cell_type": "markdown",
   "id": "e61cdfc8",
   "metadata": {},
   "source": [
    "`x_linalg.dot(y_linalg)` tương đương với `np.dot(x_linalg, y_linalg)`:"
   ]
  },
  {
   "cell_type": "code",
   "execution_count": null,
   "id": "99b58847",
   "metadata": {},
   "outputs": [],
   "source": [
    "np.dot(x_linalg, y_linalg)"
   ]
  },
  {
   "cell_type": "markdown",
   "id": "c215c091",
   "metadata": {},
   "source": [
    "Một phép nhân ma trận giữa một mảng ahi chiều và một mảng một chiều có kích thước phù hợp sẽ dẫn đến một mảng một chiều:"
   ]
  },
  {
   "cell_type": "code",
   "execution_count": null,
   "id": "187812a2",
   "metadata": {},
   "outputs": [],
   "source": [
    "np.dot(x_linalg, np.ones(3))"
   ]
  },
  {
   "cell_type": "markdown",
   "id": "3cf45af5",
   "metadata": {},
   "source": [
    "Toán tử `@` cũng có thể được sử dụng như một toán tử nhân ma trận:"
   ]
  },
  {
   "cell_type": "code",
   "execution_count": null,
   "id": "fa84cdcd",
   "metadata": {},
   "outputs": [],
   "source": [
    "x_linalg @ np.ones(3)"
   ]
  },
  {
   "cell_type": "markdown",
   "id": "eff915a9",
   "metadata": {},
   "source": [
    "Thư viện con `numpy.linalg` có một tập hợp chuẩn các phép phân tích ma trận và những phép toán thường dùng như như nghịch đảo và định thức."
   ]
  },
  {
   "cell_type": "code",
   "execution_count": 36,
   "id": "dc7265a0",
   "metadata": {},
   "outputs": [
    {
     "data": {
      "text/plain": [
       "array([[13.8207132 ,  2.82454621,  5.18432395, -1.04799322,  3.56055482],\n",
       "       [ 2.82454621,  1.04015628,  1.33922863, -0.13589287,  1.1953729 ],\n",
       "       [ 5.18432395,  1.33922863,  2.25203873, -0.35134988,  1.76006171],\n",
       "       [-1.04799322, -0.13589287, -0.35134988,  0.24614031, -0.13208114],\n",
       "       [ 3.56055482,  1.1953729 ,  1.76006171, -0.13208114,  1.9306511 ]])"
      ]
     },
     "execution_count": 36,
     "metadata": {},
     "output_type": "execute_result"
    }
   ],
   "source": [
    "from numpy.linalg import inv, qr\n",
    "X_inv = np.random.standard_normal((5, 5))\n",
    "mat_inv = X_inv.T @ X_inv # .T là một bí danh cho transpose\n",
    "inv(mat_inv)"
   ]
  },
  {
   "cell_type": "code",
   "execution_count": null,
   "id": "7eaa4c97",
   "metadata": {},
   "outputs": [],
   "source": [
    "mat_inv @ inv(mat_inv)"
   ]
  },
  {
   "cell_type": "markdown",
   "id": "a3987ee5",
   "metadata": {},
   "source": [
    "Hàm `inv` tính toán nghịch đảo của một ma trận vuông. Phép nhân `mat_inv @ inv(mat_inv)` sẽ tạo ra ma trận đơn vị hoặc một ma trận rất gần với ma trận đơn vị nếu phép tính toán nghịch đảo là gần đúng.\n",
    "\n",
    "Hàm `qr` tính toán phân rã của một ma trận:"
   ]
  },
  {
   "cell_type": "code",
   "execution_count": 37,
   "id": "549fb07e",
   "metadata": {},
   "outputs": [
    {
     "data": {
      "text/plain": [
       "array([[-2.50044755, -3.83375318, 10.68482954,  0.21047701, -2.83390096],\n",
       "       [ 0.        , -5.2601914 ,  2.61651598,  2.73324026,  1.20878842],\n",
       "       [ 0.        ,  0.        , -3.25844996, -6.44064825,  2.79676436],\n",
       "       [ 0.        ,  0.        ,  0.        , -2.13919745, -0.49012504],\n",
       "       [ 0.        ,  0.        ,  0.        ,  0.        ,  0.21848261]])"
      ]
     },
     "execution_count": 37,
     "metadata": {},
     "output_type": "execute_result"
    }
   ],
   "source": [
    "q, r = qr(mat_inv)\n",
    "r"
   ]
  },
  {
   "cell_type": "markdown",
   "id": "f38f016d",
   "metadata": {},
   "source": [
    "Bảng ... liệt kê một số các hàm đại số tuyến tính thường được sử dụng. Bạn đọc có thể tham khảo tài liệu của `numpy.linalg` để biết thêm chi tiết.\n",
    "\n",
    "**Bảng ... các hàm `numpy.linalg` thường được sử dụng**\n",
    "\n",
    "| Hàm | Mô tả |\n",
    "|---|---|\n",
    "| `diag` | Trả về các phần tử đường chéo (hoặc ngoài đường chéo) của một mảng vuông dưới dạng một mảng một chiều, hoặc chuyển đổi một mảng một chiều thành một ma trận vuông với các phần tử đó trên đường chéo, các phần tử khác bằng không. |\n",
    "| `dot` | Nhân ma trận. |\n",
    "| `trace` | Tính tổng các phần tử đường chéo. |\n",
    "| `det` | Tính định thức ma trận. |\n",
    "| `eig` | Tính các giá trị riêng (eigenvalues) và các vector riêng (eigenvectors) của một ma trận vuông. |\n",
    "| `inv` | Tính nghịch đảo của một ma trận vuông. |\n",
    "| `pinv` | Tính nghịch đảo giả Moore-Penrose của một ma trận. |\n",
    "| `qr` | Tính phân rã QR. |\n",
    "| `svd` | Tính phân rã giá trị suy biến (Singular Value Decomposition - SVD). |\n",
    "| `solve` | Giải hệ phương trình tuyến tính Ax = b cho x, trong đó A là một ma trận vuông. |\n",
    "| `lstsq` | Tính nghiệm bình phương tối thiểu theo phương pháp bình phương tối thiểu cho Ax = b. |"
   ]
  },
  {
   "cell_type": "code",
   "execution_count": null,
   "id": "23362fab",
   "metadata": {},
   "outputs": [],
   "source": [
    "samples_rng = np.random.standard_normal(size=(4, 4))\n",
    "samples_rng"
   ]
  },
  {
   "cell_type": "markdown",
   "id": "b6d57714",
   "metadata": {},
   "source": [
    "Mô-đun `random` tích hợp sẵn của Python, ngược lại, chỉ lấy mẫu một giá trị tại một thời điểm. Như bạn có thể thấy từ phép đo benchmark này, `numpy.random` nhanh hơn nhiều để tạo ra số lượng lớn các số ngẫu nhiên:"
   ]
  },
  {
   "cell_type": "code",
   "execution_count": null,
   "id": "369fa9e5",
   "metadata": {},
   "outputs": [],
   "source": [
    "from random import normalvariate\n",
    "N = 1_000_000\n",
    "# %timeit samples = [normalvariate(0, 1) for _ in range(N)]\n",
    "# %timeit np.random.standard_normal(N)\n",
    "\n",
    "# Chạy các lệnh trên trong Jupyter Notebook / IPython để thấy kết quả timeit\n",
    "# Ví dụ:\n",
    "t0 = time.time()\n",
    "samples_py_rng = [normalvariate(0, 1) for _ in range(N)]\n",
    "t1 = time.time()\n",
    "print(f\"Python random: {t1 - t0:.4f} s\")\n",
    "\n",
    "t0 = time.time()\n",
    "samples_np_rng = np.random.standard_normal(N)\n",
    "t1 = time.time()\n",
    "print(f\"NumPy random: {t1 - t0:.4f} s\")"
   ]
  },
  {
   "cell_type": "markdown",
   "id": "7f7febe5",
   "metadata": {},
   "source": [
    "Chúng ta nói rằng những con số này là *giả ngẫu nhiên* (pseudorandom) vì chúng được tạo ra bởi một thuật toán với hành vi xác định dựa trên *mầm* (seed) của trình tạo số ngẫu nhiên. Bạn có thể thay đổi mầm sinh số ngẫu nhiên của NumPy bằng `numpy.random.seed` (cách cũ) hoặc sử dụng `numpy.random.default_rng` (cách mới được khuyến nghị):"
   ]
  },
  {
   "cell_type": "code",
   "execution_count": null,
   "id": "a54d77a6",
   "metadata": {},
   "outputs": [],
   "source": [
    "rng = np.random.default_rng(seed=12345)\n",
    "data_rng = rng.standard_normal((2,3))\n",
    "data_rng"
   ]
  },
  {
   "cell_type": "markdown",
   "id": "0705a9a0",
   "metadata": {},
   "source": [
    "Trình tạo số ngẫu nhiên (RNG) trong `numpy.random` là một đối tượng lưu trữ trạng thái bên trong. Khi bạn gọi các hàm như `rng.standard_normal`, trình tạo này sẽ nâng cao trạng thái của nó. Bạn có thể lấy một phiên bản trình tạo riêng biệt với các phiên bản khác trong mã của mình:"
   ]
  },
  {
   "cell_type": "code",
   "execution_count": null,
   "id": "a23d1843",
   "metadata": {},
   "outputs": [],
   "source": [
    "rng2 = np.random.default_rng(seed=12345)\n",
    "data2_rng = rng2.standard_normal((2,3))\n",
    "data2_rng"
   ]
  },
  {
   "cell_type": "markdown",
   "id": "4c280456",
   "metadata": {},
   "source": [
    "Như bạn có thể thấy, `data_rng` và `data2_rng` là giống hệt nhau. Các hàm dữ liệu trong `numpy.random` (ví dụ, `standard_normal`, `uniform`, `randn`) sử dụng một trình tạo ngẫu nhiên toàn cục, được tạo ngầm. Để có khả năng tái tạo tốt hơn trên các phiên bản NumPy, tôi khuyên bạn nên sử dụng một thể hiện của `numpy.random.Generator`, được tạo bằng `numpy.random.default_rng`.\n",
    "\n",
    "Xem Bảng 4.8 để biết danh sách một phần các hàm có sẵn trong `numpy.random`. Tôi sẽ quay lại các hàm này trong các ví dụ sau của cuốn sách.\n",
    "\n",
    "**Bảng ... một số hàm `numpy.random`**\n",
    "\n",
    "| Hàm | Mô tả |\n",
    "|---|---|\n",
    "| `seed` | Gieo mầm cho trình tạo số ngẫu nhiên. Không được sử dụng với `default_rng`. |\n",
    "| `permutation` | Trả về một hoán vị ngẫu nhiên của một chuỗi, hoặc trả về một phạm vi đã hoán vị. |\n",
    "| `shuffle` | Hoán vị ngẫu nhiên một chuỗi tại chỗ. |\n",
    "| `uniform` | Rút các mẫu từ một phân phối đều. |\n",
    "| `integers` | Rút các số nguyên ngẫu nhiên từ một phạm vi cho trước. |\n",
    "| `standard_normal` | Rút các mẫu từ một phân phối chuẩn với trung bình 0 và độ lệch chuẩn 1 (dạng ma trận). |\n",
    "| `binomial` | Rút các mẫu từ một phân phối nhị thức. |\n",
    "| `normal` | Rút các mẫu từ một phân phối chuẩn (Gaussian). |\n",
    "| `beta` | Rút các mẫu từ một phân phối beta. |\n",
    "| `chisquare` | Rút các mẫu từ một phân phối chi bình phương. |\n",
    "| `gamma` | Rút các mẫu từ một phân phối gamma. |\n",
    "| `poisson` | Rút các mẫu từ một phân phối Poisson. |\n",
    "| `rand` | Rút các mẫu từ một phân phối đều [0, 1). |\n",
    "| `randn` | Rút các mẫu từ một phân phối \"chuẩn\" bình thường (trung bình 0, độ lệch chuẩn 1). |"
   ]
  },
  {
   "cell_type": "markdown",
   "id": "1b34ce1c",
   "metadata": {},
   "source": [
    "Mặc dù nhiều tính năng của Numpy được sử dụng trong pandas và các thư viện khác, việc hiểu rõ hơn về các mảng NumPy và tính toán véc-tơ sẽ giúp bạn đọc sử dụng các công cụ như pandas hiệu quả hơn. Các `ndarray` cung cấp một đối tượng lưu trữ dữ liệu mạnh mẽ, linh hoạt và hiệu suất cao, có thể dễ dàng định hình lại và xử lý bằng nhiều loại thuật toán. Khả năng thực hiện các phép toán toán học phức tạp trên toàn bộ khối dữ liệu mà không cần viết vòng lặp `for` làm cho NumPy trở thành một thành phần trung tâm trong hệ sinh thái tính toán khoa học của Python.\n",
    "\n",
    "Trong chương tiếp theo, chúng ta sẽ tìm hiểu sâu hơn về pandas, thư viện cho phép chúng ta sẽ áp dụng nhiều khái niệm này vào các tình huống phân tích dữ liệu thực tế hơn."
   ]
  }
 ],
 "metadata": {
  "kernelspec": {
   "display_name": "Python 3 (ipykernel)",
   "language": "python",
   "name": "python3"
  },
  "language_info": {
   "codemirror_mode": {
    "name": "ipython",
    "version": 3
   },
   "file_extension": ".py",
   "mimetype": "text/x-python",
   "name": "python",
   "nbconvert_exporter": "python",
   "pygments_lexer": "ipython3",
   "version": "3.13.2"
  }
 },
 "nbformat": 4,
 "nbformat_minor": 5
}
